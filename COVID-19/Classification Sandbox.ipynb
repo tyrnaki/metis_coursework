{
 "cells": [
  {
   "cell_type": "code",
   "execution_count": 1,
   "id": "f0aa9306",
   "metadata": {},
   "outputs": [],
   "source": [
    "import pandas as pd\n",
    "import numpy as np\n",
    "import matplotlib.pyplot as plt\n",
    "import seaborn as sns\n",
    "\n",
    "\n",
    "from sklearn.neighbors import KNeighborsClassifier\n",
    "from sklearn.linear_model import LogisticRegression\n",
    "from sklearn.model_selection import train_test_split\n",
    "from sklearn.metrics import precision_score, recall_score, accuracy_score, roc_auc_score, f1_score\n",
    "from sklearn.metrics import confusion_matrix\n",
    "from sklearn.preprocessing import StandardScaler\n",
    "\n",
    "from sklearn.tree import DecisionTreeClassifier\n",
    "from sklearn.ensemble import RandomForestClassifier\n",
    "from sklearn.linear_model import LogisticRegression\n",
    "\n",
    "from sklearn.utils import resample\n",
    "\n",
    "from sklearn.feature_selection import SelectKBest\n",
    "from sklearn.feature_selection import chi2\n",
    "from sklearn.metrics import roc_auc_score, roc_curve\n",
    "\n",
    "import imblearn.over_sampling\n",
    "\n"
   ]
  },
  {
   "cell_type": "code",
   "execution_count": 2,
   "id": "7ae6ed55",
   "metadata": {},
   "outputs": [],
   "source": [
    "df_behavior = pd.read_csv('envior-USA.csv')\n",
    "df_health = pd.read_csv('health-USA.csv')\n",
    "df_big2 = pd.read_csv('USA-data-categorical.csv')\n",
    "df_big = pd.read_csv('compact-USA.csv')\n"
   ]
  },
  {
   "cell_type": "code",
   "execution_count": 3,
   "id": "179ed379",
   "metadata": {},
   "outputs": [],
   "source": [
    "df_big = pd.get_dummies(df_big, columns=['household_size2'])"
   ]
  },
  {
   "cell_type": "code",
   "execution_count": 4,
   "id": "042c6dd5",
   "metadata": {},
   "outputs": [
    {
     "name": "stdout",
     "output_type": "stream",
     "text": [
      "['weight', 'age', 'COVID-19 Status_Yes, and I tested positive', 'Contact w/ COVID_Yes', 'Travel_Yes', 'Facemask Use_Not at all', 'Soap Use_Not at all', 'Avoided shops_Not at all', 'Avoided public transport?_Not at all', 'Avoided working from home?_Not at all', 'gender_Female', 'gender_Male', 'employment_status_Full time employment', 'employment_status_Full time student', 'employment_status_Not working', 'employment_status_Other', 'employment_status_Part time employment', 'employment_status_Retired', 'guests_Not at all', 'small_events_Not at all', 'medium_events_Not at all', 'large_events_Not at all', 'employment_status_Unemployed', 'Preexisting Condition Score', 'events_score', 'household_size2_1', 'household_size2_2', 'household_size2_3', 'household_size2_4', 'household_size2_5', 'household_size2_6', 'household_size2_7']\n"
     ]
    }
   ],
   "source": [
    "my_list = df_big.columns.values.tolist()\n",
    "\n",
    "print (my_list)"
   ]
  },
  {
   "cell_type": "code",
   "execution_count": 113,
   "id": "dc1dd967",
   "metadata": {},
   "outputs": [],
   "source": [
    "df_big = df_big.drop(['guests_Not at all', 'small_events_Not at all', 'medium_events_Not at all', 'large_events_Not at all'], axis=1)"
   ]
  },
  {
   "cell_type": "code",
   "execution_count": 5,
   "id": "ee8e0f08",
   "metadata": {},
   "outputs": [],
   "source": [
    "X = df_big.drop(['COVID-19 Status_Yes, and I tested positive'], axis=1)\n",
    "y = df_big['COVID-19 Status_Yes, and I tested positive']"
   ]
  },
  {
   "cell_type": "code",
   "execution_count": 6,
   "id": "b42991ac",
   "metadata": {},
   "outputs": [],
   "source": [
    "counts = y.value_counts()\n"
   ]
  },
  {
   "cell_type": "code",
   "execution_count": 7,
   "id": "fcc929b5",
   "metadata": {},
   "outputs": [
    {
     "data": {
      "text/plain": [
       "0    31844\n",
       "1      216\n",
       "Name: COVID-19 Status_Yes, and I tested positive, dtype: int64"
      ]
     },
     "execution_count": 7,
     "metadata": {},
     "output_type": "execute_result"
    }
   ],
   "source": [
    "counts"
   ]
  },
  {
   "cell_type": "code",
   "execution_count": 8,
   "id": "12fbf557",
   "metadata": {},
   "outputs": [
    {
     "data": {
      "text/plain": [
       "Text(0, 0.5, 'Number of Cases')"
      ]
     },
     "execution_count": 8,
     "metadata": {},
     "output_type": "execute_result"
    },
    {
     "data": {
      "image/png": "[encoded data removed]",
      "text/plain": [
       "<Figure size 360x360 with 1 Axes>"
      ]
     },
     "metadata": {
      "needs_background": "light"
     },
     "output_type": "display_data"
    }
   ],
   "source": [
    "counts.plot.bar(figsize=(5, 5))\n",
    "plt.title('Data spread: Negative versus positive COVID-19 test results')\n",
    "plt.xlabel('categories')\n",
    "plt.ylabel('Number of Cases')"
   ]
  },
  {
   "cell_type": "code",
   "execution_count": 9,
   "id": "9a6d6046",
   "metadata": {},
   "outputs": [
    {
     "name": "stdout",
     "output_type": "stream",
     "text": [
      "                                     Specs        Score\n",
      "2                     Contact w/ COVID_Yes  7544.400908\n",
      "3                               Travel_Yes  5443.807602\n",
      "1                                      age  1076.640111\n",
      "23                            events_score    86.301873\n",
      "22             Preexisting Condition Score    53.115078\n",
      "8    Avoided working from home?_Not at all    31.564608\n",
      "4                  Facemask Use_Not at all    30.931239\n",
      "18                 small_events_Not at all    29.308516\n",
      "16               employment_status_Retired    25.326829\n",
      "11  employment_status_Full time employment    25.287527\n",
      "19                medium_events_Not at all    22.723850\n",
      "7     Avoided public transport?_Not at all    21.810898\n",
      "10                             gender_Male    20.119440\n",
      "30                       household_size2_7    19.812879\n",
      "17                       guests_Not at all    18.624629\n",
      "6                 Avoided shops_Not at all    18.560875\n",
      "9                            gender_Female    18.236345\n",
      "27                       household_size2_4    16.771413\n",
      "20                 large_events_Not at all    15.991076\n",
      "0                                   weight    12.920118\n",
      "25                       household_size2_2    10.683156\n",
      "29                       household_size2_6    10.014098\n",
      "13           employment_status_Not working     9.211869\n",
      "26                       household_size2_3     1.606442\n",
      "24                       household_size2_1     0.930088\n"
     ]
    }
   ],
   "source": [
    "#apply SelectKBest class to extract top 10 best features\n",
    "bestfeatures = SelectKBest(score_func=chi2, k=10)\n",
    "fit = bestfeatures.fit(X,y)\n",
    "dfscores = pd.DataFrame(fit.scores_)\n",
    "dfcolumns = pd.DataFrame(X.columns)\n",
    "#concat two dataframes for better visualization \n",
    "featureScores = pd.concat([dfcolumns,dfscores],axis=1)\n",
    "featureScores.columns = ['Specs','Score']  #naming the dataframe columns\n",
    "print(featureScores.nlargest(25,'Score'))  #print 10 best features"
   ]
  },
  {
   "cell_type": "code",
   "execution_count": null,
   "id": "b92cfdda",
   "metadata": {},
   "outputs": [],
   "source": [
    "X"
   ]
  },
  {
   "cell_type": "code",
   "execution_count": 10,
   "id": "b5df93ae",
   "metadata": {},
   "outputs": [],
   "source": [
    "X_train, X_test, y_train, y_test = train_test_split(X, y, \n",
    "                                                    test_size = 0.2, random_state=42)"
   ]
  },
  {
   "cell_type": "code",
   "execution_count": null,
   "id": "1d58dbbb",
   "metadata": {},
   "outputs": [],
   "source": [
    "smote = imblearn.over_sampling.SMOTE(random_state = 42)\n",
    "    \n",
    "X_tr_smote, y_tr_smote = smote.fit_resample(X_train, y_train)\n",
    "\n",
    "lr_smote = LogisticRegression(solver='liblinear') \n",
    "lr_smote.fit(X_tr_smote, y_tr_smote)\n",
    "logit_pred = lr_smote.predict(X_test)\n",
    "\n",
    "print('Logistic Regression on SMOTE Train Data; Test F1: %.3f, Test AUC: %.3f' % \\\n",
    "      (f1_score(y_test, lr_smote.predict(X_test)), roc_auc_score(y_test, lr_smote.predict_proba(X_test)[:,1])))\n",
    "print(\"Recall Score: {:6.2f}%\".format(100*recall_score(y_test, lr_smote.predict(X_test))))\n",
    "print(\"logit confusion matrix: \\n\\n\", confusion_matrix(y_test, lr_smote.predict(X_test)))\n"
   ]
  },
  {
   "cell_type": "code",
   "execution_count": 11,
   "id": "62c8a0f1",
   "metadata": {},
   "outputs": [],
   "source": [
    "# concatenate our training data back together\n",
    "X = pd.concat([X_train, y_train], axis=1)"
   ]
  },
  {
   "cell_type": "code",
   "execution_count": 12,
   "id": "221679e3",
   "metadata": {},
   "outputs": [],
   "source": [
    "# separate minority and majority classes\n",
    "not_COVID = X[X['COVID-19 Status_Yes, and I tested positive']==0]\n",
    "COVID = X[X['COVID-19 Status_Yes, and I tested positive']==1]"
   ]
  },
  {
   "cell_type": "code",
   "execution_count": 13,
   "id": "ae4f2b49",
   "metadata": {},
   "outputs": [],
   "source": [
    "# upsample minority\n",
    "fraud_upsampled = resample(COVID,\n",
    "                          replace=True, # sample with replacement\n",
    "                          n_samples=len(not_COVID), # match number in majority class\n",
    "                          random_state=27) # reproducible results"
   ]
  },
  {
   "cell_type": "code",
   "execution_count": 14,
   "id": "fd64bf01",
   "metadata": {},
   "outputs": [],
   "source": [
    "# combine majority and upsampled minority\n",
    "upsampled = pd.concat([not_COVID, fraud_upsampled])"
   ]
  },
  {
   "cell_type": "code",
   "execution_count": 15,
   "id": "c3f6af56",
   "metadata": {},
   "outputs": [
    {
     "data": {
      "text/plain": [
       "0    25473\n",
       "1    25473\n",
       "Name: COVID-19 Status_Yes, and I tested positive, dtype: int64"
      ]
     },
     "execution_count": 15,
     "metadata": {},
     "output_type": "execute_result"
    }
   ],
   "source": [
    "# check new class counts\n",
    "upsampled['COVID-19 Status_Yes, and I tested positive'].value_counts()\n"
   ]
  },
  {
   "cell_type": "code",
   "execution_count": 16,
   "id": "250fb3a2",
   "metadata": {},
   "outputs": [],
   "source": [
    "# trying logistic regression again with the balanced dataset\n",
    "y_train = upsampled['COVID-19 Status_Yes, and I tested positive']\n",
    "X_train = upsampled.drop('COVID-19 Status_Yes, and I tested positive', axis=1)"
   ]
  },
  {
   "cell_type": "code",
   "execution_count": 17,
   "id": "2a24b5a8",
   "metadata": {},
   "outputs": [
    {
     "name": "stdout",
     "output_type": "stream",
     "text": [
      "COVID-19 Data Set Results w/ oversampling\n",
      "\n",
      "The score for kNN is\n",
      "Training:  99.65%\n",
      "Test set:  98.57%\n",
      "kNN confusion matrix:\n",
      "\n",
      " [[6311   60]\n",
      " [  32    9]]\n",
      "F1 Score:  16.36%\n",
      "Recall Score:  21.95%\n",
      "ROC AUC score = 0.6520035526834629\n"
     ]
    },
    {
     "name": "stderr",
     "output_type": "stream",
     "text": [
      "/opt/anaconda3/lib/python3.8/site-packages/sklearn/linear_model/_logistic.py:763: ConvergenceWarning: lbfgs failed to converge (status=1):\n",
      "STOP: TOTAL NO. of ITERATIONS REACHED LIMIT.\n",
      "\n",
      "Increase the number of iterations (max_iter) or scale the data as shown in:\n",
      "    https://scikit-learn.org/stable/modules/preprocessing.html\n",
      "Please also refer to the documentation for alternative solver options:\n",
      "    https://scikit-learn.org/stable/modules/linear_model.html#logistic-regression\n",
      "  n_iter_i = _check_optimize_result(\n"
     ]
    },
    {
     "name": "stdout",
     "output_type": "stream",
     "text": [
      "\n",
      "\n",
      "The score for logistic regression is\n",
      "Training:  88.08%\n",
      "Test set:  91.70%\n",
      "logit confusion matrix: \n",
      "\n",
      " [[5850  521]\n",
      " [  11   30]]\n",
      "F1 Score:  10.14%\n",
      "Recall Score:  73.17%\n",
      "ROC AUC score =  0.903909100305883\n",
      "\n",
      "\n",
      "The score for decision tree regression is\n",
      "Training: 100.00%\n",
      "Test set:  99.13%\n",
      "decision tree matrix: \n",
      "\n",
      " [[6347   24]\n",
      " [  32    9]]\n",
      "F1 Score:  24.32%\n",
      "Recall Score:  21.95%\n",
      "ROC AUC score =  0.6078897902461995\n",
      "\n",
      "\n",
      "The score for random forest regression is\n",
      "Training: 100.00%\n",
      "Test set:  99.39%\n",
      "random forest matrix: \n",
      "\n",
      " [[6359   12]\n",
      " [  27   14]]\n",
      "F1 Score:  41.79%\n",
      "Recall Score:  34.15%\n",
      "ROC AUC score =  0.861282641236395\n"
     ]
    }
   ],
   "source": [
    "print(\"COVID-19 Data Set Results w/ oversampling\")\n",
    "\n",
    "knn = KNeighborsClassifier(n_neighbors=5)\n",
    "knn.fit(X_train, y_train)\n",
    "print(\"\\nThe score for kNN is\")\n",
    "print(\"Training: {:6.2f}%\".format(100*knn.score(X_train, y_train)))\n",
    "print(\"Test set: {:6.2f}%\".format(100*knn.score(X_test, y_test)))\n",
    "print(\"kNN confusion matrix:\\n\\n\", confusion_matrix(y_test, knn.predict(X_test)))\n",
    "knn_pred = knn.predict(X_test)\n",
    "print(\"F1 Score: {:6.2f}%\".format(100*f1_score(y_test, knn_pred)))\n",
    "print(\"Recall Score: {:6.2f}%\".format(100*recall_score(y_test, knn_pred)))\n",
    "print(\"ROC AUC score =\", roc_auc_score(y_test, knn.predict_proba(X_test)[:,1]))\n",
    "\n",
    "logit = LogisticRegression(C = 1)\n",
    "logit.fit(X_train, y_train)\n",
    "print(\"\\n\\nThe score for logistic regression is\")\n",
    "print(\"Training: {:6.2f}%\".format(100*logit.score(X_train, y_train)))\n",
    "print(\"Test set: {:6.2f}%\".format(100*logit.score(X_test, y_test)))\n",
    "print(\"logit confusion matrix: \\n\\n\", confusion_matrix(y_test, logit.predict(X_test)))\n",
    "logit_pred = logit.predict(X_test)\n",
    "print(\"F1 Score: {:6.2f}%\".format(100*f1_score(y_test, logit_pred)))\n",
    "print(\"Recall Score: {:6.2f}%\".format(100*recall_score(y_test, logit_pred)))\n",
    "print(\"ROC AUC score = \", roc_auc_score(y_test, logit.predict_proba(X_test)[:,1]))\n",
    "\n",
    "decisiontree = DecisionTreeClassifier()\n",
    "decisiontree.fit(X_train, y_train)\n",
    "print(\"\\n\\nThe score for decision tree regression is\")\n",
    "print(\"Training: {:6.2f}%\".format(100*decisiontree.score(X_train, y_train)))\n",
    "print(\"Test set: {:6.2f}%\".format(100*decisiontree.score(X_test, y_test)))\n",
    "print(\"decision tree matrix: \\n\\n\", confusion_matrix(y_test, decisiontree.predict(X_test)))\n",
    "decisiontree_pred = decisiontree.predict(X_test)\n",
    "print(\"F1 Score: {:6.2f}%\".format(100*f1_score(y_test, decisiontree_pred)))\n",
    "print(\"Recall Score: {:6.2f}%\".format(100*recall_score(y_test, decisiontree_pred)))\n",
    "print(\"ROC AUC score = \", roc_auc_score(y_test, decisiontree.predict_proba(X_test)[:,1]))\n",
    "\n",
    "\n",
    "randomforest = RandomForestClassifier(n_estimators=100)\n",
    "randomforest.fit(X_train, y_train)\n",
    "print(\"\\n\\nThe score for random forest regression is\")\n",
    "print(\"Training: {:6.2f}%\".format(100*randomforest.score(X_train, y_train)))\n",
    "print(\"Test set: {:6.2f}%\".format(100*randomforest.score(X_test, y_test)))\n",
    "print(\"random forest matrix: \\n\\n\", confusion_matrix(y_test, randomforest.predict(X_test)))\n",
    "randomforest_pred = randomforest.predict(X_test)\n",
    "print(\"F1 Score: {:6.2f}%\".format(100*f1_score(y_test, randomforest_pred)))\n",
    "print(\"Recall Score: {:6.2f}%\".format(100*recall_score(y_test, randomforest_pred)))\n",
    "print(\"ROC AUC score = \", roc_auc_score(y_test, randomforest.predict_proba(X_test)[:,1]))\n"
   ]
  },
  {
   "cell_type": "raw",
   "id": "6afff100",
   "metadata": {},
   "source": [
    "COVID-19 Data Set Results w/ oversampling\n",
    "\n",
    "The score for kNN is\n",
    "Training:  99.73%\n",
    "Test set:  98.79%\n",
    "kNN confusion matrix:\n",
    "\n",
    " [[6693   48]\n",
    " [  34   13]]\n",
    "F1 Score:  24.07%\n",
    "Recall Score:  27.66%\n",
    "ROC AUC score = 0.6442743200547933\n",
    "\n",
    "The score for logistic regression is\n",
    "Training:  89.52%\n",
    "Test set:  93.08%\n",
    "logit confusion matrix: \n",
    "\n",
    " [[6281  460]\n",
    " [  10   37]]\n",
    "F1 Score:  13.60%\n",
    "Recall Score:  78.72%\n",
    "ROC AUC score =  0.9284104574420741\n",
    "\n",
    "\n",
    "The score for decision tree regression is\n",
    "Training: 100.00%\n",
    "Test set:  99.03%\n",
    "decision tree matrix: \n",
    "\n",
    " [[6708   33]\n",
    " [  33   14]]\n",
    "F1 Score:  29.79%\n",
    "Recall Score:  29.79%\n",
    "ROC AUC score =  0.6464884621575813\n",
    "\n",
    "\n",
    "The score for random forest regression is\n",
    "Training: 100.00%\n",
    "Test set:  99.28%\n",
    "random forest matrix: \n",
    "\n",
    " [[6723   18]\n",
    " [  31   16]]\n",
    "F1 Score:  39.51%\n",
    "Recall Score:  34.04%\n",
    "ROC AUC score =  0.876841304560533"
   ]
  },
  {
   "cell_type": "raw",
   "id": "9724af5e",
   "metadata": {},
   "source": [
    "COVID-19 Health Data Set Results w/ oversampling\n",
    "\n",
    "The score for kNN is\n",
    "Training:  99.69%\n",
    "Test set:  98.56%\n",
    "kNN confusion matrix:\n",
    "\n",
    " [[6677   64]\n",
    " [  34   13]]\n",
    "F1 Score:  20.97%\n",
    "Recall Score:  27.66%\n",
    "ROC AUC score = 0.6953353091750387\n",
    "\n",
    "The score for logistic regression is\n",
    "Training:  87.08%\n",
    "Test set:  94.39%\n",
    "logit confusion matrix: \n",
    "\n",
    " [[6372  369]\n",
    " [  12   35]]\n",
    "F1 Score:  15.52%\n",
    "Recall Score:  74.47%\n",
    "ROC AUC score =  0.9086788689095311\n",
    "\n",
    "\n",
    "The score for decision tree regression is\n",
    "Training:  99.98%\n",
    "Test set:  98.98%\n",
    "decision tree matrix: \n",
    "\n",
    " [[6703   38]\n",
    " [  31   16]]\n",
    "F1 Score:  31.68%\n",
    "Recall Score:  34.04%\n",
    "ROC AUC score =  0.667394193045416\n",
    "\n",
    "\n",
    "The score for random forest regression is\n",
    "Training:  99.98%\n",
    "Test set:  99.20%\n",
    "random forest matrix: \n",
    "\n",
    " [[6717   24]\n",
    " [  30   17]]\n",
    "F1 Score:  38.64%\n",
    "Recall Score:  36.17%\n",
    "ROC AUC score =  0.8696686204142956"
   ]
  },
  {
   "cell_type": "raw",
   "id": "590525b0",
   "metadata": {},
   "source": [
    "# COVID-19 Behavior Data Set Results w/ oversampling\n",
    "\n",
    "The score for kNN is\n",
    "Training:  90.02%\n",
    "Test set:  90.07%\n",
    "kNN confusion matrix:\n",
    "\n",
    " [[6080  661]\n",
    " [  13   34]]\n",
    "F1 Score:   9.16%\n",
    "Recall Score:  72.34%\n",
    "ROC AUC score = 0.8250717268414622\n",
    "\n",
    "\n",
    "The score for logistic regression is\n",
    "Training:  86.27%\n",
    "Test set:  96.35%\n",
    "logit confusion matrix: \n",
    "\n",
    " [[6504  237]\n",
    " [  11   36]]\n",
    "F1 Score:  22.50%\n",
    "Recall Score:  76.60%\n",
    "ROC AUC score =  0.9199894579691756\n",
    "\n",
    "\n",
    "The score for decision tree regression is\n",
    "Training:  90.31%\n",
    "Test set:  92.32%\n",
    "decision tree matrix: \n",
    "\n",
    " [[6239  502]\n",
    " [  19   28]]\n",
    "F1 Score:   9.71%\n",
    "Recall Score:  59.57%\n",
    "ROC AUC score =  0.7628484946043109\n",
    "\n",
    "\n",
    "The score for random forest regression is\n",
    "Training:  90.31%\n",
    "Test set:  92.38%\n",
    "random forest matrix: \n",
    "\n",
    " [[6245  496]\n",
    " [  21   26]]\n",
    "F1 Score:   9.14%\n",
    "Recall Score:  55.32%\n",
    "ROC AUC score =  0.8200326992333354"
   ]
  },
  {
   "cell_type": "code",
   "execution_count": null,
   "id": "d97f05e3",
   "metadata": {},
   "outputs": [],
   "source": [
    "X"
   ]
  },
  {
   "cell_type": "code",
   "execution_count": null,
   "id": "f2dc09f4",
   "metadata": {},
   "outputs": [],
   "source": [
    "import math"
   ]
  },
  {
   "cell_type": "code",
   "execution_count": 18,
   "id": "c71dbf4a",
   "metadata": {},
   "outputs": [],
   "source": [
    "\n",
    "importances = pd.DataFrame(data={\n",
    "    'Attribute': X_train.columns,\n",
    "    'Importance': logit.coef_[0]\n",
    "})\n",
    "importances = importances.sort_values(by='Importance', ascending=False)"
   ]
  },
  {
   "cell_type": "code",
   "execution_count": 19,
   "id": "444b542f",
   "metadata": {},
   "outputs": [],
   "source": [
    "mask = abs(importances['Importance']) > 0.25"
   ]
  },
  {
   "cell_type": "code",
   "execution_count": 20,
   "id": "66bf357a",
   "metadata": {},
   "outputs": [],
   "source": [
    "importances2 = importances[mask]"
   ]
  },
  {
   "cell_type": "code",
   "execution_count": 21,
   "id": "cd94e0f0",
   "metadata": {},
   "outputs": [
    {
     "data": {
      "image/png": "[encoded data removed]",
      "text/plain": [
       "<Figure size 432x288 with 1 Axes>"
      ]
     },
     "metadata": {
      "needs_background": "light"
     },
     "output_type": "display_data"
    }
   ],
   "source": [
    "plt.bar(x=importances2['Attribute'], height=importances2['Importance'], color='#087E8B')\n",
    "plt.title('Feature importances obtained from coefficients', size=20)\n",
    "plt.xticks(rotation='vertical')\n",
    "plt.show()"
   ]
  },
  {
   "cell_type": "code",
   "execution_count": null,
   "id": "fda452ab",
   "metadata": {},
   "outputs": [],
   "source": []
  }
 ],
 "metadata": {
  "kernelspec": {
   "display_name": "Python 3",
   "language": "python",
   "name": "python3"
  },
  "language_info": {
   "codemirror_mode": {
    "name": "ipython",
    "version": 3
   },
   "file_extension": ".py",
   "mimetype": "text/x-python",
   "name": "python",
   "nbconvert_exporter": "python",
   "pygments_lexer": "ipython3",
   "version": "3.8.8"
  }
 },
 "nbformat": 4,
 "nbformat_minor": 5
}
