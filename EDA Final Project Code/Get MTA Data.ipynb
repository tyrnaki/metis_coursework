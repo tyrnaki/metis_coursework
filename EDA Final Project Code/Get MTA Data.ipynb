{
 "cells": [
  {
   "cell_type": "code",
   "execution_count": 1,
   "id": "3201b993",
   "metadata": {},
   "outputs": [],
   "source": [
    "import pandas as pd"
   ]
  },
  {
   "cell_type": "code",
   "execution_count": 2,
   "id": "05a1e64a",
   "metadata": {},
   "outputs": [],
   "source": [
    "def get_data(week_nums):\n",
    "    url = \"http://web.mta.info/developers/data/nyct/turnstile/turnstile_{}.txt\" #url with formatting to fill in the number of the particular week\n",
    "    dfs = []\n",
    "    for week_num in week_nums: #for each week\n",
    "        file_url = url.format(week_num) #format the url so it grabs that week\n",
    "        dfs.append(pd.read_csv(file_url)) #append to our empty list\n",
    "    return pd.concat(dfs) #combine files for each week\n",
    "        \n",
    "week_nums = [210904, 210828, 210821, 210814, 210807, 210731, 210724, 210717, 210710, 210703, 210626, 210619, 210612, 210605]\n",
    "turnstiles_df = get_data(week_nums) #use our function to get a df with all of our data"
   ]
  },
  {
   "cell_type": "code",
   "execution_count": 3,
   "id": "d55af18e",
   "metadata": {},
   "outputs": [],
   "source": [
    "turnstiles_df.to_csv('MTA_Data/mta_data_all.csv', header = False, index = False)\n"
   ]
  },
  {
   "cell_type": "code",
   "execution_count": 4,
   "id": "af9b34ce",
   "metadata": {},
   "outputs": [],
   "source": [
    "from sqlalchemy import create_engine"
   ]
  },
  {
   "cell_type": "code",
   "execution_count": 9,
   "id": "5e376956",
   "metadata": {},
   "outputs": [],
   "source": [
    "engine = create_engine(\"sqlite:///MTA_Data/mta_data2.db\")\n"
   ]
  },
  {
   "cell_type": "code",
   "execution_count": null,
   "id": "876deca0",
   "metadata": {},
   "outputs": [],
   "source": []
  }
 ],
 "metadata": {
  "kernelspec": {
   "display_name": "Python 3",
   "language": "python",
   "name": "python3"
  },
  "language_info": {
   "codemirror_mode": {
    "name": "ipython",
    "version": 3
   },
   "file_extension": ".py",
   "mimetype": "text/x-python",
   "name": "python",
   "nbconvert_exporter": "python",
   "pygments_lexer": "ipython3",
   "version": "3.8.8"
  }
 },
 "nbformat": 4,
 "nbformat_minor": 5
}
