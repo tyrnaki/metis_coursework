{
 "cells": [
  {
   "cell_type": "code",
   "execution_count": 1,
   "id": "bdc50f11",
   "metadata": {},
   "outputs": [],
   "source": [
    "import pandas as pd\n",
    "from sqlalchemy import create_engine"
   ]
  },
  {
   "cell_type": "code",
   "execution_count": 2,
   "id": "c7d4a2da",
   "metadata": {},
   "outputs": [],
   "source": [
    "engine = create_engine(\"sqlite:///MTA_Data/incomes.db\")\n"
   ]
  },
  {
   "cell_type": "code",
   "execution_count": null,
   "id": "15415c00",
   "metadata": {},
   "outputs": [],
   "source": [
    "income_df = pd.read_csv('Median_Incomes.csv', error_bad_lines=False) \n",
    "\n",
    "\n",
    "zipcode_data = income_df[income_df['Location'].str.contains('Zip Code')]\n",
    "\n",
    "zipcode_data['Location'] = zipcode_data['Location'].map(lambda x: x.lstrip('Zip Code'))\n",
    "\n"
   ]
  },
  {
   "cell_type": "code",
   "execution_count": null,
   "id": "138262be",
   "metadata": {},
   "outputs": [],
   "source": [
    "mask = ((income_df['Household Type'] == \"All Households\") & (income_df['TimeFrame'] == 2019))"
   ]
  },
  {
   "cell_type": "code",
   "execution_count": null,
   "id": "926e4ad9",
   "metadata": {},
   "outputs": [],
   "source": [
    "zipcode_data = zipcode_data[mask]"
   ]
  },
  {
   "cell_type": "code",
   "execution_count": null,
   "id": "9ef350b9",
   "metadata": {},
   "outputs": [],
   "source": [
    "zipcode_data['Data'] = zipcode_data['Data'].astype(int)"
   ]
  },
  {
   "cell_type": "code",
   "execution_count": null,
   "id": "0e763df0",
   "metadata": {},
   "outputs": [],
   "source": [
    "\n",
    "zipcode_data.rename(columns = {'Data':'Average Income'}, inplace = True)"
   ]
  },
  {
   "cell_type": "code",
   "execution_count": null,
   "id": "4036b713",
   "metadata": {},
   "outputs": [],
   "source": [
    "zipcode_data.to_csv('zipcode_data.csv')\n"
   ]
  },
  {
   "cell_type": "code",
   "execution_count": null,
   "id": "9fe918cd",
   "metadata": {},
   "outputs": [],
   "source": []
  }
 ],
 "metadata": {
  "kernelspec": {
   "display_name": "Python 3",
   "language": "python",
   "name": "python3"
  },
  "language_info": {
   "codemirror_mode": {
    "name": "ipython",
    "version": 3
   },
   "file_extension": ".py",
   "mimetype": "text/x-python",
   "name": "python",
   "nbconvert_exporter": "python",
   "pygments_lexer": "ipython3",
   "version": "3.8.8"
  }
 },
 "nbformat": 4,
 "nbformat_minor": 5
}
