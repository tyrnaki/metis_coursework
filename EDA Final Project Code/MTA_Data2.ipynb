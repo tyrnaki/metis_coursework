{
 "cells": [
  {
   "cell_type": "code",
   "execution_count": 1,
   "id": "82d6e94e",
   "metadata": {},
   "outputs": [],
   "source": [
    "#DATABASE QUERY AND DATAFRAME CREATION\n",
    "from sqlalchemy import create_engine\n",
    "import pandas as pd\n",
    "import matplotlib.pyplot as plt\n",
    "import numpy as np\n",
    "import difflib\n",
    "engine = create_engine(\"sqlite:///mta.db\")\n",
    "\n"
   ]
  },
  {
   "cell_type": "code",
   "execution_count": 2,
   "id": "a4a23dcf",
   "metadata": {},
   "outputs": [],
   "source": [
    "#I select where the DESC is \"regular\" to control for abnormal readings\n",
    "myQuery = '''SELECT *\n",
    "           FROM mta_data\n",
    "           WHERE DESC == 'REGULAR'\n",
    "           ;'''\n",
    "all_data = pd.read_sql_query(myQuery, engine)"
   ]
  },
  {
   "cell_type": "code",
   "execution_count": 3,
   "id": "26bfd1f5",
   "metadata": {},
   "outputs": [
    {
     "data": {
      "text/html": [
       "<div>\n",
       "<style scoped>\n",
       "    .dataframe tbody tr th:only-of-type {\n",
       "        vertical-align: middle;\n",
       "    }\n",
       "\n",
       "    .dataframe tbody tr th {\n",
       "        vertical-align: top;\n",
       "    }\n",
       "\n",
       "    .dataframe thead th {\n",
       "        text-align: right;\n",
       "    }\n",
       "</style>\n",
       "<table border=\"1\" class=\"dataframe\">\n",
       "  <thead>\n",
       "    <tr style=\"text-align: right;\">\n",
       "      <th></th>\n",
       "      <th>STATION</th>\n",
       "      <th>Count(ENTRIES)</th>\n",
       "    </tr>\n",
       "  </thead>\n",
       "  <tbody>\n",
       "    <tr>\n",
       "      <th>0</th>\n",
       "      <td>MARCY AV</td>\n",
       "      <td>1193</td>\n",
       "    </tr>\n",
       "    <tr>\n",
       "      <th>1</th>\n",
       "      <td>175 ST</td>\n",
       "      <td>1181</td>\n",
       "    </tr>\n",
       "    <tr>\n",
       "      <th>2</th>\n",
       "      <td>QUEENS PLAZA</td>\n",
       "      <td>1176</td>\n",
       "    </tr>\n",
       "    <tr>\n",
       "      <th>3</th>\n",
       "      <td>PELHAM PKWY</td>\n",
       "      <td>1176</td>\n",
       "    </tr>\n",
       "    <tr>\n",
       "      <th>4</th>\n",
       "      <td>72 ST</td>\n",
       "      <td>1176</td>\n",
       "    </tr>\n",
       "    <tr>\n",
       "      <th>...</th>\n",
       "      <td>...</td>\n",
       "      <td>...</td>\n",
       "    </tr>\n",
       "    <tr>\n",
       "      <th>69</th>\n",
       "      <td>PATH NEW WTC</td>\n",
       "      <td>1</td>\n",
       "    </tr>\n",
       "    <tr>\n",
       "      <th>70</th>\n",
       "      <td>NEWARK BM BW</td>\n",
       "      <td>1</td>\n",
       "    </tr>\n",
       "    <tr>\n",
       "      <th>71</th>\n",
       "      <td>COURT SQ</td>\n",
       "      <td>1</td>\n",
       "    </tr>\n",
       "    <tr>\n",
       "      <th>72</th>\n",
       "      <td>CITY / BUS</td>\n",
       "      <td>1</td>\n",
       "    </tr>\n",
       "    <tr>\n",
       "      <th>73</th>\n",
       "      <td>CHRISTOPHER ST</td>\n",
       "      <td>1</td>\n",
       "    </tr>\n",
       "  </tbody>\n",
       "</table>\n",
       "<p>74 rows × 2 columns</p>\n",
       "</div>"
      ],
      "text/plain": [
       "           STATION  Count(ENTRIES)\n",
       "0         MARCY AV            1193\n",
       "1           175 ST            1181\n",
       "2     QUEENS PLAZA            1176\n",
       "3      PELHAM PKWY            1176\n",
       "4            72 ST            1176\n",
       "..             ...             ...\n",
       "69    PATH NEW WTC               1\n",
       "70    NEWARK BM BW               1\n",
       "71        COURT SQ               1\n",
       "72      CITY / BUS               1\n",
       "73  CHRISTOPHER ST               1\n",
       "\n",
       "[74 rows x 2 columns]"
      ]
     },
     "execution_count": 3,
     "metadata": {},
     "output_type": "execute_result"
    }
   ],
   "source": [
    "#this gives me an idea of which stations have the most irregular entries\n",
    "myQuery = '''SELECT STATION, Count(ENTRIES) FROM mta_data \n",
    "             WHERE ENTRIES = '0'\n",
    "             GROUP BY STATION \n",
    "             ORDER BY Count(ENTRIES) DESC\n",
    "             ;'''\n",
    "test=pd.read_sql(myQuery, engine)\n",
    "test"
   ]
  },
  {
   "cell_type": "code",
   "execution_count": 4,
   "id": "c061ecaf",
   "metadata": {},
   "outputs": [],
   "source": [
    "#MAP CREATION \n",
    "from geopy.geocoders import Nominatim\n",
    "from geopy.extra.rate_limiter import RateLimiter\n",
    "geocode = Nominatim(user_agent=\"walter.tyrna@gmail.com\")\n",
    "#RateLimiter controls for API timeout\n",
    "reverse = RateLimiter(geocode.reverse, min_delay_seconds = 1)\n",
    "from geopy.point import Point\n",
    "import folium\n",
    "import geopandas as gpd\n",
    "import fiona\n",
    "\n",
    "#tqdm helps check if a function is running - during coding one function was particularly tricky and it was unclear if it ran\n",
    "from tqdm import tqdm"
   ]
  },
  {
   "cell_type": "code",
   "execution_count": 5,
   "id": "308b109b",
   "metadata": {},
   "outputs": [
    {
     "data": {
      "text/plain": [
       "count    379.000000\n",
       "mean      11.715040\n",
       "std       10.327856\n",
       "min        2.000000\n",
       "25%        5.000000\n",
       "50%        8.000000\n",
       "75%       15.000000\n",
       "max       80.000000\n",
       "Name: SCP, dtype: float64"
      ]
     },
     "execution_count": 5,
     "metadata": {},
     "output_type": "execute_result"
    }
   ],
   "source": [
    "###Defining station size by SCP:\n",
    "#While each turnstile is a combination of CA, UNIT, and SCP, SCP numbers tend to not repeat within station. \n",
    "#As a reuslt they are a good proxy for station size.\n",
    "Station_Size = all_data.groupby(['STATION'])[['SCP']].nunique().sort_values(by='SCP', ascending=False)\n",
    "Station_Size['SCP'].describe()"
   ]
  },
  {
   "cell_type": "code",
   "execution_count": 6,
   "id": "adca9554",
   "metadata": {},
   "outputs": [],
   "source": [
    "# Since the mean is 12 and the std is 10, I define \"medium size\" as between 12 and 2xstd (12-32)\n",
    "mask = Station_Size['SCP'].between(12, 32)\n",
    "Medium_Stations = Station_Size[mask]"
   ]
  },
  {
   "cell_type": "markdown",
   "id": "b1f19ec7",
   "metadata": {},
   "source": [
    "##Turnstile Movement - I first look at both entries and exits, then I combine them as an aggregate dataframe "
   ]
  },
  {
   "cell_type": "code",
   "execution_count": 7,
   "id": "dfca1826",
   "metadata": {},
   "outputs": [],
   "source": [
    "#this sorts daily entries by turnstile + date + station\n",
    "turnstiles_daily_entries = (all_data\n",
    "                        .groupby([\"CA\", \"UNIT\", \"SCP\", \"STATION\", \"DATE\"],as_index=False)\n",
    "                        .ENTRIES.first())\n",
    "turnstiles_daily_exits = (all_data\n",
    "                        .groupby([\"CA\", \"UNIT\", \"SCP\", \"STATION\", \"DATE\"],as_index=False)\n",
    "                        .EXITS.first())"
   ]
  },
  {
   "cell_type": "code",
   "execution_count": 9,
   "id": "d6a8ed9a",
   "metadata": {},
   "outputs": [],
   "source": [
    "#this creates a previous entry column that will be used to determine daily counts later\n",
    "\n",
    "turnstiles_daily_entries[[\"PREV_DATE\", \"PREV_ENTRIES\"]] = (turnstiles_daily_entries\n",
    "                                                       .groupby([\"CA\", \"UNIT\", \"SCP\", \"STATION\"])[[\"DATE\", \"ENTRIES\"]]\n",
    "                                                       .shift(1))\n",
    "turnstiles_daily_exits[[\"PREV_DATE\", \"PREV_EXITS\"]] = (turnstiles_daily_exits\n",
    "                                                       .groupby([\"CA\", \"UNIT\", \"SCP\", \"STATION\"])[[\"DATE\", \"EXITS\"]]\n",
    "                                                       .shift(1))"
   ]
  },
  {
   "cell_type": "code",
   "execution_count": 10,
   "id": "525fc13b",
   "metadata": {},
   "outputs": [],
   "source": [
    "turnstiles_daily_entries.dropna(subset=[\"PREV_DATE\"], axis=0, inplace=True)\n",
    "turnstiles_daily_exits.dropna(subset=[\"PREV_DATE\"], axis=0, inplace=True)"
   ]
  },
  {
   "cell_type": "code",
   "execution_count": 11,
   "id": "81c263da",
   "metadata": {},
   "outputs": [],
   "source": [
    "def get_daily_counts(row, max_counter):\n",
    "    counter = row[5] - row[7]\n",
    "    \n",
    "    if counter < 0:\n",
    "        counter = -counter  # adjust for \"reverse\" counter\n",
    "        \n",
    "    if counter > max_counter:\n",
    "        # Maybe counter was reset, so it may make sense to take the minimum\n",
    "        counter = min(row[5], row[7])\n",
    "        \n",
    "    if counter > max_counter:\n",
    "        # If we still get a counter that is too big, set to zero\n",
    "        return 0\n",
    "    \n",
    "    return counter\n",
    "\n",
    "turnstiles_daily_entries[\"DAILY_ENTRIES\"] = turnstiles_daily_entries.apply(get_daily_counts, axis=1, max_counter=1000000)\n",
    "turnstiles_daily_exits[\"DAILY_EXITS\"] = turnstiles_daily_exits.apply(get_daily_counts, axis=1, max_counter=1000000)"
   ]
  },
  {
   "cell_type": "code",
   "execution_count": 13,
   "id": "6706edc7",
   "metadata": {},
   "outputs": [],
   "source": [
    "#this controls for abnormally high daily entries\n",
    "mask = turnstiles_daily_entries['DAILY_ENTRIES'] < 100000\n",
    "turnstiles_daily_entries = turnstiles_daily_entries[mask]\n",
    "mask = turnstiles_daily_exits[\"DAILY_EXITS\"] < 100000\n",
    "turnstiles_daily_exits = turnstiles_daily_exits[mask]"
   ]
  },
  {
   "cell_type": "code",
   "execution_count": 15,
   "id": "2dae15db",
   "metadata": {},
   "outputs": [
    {
     "data": {
      "text/plain": [
       "{'whiskers': [<matplotlib.lines.Line2D at 0x7f93ce5d3f70>,\n",
       "  <matplotlib.lines.Line2D at 0x7f93ce6d5310>],\n",
       " 'caps': [<matplotlib.lines.Line2D at 0x7f93ce6d5670>,\n",
       "  <matplotlib.lines.Line2D at 0x7f93ce6d59d0>],\n",
       " 'boxes': [<matplotlib.lines.Line2D at 0x7f93ce5d3c10>],\n",
       " 'medians': [<matplotlib.lines.Line2D at 0x7f93ce6d5d30>],\n",
       " 'fliers': [<matplotlib.lines.Line2D at 0x7f93ce6fa0d0>],\n",
       " 'means': []}"
      ]
     },
     "execution_count": 15,
     "metadata": {},
     "output_type": "execute_result"
    },
    {
     "data": {
      "image/png": "[encoded data removed]",
      "text/plain": [
       "<Figure size 432x288 with 1 Axes>"
      ]
     },
     "metadata": {
      "needs_background": "light"
     },
     "output_type": "display_data"
    }
   ],
   "source": [
    "#this checks for abnormally high entries, while the range is high it had been higher before\n",
    "plt.boxplot(turnstiles_daily_exits['DAILY_EXITS'])"
   ]
  },
  {
   "cell_type": "code",
   "execution_count": 16,
   "id": "d53b27bb",
   "metadata": {},
   "outputs": [],
   "source": [
    "station_daily_entries = turnstiles_daily_entries.groupby([\"STATION\", \"DATE\"])[['DAILY_ENTRIES']].sum().reset_index()\n",
    "station_daily_exits = turnstiles_daily_exits.groupby([\"STATION\", \"DATE\"])[['DAILY_EXITS']].sum().reset_index()\n"
   ]
  },
  {
   "cell_type": "code",
   "execution_count": 17,
   "id": "afceca6b",
   "metadata": {},
   "outputs": [],
   "source": [
    "#I limit each dataframe to the top 50 busiest, as defined by number of entries/exits\n",
    "\n",
    "station_totals_entries = station_daily_entries.groupby('STATION')['DAILY_ENTRIES'].sum() \\\n",
    "    .reset_index() \\\n",
    "    .sort_values('DAILY_ENTRIES', ascending=False).head(50)\n",
    "\n",
    "station_totals_exits = station_daily_exits.groupby('STATION')['DAILY_EXITS'].sum() \\\n",
    "    .reset_index() \\\n",
    "    .sort_values('DAILY_EXITS', ascending=False).head(50)"
   ]
  },
  {
   "cell_type": "code",
   "execution_count": 19,
   "id": "f5dc2ed1",
   "metadata": {},
   "outputs": [],
   "source": [
    "#I merge the top entries and exits to account for any discrepancies between the list\n",
    "Entries_and_exits = station_totals_entries.merge(station_totals_exits, on='STATION')"
   ]
  },
  {
   "cell_type": "markdown",
   "id": "a6f6bfb6",
   "metadata": {
    "scrolled": true
   },
   "source": [
    "Combine tables"
   ]
  },
  {
   "cell_type": "code",
   "execution_count": 21,
   "id": "17e2d831",
   "metadata": {},
   "outputs": [],
   "source": [
    "#I merge the top entries and exits with the medium station list to create the top busiest stations of medium size\n",
    "\n",
    "Short_List = Entries_and_exits.merge(Medium_Stations, on='STATION')"
   ]
  },
  {
   "cell_type": "code",
   "execution_count": 22,
   "id": "41fb4819",
   "metadata": {},
   "outputs": [],
   "source": [
    "#I add zip code to prepare for injesting zip code data\n",
    "Short_List['Zip Code']= ''"
   ]
  },
  {
   "cell_type": "code",
   "execution_count": 23,
   "id": "8a212daf",
   "metadata": {},
   "outputs": [
    {
     "data": {
      "text/html": [
       "<div>\n",
       "<style scoped>\n",
       "    .dataframe tbody tr th:only-of-type {\n",
       "        vertical-align: middle;\n",
       "    }\n",
       "\n",
       "    .dataframe tbody tr th {\n",
       "        vertical-align: top;\n",
       "    }\n",
       "\n",
       "    .dataframe thead th {\n",
       "        text-align: right;\n",
       "    }\n",
       "</style>\n",
       "<table border=\"1\" class=\"dataframe\">\n",
       "  <thead>\n",
       "    <tr style=\"text-align: right;\">\n",
       "      <th></th>\n",
       "      <th>STATION</th>\n",
       "      <th>DAILY_ENTRIES</th>\n",
       "      <th>DAILY_EXITS</th>\n",
       "      <th>SCP</th>\n",
       "      <th>Zip Code</th>\n",
       "    </tr>\n",
       "  </thead>\n",
       "  <tbody>\n",
       "    <tr>\n",
       "      <th>0</th>\n",
       "      <td>125 ST</td>\n",
       "      <td>2558828.0</td>\n",
       "      <td>3261185.0</td>\n",
       "      <td>23</td>\n",
       "      <td></td>\n",
       "    </tr>\n",
       "    <tr>\n",
       "      <th>1</th>\n",
       "      <td>FLUSHING-MAIN</td>\n",
       "      <td>2279137.0</td>\n",
       "      <td>2640058.0</td>\n",
       "      <td>27</td>\n",
       "      <td></td>\n",
       "    </tr>\n",
       "    <tr>\n",
       "      <th>2</th>\n",
       "      <td>JKSN HT-ROOSVLT</td>\n",
       "      <td>2103924.0</td>\n",
       "      <td>2026592.0</td>\n",
       "      <td>22</td>\n",
       "      <td></td>\n",
       "    </tr>\n",
       "    <tr>\n",
       "      <th>3</th>\n",
       "      <td>96 ST</td>\n",
       "      <td>1982655.0</td>\n",
       "      <td>2302731.0</td>\n",
       "      <td>25</td>\n",
       "      <td></td>\n",
       "    </tr>\n",
       "    <tr>\n",
       "      <th>4</th>\n",
       "      <td>CANAL ST</td>\n",
       "      <td>1972467.0</td>\n",
       "      <td>2482412.0</td>\n",
       "      <td>32</td>\n",
       "      <td></td>\n",
       "    </tr>\n",
       "    <tr>\n",
       "      <th>5</th>\n",
       "      <td>72 ST</td>\n",
       "      <td>1536172.0</td>\n",
       "      <td>1997618.0</td>\n",
       "      <td>25</td>\n",
       "      <td></td>\n",
       "    </tr>\n",
       "    <tr>\n",
       "      <th>6</th>\n",
       "      <td>CHURCH AV</td>\n",
       "      <td>1323005.0</td>\n",
       "      <td>1243069.0</td>\n",
       "      <td>26</td>\n",
       "      <td></td>\n",
       "    </tr>\n",
       "    <tr>\n",
       "      <th>7</th>\n",
       "      <td>8 AV</td>\n",
       "      <td>1242385.0</td>\n",
       "      <td>1423493.0</td>\n",
       "      <td>21</td>\n",
       "      <td></td>\n",
       "    </tr>\n",
       "    <tr>\n",
       "      <th>8</th>\n",
       "      <td>50 ST</td>\n",
       "      <td>1211822.0</td>\n",
       "      <td>1514622.0</td>\n",
       "      <td>21</td>\n",
       "      <td></td>\n",
       "    </tr>\n",
       "    <tr>\n",
       "      <th>9</th>\n",
       "      <td>JAMAICA CENTER</td>\n",
       "      <td>1188080.0</td>\n",
       "      <td>1386630.0</td>\n",
       "      <td>21</td>\n",
       "      <td></td>\n",
       "    </tr>\n",
       "    <tr>\n",
       "      <th>10</th>\n",
       "      <td>28 ST</td>\n",
       "      <td>1182831.0</td>\n",
       "      <td>1690005.0</td>\n",
       "      <td>28</td>\n",
       "      <td></td>\n",
       "    </tr>\n",
       "    <tr>\n",
       "      <th>11</th>\n",
       "      <td>W 4 ST-WASH SQ</td>\n",
       "      <td>1176641.0</td>\n",
       "      <td>1849908.0</td>\n",
       "      <td>19</td>\n",
       "      <td></td>\n",
       "    </tr>\n",
       "    <tr>\n",
       "      <th>12</th>\n",
       "      <td>JOURNAL SQUARE</td>\n",
       "      <td>1163880.0</td>\n",
       "      <td>1080867.0</td>\n",
       "      <td>26</td>\n",
       "      <td></td>\n",
       "    </tr>\n",
       "    <tr>\n",
       "      <th>13</th>\n",
       "      <td>JUNCTION BLVD</td>\n",
       "      <td>1108210.0</td>\n",
       "      <td>1230361.0</td>\n",
       "      <td>12</td>\n",
       "      <td></td>\n",
       "    </tr>\n",
       "    <tr>\n",
       "      <th>14</th>\n",
       "      <td>KINGS HWY</td>\n",
       "      <td>1041967.0</td>\n",
       "      <td>1188778.0</td>\n",
       "      <td>20</td>\n",
       "      <td></td>\n",
       "    </tr>\n",
       "    <tr>\n",
       "      <th>15</th>\n",
       "      <td>77 ST</td>\n",
       "      <td>1037772.0</td>\n",
       "      <td>1223466.0</td>\n",
       "      <td>15</td>\n",
       "      <td></td>\n",
       "    </tr>\n",
       "    <tr>\n",
       "      <th>16</th>\n",
       "      <td>7 AV</td>\n",
       "      <td>1010586.0</td>\n",
       "      <td>1304411.0</td>\n",
       "      <td>13</td>\n",
       "      <td></td>\n",
       "    </tr>\n",
       "    <tr>\n",
       "      <th>17</th>\n",
       "      <td>72 ST-2 AVE</td>\n",
       "      <td>961454.0</td>\n",
       "      <td>1176968.0</td>\n",
       "      <td>17</td>\n",
       "      <td></td>\n",
       "    </tr>\n",
       "    <tr>\n",
       "      <th>18</th>\n",
       "      <td>JAY ST-METROTEC</td>\n",
       "      <td>951330.0</td>\n",
       "      <td>1039556.0</td>\n",
       "      <td>29</td>\n",
       "      <td></td>\n",
       "    </tr>\n",
       "    <tr>\n",
       "      <th>19</th>\n",
       "      <td>SUTPHIN-ARCHER</td>\n",
       "      <td>930011.0</td>\n",
       "      <td>1065969.0</td>\n",
       "      <td>13</td>\n",
       "      <td></td>\n",
       "    </tr>\n",
       "    <tr>\n",
       "      <th>20</th>\n",
       "      <td>CROWN HTS-UTICA</td>\n",
       "      <td>926519.0</td>\n",
       "      <td>1004929.0</td>\n",
       "      <td>18</td>\n",
       "      <td></td>\n",
       "    </tr>\n",
       "    <tr>\n",
       "      <th>21</th>\n",
       "      <td>42 ST-BRYANT PK</td>\n",
       "      <td>906296.0</td>\n",
       "      <td>1306647.0</td>\n",
       "      <td>21</td>\n",
       "      <td></td>\n",
       "    </tr>\n",
       "    <tr>\n",
       "      <th>22</th>\n",
       "      <td>LEXINGTON AV/53</td>\n",
       "      <td>883289.0</td>\n",
       "      <td>1223327.0</td>\n",
       "      <td>25</td>\n",
       "      <td></td>\n",
       "    </tr>\n",
       "    <tr>\n",
       "      <th>23</th>\n",
       "      <td>DELANCEY/ESSEX</td>\n",
       "      <td>873832.0</td>\n",
       "      <td>1108528.0</td>\n",
       "      <td>19</td>\n",
       "      <td></td>\n",
       "    </tr>\n",
       "  </tbody>\n",
       "</table>\n",
       "</div>"
      ],
      "text/plain": [
       "            STATION  DAILY_ENTRIES  DAILY_EXITS  SCP Zip Code\n",
       "0            125 ST      2558828.0    3261185.0   23         \n",
       "1     FLUSHING-MAIN      2279137.0    2640058.0   27         \n",
       "2   JKSN HT-ROOSVLT      2103924.0    2026592.0   22         \n",
       "3             96 ST      1982655.0    2302731.0   25         \n",
       "4          CANAL ST      1972467.0    2482412.0   32         \n",
       "5             72 ST      1536172.0    1997618.0   25         \n",
       "6         CHURCH AV      1323005.0    1243069.0   26         \n",
       "7              8 AV      1242385.0    1423493.0   21         \n",
       "8             50 ST      1211822.0    1514622.0   21         \n",
       "9    JAMAICA CENTER      1188080.0    1386630.0   21         \n",
       "10            28 ST      1182831.0    1690005.0   28         \n",
       "11   W 4 ST-WASH SQ      1176641.0    1849908.0   19         \n",
       "12   JOURNAL SQUARE      1163880.0    1080867.0   26         \n",
       "13    JUNCTION BLVD      1108210.0    1230361.0   12         \n",
       "14        KINGS HWY      1041967.0    1188778.0   20         \n",
       "15            77 ST      1037772.0    1223466.0   15         \n",
       "16             7 AV      1010586.0    1304411.0   13         \n",
       "17      72 ST-2 AVE       961454.0    1176968.0   17         \n",
       "18  JAY ST-METROTEC       951330.0    1039556.0   29         \n",
       "19   SUTPHIN-ARCHER       930011.0    1065969.0   13         \n",
       "20  CROWN HTS-UTICA       926519.0    1004929.0   18         \n",
       "21  42 ST-BRYANT PK       906296.0    1306647.0   21         \n",
       "22  LEXINGTON AV/53       883289.0    1223327.0   25         \n",
       "23   DELANCEY/ESSEX       873832.0    1108528.0   19         "
      ]
     },
     "execution_count": 23,
     "metadata": {},
     "output_type": "execute_result"
    }
   ],
   "source": [
    "Short_List"
   ]
  },
  {
   "cell_type": "code",
   "execution_count": 24,
   "id": "b7ada454",
   "metadata": {},
   "outputs": [
    {
     "name": "stderr",
     "output_type": "stream",
     "text": [
      "<ipython-input-24-db8fc6afc4c2>:4: SettingWithCopyWarning: \n",
      "A value is trying to be set on a copy of a slice from a DataFrame\n",
      "\n",
      "See the caveats in the documentation: https://pandas.pydata.org/pandas-docs/stable/user_guide/indexing.html#returning-a-view-versus-a-copy\n",
      "  Short_List['STATION'][1] = \"FLUSHING - MAIN ST\"\n",
      "<ipython-input-24-db8fc6afc4c2>:5: SettingWithCopyWarning: \n",
      "A value is trying to be set on a copy of a slice from a DataFrame\n",
      "\n",
      "See the caveats in the documentation: https://pandas.pydata.org/pandas-docs/stable/user_guide/indexing.html#returning-a-view-versus-a-copy\n",
      "  Short_List['STATION'][2] = \"JACKSON HTS - ROOSEVELT AV\"\n",
      "<ipython-input-24-db8fc6afc4c2>:6: SettingWithCopyWarning: \n",
      "A value is trying to be set on a copy of a slice from a DataFrame\n",
      "\n",
      "See the caveats in the documentation: https://pandas.pydata.org/pandas-docs/stable/user_guide/indexing.html#returning-a-view-versus-a-copy\n",
      "  Short_List['STATION'][9] = \"JAMAICA CTR - PARSONS / ARCHER\"\n",
      "<ipython-input-24-db8fc6afc4c2>:7: SettingWithCopyWarning: \n",
      "A value is trying to be set on a copy of a slice from a DataFrame\n",
      "\n",
      "See the caveats in the documentation: https://pandas.pydata.org/pandas-docs/stable/user_guide/indexing.html#returning-a-view-versus-a-copy\n",
      "  Short_List['STATION'][11] = \"W 4 ST - WASHINGTON SQ (LOWER)\"\n",
      "<ipython-input-24-db8fc6afc4c2>:8: SettingWithCopyWarning: \n",
      "A value is trying to be set on a copy of a slice from a DataFrame\n",
      "\n",
      "See the caveats in the documentation: https://pandas.pydata.org/pandas-docs/stable/user_guide/indexing.html#returning-a-view-versus-a-copy\n",
      "  Short_List['STATION'][18] = \"JAY ST - METROTECH\"\n",
      "<ipython-input-24-db8fc6afc4c2>:9: SettingWithCopyWarning: \n",
      "A value is trying to be set on a copy of a slice from a DataFrame\n",
      "\n",
      "See the caveats in the documentation: https://pandas.pydata.org/pandas-docs/stable/user_guide/indexing.html#returning-a-view-versus-a-copy\n",
      "  Short_List['STATION'][19] = \"SUTPHIN BLVD - ARCHER AV\"\n",
      "<ipython-input-24-db8fc6afc4c2>:10: SettingWithCopyWarning: \n",
      "A value is trying to be set on a copy of a slice from a DataFrame\n",
      "\n",
      "See the caveats in the documentation: https://pandas.pydata.org/pandas-docs/stable/user_guide/indexing.html#returning-a-view-versus-a-copy\n",
      "  Short_List['STATION'][19] = \"CROWN HTS - UTICA AVE\"\n",
      "<ipython-input-24-db8fc6afc4c2>:11: SettingWithCopyWarning: \n",
      "A value is trying to be set on a copy of a slice from a DataFrame\n",
      "\n",
      "See the caveats in the documentation: https://pandas.pydata.org/pandas-docs/stable/user_guide/indexing.html#returning-a-view-versus-a-copy\n",
      "  Short_List['STATION'][22] = \"LEXINGTON AVE - 59TH ST\"\n",
      "<ipython-input-24-db8fc6afc4c2>:12: SettingWithCopyWarning: \n",
      "A value is trying to be set on a copy of a slice from a DataFrame\n",
      "\n",
      "See the caveats in the documentation: https://pandas.pydata.org/pandas-docs/stable/user_guide/indexing.html#returning-a-view-versus-a-copy\n",
      "  Short_List['STATION'][19] = \"DELANCY ST - ESSEX ST\"\n"
     ]
    }
   ],
   "source": [
    "#When I compare the names within the subway_locations.csv, they dont match up with the Short_List dataframe\n",
    "#For numbered streets, I was able to adjust names but certian named streets required manual editing\n",
    "\n",
    "Short_List['STATION'][1] = \"FLUSHING - MAIN ST\"\n",
    "Short_List['STATION'][2] = \"JACKSON HTS - ROOSEVELT AV\"\n",
    "Short_List['STATION'][9] = \"JAMAICA CTR - PARSONS / ARCHER\"\n",
    "Short_List['STATION'][11] = \"W 4 ST - WASHINGTON SQ (LOWER)\"\n",
    "Short_List['STATION'][18] = \"JAY ST - METROTECH\"\n",
    "Short_List['STATION'][19] = \"SUTPHIN BLVD - ARCHER AV\"\n",
    "Short_List['STATION'][19] = \"CROWN HTS - UTICA AVE\"\n",
    "Short_List['STATION'][22] = \"LEXINGTON AVE - 59TH ST\"\n",
    "Short_List['STATION'][19] = \"DELANCY ST - ESSEX ST\"\n",
    "\n"
   ]
  },
  {
   "cell_type": "markdown",
   "id": "d0bb2b85",
   "metadata": {},
   "source": [
    "Adding subway coordinate data"
   ]
  },
  {
   "cell_type": "code",
   "execution_count": 25,
   "id": "3160ccf3",
   "metadata": {},
   "outputs": [],
   "source": [
    "subway_locations = pd.read_csv('subway_locations.csv', error_bad_lines=False) "
   ]
  },
  {
   "cell_type": "code",
   "execution_count": 26,
   "id": "e905ce66",
   "metadata": {},
   "outputs": [],
   "source": [
    "subway_locations['STATION'] = subway_locations['NAME'].str.upper()\n",
    "subway_locations['STATION'] = subway_locations['STATION'].str.replace('TH', '')\n",
    "subway_locations['STATION'] = subway_locations['STATION'].str.replace('ND', '')\n",
    "subway_locations['STATION'] = subway_locations['STATION'].str.replace('AVE', 'AV')"
   ]
  },
  {
   "cell_type": "code",
   "execution_count": 27,
   "id": "60362681",
   "metadata": {},
   "outputs": [],
   "source": [
    "#This merges the dataframes, albeit imperfectly because some stations have multiple entries/train lines\n",
    "Short_List_locations = subway_locations.merge(Short_List, on='STATION')\n",
    "Short_List_locations['NAME'] = Short_List_locations['NAME'].str.upper()\n",
    "Short_List_locations = Short_List.merge(subway_locations, on='STATION')"
   ]
  },
  {
   "cell_type": "code",
   "execution_count": 28,
   "id": "27229abf",
   "metadata": {},
   "outputs": [
    {
     "data": {
      "text/html": [
       "<div>\n",
       "<style scoped>\n",
       "    .dataframe tbody tr th:only-of-type {\n",
       "        vertical-align: middle;\n",
       "    }\n",
       "\n",
       "    .dataframe tbody tr th {\n",
       "        vertical-align: top;\n",
       "    }\n",
       "\n",
       "    .dataframe thead th {\n",
       "        text-align: right;\n",
       "    }\n",
       "</style>\n",
       "<table border=\"1\" class=\"dataframe\">\n",
       "  <thead>\n",
       "    <tr style=\"text-align: right;\">\n",
       "      <th></th>\n",
       "      <th>STATION</th>\n",
       "      <th>DAILY_ENTRIES</th>\n",
       "      <th>DAILY_EXITS</th>\n",
       "      <th>SCP</th>\n",
       "      <th>Zip Code</th>\n",
       "      <th>URL</th>\n",
       "      <th>OBJECTID</th>\n",
       "      <th>NAME</th>\n",
       "      <th>the_geom</th>\n",
       "      <th>LINE</th>\n",
       "      <th>NOTES</th>\n",
       "    </tr>\n",
       "  </thead>\n",
       "  <tbody>\n",
       "    <tr>\n",
       "      <th>0</th>\n",
       "      <td>125 ST</td>\n",
       "      <td>2558828.0</td>\n",
       "      <td>3261185.0</td>\n",
       "      <td>23</td>\n",
       "      <td></td>\n",
       "      <td>http://web.mta.info/nyct/service/</td>\n",
       "      <td>168</td>\n",
       "      <td>125th St</td>\n",
       "      <td>POINT (-73.94549500011411 40.807753999182815)</td>\n",
       "      <td>2-3</td>\n",
       "      <td>2,3-all times</td>\n",
       "    </tr>\n",
       "    <tr>\n",
       "      <th>1</th>\n",
       "      <td>125 ST</td>\n",
       "      <td>2558828.0</td>\n",
       "      <td>3261185.0</td>\n",
       "      <td>23</td>\n",
       "      <td></td>\n",
       "      <td>http://web.mta.info/nyct/service/</td>\n",
       "      <td>287</td>\n",
       "      <td>125th St</td>\n",
       "      <td>POINT (-73.95837200097044 40.815580999978934)</td>\n",
       "      <td>1</td>\n",
       "      <td>1-all times</td>\n",
       "    </tr>\n",
       "    <tr>\n",
       "      <th>2</th>\n",
       "      <td>125 ST</td>\n",
       "      <td>2558828.0</td>\n",
       "      <td>3261185.0</td>\n",
       "      <td>23</td>\n",
       "      <td></td>\n",
       "      <td>http://web.mta.info/nyct/service/</td>\n",
       "      <td>399</td>\n",
       "      <td>125th St</td>\n",
       "      <td>POINT (-73.95224799734774 40.811071672994565)</td>\n",
       "      <td>A-B-C-D</td>\n",
       "      <td>A,D-all times, B-weekdays and evenings, C-all ...</td>\n",
       "    </tr>\n",
       "    <tr>\n",
       "      <th>3</th>\n",
       "      <td>125 ST</td>\n",
       "      <td>2558828.0</td>\n",
       "      <td>3261185.0</td>\n",
       "      <td>23</td>\n",
       "      <td></td>\n",
       "      <td>http://web.mta.info/nyct/service/</td>\n",
       "      <td>468</td>\n",
       "      <td>125th St</td>\n",
       "      <td>POINT (-73.93759400055725 40.804138000587244)</td>\n",
       "      <td>4-5-6-6 Express</td>\n",
       "      <td>4,6-all times, 5-all times exc nights, 6 Expre...</td>\n",
       "    </tr>\n",
       "    <tr>\n",
       "      <th>4</th>\n",
       "      <td>FLUSHING - MAIN ST</td>\n",
       "      <td>2279137.0</td>\n",
       "      <td>2640058.0</td>\n",
       "      <td>27</td>\n",
       "      <td></td>\n",
       "      <td>http://web.mta.info/nyct/service/</td>\n",
       "      <td>25</td>\n",
       "      <td>Flushing - Main St</td>\n",
       "      <td>POINT (-73.83003000262508 40.75959999915012)</td>\n",
       "      <td>7-7 Express</td>\n",
       "      <td>7-all times, 7 Express-rush hours AM westbound...</td>\n",
       "    </tr>\n",
       "  </tbody>\n",
       "</table>\n",
       "</div>"
      ],
      "text/plain": [
       "              STATION  DAILY_ENTRIES  DAILY_EXITS  SCP Zip Code  \\\n",
       "0              125 ST      2558828.0    3261185.0   23            \n",
       "1              125 ST      2558828.0    3261185.0   23            \n",
       "2              125 ST      2558828.0    3261185.0   23            \n",
       "3              125 ST      2558828.0    3261185.0   23            \n",
       "4  FLUSHING - MAIN ST      2279137.0    2640058.0   27            \n",
       "\n",
       "                                 URL  OBJECTID                NAME  \\\n",
       "0  http://web.mta.info/nyct/service/       168            125th St   \n",
       "1  http://web.mta.info/nyct/service/       287            125th St   \n",
       "2  http://web.mta.info/nyct/service/       399            125th St   \n",
       "3  http://web.mta.info/nyct/service/       468            125th St   \n",
       "4  http://web.mta.info/nyct/service/        25  Flushing - Main St   \n",
       "\n",
       "                                        the_geom             LINE  \\\n",
       "0  POINT (-73.94549500011411 40.807753999182815)              2-3   \n",
       "1  POINT (-73.95837200097044 40.815580999978934)                1   \n",
       "2  POINT (-73.95224799734774 40.811071672994565)          A-B-C-D   \n",
       "3  POINT (-73.93759400055725 40.804138000587244)  4-5-6-6 Express   \n",
       "4   POINT (-73.83003000262508 40.75959999915012)      7-7 Express   \n",
       "\n",
       "                                               NOTES  \n",
       "0                                      2,3-all times  \n",
       "1                                        1-all times  \n",
       "2  A,D-all times, B-weekdays and evenings, C-all ...  \n",
       "3  4,6-all times, 5-all times exc nights, 6 Expre...  \n",
       "4  7-all times, 7 Express-rush hours AM westbound...  "
      ]
     },
     "execution_count": 28,
     "metadata": {},
     "output_type": "execute_result"
    }
   ],
   "source": [
    "Short_List_locations.head()"
   ]
  },
  {
   "cell_type": "code",
   "execution_count": 29,
   "id": "bf2ba49b",
   "metadata": {},
   "outputs": [],
   "source": [
    "#create coordinate columns for processing\n",
    "Short_List_locations['lon'] = Short_List_locations.the_geom.str[7:18]\n",
    "Short_List_locations['lat'] = Short_List_locations.the_geom.str[-19:-9]\n",
    "Short_List_locations['coord'] = Short_List_locations['lat'] + ', ' + Short_List_locations['lon']"
   ]
  },
  {
   "cell_type": "code",
   "execution_count": 32,
   "id": "d544bc79",
   "metadata": {},
   "outputs": [
    {
     "name": "stderr",
     "output_type": "stream",
     "text": [
      "100%|██████████| 42/42 [00:20<00:00,  2.03it/s]\n"
     ]
    }
   ],
   "source": [
    "#create new column of zip code data - using try/except because the code was glitchy before\n",
    "new_zipcodes = []\n",
    "\n",
    "for coord in tqdm(Short_List_locations.coord):\n",
    "    try:\n",
    "        location = geocode.reverse(Point(coord))\n",
    "        zipcode = location.raw['address']['postcode']\n",
    "        new_zipcodes.append(zipcode)\n",
    "    except:\n",
    "        new_zipcodes.append('failed here')"
   ]
  },
  {
   "cell_type": "code",
   "execution_count": 33,
   "id": "864a4a6f",
   "metadata": {},
   "outputs": [],
   "source": [
    "Short_List_locations['Zip Code'] = new_zipcodes"
   ]
  },
  {
   "cell_type": "markdown",
   "id": "dd1dd741",
   "metadata": {},
   "source": [
    "Add in economic data\n"
   ]
  },
  {
   "cell_type": "code",
   "execution_count": 34,
   "id": "0463831d",
   "metadata": {},
   "outputs": [],
   "source": [
    "income_data = pd.read_csv('zipcode_data.csv', error_bad_lines=False) "
   ]
  },
  {
   "cell_type": "code",
   "execution_count": 74,
   "id": "21a0e02f",
   "metadata": {},
   "outputs": [
    {
     "name": "stdout",
     "output_type": "stream",
     "text": [
      "<class 'pandas.core.frame.DataFrame'>\n",
      "RangeIndex: 181 entries, 0 to 180\n",
      "Data columns (total 7 columns):\n",
      " #   Column          Non-Null Count  Dtype \n",
      "---  ------          --------------  ----- \n",
      " 0   Unnamed: 0      181 non-null    int64 \n",
      " 1   Zip Code        181 non-null    object\n",
      " 2   Household Type  181 non-null    object\n",
      " 3   TimeFrame       181 non-null    int64 \n",
      " 4   DataFormat      181 non-null    object\n",
      " 5   Average Income  181 non-null    int64 \n",
      " 6   Fips            181 non-null    int64 \n",
      "dtypes: int64(4), object(3)\n",
      "memory usage: 10.0+ KB\n"
     ]
    }
   ],
   "source": [
    "income_data.info()"
   ]
  },
  {
   "cell_type": "code",
   "execution_count": 35,
   "id": "823400ae",
   "metadata": {},
   "outputs": [],
   "source": [
    "income_data.rename(columns={'Location':'Zip Code'}, inplace = True)"
   ]
  },
  {
   "cell_type": "code",
   "execution_count": 36,
   "id": "20d00802",
   "metadata": {},
   "outputs": [],
   "source": [
    "#the zip code data was read in as an int not a str\n",
    "income_data[\"Zip Code\"] = income_data[\"Zip Code\"].astype(str)"
   ]
  },
  {
   "cell_type": "code",
   "execution_count": 37,
   "id": "aea91ceb",
   "metadata": {},
   "outputs": [],
   "source": [
    "Final_DF = Short_List_locations.merge(income_data, on='Zip Code')"
   ]
  },
  {
   "cell_type": "code",
   "execution_count": 38,
   "id": "958616b9",
   "metadata": {},
   "outputs": [],
   "source": [
    "#this drops the extra columns, additionally, it drops duplicates as defined by station entries to keep one station per line\n",
    "Final_DF= Final_DF.drop(columns=['URL','OBJECTID', 'the_geom', 'NOTES', 'Unnamed: 0', 'Household Type', 'TimeFrame', 'DataFormat', 'Fips']).drop_duplicates(subset=['DAILY_ENTRIES'])\n"
   ]
  },
  {
   "cell_type": "code",
   "execution_count": 39,
   "id": "3ed35cd5",
   "metadata": {},
   "outputs": [
    {
     "data": {
      "text/html": [
       "<div>\n",
       "<style scoped>\n",
       "    .dataframe tbody tr th:only-of-type {\n",
       "        vertical-align: middle;\n",
       "    }\n",
       "\n",
       "    .dataframe tbody tr th {\n",
       "        vertical-align: top;\n",
       "    }\n",
       "\n",
       "    .dataframe thead th {\n",
       "        text-align: right;\n",
       "    }\n",
       "</style>\n",
       "<table border=\"1\" class=\"dataframe\">\n",
       "  <thead>\n",
       "    <tr style=\"text-align: right;\">\n",
       "      <th></th>\n",
       "      <th>DAILY_ENTRIES</th>\n",
       "      <th>DAILY_EXITS</th>\n",
       "      <th>SCP</th>\n",
       "      <th>Average Income</th>\n",
       "    </tr>\n",
       "  </thead>\n",
       "  <tbody>\n",
       "    <tr>\n",
       "      <th>count</th>\n",
       "      <td>1.700000e+01</td>\n",
       "      <td>1.700000e+01</td>\n",
       "      <td>17.000000</td>\n",
       "      <td>17.000000</td>\n",
       "    </tr>\n",
       "    <tr>\n",
       "      <th>mean</th>\n",
       "      <td>1.465165e+06</td>\n",
       "      <td>1.753229e+06</td>\n",
       "      <td>22.294118</td>\n",
       "      <td>71615.823529</td>\n",
       "    </tr>\n",
       "    <tr>\n",
       "      <th>std</th>\n",
       "      <td>5.080883e+05</td>\n",
       "      <td>6.217708e+05</td>\n",
       "      <td>5.531328</td>\n",
       "      <td>33873.363931</td>\n",
       "    </tr>\n",
       "    <tr>\n",
       "      <th>min</th>\n",
       "      <td>9.513300e+05</td>\n",
       "      <td>1.039556e+06</td>\n",
       "      <td>12.000000</td>\n",
       "      <td>29799.000000</td>\n",
       "    </tr>\n",
       "    <tr>\n",
       "      <th>25%</th>\n",
       "      <td>1.108210e+06</td>\n",
       "      <td>1.243069e+06</td>\n",
       "      <td>20.000000</td>\n",
       "      <td>50191.000000</td>\n",
       "    </tr>\n",
       "    <tr>\n",
       "      <th>50%</th>\n",
       "      <td>1.211822e+06</td>\n",
       "      <td>1.514622e+06</td>\n",
       "      <td>22.000000</td>\n",
       "      <td>54211.000000</td>\n",
       "    </tr>\n",
       "    <tr>\n",
       "      <th>75%</th>\n",
       "      <td>1.972467e+06</td>\n",
       "      <td>2.026592e+06</td>\n",
       "      <td>26.000000</td>\n",
       "      <td>103792.000000</td>\n",
       "    </tr>\n",
       "    <tr>\n",
       "      <th>max</th>\n",
       "      <td>2.558828e+06</td>\n",
       "      <td>3.261185e+06</td>\n",
       "      <td>32.000000</td>\n",
       "      <td>138272.000000</td>\n",
       "    </tr>\n",
       "  </tbody>\n",
       "</table>\n",
       "</div>"
      ],
      "text/plain": [
       "       DAILY_ENTRIES   DAILY_EXITS        SCP  Average Income\n",
       "count   1.700000e+01  1.700000e+01  17.000000       17.000000\n",
       "mean    1.465165e+06  1.753229e+06  22.294118    71615.823529\n",
       "std     5.080883e+05  6.217708e+05   5.531328    33873.363931\n",
       "min     9.513300e+05  1.039556e+06  12.000000    29799.000000\n",
       "25%     1.108210e+06  1.243069e+06  20.000000    50191.000000\n",
       "50%     1.211822e+06  1.514622e+06  22.000000    54211.000000\n",
       "75%     1.972467e+06  2.026592e+06  26.000000   103792.000000\n",
       "max     2.558828e+06  3.261185e+06  32.000000   138272.000000"
      ]
     },
     "execution_count": 39,
     "metadata": {},
     "output_type": "execute_result"
    }
   ],
   "source": [
    "Final_DF.describe()"
   ]
  },
  {
   "cell_type": "code",
   "execution_count": 40,
   "id": "2e3d1ad2",
   "metadata": {},
   "outputs": [
    {
     "name": "stdout",
     "output_type": "stream",
     "text": [
      "<class 'pandas.core.frame.DataFrame'>\n",
      "Int64Index: 6 entries, 10 to 37\n",
      "Data columns (total 11 columns):\n",
      " #   Column          Non-Null Count  Dtype  \n",
      "---  ------          --------------  -----  \n",
      " 0   STATION         6 non-null      object \n",
      " 1   DAILY_ENTRIES   6 non-null      float64\n",
      " 2   DAILY_EXITS     6 non-null      float64\n",
      " 3   SCP             6 non-null      int64  \n",
      " 4   Zip Code        6 non-null      object \n",
      " 5   NAME            6 non-null      object \n",
      " 6   LINE            6 non-null      object \n",
      " 7   lon             6 non-null      object \n",
      " 8   lat             6 non-null      object \n",
      " 9   coord           6 non-null      object \n",
      " 10  Average Income  6 non-null      int64  \n",
      "dtypes: float64(2), int64(2), object(7)\n",
      "memory usage: 576.0+ bytes\n"
     ]
    }
   ],
   "source": [
    "#the 50th percentile of this data is 54k,\n",
    "#this analysis will consider subway stations located in areas with an average income above 55k\n",
    "\n",
    "mask = Final_DF['Average Income'] > 55000\n",
    "Final_DF = Final_DF[mask]\n",
    "Final_DF.info()"
   ]
  },
  {
   "cell_type": "code",
   "execution_count": 41,
   "id": "37113370",
   "metadata": {},
   "outputs": [],
   "source": [
    "#CLEAN DATA TO MAKE LAT/LON READABLE TO FOLIUM\n",
    "Final_DF['lat'] = Final_DF.lat.astype('float')\n",
    "Final_DF['lon'] = Final_DF.lon.astype('float')"
   ]
  },
  {
   "cell_type": "code",
   "execution_count": 42,
   "id": "21481cb9",
   "metadata": {},
   "outputs": [],
   "source": [
    "#CREATE BASE MAP\n",
    "map = folium.Map(location=[Final_DF.lat.mean(), Final_DF.lon.mean()], zoom_start=14, control_scale=True)"
   ]
  },
  {
   "cell_type": "code",
   "execution_count": 43,
   "id": "4cc53e47",
   "metadata": {},
   "outputs": [
    {
     "name": "stderr",
     "output_type": "stream",
     "text": [
      "/opt/anaconda3/lib/python3.8/site-packages/geopandas/geodataframe.py:1321: UserWarning: Geometry column does not contain geometry.\n",
      "  warnings.warn(\"Geometry column does not contain geometry.\")\n"
     ]
    }
   ],
   "source": [
    "#ADD IN UNIVERSITY DATA\n",
    "university_locations = pd.read_csv('COLLEGE_UNIVERSITY.csv', error_bad_lines=False) \n",
    "university_locations['lon'] = university_locations.the_geom.str[7:18]\n",
    "university_locations['lat'] = university_locations.the_geom.str[26:35]\n",
    "university_locations['coord'] = university_locations.the_geom.str[26:35] + ', ' + university_locations.the_geom.str[7:18]\n",
    "\n",
    "#ADD IN STORE DATA\n",
    "gpd.io.file.fiona.drvsupport.supported_drivers['KML'] = 'rw'\n",
    "stores_df = gpd.read_file('stores2.kml', driver='KML')\n",
    "stores_df['geometry'] = stores_df['geometry'].astype('str')\n",
    "stores_df['geometry'] = stores_df['geometry'].str.strip('POINT Z (')\n",
    "stores_df['geometry'] = stores_df['geometry'].str.strip('0)')\n",
    "stores_df['lon'] = stores_df['geometry'].str[:10].astype('float')\n",
    "stores_df['lat'] = stores_df['geometry'].str[-11:].astype('float')"
   ]
  },
  {
   "cell_type": "code",
   "execution_count": 44,
   "id": "dd67d15b",
   "metadata": {},
   "outputs": [],
   "source": [
    "#POPULATE MAP\n",
    "for index, location_info in university_locations.iterrows():\n",
    "    folium.Marker([location_info[\"lat\"], location_info[\"lon\"]], popup=location_info[\"NAME\"], icon=folium.Icon(color='lightblue', icon='university', prefix='fa')).add_to(map)\n",
    "for index, location_info in Final_DF.iterrows():\n",
    "    folium.Marker([location_info[\"lat\"], location_info[\"lon\"]], popup=location_info[\"STATION\"], icon=folium.Icon(color='red', icon='subway', prefix='fa')).add_to(map)\n",
    "for index, location_info in stores_df.iterrows():\n",
    "    folium.Marker([location_info[\"lat\"], location_info[\"lon\"]], popup=location_info[\"Name\"], icon=folium.Icon(color='lightgreen', icon='shopping-cart', prefix='fa')).add_to(map)    "
   ]
  },
  {
   "cell_type": "code",
   "execution_count": 45,
   "id": "095993c3",
   "metadata": {},
   "outputs": [],
   "source": [
    "#ADD IN RADIUS CIRCLES\n",
    "\n",
    "for index, row in Final_DF.iterrows():\n",
    "    folium.Circle(radius=804, location=[row[\"lat\"], row[\"lon\"]], popup=[row['STATION']]).add_to(map)\n"
   ]
  },
  {
   "cell_type": "code",
   "execution_count": 46,
   "id": "4b5aad99",
   "metadata": {},
   "outputs": [
    {
     "data": {
      "text/html": [
       "<div style=\"width:100%;\"><div style=\"position:relative;width:100%;height:0;padding-bottom:60%;\"><span style=\"color:#565656\">Make this Notebook Trusted to load map: File -> Trust Notebook</span><iframe src=\"about:blank\" style=\"position:absolute;width:100%;height:100%;left:0;top:0;border:none !important;\" data-html=%3C%21DOCTYPE%20html%3E%0A%3Chead%3E%20%20%20%20%0A%20%20%20%20%3Cmeta%20http-equiv%3D%22content-type%22%20content%3D%22text/html%3B%20charset%3DUTF-8%22%20/%3E%0A%20%20%20%20%0A%20%20%20%20%20%20%20%20%3Cscript%3E%0A%20%20%20%20%20%20%20%20%20%20%20%20L_NO_TOUCH%20%3D%20false%3B%0A%20%20%20%20%20%20%20%20%20%20%20%20L_DISABLE_3D%20%3D%20false%3B%0A%20%20%20%20%20%20%20%20%3C/script%3E%0A%20%20%20%20%0A%20%20%20%20%3Cstyle%3Ehtml%2C%20body%20%7Bwidth%3A%20100%25%3Bheight%3A%20100%25%3Bmargin%3A%200%3Bpadding%3A%200%3B%7D%3C/style%3E%0A%20%20%20%20%3Cstyle%3E%23map%20%7Bposition%3Aabsolute%3Btop%3A0%3Bbottom%3A0%3Bright%3A0%3Bleft%3A0%3B%7D%3C/style%3E%0A%20%20%20%20%3Cscript%20src%3D%22https%3A//cdn.jsdelivr.net/npm/leaflet%401.6.0/dist/leaflet.js%22%3E%3C/script%3E%0A%20%20%20%20%3Cscript%20src%3D%22https%3A//code.jquery.com/jquery-1.12.4.min.js%22%3E%3C/script%3E%0A%20%20%20%20%3Cscript%20src%3D%22https%3A//maxcdn.bootstrapcdn.com/bootstrap/3.2.0/js/bootstrap.min.js%22%3E%3C/script%3E%0A%20%20%20%20%3Cscript%20src%3D%22https%3A//cdnjs.cloudflare.com/ajax/libs/Leaflet.awesome-markers/2.0.2/leaflet.awesome-markers.js%22%3E%3C/script%3E%0A%20%20%20%20%3Clink%20rel%3D%22stylesheet%22%20href%3D%22https%3A//cdn.jsdelivr.net/npm/leaflet%401.6.0/dist/leaflet.css%22/%3E%0A%20%20%20%20%3Clink%20rel%3D%22stylesheet%22%20href%3D%22https%3A//maxcdn.bootstrapcdn.com/bootstrap/3.2.0/css/bootstrap.min.css%22/%3E%0A%20%20%20%20%3Clink%20rel%3D%22stylesheet%22%20href%3D%22https%3A//maxcdn.bootstrapcdn.com/bootstrap/3.2.0/css/bootstrap-theme.min.css%22/%3E%0A%20%20%20%20%3Clink%20rel%3D%22stylesheet%22%20href%3D%22https%3A//maxcdn.bootstrapcdn.com/font-awesome/4.6.3/css/font-awesome.min.css%22/%3E%0A%20%20%20%20%3Clink%20rel%3D%22stylesheet%22%20href%3D%22https%3A//cdnjs.cloudflare.com/ajax/libs/Leaflet.awesome-markers/2.0.2/leaflet.awesome-markers.css%22/%3E%0A%20%20%20%20%3Clink%20rel%3D%22stylesheet%22%20href%3D%22https%3A//cdn.jsdelivr.net/gh/python-visualization/folium/folium/templates/leaflet.awesome.rotate.min.css%22/%3E%0A%20%20%20%20%0A%20%20%20%20%20%20%20%20%20%20%20%20%3Cmeta%20name%3D%22viewport%22%20content%3D%22width%3Ddevice-width%2C%0A%20%20%20%20%20%20%20%20%20%20%20%20%20%20%20%20initial-scale%3D1.0%2C%20maximum-scale%3D1.0%2C%20user-scalable%3Dno%22%20/%3E%0A%20%20%20%20%20%20%20%20%20%20%20%20%3Cstyle%3E%0A%20%20%20%20%20%20%20%20%20%20%20%20%20%20%20%20%23map_b0bf57203c914706b3ec08a5224436e3%20%7B%0A%20%20%20%20%20%20%20%20%20%20%20%20%20%20%20%20%20%20%20%20position%3A%20relative%3B%0A%20%20%20%20%20%20%20%20%20%20%20%20%20%20%20%20%20%20%20%20width%3A%20100.0%25%3B%0A%20%20%20%20%20%20%20%20%20%20%20%20%20%20%20%20%20%20%20%20height%3A%20100.0%25%3B%0A%20%20%20%20%20%20%20%20%20%20%20%20%20%20%20%20%20%20%20%20left%3A%200.0%25%3B%0A%20%20%20%20%20%20%20%20%20%20%20%20%20%20%20%20%20%20%20%20top%3A%200.0%25%3B%0A%20%20%20%20%20%20%20%20%20%20%20%20%20%20%20%20%7D%0A%20%20%20%20%20%20%20%20%20%20%20%20%3C/style%3E%0A%20%20%20%20%20%20%20%20%0A%3C/head%3E%0A%3Cbody%3E%20%20%20%20%0A%20%20%20%20%0A%20%20%20%20%20%20%20%20%20%20%20%20%3Cdiv%20class%3D%22folium-map%22%20id%3D%22map_b0bf57203c914706b3ec08a5224436e3%22%20%3E%3C/div%3E%0A%20%20%20%20%20%20%20%20%0A%3C/body%3E%0A%3Cscript%3E%20%20%20%20%0A%20%20%20%20%0A%20%20%20%20%20%20%20%20%20%20%20%20var%20map_b0bf57203c914706b3ec08a5224436e3%20%3D%20L.map%28%0A%20%20%20%20%20%20%20%20%20%20%20%20%20%20%20%20%22map_b0bf57203c914706b3ec08a5224436e3%22%2C%0A%20%20%20%20%20%20%20%20%20%20%20%20%20%20%20%20%7B%0A%20%20%20%20%20%20%20%20%20%20%20%20%20%20%20%20%20%20%20%20center%3A%20%5B40.735613%2C%20-73.9903273%5D%2C%0A%20%20%20%20%20%20%20%20%20%20%20%20%20%20%20%20%20%20%20%20crs%3A%20L.CRS.EPSG3857%2C%0A%20%20%20%20%20%20%20%20%20%20%20%20%20%20%20%20%20%20%20%20zoom%3A%2014%2C%0A%20%20%20%20%20%20%20%20%20%20%20%20%20%20%20%20%20%20%20%20zoomControl%3A%20true%2C%0A%20%20%20%20%20%20%20%20%20%20%20%20%20%20%20%20%20%20%20%20preferCanvas%3A%20false%2C%0A%20%20%20%20%20%20%20%20%20%20%20%20%20%20%20%20%7D%0A%20%20%20%20%20%20%20%20%20%20%20%20%29%3B%0A%20%20%20%20%20%20%20%20%20%20%20%20L.control.scale%28%29.addTo%28map_b0bf57203c914706b3ec08a5224436e3%29%3B%0A%0A%20%20%20%20%20%20%20%20%20%20%20%20%0A%0A%20%20%20%20%20%20%20%20%0A%20%20%20%20%0A%20%20%20%20%20%20%20%20%20%20%20%20var%20tile_layer_e44066bdfb1e42c8b50ed437b0bc7262%20%3D%20L.tileLayer%28%0A%20%20%20%20%20%20%20%20%20%20%20%20%20%20%20%20%22https%3A//%7Bs%7D.tile.openstreetmap.org/%7Bz%7D/%7Bx%7D/%7By%7D.png%22%2C%0A%20%20%20%20%20%20%20%20%20%20%20%20%20%20%20%20%7B%22attribution%22%3A%20%22Data%20by%20%5Cu0026copy%3B%20%5Cu003ca%20href%3D%5C%22http%3A//openstreetmap.org%5C%22%5Cu003eOpenStreetMap%5Cu003c/a%5Cu003e%2C%20under%20%5Cu003ca%20href%3D%5C%22http%3A//www.openstreetmap.org/copyright%5C%22%5Cu003eODbL%5Cu003c/a%5Cu003e.%22%2C%20%22detectRetina%22%3A%20false%2C%20%22maxNativeZoom%22%3A%2018%2C%20%22maxZoom%22%3A%2018%2C%20%22minZoom%22%3A%200%2C%20%22noWrap%22%3A%20false%2C%20%22opacity%22%3A%201%2C%20%22subdomains%22%3A%20%22abc%22%2C%20%22tms%22%3A%20false%7D%0A%20%20%20%20%20%20%20%20%20%20%20%20%29.addTo%28map_b0bf57203c914706b3ec08a5224436e3%29%3B%0A%20%20%20%20%20%20%20%20%0A%20%20%20%20%0A%20%20%20%20%20%20%20%20%20%20%20%20var%20marker_1bc55a1160534c7ebe34482f03f12804%20%3D%20L.marker%28%0A%20%20%20%20%20%20%20%20%20%20%20%20%20%20%20%20%5B40.735196%2C%20-73.9946521%5D%2C%0A%20%20%20%20%20%20%20%20%20%20%20%20%20%20%20%20%7B%7D%0A%20%20%20%20%20%20%20%20%20%20%20%20%29.addTo%28map_b0bf57203c914706b3ec08a5224436e3%29%3B%0A%20%20%20%20%20%20%20%20%0A%20%20%20%20%0A%20%20%20%20%20%20%20%20%20%20%20%20var%20icon_9453361f96c84eddb84b7b6b10740f58%20%3D%20L.AwesomeMarkers.icon%28%0A%20%20%20%20%20%20%20%20%20%20%20%20%20%20%20%20%7B%22extraClasses%22%3A%20%22fa-rotate-0%22%2C%20%22icon%22%3A%20%22university%22%2C%20%22iconColor%22%3A%20%22white%22%2C%20%22markerColor%22%3A%20%22lightblue%22%2C%20%22prefix%22%3A%20%22fa%22%7D%0A%20%20%20%20%20%20%20%20%20%20%20%20%29%3B%0A%20%20%20%20%20%20%20%20%20%20%20%20marker_1bc55a1160534c7ebe34482f03f12804.setIcon%28icon_9453361f96c84eddb84b7b6b10740f58%29%3B%0A%20%20%20%20%20%20%20%20%0A%20%20%20%20%0A%20%20%20%20%20%20%20%20var%20popup_feff8c9f34af40a3b02ba3725e10b352%20%3D%20L.popup%28%7B%22maxWidth%22%3A%20%22100%25%22%7D%29%3B%0A%0A%20%20%20%20%20%20%20%20%0A%20%20%20%20%20%20%20%20%20%20%20%20var%20html_78a192c068b640a6b40c078c2fdc0473%20%3D%20%24%28%60%3Cdiv%20id%3D%22html_78a192c068b640a6b40c078c2fdc0473%22%20style%3D%22width%3A%20100.0%25%3B%20height%3A%20100.0%25%3B%22%3ENew%20School%20University%20/%20Parsons%20School%20Of%20Design%3C/div%3E%60%29%5B0%5D%3B%0A%20%20%20%20%20%20%20%20%20%20%20%20popup_feff8c9f34af40a3b02ba3725e10b352.setContent%28html_78a192c068b640a6b40c078c2fdc0473%29%3B%0A%20%20%20%20%20%20%20%20%0A%0A%20%20%20%20%20%20%20%20marker_1bc55a1160534c7ebe34482f03f12804.bindPopup%28popup_feff8c9f34af40a3b02ba3725e10b352%29%0A%20%20%20%20%20%20%20%20%3B%0A%0A%20%20%20%20%20%20%20%20%0A%20%20%20%20%0A%20%20%20%20%0A%20%20%20%20%20%20%20%20%20%20%20%20var%20marker_c2dc369a92ca4178ba5c91e52fc9891a%20%3D%20L.marker%28%0A%20%20%20%20%20%20%20%20%20%20%20%20%20%20%20%20%5B40.735462%2C%20-73.9970696%5D%2C%0A%20%20%20%20%20%20%20%20%20%20%20%20%20%20%20%20%7B%7D%0A%20%20%20%20%20%20%20%20%20%20%20%20%29.addTo%28map_b0bf57203c914706b3ec08a5224436e3%29%3B%0A%20%20%20%20%20%20%20%20%0A%20%20%20%20%0A%20%20%20%20%20%20%20%20%20%20%20%20var%20icon_56f64dda0d7a49c49b7f48f6441d6dde%20%3D%20L.AwesomeMarkers.icon%28%0A%20%20%20%20%20%20%20%20%20%20%20%20%20%20%20%20%7B%22extraClasses%22%3A%20%22fa-rotate-0%22%2C%20%22icon%22%3A%20%22university%22%2C%20%22iconColor%22%3A%20%22white%22%2C%20%22markerColor%22%3A%20%22lightblue%22%2C%20%22prefix%22%3A%20%22fa%22%7D%0A%20%20%20%20%20%20%20%20%20%20%20%20%29%3B%0A%20%20%20%20%20%20%20%20%20%20%20%20marker_c2dc369a92ca4178ba5c91e52fc9891a.setIcon%28icon_56f64dda0d7a49c49b7f48f6441d6dde%29%3B%0A%20%20%20%20%20%20%20%20%0A%20%20%20%20%0A%20%20%20%20%20%20%20%20var%20popup_db3fd04c12784617ba05e34b1a2897ed%20%3D%20L.popup%28%7B%22maxWidth%22%3A%20%22100%25%22%7D%29%3B%0A%0A%20%20%20%20%20%20%20%20%0A%20%20%20%20%20%20%20%20%20%20%20%20var%20html_957aab1bf1384f75b8098f41cea96b01%20%3D%20%24%28%60%3Cdiv%20id%3D%22html_957aab1bf1384f75b8098f41cea96b01%22%20style%3D%22width%3A%20100.0%25%3B%20height%3A%20100.0%25%3B%22%3ENew%20School%20University%20/%20The%20New%20School%3C/div%3E%60%29%5B0%5D%3B%0A%20%20%20%20%20%20%20%20%20%20%20%20popup_db3fd04c12784617ba05e34b1a2897ed.setContent%28html_957aab1bf1384f75b8098f41cea96b01%29%3B%0A%20%20%20%20%20%20%20%20%0A%0A%20%20%20%20%20%20%20%20marker_c2dc369a92ca4178ba5c91e52fc9891a.bindPopup%28popup_db3fd04c12784617ba05e34b1a2897ed%29%0A%20%20%20%20%20%20%20%20%3B%0A%0A%20%20%20%20%20%20%20%20%0A%20%20%20%20%0A%20%20%20%20%0A%20%20%20%20%20%20%20%20%20%20%20%20var%20marker_bb6ab9a08273498c8b4c346ec9460ccd%20%3D%20L.marker%28%0A%20%20%20%20%20%20%20%20%20%20%20%20%20%20%20%20%5B40.723441%2C%20-74.0068194%5D%2C%0A%20%20%20%20%20%20%20%20%20%20%20%20%20%20%20%20%7B%7D%0A%20%20%20%20%20%20%20%20%20%20%20%20%29.addTo%28map_b0bf57203c914706b3ec08a5224436e3%29%3B%0A%20%20%20%20%20%20%20%20%0A%20%20%20%20%0A%20%20%20%20%20%20%20%20%20%20%20%20var%20icon_2365412324f843f9b671bc51785f3cc2%20%3D%20L.AwesomeMarkers.icon%28%0A%20%20%20%20%20%20%20%20%20%20%20%20%20%20%20%20%7B%22extraClasses%22%3A%20%22fa-rotate-0%22%2C%20%22icon%22%3A%20%22university%22%2C%20%22iconColor%22%3A%20%22white%22%2C%20%22markerColor%22%3A%20%22lightblue%22%2C%20%22prefix%22%3A%20%22fa%22%7D%0A%20%20%20%20%20%20%20%20%20%20%20%20%29%3B%0A%20%20%20%20%20%20%20%20%20%20%20%20marker_bb6ab9a08273498c8b4c346ec9460ccd.setIcon%28icon_2365412324f843f9b671bc51785f3cc2%29%3B%0A%20%20%20%20%20%20%20%20%0A%20%20%20%20%0A%20%20%20%20%20%20%20%20var%20popup_070128f8eb7344a49ba90de200bf9169%20%3D%20L.popup%28%7B%22maxWidth%22%3A%20%22100%25%22%7D%29%3B%0A%0A%20%20%20%20%20%20%20%20%0A%20%20%20%20%20%20%20%20%20%20%20%20var%20html_2244bb9d47f8423fbaa09ca26a79fb94%20%3D%20%24%28%60%3Cdiv%20id%3D%22html_2244bb9d47f8423fbaa09ca26a79fb94%22%20style%3D%22width%3A%20100.0%25%3B%20height%3A%20100.0%25%3B%22%3EMetropolitan%20College%3C/div%3E%60%29%5B0%5D%3B%0A%20%20%20%20%20%20%20%20%20%20%20%20popup_070128f8eb7344a49ba90de200bf9169.setContent%28html_2244bb9d47f8423fbaa09ca26a79fb94%29%3B%0A%20%20%20%20%20%20%20%20%0A%0A%20%20%20%20%20%20%20%20marker_bb6ab9a08273498c8b4c346ec9460ccd.bindPopup%28popup_070128f8eb7344a49ba90de200bf9169%29%0A%20%20%20%20%20%20%20%20%3B%0A%0A%20%20%20%20%20%20%20%20%0A%20%20%20%20%0A%20%20%20%20%0A%20%20%20%20%20%20%20%20%20%20%20%20var%20marker_c0113bcfab4a421ebbd8398e209eab61%20%3D%20L.marker%28%0A%20%20%20%20%20%20%20%20%20%20%20%20%20%20%20%20%5B40.739442%2C%20-73.794393%5D%2C%0A%20%20%20%20%20%20%20%20%20%20%20%20%20%20%20%20%7B%7D%0A%20%20%20%20%20%20%20%20%20%20%20%20%29.addTo%28map_b0bf57203c914706b3ec08a5224436e3%29%3B%0A%20%20%20%20%20%20%20%20%0A%20%20%20%20%0A%20%20%20%20%20%20%20%20%20%20%20%20var%20icon_2fc23fee84664323936043a30924b250%20%3D%20L.AwesomeMarkers.icon%28%0A%20%20%20%20%20%20%20%20%20%20%20%20%20%20%20%20%7B%22extraClasses%22%3A%20%22fa-rotate-0%22%2C%20%22icon%22%3A%20%22university%22%2C%20%22iconColor%22%3A%20%22white%22%2C%20%22markerColor%22%3A%20%22lightblue%22%2C%20%22prefix%22%3A%20%22fa%22%7D%0A%20%20%20%20%20%20%20%20%20%20%20%20%29%3B%0A%20%20%20%20%20%20%20%20%20%20%20%20marker_c0113bcfab4a421ebbd8398e209eab61.setIcon%28icon_2fc23fee84664323936043a30924b250%29%3B%0A%20%20%20%20%20%20%20%20%0A%20%20%20%20%0A%20%20%20%20%20%20%20%20var%20popup_130a4f476c3c4a8a8f2e928cd71a605f%20%3D%20L.popup%28%7B%22maxWidth%22%3A%20%22100%25%22%7D%29%3B%0A%0A%20%20%20%20%20%20%20%20%0A%20%20%20%20%20%20%20%20%20%20%20%20var%20html_4d7feb40d4c24067a82eca19fc26db33%20%3D%20%24%28%60%3Cdiv%20id%3D%22html_4d7feb40d4c24067a82eca19fc26db33%22%20style%3D%22width%3A%20100.0%25%3B%20height%3A%20100.0%25%3B%22%3ESchool%20Of%20Nursing%20Of%20St.%20Vincents%20Catholic%20Medical%20Centers%2C%20The%3C/div%3E%60%29%5B0%5D%3B%0A%20%20%20%20%20%20%20%20%20%20%20%20popup_130a4f476c3c4a8a8f2e928cd71a605f.setContent%28html_4d7feb40d4c24067a82eca19fc26db33%29%3B%0A%20%20%20%20%20%20%20%20%0A%0A%20%20%20%20%20%20%20%20marker_c0113bcfab4a421ebbd8398e209eab61.bindPopup%28popup_130a4f476c3c4a8a8f2e928cd71a605f%29%0A%20%20%20%20%20%20%20%20%3B%0A%0A%20%20%20%20%20%20%20%20%0A%20%20%20%20%0A%20%20%20%20%0A%20%20%20%20%20%20%20%20%20%20%20%20var%20marker_dc5b430c14c642238fd99d5455b16c49%20%3D%20L.marker%28%0A%20%20%20%20%20%20%20%20%20%20%20%20%20%20%20%20%5B40.721371%2C%20-73.8487205%5D%2C%0A%20%20%20%20%20%20%20%20%20%20%20%20%20%20%20%20%7B%7D%0A%20%20%20%20%20%20%20%20%20%20%20%20%29.addTo%28map_b0bf57203c914706b3ec08a5224436e3%29%3B%0A%20%20%20%20%20%20%20%20%0A%20%20%20%20%0A%20%20%20%20%20%20%20%20%20%20%20%20var%20icon_350bad7dc46242c88be58a00e81e9ecd%20%3D%20L.AwesomeMarkers.icon%28%0A%20%20%20%20%20%20%20%20%20%20%20%20%20%20%20%20%7B%22extraClasses%22%3A%20%22fa-rotate-0%22%2C%20%22icon%22%3A%20%22university%22%2C%20%22iconColor%22%3A%20%22white%22%2C%20%22markerColor%22%3A%20%22lightblue%22%2C%20%22prefix%22%3A%20%22fa%22%7D%0A%20%20%20%20%20%20%20%20%20%20%20%20%29%3B%0A%20%20%20%20%20%20%20%20%20%20%20%20marker_dc5b430c14c642238fd99d5455b16c49.setIcon%28icon_350bad7dc46242c88be58a00e81e9ecd%29%3B%0A%20%20%20%20%20%20%20%20%0A%20%20%20%20%0A%20%20%20%20%20%20%20%20var%20popup_f4fad063f64d43d3b36679a325ddab58%20%3D%20L.popup%28%7B%22maxWidth%22%3A%20%22100%25%22%7D%29%3B%0A%0A%20%20%20%20%20%20%20%20%0A%20%20%20%20%20%20%20%20%20%20%20%20var%20html_85afade0499b4d469e58b4be24e6a7e7%20%3D%20%24%28%60%3Cdiv%20id%3D%22html_85afade0499b4d469e58b4be24e6a7e7%22%20style%3D%22width%3A%20100.0%25%3B%20height%3A%20100.0%25%3B%22%3EBramson%20Ort%20College%3C/div%3E%60%29%5B0%5D%3B%0A%20%20%20%20%20%20%20%20%20%20%20%20popup_f4fad063f64d43d3b36679a325ddab58.setContent%28html_85afade0499b4d469e58b4be24e6a7e7%29%3B%0A%20%20%20%20%20%20%20%20%0A%0A%20%20%20%20%20%20%20%20marker_dc5b430c14c642238fd99d5455b16c49.bindPopup%28popup_f4fad063f64d43d3b36679a325ddab58%29%0A%20%20%20%20%20%20%20%20%3B%0A%0A%20%20%20%20%20%20%20%20%0A%20%20%20%20%0A%20%20%20%20%0A%20%20%20%20%20%20%20%20%20%20%20%20var%20marker_bb7efedc0b2e4f94ae83947139e6d0a1%20%3D%20L.marker%28%0A%20%20%20%20%20%20%20%20%20%20%20%20%20%20%20%20%5B40.7256%2C%20-73.791694%5D%2C%0A%20%20%20%20%20%20%20%20%20%20%20%20%20%20%20%20%7B%7D%0A%20%20%20%20%20%20%20%20%20%20%20%20%29.addTo%28map_b0bf57203c914706b3ec08a5224436e3%29%3B%0A%20%20%20%20%20%20%20%20%0A%20%20%20%20%0A%20%20%20%20%20%20%20%20%20%20%20%20var%20icon_ba89977a79004627ab3bfaa64d10bb61%20%3D%20L.AwesomeMarkers.icon%28%0A%20%20%20%20%20%20%20%20%20%20%20%20%20%20%20%20%7B%22extraClasses%22%3A%20%22fa-rotate-0%22%2C%20%22icon%22%3A%20%22university%22%2C%20%22iconColor%22%3A%20%22white%22%2C%20%22markerColor%22%3A%20%22lightblue%22%2C%20%22prefix%22%3A%20%22fa%22%7D%0A%20%20%20%20%20%20%20%20%20%20%20%20%29%3B%0A%20%20%20%20%20%20%20%20%20%20%20%20marker_bb7efedc0b2e4f94ae83947139e6d0a1.setIcon%28icon_ba89977a79004627ab3bfaa64d10bb61%29%3B%0A%20%20%20%20%20%20%20%20%0A%20%20%20%20%0A%20%20%20%20%20%20%20%20var%20popup_c1365fe478c94298b99caafd9315f3e9%20%3D%20L.popup%28%7B%22maxWidth%22%3A%20%22100%25%22%7D%29%3B%0A%0A%20%20%20%20%20%20%20%20%0A%20%20%20%20%20%20%20%20%20%20%20%20var%20html_ca4c19fbc6fe4316a9ee603b65527666%20%3D%20%24%28%60%3Cdiv%20id%3D%22html_ca4c19fbc6fe4316a9ee603b65527666%22%20style%3D%22width%3A%20100.0%25%3B%20height%3A%20100.0%25%3B%22%3ESt.%20John%27s%20University%20/%20Queens%20Campus%3C/div%3E%60%29%5B0%5D%3B%0A%20%20%20%20%20%20%20%20%20%20%20%20popup_c1365fe478c94298b99caafd9315f3e9.setContent%28html_ca4c19fbc6fe4316a9ee603b65527666%29%3B%0A%20%20%20%20%20%20%20%20%0A%0A%20%20%20%20%20%20%20%20marker_bb7efedc0b2e4f94ae83947139e6d0a1.bindPopup%28popup_c1365fe478c94298b99caafd9315f3e9%29%0A%20%20%20%20%20%20%20%20%3B%0A%0A%20%20%20%20%20%20%20%20%0A%20%20%20%20%0A%20%20%20%20%0A%20%20%20%20%20%20%20%20%20%20%20%20var%20marker_34a111efdb6e4cbfaba75aff2460b20b%20%3D%20L.marker%28%0A%20%20%20%20%20%20%20%20%20%20%20%20%20%20%20%20%5B40.767812%2C%20-73.8826266%5D%2C%0A%20%20%20%20%20%20%20%20%20%20%20%20%20%20%20%20%7B%7D%0A%20%20%20%20%20%20%20%20%20%20%20%20%29.addTo%28map_b0bf57203c914706b3ec08a5224436e3%29%3B%0A%20%20%20%20%20%20%20%20%0A%20%20%20%20%0A%20%20%20%20%20%20%20%20%20%20%20%20var%20icon_f3aebbb584f9453c93c81e1cf3a5b018%20%3D%20L.AwesomeMarkers.icon%28%0A%20%20%20%20%20%20%20%20%20%20%20%20%20%20%20%20%7B%22extraClasses%22%3A%20%22fa-rotate-0%22%2C%20%22icon%22%3A%20%22university%22%2C%20%22iconColor%22%3A%20%22white%22%2C%20%22markerColor%22%3A%20%22lightblue%22%2C%20%22prefix%22%3A%20%22fa%22%7D%0A%20%20%20%20%20%20%20%20%20%20%20%20%29%3B%0A%20%20%20%20%20%20%20%20%20%20%20%20marker_34a111efdb6e4cbfaba75aff2460b20b.setIcon%28icon_f3aebbb584f9453c93c81e1cf3a5b018%29%3B%0A%20%20%20%20%20%20%20%20%0A%20%20%20%20%0A%20%20%20%20%20%20%20%20var%20popup_73bbaf1e5e184f4cb4f45c98f22e1bd8%20%3D%20L.popup%28%7B%22maxWidth%22%3A%20%22100%25%22%7D%29%3B%0A%0A%20%20%20%20%20%20%20%20%0A%20%20%20%20%20%20%20%20%20%20%20%20var%20html_c461bfeb098c4087bb0936e14f560eb0%20%3D%20%24%28%60%3Cdiv%20id%3D%22html_c461bfeb098c4087bb0936e14f560eb0%22%20style%3D%22width%3A%20100.0%25%3B%20height%3A%20100.0%25%3B%22%3ECollege%20Of%20Aeronautics%2C%20Laguardia%20Airport%3C/div%3E%60%29%5B0%5D%3B%0A%20%20%20%20%20%20%20%20%20%20%20%20popup_73bbaf1e5e184f4cb4f45c98f22e1bd8.setContent%28html_c461bfeb098c4087bb0936e14f560eb0%29%3B%0A%20%20%20%20%20%20%20%20%0A%0A%20%20%20%20%20%20%20%20marker_34a111efdb6e4cbfaba75aff2460b20b.bindPopup%28popup_73bbaf1e5e184f4cb4f45c98f22e1bd8%29%0A%20%20%20%20%20%20%20%20%3B%0A%0A%20%20%20%20%20%20%20%20%0A%20%20%20%20%0A%20%20%20%20%0A%20%20%20%20%20%20%20%20%20%20%20%20var%20marker_fbcb815127a248d3b322e34873bd8764%20%3D%20L.marker%28%0A%20%20%20%20%20%20%20%20%20%20%20%20%20%20%20%20%5B40.614772%2C%20-74.0925422%5D%2C%0A%20%20%20%20%20%20%20%20%20%20%20%20%20%20%20%20%7B%7D%0A%20%20%20%20%20%20%20%20%20%20%20%20%29.addTo%28map_b0bf57203c914706b3ec08a5224436e3%29%3B%0A%20%20%20%20%20%20%20%20%0A%20%20%20%20%0A%20%20%20%20%20%20%20%20%20%20%20%20var%20icon_8806fd1ad92f44ac8863fb35e5b76fc0%20%3D%20L.AwesomeMarkers.icon%28%0A%20%20%20%20%20%20%20%20%20%20%20%20%20%20%20%20%7B%22extraClasses%22%3A%20%22fa-rotate-0%22%2C%20%22icon%22%3A%20%22university%22%2C%20%22iconColor%22%3A%20%22white%22%2C%20%22markerColor%22%3A%20%22lightblue%22%2C%20%22prefix%22%3A%20%22fa%22%7D%0A%20%20%20%20%20%20%20%20%20%20%20%20%29%3B%0A%20%20%20%20%20%20%20%20%20%20%20%20marker_fbcb815127a248d3b322e34873bd8764.setIcon%28icon_8806fd1ad92f44ac8863fb35e5b76fc0%29%3B%0A%20%20%20%20%20%20%20%20%0A%20%20%20%20%0A%20%20%20%20%20%20%20%20var%20popup_fa036779a6644dc39142c9a98044b696%20%3D%20L.popup%28%7B%22maxWidth%22%3A%20%22100%25%22%7D%29%3B%0A%0A%20%20%20%20%20%20%20%20%0A%20%20%20%20%20%20%20%20%20%20%20%20var%20html_d97ede453818495eb99ae8915bce4624%20%3D%20%24%28%60%3Cdiv%20id%3D%22html_d97ede453818495eb99ae8915bce4624%22%20style%3D%22width%3A%20100.0%25%3B%20height%3A%20100.0%25%3B%22%3EWagner%20College%3C/div%3E%60%29%5B0%5D%3B%0A%20%20%20%20%20%20%20%20%20%20%20%20popup_fa036779a6644dc39142c9a98044b696.setContent%28html_d97ede453818495eb99ae8915bce4624%29%3B%0A%20%20%20%20%20%20%20%20%0A%0A%20%20%20%20%20%20%20%20marker_fbcb815127a248d3b322e34873bd8764.bindPopup%28popup_fa036779a6644dc39142c9a98044b696%29%0A%20%20%20%20%20%20%20%20%3B%0A%0A%20%20%20%20%20%20%20%20%0A%20%20%20%20%0A%20%20%20%20%0A%20%20%20%20%20%20%20%20%20%20%20%20var%20marker_d4f0b6ee0e7f415cb169c68a2560afdb%20%3D%20L.marker%28%0A%20%20%20%20%20%20%20%20%20%20%20%20%20%20%20%20%5B40.74711%2C%20-73.9939509%5D%2C%0A%20%20%20%20%20%20%20%20%20%20%20%20%20%20%20%20%7B%7D%0A%20%20%20%20%20%20%20%20%20%20%20%20%29.addTo%28map_b0bf57203c914706b3ec08a5224436e3%29%3B%0A%20%20%20%20%20%20%20%20%0A%20%20%20%20%0A%20%20%20%20%20%20%20%20%20%20%20%20var%20icon_c9e8c62160db4dd89829f98ec4adfe2f%20%3D%20L.AwesomeMarkers.icon%28%0A%20%20%20%20%20%20%20%20%20%20%20%20%20%20%20%20%7B%22extraClasses%22%3A%20%22fa-rotate-0%22%2C%20%22icon%22%3A%20%22university%22%2C%20%22iconColor%22%3A%20%22white%22%2C%20%22markerColor%22%3A%20%22lightblue%22%2C%20%22prefix%22%3A%20%22fa%22%7D%0A%20%20%20%20%20%20%20%20%20%20%20%20%29%3B%0A%20%20%20%20%20%20%20%20%20%20%20%20marker_d4f0b6ee0e7f415cb169c68a2560afdb.setIcon%28icon_c9e8c62160db4dd89829f98ec4adfe2f%29%3B%0A%20%20%20%20%20%20%20%20%0A%20%20%20%20%0A%20%20%20%20%20%20%20%20var%20popup_df228acdc816433396a5c1470772905f%20%3D%20L.popup%28%7B%22maxWidth%22%3A%20%22100%25%22%7D%29%3B%0A%0A%20%20%20%20%20%20%20%20%0A%20%20%20%20%20%20%20%20%20%20%20%20var%20html_3b06a2af4e30495ab18648d315ef4d02%20%3D%20%24%28%60%3Cdiv%20id%3D%22html_3b06a2af4e30495ab18648d315ef4d02%22%20style%3D%22width%3A%20100.0%25%3B%20height%3A%20100.0%25%3B%22%3EFashion%20Institute%20Of%20Technology%20%28Suny%29%3C/div%3E%60%29%5B0%5D%3B%0A%20%20%20%20%20%20%20%20%20%20%20%20popup_df228acdc816433396a5c1470772905f.setContent%28html_3b06a2af4e30495ab18648d315ef4d02%29%3B%0A%20%20%20%20%20%20%20%20%0A%0A%20%20%20%20%20%20%20%20marker_d4f0b6ee0e7f415cb169c68a2560afdb.bindPopup%28popup_df228acdc816433396a5c1470772905f%29%0A%20%20%20%20%20%20%20%20%3B%0A%0A%20%20%20%20%20%20%20%20%0A%20%20%20%20%0A%20%20%20%20%0A%20%20%20%20%20%20%20%20%20%20%20%20var%20marker_2757dba6a4604009a1ff7e79466cb93d%20%3D%20L.marker%28%0A%20%20%20%20%20%20%20%20%20%20%20%20%20%20%20%20%5B40.87459%2C%20-73.8929095%5D%2C%0A%20%20%20%20%20%20%20%20%20%20%20%20%20%20%20%20%7B%7D%0A%20%20%20%20%20%20%20%20%20%20%20%20%29.addTo%28map_b0bf57203c914706b3ec08a5224436e3%29%3B%0A%20%20%20%20%20%20%20%20%0A%20%20%20%20%0A%20%20%20%20%20%20%20%20%20%20%20%20var%20icon_9ec6bcd552f04a8589d711feaf834b74%20%3D%20L.AwesomeMarkers.icon%28%0A%20%20%20%20%20%20%20%20%20%20%20%20%20%20%20%20%7B%22extraClasses%22%3A%20%22fa-rotate-0%22%2C%20%22icon%22%3A%20%22university%22%2C%20%22iconColor%22%3A%20%22white%22%2C%20%22markerColor%22%3A%20%22lightblue%22%2C%20%22prefix%22%3A%20%22fa%22%7D%0A%20%20%20%20%20%20%20%20%20%20%20%20%29%3B%0A%20%20%20%20%20%20%20%20%20%20%20%20marker_2757dba6a4604009a1ff7e79466cb93d.setIcon%28icon_9ec6bcd552f04a8589d711feaf834b74%29%3B%0A%20%20%20%20%20%20%20%20%0A%20%20%20%20%0A%20%20%20%20%20%20%20%20var%20popup_bea84269036e44a1a655b00688235cd4%20%3D%20L.popup%28%7B%22maxWidth%22%3A%20%22100%25%22%7D%29%3B%0A%0A%20%20%20%20%20%20%20%20%0A%20%20%20%20%20%20%20%20%20%20%20%20var%20html_cd1cf69aa1a7473fa28d5aa7b472b7fe%20%3D%20%24%28%60%3Cdiv%20id%3D%22html_cd1cf69aa1a7473fa28d5aa7b472b7fe%22%20style%3D%22width%3A%20100.0%25%3B%20height%3A%20100.0%25%3B%22%3EHerbert%20H%20Lehman%20College%20%28Cuny%29%3C/div%3E%60%29%5B0%5D%3B%0A%20%20%20%20%20%20%20%20%20%20%20%20popup_bea84269036e44a1a655b00688235cd4.setContent%28html_cd1cf69aa1a7473fa28d5aa7b472b7fe%29%3B%0A%20%20%20%20%20%20%20%20%0A%0A%20%20%20%20%20%20%20%20marker_2757dba6a4604009a1ff7e79466cb93d.bindPopup%28popup_bea84269036e44a1a655b00688235cd4%29%0A%20%20%20%20%20%20%20%20%3B%0A%0A%20%20%20%20%20%20%20%20%0A%20%20%20%20%0A%20%20%20%20%0A%20%20%20%20%20%20%20%20%20%20%20%20var%20marker_2f9134b68d4548109a1d708c52be4f0e%20%3D%20L.marker%28%0A%20%20%20%20%20%20%20%20%20%20%20%20%20%20%20%20%5B40.817826%2C%20-73.9269317%5D%2C%0A%20%20%20%20%20%20%20%20%20%20%20%20%20%20%20%20%7B%7D%0A%20%20%20%20%20%20%20%20%20%20%20%20%29.addTo%28map_b0bf57203c914706b3ec08a5224436e3%29%3B%0A%20%20%20%20%20%20%20%20%0A%20%20%20%20%0A%20%20%20%20%20%20%20%20%20%20%20%20var%20icon_7de688a18a8247f08ddf98daa700e274%20%3D%20L.AwesomeMarkers.icon%28%0A%20%20%20%20%20%20%20%20%20%20%20%20%20%20%20%20%7B%22extraClasses%22%3A%20%22fa-rotate-0%22%2C%20%22icon%22%3A%20%22university%22%2C%20%22iconColor%22%3A%20%22white%22%2C%20%22markerColor%22%3A%20%22lightblue%22%2C%20%22prefix%22%3A%20%22fa%22%7D%0A%20%20%20%20%20%20%20%20%20%20%20%20%29%3B%0A%20%20%20%20%20%20%20%20%20%20%20%20marker_2f9134b68d4548109a1d708c52be4f0e.setIcon%28icon_7de688a18a8247f08ddf98daa700e274%29%3B%0A%20%20%20%20%20%20%20%20%0A%20%20%20%20%0A%20%20%20%20%20%20%20%20var%20popup_ed9cec66c1d94466822e55ef89e72aaf%20%3D%20L.popup%28%7B%22maxWidth%22%3A%20%22100%25%22%7D%29%3B%0A%0A%20%20%20%20%20%20%20%20%0A%20%20%20%20%20%20%20%20%20%20%20%20var%20html_75ba36f87f01446bb775567dde343f12%20%3D%20%24%28%60%3Cdiv%20id%3D%22html_75ba36f87f01446bb775567dde343f12%22%20style%3D%22width%3A%20100.0%25%3B%20height%3A%20100.0%25%3B%22%3EEugenio%20Maria%20De%20Hostos%20Comm%20Coll%20%28Cuny%29%3C/div%3E%60%29%5B0%5D%3B%0A%20%20%20%20%20%20%20%20%20%20%20%20popup_ed9cec66c1d94466822e55ef89e72aaf.setContent%28html_75ba36f87f01446bb775567dde343f12%29%3B%0A%20%20%20%20%20%20%20%20%0A%0A%20%20%20%20%20%20%20%20marker_2f9134b68d4548109a1d708c52be4f0e.bindPopup%28popup_ed9cec66c1d94466822e55ef89e72aaf%29%0A%20%20%20%20%20%20%20%20%3B%0A%0A%20%20%20%20%20%20%20%20%0A%20%20%20%20%0A%20%20%20%20%0A%20%20%20%20%20%20%20%20%20%20%20%20var%20marker_c3c92c62b05b45d996aaaaf62213c659%20%3D%20L.marker%28%0A%20%20%20%20%20%20%20%20%20%20%20%20%20%20%20%20%5B40.856814%2C%20-73.9088325%5D%2C%0A%20%20%20%20%20%20%20%20%20%20%20%20%20%20%20%20%7B%7D%0A%20%20%20%20%20%20%20%20%20%20%20%20%29.addTo%28map_b0bf57203c914706b3ec08a5224436e3%29%3B%0A%20%20%20%20%20%20%20%20%0A%20%20%20%20%0A%20%20%20%20%20%20%20%20%20%20%20%20var%20icon_f8d479a794704adcaf511fcb6217c385%20%3D%20L.AwesomeMarkers.icon%28%0A%20%20%20%20%20%20%20%20%20%20%20%20%20%20%20%20%7B%22extraClasses%22%3A%20%22fa-rotate-0%22%2C%20%22icon%22%3A%20%22university%22%2C%20%22iconColor%22%3A%20%22white%22%2C%20%22markerColor%22%3A%20%22lightblue%22%2C%20%22prefix%22%3A%20%22fa%22%7D%0A%20%20%20%20%20%20%20%20%20%20%20%20%29%3B%0A%20%20%20%20%20%20%20%20%20%20%20%20marker_c3c92c62b05b45d996aaaaf62213c659.setIcon%28icon_f8d479a794704adcaf511fcb6217c385%29%3B%0A%20%20%20%20%20%20%20%20%0A%20%20%20%20%0A%20%20%20%20%20%20%20%20var%20popup_75bc2d42865b45658237b555894cbda8%20%3D%20L.popup%28%7B%22maxWidth%22%3A%20%22100%25%22%7D%29%3B%0A%0A%20%20%20%20%20%20%20%20%0A%20%20%20%20%20%20%20%20%20%20%20%20var%20html_40485d0e78804a96bd01cc6b369f67db%20%3D%20%24%28%60%3Cdiv%20id%3D%22html_40485d0e78804a96bd01cc6b369f67db%22%20style%3D%22width%3A%20100.0%25%3B%20height%3A%20100.0%25%3B%22%3EBronx%20Community%20College%20%28Cuny%29%3C/div%3E%60%29%5B0%5D%3B%0A%20%20%20%20%20%20%20%20%20%20%20%20popup_75bc2d42865b45658237b555894cbda8.setContent%28html_40485d0e78804a96bd01cc6b369f67db%29%3B%0A%20%20%20%20%20%20%20%20%0A%0A%20%20%20%20%20%20%20%20marker_c3c92c62b05b45d996aaaaf62213c659.bindPopup%28popup_75bc2d42865b45658237b555894cbda8%29%0A%20%20%20%20%20%20%20%20%3B%0A%0A%20%20%20%20%20%20%20%20%0A%20%20%20%20%0A%20%20%20%20%0A%20%20%20%20%20%20%20%20%20%20%20%20var%20marker_00f4d61796e24bcf98e4c3e641e25969%20%3D%20L.marker%28%0A%20%20%20%20%20%20%20%20%20%20%20%20%20%20%20%20%5B40.666337%2C%20-73.9576441%5D%2C%0A%20%20%20%20%20%20%20%20%20%20%20%20%20%20%20%20%7B%7D%0A%20%20%20%20%20%20%20%20%20%20%20%20%29.addTo%28map_b0bf57203c914706b3ec08a5224436e3%29%3B%0A%20%20%20%20%20%20%20%20%0A%20%20%20%20%0A%20%20%20%20%20%20%20%20%20%20%20%20var%20icon_9cf6e923cb8049e09559990a2962da52%20%3D%20L.AwesomeMarkers.icon%28%0A%20%20%20%20%20%20%20%20%20%20%20%20%20%20%20%20%7B%22extraClasses%22%3A%20%22fa-rotate-0%22%2C%20%22icon%22%3A%20%22university%22%2C%20%22iconColor%22%3A%20%22white%22%2C%20%22markerColor%22%3A%20%22lightblue%22%2C%20%22prefix%22%3A%20%22fa%22%7D%0A%20%20%20%20%20%20%20%20%20%20%20%20%29%3B%0A%20%20%20%20%20%20%20%20%20%20%20%20marker_00f4d61796e24bcf98e4c3e641e25969.setIcon%28icon_9cf6e923cb8049e09559990a2962da52%29%3B%0A%20%20%20%20%20%20%20%20%0A%20%20%20%20%0A%20%20%20%20%20%20%20%20var%20popup_2bf34646e41c4cffa942d7d844b35141%20%3D%20L.popup%28%7B%22maxWidth%22%3A%20%22100%25%22%7D%29%3B%0A%0A%20%20%20%20%20%20%20%20%0A%20%20%20%20%20%20%20%20%20%20%20%20var%20html_6122285e579640c68a1c9eacad70c6fb%20%3D%20%24%28%60%3Cdiv%20id%3D%22html_6122285e579640c68a1c9eacad70c6fb%22%20style%3D%22width%3A%20100.0%25%3B%20height%3A%20100.0%25%3B%22%3EMedgar%20Evers%20College%20%28Cuny%29%3C/div%3E%60%29%5B0%5D%3B%0A%20%20%20%20%20%20%20%20%20%20%20%20popup_2bf34646e41c4cffa942d7d844b35141.setContent%28html_6122285e579640c68a1c9eacad70c6fb%29%3B%0A%20%20%20%20%20%20%20%20%0A%0A%20%20%20%20%20%20%20%20marker_00f4d61796e24bcf98e4c3e641e25969.bindPopup%28popup_2bf34646e41c4cffa942d7d844b35141%29%0A%20%20%20%20%20%20%20%20%3B%0A%0A%20%20%20%20%20%20%20%20%0A%20%20%20%20%0A%20%20%20%20%0A%20%20%20%20%20%20%20%20%20%20%20%20var%20marker_c8d6f43d65c24b1c8fb7887436558a23%20%3D%20L.marker%28%0A%20%20%20%20%20%20%20%20%20%20%20%20%20%20%20%20%5B40.631765%2C%20-73.953484%5D%2C%0A%20%20%20%20%20%20%20%20%20%20%20%20%20%20%20%20%7B%7D%0A%20%20%20%20%20%20%20%20%20%20%20%20%29.addTo%28map_b0bf57203c914706b3ec08a5224436e3%29%3B%0A%20%20%20%20%20%20%20%20%0A%20%20%20%20%0A%20%20%20%20%20%20%20%20%20%20%20%20var%20icon_aa3f170708d34911a62ef148727af032%20%3D%20L.AwesomeMarkers.icon%28%0A%20%20%20%20%20%20%20%20%20%20%20%20%20%20%20%20%7B%22extraClasses%22%3A%20%22fa-rotate-0%22%2C%20%22icon%22%3A%20%22university%22%2C%20%22iconColor%22%3A%20%22white%22%2C%20%22markerColor%22%3A%20%22lightblue%22%2C%20%22prefix%22%3A%20%22fa%22%7D%0A%20%20%20%20%20%20%20%20%20%20%20%20%29%3B%0A%20%20%20%20%20%20%20%20%20%20%20%20marker_c8d6f43d65c24b1c8fb7887436558a23.setIcon%28icon_aa3f170708d34911a62ef148727af032%29%3B%0A%20%20%20%20%20%20%20%20%0A%20%20%20%20%0A%20%20%20%20%20%20%20%20var%20popup_ccf119db73bc42abbbd091286ad28baa%20%3D%20L.popup%28%7B%22maxWidth%22%3A%20%22100%25%22%7D%29%3B%0A%0A%20%20%20%20%20%20%20%20%0A%20%20%20%20%20%20%20%20%20%20%20%20var%20html_c010d067d2c94208b70f2dd7b6960585%20%3D%20%24%28%60%3Cdiv%20id%3D%22html_c010d067d2c94208b70f2dd7b6960585%22%20style%3D%22width%3A%20100.0%25%3B%20height%3A%20100.0%25%3B%22%3EBrooklyn%20College%20%28Cuny%29%3C/div%3E%60%29%5B0%5D%3B%0A%20%20%20%20%20%20%20%20%20%20%20%20popup_ccf119db73bc42abbbd091286ad28baa.setContent%28html_c010d067d2c94208b70f2dd7b6960585%29%3B%0A%20%20%20%20%20%20%20%20%0A%0A%20%20%20%20%20%20%20%20marker_c8d6f43d65c24b1c8fb7887436558a23.bindPopup%28popup_ccf119db73bc42abbbd091286ad28baa%29%0A%20%20%20%20%20%20%20%20%3B%0A%0A%20%20%20%20%20%20%20%20%0A%20%20%20%20%0A%20%20%20%20%0A%20%20%20%20%20%20%20%20%20%20%20%20var%20marker_79bdbc4870a649b1886c1161cd5d0377%20%3D%20L.marker%28%0A%20%20%20%20%20%20%20%20%20%20%20%20%20%20%20%20%5B40.695521%2C%20-73.9876633%5D%2C%0A%20%20%20%20%20%20%20%20%20%20%20%20%20%20%20%20%7B%7D%0A%20%20%20%20%20%20%20%20%20%20%20%20%29.addTo%28map_b0bf57203c914706b3ec08a5224436e3%29%3B%0A%20%20%20%20%20%20%20%20%0A%20%20%20%20%0A%20%20%20%20%20%20%20%20%20%20%20%20var%20icon_9d93f4a82d624dbe8799c0a5b7a4b67a%20%3D%20L.AwesomeMarkers.icon%28%0A%20%20%20%20%20%20%20%20%20%20%20%20%20%20%20%20%7B%22extraClasses%22%3A%20%22fa-rotate-0%22%2C%20%22icon%22%3A%20%22university%22%2C%20%22iconColor%22%3A%20%22white%22%2C%20%22markerColor%22%3A%20%22lightblue%22%2C%20%22prefix%22%3A%20%22fa%22%7D%0A%20%20%20%20%20%20%20%20%20%20%20%20%29%3B%0A%20%20%20%20%20%20%20%20%20%20%20%20marker_79bdbc4870a649b1886c1161cd5d0377.setIcon%28icon_9d93f4a82d624dbe8799c0a5b7a4b67a%29%3B%0A%20%20%20%20%20%20%20%20%0A%20%20%20%20%0A%20%20%20%20%20%20%20%20var%20popup_965dfbd1846c46fd9920e529476ebe0c%20%3D%20L.popup%28%7B%22maxWidth%22%3A%20%22100%25%22%7D%29%3B%0A%0A%20%20%20%20%20%20%20%20%0A%20%20%20%20%20%20%20%20%20%20%20%20var%20html_baff83aa892a469dbd93b2390fc88314%20%3D%20%24%28%60%3Cdiv%20id%3D%22html_baff83aa892a469dbd93b2390fc88314%22%20style%3D%22width%3A%20100.0%25%3B%20height%3A%20100.0%25%3B%22%3ENyc%20Technical%20College%20%28Cuny%29%3C/div%3E%60%29%5B0%5D%3B%0A%20%20%20%20%20%20%20%20%20%20%20%20popup_965dfbd1846c46fd9920e529476ebe0c.setContent%28html_baff83aa892a469dbd93b2390fc88314%29%3B%0A%20%20%20%20%20%20%20%20%0A%0A%20%20%20%20%20%20%20%20marker_79bdbc4870a649b1886c1161cd5d0377.bindPopup%28popup_965dfbd1846c46fd9920e529476ebe0c%29%0A%20%20%20%20%20%20%20%20%3B%0A%0A%20%20%20%20%20%20%20%20%0A%20%20%20%20%0A%20%20%20%20%0A%20%20%20%20%20%20%20%20%20%20%20%20var%20marker_48402773f7ed4060b8d58384909f4b50%20%3D%20L.marker%28%0A%20%20%20%20%20%20%20%20%20%20%20%20%20%20%20%20%5B0.6550726%2C%20-73.9449435%5D%2C%0A%20%20%20%20%20%20%20%20%20%20%20%20%20%20%20%20%7B%7D%0A%20%20%20%20%20%20%20%20%20%20%20%20%29.addTo%28map_b0bf57203c914706b3ec08a5224436e3%29%3B%0A%20%20%20%20%20%20%20%20%0A%20%20%20%20%0A%20%20%20%20%20%20%20%20%20%20%20%20var%20icon_3ec21be082a3425abb8269b2de3f54f8%20%3D%20L.AwesomeMarkers.icon%28%0A%20%20%20%20%20%20%20%20%20%20%20%20%20%20%20%20%7B%22extraClasses%22%3A%20%22fa-rotate-0%22%2C%20%22icon%22%3A%20%22university%22%2C%20%22iconColor%22%3A%20%22white%22%2C%20%22markerColor%22%3A%20%22lightblue%22%2C%20%22prefix%22%3A%20%22fa%22%7D%0A%20%20%20%20%20%20%20%20%20%20%20%20%29%3B%0A%20%20%20%20%20%20%20%20%20%20%20%20marker_48402773f7ed4060b8d58384909f4b50.setIcon%28icon_3ec21be082a3425abb8269b2de3f54f8%29%3B%0A%20%20%20%20%20%20%20%20%0A%20%20%20%20%0A%20%20%20%20%20%20%20%20var%20popup_dea697e531d14764b29edfe20ad8acaf%20%3D%20L.popup%28%7B%22maxWidth%22%3A%20%22100%25%22%7D%29%3B%0A%0A%20%20%20%20%20%20%20%20%0A%20%20%20%20%20%20%20%20%20%20%20%20var%20html_10ff779735254ef1b050afb2a85d22d9%20%3D%20%24%28%60%3Cdiv%20id%3D%22html_10ff779735254ef1b050afb2a85d22d9%22%20style%3D%22width%3A%20100.0%25%3B%20height%3A%20100.0%25%3B%22%3EHealth%20Science%20Center%20At%20Brooklyn%20%28Suny%29%3C/div%3E%60%29%5B0%5D%3B%0A%20%20%20%20%20%20%20%20%20%20%20%20popup_dea697e531d14764b29edfe20ad8acaf.setContent%28html_10ff779735254ef1b050afb2a85d22d9%29%3B%0A%20%20%20%20%20%20%20%20%0A%0A%20%20%20%20%20%20%20%20marker_48402773f7ed4060b8d58384909f4b50.bindPopup%28popup_dea697e531d14764b29edfe20ad8acaf%29%0A%20%20%20%20%20%20%20%20%3B%0A%0A%20%20%20%20%20%20%20%20%0A%20%20%20%20%0A%20%20%20%20%0A%20%20%20%20%20%20%20%20%20%20%20%20var%20marker_8f750befcad14c3a8332f83088d08d28%20%3D%20L.marker%28%0A%20%20%20%20%20%20%20%20%20%20%20%20%20%20%20%20%5B40.775351%2C%20-73.9591173%5D%2C%0A%20%20%20%20%20%20%20%20%20%20%20%20%20%20%20%20%7B%7D%0A%20%20%20%20%20%20%20%20%20%20%20%20%29.addTo%28map_b0bf57203c914706b3ec08a5224436e3%29%3B%0A%20%20%20%20%20%20%20%20%0A%20%20%20%20%0A%20%20%20%20%20%20%20%20%20%20%20%20var%20icon_16796bc666e04feb94bf7c3fe76877b1%20%3D%20L.AwesomeMarkers.icon%28%0A%20%20%20%20%20%20%20%20%20%20%20%20%20%20%20%20%7B%22extraClasses%22%3A%20%22fa-rotate-0%22%2C%20%22icon%22%3A%20%22university%22%2C%20%22iconColor%22%3A%20%22white%22%2C%20%22markerColor%22%3A%20%22lightblue%22%2C%20%22prefix%22%3A%20%22fa%22%7D%0A%20%20%20%20%20%20%20%20%20%20%20%20%29%3B%0A%20%20%20%20%20%20%20%20%20%20%20%20marker_8f750befcad14c3a8332f83088d08d28.setIcon%28icon_16796bc666e04feb94bf7c3fe76877b1%29%3B%0A%20%20%20%20%20%20%20%20%0A%20%20%20%20%0A%20%20%20%20%20%20%20%20var%20popup_edb71f596c2644e19025eec7057dde32%20%3D%20L.popup%28%7B%22maxWidth%22%3A%20%22100%25%22%7D%29%3B%0A%0A%20%20%20%20%20%20%20%20%0A%20%20%20%20%20%20%20%20%20%20%20%20var%20html_39a0ce4b84b541e5bc974cd9704bd8b5%20%3D%20%24%28%60%3Cdiv%20id%3D%22html_39a0ce4b84b541e5bc974cd9704bd8b5%22%20style%3D%22width%3A%20100.0%25%3B%20height%3A%20100.0%25%3B%22%3EHunter%20College%20School%20Social%20Work%20%28Cuny%29%3C/div%3E%60%29%5B0%5D%3B%0A%20%20%20%20%20%20%20%20%20%20%20%20popup_edb71f596c2644e19025eec7057dde32.setContent%28html_39a0ce4b84b541e5bc974cd9704bd8b5%29%3B%0A%20%20%20%20%20%20%20%20%0A%0A%20%20%20%20%20%20%20%20marker_8f750befcad14c3a8332f83088d08d28.bindPopup%28popup_edb71f596c2644e19025eec7057dde32%29%0A%20%20%20%20%20%20%20%20%3B%0A%0A%20%20%20%20%20%20%20%20%0A%20%20%20%20%0A%20%20%20%20%0A%20%20%20%20%20%20%20%20%20%20%20%20var%20marker_8b4cdeeaa3a54ea1be8d6bd1f9eed463%20%3D%20L.marker%28%0A%20%20%20%20%20%20%20%20%20%20%20%20%20%20%20%20%5B40.740219%2C%20-73.9833982%5D%2C%0A%20%20%20%20%20%20%20%20%20%20%20%20%20%20%20%20%7B%7D%0A%20%20%20%20%20%20%20%20%20%20%20%20%29.addTo%28map_b0bf57203c914706b3ec08a5224436e3%29%3B%0A%20%20%20%20%20%20%20%20%0A%20%20%20%20%0A%20%20%20%20%20%20%20%20%20%20%20%20var%20icon_de3c39e4ec33475796dac70715938244%20%3D%20L.AwesomeMarkers.icon%28%0A%20%20%20%20%20%20%20%20%20%20%20%20%20%20%20%20%7B%22extraClasses%22%3A%20%22fa-rotate-0%22%2C%20%22icon%22%3A%20%22university%22%2C%20%22iconColor%22%3A%20%22white%22%2C%20%22markerColor%22%3A%20%22lightblue%22%2C%20%22prefix%22%3A%20%22fa%22%7D%0A%20%20%20%20%20%20%20%20%20%20%20%20%29%3B%0A%20%20%20%20%20%20%20%20%20%20%20%20marker_8b4cdeeaa3a54ea1be8d6bd1f9eed463.setIcon%28icon_de3c39e4ec33475796dac70715938244%29%3B%0A%20%20%20%20%20%20%20%20%0A%20%20%20%20%0A%20%20%20%20%20%20%20%20var%20popup_0cc1d76c56d9461fbd44fef59990d1a3%20%3D%20L.popup%28%7B%22maxWidth%22%3A%20%22100%25%22%7D%29%3B%0A%0A%20%20%20%20%20%20%20%20%0A%20%20%20%20%20%20%20%20%20%20%20%20var%20html_372a336244eb4a2fb5f37c8c732b48be%20%3D%20%24%28%60%3Cdiv%20id%3D%22html_372a336244eb4a2fb5f37c8c732b48be%22%20style%3D%22width%3A%20100.0%25%3B%20height%3A%20100.0%25%3B%22%3EBernard%20M%20Baruch%20College%20%28Cuny%29%3C/div%3E%60%29%5B0%5D%3B%0A%20%20%20%20%20%20%20%20%20%20%20%20popup_0cc1d76c56d9461fbd44fef59990d1a3.setContent%28html_372a336244eb4a2fb5f37c8c732b48be%29%3B%0A%20%20%20%20%20%20%20%20%0A%0A%20%20%20%20%20%20%20%20marker_8b4cdeeaa3a54ea1be8d6bd1f9eed463.bindPopup%28popup_0cc1d76c56d9461fbd44fef59990d1a3%29%0A%20%20%20%20%20%20%20%20%3B%0A%0A%20%20%20%20%20%20%20%20%0A%20%20%20%20%0A%20%20%20%20%0A%20%20%20%20%20%20%20%20%20%20%20%20var%20marker_c2513f4134294a0985d51bef76a12007%20%3D%20L.marker%28%0A%20%20%20%20%20%20%20%20%20%20%20%20%20%20%20%20%5B40.718654%2C%20-74.0118307%5D%2C%0A%20%20%20%20%20%20%20%20%20%20%20%20%20%20%20%20%7B%7D%0A%20%20%20%20%20%20%20%20%20%20%20%20%29.addTo%28map_b0bf57203c914706b3ec08a5224436e3%29%3B%0A%20%20%20%20%20%20%20%20%0A%20%20%20%20%0A%20%20%20%20%20%20%20%20%20%20%20%20var%20icon_c0cdc3e81e874ec08181fc0acd814890%20%3D%20L.AwesomeMarkers.icon%28%0A%20%20%20%20%20%20%20%20%20%20%20%20%20%20%20%20%7B%22extraClasses%22%3A%20%22fa-rotate-0%22%2C%20%22icon%22%3A%20%22university%22%2C%20%22iconColor%22%3A%20%22white%22%2C%20%22markerColor%22%3A%20%22lightblue%22%2C%20%22prefix%22%3A%20%22fa%22%7D%0A%20%20%20%20%20%20%20%20%20%20%20%20%29%3B%0A%20%20%20%20%20%20%20%20%20%20%20%20marker_c2513f4134294a0985d51bef76a12007.setIcon%28icon_c0cdc3e81e874ec08181fc0acd814890%29%3B%0A%20%20%20%20%20%20%20%20%0A%20%20%20%20%0A%20%20%20%20%20%20%20%20var%20popup_fefa273d47ed47d89a2c9ecfbe7719b8%20%3D%20L.popup%28%7B%22maxWidth%22%3A%20%22100%25%22%7D%29%3B%0A%0A%20%20%20%20%20%20%20%20%0A%20%20%20%20%20%20%20%20%20%20%20%20var%20html_4c2efb9af5a5469a938346e3ddcddae7%20%3D%20%24%28%60%3Cdiv%20id%3D%22html_4c2efb9af5a5469a938346e3ddcddae7%22%20style%3D%22width%3A%20100.0%25%3B%20height%3A%20100.0%25%3B%22%3EBorough%20Of%20Manhattan%20Comm%20College%20%28Cuny%29%3C/div%3E%60%29%5B0%5D%3B%0A%20%20%20%20%20%20%20%20%20%20%20%20popup_fefa273d47ed47d89a2c9ecfbe7719b8.setContent%28html_4c2efb9af5a5469a938346e3ddcddae7%29%3B%0A%20%20%20%20%20%20%20%20%0A%0A%20%20%20%20%20%20%20%20marker_c2513f4134294a0985d51bef76a12007.bindPopup%28popup_fefa273d47ed47d89a2c9ecfbe7719b8%29%0A%20%20%20%20%20%20%20%20%3B%0A%0A%20%20%20%20%20%20%20%20%0A%20%20%20%20%0A%20%20%20%20%0A%20%20%20%20%20%20%20%20%20%20%20%20var%20marker_5c372b7080d847faaafb9d22861824bc%20%3D%20L.marker%28%0A%20%20%20%20%20%20%20%20%20%20%20%20%20%20%20%20%5B40.754494%2C%20-73.9821889%5D%2C%0A%20%20%20%20%20%20%20%20%20%20%20%20%20%20%20%20%7B%7D%0A%20%20%20%20%20%20%20%20%20%20%20%20%29.addTo%28map_b0bf57203c914706b3ec08a5224436e3%29%3B%0A%20%20%20%20%20%20%20%20%0A%20%20%20%20%0A%20%20%20%20%20%20%20%20%20%20%20%20var%20icon_1b2465835e0b40989150df2fb4015e34%20%3D%20L.AwesomeMarkers.icon%28%0A%20%20%20%20%20%20%20%20%20%20%20%20%20%20%20%20%7B%22extraClasses%22%3A%20%22fa-rotate-0%22%2C%20%22icon%22%3A%20%22university%22%2C%20%22iconColor%22%3A%20%22white%22%2C%20%22markerColor%22%3A%20%22lightblue%22%2C%20%22prefix%22%3A%20%22fa%22%7D%0A%20%20%20%20%20%20%20%20%20%20%20%20%29%3B%0A%20%20%20%20%20%20%20%20%20%20%20%20marker_5c372b7080d847faaafb9d22861824bc.setIcon%28icon_1b2465835e0b40989150df2fb4015e34%29%3B%0A%20%20%20%20%20%20%20%20%0A%20%20%20%20%0A%20%20%20%20%20%20%20%20var%20popup_b972c546c6364343a230e23b008efd8b%20%3D%20L.popup%28%7B%22maxWidth%22%3A%20%22100%25%22%7D%29%3B%0A%0A%20%20%20%20%20%20%20%20%0A%20%20%20%20%20%20%20%20%20%20%20%20var%20html_5a0735d254284cc099d2ff60b484a860%20%3D%20%24%28%60%3Cdiv%20id%3D%22html_5a0735d254284cc099d2ff60b484a860%22%20style%3D%22width%3A%20100.0%25%3B%20height%3A%20100.0%25%3B%22%3ENys%20College%20Of%20Optometry%20%28Suny%29%3C/div%3E%60%29%5B0%5D%3B%0A%20%20%20%20%20%20%20%20%20%20%20%20popup_b972c546c6364343a230e23b008efd8b.setContent%28html_5a0735d254284cc099d2ff60b484a860%29%3B%0A%20%20%20%20%20%20%20%20%0A%0A%20%20%20%20%20%20%20%20marker_5c372b7080d847faaafb9d22861824bc.bindPopup%28popup_b972c546c6364343a230e23b008efd8b%29%0A%20%20%20%20%20%20%20%20%3B%0A%0A%20%20%20%20%20%20%20%20%0A%20%20%20%20%0A%20%20%20%20%0A%20%20%20%20%20%20%20%20%20%20%20%20var%20marker_d147f16a06b0417fb2f439b426db0fb8%20%3D%20L.marker%28%0A%20%20%20%20%20%20%20%20%20%20%20%20%20%20%20%20%5B40.748455%2C%20-73.9834899%5D%2C%0A%20%20%20%20%20%20%20%20%20%20%20%20%20%20%20%20%7B%7D%0A%20%20%20%20%20%20%20%20%20%20%20%20%29.addTo%28map_b0bf57203c914706b3ec08a5224436e3%29%3B%0A%20%20%20%20%20%20%20%20%0A%20%20%20%20%0A%20%20%20%20%20%20%20%20%20%20%20%20var%20icon_5d268476a79b44c0a4b7c4c17820de58%20%3D%20L.AwesomeMarkers.icon%28%0A%20%20%20%20%20%20%20%20%20%20%20%20%20%20%20%20%7B%22extraClasses%22%3A%20%22fa-rotate-0%22%2C%20%22icon%22%3A%20%22university%22%2C%20%22iconColor%22%3A%20%22white%22%2C%20%22markerColor%22%3A%20%22lightblue%22%2C%20%22prefix%22%3A%20%22fa%22%7D%0A%20%20%20%20%20%20%20%20%20%20%20%20%29%3B%0A%20%20%20%20%20%20%20%20%20%20%20%20marker_d147f16a06b0417fb2f439b426db0fb8.setIcon%28icon_5d268476a79b44c0a4b7c4c17820de58%29%3B%0A%20%20%20%20%20%20%20%20%0A%20%20%20%20%0A%20%20%20%20%20%20%20%20var%20popup_e90387ee9bcb422fa58ee4678fa6e6ed%20%3D%20L.popup%28%7B%22maxWidth%22%3A%20%22100%25%22%7D%29%3B%0A%0A%20%20%20%20%20%20%20%20%0A%20%20%20%20%20%20%20%20%20%20%20%20var%20html_a94b97b60a6947d9878baef0291496ce%20%3D%20%24%28%60%3Cdiv%20id%3D%22html_a94b97b60a6947d9878baef0291496ce%22%20style%3D%22width%3A%20100.0%25%3B%20height%3A%20100.0%25%3B%22%3ECuny%20Grad%20School%26University%20Center%20%28Cuny%29%3C/div%3E%60%29%5B0%5D%3B%0A%20%20%20%20%20%20%20%20%20%20%20%20popup_e90387ee9bcb422fa58ee4678fa6e6ed.setContent%28html_a94b97b60a6947d9878baef0291496ce%29%3B%0A%20%20%20%20%20%20%20%20%0A%0A%20%20%20%20%20%20%20%20marker_d147f16a06b0417fb2f439b426db0fb8.bindPopup%28popup_e90387ee9bcb422fa58ee4678fa6e6ed%29%0A%20%20%20%20%20%20%20%20%3B%0A%0A%20%20%20%20%20%20%20%20%0A%20%20%20%20%0A%20%20%20%20%0A%20%20%20%20%20%20%20%20%20%20%20%20var%20marker_ecb97d96ef94414fa55eb9f7e3661de7%20%3D%20L.marker%28%0A%20%20%20%20%20%20%20%20%20%20%20%20%20%20%20%20%5B40.740219%2C%20-73.9833982%5D%2C%0A%20%20%20%20%20%20%20%20%20%20%20%20%20%20%20%20%7B%7D%0A%20%20%20%20%20%20%20%20%20%20%20%20%29.addTo%28map_b0bf57203c914706b3ec08a5224436e3%29%3B%0A%20%20%20%20%20%20%20%20%0A%20%20%20%20%0A%20%20%20%20%20%20%20%20%20%20%20%20var%20icon_3b6f69bc264a4451aa5cc9f17efd7757%20%3D%20L.AwesomeMarkers.icon%28%0A%20%20%20%20%20%20%20%20%20%20%20%20%20%20%20%20%7B%22extraClasses%22%3A%20%22fa-rotate-0%22%2C%20%22icon%22%3A%20%22university%22%2C%20%22iconColor%22%3A%20%22white%22%2C%20%22markerColor%22%3A%20%22lightblue%22%2C%20%22prefix%22%3A%20%22fa%22%7D%0A%20%20%20%20%20%20%20%20%20%20%20%20%29%3B%0A%20%20%20%20%20%20%20%20%20%20%20%20marker_ecb97d96ef94414fa55eb9f7e3661de7.setIcon%28icon_3b6f69bc264a4451aa5cc9f17efd7757%29%3B%0A%20%20%20%20%20%20%20%20%0A%20%20%20%20%0A%20%20%20%20%20%20%20%20var%20popup_c4a0e20cf0b74e4087968618421f4c44%20%3D%20L.popup%28%7B%22maxWidth%22%3A%20%22100%25%22%7D%29%3B%0A%0A%20%20%20%20%20%20%20%20%0A%20%20%20%20%20%20%20%20%20%20%20%20var%20html_946ac2f90ea9453db6e8d44c84f82099%20%3D%20%24%28%60%3Cdiv%20id%3D%22html_946ac2f90ea9453db6e8d44c84f82099%22%20style%3D%22width%3A%20100.0%25%3B%20height%3A%20100.0%25%3B%22%3EBaruch%20Grad%20Sch%20Of%20Politcal%20Management%3C/div%3E%60%29%5B0%5D%3B%0A%20%20%20%20%20%20%20%20%20%20%20%20popup_c4a0e20cf0b74e4087968618421f4c44.setContent%28html_946ac2f90ea9453db6e8d44c84f82099%29%3B%0A%20%20%20%20%20%20%20%20%0A%0A%20%20%20%20%20%20%20%20marker_ecb97d96ef94414fa55eb9f7e3661de7.bindPopup%28popup_c4a0e20cf0b74e4087968618421f4c44%29%0A%20%20%20%20%20%20%20%20%3B%0A%0A%20%20%20%20%20%20%20%20%0A%20%20%20%20%0A%20%20%20%20%0A%20%20%20%20%20%20%20%20%20%20%20%20var%20marker_7bfcd3ac610c49c78531267170e8e4cd%20%3D%20L.marker%28%0A%20%20%20%20%20%20%20%20%20%20%20%20%20%20%20%20%5B40.768569%2C%20-73.9647422%5D%2C%0A%20%20%20%20%20%20%20%20%20%20%20%20%20%20%20%20%7B%7D%0A%20%20%20%20%20%20%20%20%20%20%20%20%29.addTo%28map_b0bf57203c914706b3ec08a5224436e3%29%3B%0A%20%20%20%20%20%20%20%20%0A%20%20%20%20%0A%20%20%20%20%20%20%20%20%20%20%20%20var%20icon_900f12cab79d4f59adfba47a01668ba7%20%3D%20L.AwesomeMarkers.icon%28%0A%20%20%20%20%20%20%20%20%20%20%20%20%20%20%20%20%7B%22extraClasses%22%3A%20%22fa-rotate-0%22%2C%20%22icon%22%3A%20%22university%22%2C%20%22iconColor%22%3A%20%22white%22%2C%20%22markerColor%22%3A%20%22lightblue%22%2C%20%22prefix%22%3A%20%22fa%22%7D%0A%20%20%20%20%20%20%20%20%20%20%20%20%29%3B%0A%20%20%20%20%20%20%20%20%20%20%20%20marker_7bfcd3ac610c49c78531267170e8e4cd.setIcon%28icon_900f12cab79d4f59adfba47a01668ba7%29%3B%0A%20%20%20%20%20%20%20%20%0A%20%20%20%20%0A%20%20%20%20%20%20%20%20var%20popup_640bbd62415e40aea54c186df4e199c2%20%3D%20L.popup%28%7B%22maxWidth%22%3A%20%22100%25%22%7D%29%3B%0A%0A%20%20%20%20%20%20%20%20%0A%20%20%20%20%20%20%20%20%20%20%20%20var%20html_31c5c9ea1d014ee0a1e80097bf3675dd%20%3D%20%24%28%60%3Cdiv%20id%3D%22html_31c5c9ea1d014ee0a1e80097bf3675dd%22%20style%3D%22width%3A%20100.0%25%3B%20height%3A%20100.0%25%3B%22%3EHunter%20College%20%28Cuny%29%3C/div%3E%60%29%5B0%5D%3B%0A%20%20%20%20%20%20%20%20%20%20%20%20popup_640bbd62415e40aea54c186df4e199c2.setContent%28html_31c5c9ea1d014ee0a1e80097bf3675dd%29%3B%0A%20%20%20%20%20%20%20%20%0A%0A%20%20%20%20%20%20%20%20marker_7bfcd3ac610c49c78531267170e8e4cd.bindPopup%28popup_640bbd62415e40aea54c186df4e199c2%29%0A%20%20%20%20%20%20%20%20%3B%0A%0A%20%20%20%20%20%20%20%20%0A%20%20%20%20%0A%20%20%20%20%0A%20%20%20%20%20%20%20%20%20%20%20%20var%20marker_5e15e13ef9fd43c68c316fd084412715%20%3D%20L.marker%28%0A%20%20%20%20%20%20%20%20%20%20%20%20%20%20%20%20%5B40.770279%2C%20-73.9882533%5D%2C%0A%20%20%20%20%20%20%20%20%20%20%20%20%20%20%20%20%7B%7D%0A%20%20%20%20%20%20%20%20%20%20%20%20%29.addTo%28map_b0bf57203c914706b3ec08a5224436e3%29%3B%0A%20%20%20%20%20%20%20%20%0A%20%20%20%20%0A%20%20%20%20%20%20%20%20%20%20%20%20var%20icon_36b829acf32b49eeb3aa073e6bbc84df%20%3D%20L.AwesomeMarkers.icon%28%0A%20%20%20%20%20%20%20%20%20%20%20%20%20%20%20%20%7B%22extraClasses%22%3A%20%22fa-rotate-0%22%2C%20%22icon%22%3A%20%22university%22%2C%20%22iconColor%22%3A%20%22white%22%2C%20%22markerColor%22%3A%20%22lightblue%22%2C%20%22prefix%22%3A%20%22fa%22%7D%0A%20%20%20%20%20%20%20%20%20%20%20%20%29%3B%0A%20%20%20%20%20%20%20%20%20%20%20%20marker_5e15e13ef9fd43c68c316fd084412715.setIcon%28icon_36b829acf32b49eeb3aa073e6bbc84df%29%3B%0A%20%20%20%20%20%20%20%20%0A%20%20%20%20%0A%20%20%20%20%20%20%20%20var%20popup_051724e7b2d14bf198f122811704ea65%20%3D%20L.popup%28%7B%22maxWidth%22%3A%20%22100%25%22%7D%29%3B%0A%0A%20%20%20%20%20%20%20%20%0A%20%20%20%20%20%20%20%20%20%20%20%20var%20html_ac89988f80b349f3a255f88a0d4e5f7f%20%3D%20%24%28%60%3Cdiv%20id%3D%22html_ac89988f80b349f3a255f88a0d4e5f7f%22%20style%3D%22width%3A%20100.0%25%3B%20height%3A%20100.0%25%3B%22%3EJohn%20Jay%20College%20Criminal%20Justice%20%28Cuny%29%3C/div%3E%60%29%5B0%5D%3B%0A%20%20%20%20%20%20%20%20%20%20%20%20popup_051724e7b2d14bf198f122811704ea65.setContent%28html_ac89988f80b349f3a255f88a0d4e5f7f%29%3B%0A%20%20%20%20%20%20%20%20%0A%0A%20%20%20%20%20%20%20%20marker_5e15e13ef9fd43c68c316fd084412715.bindPopup%28popup_051724e7b2d14bf198f122811704ea65%29%0A%20%20%20%20%20%20%20%20%3B%0A%0A%20%20%20%20%20%20%20%20%0A%20%20%20%20%0A%20%20%20%20%0A%20%20%20%20%20%20%20%20%20%20%20%20var%20marker_d32de44dccd6431fbc3a9d3f2672eaf2%20%3D%20L.marker%28%0A%20%20%20%20%20%20%20%20%20%20%20%20%20%20%20%20%5B40.753838%2C%20-73.7575979%5D%2C%0A%20%20%20%20%20%20%20%20%20%20%20%20%20%20%20%20%7B%7D%0A%20%20%20%20%20%20%20%20%20%20%20%20%29.addTo%28map_b0bf57203c914706b3ec08a5224436e3%29%3B%0A%20%20%20%20%20%20%20%20%0A%20%20%20%20%0A%20%20%20%20%20%20%20%20%20%20%20%20var%20icon_642c3a1c43c9485c894deb8edc806dc8%20%3D%20L.AwesomeMarkers.icon%28%0A%20%20%20%20%20%20%20%20%20%20%20%20%20%20%20%20%7B%22extraClasses%22%3A%20%22fa-rotate-0%22%2C%20%22icon%22%3A%20%22university%22%2C%20%22iconColor%22%3A%20%22white%22%2C%20%22markerColor%22%3A%20%22lightblue%22%2C%20%22prefix%22%3A%20%22fa%22%7D%0A%20%20%20%20%20%20%20%20%20%20%20%20%29%3B%0A%20%20%20%20%20%20%20%20%20%20%20%20marker_d32de44dccd6431fbc3a9d3f2672eaf2.setIcon%28icon_642c3a1c43c9485c894deb8edc806dc8%29%3B%0A%20%20%20%20%20%20%20%20%0A%20%20%20%20%0A%20%20%20%20%20%20%20%20var%20popup_bc024688702f4174a5b1f6c667e0a03d%20%3D%20L.popup%28%7B%22maxWidth%22%3A%20%22100%25%22%7D%29%3B%0A%0A%20%20%20%20%20%20%20%20%0A%20%20%20%20%20%20%20%20%20%20%20%20var%20html_903699d1e90b4b0399d546aaac8b0dcd%20%3D%20%24%28%60%3Cdiv%20id%3D%22html_903699d1e90b4b0399d546aaac8b0dcd%22%20style%3D%22width%3A%20100.0%25%3B%20height%3A%20100.0%25%3B%22%3EQueensborough%20Community%20College%20%28Cuny%29%3C/div%3E%60%29%5B0%5D%3B%0A%20%20%20%20%20%20%20%20%20%20%20%20popup_bc024688702f4174a5b1f6c667e0a03d.setContent%28html_903699d1e90b4b0399d546aaac8b0dcd%29%3B%0A%20%20%20%20%20%20%20%20%0A%0A%20%20%20%20%20%20%20%20marker_d32de44dccd6431fbc3a9d3f2672eaf2.bindPopup%28popup_bc024688702f4174a5b1f6c667e0a03d%29%0A%20%20%20%20%20%20%20%20%3B%0A%0A%20%20%20%20%20%20%20%20%0A%20%20%20%20%0A%20%20%20%20%0A%20%20%20%20%20%20%20%20%20%20%20%20var%20marker_1b3b41cb24aa4e008260d05db0526e59%20%3D%20L.marker%28%0A%20%20%20%20%20%20%20%20%20%20%20%20%20%20%20%20%5B40.743995%2C%20-73.9351237%5D%2C%0A%20%20%20%20%20%20%20%20%20%20%20%20%20%20%20%20%7B%7D%0A%20%20%20%20%20%20%20%20%20%20%20%20%29.addTo%28map_b0bf57203c914706b3ec08a5224436e3%29%3B%0A%20%20%20%20%20%20%20%20%0A%20%20%20%20%0A%20%20%20%20%20%20%20%20%20%20%20%20var%20icon_23e89f6ad85e44f3b6697b3804860d10%20%3D%20L.AwesomeMarkers.icon%28%0A%20%20%20%20%20%20%20%20%20%20%20%20%20%20%20%20%7B%22extraClasses%22%3A%20%22fa-rotate-0%22%2C%20%22icon%22%3A%20%22university%22%2C%20%22iconColor%22%3A%20%22white%22%2C%20%22markerColor%22%3A%20%22lightblue%22%2C%20%22prefix%22%3A%20%22fa%22%7D%0A%20%20%20%20%20%20%20%20%20%20%20%20%29%3B%0A%20%20%20%20%20%20%20%20%20%20%20%20marker_1b3b41cb24aa4e008260d05db0526e59.setIcon%28icon_23e89f6ad85e44f3b6697b3804860d10%29%3B%0A%20%20%20%20%20%20%20%20%0A%20%20%20%20%0A%20%20%20%20%20%20%20%20var%20popup_708981c584634e75ab381231d98731d7%20%3D%20L.popup%28%7B%22maxWidth%22%3A%20%22100%25%22%7D%29%3B%0A%0A%20%20%20%20%20%20%20%20%0A%20%20%20%20%20%20%20%20%20%20%20%20var%20html_62cd8e0c31614d2cb4e297370c273a13%20%3D%20%24%28%60%3Cdiv%20id%3D%22html_62cd8e0c31614d2cb4e297370c273a13%22%20style%3D%22width%3A%20100.0%25%3B%20height%3A%20100.0%25%3B%22%3EFiorello%20H%20Laguardia%20Comm%20College%20%28Cuny%29%3C/div%3E%60%29%5B0%5D%3B%0A%20%20%20%20%20%20%20%20%20%20%20%20popup_708981c584634e75ab381231d98731d7.setContent%28html_62cd8e0c31614d2cb4e297370c273a13%29%3B%0A%20%20%20%20%20%20%20%20%0A%0A%20%20%20%20%20%20%20%20marker_1b3b41cb24aa4e008260d05db0526e59.bindPopup%28popup_708981c584634e75ab381231d98731d7%29%0A%20%20%20%20%20%20%20%20%3B%0A%0A%20%20%20%20%20%20%20%20%0A%20%20%20%20%0A%20%20%20%20%0A%20%20%20%20%20%20%20%20%20%20%20%20var%20marker_9e804059e524488cbb57afab28b5e1a2%20%3D%20L.marker%28%0A%20%20%20%20%20%20%20%20%20%20%20%20%20%20%20%20%5B40.737108%2C%20-73.8245391%5D%2C%0A%20%20%20%20%20%20%20%20%20%20%20%20%20%20%20%20%7B%7D%0A%20%20%20%20%20%20%20%20%20%20%20%20%29.addTo%28map_b0bf57203c914706b3ec08a5224436e3%29%3B%0A%20%20%20%20%20%20%20%20%0A%20%20%20%20%0A%20%20%20%20%20%20%20%20%20%20%20%20var%20icon_50a878e5ea164ee48c5144a5585323f8%20%3D%20L.AwesomeMarkers.icon%28%0A%20%20%20%20%20%20%20%20%20%20%20%20%20%20%20%20%7B%22extraClasses%22%3A%20%22fa-rotate-0%22%2C%20%22icon%22%3A%20%22university%22%2C%20%22iconColor%22%3A%20%22white%22%2C%20%22markerColor%22%3A%20%22lightblue%22%2C%20%22prefix%22%3A%20%22fa%22%7D%0A%20%20%20%20%20%20%20%20%20%20%20%20%29%3B%0A%20%20%20%20%20%20%20%20%20%20%20%20marker_9e804059e524488cbb57afab28b5e1a2.setIcon%28icon_50a878e5ea164ee48c5144a5585323f8%29%3B%0A%20%20%20%20%20%20%20%20%0A%20%20%20%20%0A%20%20%20%20%20%20%20%20var%20popup_50eae6f5cc8144ca8b403373503f80a4%20%3D%20L.popup%28%7B%22maxWidth%22%3A%20%22100%25%22%7D%29%3B%0A%0A%20%20%20%20%20%20%20%20%0A%20%20%20%20%20%20%20%20%20%20%20%20var%20html_d80ac78736a14d3394ec2250560cefce%20%3D%20%24%28%60%3Cdiv%20id%3D%22html_d80ac78736a14d3394ec2250560cefce%22%20style%3D%22width%3A%20100.0%25%3B%20height%3A%20100.0%25%3B%22%3ESchool%20Of%20Law%20At%20Queens%20College%20%28Cuny%29%3C/div%3E%60%29%5B0%5D%3B%0A%20%20%20%20%20%20%20%20%20%20%20%20popup_50eae6f5cc8144ca8b403373503f80a4.setContent%28html_d80ac78736a14d3394ec2250560cefce%29%3B%0A%20%20%20%20%20%20%20%20%0A%0A%20%20%20%20%20%20%20%20marker_9e804059e524488cbb57afab28b5e1a2.bindPopup%28popup_50eae6f5cc8144ca8b403373503f80a4%29%0A%20%20%20%20%20%20%20%20%3B%0A%0A%20%20%20%20%20%20%20%20%0A%20%20%20%20%0A%20%20%20%20%0A%20%20%20%20%20%20%20%20%20%20%20%20var%20marker_698115ab5d544c33b6d7723afed13aa4%20%3D%20L.marker%28%0A%20%20%20%20%20%20%20%20%20%20%20%20%20%20%20%20%5B40.735954%2C%20-73.8182989%5D%2C%0A%20%20%20%20%20%20%20%20%20%20%20%20%20%20%20%20%7B%7D%0A%20%20%20%20%20%20%20%20%20%20%20%20%29.addTo%28map_b0bf57203c914706b3ec08a5224436e3%29%3B%0A%20%20%20%20%20%20%20%20%0A%20%20%20%20%0A%20%20%20%20%20%20%20%20%20%20%20%20var%20icon_72f207b3c0344b7d81c8a851b0b84c5f%20%3D%20L.AwesomeMarkers.icon%28%0A%20%20%20%20%20%20%20%20%20%20%20%20%20%20%20%20%7B%22extraClasses%22%3A%20%22fa-rotate-0%22%2C%20%22icon%22%3A%20%22university%22%2C%20%22iconColor%22%3A%20%22white%22%2C%20%22markerColor%22%3A%20%22lightblue%22%2C%20%22prefix%22%3A%20%22fa%22%7D%0A%20%20%20%20%20%20%20%20%20%20%20%20%29%3B%0A%20%20%20%20%20%20%20%20%20%20%20%20marker_698115ab5d544c33b6d7723afed13aa4.setIcon%28icon_72f207b3c0344b7d81c8a851b0b84c5f%29%3B%0A%20%20%20%20%20%20%20%20%0A%20%20%20%20%0A%20%20%20%20%20%20%20%20var%20popup_585667ce52764aa2b184a8c005d6946b%20%3D%20L.popup%28%7B%22maxWidth%22%3A%20%22100%25%22%7D%29%3B%0A%0A%20%20%20%20%20%20%20%20%0A%20%20%20%20%20%20%20%20%20%20%20%20var%20html_c647d8f5a36c4fe79f23c6c1a280cff6%20%3D%20%24%28%60%3Cdiv%20id%3D%22html_c647d8f5a36c4fe79f23c6c1a280cff6%22%20style%3D%22width%3A%20100.0%25%3B%20height%3A%20100.0%25%3B%22%3EQueens%20College%20%28Cuny%29%3C/div%3E%60%29%5B0%5D%3B%0A%20%20%20%20%20%20%20%20%20%20%20%20popup_585667ce52764aa2b184a8c005d6946b.setContent%28html_c647d8f5a36c4fe79f23c6c1a280cff6%29%3B%0A%20%20%20%20%20%20%20%20%0A%0A%20%20%20%20%20%20%20%20marker_698115ab5d544c33b6d7723afed13aa4.bindPopup%28popup_585667ce52764aa2b184a8c005d6946b%29%0A%20%20%20%20%20%20%20%20%3B%0A%0A%20%20%20%20%20%20%20%20%0A%20%20%20%20%0A%20%20%20%20%0A%20%20%20%20%20%20%20%20%20%20%20%20var%20marker_402d807c68a1426eaa6ae9f925cdc291%20%3D%20L.marker%28%0A%20%20%20%20%20%20%20%20%20%20%20%20%20%20%20%20%5B40.735954%2C%20-73.8182989%5D%2C%0A%20%20%20%20%20%20%20%20%20%20%20%20%20%20%20%20%7B%7D%0A%20%20%20%20%20%20%20%20%20%20%20%20%29.addTo%28map_b0bf57203c914706b3ec08a5224436e3%29%3B%0A%20%20%20%20%20%20%20%20%0A%20%20%20%20%0A%20%20%20%20%20%20%20%20%20%20%20%20var%20icon_13d7a099e061434f9c65dc3053be59f8%20%3D%20L.AwesomeMarkers.icon%28%0A%20%20%20%20%20%20%20%20%20%20%20%20%20%20%20%20%7B%22extraClasses%22%3A%20%22fa-rotate-0%22%2C%20%22icon%22%3A%20%22university%22%2C%20%22iconColor%22%3A%20%22white%22%2C%20%22markerColor%22%3A%20%22lightblue%22%2C%20%22prefix%22%3A%20%22fa%22%7D%0A%20%20%20%20%20%20%20%20%20%20%20%20%29%3B%0A%20%20%20%20%20%20%20%20%20%20%20%20marker_402d807c68a1426eaa6ae9f925cdc291.setIcon%28icon_13d7a099e061434f9c65dc3053be59f8%29%3B%0A%20%20%20%20%20%20%20%20%0A%20%20%20%20%0A%20%20%20%20%20%20%20%20var%20popup_44d126819af048d5b56e51da4643142a%20%3D%20L.popup%28%7B%22maxWidth%22%3A%20%22100%25%22%7D%29%3B%0A%0A%20%20%20%20%20%20%20%20%0A%20%20%20%20%20%20%20%20%20%20%20%20var%20html_881641f4ef374fcaad04b6117b099b20%20%3D%20%24%28%60%3Cdiv%20id%3D%22html_881641f4ef374fcaad04b6117b099b20%22%20style%3D%22width%3A%20100.0%25%3B%20height%3A%20100.0%25%3B%22%3EQueens%20Coll%20Sch%20Math%20%26%20Science%3C/div%3E%60%29%5B0%5D%3B%0A%20%20%20%20%20%20%20%20%20%20%20%20popup_44d126819af048d5b56e51da4643142a.setContent%28html_881641f4ef374fcaad04b6117b099b20%29%3B%0A%20%20%20%20%20%20%20%20%0A%0A%20%20%20%20%20%20%20%20marker_402d807c68a1426eaa6ae9f925cdc291.bindPopup%28popup_44d126819af048d5b56e51da4643142a%29%0A%20%20%20%20%20%20%20%20%3B%0A%0A%20%20%20%20%20%20%20%20%0A%20%20%20%20%0A%20%20%20%20%0A%20%20%20%20%20%20%20%20%20%20%20%20var%20marker_6abab17086894235aa16b35e030a90e5%20%3D%20L.marker%28%0A%20%20%20%20%20%20%20%20%20%20%20%20%20%20%20%20%5B40.701729%2C%20-73.7962569%5D%2C%0A%20%20%20%20%20%20%20%20%20%20%20%20%20%20%20%20%7B%7D%0A%20%20%20%20%20%20%20%20%20%20%20%20%29.addTo%28map_b0bf57203c914706b3ec08a5224436e3%29%3B%0A%20%20%20%20%20%20%20%20%0A%20%20%20%20%0A%20%20%20%20%20%20%20%20%20%20%20%20var%20icon_f0a40a5ee35e4f71a854a6ba998fa635%20%3D%20L.AwesomeMarkers.icon%28%0A%20%20%20%20%20%20%20%20%20%20%20%20%20%20%20%20%7B%22extraClasses%22%3A%20%22fa-rotate-0%22%2C%20%22icon%22%3A%20%22university%22%2C%20%22iconColor%22%3A%20%22white%22%2C%20%22markerColor%22%3A%20%22lightblue%22%2C%20%22prefix%22%3A%20%22fa%22%7D%0A%20%20%20%20%20%20%20%20%20%20%20%20%29%3B%0A%20%20%20%20%20%20%20%20%20%20%20%20marker_6abab17086894235aa16b35e030a90e5.setIcon%28icon_f0a40a5ee35e4f71a854a6ba998fa635%29%3B%0A%20%20%20%20%20%20%20%20%0A%20%20%20%20%0A%20%20%20%20%20%20%20%20var%20popup_2997ed499b7a4dde8aee874d86fbbe86%20%3D%20L.popup%28%7B%22maxWidth%22%3A%20%22100%25%22%7D%29%3B%0A%0A%20%20%20%20%20%20%20%20%0A%20%20%20%20%20%20%20%20%20%20%20%20var%20html_beff1776bd924133bf7b32a790a18742%20%3D%20%24%28%60%3Cdiv%20id%3D%22html_beff1776bd924133bf7b32a790a18742%22%20style%3D%22width%3A%20100.0%25%3B%20height%3A%20100.0%25%3B%22%3EYork%20College%20%28Cuny%29%3C/div%3E%60%29%5B0%5D%3B%0A%20%20%20%20%20%20%20%20%20%20%20%20popup_2997ed499b7a4dde8aee874d86fbbe86.setContent%28html_beff1776bd924133bf7b32a790a18742%29%3B%0A%20%20%20%20%20%20%20%20%0A%0A%20%20%20%20%20%20%20%20marker_6abab17086894235aa16b35e030a90e5.bindPopup%28popup_2997ed499b7a4dde8aee874d86fbbe86%29%0A%20%20%20%20%20%20%20%20%3B%0A%0A%20%20%20%20%20%20%20%20%0A%20%20%20%20%0A%20%20%20%20%0A%20%20%20%20%20%20%20%20%20%20%20%20var%20marker_752e77b0a88042c8bac85ceedb2c1f52%20%3D%20L.marker%28%0A%20%20%20%20%20%20%20%20%20%20%20%20%20%20%20%20%5B40.600634%2C%20-74.1488761%5D%2C%0A%20%20%20%20%20%20%20%20%20%20%20%20%20%20%20%20%7B%7D%0A%20%20%20%20%20%20%20%20%20%20%20%20%29.addTo%28map_b0bf57203c914706b3ec08a5224436e3%29%3B%0A%20%20%20%20%20%20%20%20%0A%20%20%20%20%0A%20%20%20%20%20%20%20%20%20%20%20%20var%20icon_9c8e53a54a7a414aa273c2d46c9a73c4%20%3D%20L.AwesomeMarkers.icon%28%0A%20%20%20%20%20%20%20%20%20%20%20%20%20%20%20%20%7B%22extraClasses%22%3A%20%22fa-rotate-0%22%2C%20%22icon%22%3A%20%22university%22%2C%20%22iconColor%22%3A%20%22white%22%2C%20%22markerColor%22%3A%20%22lightblue%22%2C%20%22prefix%22%3A%20%22fa%22%7D%0A%20%20%20%20%20%20%20%20%20%20%20%20%29%3B%0A%20%20%20%20%20%20%20%20%20%20%20%20marker_752e77b0a88042c8bac85ceedb2c1f52.setIcon%28icon_9c8e53a54a7a414aa273c2d46c9a73c4%29%3B%0A%20%20%20%20%20%20%20%20%0A%20%20%20%20%0A%20%20%20%20%20%20%20%20var%20popup_c4c858fb21ea49589668af686e8b2a4b%20%3D%20L.popup%28%7B%22maxWidth%22%3A%20%22100%25%22%7D%29%3B%0A%0A%20%20%20%20%20%20%20%20%0A%20%20%20%20%20%20%20%20%20%20%20%20var%20html_6a10f03483ed4967806c757c040816c0%20%3D%20%24%28%60%3Cdiv%20id%3D%22html_6a10f03483ed4967806c757c040816c0%22%20style%3D%22width%3A%20100.0%25%3B%20height%3A%20100.0%25%3B%22%3ECollege%20Of%20Staten%20Island%20%28Cuny%29%3C/div%3E%60%29%5B0%5D%3B%0A%20%20%20%20%20%20%20%20%20%20%20%20popup_c4c858fb21ea49589668af686e8b2a4b.setContent%28html_6a10f03483ed4967806c757c040816c0%29%3B%0A%20%20%20%20%20%20%20%20%0A%0A%20%20%20%20%20%20%20%20marker_752e77b0a88042c8bac85ceedb2c1f52.bindPopup%28popup_c4c858fb21ea49589668af686e8b2a4b%29%0A%20%20%20%20%20%20%20%20%3B%0A%0A%20%20%20%20%20%20%20%20%0A%20%20%20%20%0A%20%20%20%20%0A%20%20%20%20%20%20%20%20%20%20%20%20var%20marker_f7475c74471b44ffbb11fa6c789a72f7%20%3D%20L.marker%28%0A%20%20%20%20%20%20%20%20%20%20%20%20%20%20%20%20%5B40.816519%2C%20-73.9203893%5D%2C%0A%20%20%20%20%20%20%20%20%20%20%20%20%20%20%20%20%7B%7D%0A%20%20%20%20%20%20%20%20%20%20%20%20%29.addTo%28map_b0bf57203c914706b3ec08a5224436e3%29%3B%0A%20%20%20%20%20%20%20%20%0A%20%20%20%20%0A%20%20%20%20%20%20%20%20%20%20%20%20var%20icon_1c2ee860e7a84d1fb90c238c9ebe7930%20%3D%20L.AwesomeMarkers.icon%28%0A%20%20%20%20%20%20%20%20%20%20%20%20%20%20%20%20%7B%22extraClasses%22%3A%20%22fa-rotate-0%22%2C%20%22icon%22%3A%20%22university%22%2C%20%22iconColor%22%3A%20%22white%22%2C%20%22markerColor%22%3A%20%22lightblue%22%2C%20%22prefix%22%3A%20%22fa%22%7D%0A%20%20%20%20%20%20%20%20%20%20%20%20%29%3B%0A%20%20%20%20%20%20%20%20%20%20%20%20marker_f7475c74471b44ffbb11fa6c789a72f7.setIcon%28icon_1c2ee860e7a84d1fb90c238c9ebe7930%29%3B%0A%20%20%20%20%20%20%20%20%0A%20%20%20%20%0A%20%20%20%20%20%20%20%20var%20popup_500f5c6d87f8492eac738cbf256bf6fc%20%3D%20L.popup%28%7B%22maxWidth%22%3A%20%22100%25%22%7D%29%3B%0A%0A%20%20%20%20%20%20%20%20%0A%20%20%20%20%20%20%20%20%20%20%20%20var%20html_6f9a6fd8f2514f52882cc1a757885052%20%3D%20%24%28%60%3Cdiv%20id%3D%22html_6f9a6fd8f2514f52882cc1a757885052%22%20style%3D%22width%3A%20100.0%25%3B%20height%3A%20100.0%25%3B%22%3ECollege%20Of%20New%20Rochelle%2C%20The%20/%20School%20Of%20New%20Resources/John%20Cardinal%20O%3FConnor%20Campus%3C/div%3E%60%29%5B0%5D%3B%0A%20%20%20%20%20%20%20%20%20%20%20%20popup_500f5c6d87f8492eac738cbf256bf6fc.setContent%28html_6f9a6fd8f2514f52882cc1a757885052%29%3B%0A%20%20%20%20%20%20%20%20%0A%0A%20%20%20%20%20%20%20%20marker_f7475c74471b44ffbb11fa6c789a72f7.bindPopup%28popup_500f5c6d87f8492eac738cbf256bf6fc%29%0A%20%20%20%20%20%20%20%20%3B%0A%0A%20%20%20%20%20%20%20%20%0A%20%20%20%20%0A%20%20%20%20%0A%20%20%20%20%20%20%20%20%20%20%20%20var%20marker_63f4e15fed0f4660a36006b6bd2f14e7%20%3D%20L.marker%28%0A%20%20%20%20%20%20%20%20%20%20%20%20%20%20%20%20%5B0.86125886%2C%20-73.8873901%5D%2C%0A%20%20%20%20%20%20%20%20%20%20%20%20%20%20%20%20%7B%7D%0A%20%20%20%20%20%20%20%20%20%20%20%20%29.addTo%28map_b0bf57203c914706b3ec08a5224436e3%29%3B%0A%20%20%20%20%20%20%20%20%0A%20%20%20%20%0A%20%20%20%20%20%20%20%20%20%20%20%20var%20icon_570c8c37cb214a51b0a98aadcfd5a204%20%3D%20L.AwesomeMarkers.icon%28%0A%20%20%20%20%20%20%20%20%20%20%20%20%20%20%20%20%7B%22extraClasses%22%3A%20%22fa-rotate-0%22%2C%20%22icon%22%3A%20%22university%22%2C%20%22iconColor%22%3A%20%22white%22%2C%20%22markerColor%22%3A%20%22lightblue%22%2C%20%22prefix%22%3A%20%22fa%22%7D%0A%20%20%20%20%20%20%20%20%20%20%20%20%29%3B%0A%20%20%20%20%20%20%20%20%20%20%20%20marker_63f4e15fed0f4660a36006b6bd2f14e7.setIcon%28icon_570c8c37cb214a51b0a98aadcfd5a204%29%3B%0A%20%20%20%20%20%20%20%20%0A%20%20%20%20%0A%20%20%20%20%20%20%20%20var%20popup_755ba39c7353426b98023f6915059731%20%3D%20L.popup%28%7B%22maxWidth%22%3A%20%22100%25%22%7D%29%3B%0A%0A%20%20%20%20%20%20%20%20%0A%20%20%20%20%20%20%20%20%20%20%20%20var%20html_c5cc63d6394b482a88bac521d1d69512%20%3D%20%24%28%60%3Cdiv%20id%3D%22html_c5cc63d6394b482a88bac521d1d69512%22%20style%3D%22width%3A%20100.0%25%3B%20height%3A%20100.0%25%3B%22%3EFordham%20University%3C/div%3E%60%29%5B0%5D%3B%0A%20%20%20%20%20%20%20%20%20%20%20%20popup_755ba39c7353426b98023f6915059731.setContent%28html_c5cc63d6394b482a88bac521d1d69512%29%3B%0A%20%20%20%20%20%20%20%20%0A%0A%20%20%20%20%20%20%20%20marker_63f4e15fed0f4660a36006b6bd2f14e7.bindPopup%28popup_755ba39c7353426b98023f6915059731%29%0A%20%20%20%20%20%20%20%20%3B%0A%0A%20%20%20%20%20%20%20%20%0A%20%20%20%20%0A%20%20%20%20%0A%20%20%20%20%20%20%20%20%20%20%20%20var%20marker_eb9c05e7fbd640e8a6bd43efdcb2bbd4%20%3D%20L.marker%28%0A%20%20%20%20%20%20%20%20%20%20%20%20%20%20%20%20%5B40.889767%2C%20-73.9019057%5D%2C%0A%20%20%20%20%20%20%20%20%20%20%20%20%20%20%20%20%7B%7D%0A%20%20%20%20%20%20%20%20%20%20%20%20%29.addTo%28map_b0bf57203c914706b3ec08a5224436e3%29%3B%0A%20%20%20%20%20%20%20%20%0A%20%20%20%20%0A%20%20%20%20%20%20%20%20%20%20%20%20var%20icon_874a39943e5f41ca94312465dd345da0%20%3D%20L.AwesomeMarkers.icon%28%0A%20%20%20%20%20%20%20%20%20%20%20%20%20%20%20%20%7B%22extraClasses%22%3A%20%22fa-rotate-0%22%2C%20%22icon%22%3A%20%22university%22%2C%20%22iconColor%22%3A%20%22white%22%2C%20%22markerColor%22%3A%20%22lightblue%22%2C%20%22prefix%22%3A%20%22fa%22%7D%0A%20%20%20%20%20%20%20%20%20%20%20%20%29%3B%0A%20%20%20%20%20%20%20%20%20%20%20%20marker_eb9c05e7fbd640e8a6bd43efdcb2bbd4.setIcon%28icon_874a39943e5f41ca94312465dd345da0%29%3B%0A%20%20%20%20%20%20%20%20%0A%20%20%20%20%0A%20%20%20%20%20%20%20%20var%20popup_6a8a856dcef9410186f925eabed1c0fa%20%3D%20L.popup%28%7B%22maxWidth%22%3A%20%22100%25%22%7D%29%3B%0A%0A%20%20%20%20%20%20%20%20%0A%20%20%20%20%20%20%20%20%20%20%20%20var%20html_4144b5d95efa460eaa9478fb13c4c2a9%20%3D%20%24%28%60%3Cdiv%20id%3D%22html_4144b5d95efa460eaa9478fb13c4c2a9%22%20style%3D%22width%3A%20100.0%25%3B%20height%3A%20100.0%25%3B%22%3EManhattan%20College%3C/div%3E%60%29%5B0%5D%3B%0A%20%20%20%20%20%20%20%20%20%20%20%20popup_6a8a856dcef9410186f925eabed1c0fa.setContent%28html_4144b5d95efa460eaa9478fb13c4c2a9%29%3B%0A%20%20%20%20%20%20%20%20%0A%0A%20%20%20%20%20%20%20%20marker_eb9c05e7fbd640e8a6bd43efdcb2bbd4.bindPopup%28popup_6a8a856dcef9410186f925eabed1c0fa%29%0A%20%20%20%20%20%20%20%20%3B%0A%0A%20%20%20%20%20%20%20%20%0A%20%20%20%20%0A%20%20%20%20%0A%20%20%20%20%20%20%20%20%20%20%20%20var%20marker_e0ecce2758eb4ed3a21a7cf9469e05aa%20%3D%20L.marker%28%0A%20%20%20%20%20%20%20%20%20%20%20%20%20%20%20%20%5B40.912639%2C%20-73.9028454%5D%2C%0A%20%20%20%20%20%20%20%20%20%20%20%20%20%20%20%20%7B%7D%0A%20%20%20%20%20%20%20%20%20%20%20%20%29.addTo%28map_b0bf57203c914706b3ec08a5224436e3%29%3B%0A%20%20%20%20%20%20%20%20%0A%20%20%20%20%0A%20%20%20%20%20%20%20%20%20%20%20%20var%20icon_1f2ed4b041ef4db69bcec472e05753cb%20%3D%20L.AwesomeMarkers.icon%28%0A%20%20%20%20%20%20%20%20%20%20%20%20%20%20%20%20%7B%22extraClasses%22%3A%20%22fa-rotate-0%22%2C%20%22icon%22%3A%20%22university%22%2C%20%22iconColor%22%3A%20%22white%22%2C%20%22markerColor%22%3A%20%22lightblue%22%2C%20%22prefix%22%3A%20%22fa%22%7D%0A%20%20%20%20%20%20%20%20%20%20%20%20%29%3B%0A%20%20%20%20%20%20%20%20%20%20%20%20marker_e0ecce2758eb4ed3a21a7cf9469e05aa.setIcon%28icon_1f2ed4b041ef4db69bcec472e05753cb%29%3B%0A%20%20%20%20%20%20%20%20%0A%20%20%20%20%0A%20%20%20%20%20%20%20%20var%20popup_c6d58439050347238ea589986f5558d8%20%3D%20L.popup%28%7B%22maxWidth%22%3A%20%22100%25%22%7D%29%3B%0A%0A%20%20%20%20%20%20%20%20%0A%20%20%20%20%20%20%20%20%20%20%20%20var%20html_2f472937bfa14172b5f13020dc77808e%20%3D%20%24%28%60%3Cdiv%20id%3D%22html_2f472937bfa14172b5f13020dc77808e%22%20style%3D%22width%3A%20100.0%25%3B%20height%3A%20100.0%25%3B%22%3ECollege%20Of%20Mount%20St.%20Vincent%3C/div%3E%60%29%5B0%5D%3B%0A%20%20%20%20%20%20%20%20%20%20%20%20popup_c6d58439050347238ea589986f5558d8.setContent%28html_2f472937bfa14172b5f13020dc77808e%29%3B%0A%20%20%20%20%20%20%20%20%0A%0A%20%20%20%20%20%20%20%20marker_e0ecce2758eb4ed3a21a7cf9469e05aa.bindPopup%28popup_c6d58439050347238ea589986f5558d8%29%0A%20%20%20%20%20%20%20%20%3B%0A%0A%20%20%20%20%20%20%20%20%0A%20%20%20%20%0A%20%20%20%20%0A%20%20%20%20%20%20%20%20%20%20%20%20var%20marker_5f200cb56b3145c18c866581e68f8df4%20%3D%20L.marker%28%0A%20%20%20%20%20%20%20%20%20%20%20%20%20%20%20%20%5B0.88021177%2C%20-73.8270025%5D%2C%0A%20%20%20%20%20%20%20%20%20%20%20%20%20%20%20%20%7B%7D%0A%20%20%20%20%20%20%20%20%20%20%20%20%29.addTo%28map_b0bf57203c914706b3ec08a5224436e3%29%3B%0A%20%20%20%20%20%20%20%20%0A%20%20%20%20%0A%20%20%20%20%20%20%20%20%20%20%20%20var%20icon_9e74f87c9cbd4005a0fb57bc89b316a8%20%3D%20L.AwesomeMarkers.icon%28%0A%20%20%20%20%20%20%20%20%20%20%20%20%20%20%20%20%7B%22extraClasses%22%3A%20%22fa-rotate-0%22%2C%20%22icon%22%3A%20%22university%22%2C%20%22iconColor%22%3A%20%22white%22%2C%20%22markerColor%22%3A%20%22lightblue%22%2C%20%22prefix%22%3A%20%22fa%22%7D%0A%20%20%20%20%20%20%20%20%20%20%20%20%29%3B%0A%20%20%20%20%20%20%20%20%20%20%20%20marker_5f200cb56b3145c18c866581e68f8df4.setIcon%28icon_9e74f87c9cbd4005a0fb57bc89b316a8%29%3B%0A%20%20%20%20%20%20%20%20%0A%20%20%20%20%0A%20%20%20%20%20%20%20%20var%20popup_5fab34cb528d46aeb8730e8eb01e7c48%20%3D%20L.popup%28%7B%22maxWidth%22%3A%20%22100%25%22%7D%29%3B%0A%0A%20%20%20%20%20%20%20%20%0A%20%20%20%20%20%20%20%20%20%20%20%20var%20html_41c55fb1b2534daebc9bdfd1099543a4%20%3D%20%24%28%60%3Cdiv%20id%3D%22html_41c55fb1b2534daebc9bdfd1099543a4%22%20style%3D%22width%3A%20100.0%25%3B%20height%3A%20100.0%25%3B%22%3ECollege%20Of%20New%20Rochelle%2C%20The%20/%20School%20Of%20New%20Resources/Co-Op%20City%20Campus%3C/div%3E%60%29%5B0%5D%3B%0A%20%20%20%20%20%20%20%20%20%20%20%20popup_5fab34cb528d46aeb8730e8eb01e7c48.setContent%28html_41c55fb1b2534daebc9bdfd1099543a4%29%3B%0A%20%20%20%20%20%20%20%20%0A%0A%20%20%20%20%20%20%20%20marker_5f200cb56b3145c18c866581e68f8df4.bindPopup%28popup_5fab34cb528d46aeb8730e8eb01e7c48%29%0A%20%20%20%20%20%20%20%20%3B%0A%0A%20%20%20%20%20%20%20%20%0A%20%20%20%20%0A%20%20%20%20%0A%20%20%20%20%20%20%20%20%20%20%20%20var%20marker_5b6bc5d355c54c59be0177c7d10cd2de%20%3D%20L.marker%28%0A%20%20%20%20%20%20%20%20%20%20%20%20%20%20%20%20%5B40.691699%2C%20-73.9812955%5D%2C%0A%20%20%20%20%20%20%20%20%20%20%20%20%20%20%20%20%7B%7D%0A%20%20%20%20%20%20%20%20%20%20%20%20%29.addTo%28map_b0bf57203c914706b3ec08a5224436e3%29%3B%0A%20%20%20%20%20%20%20%20%0A%20%20%20%20%0A%20%20%20%20%20%20%20%20%20%20%20%20var%20icon_2f81be5db3ed44a6a21fc2416829aca3%20%3D%20L.AwesomeMarkers.icon%28%0A%20%20%20%20%20%20%20%20%20%20%20%20%20%20%20%20%7B%22extraClasses%22%3A%20%22fa-rotate-0%22%2C%20%22icon%22%3A%20%22university%22%2C%20%22iconColor%22%3A%20%22white%22%2C%20%22markerColor%22%3A%20%22lightblue%22%2C%20%22prefix%22%3A%20%22fa%22%7D%0A%20%20%20%20%20%20%20%20%20%20%20%20%29%3B%0A%20%20%20%20%20%20%20%20%20%20%20%20marker_5b6bc5d355c54c59be0177c7d10cd2de.setIcon%28icon_2f81be5db3ed44a6a21fc2416829aca3%29%3B%0A%20%20%20%20%20%20%20%20%0A%20%20%20%20%0A%20%20%20%20%20%20%20%20var%20popup_a6e7a872ba454965b1487d6fbdf843e7%20%3D%20L.popup%28%7B%22maxWidth%22%3A%20%22100%25%22%7D%29%3B%0A%0A%20%20%20%20%20%20%20%20%0A%20%20%20%20%20%20%20%20%20%20%20%20var%20html_a167077e10254b1b8905dc54332ecd05%20%3D%20%24%28%60%3Cdiv%20id%3D%22html_a167077e10254b1b8905dc54332ecd05%22%20style%3D%22width%3A%20100.0%25%3B%20height%3A%20100.0%25%3B%22%3ELong%20Island%20University%20/%20Brooklyn%20Campus%3C/div%3E%60%29%5B0%5D%3B%0A%20%20%20%20%20%20%20%20%20%20%20%20popup_a6e7a872ba454965b1487d6fbdf843e7.setContent%28html_a167077e10254b1b8905dc54332ecd05%29%3B%0A%20%20%20%20%20%20%20%20%0A%0A%20%20%20%20%20%20%20%20marker_5b6bc5d355c54c59be0177c7d10cd2de.bindPopup%28popup_a6e7a872ba454965b1487d6fbdf843e7%29%0A%20%20%20%20%20%20%20%20%3B%0A%0A%20%20%20%20%20%20%20%20%0A%20%20%20%20%0A%20%20%20%20%0A%20%20%20%20%20%20%20%20%20%20%20%20var%20marker_abf9b9e4c00f458ebb44f08a86067e5e%20%3D%20L.marker%28%0A%20%20%20%20%20%20%20%20%20%20%20%20%20%20%20%20%5B0.6799503%2C%20-73.9456342%5D%2C%0A%20%20%20%20%20%20%20%20%20%20%20%20%20%20%20%20%7B%7D%0A%20%20%20%20%20%20%20%20%20%20%20%20%29.addTo%28map_b0bf57203c914706b3ec08a5224436e3%29%3B%0A%20%20%20%20%20%20%20%20%0A%20%20%20%20%0A%20%20%20%20%20%20%20%20%20%20%20%20var%20icon_c84071f0f3c3482394ed896ad1027f68%20%3D%20L.AwesomeMarkers.icon%28%0A%20%20%20%20%20%20%20%20%20%20%20%20%20%20%20%20%7B%22extraClasses%22%3A%20%22fa-rotate-0%22%2C%20%22icon%22%3A%20%22university%22%2C%20%22iconColor%22%3A%20%22white%22%2C%20%22markerColor%22%3A%20%22lightblue%22%2C%20%22prefix%22%3A%20%22fa%22%7D%0A%20%20%20%20%20%20%20%20%20%20%20%20%29%3B%0A%20%20%20%20%20%20%20%20%20%20%20%20marker_abf9b9e4c00f458ebb44f08a86067e5e.setIcon%28icon_c84071f0f3c3482394ed896ad1027f68%29%3B%0A%20%20%20%20%20%20%20%20%0A%20%20%20%20%0A%20%20%20%20%20%20%20%20var%20popup_aad17445f0924543aaab1895684f5404%20%3D%20L.popup%28%7B%22maxWidth%22%3A%20%22100%25%22%7D%29%3B%0A%0A%20%20%20%20%20%20%20%20%0A%20%20%20%20%20%20%20%20%20%20%20%20var%20html_7bff4bf69eac4a358542734644bcf30e%20%3D%20%24%28%60%3Cdiv%20id%3D%22html_7bff4bf69eac4a358542734644bcf30e%22%20style%3D%22width%3A%20100.0%25%3B%20height%3A%20100.0%25%3B%22%3ECollege%20Of%20New%20Rochelle%2C%20The%20/%20School%20Of%20New%20Resources/Brooklyn%20Campus%3C/div%3E%60%29%5B0%5D%3B%0A%20%20%20%20%20%20%20%20%20%20%20%20popup_aad17445f0924543aaab1895684f5404.setContent%28html_7bff4bf69eac4a358542734644bcf30e%29%3B%0A%20%20%20%20%20%20%20%20%0A%0A%20%20%20%20%20%20%20%20marker_abf9b9e4c00f458ebb44f08a86067e5e.bindPopup%28popup_aad17445f0924543aaab1895684f5404%29%0A%20%20%20%20%20%20%20%20%3B%0A%0A%20%20%20%20%20%20%20%20%0A%20%20%20%20%0A%20%20%20%20%0A%20%20%20%20%20%20%20%20%20%20%20%20var%20marker_40a8996d1f2d45188015b9717dec77d7%20%3D%20L.marker%28%0A%20%20%20%20%20%20%20%20%20%20%20%20%20%20%20%20%5B40.692305%2C%20-73.9830834%5D%2C%0A%20%20%20%20%20%20%20%20%20%20%20%20%20%20%20%20%7B%7D%0A%20%20%20%20%20%20%20%20%20%20%20%20%29.addTo%28map_b0bf57203c914706b3ec08a5224436e3%29%3B%0A%20%20%20%20%20%20%20%20%0A%20%20%20%20%0A%20%20%20%20%20%20%20%20%20%20%20%20var%20icon_2ef5572228fe482eaa637bcd2ff1abf3%20%3D%20L.AwesomeMarkers.icon%28%0A%20%20%20%20%20%20%20%20%20%20%20%20%20%20%20%20%7B%22extraClasses%22%3A%20%22fa-rotate-0%22%2C%20%22icon%22%3A%20%22university%22%2C%20%22iconColor%22%3A%20%22white%22%2C%20%22markerColor%22%3A%20%22lightblue%22%2C%20%22prefix%22%3A%20%22fa%22%7D%0A%20%20%20%20%20%20%20%20%20%20%20%20%29%3B%0A%20%20%20%20%20%20%20%20%20%20%20%20marker_40a8996d1f2d45188015b9717dec77d7.setIcon%28icon_2ef5572228fe482eaa637bcd2ff1abf3%29%3B%0A%20%20%20%20%20%20%20%20%0A%20%20%20%20%0A%20%20%20%20%20%20%20%20var%20popup_05410dc744fe47819c2be00c4fb3cd92%20%3D%20L.popup%28%7B%22maxWidth%22%3A%20%22100%25%22%7D%29%3B%0A%0A%20%20%20%20%20%20%20%20%0A%20%20%20%20%20%20%20%20%20%20%20%20var%20html_7f0577f81f0044c9859c2dbd56b308d4%20%3D%20%24%28%60%3Cdiv%20id%3D%22html_7f0577f81f0044c9859c2dbd56b308d4%22%20style%3D%22width%3A%20100.0%25%3B%20height%3A%20100.0%25%3B%22%3EInstitute%20Of%20Design%20And%20Construction%3C/div%3E%60%29%5B0%5D%3B%0A%20%20%20%20%20%20%20%20%20%20%20%20popup_05410dc744fe47819c2be00c4fb3cd92.setContent%28html_7f0577f81f0044c9859c2dbd56b308d4%29%3B%0A%20%20%20%20%20%20%20%20%0A%0A%20%20%20%20%20%20%20%20marker_40a8996d1f2d45188015b9717dec77d7.bindPopup%28popup_05410dc744fe47819c2be00c4fb3cd92%29%0A%20%20%20%20%20%20%20%20%3B%0A%0A%20%20%20%20%20%20%20%20%0A%20%20%20%20%0A%20%20%20%20%0A%20%20%20%20%20%20%20%20%20%20%20%20var%20marker_27c91feef9e44412a26648c759346c99%20%3D%20L.marker%28%0A%20%20%20%20%20%20%20%20%20%20%20%20%20%20%20%20%5B0.6930685%2C%20-73.9921109%5D%2C%0A%20%20%20%20%20%20%20%20%20%20%20%20%20%20%20%20%7B%7D%0A%20%20%20%20%20%20%20%20%20%20%20%20%29.addTo%28map_b0bf57203c914706b3ec08a5224436e3%29%3B%0A%20%20%20%20%20%20%20%20%0A%20%20%20%20%0A%20%20%20%20%20%20%20%20%20%20%20%20var%20icon_a703c50d84354df5a8fe7d50977ea143%20%3D%20L.AwesomeMarkers.icon%28%0A%20%20%20%20%20%20%20%20%20%20%20%20%20%20%20%20%7B%22extraClasses%22%3A%20%22fa-rotate-0%22%2C%20%22icon%22%3A%20%22university%22%2C%20%22iconColor%22%3A%20%22white%22%2C%20%22markerColor%22%3A%20%22lightblue%22%2C%20%22prefix%22%3A%20%22fa%22%7D%0A%20%20%20%20%20%20%20%20%20%20%20%20%29%3B%0A%20%20%20%20%20%20%20%20%20%20%20%20marker_27c91feef9e44412a26648c759346c99.setIcon%28icon_a703c50d84354df5a8fe7d50977ea143%29%3B%0A%20%20%20%20%20%20%20%20%0A%20%20%20%20%0A%20%20%20%20%20%20%20%20var%20popup_bbbf20f34f1e455a91abaff36c76fcfc%20%3D%20L.popup%28%7B%22maxWidth%22%3A%20%22100%25%22%7D%29%3B%0A%0A%20%20%20%20%20%20%20%20%0A%20%20%20%20%20%20%20%20%20%20%20%20var%20html_b49226ac61ba473eafb1711dbcd67ef5%20%3D%20%24%28%60%3Cdiv%20id%3D%22html_b49226ac61ba473eafb1711dbcd67ef5%22%20style%3D%22width%3A%20100.0%25%3B%20height%3A%20100.0%25%3B%22%3ESt.%20Francis%20College%3C/div%3E%60%29%5B0%5D%3B%0A%20%20%20%20%20%20%20%20%20%20%20%20popup_bbbf20f34f1e455a91abaff36c76fcfc.setContent%28html_b49226ac61ba473eafb1711dbcd67ef5%29%3B%0A%20%20%20%20%20%20%20%20%0A%0A%20%20%20%20%20%20%20%20marker_27c91feef9e44412a26648c759346c99.bindPopup%28popup_bbbf20f34f1e455a91abaff36c76fcfc%29%0A%20%20%20%20%20%20%20%20%3B%0A%0A%20%20%20%20%20%20%20%20%0A%20%20%20%20%0A%20%20%20%20%0A%20%20%20%20%20%20%20%20%20%20%20%20var%20marker_f98399f5db8c47fcbd372f5bd89dcb9f%20%3D%20L.marker%28%0A%20%20%20%20%20%20%20%20%20%20%20%20%20%20%20%20%5B40.71658%2C%20-73.9577528%5D%2C%0A%20%20%20%20%20%20%20%20%20%20%20%20%20%20%20%20%7B%7D%0A%20%20%20%20%20%20%20%20%20%20%20%20%29.addTo%28map_b0bf57203c914706b3ec08a5224436e3%29%3B%0A%20%20%20%20%20%20%20%20%0A%20%20%20%20%0A%20%20%20%20%20%20%20%20%20%20%20%20var%20icon_a774de82ee794142bf85bb5d77234fed%20%3D%20L.AwesomeMarkers.icon%28%0A%20%20%20%20%20%20%20%20%20%20%20%20%20%20%20%20%7B%22extraClasses%22%3A%20%22fa-rotate-0%22%2C%20%22icon%22%3A%20%22university%22%2C%20%22iconColor%22%3A%20%22white%22%2C%20%22markerColor%22%3A%20%22lightblue%22%2C%20%22prefix%22%3A%20%22fa%22%7D%0A%20%20%20%20%20%20%20%20%20%20%20%20%29%3B%0A%20%20%20%20%20%20%20%20%20%20%20%20marker_f98399f5db8c47fcbd372f5bd89dcb9f.setIcon%28icon_a774de82ee794142bf85bb5d77234fed%29%3B%0A%20%20%20%20%20%20%20%20%0A%20%20%20%20%0A%20%20%20%20%20%20%20%20var%20popup_b0417cce9fbe4d9f9dfe93d82388ec85%20%3D%20L.popup%28%7B%22maxWidth%22%3A%20%22100%25%22%7D%29%3B%0A%0A%20%20%20%20%20%20%20%20%0A%20%20%20%20%20%20%20%20%20%20%20%20var%20html_bcb6ee05a55c475a8791fd4294a74885%20%3D%20%24%28%60%3Cdiv%20id%3D%22html_bcb6ee05a55c475a8791fd4294a74885%22%20style%3D%22width%3A%20100.0%25%3B%20height%3A%20100.0%25%3B%22%3EBoricua%20College%2C%20Northside%20Center%3C/div%3E%60%29%5B0%5D%3B%0A%20%20%20%20%20%20%20%20%20%20%20%20popup_b0417cce9fbe4d9f9dfe93d82388ec85.setContent%28html_bcb6ee05a55c475a8791fd4294a74885%29%3B%0A%20%20%20%20%20%20%20%20%0A%0A%20%20%20%20%20%20%20%20marker_f98399f5db8c47fcbd372f5bd89dcb9f.bindPopup%28popup_b0417cce9fbe4d9f9dfe93d82388ec85%29%0A%20%20%20%20%20%20%20%20%3B%0A%0A%20%20%20%20%20%20%20%20%0A%20%20%20%20%0A%20%20%20%20%0A%20%20%20%20%20%20%20%20%20%20%20%20var%20marker_7bb8ace64dfd49ef835805351429d2e4%20%3D%20L.marker%28%0A%20%20%20%20%20%20%20%20%20%20%20%20%20%20%20%20%5B0.6917915%2C%20-73.9641713%5D%2C%0A%20%20%20%20%20%20%20%20%20%20%20%20%20%20%20%20%7B%7D%0A%20%20%20%20%20%20%20%20%20%20%20%20%29.addTo%28map_b0bf57203c914706b3ec08a5224436e3%29%3B%0A%20%20%20%20%20%20%20%20%0A%20%20%20%20%0A%20%20%20%20%20%20%20%20%20%20%20%20var%20icon_e92e3b788c694f39b23b0a7e81e2a76e%20%3D%20L.AwesomeMarkers.icon%28%0A%20%20%20%20%20%20%20%20%20%20%20%20%20%20%20%20%7B%22extraClasses%22%3A%20%22fa-rotate-0%22%2C%20%22icon%22%3A%20%22university%22%2C%20%22iconColor%22%3A%20%22white%22%2C%20%22markerColor%22%3A%20%22lightblue%22%2C%20%22prefix%22%3A%20%22fa%22%7D%0A%20%20%20%20%20%20%20%20%20%20%20%20%29%3B%0A%20%20%20%20%20%20%20%20%20%20%20%20marker_7bb8ace64dfd49ef835805351429d2e4.setIcon%28icon_e92e3b788c694f39b23b0a7e81e2a76e%29%3B%0A%20%20%20%20%20%20%20%20%0A%20%20%20%20%0A%20%20%20%20%20%20%20%20var%20popup_7aaf21f61a1a4046ab459aa41bc10016%20%3D%20L.popup%28%7B%22maxWidth%22%3A%20%22100%25%22%7D%29%3B%0A%0A%20%20%20%20%20%20%20%20%0A%20%20%20%20%20%20%20%20%20%20%20%20var%20html_74ca497c681e4293a13b155549316c94%20%3D%20%24%28%60%3Cdiv%20id%3D%22html_74ca497c681e4293a13b155549316c94%22%20style%3D%22width%3A%20100.0%25%3B%20height%3A%20100.0%25%3B%22%3EPratt%20Institute%3C/div%3E%60%29%5B0%5D%3B%0A%20%20%20%20%20%20%20%20%20%20%20%20popup_7aaf21f61a1a4046ab459aa41bc10016.setContent%28html_74ca497c681e4293a13b155549316c94%29%3B%0A%20%20%20%20%20%20%20%20%0A%0A%20%20%20%20%20%20%20%20marker_7bb8ace64dfd49ef835805351429d2e4.bindPopup%28popup_7aaf21f61a1a4046ab459aa41bc10016%29%0A%20%20%20%20%20%20%20%20%3B%0A%0A%20%20%20%20%20%20%20%20%0A%20%20%20%20%0A%20%20%20%20%0A%20%20%20%20%20%20%20%20%20%20%20%20var%20marker_704ab7abf176453e8457122289a93033%20%3D%20L.marker%28%0A%20%20%20%20%20%20%20%20%20%20%20%20%20%20%20%20%5B40.690522%2C%20-73.96769%5D%2C%0A%20%20%20%20%20%20%20%20%20%20%20%20%20%20%20%20%7B%7D%0A%20%20%20%20%20%20%20%20%20%20%20%20%29.addTo%28map_b0bf57203c914706b3ec08a5224436e3%29%3B%0A%20%20%20%20%20%20%20%20%0A%20%20%20%20%0A%20%20%20%20%20%20%20%20%20%20%20%20var%20icon_39669071c0f4486794c442c11779e91d%20%3D%20L.AwesomeMarkers.icon%28%0A%20%20%20%20%20%20%20%20%20%20%20%20%20%20%20%20%7B%22extraClasses%22%3A%20%22fa-rotate-0%22%2C%20%22icon%22%3A%20%22university%22%2C%20%22iconColor%22%3A%20%22white%22%2C%20%22markerColor%22%3A%20%22lightblue%22%2C%20%22prefix%22%3A%20%22fa%22%7D%0A%20%20%20%20%20%20%20%20%20%20%20%20%29%3B%0A%20%20%20%20%20%20%20%20%20%20%20%20marker_704ab7abf176453e8457122289a93033.setIcon%28icon_39669071c0f4486794c442c11779e91d%29%3B%0A%20%20%20%20%20%20%20%20%0A%20%20%20%20%0A%20%20%20%20%20%20%20%20var%20popup_43b9af1d5c3744c89c162aa71d43f553%20%3D%20L.popup%28%7B%22maxWidth%22%3A%20%22100%25%22%7D%29%3B%0A%0A%20%20%20%20%20%20%20%20%0A%20%20%20%20%20%20%20%20%20%20%20%20var%20html_4ed2f8ad98e44297ab9c8dcae512c4d3%20%3D%20%24%28%60%3Cdiv%20id%3D%22html_4ed2f8ad98e44297ab9c8dcae512c4d3%22%20style%3D%22width%3A%20100.0%25%3B%20height%3A%20100.0%25%3B%22%3ESt.%20Joseph%27s%20College%20/%20Brooklyn%20Campus%3C/div%3E%60%29%5B0%5D%3B%0A%20%20%20%20%20%20%20%20%20%20%20%20popup_43b9af1d5c3744c89c162aa71d43f553.setContent%28html_4ed2f8ad98e44297ab9c8dcae512c4d3%29%3B%0A%20%20%20%20%20%20%20%20%0A%0A%20%20%20%20%20%20%20%20marker_704ab7abf176453e8457122289a93033.bindPopup%28popup_43b9af1d5c3744c89c162aa71d43f553%29%0A%20%20%20%20%20%20%20%20%3B%0A%0A%20%20%20%20%20%20%20%20%0A%20%20%20%20%0A%20%20%20%20%0A%20%20%20%20%20%20%20%20%20%20%20%20var%20marker_3734c995ebe5450ebef12ceddaa4e998%20%3D%20L.marker%28%0A%20%20%20%20%20%20%20%20%20%20%20%20%20%20%20%20%5B40.690559%2C%20-73.9974008%5D%2C%0A%20%20%20%20%20%20%20%20%20%20%20%20%20%20%20%20%7B%7D%0A%20%20%20%20%20%20%20%20%20%20%20%20%29.addTo%28map_b0bf57203c914706b3ec08a5224436e3%29%3B%0A%20%20%20%20%20%20%20%20%0A%20%20%20%20%0A%20%20%20%20%20%20%20%20%20%20%20%20var%20icon_85874772f942440fbdaa8f65ce3cfcaa%20%3D%20L.AwesomeMarkers.icon%28%0A%20%20%20%20%20%20%20%20%20%20%20%20%20%20%20%20%7B%22extraClasses%22%3A%20%22fa-rotate-0%22%2C%20%22icon%22%3A%20%22university%22%2C%20%22iconColor%22%3A%20%22white%22%2C%20%22markerColor%22%3A%20%22lightblue%22%2C%20%22prefix%22%3A%20%22fa%22%7D%0A%20%20%20%20%20%20%20%20%20%20%20%20%29%3B%0A%20%20%20%20%20%20%20%20%20%20%20%20marker_3734c995ebe5450ebef12ceddaa4e998.setIcon%28icon_85874772f942440fbdaa8f65ce3cfcaa%29%3B%0A%20%20%20%20%20%20%20%20%0A%20%20%20%20%0A%20%20%20%20%20%20%20%20var%20popup_d75c02a1a47d44aaa28e74e021edb251%20%3D%20L.popup%28%7B%22maxWidth%22%3A%20%22100%25%22%7D%29%3B%0A%0A%20%20%20%20%20%20%20%20%0A%20%20%20%20%20%20%20%20%20%20%20%20var%20html_c858542600cd46dc8a18921547b56379%20%3D%20%24%28%60%3Cdiv%20id%3D%22html_c858542600cd46dc8a18921547b56379%22%20style%3D%22width%3A%20100.0%25%3B%20height%3A%20100.0%25%3B%22%3ELong%20Island%20College%20Hospital%20School%20Of%20Nursing%3C/div%3E%60%29%5B0%5D%3B%0A%20%20%20%20%20%20%20%20%20%20%20%20popup_d75c02a1a47d44aaa28e74e021edb251.setContent%28html_c858542600cd46dc8a18921547b56379%29%3B%0A%20%20%20%20%20%20%20%20%0A%0A%20%20%20%20%20%20%20%20marker_3734c995ebe5450ebef12ceddaa4e998.bindPopup%28popup_d75c02a1a47d44aaa28e74e021edb251%29%0A%20%20%20%20%20%20%20%20%3B%0A%0A%20%20%20%20%20%20%20%20%0A%20%20%20%20%0A%20%20%20%20%0A%20%20%20%20%20%20%20%20%20%20%20%20var%20marker_a0d27f13d1404a228f84b0318c140f76%20%3D%20L.marker%28%0A%20%20%20%20%20%20%20%20%20%20%20%20%20%20%20%20%5B40.694632%2C%20-73.9856582%5D%2C%0A%20%20%20%20%20%20%20%20%20%20%20%20%20%20%20%20%7B%7D%0A%20%20%20%20%20%20%20%20%20%20%20%20%29.addTo%28map_b0bf57203c914706b3ec08a5224436e3%29%3B%0A%20%20%20%20%20%20%20%20%0A%20%20%20%20%0A%20%20%20%20%20%20%20%20%20%20%20%20var%20icon_4ab1c896f64642f8b6b5faea30023887%20%3D%20L.AwesomeMarkers.icon%28%0A%20%20%20%20%20%20%20%20%20%20%20%20%20%20%20%20%7B%22extraClasses%22%3A%20%22fa-rotate-0%22%2C%20%22icon%22%3A%20%22university%22%2C%20%22iconColor%22%3A%20%22white%22%2C%20%22markerColor%22%3A%20%22lightblue%22%2C%20%22prefix%22%3A%20%22fa%22%7D%0A%20%20%20%20%20%20%20%20%20%20%20%20%29%3B%0A%20%20%20%20%20%20%20%20%20%20%20%20marker_a0d27f13d1404a228f84b0318c140f76.setIcon%28icon_4ab1c896f64642f8b6b5faea30023887%29%3B%0A%20%20%20%20%20%20%20%20%0A%20%20%20%20%0A%20%20%20%20%20%20%20%20var%20popup_18f48f79c4644dfa856598932363a5fe%20%3D%20L.popup%28%7B%22maxWidth%22%3A%20%22100%25%22%7D%29%3B%0A%0A%20%20%20%20%20%20%20%20%0A%20%20%20%20%20%20%20%20%20%20%20%20var%20html_511a5a24a6f14537803b65d1fa78f6b0%20%3D%20%24%28%60%3Cdiv%20id%3D%22html_511a5a24a6f14537803b65d1fa78f6b0%22%20style%3D%22width%3A%20100.0%25%3B%20height%3A%20100.0%25%3B%22%3EPolytechnic%20University%20/%20Brooklyn-Metrotech%20Campus%3C/div%3E%60%29%5B0%5D%3B%0A%20%20%20%20%20%20%20%20%20%20%20%20popup_18f48f79c4644dfa856598932363a5fe.setContent%28html_511a5a24a6f14537803b65d1fa78f6b0%29%3B%0A%20%20%20%20%20%20%20%20%0A%0A%20%20%20%20%20%20%20%20marker_a0d27f13d1404a228f84b0318c140f76.bindPopup%28popup_18f48f79c4644dfa856598932363a5fe%29%0A%20%20%20%20%20%20%20%20%3B%0A%0A%20%20%20%20%20%20%20%20%0A%20%20%20%20%0A%20%20%20%20%0A%20%20%20%20%20%20%20%20%20%20%20%20var%20marker_06c0a3f8061d42788b5e02842ab9441d%20%3D%20L.marker%28%0A%20%20%20%20%20%20%20%20%20%20%20%20%20%20%20%20%5B40.701296%2C%20-73.9424838%5D%2C%0A%20%20%20%20%20%20%20%20%20%20%20%20%20%20%20%20%7B%7D%0A%20%20%20%20%20%20%20%20%20%20%20%20%29.addTo%28map_b0bf57203c914706b3ec08a5224436e3%29%3B%0A%20%20%20%20%20%20%20%20%0A%20%20%20%20%0A%20%20%20%20%20%20%20%20%20%20%20%20var%20icon_efd9c02879f945cfb9e0a77bc982bdad%20%3D%20L.AwesomeMarkers.icon%28%0A%20%20%20%20%20%20%20%20%20%20%20%20%20%20%20%20%7B%22extraClasses%22%3A%20%22fa-rotate-0%22%2C%20%22icon%22%3A%20%22university%22%2C%20%22iconColor%22%3A%20%22white%22%2C%20%22markerColor%22%3A%20%22lightblue%22%2C%20%22prefix%22%3A%20%22fa%22%7D%0A%20%20%20%20%20%20%20%20%20%20%20%20%29%3B%0A%20%20%20%20%20%20%20%20%20%20%20%20marker_06c0a3f8061d42788b5e02842ab9441d.setIcon%28icon_efd9c02879f945cfb9e0a77bc982bdad%29%3B%0A%20%20%20%20%20%20%20%20%0A%20%20%20%20%0A%20%20%20%20%20%20%20%20var%20popup_7e6b7673c3b9447d9c6d82b3478dbc0c%20%3D%20L.popup%28%7B%22maxWidth%22%3A%20%22100%25%22%7D%29%3B%0A%0A%20%20%20%20%20%20%20%20%0A%20%20%20%20%20%20%20%20%20%20%20%20var%20html_f1e61345ebbe4896b2ea2083083abb65%20%3D%20%24%28%60%3Cdiv%20id%3D%22html_f1e61345ebbe4896b2ea2083083abb65%22%20style%3D%22width%3A%20100.0%25%3B%20height%3A%20100.0%25%3B%22%3EBoricua%20College%2C%20Graham%20Center%3C/div%3E%60%29%5B0%5D%3B%0A%20%20%20%20%20%20%20%20%20%20%20%20popup_7e6b7673c3b9447d9c6d82b3478dbc0c.setContent%28html_f1e61345ebbe4896b2ea2083083abb65%29%3B%0A%20%20%20%20%20%20%20%20%0A%0A%20%20%20%20%20%20%20%20marker_06c0a3f8061d42788b5e02842ab9441d.bindPopup%28popup_7e6b7673c3b9447d9c6d82b3478dbc0c%29%0A%20%20%20%20%20%20%20%20%3B%0A%0A%20%20%20%20%20%20%20%20%0A%20%20%20%20%0A%20%20%20%20%0A%20%20%20%20%20%20%20%20%20%20%20%20var%20marker_3358c06d6481419482907b190702b1f5%20%3D%20L.marker%28%0A%20%20%20%20%20%20%20%20%20%20%20%20%20%20%20%20%5B40.711104%2C%20-74.0047982%5D%2C%0A%20%20%20%20%20%20%20%20%20%20%20%20%20%20%20%20%7B%7D%0A%20%20%20%20%20%20%20%20%20%20%20%20%29.addTo%28map_b0bf57203c914706b3ec08a5224436e3%29%3B%0A%20%20%20%20%20%20%20%20%0A%20%20%20%20%0A%20%20%20%20%20%20%20%20%20%20%20%20var%20icon_239e4847c565485c9154cf114e38dc32%20%3D%20L.AwesomeMarkers.icon%28%0A%20%20%20%20%20%20%20%20%20%20%20%20%20%20%20%20%7B%22extraClasses%22%3A%20%22fa-rotate-0%22%2C%20%22icon%22%3A%20%22university%22%2C%20%22iconColor%22%3A%20%22white%22%2C%20%22markerColor%22%3A%20%22lightblue%22%2C%20%22prefix%22%3A%20%22fa%22%7D%0A%20%20%20%20%20%20%20%20%20%20%20%20%29%3B%0A%20%20%20%20%20%20%20%20%20%20%20%20marker_3358c06d6481419482907b190702b1f5.setIcon%28icon_239e4847c565485c9154cf114e38dc32%29%3B%0A%20%20%20%20%20%20%20%20%0A%20%20%20%20%0A%20%20%20%20%20%20%20%20var%20popup_54de5d46bc4d4a328953c0caac7fa3bd%20%3D%20L.popup%28%7B%22maxWidth%22%3A%20%22100%25%22%7D%29%3B%0A%0A%20%20%20%20%20%20%20%20%0A%20%20%20%20%20%20%20%20%20%20%20%20var%20html_7a94b198713f4af2813c8e6b830e53e5%20%3D%20%24%28%60%3Cdiv%20id%3D%22html_7a94b198713f4af2813c8e6b830e53e5%22%20style%3D%22width%3A%20100.0%25%3B%20height%3A%20100.0%25%3B%22%3EPace%20University%20/%20New%20York%20City%20Campus%3C/div%3E%60%29%5B0%5D%3B%0A%20%20%20%20%20%20%20%20%20%20%20%20popup_54de5d46bc4d4a328953c0caac7fa3bd.setContent%28html_7a94b198713f4af2813c8e6b830e53e5%29%3B%0A%20%20%20%20%20%20%20%20%0A%0A%20%20%20%20%20%20%20%20marker_3358c06d6481419482907b190702b1f5.bindPopup%28popup_54de5d46bc4d4a328953c0caac7fa3bd%29%0A%20%20%20%20%20%20%20%20%3B%0A%0A%20%20%20%20%20%20%20%20%0A%20%20%20%20%0A%20%20%20%20%0A%20%20%20%20%20%20%20%20%20%20%20%20var%20marker_82e34b3ea3f341868b30a33cfffa8295%20%3D%20L.marker%28%0A%20%20%20%20%20%20%20%20%20%20%20%20%20%20%20%20%5B40.715434%2C%20-74.0126355%5D%2C%0A%20%20%20%20%20%20%20%20%20%20%20%20%20%20%20%20%7B%7D%0A%20%20%20%20%20%20%20%20%20%20%20%20%29.addTo%28map_b0bf57203c914706b3ec08a5224436e3%29%3B%0A%20%20%20%20%20%20%20%20%0A%20%20%20%20%0A%20%20%20%20%20%20%20%20%20%20%20%20var%20icon_583c9a5f8be74aa3af3552ed46a6820b%20%3D%20L.AwesomeMarkers.icon%28%0A%20%20%20%20%20%20%20%20%20%20%20%20%20%20%20%20%7B%22extraClasses%22%3A%20%22fa-rotate-0%22%2C%20%22icon%22%3A%20%22university%22%2C%20%22iconColor%22%3A%20%22white%22%2C%20%22markerColor%22%3A%20%22lightblue%22%2C%20%22prefix%22%3A%20%22fa%22%7D%0A%20%20%20%20%20%20%20%20%20%20%20%20%29%3B%0A%20%20%20%20%20%20%20%20%20%20%20%20marker_82e34b3ea3f341868b30a33cfffa8295.setIcon%28icon_583c9a5f8be74aa3af3552ed46a6820b%29%3B%0A%20%20%20%20%20%20%20%20%0A%20%20%20%20%0A%20%20%20%20%20%20%20%20var%20popup_d40e717426364ae3ac2f4f2e597a500e%20%3D%20L.popup%28%7B%22maxWidth%22%3A%20%22100%25%22%7D%29%3B%0A%0A%20%20%20%20%20%20%20%20%0A%20%20%20%20%20%20%20%20%20%20%20%20var%20html_640f0538f2be46daacfa4280b1689678%20%3D%20%24%28%60%3Cdiv%20id%3D%22html_640f0538f2be46daacfa4280b1689678%22%20style%3D%22width%3A%20100.0%25%3B%20height%3A%20100.0%25%3B%22%3ESt.%20John%27s%20University%20/%20Manhattan%20Campus%3C/div%3E%60%29%5B0%5D%3B%0A%20%20%20%20%20%20%20%20%20%20%20%20popup_d40e717426364ae3ac2f4f2e597a500e.setContent%28html_640f0538f2be46daacfa4280b1689678%29%3B%0A%20%20%20%20%20%20%20%20%0A%0A%20%20%20%20%20%20%20%20marker_82e34b3ea3f341868b30a33cfffa8295.bindPopup%28popup_d40e717426364ae3ac2f4f2e597a500e%29%0A%20%20%20%20%20%20%20%20%3B%0A%0A%20%20%20%20%20%20%20%20%0A%20%20%20%20%0A%20%20%20%20%0A%20%20%20%20%20%20%20%20%20%20%20%20var%20marker_4e4d60b9ac464656911b59eec2b7dcd4%20%3D%20L.marker%28%0A%20%20%20%20%20%20%20%20%20%20%20%20%20%20%20%20%5B40.770821%2C%20-73.9851461%5D%2C%0A%20%20%20%20%20%20%20%20%20%20%20%20%20%20%20%20%7B%7D%0A%20%20%20%20%20%20%20%20%20%20%20%20%29.addTo%28map_b0bf57203c914706b3ec08a5224436e3%29%3B%0A%20%20%20%20%20%20%20%20%0A%20%20%20%20%0A%20%20%20%20%20%20%20%20%20%20%20%20var%20icon_381dea5052a047e0bab825505b5d1bb7%20%3D%20L.AwesomeMarkers.icon%28%0A%20%20%20%20%20%20%20%20%20%20%20%20%20%20%20%20%7B%22extraClasses%22%3A%20%22fa-rotate-0%22%2C%20%22icon%22%3A%20%22university%22%2C%20%22iconColor%22%3A%20%22white%22%2C%20%22markerColor%22%3A%20%22lightblue%22%2C%20%22prefix%22%3A%20%22fa%22%7D%0A%20%20%20%20%20%20%20%20%20%20%20%20%29%3B%0A%20%20%20%20%20%20%20%20%20%20%20%20marker_4e4d60b9ac464656911b59eec2b7dcd4.setIcon%28icon_381dea5052a047e0bab825505b5d1bb7%29%3B%0A%20%20%20%20%20%20%20%20%0A%20%20%20%20%0A%20%20%20%20%20%20%20%20var%20popup_db4dd71eb57c46508cbb2ef0c90ec71d%20%3D%20L.popup%28%7B%22maxWidth%22%3A%20%22100%25%22%7D%29%3B%0A%0A%20%20%20%20%20%20%20%20%0A%20%20%20%20%20%20%20%20%20%20%20%20var%20html_2d4ea31f2a3549f09365fdacd881ae9b%20%3D%20%24%28%60%3Cdiv%20id%3D%22html_2d4ea31f2a3549f09365fdacd881ae9b%22%20style%3D%22width%3A%20100.0%25%3B%20height%3A%20100.0%25%3B%22%3EFordham%20University/Lincoln%20Center%20Campus%3C/div%3E%60%29%5B0%5D%3B%0A%20%20%20%20%20%20%20%20%20%20%20%20popup_db4dd71eb57c46508cbb2ef0c90ec71d.setContent%28html_2d4ea31f2a3549f09365fdacd881ae9b%29%3B%0A%20%20%20%20%20%20%20%20%0A%0A%20%20%20%20%20%20%20%20marker_4e4d60b9ac464656911b59eec2b7dcd4.bindPopup%28popup_db4dd71eb57c46508cbb2ef0c90ec71d%29%0A%20%20%20%20%20%20%20%20%3B%0A%0A%20%20%20%20%20%20%20%20%0A%20%20%20%20%0A%20%20%20%20%0A%20%20%20%20%20%20%20%20%20%20%20%20var%20marker_500c37b1267a468aa4ebd274b3761738%20%3D%20L.marker%28%0A%20%20%20%20%20%20%20%20%20%20%20%20%20%20%20%20%5B0.806815%2C%20-73.9616669%5D%2C%0A%20%20%20%20%20%20%20%20%20%20%20%20%20%20%20%20%7B%7D%0A%20%20%20%20%20%20%20%20%20%20%20%20%29.addTo%28map_b0bf57203c914706b3ec08a5224436e3%29%3B%0A%20%20%20%20%20%20%20%20%0A%20%20%20%20%0A%20%20%20%20%20%20%20%20%20%20%20%20var%20icon_d06f4acf943049559fe1321a5dfd0b5d%20%3D%20L.AwesomeMarkers.icon%28%0A%20%20%20%20%20%20%20%20%20%20%20%20%20%20%20%20%7B%22extraClasses%22%3A%20%22fa-rotate-0%22%2C%20%22icon%22%3A%20%22university%22%2C%20%22iconColor%22%3A%20%22white%22%2C%20%22markerColor%22%3A%20%22lightblue%22%2C%20%22prefix%22%3A%20%22fa%22%7D%0A%20%20%20%20%20%20%20%20%20%20%20%20%29%3B%0A%20%20%20%20%20%20%20%20%20%20%20%20marker_500c37b1267a468aa4ebd274b3761738.setIcon%28icon_d06f4acf943049559fe1321a5dfd0b5d%29%3B%0A%20%20%20%20%20%20%20%20%0A%20%20%20%20%0A%20%20%20%20%20%20%20%20var%20popup_4b112d77d99e45c2b8dda966662b68f7%20%3D%20L.popup%28%7B%22maxWidth%22%3A%20%22100%25%22%7D%29%3B%0A%0A%20%20%20%20%20%20%20%20%0A%20%20%20%20%20%20%20%20%20%20%20%20var%20html_b2ab07a21e7f427ea726b0052f601b6c%20%3D%20%24%28%60%3Cdiv%20id%3D%22html_b2ab07a21e7f427ea726b0052f601b6c%22%20style%3D%22width%3A%20100.0%25%3B%20height%3A%20100.0%25%3B%22%3EColumbia%20University%3C/div%3E%60%29%5B0%5D%3B%0A%20%20%20%20%20%20%20%20%20%20%20%20popup_4b112d77d99e45c2b8dda966662b68f7.setContent%28html_b2ab07a21e7f427ea726b0052f601b6c%29%3B%0A%20%20%20%20%20%20%20%20%0A%0A%20%20%20%20%20%20%20%20marker_500c37b1267a468aa4ebd274b3761738.bindPopup%28popup_4b112d77d99e45c2b8dda966662b68f7%29%0A%20%20%20%20%20%20%20%20%3B%0A%0A%20%20%20%20%20%20%20%20%0A%20%20%20%20%0A%20%20%20%20%0A%20%20%20%20%20%20%20%20%20%20%20%20var%20marker_6d511a3c5a2c4f478ba8a2f5ca21646c%20%3D%20L.marker%28%0A%20%20%20%20%20%20%20%20%20%20%20%20%20%20%20%20%5B40.812393%2C%20-73.9614848%5D%2C%0A%20%20%20%20%20%20%20%20%20%20%20%20%20%20%20%20%7B%7D%0A%20%20%20%20%20%20%20%20%20%20%20%20%29.addTo%28map_b0bf57203c914706b3ec08a5224436e3%29%3B%0A%20%20%20%20%20%20%20%20%0A%20%20%20%20%0A%20%20%20%20%20%20%20%20%20%20%20%20var%20icon_f9661ab0d2b64aa8b3d8ff71fbd08b0b%20%3D%20L.AwesomeMarkers.icon%28%0A%20%20%20%20%20%20%20%20%20%20%20%20%20%20%20%20%7B%22extraClasses%22%3A%20%22fa-rotate-0%22%2C%20%22icon%22%3A%20%22university%22%2C%20%22iconColor%22%3A%20%22white%22%2C%20%22markerColor%22%3A%20%22lightblue%22%2C%20%22prefix%22%3A%20%22fa%22%7D%0A%20%20%20%20%20%20%20%20%20%20%20%20%29%3B%0A%20%20%20%20%20%20%20%20%20%20%20%20marker_6d511a3c5a2c4f478ba8a2f5ca21646c.setIcon%28icon_f9661ab0d2b64aa8b3d8ff71fbd08b0b%29%3B%0A%20%20%20%20%20%20%20%20%0A%20%20%20%20%0A%20%20%20%20%20%20%20%20var%20popup_8ed6556de82d4662be17555cc0e0aae1%20%3D%20L.popup%28%7B%22maxWidth%22%3A%20%22100%25%22%7D%29%3B%0A%0A%20%20%20%20%20%20%20%20%0A%20%20%20%20%20%20%20%20%20%20%20%20var%20html_1d54586d365f439db40a3371f44b5161%20%3D%20%24%28%60%3Cdiv%20id%3D%22html_1d54586d365f439db40a3371f44b5161%22%20style%3D%22width%3A%20100.0%25%3B%20height%3A%20100.0%25%3B%22%3EManhattan%20School%20Of%20Music%3C/div%3E%60%29%5B0%5D%3B%0A%20%20%20%20%20%20%20%20%20%20%20%20popup_8ed6556de82d4662be17555cc0e0aae1.setContent%28html_1d54586d365f439db40a3371f44b5161%29%3B%0A%20%20%20%20%20%20%20%20%0A%0A%20%20%20%20%20%20%20%20marker_6d511a3c5a2c4f478ba8a2f5ca21646c.bindPopup%28popup_8ed6556de82d4662be17555cc0e0aae1%29%0A%20%20%20%20%20%20%20%20%3B%0A%0A%20%20%20%20%20%20%20%20%0A%20%20%20%20%0A%20%20%20%20%0A%20%20%20%20%20%20%20%20%20%20%20%20var%20marker_8e3393d866f04dfc98240822b6a05448%20%3D%20L.marker%28%0A%20%20%20%20%20%20%20%20%20%20%20%20%20%20%20%20%5B40.762889%2C%20-73.9566275%5D%2C%0A%20%20%20%20%20%20%20%20%20%20%20%20%20%20%20%20%7B%7D%0A%20%20%20%20%20%20%20%20%20%20%20%20%29.addTo%28map_b0bf57203c914706b3ec08a5224436e3%29%3B%0A%20%20%20%20%20%20%20%20%0A%20%20%20%20%0A%20%20%20%20%20%20%20%20%20%20%20%20var%20icon_3cd7435f952c450a85b7a328b79b28af%20%3D%20L.AwesomeMarkers.icon%28%0A%20%20%20%20%20%20%20%20%20%20%20%20%20%20%20%20%7B%22extraClasses%22%3A%20%22fa-rotate-0%22%2C%20%22icon%22%3A%20%22university%22%2C%20%22iconColor%22%3A%20%22white%22%2C%20%22markerColor%22%3A%20%22lightblue%22%2C%20%22prefix%22%3A%20%22fa%22%7D%0A%20%20%20%20%20%20%20%20%20%20%20%20%29%3B%0A%20%20%20%20%20%20%20%20%20%20%20%20marker_8e3393d866f04dfc98240822b6a05448.setIcon%28icon_3cd7435f952c450a85b7a328b79b28af%29%3B%0A%20%20%20%20%20%20%20%20%0A%20%20%20%20%0A%20%20%20%20%20%20%20%20var%20popup_fc35dfda79c34dc48399bbe56e8ac136%20%3D%20L.popup%28%7B%22maxWidth%22%3A%20%22100%25%22%7D%29%3B%0A%0A%20%20%20%20%20%20%20%20%0A%20%20%20%20%20%20%20%20%20%20%20%20var%20html_f40628518986413281321d921de1e127%20%3D%20%24%28%60%3Cdiv%20id%3D%22html_f40628518986413281321d921de1e127%22%20style%3D%22width%3A%20100.0%25%3B%20height%3A%20100.0%25%3B%22%3ERockefeller%20University%2C%20The%3C/div%3E%60%29%5B0%5D%3B%0A%20%20%20%20%20%20%20%20%20%20%20%20popup_fc35dfda79c34dc48399bbe56e8ac136.setContent%28html_f40628518986413281321d921de1e127%29%3B%0A%20%20%20%20%20%20%20%20%0A%0A%20%20%20%20%20%20%20%20marker_8e3393d866f04dfc98240822b6a05448.bindPopup%28popup_fc35dfda79c34dc48399bbe56e8ac136%29%0A%20%20%20%20%20%20%20%20%3B%0A%0A%20%20%20%20%20%20%20%20%0A%20%20%20%20%0A%20%20%20%20%0A%20%20%20%20%20%20%20%20%20%20%20%20var%20marker_38c06117f8e243c68758d85842fded02%20%3D%20L.marker%28%0A%20%20%20%20%20%20%20%20%20%20%20%20%20%20%20%20%5B40.714585%2C%20-74.0129598%5D%2C%0A%20%20%20%20%20%20%20%20%20%20%20%20%20%20%20%20%7B%7D%0A%20%20%20%20%20%20%20%20%20%20%20%20%29.addTo%28map_b0bf57203c914706b3ec08a5224436e3%29%3B%0A%20%20%20%20%20%20%20%20%0A%20%20%20%20%0A%20%20%20%20%20%20%20%20%20%20%20%20var%20icon_06e70c835486472ba66c07192441d1ac%20%3D%20L.AwesomeMarkers.icon%28%0A%20%20%20%20%20%20%20%20%20%20%20%20%20%20%20%20%7B%22extraClasses%22%3A%20%22fa-rotate-0%22%2C%20%22icon%22%3A%20%22university%22%2C%20%22iconColor%22%3A%20%22white%22%2C%20%22markerColor%22%3A%20%22lightblue%22%2C%20%22prefix%22%3A%20%22fa%22%7D%0A%20%20%20%20%20%20%20%20%20%20%20%20%29%3B%0A%20%20%20%20%20%20%20%20%20%20%20%20marker_38c06117f8e243c68758d85842fded02.setIcon%28icon_06e70c835486472ba66c07192441d1ac%29%3B%0A%20%20%20%20%20%20%20%20%0A%20%20%20%20%0A%20%20%20%20%20%20%20%20var%20popup_00bd731d6b7844699e2ee381ae20c924%20%3D%20L.popup%28%7B%22maxWidth%22%3A%20%22100%25%22%7D%29%3B%0A%0A%20%20%20%20%20%20%20%20%0A%20%20%20%20%20%20%20%20%20%20%20%20var%20html_7a5f5c3801504905899baff3f390e001%20%3D%20%24%28%60%3Cdiv%20id%3D%22html_7a5f5c3801504905899baff3f390e001%22%20style%3D%22width%3A%20100.0%25%3B%20height%3A%20100.0%25%3B%22%3ECollege%20Of%20New%20Rochelle%2C%20The%20/%20School%20Of%20New%20Resources/District%20Council%2037%20Campus%3C/div%3E%60%29%5B0%5D%3B%0A%20%20%20%20%20%20%20%20%20%20%20%20popup_00bd731d6b7844699e2ee381ae20c924.setContent%28html_7a5f5c3801504905899baff3f390e001%29%3B%0A%20%20%20%20%20%20%20%20%0A%0A%20%20%20%20%20%20%20%20marker_38c06117f8e243c68758d85842fded02.bindPopup%28popup_00bd731d6b7844699e2ee381ae20c924%29%0A%20%20%20%20%20%20%20%20%3B%0A%0A%20%20%20%20%20%20%20%20%0A%20%20%20%20%0A%20%20%20%20%0A%20%20%20%20%20%20%20%20%20%20%20%20var%20marker_79c2545a1ec54e2f972a253377244c5d%20%3D%20L.marker%28%0A%20%20%20%20%20%20%20%20%20%20%20%20%20%20%20%20%5B40.764737%2C%20-73.9547293%5D%2C%0A%20%20%20%20%20%20%20%20%20%20%20%20%20%20%20%20%7B%7D%0A%20%20%20%20%20%20%20%20%20%20%20%20%29.addTo%28map_b0bf57203c914706b3ec08a5224436e3%29%3B%0A%20%20%20%20%20%20%20%20%0A%20%20%20%20%0A%20%20%20%20%20%20%20%20%20%20%20%20var%20icon_0c7d696bd31a4c399f7208e8eeddd7ca%20%3D%20L.AwesomeMarkers.icon%28%0A%20%20%20%20%20%20%20%20%20%20%20%20%20%20%20%20%7B%22extraClasses%22%3A%20%22fa-rotate-0%22%2C%20%22icon%22%3A%20%22university%22%2C%20%22iconColor%22%3A%20%22white%22%2C%20%22markerColor%22%3A%20%22lightblue%22%2C%20%22prefix%22%3A%20%22fa%22%7D%0A%20%20%20%20%20%20%20%20%20%20%20%20%29%3B%0A%20%20%20%20%20%20%20%20%20%20%20%20marker_79c2545a1ec54e2f972a253377244c5d.setIcon%28icon_0c7d696bd31a4c399f7208e8eeddd7ca%29%3B%0A%20%20%20%20%20%20%20%20%0A%20%20%20%20%0A%20%20%20%20%20%20%20%20var%20popup_ca270fccd0424fc6a8d71b74eb102238%20%3D%20L.popup%28%7B%22maxWidth%22%3A%20%22100%25%22%7D%29%3B%0A%0A%20%20%20%20%20%20%20%20%0A%20%20%20%20%20%20%20%20%20%20%20%20var%20html_659a515e742a49e99821101104a86044%20%3D%20%24%28%60%3Cdiv%20id%3D%22html_659a515e742a49e99821101104a86044%22%20style%3D%22width%3A%20100.0%25%3B%20height%3A%20100.0%25%3B%22%3ECornell%20University%20/%20Weill%20Medical%20College%20Of%20Cornell%20University%3C/div%3E%60%29%5B0%5D%3B%0A%20%20%20%20%20%20%20%20%20%20%20%20popup_ca270fccd0424fc6a8d71b74eb102238.setContent%28html_659a515e742a49e99821101104a86044%29%3B%0A%20%20%20%20%20%20%20%20%0A%0A%20%20%20%20%20%20%20%20marker_79c2545a1ec54e2f972a253377244c5d.bindPopup%28popup_ca270fccd0424fc6a8d71b74eb102238%29%0A%20%20%20%20%20%20%20%20%3B%0A%0A%20%20%20%20%20%20%20%20%0A%20%20%20%20%0A%20%20%20%20%0A%20%20%20%20%20%20%20%20%20%20%20%20var%20marker_c3a709e3364c4e779cf573b947ea7f29%20%3D%20L.marker%28%0A%20%20%20%20%20%20%20%20%20%20%20%20%20%20%20%20%5B40.808244%2C%20-73.9477262%5D%2C%0A%20%20%20%20%20%20%20%20%20%20%20%20%20%20%20%20%7B%7D%0A%20%20%20%20%20%20%20%20%20%20%20%20%29.addTo%28map_b0bf57203c914706b3ec08a5224436e3%29%3B%0A%20%20%20%20%20%20%20%20%0A%20%20%20%20%0A%20%20%20%20%20%20%20%20%20%20%20%20var%20icon_702558c791e640f2bcbd83c93f38b903%20%3D%20L.AwesomeMarkers.icon%28%0A%20%20%20%20%20%20%20%20%20%20%20%20%20%20%20%20%7B%22extraClasses%22%3A%20%22fa-rotate-0%22%2C%20%22icon%22%3A%20%22university%22%2C%20%22iconColor%22%3A%20%22white%22%2C%20%22markerColor%22%3A%20%22lightblue%22%2C%20%22prefix%22%3A%20%22fa%22%7D%0A%20%20%20%20%20%20%20%20%20%20%20%20%29%3B%0A%20%20%20%20%20%20%20%20%20%20%20%20marker_c3a709e3364c4e779cf573b947ea7f29.setIcon%28icon_702558c791e640f2bcbd83c93f38b903%29%3B%0A%20%20%20%20%20%20%20%20%0A%20%20%20%20%0A%20%20%20%20%20%20%20%20var%20popup_a1a56686c7934a449e6b0229ef363f20%20%3D%20L.popup%28%7B%22maxWidth%22%3A%20%22100%25%22%7D%29%3B%0A%0A%20%20%20%20%20%20%20%20%0A%20%20%20%20%20%20%20%20%20%20%20%20var%20html_4886e48f792749fd9d7d5304f0435dcd%20%3D%20%24%28%60%3Cdiv%20id%3D%22html_4886e48f792749fd9d7d5304f0435dcd%22%20style%3D%22width%3A%20100.0%25%3B%20height%3A%20100.0%25%3B%22%3ECollege%20Of%20New%20Rochelle%2C%20The%20/%20School%20Of%20New%20Resources/Rosa%20Parks%20Campus%3C/div%3E%60%29%5B0%5D%3B%0A%20%20%20%20%20%20%20%20%20%20%20%20popup_a1a56686c7934a449e6b0229ef363f20.setContent%28html_4886e48f792749fd9d7d5304f0435dcd%29%3B%0A%20%20%20%20%20%20%20%20%0A%0A%20%20%20%20%20%20%20%20marker_c3a709e3364c4e779cf573b947ea7f29.bindPopup%28popup_a1a56686c7934a449e6b0229ef363f20%29%0A%20%20%20%20%20%20%20%20%3B%0A%0A%20%20%20%20%20%20%20%20%0A%20%20%20%20%0A%20%20%20%20%0A%20%20%20%20%20%20%20%20%20%20%20%20var%20marker_2e3cefde10204ec783a5920a6b6a99b2%20%3D%20L.marker%28%0A%20%20%20%20%20%20%20%20%20%20%20%20%20%20%20%20%5B40.786424%2C%20-73.9746614%5D%2C%0A%20%20%20%20%20%20%20%20%20%20%20%20%20%20%20%20%7B%7D%0A%20%20%20%20%20%20%20%20%20%20%20%20%29.addTo%28map_b0bf57203c914706b3ec08a5224436e3%29%3B%0A%20%20%20%20%20%20%20%20%0A%20%20%20%20%0A%20%20%20%20%20%20%20%20%20%20%20%20var%20icon_3424683c4f3a4ade8fb0fe992e4f431a%20%3D%20L.AwesomeMarkers.icon%28%0A%20%20%20%20%20%20%20%20%20%20%20%20%20%20%20%20%7B%22extraClasses%22%3A%20%22fa-rotate-0%22%2C%20%22icon%22%3A%20%22university%22%2C%20%22iconColor%22%3A%20%22white%22%2C%20%22markerColor%22%3A%20%22lightblue%22%2C%20%22prefix%22%3A%20%22fa%22%7D%0A%20%20%20%20%20%20%20%20%20%20%20%20%29%3B%0A%20%20%20%20%20%20%20%20%20%20%20%20marker_2e3cefde10204ec783a5920a6b6a99b2.setIcon%28icon_3424683c4f3a4ade8fb0fe992e4f431a%29%3B%0A%20%20%20%20%20%20%20%20%0A%20%20%20%20%0A%20%20%20%20%20%20%20%20var%20popup_daa2906f8ab045e886a7cdb69b5130ce%20%3D%20L.popup%28%7B%22maxWidth%22%3A%20%22100%25%22%7D%29%3B%0A%0A%20%20%20%20%20%20%20%20%0A%20%20%20%20%20%20%20%20%20%20%20%20var%20html_60efe81e28ee4bf09761ee30430b7c52%20%3D%20%24%28%60%3Cdiv%20id%3D%22html_60efe81e28ee4bf09761ee30430b7c52%22%20style%3D%22width%3A%20100.0%25%3B%20height%3A%20100.0%25%3B%22%3ENew%20School%20University%20/%20Mannes%20College%20Of%20Music%3C/div%3E%60%29%5B0%5D%3B%0A%20%20%20%20%20%20%20%20%20%20%20%20popup_daa2906f8ab045e886a7cdb69b5130ce.setContent%28html_60efe81e28ee4bf09761ee30430b7c52%29%3B%0A%20%20%20%20%20%20%20%20%0A%0A%20%20%20%20%20%20%20%20marker_2e3cefde10204ec783a5920a6b6a99b2.bindPopup%28popup_daa2906f8ab045e886a7cdb69b5130ce%29%0A%20%20%20%20%20%20%20%20%3B%0A%0A%20%20%20%20%20%20%20%20%0A%20%20%20%20%0A%20%20%20%20%0A%20%20%20%20%20%20%20%20%20%20%20%20var%20marker_db226b5218ab4232830d1de89cbbb831%20%3D%20L.marker%28%0A%20%20%20%20%20%20%20%20%20%20%20%20%20%20%20%20%5B40.76858%2C%20-73.9624527%5D%2C%0A%20%20%20%20%20%20%20%20%20%20%20%20%20%20%20%20%7B%7D%0A%20%20%20%20%20%20%20%20%20%20%20%20%29.addTo%28map_b0bf57203c914706b3ec08a5224436e3%29%3B%0A%20%20%20%20%20%20%20%20%0A%20%20%20%20%0A%20%20%20%20%20%20%20%20%20%20%20%20var%20icon_9818121af5aa46b59b58ad9cb3b0785c%20%3D%20L.AwesomeMarkers.icon%28%0A%20%20%20%20%20%20%20%20%20%20%20%20%20%20%20%20%7B%22extraClasses%22%3A%20%22fa-rotate-0%22%2C%20%22icon%22%3A%20%22university%22%2C%20%22iconColor%22%3A%20%22white%22%2C%20%22markerColor%22%3A%20%22lightblue%22%2C%20%22prefix%22%3A%20%22fa%22%7D%0A%20%20%20%20%20%20%20%20%20%20%20%20%29%3B%0A%20%20%20%20%20%20%20%20%20%20%20%20marker_db226b5218ab4232830d1de89cbbb831.setIcon%28icon_9818121af5aa46b59b58ad9cb3b0785c%29%3B%0A%20%20%20%20%20%20%20%20%0A%20%20%20%20%0A%20%20%20%20%20%20%20%20var%20popup_d684ffb296bc49abb950226bcbbf3fad%20%3D%20L.popup%28%7B%22maxWidth%22%3A%20%22100%25%22%7D%29%3B%0A%0A%20%20%20%20%20%20%20%20%0A%20%20%20%20%20%20%20%20%20%20%20%20var%20html_f7256d5db1944f9eb301df0045ec6390%20%3D%20%24%28%60%3Cdiv%20id%3D%22html_f7256d5db1944f9eb301df0045ec6390%22%20style%3D%22width%3A%20100.0%25%3B%20height%3A%20100.0%25%3B%22%3ENew%20York%20School%20Of%20Interior%20Design%3C/div%3E%60%29%5B0%5D%3B%0A%20%20%20%20%20%20%20%20%20%20%20%20popup_d684ffb296bc49abb950226bcbbf3fad.setContent%28html_f7256d5db1944f9eb301df0045ec6390%29%3B%0A%20%20%20%20%20%20%20%20%0A%0A%20%20%20%20%20%20%20%20marker_db226b5218ab4232830d1de89cbbb831.bindPopup%28popup_d684ffb296bc49abb950226bcbbf3fad%29%0A%20%20%20%20%20%20%20%20%3B%0A%0A%20%20%20%20%20%20%20%20%0A%20%20%20%20%0A%20%20%20%20%0A%20%20%20%20%20%20%20%20%20%20%20%20var%20marker_c054448deebd4c5087213b0ba7e78b17%20%3D%20L.marker%28%0A%20%20%20%20%20%20%20%20%20%20%20%20%20%20%20%20%5B40.804941%2C%20-73.9402562%5D%2C%0A%20%20%20%20%20%20%20%20%20%20%20%20%20%20%20%20%7B%7D%0A%20%20%20%20%20%20%20%20%20%20%20%20%29.addTo%28map_b0bf57203c914706b3ec08a5224436e3%29%3B%0A%20%20%20%20%20%20%20%20%0A%20%20%20%20%0A%20%20%20%20%20%20%20%20%20%20%20%20var%20icon_201ee7eb19da46639022cc7a6c7a5fbf%20%3D%20L.AwesomeMarkers.icon%28%0A%20%20%20%20%20%20%20%20%20%20%20%20%20%20%20%20%7B%22extraClasses%22%3A%20%22fa-rotate-0%22%2C%20%22icon%22%3A%20%22university%22%2C%20%22iconColor%22%3A%20%22white%22%2C%20%22markerColor%22%3A%20%22lightblue%22%2C%20%22prefix%22%3A%20%22fa%22%7D%0A%20%20%20%20%20%20%20%20%20%20%20%20%29%3B%0A%20%20%20%20%20%20%20%20%20%20%20%20marker_c054448deebd4c5087213b0ba7e78b17.setIcon%28icon_201ee7eb19da46639022cc7a6c7a5fbf%29%3B%0A%20%20%20%20%20%20%20%20%0A%20%20%20%20%0A%20%20%20%20%20%20%20%20var%20popup_5e999c9c5c0a4dcb8e6342389ceef5d8%20%3D%20L.popup%28%7B%22maxWidth%22%3A%20%22100%25%22%7D%29%3B%0A%0A%20%20%20%20%20%20%20%20%0A%20%20%20%20%20%20%20%20%20%20%20%20var%20html_26c556c6985a4aadb7304187ddc25889%20%3D%20%24%28%60%3Cdiv%20id%3D%22html_26c556c6985a4aadb7304187ddc25889%22%20style%3D%22width%3A%20100.0%25%3B%20height%3A%20100.0%25%3B%22%3ENew%20York%20College%20Of%20Podiatric%20Medicine%3C/div%3E%60%29%5B0%5D%3B%0A%20%20%20%20%20%20%20%20%20%20%20%20popup_5e999c9c5c0a4dcb8e6342389ceef5d8.setContent%28html_26c556c6985a4aadb7304187ddc25889%29%3B%0A%20%20%20%20%20%20%20%20%0A%0A%20%20%20%20%20%20%20%20marker_c054448deebd4c5087213b0ba7e78b17.bindPopup%28popup_5e999c9c5c0a4dcb8e6342389ceef5d8%29%0A%20%20%20%20%20%20%20%20%3B%0A%0A%20%20%20%20%20%20%20%20%0A%20%20%20%20%0A%20%20%20%20%0A%20%20%20%20%20%20%20%20%20%20%20%20var%20marker_4a827305785c4bc092e1d4ecee2b1c6c%20%3D%20L.marker%28%0A%20%20%20%20%20%20%20%20%20%20%20%20%20%20%20%20%5B40.803245%2C%20-73.9416969%5D%2C%0A%20%20%20%20%20%20%20%20%20%20%20%20%20%20%20%20%7B%7D%0A%20%20%20%20%20%20%20%20%20%20%20%20%29.addTo%28map_b0bf57203c914706b3ec08a5224436e3%29%3B%0A%20%20%20%20%20%20%20%20%0A%20%20%20%20%0A%20%20%20%20%20%20%20%20%20%20%20%20var%20icon_b3122e8d48d84f1faa593a762c3d7d1e%20%3D%20L.AwesomeMarkers.icon%28%0A%20%20%20%20%20%20%20%20%20%20%20%20%20%20%20%20%7B%22extraClasses%22%3A%20%22fa-rotate-0%22%2C%20%22icon%22%3A%20%22university%22%2C%20%22iconColor%22%3A%20%22white%22%2C%20%22markerColor%22%3A%20%22lightblue%22%2C%20%22prefix%22%3A%20%22fa%22%7D%0A%20%20%20%20%20%20%20%20%20%20%20%20%29%3B%0A%20%20%20%20%20%20%20%20%20%20%20%20marker_4a827305785c4bc092e1d4ecee2b1c6c.setIcon%28icon_b3122e8d48d84f1faa593a762c3d7d1e%29%3B%0A%20%20%20%20%20%20%20%20%0A%20%20%20%20%0A%20%20%20%20%20%20%20%20var%20popup_574f4c3266034715952a6ecf3c3cdce6%20%3D%20L.popup%28%7B%22maxWidth%22%3A%20%22100%25%22%7D%29%3B%0A%0A%20%20%20%20%20%20%20%20%0A%20%20%20%20%20%20%20%20%20%20%20%20var%20html_371f3493bb8d44378bd65134476b6d7a%20%3D%20%24%28%60%3Cdiv%20id%3D%22html_371f3493bb8d44378bd65134476b6d7a%22%20style%3D%22width%3A%20100.0%25%3B%20height%3A%20100.0%25%3B%22%3EHelene%20Fuld%20College%20Of%20Nursing%20Of%20North%20General%20Hospital%3C/div%3E%60%29%5B0%5D%3B%0A%20%20%20%20%20%20%20%20%20%20%20%20popup_574f4c3266034715952a6ecf3c3cdce6.setContent%28html_371f3493bb8d44378bd65134476b6d7a%29%3B%0A%20%20%20%20%20%20%20%20%0A%0A%20%20%20%20%20%20%20%20marker_4a827305785c4bc092e1d4ecee2b1c6c.bindPopup%28popup_574f4c3266034715952a6ecf3c3cdce6%29%0A%20%20%20%20%20%20%20%20%3B%0A%0A%20%20%20%20%20%20%20%20%0A%20%20%20%20%0A%20%20%20%20%0A%20%20%20%20%20%20%20%20%20%20%20%20var%20marker_1009a221ae87428bab897d5739dd7530%20%3D%20L.marker%28%0A%20%20%20%20%20%20%20%20%20%20%20%20%20%20%20%20%5B40.732075%2C%20-73.9978778%5D%2C%0A%20%20%20%20%20%20%20%20%20%20%20%20%20%20%20%20%7B%7D%0A%20%20%20%20%20%20%20%20%20%20%20%20%29.addTo%28map_b0bf57203c914706b3ec08a5224436e3%29%3B%0A%20%20%20%20%20%20%20%20%0A%20%20%20%20%0A%20%20%20%20%20%20%20%20%20%20%20%20var%20icon_1b5733044668440d9d039607f8ce9171%20%3D%20L.AwesomeMarkers.icon%28%0A%20%20%20%20%20%20%20%20%20%20%20%20%20%20%20%20%7B%22extraClasses%22%3A%20%22fa-rotate-0%22%2C%20%22icon%22%3A%20%22university%22%2C%20%22iconColor%22%3A%20%22white%22%2C%20%22markerColor%22%3A%20%22lightblue%22%2C%20%22prefix%22%3A%20%22fa%22%7D%0A%20%20%20%20%20%20%20%20%20%20%20%20%29%3B%0A%20%20%20%20%20%20%20%20%20%20%20%20marker_1009a221ae87428bab897d5739dd7530.setIcon%28icon_1b5733044668440d9d039607f8ce9171%29%3B%0A%20%20%20%20%20%20%20%20%0A%20%20%20%20%0A%20%20%20%20%20%20%20%20var%20popup_77a9ac44d86c449d82525278661da853%20%3D%20L.popup%28%7B%22maxWidth%22%3A%20%22100%25%22%7D%29%3B%0A%0A%20%20%20%20%20%20%20%20%0A%20%20%20%20%20%20%20%20%20%20%20%20var%20html_66c39dd394fd4837b262ed30d8f32d2f%20%3D%20%24%28%60%3Cdiv%20id%3D%22html_66c39dd394fd4837b262ed30d8f32d2f%22%20style%3D%22width%3A%20100.0%25%3B%20height%3A%20100.0%25%3B%22%3ENew%20York%20University%3C/div%3E%60%29%5B0%5D%3B%0A%20%20%20%20%20%20%20%20%20%20%20%20popup_77a9ac44d86c449d82525278661da853.setContent%28html_66c39dd394fd4837b262ed30d8f32d2f%29%3B%0A%20%20%20%20%20%20%20%20%0A%0A%20%20%20%20%20%20%20%20marker_1009a221ae87428bab897d5739dd7530.bindPopup%28popup_77a9ac44d86c449d82525278661da853%29%0A%20%20%20%20%20%20%20%20%3B%0A%0A%20%20%20%20%20%20%20%20%0A%20%20%20%20%0A%20%20%20%20%0A%20%20%20%20%20%20%20%20%20%20%20%20var%20marker_505007d11db347a89943187c8115d167%20%3D%20L.marker%28%0A%20%20%20%20%20%20%20%20%20%20%20%20%20%20%20%20%5B40.768721%2C%20-73.9597467%5D%2C%0A%20%20%20%20%20%20%20%20%20%20%20%20%20%20%20%20%7B%7D%0A%20%20%20%20%20%20%20%20%20%20%20%20%29.addTo%28map_b0bf57203c914706b3ec08a5224436e3%29%3B%0A%20%20%20%20%20%20%20%20%0A%20%20%20%20%0A%20%20%20%20%20%20%20%20%20%20%20%20var%20icon_7040fb3d9a8f487686919055253fd25f%20%3D%20L.AwesomeMarkers.icon%28%0A%20%20%20%20%20%20%20%20%20%20%20%20%20%20%20%20%7B%22extraClasses%22%3A%20%22fa-rotate-0%22%2C%20%22icon%22%3A%20%22university%22%2C%20%22iconColor%22%3A%20%22white%22%2C%20%22markerColor%22%3A%20%22lightblue%22%2C%20%22prefix%22%3A%20%22fa%22%7D%0A%20%20%20%20%20%20%20%20%20%20%20%20%29%3B%0A%20%20%20%20%20%20%20%20%20%20%20%20marker_505007d11db347a89943187c8115d167.setIcon%28icon_7040fb3d9a8f487686919055253fd25f%29%3B%0A%20%20%20%20%20%20%20%20%0A%20%20%20%20%0A%20%20%20%20%20%20%20%20var%20popup_ab2e508d53a646b99987f26998c37db9%20%3D%20L.popup%28%7B%22maxWidth%22%3A%20%22100%25%22%7D%29%3B%0A%0A%20%20%20%20%20%20%20%20%0A%20%20%20%20%20%20%20%20%20%20%20%20var%20html_8a3c86d0a86a46bd8e64a0c49dce604e%20%3D%20%24%28%60%3Cdiv%20id%3D%22html_8a3c86d0a86a46bd8e64a0c49dce604e%22%20style%3D%22width%3A%20100.0%25%3B%20height%3A%20100.0%25%3B%22%3EMarymount%20Manhattan%20College%3C/div%3E%60%29%5B0%5D%3B%0A%20%20%20%20%20%20%20%20%20%20%20%20popup_ab2e508d53a646b99987f26998c37db9.setContent%28html_8a3c86d0a86a46bd8e64a0c49dce604e%29%3B%0A%20%20%20%20%20%20%20%20%0A%0A%20%20%20%20%20%20%20%20marker_505007d11db347a89943187c8115d167.bindPopup%28popup_ab2e508d53a646b99987f26998c37db9%29%0A%20%20%20%20%20%20%20%20%3B%0A%0A%20%20%20%20%20%20%20%20%0A%20%20%20%20%0A%20%20%20%20%0A%20%20%20%20%20%20%20%20%20%20%20%20var%20marker_3ef3bf78b044465da984205df8640293%20%3D%20L.marker%28%0A%20%20%20%20%20%20%20%20%20%20%20%20%20%20%20%20%5B0.7486811%2C%20-73.995362%5D%2C%0A%20%20%20%20%20%20%20%20%20%20%20%20%20%20%20%20%7B%7D%0A%20%20%20%20%20%20%20%20%20%20%20%20%29.addTo%28map_b0bf57203c914706b3ec08a5224436e3%29%3B%0A%20%20%20%20%20%20%20%20%0A%20%20%20%20%0A%20%20%20%20%20%20%20%20%20%20%20%20var%20icon_d1a0cc975adb4cfe9cca9a6a2a15dcda%20%3D%20L.AwesomeMarkers.icon%28%0A%20%20%20%20%20%20%20%20%20%20%20%20%20%20%20%20%7B%22extraClasses%22%3A%20%22fa-rotate-0%22%2C%20%22icon%22%3A%20%22university%22%2C%20%22iconColor%22%3A%20%22white%22%2C%20%22markerColor%22%3A%20%22lightblue%22%2C%20%22prefix%22%3A%20%22fa%22%7D%0A%20%20%20%20%20%20%20%20%20%20%20%20%29%3B%0A%20%20%20%20%20%20%20%20%20%20%20%20marker_3ef3bf78b044465da984205df8640293.setIcon%28icon_d1a0cc975adb4cfe9cca9a6a2a15dcda%29%3B%0A%20%20%20%20%20%20%20%20%0A%20%20%20%20%0A%20%20%20%20%20%20%20%20var%20popup_37b51dd737ff438c9e988da196c64f65%20%3D%20L.popup%28%7B%22maxWidth%22%3A%20%22100%25%22%7D%29%3B%0A%0A%20%20%20%20%20%20%20%20%0A%20%20%20%20%20%20%20%20%20%20%20%20var%20html_c6b4d6a52a31479e81c1562007a56c55%20%3D%20%24%28%60%3Cdiv%20id%3D%22html_c6b4d6a52a31479e81c1562007a56c55%22%20style%3D%22width%3A%20100.0%25%3B%20height%3A%20100.0%25%3B%22%3ECollege%20Of%20New%20Rochelle%2C%20The%20/%20School%20Of%20New%20Resources/New%20York%20Theological%20Seminary%20Campus%3C/div%3E%60%29%5B0%5D%3B%0A%20%20%20%20%20%20%20%20%20%20%20%20popup_37b51dd737ff438c9e988da196c64f65.setContent%28html_c6b4d6a52a31479e81c1562007a56c55%29%3B%0A%20%20%20%20%20%20%20%20%0A%0A%20%20%20%20%20%20%20%20marker_3ef3bf78b044465da984205df8640293.bindPopup%28popup_37b51dd737ff438c9e988da196c64f65%29%0A%20%20%20%20%20%20%20%20%3B%0A%0A%20%20%20%20%20%20%20%20%0A%20%20%20%20%0A%20%20%20%20%0A%20%20%20%20%20%20%20%20%20%20%20%20var%20marker_0f656c9697504e1fa5a3bd02434ed61a%20%3D%20L.marker%28%0A%20%20%20%20%20%20%20%20%20%20%20%20%20%20%20%20%5B40.742405%2C%20-73.9905787%5D%2C%0A%20%20%20%20%20%20%20%20%20%20%20%20%20%20%20%20%7B%7D%0A%20%20%20%20%20%20%20%20%20%20%20%20%29.addTo%28map_b0bf57203c914706b3ec08a5224436e3%29%3B%0A%20%20%20%20%20%20%20%20%0A%20%20%20%20%0A%20%20%20%20%20%20%20%20%20%20%20%20var%20icon_5b025a9d047448f796d8d71636e0905c%20%3D%20L.AwesomeMarkers.icon%28%0A%20%20%20%20%20%20%20%20%20%20%20%20%20%20%20%20%7B%22extraClasses%22%3A%20%22fa-rotate-0%22%2C%20%22icon%22%3A%20%22university%22%2C%20%22iconColor%22%3A%20%22white%22%2C%20%22markerColor%22%3A%20%22lightblue%22%2C%20%22prefix%22%3A%20%22fa%22%7D%0A%20%20%20%20%20%20%20%20%20%20%20%20%29%3B%0A%20%20%20%20%20%20%20%20%20%20%20%20marker_0f656c9697504e1fa5a3bd02434ed61a.setIcon%28icon_5b025a9d047448f796d8d71636e0905c%29%3B%0A%20%20%20%20%20%20%20%20%0A%20%20%20%20%0A%20%20%20%20%20%20%20%20var%20popup_7feeee77bfd749748b417a1ce8edab9c%20%3D%20L.popup%28%7B%22maxWidth%22%3A%20%22100%25%22%7D%29%3B%0A%0A%20%20%20%20%20%20%20%20%0A%20%20%20%20%20%20%20%20%20%20%20%20var%20html_35efb5bddc7f43b4a7529a19751e1b70%20%3D%20%24%28%60%3Cdiv%20id%3D%22html_35efb5bddc7f43b4a7529a19751e1b70%22%20style%3D%22width%3A%20100.0%25%3B%20height%3A%20100.0%25%3B%22%3ETouro%20College%3C/div%3E%60%29%5B0%5D%3B%0A%20%20%20%20%20%20%20%20%20%20%20%20popup_7feeee77bfd749748b417a1ce8edab9c.setContent%28html_35efb5bddc7f43b4a7529a19751e1b70%29%3B%0A%20%20%20%20%20%20%20%20%0A%0A%20%20%20%20%20%20%20%20marker_0f656c9697504e1fa5a3bd02434ed61a.bindPopup%28popup_7feeee77bfd749748b417a1ce8edab9c%29%0A%20%20%20%20%20%20%20%20%3B%0A%0A%20%20%20%20%20%20%20%20%0A%20%20%20%20%0A%20%20%20%20%0A%20%20%20%20%20%20%20%20%20%20%20%20var%20marker_27de8e902df94919ad95ab6c26d116d2%20%3D%20L.marker%28%0A%20%20%20%20%20%20%20%20%20%20%20%20%20%20%20%20%5B40.72453%2C%20-73.9953977%5D%2C%0A%20%20%20%20%20%20%20%20%20%20%20%20%20%20%20%20%7B%7D%0A%20%20%20%20%20%20%20%20%20%20%20%20%29.addTo%28map_b0bf57203c914706b3ec08a5224436e3%29%3B%0A%20%20%20%20%20%20%20%20%0A%20%20%20%20%0A%20%20%20%20%20%20%20%20%20%20%20%20var%20icon_518286dc14b4406397135a22e4596304%20%3D%20L.AwesomeMarkers.icon%28%0A%20%20%20%20%20%20%20%20%20%20%20%20%20%20%20%20%7B%22extraClasses%22%3A%20%22fa-rotate-0%22%2C%20%22icon%22%3A%20%22university%22%2C%20%22iconColor%22%3A%20%22white%22%2C%20%22markerColor%22%3A%20%22lightblue%22%2C%20%22prefix%22%3A%20%22fa%22%7D%0A%20%20%20%20%20%20%20%20%20%20%20%20%29%3B%0A%20%20%20%20%20%20%20%20%20%20%20%20marker_27de8e902df94919ad95ab6c26d116d2.setIcon%28icon_518286dc14b4406397135a22e4596304%29%3B%0A%20%20%20%20%20%20%20%20%0A%20%20%20%20%0A%20%20%20%20%20%20%20%20var%20popup_6199eb3f39db48d7ba004158c2536c19%20%3D%20L.popup%28%7B%22maxWidth%22%3A%20%22100%25%22%7D%29%3B%0A%0A%20%20%20%20%20%20%20%20%0A%20%20%20%20%20%20%20%20%20%20%20%20var%20html_72b364537f6944d6af2ecea36218bb76%20%3D%20%24%28%60%3Cdiv%20id%3D%22html_72b364537f6944d6af2ecea36218bb76%22%20style%3D%22width%3A%20100.0%25%3B%20height%3A%20100.0%25%3B%22%3EPratt%20Institute%20/%20Manhattan%20Campus%3C/div%3E%60%29%5B0%5D%3B%0A%20%20%20%20%20%20%20%20%20%20%20%20popup_6199eb3f39db48d7ba004158c2536c19.setContent%28html_72b364537f6944d6af2ecea36218bb76%29%3B%0A%20%20%20%20%20%20%20%20%0A%0A%20%20%20%20%20%20%20%20marker_27de8e902df94919ad95ab6c26d116d2.bindPopup%28popup_6199eb3f39db48d7ba004158c2536c19%29%0A%20%20%20%20%20%20%20%20%3B%0A%0A%20%20%20%20%20%20%20%20%0A%20%20%20%20%0A%20%20%20%20%0A%20%20%20%20%20%20%20%20%20%20%20%20var%20marker_fd5963fd5b3348f78e2ccf2c7c8e679e%20%3D%20L.marker%28%0A%20%20%20%20%20%20%20%20%20%20%20%20%20%20%20%20%5B40.728134%2C%20-73.991625%5D%2C%0A%20%20%20%20%20%20%20%20%20%20%20%20%20%20%20%20%7B%7D%0A%20%20%20%20%20%20%20%20%20%20%20%20%29.addTo%28map_b0bf57203c914706b3ec08a5224436e3%29%3B%0A%20%20%20%20%20%20%20%20%0A%20%20%20%20%0A%20%20%20%20%20%20%20%20%20%20%20%20var%20icon_ce71f075f7144d9fb98846c8f2323281%20%3D%20L.AwesomeMarkers.icon%28%0A%20%20%20%20%20%20%20%20%20%20%20%20%20%20%20%20%7B%22extraClasses%22%3A%20%22fa-rotate-0%22%2C%20%22icon%22%3A%20%22university%22%2C%20%22iconColor%22%3A%20%22white%22%2C%20%22markerColor%22%3A%20%22lightblue%22%2C%20%22prefix%22%3A%20%22fa%22%7D%0A%20%20%20%20%20%20%20%20%20%20%20%20%29%3B%0A%20%20%20%20%20%20%20%20%20%20%20%20marker_fd5963fd5b3348f78e2ccf2c7c8e679e.setIcon%28icon_ce71f075f7144d9fb98846c8f2323281%29%3B%0A%20%20%20%20%20%20%20%20%0A%20%20%20%20%0A%20%20%20%20%20%20%20%20var%20popup_6d6fbc6f3d844439a8f52d1444bfb849%20%3D%20L.popup%28%7B%22maxWidth%22%3A%20%22100%25%22%7D%29%3B%0A%0A%20%20%20%20%20%20%20%20%0A%20%20%20%20%20%20%20%20%20%20%20%20var%20html_d3ee889f1c5642babf7184fa203a5828%20%3D%20%24%28%60%3Cdiv%20id%3D%22html_d3ee889f1c5642babf7184fa203a5828%22%20style%3D%22width%3A%20100.0%25%3B%20height%3A%20100.0%25%3B%22%3ECooper%20Union%2C%20The%20/%20For%20The%20Advancement%20Of%20Science%20And%20Art%20Suite%20300%3C/div%3E%60%29%5B0%5D%3B%0A%20%20%20%20%20%20%20%20%20%20%20%20popup_6d6fbc6f3d844439a8f52d1444bfb849.setContent%28html_d3ee889f1c5642babf7184fa203a5828%29%3B%0A%20%20%20%20%20%20%20%20%0A%0A%20%20%20%20%20%20%20%20marker_fd5963fd5b3348f78e2ccf2c7c8e679e.bindPopup%28popup_6d6fbc6f3d844439a8f52d1444bfb849%29%0A%20%20%20%20%20%20%20%20%3B%0A%0A%20%20%20%20%20%20%20%20%0A%20%20%20%20%0A%20%20%20%20%0A%20%20%20%20%20%20%20%20%20%20%20%20var%20marker_4695e2fc7a364676bb10b59d655446cc%20%3D%20L.marker%28%0A%20%20%20%20%20%20%20%20%20%20%20%20%20%20%20%20%5B40.809132%2C%20-73.9639482%5D%2C%0A%20%20%20%20%20%20%20%20%20%20%20%20%20%20%20%20%7B%7D%0A%20%20%20%20%20%20%20%20%20%20%20%20%29.addTo%28map_b0bf57203c914706b3ec08a5224436e3%29%3B%0A%20%20%20%20%20%20%20%20%0A%20%20%20%20%0A%20%20%20%20%20%20%20%20%20%20%20%20var%20icon_7b936b16878f4a7faa6d4debffc45914%20%3D%20L.AwesomeMarkers.icon%28%0A%20%20%20%20%20%20%20%20%20%20%20%20%20%20%20%20%7B%22extraClasses%22%3A%20%22fa-rotate-0%22%2C%20%22icon%22%3A%20%22university%22%2C%20%22iconColor%22%3A%20%22white%22%2C%20%22markerColor%22%3A%20%22lightblue%22%2C%20%22prefix%22%3A%20%22fa%22%7D%0A%20%20%20%20%20%20%20%20%20%20%20%20%29%3B%0A%20%20%20%20%20%20%20%20%20%20%20%20marker_4695e2fc7a364676bb10b59d655446cc.setIcon%28icon_7b936b16878f4a7faa6d4debffc45914%29%3B%0A%20%20%20%20%20%20%20%20%0A%20%20%20%20%0A%20%20%20%20%20%20%20%20var%20popup_5c921cf5d0544e4e97a2e4ce0b04b5e5%20%3D%20L.popup%28%7B%22maxWidth%22%3A%20%22100%25%22%7D%29%3B%0A%0A%20%20%20%20%20%20%20%20%0A%20%20%20%20%20%20%20%20%20%20%20%20var%20html_a34b0f4c8e5a45438eab605494972f56%20%3D%20%24%28%60%3Cdiv%20id%3D%22html_a34b0f4c8e5a45438eab605494972f56%22%20style%3D%22width%3A%20100.0%25%3B%20height%3A%20100.0%25%3B%22%3EBarnard%20College%3C/div%3E%60%29%5B0%5D%3B%0A%20%20%20%20%20%20%20%20%20%20%20%20popup_5c921cf5d0544e4e97a2e4ce0b04b5e5.setContent%28html_a34b0f4c8e5a45438eab605494972f56%29%3B%0A%20%20%20%20%20%20%20%20%0A%0A%20%20%20%20%20%20%20%20marker_4695e2fc7a364676bb10b59d655446cc.bindPopup%28popup_5c921cf5d0544e4e97a2e4ce0b04b5e5%29%0A%20%20%20%20%20%20%20%20%3B%0A%0A%20%20%20%20%20%20%20%20%0A%20%20%20%20%0A%20%20%20%20%0A%20%20%20%20%20%20%20%20%20%20%20%20var%20marker_33b4c2897f7b4404b2fe90ebfc864b1c%20%3D%20L.marker%28%0A%20%20%20%20%20%20%20%20%20%20%20%20%20%20%20%20%5B40.811801%2C%20-73.9600103%5D%2C%0A%20%20%20%20%20%20%20%20%20%20%20%20%20%20%20%20%7B%7D%0A%20%20%20%20%20%20%20%20%20%20%20%20%29.addTo%28map_b0bf57203c914706b3ec08a5224436e3%29%3B%0A%20%20%20%20%20%20%20%20%0A%20%20%20%20%0A%20%20%20%20%20%20%20%20%20%20%20%20var%20icon_735a50a6eb7a41de8e1db7d844ef6185%20%3D%20L.AwesomeMarkers.icon%28%0A%20%20%20%20%20%20%20%20%20%20%20%20%20%20%20%20%7B%22extraClasses%22%3A%20%22fa-rotate-0%22%2C%20%22icon%22%3A%20%22university%22%2C%20%22iconColor%22%3A%20%22white%22%2C%20%22markerColor%22%3A%20%22lightblue%22%2C%20%22prefix%22%3A%20%22fa%22%7D%0A%20%20%20%20%20%20%20%20%20%20%20%20%29%3B%0A%20%20%20%20%20%20%20%20%20%20%20%20marker_33b4c2897f7b4404b2fe90ebfc864b1c.setIcon%28icon_735a50a6eb7a41de8e1db7d844ef6185%29%3B%0A%20%20%20%20%20%20%20%20%0A%20%20%20%20%0A%20%20%20%20%20%20%20%20var%20popup_ab8fabe834844d8cbb497e7ba37462a3%20%3D%20L.popup%28%7B%22maxWidth%22%3A%20%22100%25%22%7D%29%3B%0A%0A%20%20%20%20%20%20%20%20%0A%20%20%20%20%20%20%20%20%20%20%20%20var%20html_1d95441779454bbbaea524bbad077638%20%3D%20%24%28%60%3Cdiv%20id%3D%22html_1d95441779454bbbaea524bbad077638%22%20style%3D%22width%3A%20100.0%25%3B%20height%3A%20100.0%25%3B%22%3EJewish%20Theological%20Seminary%20/%20List%20College%20Of%20Jewish%20Studies%3C/div%3E%60%29%5B0%5D%3B%0A%20%20%20%20%20%20%20%20%20%20%20%20popup_ab8fabe834844d8cbb497e7ba37462a3.setContent%28html_1d95441779454bbbaea524bbad077638%29%3B%0A%20%20%20%20%20%20%20%20%0A%0A%20%20%20%20%20%20%20%20marker_33b4c2897f7b4404b2fe90ebfc864b1c.bindPopup%28popup_ab8fabe834844d8cbb497e7ba37462a3%29%0A%20%20%20%20%20%20%20%20%3B%0A%0A%20%20%20%20%20%20%20%20%0A%20%20%20%20%0A%20%20%20%20%0A%20%20%20%20%20%20%20%20%20%20%20%20var%20marker_c48ef322cfb74a6d8e3427d7cb0a1c76%20%3D%20L.marker%28%0A%20%20%20%20%20%20%20%20%20%20%20%20%20%20%20%20%5B0.7368606%2C%20-73.9810549%5D%2C%0A%20%20%20%20%20%20%20%20%20%20%20%20%20%20%20%20%7B%7D%0A%20%20%20%20%20%20%20%20%20%20%20%20%29.addTo%28map_b0bf57203c914706b3ec08a5224436e3%29%3B%0A%20%20%20%20%20%20%20%20%0A%20%20%20%20%0A%20%20%20%20%20%20%20%20%20%20%20%20var%20icon_5896e596f58a483597465c6b4117396f%20%3D%20L.AwesomeMarkers.icon%28%0A%20%20%20%20%20%20%20%20%20%20%20%20%20%20%20%20%7B%22extraClasses%22%3A%20%22fa-rotate-0%22%2C%20%22icon%22%3A%20%22university%22%2C%20%22iconColor%22%3A%20%22white%22%2C%20%22markerColor%22%3A%20%22lightblue%22%2C%20%22prefix%22%3A%20%22fa%22%7D%0A%20%20%20%20%20%20%20%20%20%20%20%20%29%3B%0A%20%20%20%20%20%20%20%20%20%20%20%20marker_c48ef322cfb74a6d8e3427d7cb0a1c76.setIcon%28icon_5896e596f58a483597465c6b4117396f%29%3B%0A%20%20%20%20%20%20%20%20%0A%20%20%20%20%0A%20%20%20%20%20%20%20%20var%20popup_6918f38d05b445c396986b80f582d9ad%20%3D%20L.popup%28%7B%22maxWidth%22%3A%20%22100%25%22%7D%29%3B%0A%0A%20%20%20%20%20%20%20%20%0A%20%20%20%20%20%20%20%20%20%20%20%20var%20html_58404fd64cef410b9b547d5ed4cca361%20%3D%20%24%28%60%3Cdiv%20id%3D%22html_58404fd64cef410b9b547d5ed4cca361%22%20style%3D%22width%3A%20100.0%25%3B%20height%3A%20100.0%25%3B%22%3EPhillips%20Beth%20Israel%20School%20Of%20Nursing%3C/div%3E%60%29%5B0%5D%3B%0A%20%20%20%20%20%20%20%20%20%20%20%20popup_6918f38d05b445c396986b80f582d9ad.setContent%28html_58404fd64cef410b9b547d5ed4cca361%29%3B%0A%20%20%20%20%20%20%20%20%0A%0A%20%20%20%20%20%20%20%20marker_c48ef322cfb74a6d8e3427d7cb0a1c76.bindPopup%28popup_6918f38d05b445c396986b80f582d9ad%29%0A%20%20%20%20%20%20%20%20%3B%0A%0A%20%20%20%20%20%20%20%20%0A%20%20%20%20%0A%20%20%20%20%0A%20%20%20%20%20%20%20%20%20%20%20%20var%20marker_722ff60170404fbdb6e026a3a2c612e6%20%3D%20L.marker%28%0A%20%20%20%20%20%20%20%20%20%20%20%20%20%20%20%20%5B40.833473%2C%20-73.9458788%5D%2C%0A%20%20%20%20%20%20%20%20%20%20%20%20%20%20%20%20%7B%7D%0A%20%20%20%20%20%20%20%20%20%20%20%20%29.addTo%28map_b0bf57203c914706b3ec08a5224436e3%29%3B%0A%20%20%20%20%20%20%20%20%0A%20%20%20%20%0A%20%20%20%20%20%20%20%20%20%20%20%20var%20icon_a0e1f55027ef43bf9d86947c3daf32c4%20%3D%20L.AwesomeMarkers.icon%28%0A%20%20%20%20%20%20%20%20%20%20%20%20%20%20%20%20%7B%22extraClasses%22%3A%20%22fa-rotate-0%22%2C%20%22icon%22%3A%20%22university%22%2C%20%22iconColor%22%3A%20%22white%22%2C%20%22markerColor%22%3A%20%22lightblue%22%2C%20%22prefix%22%3A%20%22fa%22%7D%0A%20%20%20%20%20%20%20%20%20%20%20%20%29%3B%0A%20%20%20%20%20%20%20%20%20%20%20%20marker_722ff60170404fbdb6e026a3a2c612e6.setIcon%28icon_a0e1f55027ef43bf9d86947c3daf32c4%29%3B%0A%20%20%20%20%20%20%20%20%0A%20%20%20%20%0A%20%20%20%20%20%20%20%20var%20popup_5becb7876d444460b14b9c3345902400%20%3D%20L.popup%28%7B%22maxWidth%22%3A%20%22100%25%22%7D%29%3B%0A%0A%20%20%20%20%20%20%20%20%0A%20%20%20%20%20%20%20%20%20%20%20%20var%20html_4842dd24ecee48ab804c681653a3a591%20%3D%20%24%28%60%3Cdiv%20id%3D%22html_4842dd24ecee48ab804c681653a3a591%22%20style%3D%22width%3A%20100.0%25%3B%20height%3A%20100.0%25%3B%22%3EBoricua%20College%3C/div%3E%60%29%5B0%5D%3B%0A%20%20%20%20%20%20%20%20%20%20%20%20popup_5becb7876d444460b14b9c3345902400.setContent%28html_4842dd24ecee48ab804c681653a3a591%29%3B%0A%20%20%20%20%20%20%20%20%0A%0A%20%20%20%20%20%20%20%20marker_722ff60170404fbdb6e026a3a2c612e6.bindPopup%28popup_5becb7876d444460b14b9c3345902400%29%0A%20%20%20%20%20%20%20%20%3B%0A%0A%20%20%20%20%20%20%20%20%0A%20%20%20%20%0A%20%20%20%20%0A%20%20%20%20%20%20%20%20%20%20%20%20var%20marker_3789ca82eac649ffa96d95447d6f0ee0%20%3D%20L.marker%28%0A%20%20%20%20%20%20%20%20%20%20%20%20%20%20%20%20%5B0.7652317%2C%20-73.9553818%5D%2C%0A%20%20%20%20%20%20%20%20%20%20%20%20%20%20%20%20%7B%7D%0A%20%20%20%20%20%20%20%20%20%20%20%20%29.addTo%28map_b0bf57203c914706b3ec08a5224436e3%29%3B%0A%20%20%20%20%20%20%20%20%0A%20%20%20%20%0A%20%20%20%20%20%20%20%20%20%20%20%20var%20icon_24610675ee294418a31ea57b01cb2f0e%20%3D%20L.AwesomeMarkers.icon%28%0A%20%20%20%20%20%20%20%20%20%20%20%20%20%20%20%20%7B%22extraClasses%22%3A%20%22fa-rotate-0%22%2C%20%22icon%22%3A%20%22university%22%2C%20%22iconColor%22%3A%20%22white%22%2C%20%22markerColor%22%3A%20%22lightblue%22%2C%20%22prefix%22%3A%20%22fa%22%7D%0A%20%20%20%20%20%20%20%20%20%20%20%20%29%3B%0A%20%20%20%20%20%20%20%20%20%20%20%20marker_3789ca82eac649ffa96d95447d6f0ee0.setIcon%28icon_24610675ee294418a31ea57b01cb2f0e%29%3B%0A%20%20%20%20%20%20%20%20%0A%20%20%20%20%0A%20%20%20%20%20%20%20%20var%20popup_18e5280b9bf643f59b34608df6e5c4d9%20%3D%20L.popup%28%7B%22maxWidth%22%3A%20%22100%25%22%7D%29%3B%0A%0A%20%20%20%20%20%20%20%20%0A%20%20%20%20%20%20%20%20%20%20%20%20var%20html_71826e283c394272b419a1e3875da5cf%20%3D%20%24%28%60%3Cdiv%20id%3D%22html_71826e283c394272b419a1e3875da5cf%22%20style%3D%22width%3A%20100.0%25%3B%20height%3A%20100.0%25%3B%22%3ECornell%20University%20/%20Weill%20Graduate%20School%20Of%20Medical%20Sciences%20Of%20Cornell%20University%3C/div%3E%60%29%5B0%5D%3B%0A%20%20%20%20%20%20%20%20%20%20%20%20popup_18e5280b9bf643f59b34608df6e5c4d9.setContent%28html_71826e283c394272b419a1e3875da5cf%29%3B%0A%20%20%20%20%20%20%20%20%0A%0A%20%20%20%20%20%20%20%20marker_3789ca82eac649ffa96d95447d6f0ee0.bindPopup%28popup_18e5280b9bf643f59b34608df6e5c4d9%29%0A%20%20%20%20%20%20%20%20%3B%0A%0A%20%20%20%20%20%20%20%20%0A%20%20%20%20%0A%20%20%20%20%0A%20%20%20%20%20%20%20%20%20%20%20%20var%20marker_063510c2d346444cb34e4b8afbbbe902%20%3D%20L.marker%28%0A%20%20%20%20%20%20%20%20%20%20%20%20%20%20%20%20%5B40.767873%2C%20-73.9886463%5D%2C%0A%20%20%20%20%20%20%20%20%20%20%20%20%20%20%20%20%7B%7D%0A%20%20%20%20%20%20%20%20%20%20%20%20%29.addTo%28map_b0bf57203c914706b3ec08a5224436e3%29%3B%0A%20%20%20%20%20%20%20%20%0A%20%20%20%20%0A%20%20%20%20%20%20%20%20%20%20%20%20var%20icon_bf1a8fae9a2d4546a269afa1f62239c9%20%3D%20L.AwesomeMarkers.icon%28%0A%20%20%20%20%20%20%20%20%20%20%20%20%20%20%20%20%7B%22extraClasses%22%3A%20%22fa-rotate-0%22%2C%20%22icon%22%3A%20%22university%22%2C%20%22iconColor%22%3A%20%22white%22%2C%20%22markerColor%22%3A%20%22lightblue%22%2C%20%22prefix%22%3A%20%22fa%22%7D%0A%20%20%20%20%20%20%20%20%20%20%20%20%29%3B%0A%20%20%20%20%20%20%20%20%20%20%20%20marker_063510c2d346444cb34e4b8afbbbe902.setIcon%28icon_bf1a8fae9a2d4546a269afa1f62239c9%29%3B%0A%20%20%20%20%20%20%20%20%0A%20%20%20%20%0A%20%20%20%20%20%20%20%20var%20popup_649cec08b712474b8f5c4c73267fcace%20%3D%20L.popup%28%7B%22maxWidth%22%3A%20%22100%25%22%7D%29%3B%0A%0A%20%20%20%20%20%20%20%20%0A%20%20%20%20%20%20%20%20%20%20%20%20var%20html_0f9cbdd579dc42d9871d410f2ab4a46e%20%3D%20%24%28%60%3Cdiv%20id%3D%22html_0f9cbdd579dc42d9871d410f2ab4a46e%22%20style%3D%22width%3A%20100.0%25%3B%20height%3A%20100.0%25%3B%22%3EAmerican%20Academy%20Mcallister%20Institute%20Of%20Funeral%20Service%3C/div%3E%60%29%5B0%5D%3B%0A%20%20%20%20%20%20%20%20%20%20%20%20popup_649cec08b712474b8f5c4c73267fcace.setContent%28html_0f9cbdd579dc42d9871d410f2ab4a46e%29%3B%0A%20%20%20%20%20%20%20%20%0A%0A%20%20%20%20%20%20%20%20marker_063510c2d346444cb34e4b8afbbbe902.bindPopup%28popup_649cec08b712474b8f5c4c73267fcace%29%0A%20%20%20%20%20%20%20%20%3B%0A%0A%20%20%20%20%20%20%20%20%0A%20%20%20%20%0A%20%20%20%20%0A%20%20%20%20%20%20%20%20%20%20%20%20var%20marker_624688c358814829aa776ec4ea604ee0%20%3D%20L.marker%28%0A%20%20%20%20%20%20%20%20%20%20%20%20%20%20%20%20%5B40.850539%2C%20-73.9298046%5D%2C%0A%20%20%20%20%20%20%20%20%20%20%20%20%20%20%20%20%7B%7D%0A%20%20%20%20%20%20%20%20%20%20%20%20%29.addTo%28map_b0bf57203c914706b3ec08a5224436e3%29%3B%0A%20%20%20%20%20%20%20%20%0A%20%20%20%20%0A%20%20%20%20%20%20%20%20%20%20%20%20var%20icon_eebc6e9b2d2044adb6cd34b8a5643d75%20%3D%20L.AwesomeMarkers.icon%28%0A%20%20%20%20%20%20%20%20%20%20%20%20%20%20%20%20%7B%22extraClasses%22%3A%20%22fa-rotate-0%22%2C%20%22icon%22%3A%20%22university%22%2C%20%22iconColor%22%3A%20%22white%22%2C%20%22markerColor%22%3A%20%22lightblue%22%2C%20%22prefix%22%3A%20%22fa%22%7D%0A%20%20%20%20%20%20%20%20%20%20%20%20%29%3B%0A%20%20%20%20%20%20%20%20%20%20%20%20marker_624688c358814829aa776ec4ea604ee0.setIcon%28icon_eebc6e9b2d2044adb6cd34b8a5643d75%29%3B%0A%20%20%20%20%20%20%20%20%0A%20%20%20%20%0A%20%20%20%20%20%20%20%20var%20popup_0f84b3e0c7404569a970aeaf6cf71bf6%20%3D%20L.popup%28%7B%22maxWidth%22%3A%20%22100%25%22%7D%29%3B%0A%0A%20%20%20%20%20%20%20%20%0A%20%20%20%20%20%20%20%20%20%20%20%20var%20html_ea9b2da0d76a4321906f2f32440cf43a%20%3D%20%24%28%60%3Cdiv%20id%3D%22html_ea9b2da0d76a4321906f2f32440cf43a%22%20style%3D%22width%3A%20100.0%25%3B%20height%3A%20100.0%25%3B%22%3EYeshiva%20University%3C/div%3E%60%29%5B0%5D%3B%0A%20%20%20%20%20%20%20%20%20%20%20%20popup_0f84b3e0c7404569a970aeaf6cf71bf6.setContent%28html_ea9b2da0d76a4321906f2f32440cf43a%29%3B%0A%20%20%20%20%20%20%20%20%0A%0A%20%20%20%20%20%20%20%20marker_624688c358814829aa776ec4ea604ee0.bindPopup%28popup_0f84b3e0c7404569a970aeaf6cf71bf6%29%0A%20%20%20%20%20%20%20%20%3B%0A%0A%20%20%20%20%20%20%20%20%0A%20%20%20%20%0A%20%20%20%20%0A%20%20%20%20%20%20%20%20%20%20%20%20var%20marker_5a5238ded9ac494a96961533d420f4fa%20%3D%20L.marker%28%0A%20%20%20%20%20%20%20%20%20%20%20%20%20%20%20%20%5B40.810294%2C%20-73.9602871%5D%2C%0A%20%20%20%20%20%20%20%20%20%20%20%20%20%20%20%20%7B%7D%0A%20%20%20%20%20%20%20%20%20%20%20%20%29.addTo%28map_b0bf57203c914706b3ec08a5224436e3%29%3B%0A%20%20%20%20%20%20%20%20%0A%20%20%20%20%0A%20%20%20%20%20%20%20%20%20%20%20%20var%20icon_760834e199c746908339ba373ea687cd%20%3D%20L.AwesomeMarkers.icon%28%0A%20%20%20%20%20%20%20%20%20%20%20%20%20%20%20%20%7B%22extraClasses%22%3A%20%22fa-rotate-0%22%2C%20%22icon%22%3A%20%22university%22%2C%20%22iconColor%22%3A%20%22white%22%2C%20%22markerColor%22%3A%20%22lightblue%22%2C%20%22prefix%22%3A%20%22fa%22%7D%0A%20%20%20%20%20%20%20%20%20%20%20%20%29%3B%0A%20%20%20%20%20%20%20%20%20%20%20%20marker_5a5238ded9ac494a96961533d420f4fa.setIcon%28icon_760834e199c746908339ba373ea687cd%29%3B%0A%20%20%20%20%20%20%20%20%0A%20%20%20%20%0A%20%20%20%20%20%20%20%20var%20popup_18c02b24bb424c9faadb2eaf352359f7%20%3D%20L.popup%28%7B%22maxWidth%22%3A%20%22100%25%22%7D%29%3B%0A%0A%20%20%20%20%20%20%20%20%0A%20%20%20%20%20%20%20%20%20%20%20%20var%20html_b0f5131e82b3463dbb92854e9219fb42%20%3D%20%24%28%60%3Cdiv%20id%3D%22html_b0f5131e82b3463dbb92854e9219fb42%22%20style%3D%22width%3A%20100.0%25%3B%20height%3A%20100.0%25%3B%22%3ETeachers%20College%2C%20Columbia%20University%3C/div%3E%60%29%5B0%5D%3B%0A%20%20%20%20%20%20%20%20%20%20%20%20popup_18c02b24bb424c9faadb2eaf352359f7.setContent%28html_b0f5131e82b3463dbb92854e9219fb42%29%3B%0A%20%20%20%20%20%20%20%20%0A%0A%20%20%20%20%20%20%20%20marker_5a5238ded9ac494a96961533d420f4fa.bindPopup%28popup_18c02b24bb424c9faadb2eaf352359f7%29%0A%20%20%20%20%20%20%20%20%3B%0A%0A%20%20%20%20%20%20%20%20%0A%20%20%20%20%0A%20%20%20%20%0A%20%20%20%20%20%20%20%20%20%20%20%20var%20marker_0665027508284f75be76d949020c3bdd%20%3D%20L.marker%28%0A%20%20%20%20%20%20%20%20%20%20%20%20%20%20%20%20%5B40.736553%2C%20-73.9964986%5D%2C%0A%20%20%20%20%20%20%20%20%20%20%20%20%20%20%20%20%7B%7D%0A%20%20%20%20%20%20%20%20%20%20%20%20%29.addTo%28map_b0bf57203c914706b3ec08a5224436e3%29%3B%0A%20%20%20%20%20%20%20%20%0A%20%20%20%20%0A%20%20%20%20%20%20%20%20%20%20%20%20var%20icon_680e02f039814716bd42d96406443ca6%20%3D%20L.AwesomeMarkers.icon%28%0A%20%20%20%20%20%20%20%20%20%20%20%20%20%20%20%20%7B%22extraClasses%22%3A%20%22fa-rotate-0%22%2C%20%22icon%22%3A%20%22university%22%2C%20%22iconColor%22%3A%20%22white%22%2C%20%22markerColor%22%3A%20%22lightblue%22%2C%20%22prefix%22%3A%20%22fa%22%7D%0A%20%20%20%20%20%20%20%20%20%20%20%20%29%3B%0A%20%20%20%20%20%20%20%20%20%20%20%20marker_0665027508284f75be76d949020c3bdd.setIcon%28icon_680e02f039814716bd42d96406443ca6%29%3B%0A%20%20%20%20%20%20%20%20%0A%20%20%20%20%0A%20%20%20%20%20%20%20%20var%20popup_397c3491883f4993b36c9a2e3f830958%20%3D%20L.popup%28%7B%22maxWidth%22%3A%20%22100%25%22%7D%29%3B%0A%0A%20%20%20%20%20%20%20%20%0A%20%20%20%20%20%20%20%20%20%20%20%20var%20html_a3678569d1544ad7983fc54a8584020a%20%3D%20%24%28%60%3Cdiv%20id%3D%22html_a3678569d1544ad7983fc54a8584020a%22%20style%3D%22width%3A%20100.0%25%3B%20height%3A%20100.0%25%3B%22%3ENew%20School%20University%20/%20Jazz%20And%20Contemporary%20Music%20Program%3C/div%3E%60%29%5B0%5D%3B%0A%20%20%20%20%20%20%20%20%20%20%20%20popup_397c3491883f4993b36c9a2e3f830958.setContent%28html_a3678569d1544ad7983fc54a8584020a%29%3B%0A%20%20%20%20%20%20%20%20%0A%0A%20%20%20%20%20%20%20%20marker_0665027508284f75be76d949020c3bdd.bindPopup%28popup_397c3491883f4993b36c9a2e3f830958%29%0A%20%20%20%20%20%20%20%20%3B%0A%0A%20%20%20%20%20%20%20%20%0A%20%20%20%20%0A%20%20%20%20%0A%20%20%20%20%20%20%20%20%20%20%20%20var%20marker_72cc64c36c964b6885ada9e0dbab8a34%20%3D%20L.marker%28%0A%20%20%20%20%20%20%20%20%20%20%20%20%20%20%20%20%5B0.805578%2C%20-73.9666683%5D%2C%0A%20%20%20%20%20%20%20%20%20%20%20%20%20%20%20%20%7B%7D%0A%20%20%20%20%20%20%20%20%20%20%20%20%29.addTo%28map_b0bf57203c914706b3ec08a5224436e3%29%3B%0A%20%20%20%20%20%20%20%20%0A%20%20%20%20%0A%20%20%20%20%20%20%20%20%20%20%20%20var%20icon_aca5a8fdcf17495ab66063307760c1e0%20%3D%20L.AwesomeMarkers.icon%28%0A%20%20%20%20%20%20%20%20%20%20%20%20%20%20%20%20%7B%22extraClasses%22%3A%20%22fa-rotate-0%22%2C%20%22icon%22%3A%20%22university%22%2C%20%22iconColor%22%3A%20%22white%22%2C%20%22markerColor%22%3A%20%22lightblue%22%2C%20%22prefix%22%3A%20%22fa%22%7D%0A%20%20%20%20%20%20%20%20%20%20%20%20%29%3B%0A%20%20%20%20%20%20%20%20%20%20%20%20marker_72cc64c36c964b6885ada9e0dbab8a34.setIcon%28icon_aca5a8fdcf17495ab66063307760c1e0%29%3B%0A%20%20%20%20%20%20%20%20%0A%20%20%20%20%0A%20%20%20%20%20%20%20%20var%20popup_0a3e3d4fb45b4391a43b0515c1d84b83%20%3D%20L.popup%28%7B%22maxWidth%22%3A%20%22100%25%22%7D%29%3B%0A%0A%20%20%20%20%20%20%20%20%0A%20%20%20%20%20%20%20%20%20%20%20%20var%20html_9198d462d96345c99588bb13446abdfc%20%3D%20%24%28%60%3Cdiv%20id%3D%22html_9198d462d96345c99588bb13446abdfc%22%20style%3D%22width%3A%20100.0%25%3B%20height%3A%20100.0%25%3B%22%3EBank%20Street%20College%20Of%20Education%20/%20Graduate%20School%20Of%20Education%3C/div%3E%60%29%5B0%5D%3B%0A%20%20%20%20%20%20%20%20%20%20%20%20popup_0a3e3d4fb45b4391a43b0515c1d84b83.setContent%28html_9198d462d96345c99588bb13446abdfc%29%3B%0A%20%20%20%20%20%20%20%20%0A%0A%20%20%20%20%20%20%20%20marker_72cc64c36c964b6885ada9e0dbab8a34.bindPopup%28popup_0a3e3d4fb45b4391a43b0515c1d84b83%29%0A%20%20%20%20%20%20%20%20%3B%0A%0A%20%20%20%20%20%20%20%20%0A%20%20%20%20%0A%20%20%20%20%0A%20%20%20%20%20%20%20%20%20%20%20%20var%20marker_feed8963793448f590e723c8f9fa9c10%20%3D%20L.marker%28%0A%20%20%20%20%20%20%20%20%20%20%20%20%20%20%20%20%5B40.735262%2C%20-73.9974767%5D%2C%0A%20%20%20%20%20%20%20%20%20%20%20%20%20%20%20%20%7B%7D%0A%20%20%20%20%20%20%20%20%20%20%20%20%29.addTo%28map_b0bf57203c914706b3ec08a5224436e3%29%3B%0A%20%20%20%20%20%20%20%20%0A%20%20%20%20%0A%20%20%20%20%20%20%20%20%20%20%20%20var%20icon_e406ff239f3d4123a35f1b9e460d66e3%20%3D%20L.AwesomeMarkers.icon%28%0A%20%20%20%20%20%20%20%20%20%20%20%20%20%20%20%20%7B%22extraClasses%22%3A%20%22fa-rotate-0%22%2C%20%22icon%22%3A%20%22university%22%2C%20%22iconColor%22%3A%20%22white%22%2C%20%22markerColor%22%3A%20%22lightblue%22%2C%20%22prefix%22%3A%20%22fa%22%7D%0A%20%20%20%20%20%20%20%20%20%20%20%20%29%3B%0A%20%20%20%20%20%20%20%20%20%20%20%20marker_feed8963793448f590e723c8f9fa9c10.setIcon%28icon_e406ff239f3d4123a35f1b9e460d66e3%29%3B%0A%20%20%20%20%20%20%20%20%0A%20%20%20%20%0A%20%20%20%20%20%20%20%20var%20popup_8dd969a522ef489c84e78a95e7ae3ff4%20%3D%20L.popup%28%7B%22maxWidth%22%3A%20%22100%25%22%7D%29%3B%0A%0A%20%20%20%20%20%20%20%20%0A%20%20%20%20%20%20%20%20%20%20%20%20var%20html_58a5a08ae41d4ae9a392e02ddd76fbd0%20%3D%20%24%28%60%3Cdiv%20id%3D%22html_58a5a08ae41d4ae9a392e02ddd76fbd0%22%20style%3D%22width%3A%20100.0%25%3B%20height%3A%20100.0%25%3B%22%3ENew%20School%20University%20/%20Eugene%20Lang%20College%3C/div%3E%60%29%5B0%5D%3B%0A%20%20%20%20%20%20%20%20%20%20%20%20popup_8dd969a522ef489c84e78a95e7ae3ff4.setContent%28html_58a5a08ae41d4ae9a392e02ddd76fbd0%29%3B%0A%20%20%20%20%20%20%20%20%0A%0A%20%20%20%20%20%20%20%20marker_feed8963793448f590e723c8f9fa9c10.bindPopup%28popup_8dd969a522ef489c84e78a95e7ae3ff4%29%0A%20%20%20%20%20%20%20%20%3B%0A%0A%20%20%20%20%20%20%20%20%0A%20%20%20%20%0A%20%20%20%20%0A%20%20%20%20%20%20%20%20%20%20%20%20var%20marker_298fec40193e4a49a289fdd148c25066%20%3D%20L.marker%28%0A%20%20%20%20%20%20%20%20%20%20%20%20%20%20%20%20%5B40.819401%2C%20-73.9502631%5D%2C%0A%20%20%20%20%20%20%20%20%20%20%20%20%20%20%20%20%7B%7D%0A%20%20%20%20%20%20%20%20%20%20%20%20%29.addTo%28map_b0bf57203c914706b3ec08a5224436e3%29%3B%0A%20%20%20%20%20%20%20%20%0A%20%20%20%20%0A%20%20%20%20%20%20%20%20%20%20%20%20var%20icon_7379e42b27174189a15674e5d0206305%20%3D%20L.AwesomeMarkers.icon%28%0A%20%20%20%20%20%20%20%20%20%20%20%20%20%20%20%20%7B%22extraClasses%22%3A%20%22fa-rotate-0%22%2C%20%22icon%22%3A%20%22university%22%2C%20%22iconColor%22%3A%20%22white%22%2C%20%22markerColor%22%3A%20%22lightblue%22%2C%20%22prefix%22%3A%20%22fa%22%7D%0A%20%20%20%20%20%20%20%20%20%20%20%20%29%3B%0A%20%20%20%20%20%20%20%20%20%20%20%20marker_298fec40193e4a49a289fdd148c25066.setIcon%28icon_7379e42b27174189a15674e5d0206305%29%3B%0A%20%20%20%20%20%20%20%20%0A%20%20%20%20%0A%20%20%20%20%20%20%20%20var%20popup_fcd32c99a4864efd8a2fc7ccd16d3383%20%3D%20L.popup%28%7B%22maxWidth%22%3A%20%22100%25%22%7D%29%3B%0A%0A%20%20%20%20%20%20%20%20%0A%20%20%20%20%20%20%20%20%20%20%20%20var%20html_5c0709430f12487eb38392450105bff3%20%3D%20%24%28%60%3Cdiv%20id%3D%22html_5c0709430f12487eb38392450105bff3%22%20style%3D%22width%3A%20100.0%25%3B%20height%3A%20100.0%25%3B%22%3EThe%20City%20College%20of%20New%20York%3C/div%3E%60%29%5B0%5D%3B%0A%20%20%20%20%20%20%20%20%20%20%20%20popup_fcd32c99a4864efd8a2fc7ccd16d3383.setContent%28html_5c0709430f12487eb38392450105bff3%29%3B%0A%20%20%20%20%20%20%20%20%0A%0A%20%20%20%20%20%20%20%20marker_298fec40193e4a49a289fdd148c25066.bindPopup%28popup_fcd32c99a4864efd8a2fc7ccd16d3383%29%0A%20%20%20%20%20%20%20%20%3B%0A%0A%20%20%20%20%20%20%20%20%0A%20%20%20%20%0A%20%20%20%20%0A%20%20%20%20%20%20%20%20%20%20%20%20var%20marker_79f591f163b34a819eccd25b03d5fe07%20%3D%20L.marker%28%0A%20%20%20%20%20%20%20%20%20%20%20%20%20%20%20%20%5B40.718803%2C%20-74.0001929%5D%2C%0A%20%20%20%20%20%20%20%20%20%20%20%20%20%20%20%20%7B%7D%0A%20%20%20%20%20%20%20%20%20%20%20%20%29.addTo%28map_b0bf57203c914706b3ec08a5224436e3%29%3B%0A%20%20%20%20%20%20%20%20%0A%20%20%20%20%0A%20%20%20%20%20%20%20%20%20%20%20%20var%20icon_3fedc8330460445f9e30ec7592f5701a%20%3D%20L.AwesomeMarkers.icon%28%0A%20%20%20%20%20%20%20%20%20%20%20%20%20%20%20%20%7B%22extraClasses%22%3A%20%22fa-rotate-0%22%2C%20%22icon%22%3A%20%22subway%22%2C%20%22iconColor%22%3A%20%22white%22%2C%20%22markerColor%22%3A%20%22red%22%2C%20%22prefix%22%3A%20%22fa%22%7D%0A%20%20%20%20%20%20%20%20%20%20%20%20%29%3B%0A%20%20%20%20%20%20%20%20%20%20%20%20marker_79f591f163b34a819eccd25b03d5fe07.setIcon%28icon_3fedc8330460445f9e30ec7592f5701a%29%3B%0A%20%20%20%20%20%20%20%20%0A%20%20%20%20%0A%20%20%20%20%20%20%20%20var%20popup_deb2d3138ea14bff8c302f96e9d6ecac%20%3D%20L.popup%28%7B%22maxWidth%22%3A%20%22100%25%22%7D%29%3B%0A%0A%20%20%20%20%20%20%20%20%0A%20%20%20%20%20%20%20%20%20%20%20%20var%20html_060bfd510f1a4ac0a049acee686a027f%20%3D%20%24%28%60%3Cdiv%20id%3D%22html_060bfd510f1a4ac0a049acee686a027f%22%20style%3D%22width%3A%20100.0%25%3B%20height%3A%20100.0%25%3B%22%3ECANAL%20ST%3C/div%3E%60%29%5B0%5D%3B%0A%20%20%20%20%20%20%20%20%20%20%20%20popup_deb2d3138ea14bff8c302f96e9d6ecac.setContent%28html_060bfd510f1a4ac0a049acee686a027f%29%3B%0A%20%20%20%20%20%20%20%20%0A%0A%20%20%20%20%20%20%20%20marker_79f591f163b34a819eccd25b03d5fe07.bindPopup%28popup_deb2d3138ea14bff8c302f96e9d6ecac%29%0A%20%20%20%20%20%20%20%20%3B%0A%0A%20%20%20%20%20%20%20%20%0A%20%20%20%20%0A%20%20%20%20%0A%20%20%20%20%20%20%20%20%20%20%20%20var%20marker_3d63dbc598594a93b515c03036868fcc%20%3D%20L.marker%28%0A%20%20%20%20%20%20%20%20%20%20%20%20%20%20%20%20%5B40.7322544%2C%20-74.0003081%5D%2C%0A%20%20%20%20%20%20%20%20%20%20%20%20%20%20%20%20%7B%7D%0A%20%20%20%20%20%20%20%20%20%20%20%20%29.addTo%28map_b0bf57203c914706b3ec08a5224436e3%29%3B%0A%20%20%20%20%20%20%20%20%0A%20%20%20%20%0A%20%20%20%20%20%20%20%20%20%20%20%20var%20icon_c281a2062ba2441e9df68bd785ec037d%20%3D%20L.AwesomeMarkers.icon%28%0A%20%20%20%20%20%20%20%20%20%20%20%20%20%20%20%20%7B%22extraClasses%22%3A%20%22fa-rotate-0%22%2C%20%22icon%22%3A%20%22subway%22%2C%20%22iconColor%22%3A%20%22white%22%2C%20%22markerColor%22%3A%20%22red%22%2C%20%22prefix%22%3A%20%22fa%22%7D%0A%20%20%20%20%20%20%20%20%20%20%20%20%29%3B%0A%20%20%20%20%20%20%20%20%20%20%20%20marker_3d63dbc598594a93b515c03036868fcc.setIcon%28icon_c281a2062ba2441e9df68bd785ec037d%29%3B%0A%20%20%20%20%20%20%20%20%0A%20%20%20%20%0A%20%20%20%20%20%20%20%20var%20popup_068f6312554049fe98f201d1db87c2d6%20%3D%20L.popup%28%7B%22maxWidth%22%3A%20%22100%25%22%7D%29%3B%0A%0A%20%20%20%20%20%20%20%20%0A%20%20%20%20%20%20%20%20%20%20%20%20var%20html_f4f9eb08802a407d9ac1db7a3c432181%20%3D%20%24%28%60%3Cdiv%20id%3D%22html_f4f9eb08802a407d9ac1db7a3c432181%22%20style%3D%22width%3A%20100.0%25%3B%20height%3A%20100.0%25%3B%22%3EW%204%20ST%20-%20WASHINGTON%20SQ%20%28LOWER%29%3C/div%3E%60%29%5B0%5D%3B%0A%20%20%20%20%20%20%20%20%20%20%20%20popup_068f6312554049fe98f201d1db87c2d6.setContent%28html_f4f9eb08802a407d9ac1db7a3c432181%29%3B%0A%20%20%20%20%20%20%20%20%0A%0A%20%20%20%20%20%20%20%20marker_3d63dbc598594a93b515c03036868fcc.bindPopup%28popup_068f6312554049fe98f201d1db87c2d6%29%0A%20%20%20%20%20%20%20%20%3B%0A%0A%20%20%20%20%20%20%20%20%0A%20%20%20%20%0A%20%20%20%20%0A%20%20%20%20%20%20%20%20%20%20%20%20var%20marker_cf85aa332f464b1bb6563e1c028268e9%20%3D%20L.marker%28%0A%20%20%20%20%20%20%20%20%20%20%20%20%20%20%20%20%5B40.761727%2C%20-73.9838489%5D%2C%0A%20%20%20%20%20%20%20%20%20%20%20%20%20%20%20%20%7B%7D%0A%20%20%20%20%20%20%20%20%20%20%20%20%29.addTo%28map_b0bf57203c914706b3ec08a5224436e3%29%3B%0A%20%20%20%20%20%20%20%20%0A%20%20%20%20%0A%20%20%20%20%20%20%20%20%20%20%20%20var%20icon_40ff3a74f9dd42cd839a81995fc7a6cb%20%3D%20L.AwesomeMarkers.icon%28%0A%20%20%20%20%20%20%20%20%20%20%20%20%20%20%20%20%7B%22extraClasses%22%3A%20%22fa-rotate-0%22%2C%20%22icon%22%3A%20%22subway%22%2C%20%22iconColor%22%3A%20%22white%22%2C%20%22markerColor%22%3A%20%22red%22%2C%20%22prefix%22%3A%20%22fa%22%7D%0A%20%20%20%20%20%20%20%20%20%20%20%20%29%3B%0A%20%20%20%20%20%20%20%20%20%20%20%20marker_cf85aa332f464b1bb6563e1c028268e9.setIcon%28icon_40ff3a74f9dd42cd839a81995fc7a6cb%29%3B%0A%20%20%20%20%20%20%20%20%0A%20%20%20%20%0A%20%20%20%20%20%20%20%20var%20popup_aee4ee283ce448bbb227961be2188f0b%20%3D%20L.popup%28%7B%22maxWidth%22%3A%20%22100%25%22%7D%29%3B%0A%0A%20%20%20%20%20%20%20%20%0A%20%20%20%20%20%20%20%20%20%20%20%20var%20html_a5d4b029e15b4be183433ed19cd22bc5%20%3D%20%24%28%60%3Cdiv%20id%3D%22html_a5d4b029e15b4be183433ed19cd22bc5%22%20style%3D%22width%3A%20100.0%25%3B%20height%3A%20100.0%25%3B%22%3E50%20ST%3C/div%3E%60%29%5B0%5D%3B%0A%20%20%20%20%20%20%20%20%20%20%20%20popup_aee4ee283ce448bbb227961be2188f0b.setContent%28html_a5d4b029e15b4be183433ed19cd22bc5%29%3B%0A%20%20%20%20%20%20%20%20%0A%0A%20%20%20%20%20%20%20%20marker_cf85aa332f464b1bb6563e1c028268e9.bindPopup%28popup_aee4ee283ce448bbb227961be2188f0b%29%0A%20%20%20%20%20%20%20%20%3B%0A%0A%20%20%20%20%20%20%20%20%0A%20%20%20%20%0A%20%20%20%20%0A%20%20%20%20%20%20%20%20%20%20%20%20var%20marker_dd5e945b68854927b75b345a42445791%20%3D%20L.marker%28%0A%20%20%20%20%20%20%20%20%20%20%20%20%20%20%20%20%5B40.76297%2C%20-73.9816978%5D%2C%0A%20%20%20%20%20%20%20%20%20%20%20%20%20%20%20%20%7B%7D%0A%20%20%20%20%20%20%20%20%20%20%20%20%29.addTo%28map_b0bf57203c914706b3ec08a5224436e3%29%3B%0A%20%20%20%20%20%20%20%20%0A%20%20%20%20%0A%20%20%20%20%20%20%20%20%20%20%20%20var%20icon_a5f2ee8b5a9f4c939fcca8a654209a6d%20%3D%20L.AwesomeMarkers.icon%28%0A%20%20%20%20%20%20%20%20%20%20%20%20%20%20%20%20%7B%22extraClasses%22%3A%20%22fa-rotate-0%22%2C%20%22icon%22%3A%20%22subway%22%2C%20%22iconColor%22%3A%20%22white%22%2C%20%22markerColor%22%3A%20%22red%22%2C%20%22prefix%22%3A%20%22fa%22%7D%0A%20%20%20%20%20%20%20%20%20%20%20%20%29%3B%0A%20%20%20%20%20%20%20%20%20%20%20%20marker_dd5e945b68854927b75b345a42445791.setIcon%28icon_a5f2ee8b5a9f4c939fcca8a654209a6d%29%3B%0A%20%20%20%20%20%20%20%20%0A%20%20%20%20%0A%20%20%20%20%20%20%20%20var%20popup_fed57ec8fc9b41c5a123e97e8ce27266%20%3D%20L.popup%28%7B%22maxWidth%22%3A%20%22100%25%22%7D%29%3B%0A%0A%20%20%20%20%20%20%20%20%0A%20%20%20%20%20%20%20%20%20%20%20%20var%20html_a180ef4d652a4557aee4ca8a92a93cf1%20%3D%20%24%28%60%3Cdiv%20id%3D%22html_a180ef4d652a4557aee4ca8a92a93cf1%22%20style%3D%22width%3A%20100.0%25%3B%20height%3A%20100.0%25%3B%22%3E7%20AV%3C/div%3E%60%29%5B0%5D%3B%0A%20%20%20%20%20%20%20%20%20%20%20%20popup_fed57ec8fc9b41c5a123e97e8ce27266.setContent%28html_a180ef4d652a4557aee4ca8a92a93cf1%29%3B%0A%20%20%20%20%20%20%20%20%0A%0A%20%20%20%20%20%20%20%20marker_dd5e945b68854927b75b345a42445791.bindPopup%28popup_fed57ec8fc9b41c5a123e97e8ce27266%29%0A%20%20%20%20%20%20%20%20%3B%0A%0A%20%20%20%20%20%20%20%20%0A%20%20%20%20%0A%20%20%20%20%0A%20%20%20%20%20%20%20%20%20%20%20%20var%20marker_ddf1d058ae604202ba727d8cd1ce40ae%20%3D%20L.marker%28%0A%20%20%20%20%20%20%20%20%20%20%20%20%20%20%20%20%5B40.745453%2C%20-73.988698%5D%2C%0A%20%20%20%20%20%20%20%20%20%20%20%20%20%20%20%20%7B%7D%0A%20%20%20%20%20%20%20%20%20%20%20%20%29.addTo%28map_b0bf57203c914706b3ec08a5224436e3%29%3B%0A%20%20%20%20%20%20%20%20%0A%20%20%20%20%0A%20%20%20%20%20%20%20%20%20%20%20%20var%20icon_e4b7fdfa6c494e02b9174358654ed265%20%3D%20L.AwesomeMarkers.icon%28%0A%20%20%20%20%20%20%20%20%20%20%20%20%20%20%20%20%7B%22extraClasses%22%3A%20%22fa-rotate-0%22%2C%20%22icon%22%3A%20%22subway%22%2C%20%22iconColor%22%3A%20%22white%22%2C%20%22markerColor%22%3A%20%22red%22%2C%20%22prefix%22%3A%20%22fa%22%7D%0A%20%20%20%20%20%20%20%20%20%20%20%20%29%3B%0A%20%20%20%20%20%20%20%20%20%20%20%20marker_ddf1d058ae604202ba727d8cd1ce40ae.setIcon%28icon_e4b7fdfa6c494e02b9174358654ed265%29%3B%0A%20%20%20%20%20%20%20%20%0A%20%20%20%20%0A%20%20%20%20%20%20%20%20var%20popup_f9f682c19cca4c5f820b70c094008695%20%3D%20L.popup%28%7B%22maxWidth%22%3A%20%22100%25%22%7D%29%3B%0A%0A%20%20%20%20%20%20%20%20%0A%20%20%20%20%20%20%20%20%20%20%20%20var%20html_55c60523bb2f4f78808cd8a11977d8e7%20%3D%20%24%28%60%3Cdiv%20id%3D%22html_55c60523bb2f4f78808cd8a11977d8e7%22%20style%3D%22width%3A%20100.0%25%3B%20height%3A%20100.0%25%3B%22%3E28%20ST%3C/div%3E%60%29%5B0%5D%3B%0A%20%20%20%20%20%20%20%20%20%20%20%20popup_f9f682c19cca4c5f820b70c094008695.setContent%28html_55c60523bb2f4f78808cd8a11977d8e7%29%3B%0A%20%20%20%20%20%20%20%20%0A%0A%20%20%20%20%20%20%20%20marker_ddf1d058ae604202ba727d8cd1ce40ae.bindPopup%28popup_f9f682c19cca4c5f820b70c094008695%29%0A%20%20%20%20%20%20%20%20%3B%0A%0A%20%20%20%20%20%20%20%20%0A%20%20%20%20%0A%20%20%20%20%0A%20%20%20%20%20%20%20%20%20%20%20%20var%20marker_536fb86a652446898343589f24cb9b0c%20%3D%20L.marker%28%0A%20%20%20%20%20%20%20%20%20%20%20%20%20%20%20%20%5B40.6924706%2C%20-73.9872181%5D%2C%0A%20%20%20%20%20%20%20%20%20%20%20%20%20%20%20%20%7B%7D%0A%20%20%20%20%20%20%20%20%20%20%20%20%29.addTo%28map_b0bf57203c914706b3ec08a5224436e3%29%3B%0A%20%20%20%20%20%20%20%20%0A%20%20%20%20%0A%20%20%20%20%20%20%20%20%20%20%20%20var%20icon_cd660161e37d4f11891cbcd6d8938052%20%3D%20L.AwesomeMarkers.icon%28%0A%20%20%20%20%20%20%20%20%20%20%20%20%20%20%20%20%7B%22extraClasses%22%3A%20%22fa-rotate-0%22%2C%20%22icon%22%3A%20%22subway%22%2C%20%22iconColor%22%3A%20%22white%22%2C%20%22markerColor%22%3A%20%22red%22%2C%20%22prefix%22%3A%20%22fa%22%7D%0A%20%20%20%20%20%20%20%20%20%20%20%20%29%3B%0A%20%20%20%20%20%20%20%20%20%20%20%20marker_536fb86a652446898343589f24cb9b0c.setIcon%28icon_cd660161e37d4f11891cbcd6d8938052%29%3B%0A%20%20%20%20%20%20%20%20%0A%20%20%20%20%0A%20%20%20%20%20%20%20%20var%20popup_a04785e109964b8ab956ad144020a93e%20%3D%20L.popup%28%7B%22maxWidth%22%3A%20%22100%25%22%7D%29%3B%0A%0A%20%20%20%20%20%20%20%20%0A%20%20%20%20%20%20%20%20%20%20%20%20var%20html_cf4fbe64397b4bec93cebd69702b1f53%20%3D%20%24%28%60%3Cdiv%20id%3D%22html_cf4fbe64397b4bec93cebd69702b1f53%22%20style%3D%22width%3A%20100.0%25%3B%20height%3A%20100.0%25%3B%22%3EJAY%20ST%20-%20METROTECH%3C/div%3E%60%29%5B0%5D%3B%0A%20%20%20%20%20%20%20%20%20%20%20%20popup_a04785e109964b8ab956ad144020a93e.setContent%28html_cf4fbe64397b4bec93cebd69702b1f53%29%3B%0A%20%20%20%20%20%20%20%20%0A%0A%20%20%20%20%20%20%20%20marker_536fb86a652446898343589f24cb9b0c.bindPopup%28popup_a04785e109964b8ab956ad144020a93e%29%0A%20%20%20%20%20%20%20%20%3B%0A%0A%20%20%20%20%20%20%20%20%0A%20%20%20%20%0A%20%20%20%20%0A%20%20%20%20%20%20%20%20%20%20%20%20var%20marker_b5e97828c7834735884f8392358ac74f%20%3D%20L.marker%28%0A%20%20%20%20%20%20%20%20%20%20%20%20%20%20%20%20%5B40.7155341%2C%20-74.012051%5D%2C%0A%20%20%20%20%20%20%20%20%20%20%20%20%20%20%20%20%7B%7D%0A%20%20%20%20%20%20%20%20%20%20%20%20%29.addTo%28map_b0bf57203c914706b3ec08a5224436e3%29%3B%0A%20%20%20%20%20%20%20%20%0A%20%20%20%20%0A%20%20%20%20%20%20%20%20%20%20%20%20var%20icon_2fc95118ff3b4a2eb3d934670dfc7ce9%20%3D%20L.AwesomeMarkers.icon%28%0A%20%20%20%20%20%20%20%20%20%20%20%20%20%20%20%20%7B%22extraClasses%22%3A%20%22fa-rotate-0%22%2C%20%22icon%22%3A%20%22shopping-cart%22%2C%20%22iconColor%22%3A%20%22white%22%2C%20%22markerColor%22%3A%20%22lightgreen%22%2C%20%22prefix%22%3A%20%22fa%22%7D%0A%20%20%20%20%20%20%20%20%20%20%20%20%29%3B%0A%20%20%20%20%20%20%20%20%20%20%20%20marker_b5e97828c7834735884f8392358ac74f.setIcon%28icon_2fc95118ff3b4a2eb3d934670dfc7ce9%29%3B%0A%20%20%20%20%20%20%20%20%0A%20%20%20%20%0A%20%20%20%20%20%20%20%20var%20popup_502dbb5692724507af2281165f6751c7%20%3D%20L.popup%28%7B%22maxWidth%22%3A%20%22100%25%22%7D%29%3B%0A%0A%20%20%20%20%20%20%20%20%0A%20%20%20%20%20%20%20%20%20%20%20%20var%20html_57a201ada5744092b3f1b51d7d8492a7%20%3D%20%24%28%60%3Cdiv%20id%3D%22html_57a201ada5744092b3f1b51d7d8492a7%22%20style%3D%22width%3A%20100.0%25%3B%20height%3A%20100.0%25%3B%22%3EWhole%20Foods%20Market%3C/div%3E%60%29%5B0%5D%3B%0A%20%20%20%20%20%20%20%20%20%20%20%20popup_502dbb5692724507af2281165f6751c7.setContent%28html_57a201ada5744092b3f1b51d7d8492a7%29%3B%0A%20%20%20%20%20%20%20%20%0A%0A%20%20%20%20%20%20%20%20marker_b5e97828c7834735884f8392358ac74f.bindPopup%28popup_502dbb5692724507af2281165f6751c7%29%0A%20%20%20%20%20%20%20%20%3B%0A%0A%20%20%20%20%20%20%20%20%0A%20%20%20%20%0A%20%20%20%20%0A%20%20%20%20%20%20%20%20%20%20%20%20var%20marker_b3e61e342048442ea5826a864a88edac%20%3D%20L.marker%28%0A%20%20%20%20%20%20%20%20%20%20%20%20%20%20%20%20%5B40.7593039%2C%20-73.966386%5D%2C%0A%20%20%20%20%20%20%20%20%20%20%20%20%20%20%20%20%7B%7D%0A%20%20%20%20%20%20%20%20%20%20%20%20%29.addTo%28map_b0bf57203c914706b3ec08a5224436e3%29%3B%0A%20%20%20%20%20%20%20%20%0A%20%20%20%20%0A%20%20%20%20%20%20%20%20%20%20%20%20var%20icon_e8f6d4a5fd374816996ef830705f6bb0%20%3D%20L.AwesomeMarkers.icon%28%0A%20%20%20%20%20%20%20%20%20%20%20%20%20%20%20%20%7B%22extraClasses%22%3A%20%22fa-rotate-0%22%2C%20%22icon%22%3A%20%22shopping-cart%22%2C%20%22iconColor%22%3A%20%22white%22%2C%20%22markerColor%22%3A%20%22lightgreen%22%2C%20%22prefix%22%3A%20%22fa%22%7D%0A%20%20%20%20%20%20%20%20%20%20%20%20%29%3B%0A%20%20%20%20%20%20%20%20%20%20%20%20marker_b3e61e342048442ea5826a864a88edac.setIcon%28icon_e8f6d4a5fd374816996ef830705f6bb0%29%3B%0A%20%20%20%20%20%20%20%20%0A%20%20%20%20%0A%20%20%20%20%20%20%20%20var%20popup_45f71969a4504d07bf1560e970e1f469%20%3D%20L.popup%28%7B%22maxWidth%22%3A%20%22100%25%22%7D%29%3B%0A%0A%20%20%20%20%20%20%20%20%0A%20%20%20%20%20%20%20%20%20%20%20%20var%20html_bfb796f27e754a51b71c0fb7a321d98d%20%3D%20%24%28%60%3Cdiv%20id%3D%22html_bfb796f27e754a51b71c0fb7a321d98d%22%20style%3D%22width%3A%20100.0%25%3B%20height%3A%20100.0%25%3B%22%3EWhole%20Foods%20Market%3C/div%3E%60%29%5B0%5D%3B%0A%20%20%20%20%20%20%20%20%20%20%20%20popup_45f71969a4504d07bf1560e970e1f469.setContent%28html_bfb796f27e754a51b71c0fb7a321d98d%29%3B%0A%20%20%20%20%20%20%20%20%0A%0A%20%20%20%20%20%20%20%20marker_b3e61e342048442ea5826a864a88edac.bindPopup%28popup_45f71969a4504d07bf1560e970e1f469%29%0A%20%20%20%20%20%20%20%20%3B%0A%0A%20%20%20%20%20%20%20%20%0A%20%20%20%20%0A%20%20%20%20%0A%20%20%20%20%20%20%20%20%20%20%20%20var%20marker_fbf32e0e16604431bd5ac6a11df6bc4d%20%3D%20L.marker%28%0A%20%20%20%20%20%20%20%20%20%20%20%20%20%20%20%20%5B40.7796707%2C%20-73.952949%5D%2C%0A%20%20%20%20%20%20%20%20%20%20%20%20%20%20%20%20%7B%7D%0A%20%20%20%20%20%20%20%20%20%20%20%20%29.addTo%28map_b0bf57203c914706b3ec08a5224436e3%29%3B%0A%20%20%20%20%20%20%20%20%0A%20%20%20%20%0A%20%20%20%20%20%20%20%20%20%20%20%20var%20icon_58fc19f810d84aeb8e1f5b068064cb4c%20%3D%20L.AwesomeMarkers.icon%28%0A%20%20%20%20%20%20%20%20%20%20%20%20%20%20%20%20%7B%22extraClasses%22%3A%20%22fa-rotate-0%22%2C%20%22icon%22%3A%20%22shopping-cart%22%2C%20%22iconColor%22%3A%20%22white%22%2C%20%22markerColor%22%3A%20%22lightgreen%22%2C%20%22prefix%22%3A%20%22fa%22%7D%0A%20%20%20%20%20%20%20%20%20%20%20%20%29%3B%0A%20%20%20%20%20%20%20%20%20%20%20%20marker_fbf32e0e16604431bd5ac6a11df6bc4d.setIcon%28icon_58fc19f810d84aeb8e1f5b068064cb4c%29%3B%0A%20%20%20%20%20%20%20%20%0A%20%20%20%20%0A%20%20%20%20%20%20%20%20var%20popup_993c64163b8a4963927c1f9b6a4b16ed%20%3D%20L.popup%28%7B%22maxWidth%22%3A%20%22100%25%22%7D%29%3B%0A%0A%20%20%20%20%20%20%20%20%0A%20%20%20%20%20%20%20%20%20%20%20%20var%20html_646fedd835ba48f6a447651a0b7c6fd3%20%3D%20%24%28%60%3Cdiv%20id%3D%22html_646fedd835ba48f6a447651a0b7c6fd3%22%20style%3D%22width%3A%20100.0%25%3B%20height%3A%20100.0%25%3B%22%3EWhole%20Foods%20Market%3C/div%3E%60%29%5B0%5D%3B%0A%20%20%20%20%20%20%20%20%20%20%20%20popup_993c64163b8a4963927c1f9b6a4b16ed.setContent%28html_646fedd835ba48f6a447651a0b7c6fd3%29%3B%0A%20%20%20%20%20%20%20%20%0A%0A%20%20%20%20%20%20%20%20marker_fbf32e0e16604431bd5ac6a11df6bc4d.bindPopup%28popup_993c64163b8a4963927c1f9b6a4b16ed%29%0A%20%20%20%20%20%20%20%20%3B%0A%0A%20%20%20%20%20%20%20%20%0A%20%20%20%20%0A%20%20%20%20%0A%20%20%20%20%20%20%20%20%20%20%20%20var%20marker_3fd3b869fe7e44d79e96a9e5dfb10828%20%3D%20L.marker%28%0A%20%20%20%20%20%20%20%20%20%20%20%20%20%20%20%20%5B40.7161409%2C%20-73.959709%5D%2C%0A%20%20%20%20%20%20%20%20%20%20%20%20%20%20%20%20%7B%7D%0A%20%20%20%20%20%20%20%20%20%20%20%20%29.addTo%28map_b0bf57203c914706b3ec08a5224436e3%29%3B%0A%20%20%20%20%20%20%20%20%0A%20%20%20%20%0A%20%20%20%20%20%20%20%20%20%20%20%20var%20icon_6f73fe219a954738a2d908b4634126f4%20%3D%20L.AwesomeMarkers.icon%28%0A%20%20%20%20%20%20%20%20%20%20%20%20%20%20%20%20%7B%22extraClasses%22%3A%20%22fa-rotate-0%22%2C%20%22icon%22%3A%20%22shopping-cart%22%2C%20%22iconColor%22%3A%20%22white%22%2C%20%22markerColor%22%3A%20%22lightgreen%22%2C%20%22prefix%22%3A%20%22fa%22%7D%0A%20%20%20%20%20%20%20%20%20%20%20%20%29%3B%0A%20%20%20%20%20%20%20%20%20%20%20%20marker_3fd3b869fe7e44d79e96a9e5dfb10828.setIcon%28icon_6f73fe219a954738a2d908b4634126f4%29%3B%0A%20%20%20%20%20%20%20%20%0A%20%20%20%20%0A%20%20%20%20%20%20%20%20var%20popup_be9e6aaaa90342048dbd2c5dfb1d0044%20%3D%20L.popup%28%7B%22maxWidth%22%3A%20%22100%25%22%7D%29%3B%0A%0A%20%20%20%20%20%20%20%20%0A%20%20%20%20%20%20%20%20%20%20%20%20var%20html_80e76031245542e0a4c6e5f8c05f8034%20%3D%20%24%28%60%3Cdiv%20id%3D%22html_80e76031245542e0a4c6e5f8c05f8034%22%20style%3D%22width%3A%20100.0%25%3B%20height%3A%20100.0%25%3B%22%3EWhole%20Foods%20Market%3C/div%3E%60%29%5B0%5D%3B%0A%20%20%20%20%20%20%20%20%20%20%20%20popup_be9e6aaaa90342048dbd2c5dfb1d0044.setContent%28html_80e76031245542e0a4c6e5f8c05f8034%29%3B%0A%20%20%20%20%20%20%20%20%0A%0A%20%20%20%20%20%20%20%20marker_3fd3b869fe7e44d79e96a9e5dfb10828.bindPopup%28popup_be9e6aaaa90342048dbd2c5dfb1d0044%29%0A%20%20%20%20%20%20%20%20%3B%0A%0A%20%20%20%20%20%20%20%20%0A%20%20%20%20%0A%20%20%20%20%0A%20%20%20%20%20%20%20%20%20%20%20%20var%20marker_b400625e4c924ebc9d98da12cd918196%20%3D%20L.marker%28%0A%20%20%20%20%20%20%20%20%20%20%20%20%20%20%20%20%5B40.7685526%2C%20-73.983186%5D%2C%0A%20%20%20%20%20%20%20%20%20%20%20%20%20%20%20%20%7B%7D%0A%20%20%20%20%20%20%20%20%20%20%20%20%29.addTo%28map_b0bf57203c914706b3ec08a5224436e3%29%3B%0A%20%20%20%20%20%20%20%20%0A%20%20%20%20%0A%20%20%20%20%20%20%20%20%20%20%20%20var%20icon_0987b0400a7149f5aa664272b3c3722c%20%3D%20L.AwesomeMarkers.icon%28%0A%20%20%20%20%20%20%20%20%20%20%20%20%20%20%20%20%7B%22extraClasses%22%3A%20%22fa-rotate-0%22%2C%20%22icon%22%3A%20%22shopping-cart%22%2C%20%22iconColor%22%3A%20%22white%22%2C%20%22markerColor%22%3A%20%22lightgreen%22%2C%20%22prefix%22%3A%20%22fa%22%7D%0A%20%20%20%20%20%20%20%20%20%20%20%20%29%3B%0A%20%20%20%20%20%20%20%20%20%20%20%20marker_b400625e4c924ebc9d98da12cd918196.setIcon%28icon_0987b0400a7149f5aa664272b3c3722c%29%3B%0A%20%20%20%20%20%20%20%20%0A%20%20%20%20%0A%20%20%20%20%20%20%20%20var%20popup_0a9261e0f01c48309f9e6846008b0529%20%3D%20L.popup%28%7B%22maxWidth%22%3A%20%22100%25%22%7D%29%3B%0A%0A%20%20%20%20%20%20%20%20%0A%20%20%20%20%20%20%20%20%20%20%20%20var%20html_e58cf6a968b04d5588cdc4d821a85f0e%20%3D%20%24%28%60%3Cdiv%20id%3D%22html_e58cf6a968b04d5588cdc4d821a85f0e%22%20style%3D%22width%3A%20100.0%25%3B%20height%3A%20100.0%25%3B%22%3EWhole%20Foods%20Market%3C/div%3E%60%29%5B0%5D%3B%0A%20%20%20%20%20%20%20%20%20%20%20%20popup_0a9261e0f01c48309f9e6846008b0529.setContent%28html_e58cf6a968b04d5588cdc4d821a85f0e%29%3B%0A%20%20%20%20%20%20%20%20%0A%0A%20%20%20%20%20%20%20%20marker_b400625e4c924ebc9d98da12cd918196.bindPopup%28popup_0a9261e0f01c48309f9e6846008b0529%29%0A%20%20%20%20%20%20%20%20%3B%0A%0A%20%20%20%20%20%20%20%20%0A%20%20%20%20%0A%20%20%20%20%0A%20%20%20%20%20%20%20%20%20%20%20%20var%20marker_06d710eac7ed4250bcda7671d50187d7%20%3D%20L.marker%28%0A%20%20%20%20%20%20%20%20%20%20%20%20%20%20%20%20%5B40.7238246%2C%20-73.99231%5D%2C%0A%20%20%20%20%20%20%20%20%20%20%20%20%20%20%20%20%7B%7D%0A%20%20%20%20%20%20%20%20%20%20%20%20%29.addTo%28map_b0bf57203c914706b3ec08a5224436e3%29%3B%0A%20%20%20%20%20%20%20%20%0A%20%20%20%20%0A%20%20%20%20%20%20%20%20%20%20%20%20var%20icon_da9dc3718a674e69a60b8915af1c5cb2%20%3D%20L.AwesomeMarkers.icon%28%0A%20%20%20%20%20%20%20%20%20%20%20%20%20%20%20%20%7B%22extraClasses%22%3A%20%22fa-rotate-0%22%2C%20%22icon%22%3A%20%22shopping-cart%22%2C%20%22iconColor%22%3A%20%22white%22%2C%20%22markerColor%22%3A%20%22lightgreen%22%2C%20%22prefix%22%3A%20%22fa%22%7D%0A%20%20%20%20%20%20%20%20%20%20%20%20%29%3B%0A%20%20%20%20%20%20%20%20%20%20%20%20marker_06d710eac7ed4250bcda7671d50187d7.setIcon%28icon_da9dc3718a674e69a60b8915af1c5cb2%29%3B%0A%20%20%20%20%20%20%20%20%0A%20%20%20%20%0A%20%20%20%20%20%20%20%20var%20popup_04ae53fb423f4bebb33c3921b97a810a%20%3D%20L.popup%28%7B%22maxWidth%22%3A%20%22100%25%22%7D%29%3B%0A%0A%20%20%20%20%20%20%20%20%0A%20%20%20%20%20%20%20%20%20%20%20%20var%20html_380eadc89ba5437587826d9846b36de1%20%3D%20%24%28%60%3Cdiv%20id%3D%22html_380eadc89ba5437587826d9846b36de1%22%20style%3D%22width%3A%20100.0%25%3B%20height%3A%20100.0%25%3B%22%3EWhole%20Foods%20Market%3C/div%3E%60%29%5B0%5D%3B%0A%20%20%20%20%20%20%20%20%20%20%20%20popup_04ae53fb423f4bebb33c3921b97a810a.setContent%28html_380eadc89ba5437587826d9846b36de1%29%3B%0A%20%20%20%20%20%20%20%20%0A%0A%20%20%20%20%20%20%20%20marker_06d710eac7ed4250bcda7671d50187d7.bindPopup%28popup_04ae53fb423f4bebb33c3921b97a810a%29%0A%20%20%20%20%20%20%20%20%3B%0A%0A%20%20%20%20%20%20%20%20%0A%20%20%20%20%0A%20%20%20%20%0A%20%20%20%20%20%20%20%20%20%20%20%20var%20marker_85ab6c5829564b77a7893b5be82bcce2%20%3D%20L.marker%28%0A%20%20%20%20%20%20%20%20%20%20%20%20%20%20%20%20%5B40.7449592%2C%20-73.995291%5D%2C%0A%20%20%20%20%20%20%20%20%20%20%20%20%20%20%20%20%7B%7D%0A%20%20%20%20%20%20%20%20%20%20%20%20%29.addTo%28map_b0bf57203c914706b3ec08a5224436e3%29%3B%0A%20%20%20%20%20%20%20%20%0A%20%20%20%20%0A%20%20%20%20%20%20%20%20%20%20%20%20var%20icon_e718ef9ffd424329904fb3069688c859%20%3D%20L.AwesomeMarkers.icon%28%0A%20%20%20%20%20%20%20%20%20%20%20%20%20%20%20%20%7B%22extraClasses%22%3A%20%22fa-rotate-0%22%2C%20%22icon%22%3A%20%22shopping-cart%22%2C%20%22iconColor%22%3A%20%22white%22%2C%20%22markerColor%22%3A%20%22lightgreen%22%2C%20%22prefix%22%3A%20%22fa%22%7D%0A%20%20%20%20%20%20%20%20%20%20%20%20%29%3B%0A%20%20%20%20%20%20%20%20%20%20%20%20marker_85ab6c5829564b77a7893b5be82bcce2.setIcon%28icon_e718ef9ffd424329904fb3069688c859%29%3B%0A%20%20%20%20%20%20%20%20%0A%20%20%20%20%0A%20%20%20%20%20%20%20%20var%20popup_dc4817b83ffb4581a8860622809586b1%20%3D%20L.popup%28%7B%22maxWidth%22%3A%20%22100%25%22%7D%29%3B%0A%0A%20%20%20%20%20%20%20%20%0A%20%20%20%20%20%20%20%20%20%20%20%20var%20html_056d2e26f154479f96ed10f63317db54%20%3D%20%24%28%60%3Cdiv%20id%3D%22html_056d2e26f154479f96ed10f63317db54%22%20style%3D%22width%3A%20100.0%25%3B%20height%3A%20100.0%25%3B%22%3EWhole%20Foods%20Market%3C/div%3E%60%29%5B0%5D%3B%0A%20%20%20%20%20%20%20%20%20%20%20%20popup_dc4817b83ffb4581a8860622809586b1.setContent%28html_056d2e26f154479f96ed10f63317db54%29%3B%0A%20%20%20%20%20%20%20%20%0A%0A%20%20%20%20%20%20%20%20marker_85ab6c5829564b77a7893b5be82bcce2.bindPopup%28popup_dc4817b83ffb4581a8860622809586b1%29%0A%20%20%20%20%20%20%20%20%3B%0A%0A%20%20%20%20%20%20%20%20%0A%20%20%20%20%0A%20%20%20%20%0A%20%20%20%20%20%20%20%20%20%20%20%20var%20marker_9e0ae9743f3f4411b99f9c930f549213%20%3D%20L.marker%28%0A%20%20%20%20%20%20%20%20%20%20%20%20%20%20%20%20%5B40.6748928%2C%20-73.988787%5D%2C%0A%20%20%20%20%20%20%20%20%20%20%20%20%20%20%20%20%7B%7D%0A%20%20%20%20%20%20%20%20%20%20%20%20%29.addTo%28map_b0bf57203c914706b3ec08a5224436e3%29%3B%0A%20%20%20%20%20%20%20%20%0A%20%20%20%20%0A%20%20%20%20%20%20%20%20%20%20%20%20var%20icon_de49887a50ff4f0ba8613c43ddd83165%20%3D%20L.AwesomeMarkers.icon%28%0A%20%20%20%20%20%20%20%20%20%20%20%20%20%20%20%20%7B%22extraClasses%22%3A%20%22fa-rotate-0%22%2C%20%22icon%22%3A%20%22shopping-cart%22%2C%20%22iconColor%22%3A%20%22white%22%2C%20%22markerColor%22%3A%20%22lightgreen%22%2C%20%22prefix%22%3A%20%22fa%22%7D%0A%20%20%20%20%20%20%20%20%20%20%20%20%29%3B%0A%20%20%20%20%20%20%20%20%20%20%20%20marker_9e0ae9743f3f4411b99f9c930f549213.setIcon%28icon_de49887a50ff4f0ba8613c43ddd83165%29%3B%0A%20%20%20%20%20%20%20%20%0A%20%20%20%20%0A%20%20%20%20%20%20%20%20var%20popup_1ad07941603f4ae79b663820418602b2%20%3D%20L.popup%28%7B%22maxWidth%22%3A%20%22100%25%22%7D%29%3B%0A%0A%20%20%20%20%20%20%20%20%0A%20%20%20%20%20%20%20%20%20%20%20%20var%20html_fa22247cbdfc4921b349df1e09fc279d%20%3D%20%24%28%60%3Cdiv%20id%3D%22html_fa22247cbdfc4921b349df1e09fc279d%22%20style%3D%22width%3A%20100.0%25%3B%20height%3A%20100.0%25%3B%22%3EWhole%20Foods%20Market%3C/div%3E%60%29%5B0%5D%3B%0A%20%20%20%20%20%20%20%20%20%20%20%20popup_1ad07941603f4ae79b663820418602b2.setContent%28html_fa22247cbdfc4921b349df1e09fc279d%29%3B%0A%20%20%20%20%20%20%20%20%0A%0A%20%20%20%20%20%20%20%20marker_9e0ae9743f3f4411b99f9c930f549213.bindPopup%28popup_1ad07941603f4ae79b663820418602b2%29%0A%20%20%20%20%20%20%20%20%3B%0A%0A%20%20%20%20%20%20%20%20%0A%20%20%20%20%0A%20%20%20%20%0A%20%20%20%20%20%20%20%20%20%20%20%20var%20marker_24823470d6424e95bbbc7b1d50c747cf%20%3D%20L.marker%28%0A%20%20%20%20%20%20%20%20%20%20%20%20%20%20%20%20%5B40.6864068%2C%20-73.978392%5D%2C%0A%20%20%20%20%20%20%20%20%20%20%20%20%20%20%20%20%7B%7D%0A%20%20%20%20%20%20%20%20%20%20%20%20%29.addTo%28map_b0bf57203c914706b3ec08a5224436e3%29%3B%0A%20%20%20%20%20%20%20%20%0A%20%20%20%20%0A%20%20%20%20%20%20%20%20%20%20%20%20var%20icon_452d8f34d9c24fe7a88488f602b0e97a%20%3D%20L.AwesomeMarkers.icon%28%0A%20%20%20%20%20%20%20%20%20%20%20%20%20%20%20%20%7B%22extraClasses%22%3A%20%22fa-rotate-0%22%2C%20%22icon%22%3A%20%22shopping-cart%22%2C%20%22iconColor%22%3A%20%22white%22%2C%20%22markerColor%22%3A%20%22lightgreen%22%2C%20%22prefix%22%3A%20%22fa%22%7D%0A%20%20%20%20%20%20%20%20%20%20%20%20%29%3B%0A%20%20%20%20%20%20%20%20%20%20%20%20marker_24823470d6424e95bbbc7b1d50c747cf.setIcon%28icon_452d8f34d9c24fe7a88488f602b0e97a%29%3B%0A%20%20%20%20%20%20%20%20%0A%20%20%20%20%0A%20%20%20%20%20%20%20%20var%20popup_d7ccc97f0c32457494c98f13e2b9243f%20%3D%20L.popup%28%7B%22maxWidth%22%3A%20%22100%25%22%7D%29%3B%0A%0A%20%20%20%20%20%20%20%20%0A%20%20%20%20%20%20%20%20%20%20%20%20var%20html_332ee6c7babc4aa4815f76cd4212140e%20%3D%20%24%28%60%3Cdiv%20id%3D%22html_332ee6c7babc4aa4815f76cd4212140e%22%20style%3D%22width%3A%20100.0%25%3B%20height%3A%20100.0%25%3B%22%3EWhole%20Foods%20Market%3C/div%3E%60%29%5B0%5D%3B%0A%20%20%20%20%20%20%20%20%20%20%20%20popup_d7ccc97f0c32457494c98f13e2b9243f.setContent%28html_332ee6c7babc4aa4815f76cd4212140e%29%3B%0A%20%20%20%20%20%20%20%20%0A%0A%20%20%20%20%20%20%20%20marker_24823470d6424e95bbbc7b1d50c747cf.bindPopup%28popup_d7ccc97f0c32457494c98f13e2b9243f%29%0A%20%20%20%20%20%20%20%20%3B%0A%0A%20%20%20%20%20%20%20%20%0A%20%20%20%20%0A%20%20%20%20%0A%20%20%20%20%20%20%20%20%20%20%20%20var%20marker_61e2be34913540409a23db76d3e9bd2e%20%3D%20L.marker%28%0A%20%20%20%20%20%20%20%20%20%20%20%20%20%20%20%20%5B40.7348175%2C%20-73.991186%5D%2C%0A%20%20%20%20%20%20%20%20%20%20%20%20%20%20%20%20%7B%7D%0A%20%20%20%20%20%20%20%20%20%20%20%20%29.addTo%28map_b0bf57203c914706b3ec08a5224436e3%29%3B%0A%20%20%20%20%20%20%20%20%0A%20%20%20%20%0A%20%20%20%20%20%20%20%20%20%20%20%20var%20icon_93580072d5314f00b6486a6017b7b144%20%3D%20L.AwesomeMarkers.icon%28%0A%20%20%20%20%20%20%20%20%20%20%20%20%20%20%20%20%7B%22extraClasses%22%3A%20%22fa-rotate-0%22%2C%20%22icon%22%3A%20%22shopping-cart%22%2C%20%22iconColor%22%3A%20%22white%22%2C%20%22markerColor%22%3A%20%22lightgreen%22%2C%20%22prefix%22%3A%20%22fa%22%7D%0A%20%20%20%20%20%20%20%20%20%20%20%20%29%3B%0A%20%20%20%20%20%20%20%20%20%20%20%20marker_61e2be34913540409a23db76d3e9bd2e.setIcon%28icon_93580072d5314f00b6486a6017b7b144%29%3B%0A%20%20%20%20%20%20%20%20%0A%20%20%20%20%0A%20%20%20%20%20%20%20%20var%20popup_30e2a0b103b04d9aa327569cb2a61e5f%20%3D%20L.popup%28%7B%22maxWidth%22%3A%20%22100%25%22%7D%29%3B%0A%0A%20%20%20%20%20%20%20%20%0A%20%20%20%20%20%20%20%20%20%20%20%20var%20html_da7b1222ef4d41cfaee2dc81fa3296b9%20%3D%20%24%28%60%3Cdiv%20id%3D%22html_da7b1222ef4d41cfaee2dc81fa3296b9%22%20style%3D%22width%3A%20100.0%25%3B%20height%3A%20100.0%25%3B%22%3EWhole%20Foods%20Market%3C/div%3E%60%29%5B0%5D%3B%0A%20%20%20%20%20%20%20%20%20%20%20%20popup_30e2a0b103b04d9aa327569cb2a61e5f.setContent%28html_da7b1222ef4d41cfaee2dc81fa3296b9%29%3B%0A%20%20%20%20%20%20%20%20%0A%0A%20%20%20%20%20%20%20%20marker_61e2be34913540409a23db76d3e9bd2e.bindPopup%28popup_30e2a0b103b04d9aa327569cb2a61e5f%29%0A%20%20%20%20%20%20%20%20%3B%0A%0A%20%20%20%20%20%20%20%20%0A%20%20%20%20%0A%20%20%20%20%0A%20%20%20%20%20%20%20%20%20%20%20%20var%20marker_e43b57affbd14a7ca42b3c97eced3452%20%3D%20L.marker%28%0A%20%20%20%20%20%20%20%20%20%20%20%20%20%20%20%20%5B40.7439882%2C%20-73.979083%5D%2C%0A%20%20%20%20%20%20%20%20%20%20%20%20%20%20%20%20%7B%7D%0A%20%20%20%20%20%20%20%20%20%20%20%20%29.addTo%28map_b0bf57203c914706b3ec08a5224436e3%29%3B%0A%20%20%20%20%20%20%20%20%0A%20%20%20%20%0A%20%20%20%20%20%20%20%20%20%20%20%20var%20icon_bf16af7616b94e07b16647d6be667149%20%3D%20L.AwesomeMarkers.icon%28%0A%20%20%20%20%20%20%20%20%20%20%20%20%20%20%20%20%7B%22extraClasses%22%3A%20%22fa-rotate-0%22%2C%20%22icon%22%3A%20%22shopping-cart%22%2C%20%22iconColor%22%3A%20%22white%22%2C%20%22markerColor%22%3A%20%22lightgreen%22%2C%20%22prefix%22%3A%20%22fa%22%7D%0A%20%20%20%20%20%20%20%20%20%20%20%20%29%3B%0A%20%20%20%20%20%20%20%20%20%20%20%20marker_e43b57affbd14a7ca42b3c97eced3452.setIcon%28icon_bf16af7616b94e07b16647d6be667149%29%3B%0A%20%20%20%20%20%20%20%20%0A%20%20%20%20%0A%20%20%20%20%20%20%20%20var%20popup_4e6039470cfc477aa7079da520836093%20%3D%20L.popup%28%7B%22maxWidth%22%3A%20%22100%25%22%7D%29%3B%0A%0A%20%20%20%20%20%20%20%20%0A%20%20%20%20%20%20%20%20%20%20%20%20var%20html_0c9887e895c44ef9aeb97cd133fb870e%20%3D%20%24%28%60%3Cdiv%20id%3D%22html_0c9887e895c44ef9aeb97cd133fb870e%22%20style%3D%22width%3A%20100.0%25%3B%20height%3A%20100.0%25%3B%22%3ETrader%20Joe%27s%3C/div%3E%60%29%5B0%5D%3B%0A%20%20%20%20%20%20%20%20%20%20%20%20popup_4e6039470cfc477aa7079da520836093.setContent%28html_0c9887e895c44ef9aeb97cd133fb870e%29%3B%0A%20%20%20%20%20%20%20%20%0A%0A%20%20%20%20%20%20%20%20marker_e43b57affbd14a7ca42b3c97eced3452.bindPopup%28popup_4e6039470cfc477aa7079da520836093%29%0A%20%20%20%20%20%20%20%20%3B%0A%0A%20%20%20%20%20%20%20%20%0A%20%20%20%20%0A%20%20%20%20%0A%20%20%20%20%20%20%20%20%20%20%20%20var%20marker_043b56e119ec4c708d79d2230689c0a4%20%3D%20L.marker%28%0A%20%20%20%20%20%20%20%20%20%20%20%20%20%20%20%20%5B40.6914596%2C%20-73.98278%5D%2C%0A%20%20%20%20%20%20%20%20%20%20%20%20%20%20%20%20%7B%7D%0A%20%20%20%20%20%20%20%20%20%20%20%20%29.addTo%28map_b0bf57203c914706b3ec08a5224436e3%29%3B%0A%20%20%20%20%20%20%20%20%0A%20%20%20%20%0A%20%20%20%20%20%20%20%20%20%20%20%20var%20icon_7bbee4e1a66e4dc7af2d437affd9d660%20%3D%20L.AwesomeMarkers.icon%28%0A%20%20%20%20%20%20%20%20%20%20%20%20%20%20%20%20%7B%22extraClasses%22%3A%20%22fa-rotate-0%22%2C%20%22icon%22%3A%20%22shopping-cart%22%2C%20%22iconColor%22%3A%20%22white%22%2C%20%22markerColor%22%3A%20%22lightgreen%22%2C%20%22prefix%22%3A%20%22fa%22%7D%0A%20%20%20%20%20%20%20%20%20%20%20%20%29%3B%0A%20%20%20%20%20%20%20%20%20%20%20%20marker_043b56e119ec4c708d79d2230689c0a4.setIcon%28icon_7bbee4e1a66e4dc7af2d437affd9d660%29%3B%0A%20%20%20%20%20%20%20%20%0A%20%20%20%20%0A%20%20%20%20%20%20%20%20var%20popup_25857a2657f64738a0ab79ef6792fa85%20%3D%20L.popup%28%7B%22maxWidth%22%3A%20%22100%25%22%7D%29%3B%0A%0A%20%20%20%20%20%20%20%20%0A%20%20%20%20%20%20%20%20%20%20%20%20var%20html_7557cff19d1748be982dfdc0cf40d653%20%3D%20%24%28%60%3Cdiv%20id%3D%22html_7557cff19d1748be982dfdc0cf40d653%22%20style%3D%22width%3A%20100.0%25%3B%20height%3A%20100.0%25%3B%22%3ETrader%20Joe%27s%3C/div%3E%60%29%5B0%5D%3B%0A%20%20%20%20%20%20%20%20%20%20%20%20popup_25857a2657f64738a0ab79ef6792fa85.setContent%28html_7557cff19d1748be982dfdc0cf40d653%29%3B%0A%20%20%20%20%20%20%20%20%0A%0A%20%20%20%20%20%20%20%20marker_043b56e119ec4c708d79d2230689c0a4.bindPopup%28popup_25857a2657f64738a0ab79ef6792fa85%29%0A%20%20%20%20%20%20%20%20%3B%0A%0A%20%20%20%20%20%20%20%20%0A%20%20%20%20%0A%20%20%20%20%0A%20%20%20%20%20%20%20%20%20%20%20%20var%20marker_f163a40abda843639acc0237e256bf8d%20%3D%20L.marker%28%0A%20%20%20%20%20%20%20%20%20%20%20%20%20%20%20%20%5B40.7785639%2C%20-73.982314%5D%2C%0A%20%20%20%20%20%20%20%20%20%20%20%20%20%20%20%20%7B%7D%0A%20%20%20%20%20%20%20%20%20%20%20%20%29.addTo%28map_b0bf57203c914706b3ec08a5224436e3%29%3B%0A%20%20%20%20%20%20%20%20%0A%20%20%20%20%0A%20%20%20%20%20%20%20%20%20%20%20%20var%20icon_47b082b214a1476ca1108760738522e3%20%3D%20L.AwesomeMarkers.icon%28%0A%20%20%20%20%20%20%20%20%20%20%20%20%20%20%20%20%7B%22extraClasses%22%3A%20%22fa-rotate-0%22%2C%20%22icon%22%3A%20%22shopping-cart%22%2C%20%22iconColor%22%3A%20%22white%22%2C%20%22markerColor%22%3A%20%22lightgreen%22%2C%20%22prefix%22%3A%20%22fa%22%7D%0A%20%20%20%20%20%20%20%20%20%20%20%20%29%3B%0A%20%20%20%20%20%20%20%20%20%20%20%20marker_f163a40abda843639acc0237e256bf8d.setIcon%28icon_47b082b214a1476ca1108760738522e3%29%3B%0A%20%20%20%20%20%20%20%20%0A%20%20%20%20%0A%20%20%20%20%20%20%20%20var%20popup_c6274188e8004ff2aa32cf578c1c1d36%20%3D%20L.popup%28%7B%22maxWidth%22%3A%20%22100%25%22%7D%29%3B%0A%0A%20%20%20%20%20%20%20%20%0A%20%20%20%20%20%20%20%20%20%20%20%20var%20html_691c4bad6ee042528e4ec303d06f7803%20%3D%20%24%28%60%3Cdiv%20id%3D%22html_691c4bad6ee042528e4ec303d06f7803%22%20style%3D%22width%3A%20100.0%25%3B%20height%3A%20100.0%25%3B%22%3ETrader%20Joe%27s%3C/div%3E%60%29%5B0%5D%3B%0A%20%20%20%20%20%20%20%20%20%20%20%20popup_c6274188e8004ff2aa32cf578c1c1d36.setContent%28html_691c4bad6ee042528e4ec303d06f7803%29%3B%0A%20%20%20%20%20%20%20%20%0A%0A%20%20%20%20%20%20%20%20marker_f163a40abda843639acc0237e256bf8d.bindPopup%28popup_c6274188e8004ff2aa32cf578c1c1d36%29%0A%20%20%20%20%20%20%20%20%3B%0A%0A%20%20%20%20%20%20%20%20%0A%20%20%20%20%0A%20%20%20%20%0A%20%20%20%20%20%20%20%20%20%20%20%20var%20marker_c5dd259fce154d34a57778c4fcd765b1%20%3D%20L.marker%28%0A%20%20%20%20%20%20%20%20%20%20%20%20%20%20%20%20%5B40.710916%2C%20-73.858262%5D%2C%0A%20%20%20%20%20%20%20%20%20%20%20%20%20%20%20%20%7B%7D%0A%20%20%20%20%20%20%20%20%20%20%20%20%29.addTo%28map_b0bf57203c914706b3ec08a5224436e3%29%3B%0A%20%20%20%20%20%20%20%20%0A%20%20%20%20%0A%20%20%20%20%20%20%20%20%20%20%20%20var%20icon_859b614b4db44663bcfee118749b5902%20%3D%20L.AwesomeMarkers.icon%28%0A%20%20%20%20%20%20%20%20%20%20%20%20%20%20%20%20%7B%22extraClasses%22%3A%20%22fa-rotate-0%22%2C%20%22icon%22%3A%20%22shopping-cart%22%2C%20%22iconColor%22%3A%20%22white%22%2C%20%22markerColor%22%3A%20%22lightgreen%22%2C%20%22prefix%22%3A%20%22fa%22%7D%0A%20%20%20%20%20%20%20%20%20%20%20%20%29%3B%0A%20%20%20%20%20%20%20%20%20%20%20%20marker_c5dd259fce154d34a57778c4fcd765b1.setIcon%28icon_859b614b4db44663bcfee118749b5902%29%3B%0A%20%20%20%20%20%20%20%20%0A%20%20%20%20%0A%20%20%20%20%20%20%20%20var%20popup_83e6e9ae811444cdba6cb488308de89a%20%3D%20L.popup%28%7B%22maxWidth%22%3A%20%22100%25%22%7D%29%3B%0A%0A%20%20%20%20%20%20%20%20%0A%20%20%20%20%20%20%20%20%20%20%20%20var%20html_07795cc439794b928b8949d6b2682730%20%3D%20%24%28%60%3Cdiv%20id%3D%22html_07795cc439794b928b8949d6b2682730%22%20style%3D%22width%3A%20100.0%25%3B%20height%3A%20100.0%25%3B%22%3ETrader%20Joe%27s%3C/div%3E%60%29%5B0%5D%3B%0A%20%20%20%20%20%20%20%20%20%20%20%20popup_83e6e9ae811444cdba6cb488308de89a.setContent%28html_07795cc439794b928b8949d6b2682730%29%3B%0A%20%20%20%20%20%20%20%20%0A%0A%20%20%20%20%20%20%20%20marker_c5dd259fce154d34a57778c4fcd765b1.bindPopup%28popup_83e6e9ae811444cdba6cb488308de89a%29%0A%20%20%20%20%20%20%20%20%3B%0A%0A%20%20%20%20%20%20%20%20%0A%20%20%20%20%0A%20%20%20%20%0A%20%20%20%20%20%20%20%20%20%20%20%20var%20marker_89d3d6a793f94c6b8a4df2148f1631b0%20%3D%20L.marker%28%0A%20%20%20%20%20%20%20%20%20%20%20%20%20%20%20%20%5B40.733371%2C%20-73.987896%5D%2C%0A%20%20%20%20%20%20%20%20%20%20%20%20%20%20%20%20%7B%7D%0A%20%20%20%20%20%20%20%20%20%20%20%20%29.addTo%28map_b0bf57203c914706b3ec08a5224436e3%29%3B%0A%20%20%20%20%20%20%20%20%0A%20%20%20%20%0A%20%20%20%20%20%20%20%20%20%20%20%20var%20icon_8c9022d8d8174e42aaa8d070ac217c42%20%3D%20L.AwesomeMarkers.icon%28%0A%20%20%20%20%20%20%20%20%20%20%20%20%20%20%20%20%7B%22extraClasses%22%3A%20%22fa-rotate-0%22%2C%20%22icon%22%3A%20%22shopping-cart%22%2C%20%22iconColor%22%3A%20%22white%22%2C%20%22markerColor%22%3A%20%22lightgreen%22%2C%20%22prefix%22%3A%20%22fa%22%7D%0A%20%20%20%20%20%20%20%20%20%20%20%20%29%3B%0A%20%20%20%20%20%20%20%20%20%20%20%20marker_89d3d6a793f94c6b8a4df2148f1631b0.setIcon%28icon_8c9022d8d8174e42aaa8d070ac217c42%29%3B%0A%20%20%20%20%20%20%20%20%0A%20%20%20%20%0A%20%20%20%20%20%20%20%20var%20popup_7bcd451d95de4fd2acaeff106b511a1f%20%3D%20L.popup%28%7B%22maxWidth%22%3A%20%22100%25%22%7D%29%3B%0A%0A%20%20%20%20%20%20%20%20%0A%20%20%20%20%20%20%20%20%20%20%20%20var%20html_c44487863c5f42aabfa91319dd57cc92%20%3D%20%24%28%60%3Cdiv%20id%3D%22html_c44487863c5f42aabfa91319dd57cc92%22%20style%3D%22width%3A%20100.0%25%3B%20height%3A%20100.0%25%3B%22%3ETrader%20Joe%27s%3C/div%3E%60%29%5B0%5D%3B%0A%20%20%20%20%20%20%20%20%20%20%20%20popup_7bcd451d95de4fd2acaeff106b511a1f.setContent%28html_c44487863c5f42aabfa91319dd57cc92%29%3B%0A%20%20%20%20%20%20%20%20%0A%0A%20%20%20%20%20%20%20%20marker_89d3d6a793f94c6b8a4df2148f1631b0.bindPopup%28popup_7bcd451d95de4fd2acaeff106b511a1f%29%0A%20%20%20%20%20%20%20%20%3B%0A%0A%20%20%20%20%20%20%20%20%0A%20%20%20%20%0A%20%20%20%20%0A%20%20%20%20%20%20%20%20%20%20%20%20var%20marker_06b23956ec5842bb8dfab7d13f2b7ebd%20%3D%20L.marker%28%0A%20%20%20%20%20%20%20%20%20%20%20%20%20%20%20%20%5B40.7164903%2C%20-73.986771%5D%2C%0A%20%20%20%20%20%20%20%20%20%20%20%20%20%20%20%20%7B%7D%0A%20%20%20%20%20%20%20%20%20%20%20%20%29.addTo%28map_b0bf57203c914706b3ec08a5224436e3%29%3B%0A%20%20%20%20%20%20%20%20%0A%20%20%20%20%0A%20%20%20%20%20%20%20%20%20%20%20%20var%20icon_808dd075f3e94bae8708add0941c5456%20%3D%20L.AwesomeMarkers.icon%28%0A%20%20%20%20%20%20%20%20%20%20%20%20%20%20%20%20%7B%22extraClasses%22%3A%20%22fa-rotate-0%22%2C%20%22icon%22%3A%20%22shopping-cart%22%2C%20%22iconColor%22%3A%20%22white%22%2C%20%22markerColor%22%3A%20%22lightgreen%22%2C%20%22prefix%22%3A%20%22fa%22%7D%0A%20%20%20%20%20%20%20%20%20%20%20%20%29%3B%0A%20%20%20%20%20%20%20%20%20%20%20%20marker_06b23956ec5842bb8dfab7d13f2b7ebd.setIcon%28icon_808dd075f3e94bae8708add0941c5456%29%3B%0A%20%20%20%20%20%20%20%20%0A%20%20%20%20%0A%20%20%20%20%20%20%20%20var%20popup_252f335a9e1c446d8c5a2713a5599724%20%3D%20L.popup%28%7B%22maxWidth%22%3A%20%22100%25%22%7D%29%3B%0A%0A%20%20%20%20%20%20%20%20%0A%20%20%20%20%20%20%20%20%20%20%20%20var%20html_579ec46263ed4d829cbcc235dc0cde94%20%3D%20%24%28%60%3Cdiv%20id%3D%22html_579ec46263ed4d829cbcc235dc0cde94%22%20style%3D%22width%3A%20100.0%25%3B%20height%3A%20100.0%25%3B%22%3ETrader%20Joe%27s%3C/div%3E%60%29%5B0%5D%3B%0A%20%20%20%20%20%20%20%20%20%20%20%20popup_252f335a9e1c446d8c5a2713a5599724.setContent%28html_579ec46263ed4d829cbcc235dc0cde94%29%3B%0A%20%20%20%20%20%20%20%20%0A%0A%20%20%20%20%20%20%20%20marker_06b23956ec5842bb8dfab7d13f2b7ebd.bindPopup%28popup_252f335a9e1c446d8c5a2713a5599724%29%0A%20%20%20%20%20%20%20%20%3B%0A%0A%20%20%20%20%20%20%20%20%0A%20%20%20%20%0A%20%20%20%20%0A%20%20%20%20%20%20%20%20%20%20%20%20var%20marker_ee7e39f2fedf45ba9b5cc222e9d4d845%20%3D%20L.marker%28%0A%20%20%20%20%20%20%20%20%20%20%20%20%20%20%20%20%5B40.6895837%2C%20-73.992869%5D%2C%0A%20%20%20%20%20%20%20%20%20%20%20%20%20%20%20%20%7B%7D%0A%20%20%20%20%20%20%20%20%20%20%20%20%29.addTo%28map_b0bf57203c914706b3ec08a5224436e3%29%3B%0A%20%20%20%20%20%20%20%20%0A%20%20%20%20%0A%20%20%20%20%20%20%20%20%20%20%20%20var%20icon_8cccc834298c4ab09d0b32c299e44a16%20%3D%20L.AwesomeMarkers.icon%28%0A%20%20%20%20%20%20%20%20%20%20%20%20%20%20%20%20%7B%22extraClasses%22%3A%20%22fa-rotate-0%22%2C%20%22icon%22%3A%20%22shopping-cart%22%2C%20%22iconColor%22%3A%20%22white%22%2C%20%22markerColor%22%3A%20%22lightgreen%22%2C%20%22prefix%22%3A%20%22fa%22%7D%0A%20%20%20%20%20%20%20%20%20%20%20%20%29%3B%0A%20%20%20%20%20%20%20%20%20%20%20%20marker_ee7e39f2fedf45ba9b5cc222e9d4d845.setIcon%28icon_8cccc834298c4ab09d0b32c299e44a16%29%3B%0A%20%20%20%20%20%20%20%20%0A%20%20%20%20%0A%20%20%20%20%20%20%20%20var%20popup_f9f4a0ecab8c4721a6ce68b624d94b8e%20%3D%20L.popup%28%7B%22maxWidth%22%3A%20%22100%25%22%7D%29%3B%0A%0A%20%20%20%20%20%20%20%20%0A%20%20%20%20%20%20%20%20%20%20%20%20var%20html_53f836322fa74092b3ad9b23989f53df%20%3D%20%24%28%60%3Cdiv%20id%3D%22html_53f836322fa74092b3ad9b23989f53df%22%20style%3D%22width%3A%20100.0%25%3B%20height%3A%20100.0%25%3B%22%3ETrader%20Joe%27s%3C/div%3E%60%29%5B0%5D%3B%0A%20%20%20%20%20%20%20%20%20%20%20%20popup_f9f4a0ecab8c4721a6ce68b624d94b8e.setContent%28html_53f836322fa74092b3ad9b23989f53df%29%3B%0A%20%20%20%20%20%20%20%20%0A%0A%20%20%20%20%20%20%20%20marker_ee7e39f2fedf45ba9b5cc222e9d4d845.bindPopup%28popup_f9f4a0ecab8c4721a6ce68b624d94b8e%29%0A%20%20%20%20%20%20%20%20%3B%0A%0A%20%20%20%20%20%20%20%20%0A%20%20%20%20%0A%20%20%20%20%0A%20%20%20%20%20%20%20%20%20%20%20%20var%20marker_3999634d41e3432ca5cc3801a5654e87%20%3D%20L.marker%28%0A%20%20%20%20%20%20%20%20%20%20%20%20%20%20%20%20%5B40.7256743%2C%20-74.004729%5D%2C%0A%20%20%20%20%20%20%20%20%20%20%20%20%20%20%20%20%7B%7D%0A%20%20%20%20%20%20%20%20%20%20%20%20%29.addTo%28map_b0bf57203c914706b3ec08a5224436e3%29%3B%0A%20%20%20%20%20%20%20%20%0A%20%20%20%20%0A%20%20%20%20%20%20%20%20%20%20%20%20var%20icon_108b4c6e362146df92ded0999172dfc8%20%3D%20L.AwesomeMarkers.icon%28%0A%20%20%20%20%20%20%20%20%20%20%20%20%20%20%20%20%7B%22extraClasses%22%3A%20%22fa-rotate-0%22%2C%20%22icon%22%3A%20%22shopping-cart%22%2C%20%22iconColor%22%3A%20%22white%22%2C%20%22markerColor%22%3A%20%22lightgreen%22%2C%20%22prefix%22%3A%20%22fa%22%7D%0A%20%20%20%20%20%20%20%20%20%20%20%20%29%3B%0A%20%20%20%20%20%20%20%20%20%20%20%20marker_3999634d41e3432ca5cc3801a5654e87.setIcon%28icon_108b4c6e362146df92ded0999172dfc8%29%3B%0A%20%20%20%20%20%20%20%20%0A%20%20%20%20%0A%20%20%20%20%20%20%20%20var%20popup_f268a683d259469a9a93abb84932dbea%20%3D%20L.popup%28%7B%22maxWidth%22%3A%20%22100%25%22%7D%29%3B%0A%0A%20%20%20%20%20%20%20%20%0A%20%20%20%20%20%20%20%20%20%20%20%20var%20html_b4aebf12660b4ee7b5204719be6e5a28%20%3D%20%24%28%60%3Cdiv%20id%3D%22html_b4aebf12660b4ee7b5204719be6e5a28%22%20style%3D%22width%3A%20100.0%25%3B%20height%3A%20100.0%25%3B%22%3ETrader%20Joe%27s%3C/div%3E%60%29%5B0%5D%3B%0A%20%20%20%20%20%20%20%20%20%20%20%20popup_f268a683d259469a9a93abb84932dbea.setContent%28html_b4aebf12660b4ee7b5204719be6e5a28%29%3B%0A%20%20%20%20%20%20%20%20%0A%0A%20%20%20%20%20%20%20%20marker_3999634d41e3432ca5cc3801a5654e87.bindPopup%28popup_f268a683d259469a9a93abb84932dbea%29%0A%20%20%20%20%20%20%20%20%3B%0A%0A%20%20%20%20%20%20%20%20%0A%20%20%20%20%0A%20%20%20%20%0A%20%20%20%20%20%20%20%20%20%20%20%20var%20marker_624f308f564a4f7ebcd5e6ece7671834%20%3D%20L.marker%28%0A%20%20%20%20%20%20%20%20%20%20%20%20%20%20%20%20%5B40.7907104%2C%20-73.969509%5D%2C%0A%20%20%20%20%20%20%20%20%20%20%20%20%20%20%20%20%7B%7D%0A%20%20%20%20%20%20%20%20%20%20%20%20%29.addTo%28map_b0bf57203c914706b3ec08a5224436e3%29%3B%0A%20%20%20%20%20%20%20%20%0A%20%20%20%20%0A%20%20%20%20%20%20%20%20%20%20%20%20var%20icon_c7bc4ddb85164652be3e931a03c56849%20%3D%20L.AwesomeMarkers.icon%28%0A%20%20%20%20%20%20%20%20%20%20%20%20%20%20%20%20%7B%22extraClasses%22%3A%20%22fa-rotate-0%22%2C%20%22icon%22%3A%20%22shopping-cart%22%2C%20%22iconColor%22%3A%20%22white%22%2C%20%22markerColor%22%3A%20%22lightgreen%22%2C%20%22prefix%22%3A%20%22fa%22%7D%0A%20%20%20%20%20%20%20%20%20%20%20%20%29%3B%0A%20%20%20%20%20%20%20%20%20%20%20%20marker_624f308f564a4f7ebcd5e6ece7671834.setIcon%28icon_c7bc4ddb85164652be3e931a03c56849%29%3B%0A%20%20%20%20%20%20%20%20%0A%20%20%20%20%0A%20%20%20%20%20%20%20%20var%20popup_52b2b73fbaf74ecf9c7412d279e789cc%20%3D%20L.popup%28%7B%22maxWidth%22%3A%20%22100%25%22%7D%29%3B%0A%0A%20%20%20%20%20%20%20%20%0A%20%20%20%20%20%20%20%20%20%20%20%20var%20html_eee6b34ee61944eba43e4c353117d157%20%3D%20%24%28%60%3Cdiv%20id%3D%22html_eee6b34ee61944eba43e4c353117d157%22%20style%3D%22width%3A%20100.0%25%3B%20height%3A%20100.0%25%3B%22%3ETrader%20Joe%27s%3C/div%3E%60%29%5B0%5D%3B%0A%20%20%20%20%20%20%20%20%20%20%20%20popup_52b2b73fbaf74ecf9c7412d279e789cc.setContent%28html_eee6b34ee61944eba43e4c353117d157%29%3B%0A%20%20%20%20%20%20%20%20%0A%0A%20%20%20%20%20%20%20%20marker_624f308f564a4f7ebcd5e6ece7671834.bindPopup%28popup_52b2b73fbaf74ecf9c7412d279e789cc%29%0A%20%20%20%20%20%20%20%20%3B%0A%0A%20%20%20%20%20%20%20%20%0A%20%20%20%20%0A%20%20%20%20%0A%20%20%20%20%20%20%20%20%20%20%20%20var%20marker_7697d85bdb3645999ea9b3d1b9167b9c%20%3D%20L.marker%28%0A%20%20%20%20%20%20%20%20%20%20%20%20%20%20%20%20%5B40.7420901%2C%20-73.994121%5D%2C%0A%20%20%20%20%20%20%20%20%20%20%20%20%20%20%20%20%7B%7D%0A%20%20%20%20%20%20%20%20%20%20%20%20%29.addTo%28map_b0bf57203c914706b3ec08a5224436e3%29%3B%0A%20%20%20%20%20%20%20%20%0A%20%20%20%20%0A%20%20%20%20%20%20%20%20%20%20%20%20var%20icon_a85ae94c3da14ad29e7f40f8ea1652ce%20%3D%20L.AwesomeMarkers.icon%28%0A%20%20%20%20%20%20%20%20%20%20%20%20%20%20%20%20%7B%22extraClasses%22%3A%20%22fa-rotate-0%22%2C%20%22icon%22%3A%20%22shopping-cart%22%2C%20%22iconColor%22%3A%20%22white%22%2C%20%22markerColor%22%3A%20%22lightgreen%22%2C%20%22prefix%22%3A%20%22fa%22%7D%0A%20%20%20%20%20%20%20%20%20%20%20%20%29%3B%0A%20%20%20%20%20%20%20%20%20%20%20%20marker_7697d85bdb3645999ea9b3d1b9167b9c.setIcon%28icon_a85ae94c3da14ad29e7f40f8ea1652ce%29%3B%0A%20%20%20%20%20%20%20%20%0A%20%20%20%20%0A%20%20%20%20%20%20%20%20var%20popup_2c210e0e1e594524bcc2bec2f6795d99%20%3D%20L.popup%28%7B%22maxWidth%22%3A%20%22100%25%22%7D%29%3B%0A%0A%20%20%20%20%20%20%20%20%0A%20%20%20%20%20%20%20%20%20%20%20%20var%20html_ed279aacdcdf411aa4fd852ad70c87cf%20%3D%20%24%28%60%3Cdiv%20id%3D%22html_ed279aacdcdf411aa4fd852ad70c87cf%22%20style%3D%22width%3A%20100.0%25%3B%20height%3A%20100.0%25%3B%22%3ETrader%20Joe%27s%3C/div%3E%60%29%5B0%5D%3B%0A%20%20%20%20%20%20%20%20%20%20%20%20popup_2c210e0e1e594524bcc2bec2f6795d99.setContent%28html_ed279aacdcdf411aa4fd852ad70c87cf%29%3B%0A%20%20%20%20%20%20%20%20%0A%0A%20%20%20%20%20%20%20%20marker_7697d85bdb3645999ea9b3d1b9167b9c.bindPopup%28popup_2c210e0e1e594524bcc2bec2f6795d99%29%0A%20%20%20%20%20%20%20%20%3B%0A%0A%20%20%20%20%20%20%20%20%0A%20%20%20%20%0A%20%20%20%20%0A%20%20%20%20%20%20%20%20%20%20%20%20var%20circle_868ff3f2c79549319075ea949a4e1a0c%20%3D%20L.circle%28%0A%20%20%20%20%20%20%20%20%20%20%20%20%20%20%20%20%5B40.718803%2C%20-74.0001929%5D%2C%0A%20%20%20%20%20%20%20%20%20%20%20%20%20%20%20%20%7B%22bubblingMouseEvents%22%3A%20true%2C%20%22color%22%3A%20%22%233388ff%22%2C%20%22dashArray%22%3A%20null%2C%20%22dashOffset%22%3A%20null%2C%20%22fill%22%3A%20false%2C%20%22fillColor%22%3A%20%22%233388ff%22%2C%20%22fillOpacity%22%3A%200.2%2C%20%22fillRule%22%3A%20%22evenodd%22%2C%20%22lineCap%22%3A%20%22round%22%2C%20%22lineJoin%22%3A%20%22round%22%2C%20%22opacity%22%3A%201.0%2C%20%22radius%22%3A%20804%2C%20%22stroke%22%3A%20true%2C%20%22weight%22%3A%203%7D%0A%20%20%20%20%20%20%20%20%20%20%20%20%29.addTo%28map_b0bf57203c914706b3ec08a5224436e3%29%3B%0A%20%20%20%20%20%20%20%20%0A%20%20%20%20%0A%20%20%20%20%20%20%20%20var%20popup_3ecbbc2d3f8f4f599fc31ed3182e32c5%20%3D%20L.popup%28%7B%22maxWidth%22%3A%20%22100%25%22%7D%29%3B%0A%0A%20%20%20%20%20%20%20%20%0A%20%20%20%20%20%20%20%20%20%20%20%20var%20html_027662c2270043bea644619d780d5de4%20%3D%20%24%28%60%3Cdiv%20id%3D%22html_027662c2270043bea644619d780d5de4%22%20style%3D%22width%3A%20100.0%25%3B%20height%3A%20100.0%25%3B%22%3E%5B%27CANAL%20ST%27%5D%3C/div%3E%60%29%5B0%5D%3B%0A%20%20%20%20%20%20%20%20%20%20%20%20popup_3ecbbc2d3f8f4f599fc31ed3182e32c5.setContent%28html_027662c2270043bea644619d780d5de4%29%3B%0A%20%20%20%20%20%20%20%20%0A%0A%20%20%20%20%20%20%20%20circle_868ff3f2c79549319075ea949a4e1a0c.bindPopup%28popup_3ecbbc2d3f8f4f599fc31ed3182e32c5%29%0A%20%20%20%20%20%20%20%20%3B%0A%0A%20%20%20%20%20%20%20%20%0A%20%20%20%20%0A%20%20%20%20%0A%20%20%20%20%20%20%20%20%20%20%20%20var%20circle_0a502b5ad9b440fc9bdbb101093c107d%20%3D%20L.circle%28%0A%20%20%20%20%20%20%20%20%20%20%20%20%20%20%20%20%5B40.7322544%2C%20-74.0003081%5D%2C%0A%20%20%20%20%20%20%20%20%20%20%20%20%20%20%20%20%7B%22bubblingMouseEvents%22%3A%20true%2C%20%22color%22%3A%20%22%233388ff%22%2C%20%22dashArray%22%3A%20null%2C%20%22dashOffset%22%3A%20null%2C%20%22fill%22%3A%20false%2C%20%22fillColor%22%3A%20%22%233388ff%22%2C%20%22fillOpacity%22%3A%200.2%2C%20%22fillRule%22%3A%20%22evenodd%22%2C%20%22lineCap%22%3A%20%22round%22%2C%20%22lineJoin%22%3A%20%22round%22%2C%20%22opacity%22%3A%201.0%2C%20%22radius%22%3A%20804%2C%20%22stroke%22%3A%20true%2C%20%22weight%22%3A%203%7D%0A%20%20%20%20%20%20%20%20%20%20%20%20%29.addTo%28map_b0bf57203c914706b3ec08a5224436e3%29%3B%0A%20%20%20%20%20%20%20%20%0A%20%20%20%20%0A%20%20%20%20%20%20%20%20var%20popup_b3a7b0d3f4e14d159f480507f5fb44f0%20%3D%20L.popup%28%7B%22maxWidth%22%3A%20%22100%25%22%7D%29%3B%0A%0A%20%20%20%20%20%20%20%20%0A%20%20%20%20%20%20%20%20%20%20%20%20var%20html_87ea8708c12a48c6984ad97a37ddf66a%20%3D%20%24%28%60%3Cdiv%20id%3D%22html_87ea8708c12a48c6984ad97a37ddf66a%22%20style%3D%22width%3A%20100.0%25%3B%20height%3A%20100.0%25%3B%22%3E%5B%27W%204%20ST%20-%20WASHINGTON%20SQ%20%28LOWER%29%27%5D%3C/div%3E%60%29%5B0%5D%3B%0A%20%20%20%20%20%20%20%20%20%20%20%20popup_b3a7b0d3f4e14d159f480507f5fb44f0.setContent%28html_87ea8708c12a48c6984ad97a37ddf66a%29%3B%0A%20%20%20%20%20%20%20%20%0A%0A%20%20%20%20%20%20%20%20circle_0a502b5ad9b440fc9bdbb101093c107d.bindPopup%28popup_b3a7b0d3f4e14d159f480507f5fb44f0%29%0A%20%20%20%20%20%20%20%20%3B%0A%0A%20%20%20%20%20%20%20%20%0A%20%20%20%20%0A%20%20%20%20%0A%20%20%20%20%20%20%20%20%20%20%20%20var%20circle_3e49d79d151c4610a3a80d0bc57f93b1%20%3D%20L.circle%28%0A%20%20%20%20%20%20%20%20%20%20%20%20%20%20%20%20%5B40.761727%2C%20-73.9838489%5D%2C%0A%20%20%20%20%20%20%20%20%20%20%20%20%20%20%20%20%7B%22bubblingMouseEvents%22%3A%20true%2C%20%22color%22%3A%20%22%233388ff%22%2C%20%22dashArray%22%3A%20null%2C%20%22dashOffset%22%3A%20null%2C%20%22fill%22%3A%20false%2C%20%22fillColor%22%3A%20%22%233388ff%22%2C%20%22fillOpacity%22%3A%200.2%2C%20%22fillRule%22%3A%20%22evenodd%22%2C%20%22lineCap%22%3A%20%22round%22%2C%20%22lineJoin%22%3A%20%22round%22%2C%20%22opacity%22%3A%201.0%2C%20%22radius%22%3A%20804%2C%20%22stroke%22%3A%20true%2C%20%22weight%22%3A%203%7D%0A%20%20%20%20%20%20%20%20%20%20%20%20%29.addTo%28map_b0bf57203c914706b3ec08a5224436e3%29%3B%0A%20%20%20%20%20%20%20%20%0A%20%20%20%20%0A%20%20%20%20%20%20%20%20var%20popup_07dbc1ae9b5c452d96acba2d070e2af6%20%3D%20L.popup%28%7B%22maxWidth%22%3A%20%22100%25%22%7D%29%3B%0A%0A%20%20%20%20%20%20%20%20%0A%20%20%20%20%20%20%20%20%20%20%20%20var%20html_99b70e2da15c411da80e439dd8382641%20%3D%20%24%28%60%3Cdiv%20id%3D%22html_99b70e2da15c411da80e439dd8382641%22%20style%3D%22width%3A%20100.0%25%3B%20height%3A%20100.0%25%3B%22%3E%5B%2750%20ST%27%5D%3C/div%3E%60%29%5B0%5D%3B%0A%20%20%20%20%20%20%20%20%20%20%20%20popup_07dbc1ae9b5c452d96acba2d070e2af6.setContent%28html_99b70e2da15c411da80e439dd8382641%29%3B%0A%20%20%20%20%20%20%20%20%0A%0A%20%20%20%20%20%20%20%20circle_3e49d79d151c4610a3a80d0bc57f93b1.bindPopup%28popup_07dbc1ae9b5c452d96acba2d070e2af6%29%0A%20%20%20%20%20%20%20%20%3B%0A%0A%20%20%20%20%20%20%20%20%0A%20%20%20%20%0A%20%20%20%20%0A%20%20%20%20%20%20%20%20%20%20%20%20var%20circle_a9940cede9174b579f2ed12322cdd90f%20%3D%20L.circle%28%0A%20%20%20%20%20%20%20%20%20%20%20%20%20%20%20%20%5B40.76297%2C%20-73.9816978%5D%2C%0A%20%20%20%20%20%20%20%20%20%20%20%20%20%20%20%20%7B%22bubblingMouseEvents%22%3A%20true%2C%20%22color%22%3A%20%22%233388ff%22%2C%20%22dashArray%22%3A%20null%2C%20%22dashOffset%22%3A%20null%2C%20%22fill%22%3A%20false%2C%20%22fillColor%22%3A%20%22%233388ff%22%2C%20%22fillOpacity%22%3A%200.2%2C%20%22fillRule%22%3A%20%22evenodd%22%2C%20%22lineCap%22%3A%20%22round%22%2C%20%22lineJoin%22%3A%20%22round%22%2C%20%22opacity%22%3A%201.0%2C%20%22radius%22%3A%20804%2C%20%22stroke%22%3A%20true%2C%20%22weight%22%3A%203%7D%0A%20%20%20%20%20%20%20%20%20%20%20%20%29.addTo%28map_b0bf57203c914706b3ec08a5224436e3%29%3B%0A%20%20%20%20%20%20%20%20%0A%20%20%20%20%0A%20%20%20%20%20%20%20%20var%20popup_ae47dcfa4757400b8dfc36cbce4b0b69%20%3D%20L.popup%28%7B%22maxWidth%22%3A%20%22100%25%22%7D%29%3B%0A%0A%20%20%20%20%20%20%20%20%0A%20%20%20%20%20%20%20%20%20%20%20%20var%20html_cd37829c71cf4ca995b53c5881c6dc53%20%3D%20%24%28%60%3Cdiv%20id%3D%22html_cd37829c71cf4ca995b53c5881c6dc53%22%20style%3D%22width%3A%20100.0%25%3B%20height%3A%20100.0%25%3B%22%3E%5B%277%20AV%27%5D%3C/div%3E%60%29%5B0%5D%3B%0A%20%20%20%20%20%20%20%20%20%20%20%20popup_ae47dcfa4757400b8dfc36cbce4b0b69.setContent%28html_cd37829c71cf4ca995b53c5881c6dc53%29%3B%0A%20%20%20%20%20%20%20%20%0A%0A%20%20%20%20%20%20%20%20circle_a9940cede9174b579f2ed12322cdd90f.bindPopup%28popup_ae47dcfa4757400b8dfc36cbce4b0b69%29%0A%20%20%20%20%20%20%20%20%3B%0A%0A%20%20%20%20%20%20%20%20%0A%20%20%20%20%0A%20%20%20%20%0A%20%20%20%20%20%20%20%20%20%20%20%20var%20circle_a472b529f53041e09c2205dda5b7c8e6%20%3D%20L.circle%28%0A%20%20%20%20%20%20%20%20%20%20%20%20%20%20%20%20%5B40.745453%2C%20-73.988698%5D%2C%0A%20%20%20%20%20%20%20%20%20%20%20%20%20%20%20%20%7B%22bubblingMouseEvents%22%3A%20true%2C%20%22color%22%3A%20%22%233388ff%22%2C%20%22dashArray%22%3A%20null%2C%20%22dashOffset%22%3A%20null%2C%20%22fill%22%3A%20false%2C%20%22fillColor%22%3A%20%22%233388ff%22%2C%20%22fillOpacity%22%3A%200.2%2C%20%22fillRule%22%3A%20%22evenodd%22%2C%20%22lineCap%22%3A%20%22round%22%2C%20%22lineJoin%22%3A%20%22round%22%2C%20%22opacity%22%3A%201.0%2C%20%22radius%22%3A%20804%2C%20%22stroke%22%3A%20true%2C%20%22weight%22%3A%203%7D%0A%20%20%20%20%20%20%20%20%20%20%20%20%29.addTo%28map_b0bf57203c914706b3ec08a5224436e3%29%3B%0A%20%20%20%20%20%20%20%20%0A%20%20%20%20%0A%20%20%20%20%20%20%20%20var%20popup_e8116357da7749e3b9c7a14e1de80ea1%20%3D%20L.popup%28%7B%22maxWidth%22%3A%20%22100%25%22%7D%29%3B%0A%0A%20%20%20%20%20%20%20%20%0A%20%20%20%20%20%20%20%20%20%20%20%20var%20html_3300c3c24c1342509fec335250aa5d1b%20%3D%20%24%28%60%3Cdiv%20id%3D%22html_3300c3c24c1342509fec335250aa5d1b%22%20style%3D%22width%3A%20100.0%25%3B%20height%3A%20100.0%25%3B%22%3E%5B%2728%20ST%27%5D%3C/div%3E%60%29%5B0%5D%3B%0A%20%20%20%20%20%20%20%20%20%20%20%20popup_e8116357da7749e3b9c7a14e1de80ea1.setContent%28html_3300c3c24c1342509fec335250aa5d1b%29%3B%0A%20%20%20%20%20%20%20%20%0A%0A%20%20%20%20%20%20%20%20circle_a472b529f53041e09c2205dda5b7c8e6.bindPopup%28popup_e8116357da7749e3b9c7a14e1de80ea1%29%0A%20%20%20%20%20%20%20%20%3B%0A%0A%20%20%20%20%20%20%20%20%0A%20%20%20%20%0A%20%20%20%20%0A%20%20%20%20%20%20%20%20%20%20%20%20var%20circle_2577e45290fd4ebab2f02f336d794893%20%3D%20L.circle%28%0A%20%20%20%20%20%20%20%20%20%20%20%20%20%20%20%20%5B40.6924706%2C%20-73.9872181%5D%2C%0A%20%20%20%20%20%20%20%20%20%20%20%20%20%20%20%20%7B%22bubblingMouseEvents%22%3A%20true%2C%20%22color%22%3A%20%22%233388ff%22%2C%20%22dashArray%22%3A%20null%2C%20%22dashOffset%22%3A%20null%2C%20%22fill%22%3A%20false%2C%20%22fillColor%22%3A%20%22%233388ff%22%2C%20%22fillOpacity%22%3A%200.2%2C%20%22fillRule%22%3A%20%22evenodd%22%2C%20%22lineCap%22%3A%20%22round%22%2C%20%22lineJoin%22%3A%20%22round%22%2C%20%22opacity%22%3A%201.0%2C%20%22radius%22%3A%20804%2C%20%22stroke%22%3A%20true%2C%20%22weight%22%3A%203%7D%0A%20%20%20%20%20%20%20%20%20%20%20%20%29.addTo%28map_b0bf57203c914706b3ec08a5224436e3%29%3B%0A%20%20%20%20%20%20%20%20%0A%20%20%20%20%0A%20%20%20%20%20%20%20%20var%20popup_372fdce634914fbd8f4f9f27104ea453%20%3D%20L.popup%28%7B%22maxWidth%22%3A%20%22100%25%22%7D%29%3B%0A%0A%20%20%20%20%20%20%20%20%0A%20%20%20%20%20%20%20%20%20%20%20%20var%20html_6c66c945301d4d28b94c869e0ce9f774%20%3D%20%24%28%60%3Cdiv%20id%3D%22html_6c66c945301d4d28b94c869e0ce9f774%22%20style%3D%22width%3A%20100.0%25%3B%20height%3A%20100.0%25%3B%22%3E%5B%27JAY%20ST%20-%20METROTECH%27%5D%3C/div%3E%60%29%5B0%5D%3B%0A%20%20%20%20%20%20%20%20%20%20%20%20popup_372fdce634914fbd8f4f9f27104ea453.setContent%28html_6c66c945301d4d28b94c869e0ce9f774%29%3B%0A%20%20%20%20%20%20%20%20%0A%0A%20%20%20%20%20%20%20%20circle_2577e45290fd4ebab2f02f336d794893.bindPopup%28popup_372fdce634914fbd8f4f9f27104ea453%29%0A%20%20%20%20%20%20%20%20%3B%0A%0A%20%20%20%20%20%20%20%20%0A%20%20%20%20%0A%3C/script%3E onload=\"this.contentDocument.open();this.contentDocument.write(    decodeURIComponent(this.getAttribute('data-html')));this.contentDocument.close();\" allowfullscreen webkitallowfullscreen mozallowfullscreen></iframe></div></div>"
      ],
      "text/plain": [
       "<folium.folium.Map at 0x7f93d017b520>"
      ]
     },
     "execution_count": 46,
     "metadata": {},
     "output_type": "execute_result"
    }
   ],
   "source": [
    "map"
   ]
  },
  {
   "cell_type": "code",
   "execution_count": 47,
   "id": "38691814",
   "metadata": {},
   "outputs": [],
   "source": [
    "map.save('subways_and_universities.html')"
   ]
  },
  {
   "cell_type": "code",
   "execution_count": 48,
   "id": "ad0cd9a1",
   "metadata": {},
   "outputs": [],
   "source": [
    "map.save('subways_and_universities.png')\n",
    "\n"
   ]
  },
  {
   "cell_type": "code",
   "execution_count": 49,
   "id": "1dc7c806",
   "metadata": {},
   "outputs": [],
   "source": [
    "Final_DF['DAILY_ENTRIES'] = Final_DF['DAILY_ENTRIES'].astype(int)"
   ]
  },
  {
   "cell_type": "code",
   "execution_count": 52,
   "id": "d89ed85c",
   "metadata": {},
   "outputs": [
    {
     "data": {
      "text/plain": [
       "\"\\nplt.bar(x2,y2)\\nplt.xticks(rotation=80)\\nplt.title('Medium Size Subway Stations by Cumulative Entries from 05/29/21 - 09/03/21', y=1.08)\\nplt.ylabel('Cumulative entries by million');\\nplt.ticklabel_format(useOffset=False)\\n\""
      ]
     },
     "execution_count": 52,
     "metadata": {},
     "output_type": "execute_result"
    },
    {
     "data": {
      "image/png": "[encoded data removed]",
      "text/plain": [
       "<Figure size 432x288 with 1 Axes>"
      ]
     },
     "metadata": {
      "needs_background": "light"
     },
     "output_type": "display_data"
    }
   ],
   "source": [
    "Final_DF_by_income = Final_DF.sort_values(by='Average Income', ascending=False )\n",
    "Final_DF_by_Entries = Final_DF.sort_values(by='DAILY_ENTRIES', ascending=False )\n",
    "\n",
    "\n",
    "x1 = Final_DF_by_income['STATION']\n",
    "y1 = Final_DF_by_income['Average Income']\n",
    "\n",
    "x2 = Final_DF_by_Entries['STATION']\n",
    "y2 = Final_DF_by_Entries['DAILY_ENTRIES']\n",
    "\n",
    "\n",
    "\n",
    "\n",
    "#Final_DF_by_income.plot(x=\"STATION\", y=[\"Average Income\"], kind=\"bar\")\n",
    "\n",
    "plt.bar(x1,y1)\n",
    "plt.xticks(rotation=80)\n",
    "plt.title('Medium Size Subway Stations by Average Income (Zipcode 2019 data)')\n",
    "plt.ylabel('Average income (in USD)');\n",
    "\n",
    "'''\n",
    "plt.bar(x2,y2)\n",
    "plt.xticks(rotation=80)\n",
    "plt.title('Medium Size Subway Stations by Cumulative Entries from 05/29/21 - 09/03/21', y=1.08)\n",
    "plt.ylabel('Cumulative entries by million');\n",
    "plt.ticklabel_format(useOffset=False)\n",
    "'''"
   ]
  },
  {
   "cell_type": "code",
   "execution_count": 53,
   "id": "b81d2c2a",
   "metadata": {},
   "outputs": [
    {
     "name": "stderr",
     "output_type": "stream",
     "text": [
      "<ipython-input-53-530fb2efff29>:7: SettingWithCopyWarning: \n",
      "A value is trying to be set on a copy of a slice from a DataFrame.\n",
      "Try using .loc[row_indexer,col_indexer] = value instead\n",
      "\n",
      "See the caveats in the documentation: https://pandas.pydata.org/pandas-docs/stable/user_guide/indexing.html#returning-a-view-versus-a-copy\n",
      "  Shortlist_Station_Data['DATE'] = pd.to_datetime(Shortlist_Station_Data['DATE'].str.replace('/','-'))\n",
      "<ipython-input-53-530fb2efff29>:9: SettingWithCopyWarning: \n",
      "A value is trying to be set on a copy of a slice from a DataFrame.\n",
      "Try using .loc[row_indexer,col_indexer] = value instead\n",
      "\n",
      "See the caveats in the documentation: https://pandas.pydata.org/pandas-docs/stable/user_guide/indexing.html#returning-a-view-versus-a-copy\n",
      "  Shortlist_Station_Data['day_of_week'] = Shortlist_Station_Data['DATE'].dt.day_name()\n",
      "<ipython-input-53-530fb2efff29>:10: SettingWithCopyWarning: \n",
      "A value is trying to be set on a copy of a slice from a DataFrame.\n",
      "Try using .loc[row_indexer,col_indexer] = value instead\n",
      "\n",
      "See the caveats in the documentation: https://pandas.pydata.org/pandas-docs/stable/user_guide/indexing.html#returning-a-view-versus-a-copy\n",
      "  Shortlist_Station_Data['number_of_week'] = Shortlist_Station_Data['DATE'].dt.dayofweek\n"
     ]
    }
   ],
   "source": [
    "\n",
    "Shortlist_Station_Data = station_daily_entries[(station_daily_entries[\"STATION\"] == \"28 ST\") | \n",
    "                                               (station_daily_entries[\"STATION\"] == \"CANAL ST\") |\n",
    "                                              (station_daily_entries[\"STATION\"] == \"W 4 ST-WASH SQ\") |\n",
    "                                              (station_daily_entries[\"STATION\"] == \"7 AV\") |\n",
    "                                              (station_daily_entries[\"STATION\"] == \"50 ST\")|\n",
    "                                              (station_daily_entries[\"STATION\"] == \"JAY ST-METROTEC\")]\n",
    "Shortlist_Station_Data['DATE'] = pd.to_datetime(Shortlist_Station_Data['DATE'].str.replace('/','-'))\n",
    "#Shortlist_Station_Data['DATE'] = Shortlist_Station_Data['DATE'].to_datetime()\n",
    "Shortlist_Station_Data['day_of_week'] = Shortlist_Station_Data['DATE'].dt.day_name()\n",
    "Shortlist_Station_Data['number_of_week'] = Shortlist_Station_Data['DATE'].dt.dayofweek"
   ]
  },
  {
   "cell_type": "code",
   "execution_count": 54,
   "id": "1fdc2219",
   "metadata": {},
   "outputs": [
    {
     "data": {
      "text/plain": [
       "{'whiskers': [<matplotlib.lines.Line2D at 0x7f93b9e75580>,\n",
       "  <matplotlib.lines.Line2D at 0x7f93b9e758e0>],\n",
       " 'caps': [<matplotlib.lines.Line2D at 0x7f93b9e75c40>,\n",
       "  <matplotlib.lines.Line2D at 0x7f93b9e75fa0>],\n",
       " 'boxes': [<matplotlib.lines.Line2D at 0x7f93b9e751f0>],\n",
       " 'medians': [<matplotlib.lines.Line2D at 0x7f93b9fd9340>],\n",
       " 'fliers': [<matplotlib.lines.Line2D at 0x7f93b9fd96a0>],\n",
       " 'means': []}"
      ]
     },
     "execution_count": 54,
     "metadata": {},
     "output_type": "execute_result"
    },
    {
     "data": {
      "image/png": "[encoded data removed]",
      "text/plain": [
       "<Figure size 432x288 with 1 Axes>"
      ]
     },
     "metadata": {
      "needs_background": "light"
     },
     "output_type": "display_data"
    }
   ],
   "source": [
    "plt.boxplot(Shortlist_Station_Data['DAILY_ENTRIES'])"
   ]
  },
  {
   "cell_type": "code",
   "execution_count": 55,
   "id": "6dc25662",
   "metadata": {},
   "outputs": [],
   "source": [
    "day_info = Shortlist_Station_Data.groupby(['STATION','day_of_week', 'number_of_week'])['DAILY_ENTRIES'].sum().reset_index()\n",
    "day_info_28st = day_info.loc[day_info['STATION'] == '28 ST'].sort_values(by='number_of_week')\n",
    "day_info_7av = day_info.loc[day_info['STATION'] == '7 AV'].sort_values(by='number_of_week')\n",
    "day_info_wash = day_info.loc[day_info['STATION'] == \"W 4 ST-WASH SQ\"].sort_values(by='number_of_week')\n",
    "day_info_50st = day_info.loc[day_info['STATION'] == '50 ST'].sort_values(by='number_of_week')\n",
    "day_info_canal = day_info.loc[day_info['STATION'] == 'CANAL ST'].sort_values(by='number_of_week')\n",
    "day_info_metro = day_info.loc[day_info['STATION'] == 'JAY ST-METROTEC'].sort_values(by='number_of_week')\n"
   ]
  },
  {
   "cell_type": "code",
   "execution_count": 56,
   "id": "5a985b17",
   "metadata": {},
   "outputs": [
    {
     "data": {
      "image/png": "[encoded data removed]",
      "text/plain": [
       "<Figure size 720x288 with 1 Axes>"
      ]
     },
     "metadata": {
      "needs_background": "light"
     },
     "output_type": "display_data"
    }
   ],
   "source": [
    "plt.figure(figsize=(10,4));\n",
    "plt.plot(day_info_28st['day_of_week'], day_info_28st['DAILY_ENTRIES'], label=\"28 St\")\n",
    "#plt.plot(day_info_7av['day_of_week'], day_info_7av['DAILY_ENTRIES'])\n",
    "#plt.plot(day_info_canal['day_of_week'], day_info_canal['DAILY_ENTRIES'])\n",
    "plt.plot(day_info_wash['day_of_week'], day_info_wash['DAILY_ENTRIES'], label=\"W 4 ST - WASHINGTON SQ\")\n",
    "#plt.plot(day_info_50st['day_of_week'], day_info_50st['DAILY_ENTRIES'])\n",
    "plt.plot(day_info_metro['day_of_week'], day_info_metro['DAILY_ENTRIES'], label=\"JAY ST - METROTECH\")\n",
    "plt.xticks(rotation=45)\n",
    "plt.title(\"Top Subway Stations Cumulative Entries Per Day, from 05/29/21 - 09/03/21\")\n",
    "plt.xlabel(\"Day of Week\")\n",
    "plt.ylabel(\"Daily Passengers\")\n",
    "plt.legend()\n",
    "plt.show()"
   ]
  },
  {
   "cell_type": "code",
   "execution_count": 58,
   "id": "1b9f8947",
   "metadata": {},
   "outputs": [
    {
     "data": {
      "text/html": [
       "<div>\n",
       "<style scoped>\n",
       "    .dataframe tbody tr th:only-of-type {\n",
       "        vertical-align: middle;\n",
       "    }\n",
       "\n",
       "    .dataframe tbody tr th {\n",
       "        vertical-align: top;\n",
       "    }\n",
       "\n",
       "    .dataframe thead th {\n",
       "        text-align: right;\n",
       "    }\n",
       "</style>\n",
       "<table border=\"1\" class=\"dataframe\">\n",
       "  <thead>\n",
       "    <tr style=\"text-align: right;\">\n",
       "      <th></th>\n",
       "      <th>STATION</th>\n",
       "      <th>TIME</th>\n",
       "      <th>DAILY_ENTRIES</th>\n",
       "    </tr>\n",
       "  </thead>\n",
       "  <tbody>\n",
       "    <tr>\n",
       "      <th>0</th>\n",
       "      <td>1 AV</td>\n",
       "      <td>04:00:00</td>\n",
       "      <td>26407.0</td>\n",
       "    </tr>\n",
       "    <tr>\n",
       "      <th>1</th>\n",
       "      <td>1 AV</td>\n",
       "      <td>08:00:00</td>\n",
       "      <td>38569.0</td>\n",
       "    </tr>\n",
       "    <tr>\n",
       "      <th>2</th>\n",
       "      <td>1 AV</td>\n",
       "      <td>08:12:05</td>\n",
       "      <td>65.0</td>\n",
       "    </tr>\n",
       "    <tr>\n",
       "      <th>3</th>\n",
       "      <td>1 AV</td>\n",
       "      <td>09:26:34</td>\n",
       "      <td>80.0</td>\n",
       "    </tr>\n",
       "    <tr>\n",
       "      <th>4</th>\n",
       "      <td>1 AV</td>\n",
       "      <td>09:27:43</td>\n",
       "      <td>137.0</td>\n",
       "    </tr>\n",
       "  </tbody>\n",
       "</table>\n",
       "</div>"
      ],
      "text/plain": [
       "  STATION      TIME  DAILY_ENTRIES\n",
       "0    1 AV  04:00:00        26407.0\n",
       "1    1 AV  08:00:00        38569.0\n",
       "2    1 AV  08:12:05           65.0\n",
       "3    1 AV  09:26:34           80.0\n",
       "4    1 AV  09:27:43          137.0"
      ]
     },
     "execution_count": 58,
     "metadata": {},
     "output_type": "execute_result"
    }
   ],
   "source": [
    "#create data on a time, not day, basis\n",
    "turnstiles_daily_entries_time = (all_data\n",
    "                        .groupby([\"CA\", \"UNIT\", \"SCP\", \"STATION\", \"DATE\", \"TIME\"],as_index=False)\n",
    "                        .ENTRIES.first())\n",
    "\n",
    "turnstiles_daily_entries_time[[\"PREV_DATE\", \"PREV_ENTRIES\"]] = (turnstiles_daily_entries_time\n",
    "                                                       .groupby([\"CA\", \"UNIT\", \"SCP\", \"STATION\", 'DATE'])[['TIME', \"ENTRIES\"]]\n",
    "                                                       .shift(1))\n",
    "turnstiles_daily_entries_time.dropna(subset=[\"PREV_DATE\"], axis=0, inplace=True)\n",
    "\n",
    "def get_daily_counts2(row, max_counter):\n",
    "    counter = row[6] - row[8]\n",
    "    \n",
    "    if counter < 0:\n",
    "        counter = -counter  # adjust for \"reverse\" counter\n",
    "        \n",
    "    if counter > max_counter:\n",
    "        # Maybe counter was reset, so it may make sense to take the minimum\n",
    "        counter = min(row[6], row[8])\n",
    "        \n",
    "    if counter > max_counter:\n",
    "        # If we still get a counter that is too big, set to zero\n",
    "        return 0\n",
    "    \n",
    "    return counter\n",
    "\n",
    "turnstiles_daily_entries_time[\"DAILY_ENTRIES\"] = turnstiles_daily_entries_time.apply(get_daily_counts2, axis=1, max_counter=1000000)\n",
    "mask = turnstiles_daily_entries_time['DAILY_ENTRIES'] < 100000\n",
    "turnstiles_daily_entries_time = turnstiles_daily_entries_time[mask]\n",
    "station_daily_entries_time = turnstiles_daily_entries_time.groupby([\"STATION\", \"TIME\"])[['DAILY_ENTRIES']].sum().reset_index()\n",
    "station_daily_entries_time.head()"
   ]
  },
  {
   "cell_type": "code",
   "execution_count": 59,
   "id": "a0752c8c",
   "metadata": {},
   "outputs": [],
   "source": [
    "time_info = station_daily_entries_time[(station_daily_entries_time[\"STATION\"] == \"28 ST\") | \n",
    "                                               (station_daily_entries_time[\"STATION\"] == \"CANAL ST\") |\n",
    "                                              (station_daily_entries_time[\"STATION\"] == \"W 4 ST-WASH SQ\") |\n",
    "                                              (station_daily_entries_time[\"STATION\"] == \"7 AV\") |\n",
    "                                              (station_daily_entries_time[\"STATION\"] == \"50 ST\")|\n",
    "                                              (station_daily_entries_time[\"STATION\"] == \"JAY ST-METROTEC\")]"
   ]
  },
  {
   "cell_type": "code",
   "execution_count": 60,
   "id": "63e11eba",
   "metadata": {},
   "outputs": [
    {
     "name": "stderr",
     "output_type": "stream",
     "text": [
      "/opt/anaconda3/lib/python3.8/site-packages/pandas/core/generic.py:5494: SettingWithCopyWarning: \n",
      "A value is trying to be set on a copy of a slice from a DataFrame.\n",
      "Try using .loc[row_indexer,col_indexer] = value instead\n",
      "\n",
      "See the caveats in the documentation: https://pandas.pydata.org/pandas-docs/stable/user_guide/indexing.html#returning-a-view-versus-a-copy\n",
      "  self[name] = value\n"
     ]
    }
   ],
   "source": [
    "import datetime as dt\n",
    "time_info.TIME = pd.to_datetime(time_info.TIME, infer_datetime_format=True).dt.time\n",
    "#all_df.time = pd.to_datetime(all_df.time, infer_datetime_format=True).dt.time"
   ]
  },
  {
   "cell_type": "code",
   "execution_count": 68,
   "id": "5af71aa3",
   "metadata": {},
   "outputs": [
    {
     "data": {
      "text/plain": [
       "3484     04:00:00\n",
       "3485     05:00:00\n",
       "3486     07:07:43\n",
       "3487     07:40:25\n",
       "3488     08:00:00\n",
       "           ...   \n",
       "73753    05:00:00\n",
       "73754    09:00:00\n",
       "73755    13:00:00\n",
       "73756    17:00:00\n",
       "73757    21:00:00\n",
       "Name: TIME, Length: 68, dtype: object"
      ]
     },
     "execution_count": 68,
     "metadata": {},
     "output_type": "execute_result"
    }
   ],
   "source": [
    "time_info.TIME"
   ]
  },
  {
   "cell_type": "code",
   "execution_count": 63,
   "id": "10493c68",
   "metadata": {},
   "outputs": [],
   "source": [
    "\n",
    "time_info_28st = time_info.loc[time_info['STATION'] == '28 ST'].sort_values(by='TIME')\n",
    "time_info_7av = time_info.loc[time_info['STATION'] == '7 AV'].sort_values(by='TIME')\n",
    "time_info_wash = time_info.loc[time_info['STATION'] == \"W 4 ST-WASH SQ\"].sort_values(by='TIME')\n",
    "time_info_50st = time_info.loc[time_info['STATION'] == '50 ST'].sort_values(by='TIME')\n",
    "time_info_canal = time_info.loc[time_info['STATION'] == 'CANAL ST'].sort_values(by='TIME')\n",
    "time_info_metro = time_info.loc[time_info['STATION'] == 'JAY ST-METROTEC'].sort_values(by='TIME')"
   ]
  },
  {
   "cell_type": "code",
   "execution_count": 64,
   "id": "55340e94",
   "metadata": {},
   "outputs": [
    {
     "ename": "TypeError",
     "evalue": "float() argument must be a string or a number, not 'datetime.time'",
     "output_type": "error",
     "traceback": [
      "\u001b[0;31m---------------------------------------------------------------------------\u001b[0m",
      "\u001b[0;31mTypeError\u001b[0m                                 Traceback (most recent call last)",
      "\u001b[0;32m<ipython-input-64-73420e252ba7>\u001b[0m in \u001b[0;36m<module>\u001b[0;34m\u001b[0m\n\u001b[1;32m      1\u001b[0m \u001b[0mplt\u001b[0m\u001b[0;34m.\u001b[0m\u001b[0mfigure\u001b[0m\u001b[0;34m(\u001b[0m\u001b[0mfigsize\u001b[0m\u001b[0;34m=\u001b[0m\u001b[0;34m(\u001b[0m\u001b[0;36m10\u001b[0m\u001b[0;34m,\u001b[0m\u001b[0;36m4\u001b[0m\u001b[0;34m)\u001b[0m\u001b[0;34m)\u001b[0m\u001b[0;34m;\u001b[0m\u001b[0;34m\u001b[0m\u001b[0;34m\u001b[0m\u001b[0m\n\u001b[0;32m----> 2\u001b[0;31m \u001b[0mplt\u001b[0m\u001b[0;34m.\u001b[0m\u001b[0mplot\u001b[0m\u001b[0;34m(\u001b[0m\u001b[0mtime_info_28st\u001b[0m\u001b[0;34m[\u001b[0m\u001b[0;34m'TIME'\u001b[0m\u001b[0;34m]\u001b[0m\u001b[0;34m,\u001b[0m \u001b[0mtime_info_28st\u001b[0m\u001b[0;34m[\u001b[0m\u001b[0;34m'DAILY_ENTRIES'\u001b[0m\u001b[0;34m]\u001b[0m\u001b[0;34m,\u001b[0m \u001b[0mlabel\u001b[0m\u001b[0;34m=\u001b[0m\u001b[0;34m\"28 St\"\u001b[0m\u001b[0;34m)\u001b[0m\u001b[0;34m\u001b[0m\u001b[0;34m\u001b[0m\u001b[0m\n\u001b[0m\u001b[1;32m      3\u001b[0m \u001b[0;31m#plt.plot(day_info_7av['day_of_week'], day_info_7av['DAILY_ENTRIES'])\u001b[0m\u001b[0;34m\u001b[0m\u001b[0;34m\u001b[0m\u001b[0;34m\u001b[0m\u001b[0m\n\u001b[1;32m      4\u001b[0m \u001b[0;31m#plt.plot(day_info_canal['day_of_week'], day_info_canal['DAILY_ENTRIES'])\u001b[0m\u001b[0;34m\u001b[0m\u001b[0;34m\u001b[0m\u001b[0;34m\u001b[0m\u001b[0m\n\u001b[1;32m      5\u001b[0m \u001b[0mplt\u001b[0m\u001b[0;34m.\u001b[0m\u001b[0mplot\u001b[0m\u001b[0;34m(\u001b[0m\u001b[0mtime_info_wash\u001b[0m\u001b[0;34m[\u001b[0m\u001b[0;34m'TIME'\u001b[0m\u001b[0;34m]\u001b[0m\u001b[0;34m,\u001b[0m \u001b[0mtime_info_wash\u001b[0m\u001b[0;34m[\u001b[0m\u001b[0;34m'DAILY_ENTRIES'\u001b[0m\u001b[0;34m]\u001b[0m\u001b[0;34m,\u001b[0m \u001b[0mlabel\u001b[0m\u001b[0;34m=\u001b[0m\u001b[0;34m\"W 4 ST - WASHINGTON SQ\"\u001b[0m\u001b[0;34m)\u001b[0m\u001b[0;34m\u001b[0m\u001b[0;34m\u001b[0m\u001b[0m\n",
      "\u001b[0;32m/opt/anaconda3/lib/python3.8/site-packages/matplotlib/pyplot.py\u001b[0m in \u001b[0;36mplot\u001b[0;34m(scalex, scaley, data, *args, **kwargs)\u001b[0m\n\u001b[1;32m   2838\u001b[0m \u001b[0;34m@\u001b[0m\u001b[0m_copy_docstring_and_deprecators\u001b[0m\u001b[0;34m(\u001b[0m\u001b[0mAxes\u001b[0m\u001b[0;34m.\u001b[0m\u001b[0mplot\u001b[0m\u001b[0;34m)\u001b[0m\u001b[0;34m\u001b[0m\u001b[0;34m\u001b[0m\u001b[0m\n\u001b[1;32m   2839\u001b[0m \u001b[0;32mdef\u001b[0m \u001b[0mplot\u001b[0m\u001b[0;34m(\u001b[0m\u001b[0;34m*\u001b[0m\u001b[0margs\u001b[0m\u001b[0;34m,\u001b[0m \u001b[0mscalex\u001b[0m\u001b[0;34m=\u001b[0m\u001b[0;32mTrue\u001b[0m\u001b[0;34m,\u001b[0m \u001b[0mscaley\u001b[0m\u001b[0;34m=\u001b[0m\u001b[0;32mTrue\u001b[0m\u001b[0;34m,\u001b[0m \u001b[0mdata\u001b[0m\u001b[0;34m=\u001b[0m\u001b[0;32mNone\u001b[0m\u001b[0;34m,\u001b[0m \u001b[0;34m**\u001b[0m\u001b[0mkwargs\u001b[0m\u001b[0;34m)\u001b[0m\u001b[0;34m:\u001b[0m\u001b[0;34m\u001b[0m\u001b[0;34m\u001b[0m\u001b[0m\n\u001b[0;32m-> 2840\u001b[0;31m     return gca().plot(\n\u001b[0m\u001b[1;32m   2841\u001b[0m         \u001b[0;34m*\u001b[0m\u001b[0margs\u001b[0m\u001b[0;34m,\u001b[0m \u001b[0mscalex\u001b[0m\u001b[0;34m=\u001b[0m\u001b[0mscalex\u001b[0m\u001b[0;34m,\u001b[0m \u001b[0mscaley\u001b[0m\u001b[0;34m=\u001b[0m\u001b[0mscaley\u001b[0m\u001b[0;34m,\u001b[0m\u001b[0;34m\u001b[0m\u001b[0;34m\u001b[0m\u001b[0m\n\u001b[1;32m   2842\u001b[0m         **({\"data\": data} if data is not None else {}), **kwargs)\n",
      "\u001b[0;32m/opt/anaconda3/lib/python3.8/site-packages/matplotlib/axes/_axes.py\u001b[0m in \u001b[0;36mplot\u001b[0;34m(self, scalex, scaley, data, *args, **kwargs)\u001b[0m\n\u001b[1;32m   1743\u001b[0m         \u001b[0mlines\u001b[0m \u001b[0;34m=\u001b[0m \u001b[0;34m[\u001b[0m\u001b[0;34m*\u001b[0m\u001b[0mself\u001b[0m\u001b[0;34m.\u001b[0m\u001b[0m_get_lines\u001b[0m\u001b[0;34m(\u001b[0m\u001b[0;34m*\u001b[0m\u001b[0margs\u001b[0m\u001b[0;34m,\u001b[0m \u001b[0mdata\u001b[0m\u001b[0;34m=\u001b[0m\u001b[0mdata\u001b[0m\u001b[0;34m,\u001b[0m \u001b[0;34m**\u001b[0m\u001b[0mkwargs\u001b[0m\u001b[0;34m)\u001b[0m\u001b[0;34m]\u001b[0m\u001b[0;34m\u001b[0m\u001b[0;34m\u001b[0m\u001b[0m\n\u001b[1;32m   1744\u001b[0m         \u001b[0;32mfor\u001b[0m \u001b[0mline\u001b[0m \u001b[0;32min\u001b[0m \u001b[0mlines\u001b[0m\u001b[0;34m:\u001b[0m\u001b[0;34m\u001b[0m\u001b[0;34m\u001b[0m\u001b[0m\n\u001b[0;32m-> 1745\u001b[0;31m             \u001b[0mself\u001b[0m\u001b[0;34m.\u001b[0m\u001b[0madd_line\u001b[0m\u001b[0;34m(\u001b[0m\u001b[0mline\u001b[0m\u001b[0;34m)\u001b[0m\u001b[0;34m\u001b[0m\u001b[0;34m\u001b[0m\u001b[0m\n\u001b[0m\u001b[1;32m   1746\u001b[0m         \u001b[0mself\u001b[0m\u001b[0;34m.\u001b[0m\u001b[0m_request_autoscale_view\u001b[0m\u001b[0;34m(\u001b[0m\u001b[0mscalex\u001b[0m\u001b[0;34m=\u001b[0m\u001b[0mscalex\u001b[0m\u001b[0;34m,\u001b[0m \u001b[0mscaley\u001b[0m\u001b[0;34m=\u001b[0m\u001b[0mscaley\u001b[0m\u001b[0;34m)\u001b[0m\u001b[0;34m\u001b[0m\u001b[0;34m\u001b[0m\u001b[0m\n\u001b[1;32m   1747\u001b[0m         \u001b[0;32mreturn\u001b[0m \u001b[0mlines\u001b[0m\u001b[0;34m\u001b[0m\u001b[0;34m\u001b[0m\u001b[0m\n",
      "\u001b[0;32m/opt/anaconda3/lib/python3.8/site-packages/matplotlib/axes/_base.py\u001b[0m in \u001b[0;36madd_line\u001b[0;34m(self, line)\u001b[0m\n\u001b[1;32m   1962\u001b[0m             \u001b[0mline\u001b[0m\u001b[0;34m.\u001b[0m\u001b[0mset_clip_path\u001b[0m\u001b[0;34m(\u001b[0m\u001b[0mself\u001b[0m\u001b[0;34m.\u001b[0m\u001b[0mpatch\u001b[0m\u001b[0;34m)\u001b[0m\u001b[0;34m\u001b[0m\u001b[0;34m\u001b[0m\u001b[0m\n\u001b[1;32m   1963\u001b[0m \u001b[0;34m\u001b[0m\u001b[0m\n\u001b[0;32m-> 1964\u001b[0;31m         \u001b[0mself\u001b[0m\u001b[0;34m.\u001b[0m\u001b[0m_update_line_limits\u001b[0m\u001b[0;34m(\u001b[0m\u001b[0mline\u001b[0m\u001b[0;34m)\u001b[0m\u001b[0;34m\u001b[0m\u001b[0;34m\u001b[0m\u001b[0m\n\u001b[0m\u001b[1;32m   1965\u001b[0m         \u001b[0;32mif\u001b[0m \u001b[0;32mnot\u001b[0m \u001b[0mline\u001b[0m\u001b[0;34m.\u001b[0m\u001b[0mget_label\u001b[0m\u001b[0;34m(\u001b[0m\u001b[0;34m)\u001b[0m\u001b[0;34m:\u001b[0m\u001b[0;34m\u001b[0m\u001b[0;34m\u001b[0m\u001b[0m\n\u001b[1;32m   1966\u001b[0m             \u001b[0mline\u001b[0m\u001b[0;34m.\u001b[0m\u001b[0mset_label\u001b[0m\u001b[0;34m(\u001b[0m\u001b[0;34m'_line%d'\u001b[0m \u001b[0;34m%\u001b[0m \u001b[0mlen\u001b[0m\u001b[0;34m(\u001b[0m\u001b[0mself\u001b[0m\u001b[0;34m.\u001b[0m\u001b[0mlines\u001b[0m\u001b[0;34m)\u001b[0m\u001b[0;34m)\u001b[0m\u001b[0;34m\u001b[0m\u001b[0;34m\u001b[0m\u001b[0m\n",
      "\u001b[0;32m/opt/anaconda3/lib/python3.8/site-packages/matplotlib/axes/_base.py\u001b[0m in \u001b[0;36m_update_line_limits\u001b[0;34m(self, line)\u001b[0m\n\u001b[1;32m   1984\u001b[0m         \u001b[0mFigures\u001b[0m \u001b[0mout\u001b[0m \u001b[0mthe\u001b[0m \u001b[0mdata\u001b[0m \u001b[0mlimit\u001b[0m \u001b[0mof\u001b[0m \u001b[0mthe\u001b[0m \u001b[0mgiven\u001b[0m \u001b[0mline\u001b[0m\u001b[0;34m,\u001b[0m \u001b[0mupdating\u001b[0m \u001b[0mself\u001b[0m\u001b[0;34m.\u001b[0m\u001b[0mdataLim\u001b[0m\u001b[0;34m.\u001b[0m\u001b[0;34m\u001b[0m\u001b[0;34m\u001b[0m\u001b[0m\n\u001b[1;32m   1985\u001b[0m         \"\"\"\n\u001b[0;32m-> 1986\u001b[0;31m         \u001b[0mpath\u001b[0m \u001b[0;34m=\u001b[0m \u001b[0mline\u001b[0m\u001b[0;34m.\u001b[0m\u001b[0mget_path\u001b[0m\u001b[0;34m(\u001b[0m\u001b[0;34m)\u001b[0m\u001b[0;34m\u001b[0m\u001b[0;34m\u001b[0m\u001b[0m\n\u001b[0m\u001b[1;32m   1987\u001b[0m         \u001b[0;32mif\u001b[0m \u001b[0mpath\u001b[0m\u001b[0;34m.\u001b[0m\u001b[0mvertices\u001b[0m\u001b[0;34m.\u001b[0m\u001b[0msize\u001b[0m \u001b[0;34m==\u001b[0m \u001b[0;36m0\u001b[0m\u001b[0;34m:\u001b[0m\u001b[0;34m\u001b[0m\u001b[0;34m\u001b[0m\u001b[0m\n\u001b[1;32m   1988\u001b[0m             \u001b[0;32mreturn\u001b[0m\u001b[0;34m\u001b[0m\u001b[0;34m\u001b[0m\u001b[0m\n",
      "\u001b[0;32m/opt/anaconda3/lib/python3.8/site-packages/matplotlib/lines.py\u001b[0m in \u001b[0;36mget_path\u001b[0;34m(self)\u001b[0m\n\u001b[1;32m   1009\u001b[0m         \"\"\"\n\u001b[1;32m   1010\u001b[0m         \u001b[0;32mif\u001b[0m \u001b[0mself\u001b[0m\u001b[0;34m.\u001b[0m\u001b[0m_invalidy\u001b[0m \u001b[0;32mor\u001b[0m \u001b[0mself\u001b[0m\u001b[0;34m.\u001b[0m\u001b[0m_invalidx\u001b[0m\u001b[0;34m:\u001b[0m\u001b[0;34m\u001b[0m\u001b[0;34m\u001b[0m\u001b[0m\n\u001b[0;32m-> 1011\u001b[0;31m             \u001b[0mself\u001b[0m\u001b[0;34m.\u001b[0m\u001b[0mrecache\u001b[0m\u001b[0;34m(\u001b[0m\u001b[0;34m)\u001b[0m\u001b[0;34m\u001b[0m\u001b[0;34m\u001b[0m\u001b[0m\n\u001b[0m\u001b[1;32m   1012\u001b[0m         \u001b[0;32mreturn\u001b[0m \u001b[0mself\u001b[0m\u001b[0;34m.\u001b[0m\u001b[0m_path\u001b[0m\u001b[0;34m\u001b[0m\u001b[0;34m\u001b[0m\u001b[0m\n\u001b[1;32m   1013\u001b[0m \u001b[0;34m\u001b[0m\u001b[0m\n",
      "\u001b[0;32m/opt/anaconda3/lib/python3.8/site-packages/matplotlib/lines.py\u001b[0m in \u001b[0;36mrecache\u001b[0;34m(self, always)\u001b[0m\n\u001b[1;32m    651\u001b[0m         \u001b[0;32mif\u001b[0m \u001b[0malways\u001b[0m \u001b[0;32mor\u001b[0m \u001b[0mself\u001b[0m\u001b[0;34m.\u001b[0m\u001b[0m_invalidx\u001b[0m\u001b[0;34m:\u001b[0m\u001b[0;34m\u001b[0m\u001b[0;34m\u001b[0m\u001b[0m\n\u001b[1;32m    652\u001b[0m             \u001b[0mxconv\u001b[0m \u001b[0;34m=\u001b[0m \u001b[0mself\u001b[0m\u001b[0;34m.\u001b[0m\u001b[0mconvert_xunits\u001b[0m\u001b[0;34m(\u001b[0m\u001b[0mself\u001b[0m\u001b[0;34m.\u001b[0m\u001b[0m_xorig\u001b[0m\u001b[0;34m)\u001b[0m\u001b[0;34m\u001b[0m\u001b[0;34m\u001b[0m\u001b[0m\n\u001b[0;32m--> 653\u001b[0;31m             \u001b[0mx\u001b[0m \u001b[0;34m=\u001b[0m \u001b[0m_to_unmasked_float_array\u001b[0m\u001b[0;34m(\u001b[0m\u001b[0mxconv\u001b[0m\u001b[0;34m)\u001b[0m\u001b[0;34m.\u001b[0m\u001b[0mravel\u001b[0m\u001b[0;34m(\u001b[0m\u001b[0;34m)\u001b[0m\u001b[0;34m\u001b[0m\u001b[0;34m\u001b[0m\u001b[0m\n\u001b[0m\u001b[1;32m    654\u001b[0m         \u001b[0;32melse\u001b[0m\u001b[0;34m:\u001b[0m\u001b[0;34m\u001b[0m\u001b[0;34m\u001b[0m\u001b[0m\n\u001b[1;32m    655\u001b[0m             \u001b[0mx\u001b[0m \u001b[0;34m=\u001b[0m \u001b[0mself\u001b[0m\u001b[0;34m.\u001b[0m\u001b[0m_x\u001b[0m\u001b[0;34m\u001b[0m\u001b[0;34m\u001b[0m\u001b[0m\n",
      "\u001b[0;32m/opt/anaconda3/lib/python3.8/site-packages/matplotlib/cbook/__init__.py\u001b[0m in \u001b[0;36m_to_unmasked_float_array\u001b[0;34m(x)\u001b[0m\n\u001b[1;32m   1287\u001b[0m         \u001b[0;32mreturn\u001b[0m \u001b[0mnp\u001b[0m\u001b[0;34m.\u001b[0m\u001b[0mma\u001b[0m\u001b[0;34m.\u001b[0m\u001b[0masarray\u001b[0m\u001b[0;34m(\u001b[0m\u001b[0mx\u001b[0m\u001b[0;34m,\u001b[0m \u001b[0mfloat\u001b[0m\u001b[0;34m)\u001b[0m\u001b[0;34m.\u001b[0m\u001b[0mfilled\u001b[0m\u001b[0;34m(\u001b[0m\u001b[0mnp\u001b[0m\u001b[0;34m.\u001b[0m\u001b[0mnan\u001b[0m\u001b[0;34m)\u001b[0m\u001b[0;34m\u001b[0m\u001b[0;34m\u001b[0m\u001b[0m\n\u001b[1;32m   1288\u001b[0m     \u001b[0;32melse\u001b[0m\u001b[0;34m:\u001b[0m\u001b[0;34m\u001b[0m\u001b[0;34m\u001b[0m\u001b[0m\n\u001b[0;32m-> 1289\u001b[0;31m         \u001b[0;32mreturn\u001b[0m \u001b[0mnp\u001b[0m\u001b[0;34m.\u001b[0m\u001b[0masarray\u001b[0m\u001b[0;34m(\u001b[0m\u001b[0mx\u001b[0m\u001b[0;34m,\u001b[0m \u001b[0mfloat\u001b[0m\u001b[0;34m)\u001b[0m\u001b[0;34m\u001b[0m\u001b[0;34m\u001b[0m\u001b[0m\n\u001b[0m\u001b[1;32m   1290\u001b[0m \u001b[0;34m\u001b[0m\u001b[0m\n\u001b[1;32m   1291\u001b[0m \u001b[0;34m\u001b[0m\u001b[0m\n",
      "\u001b[0;32m/opt/anaconda3/lib/python3.8/site-packages/numpy/core/_asarray.py\u001b[0m in \u001b[0;36masarray\u001b[0;34m(a, dtype, order, like)\u001b[0m\n\u001b[1;32m    100\u001b[0m         \u001b[0;32mreturn\u001b[0m \u001b[0m_asarray_with_like\u001b[0m\u001b[0;34m(\u001b[0m\u001b[0ma\u001b[0m\u001b[0;34m,\u001b[0m \u001b[0mdtype\u001b[0m\u001b[0;34m=\u001b[0m\u001b[0mdtype\u001b[0m\u001b[0;34m,\u001b[0m \u001b[0morder\u001b[0m\u001b[0;34m=\u001b[0m\u001b[0morder\u001b[0m\u001b[0;34m,\u001b[0m \u001b[0mlike\u001b[0m\u001b[0;34m=\u001b[0m\u001b[0mlike\u001b[0m\u001b[0;34m)\u001b[0m\u001b[0;34m\u001b[0m\u001b[0;34m\u001b[0m\u001b[0m\n\u001b[1;32m    101\u001b[0m \u001b[0;34m\u001b[0m\u001b[0m\n\u001b[0;32m--> 102\u001b[0;31m     \u001b[0;32mreturn\u001b[0m \u001b[0marray\u001b[0m\u001b[0;34m(\u001b[0m\u001b[0ma\u001b[0m\u001b[0;34m,\u001b[0m \u001b[0mdtype\u001b[0m\u001b[0;34m,\u001b[0m \u001b[0mcopy\u001b[0m\u001b[0;34m=\u001b[0m\u001b[0;32mFalse\u001b[0m\u001b[0;34m,\u001b[0m \u001b[0morder\u001b[0m\u001b[0;34m=\u001b[0m\u001b[0morder\u001b[0m\u001b[0;34m)\u001b[0m\u001b[0;34m\u001b[0m\u001b[0;34m\u001b[0m\u001b[0m\n\u001b[0m\u001b[1;32m    103\u001b[0m \u001b[0;34m\u001b[0m\u001b[0m\n\u001b[1;32m    104\u001b[0m \u001b[0;34m\u001b[0m\u001b[0m\n",
      "\u001b[0;31mTypeError\u001b[0m: float() argument must be a string or a number, not 'datetime.time'"
     ]
    },
    {
     "data": {
      "image/png": "[encoded data removed]",
      "text/plain": [
       "<Figure size 720x288 with 1 Axes>"
      ]
     },
     "metadata": {
      "needs_background": "light"
     },
     "output_type": "display_data"
    }
   ],
   "source": [
    "##I couldn't figure out how to make this run without errors, \n",
    "#but for the purposes of this project it was a \"nice to have\"\n",
    "\n",
    "plt.figure(figsize=(10,4));\n",
    "plt.plot(time_info_28st['TIME'], time_info_28st['DAILY_ENTRIES'], label=\"28 St\")\n",
    "#plt.plot(day_info_7av['day_of_week'], day_info_7av['DAILY_ENTRIES'])\n",
    "#plt.plot(day_info_canal['day_of_week'], day_info_canal['DAILY_ENTRIES'])\n",
    "plt.plot(time_info_wash['TIME'], time_info_wash['DAILY_ENTRIES'], label=\"W 4 ST - WASHINGTON SQ\")\n",
    "#plt.plot(day_info_50st['day_of_week'], day_info_50st['DAILY_ENTRIES'])\n",
    "plt.plot(time_info_metro['TIME'], time_info_metro['DAILY_ENTRIES'], label=\"JAY ST - METROTECH\")\n",
    "plt.xticks(rotation=45)\n",
    "plt.title(\"Top Subway Stations Cumulative Entries Per Day, from 05/29/21 - 09/03/21\")\n",
    "plt.xlabel(\"TIME\")\n",
    "plt.ylabel(\"Daily Passengers\")\n",
    "plt.legend()\n",
    "plt.show()"
   ]
  },
  {
   "cell_type": "code",
   "execution_count": null,
   "id": "9b2c433c",
   "metadata": {},
   "outputs": [],
   "source": []
  },
  {
   "cell_type": "code",
   "execution_count": null,
   "id": "94093f2b",
   "metadata": {},
   "outputs": [],
   "source": []
  }
 ],
 "metadata": {
  "kernelspec": {
   "display_name": "Python 3",
   "language": "python",
   "name": "python3"
  },
  "language_info": {
   "codemirror_mode": {
    "name": "ipython",
    "version": 3
   },
   "file_extension": ".py",
   "mimetype": "text/x-python",
   "name": "python",
   "nbconvert_exporter": "python",
   "pygments_lexer": "ipython3",
   "version": "3.8.8"
  }
 },
 "nbformat": 4,
 "nbformat_minor": 5
}
