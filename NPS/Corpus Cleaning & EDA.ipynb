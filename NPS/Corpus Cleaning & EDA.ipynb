{
 "cells": [
  {
   "cell_type": "code",
   "execution_count": 1,
   "id": "7ba4c1db",
   "metadata": {},
   "outputs": [],
   "source": [
    "import nltk\n",
    "import pandas as pd\n",
    "import matplotlib as plt\n",
    "import re\n",
    "import string\n",
    "\n",
    "from sklearn.feature_extraction.text import TfidfVectorizer, CountVectorizer\n",
    "from nltk.stem import PorterStemmer, SnowballStemmer, LancasterStemmer, WordNetLemmatizer\n",
    "\n",
    "from warnings import filterwarnings\n",
    "filterwarnings('ignore')"
   ]
  },
  {
   "cell_type": "code",
   "execution_count": 2,
   "id": "c8c29d2c",
   "metadata": {},
   "outputs": [],
   "source": [
    "data = pd.read_csv('reddit_data_one-year.csv')\n"
   ]
  },
  {
   "cell_type": "code",
   "execution_count": 3,
   "id": "2ce84869",
   "metadata": {},
   "outputs": [],
   "source": [
    "#### make lowercase and remove punctuation\n",
    "\n",
    "alphanumeric = lambda x: re.sub('\\w*\\d\\w*', ' ', x)\n",
    "punc_lower = lambda x: re.sub('[%s]' % re.escape(string.punctuation), ' ', x.lower())\n",
    "\n",
    "data['text'] = data.text.map(alphanumeric).map(punc_lower)"
   ]
  },
  {
   "cell_type": "code",
   "execution_count": 4,
   "id": "96c376bb",
   "metadata": {},
   "outputs": [],
   "source": [
    "def make_corpus(x):\n",
    "    a_file = open(x, \"r\")\n",
    "    corpus = [s.strip() for s in a_file.readlines()]\n",
    "    a_file.close()\n",
    "    return corpus"
   ]
  },
  {
   "cell_type": "code",
   "execution_count": 5,
   "id": "26d6f821",
   "metadata": {},
   "outputs": [],
   "source": [
    "corpus1 = make_corpus('stop_words_english.txt')\n",
    "corpus2 = make_corpus(\"google-10000-english-usa.txt\")\n",
    "big_corpus = corpus1 + corpus2"
   ]
  },
  {
   "cell_type": "code",
   "execution_count": 6,
   "id": "f709e877",
   "metadata": {},
   "outputs": [],
   "source": [
    "stemmer = SnowballStemmer('english')\n"
   ]
  },
  {
   "cell_type": "code",
   "execution_count": 7,
   "id": "8411b325",
   "metadata": {},
   "outputs": [],
   "source": [
    "####create initial filter, apply stemming\n",
    "\n",
    "filtered = []\n",
    "for i in data.text:\n",
    "    new_data = i.split()\n",
    "    post_filter = []\n",
    "    for i in new_data:\n",
    "        if i not in corpus1:\n",
    "            i = stemmer.stem(i)        \n",
    "            if i not in corpus2:\n",
    "                post_filter.append(i)\n",
    "    post_filter = ' '.join(post_filter)\n",
    "    filtered.append(post_filter)\n",
    "data['general_words_removed'] = filtered"
   ]
  },
  {
   "cell_type": "code",
   "execution_count": 8,
   "id": "5a6fcd90",
   "metadata": {},
   "outputs": [],
   "source": [
    "drug_corpus_clean = ['amphetamine', 'clonazolam', 'dopamine', 'methylphenidate', 'bromazolam', 'triptamine', 'dmt', 'mxe', 'fxe', 'flubromazolam',\n",
    " 'triazolam', 'flualprazolam', 'arylcyclohexylamine', 'acetone', 'chloride', 'etizolam', 'alprazolam',\n",
    " 'dinotrogen', 'dpt', 'dck', 'bromazepam', 'lorazepam', 'trazodone', 'mirtazapine', 'ketamine', 'klonopin', 'propranolol',\n",
    " 'fluclotizolam', 'diclazepam', 'norflurazepam', 'quetiapine', 'xan', 'hydrochloride', 'aplrazolam', 'phenethylamine', 'bretazenil', 'rilmazafone', 'pyrazolam', 'emoxypine', 'fasoracetam', 'mda', 'tyrosine', 'diazepam', 'phenylpiracetam', 'pvp', 'flunitrazolam', 'cyclazodone',\n",
    " 'thc', 'dexamphetamine', 'benzene', 'piracetam', 'benzodiazepine', 'diazepine', 'tryptamine', 'diclaz',\n",
    " 'metizolam', 'flubrotizolam', 'mescaline', 'hydroxytryptamine', 'dimethyltryptamine', 'clonazepam', 'clonzolam', 'doxylamine', 'diphenydramine',\n",
    " 'ket', 'allylescaline', 'phenylethylamine', 'oxy', 'nitrazolam', 'clonozolam', 'dopamine',\n",
    " 'etazene', 'methylamphetamine', 'phenidate', 'mth', 'dextroamphetamine', 'midazolam', 'methamphetamine',\n",
    " 'fluoroamphetamine', 'ethyltryptamine', 'ethylamine', 'flouromethamphetamine', 'methoxetamine', 'cyclaz', 'zylofuramine', 'cypenamine', 'ephenidine', 'ketamine', 'flumazenil', 'xtc',\n",
    " 'monoamine', 'methallylescaline', 'methallyescaline', 'propanolol', 'tapentadol', 'esketamine', 'sine', 'isopropylphenidate', 'ethylphenidate', 'diphenhydramine', 'metodesnitazene',\n",
    " 'fluonitazene', 'tiletamine', 'flubromzolam', 'isotonitazene', 'proppranolol', 'racetam', 'desoxymethoxetamine', 'imidazenil',\n",
    " 'isopropyphenidate', 'propylphenidate', 'fluoromethylphenidate', 'lisdexamphetamine', 'isoproscaline',\n",
    " 'isopropoxyphenethylamine', 'mhp', 'lisdexamfetamine', 'flourodeschloroketamine', 'sulbutiamine', 'trpytamine', 'methiopropamine', 'methalyescaline',\n",
    " 'flurazepam', 'olanzapine', 'dizocilpine', 'nimetazepam', 'methylenedioxymethamphetamine', 'etonitazene',\n",
    " 'lormetazepam', 'flunitrazepam', 'dxe', 'temazepam', 'oxazepam', 'ephinidine', 'thiamine', 'tryosine', 'bromozolam', 'isopropylphenidine',\n",
    " 'chloroephenidine', 'hydroxymetamine', 'pcm', 'methoxyketamine', 'norketamine', 'cyclopropylmescaline', 'dichloromescaline', 'dibromomescaline', 'hodgkinsine',\n",
    " 'phenazepam', 'brotizolam', 'hearthstone', 'methallallylescaline', 'deoxymethoxetamine', 'zolam', 'methoxpropamine',\n",
    " 'metilphenidate', 'deschloroketamine','itonitazene']\n",
    "\n",
    "additional_drug_terms = ['opioid','tramadol','tramadol','dopamin','vyvans','oxycodon','dsmt','gabapentin','memantin','benzo',\n",
    "                         'opiat','kpin','psilocybin','fdck','mxipr','hexen','redos','arylcyclohexylamin','odsmt','methadon','dipt',\n",
    "                        'morphin','etazen','eutylon','suboxon','glycol','mxpr','dmxe','shroom','isom','amphetamin','methylphenid','mapb',\n",
    "                        'kratom','ethyl','coke','adderall','etiz','meth','heroin','mdma','cannabinoid','benzos','phenibut','ethanol','cathinone',\n",
    "                        'cathinon','gram','ketamin']\n",
    "\n",
    "misc_terms = ['researchchem','wiki','https','subreddit','psychonautwiki','clam','pyro','adhd','doses','didn',\n",
    "              'don','stims','reddit','doesn','woudln','don','taper','honestly','solut','experience','effect','experi',\n",
    "             'minut','peopl','daili','pretti','sleep','question','reddit',]"
   ]
  },
  {
   "cell_type": "code",
   "execution_count": 9,
   "id": "cec5dda7",
   "metadata": {},
   "outputs": [],
   "source": [
    "additional_terms = set(drug_corpus_clean + additional_drug_terms + misc_terms)"
   ]
  },
  {
   "cell_type": "code",
   "execution_count": 10,
   "id": "2b558b9f",
   "metadata": {},
   "outputs": [],
   "source": [
    "drug_corpus = set(drug_corpus_clean + additional_drug_terms)"
   ]
  },
  {
   "cell_type": "code",
   "execution_count": 11,
   "id": "9b1753ae",
   "metadata": {},
   "outputs": [],
   "source": [
    "filtered2 = []\n",
    "for i in data.general_words_removed:\n",
    "    new_data = i.split()\n",
    "    post_filter = []\n",
    "    for i in new_data:\n",
    "        if len(i) > 4 and i not in additional_terms:\n",
    "            post_filter.append(i)\n",
    "    post_filter = ' '.join(post_filter)\n",
    "    filtered2.append(post_filter)  \n",
    "data['drugsremoved'] = filtered2"
   ]
  },
  {
   "cell_type": "code",
   "execution_count": 12,
   "id": "80c0ca48",
   "metadata": {},
   "outputs": [],
   "source": [
    "data.to_csv('for_analysis.csv', index=False)"
   ]
  },
  {
   "cell_type": "code",
   "execution_count": 13,
   "id": "d11bfcb7",
   "metadata": {},
   "outputs": [],
   "source": [
    "drugs_in_text = []\n",
    "for i in data.text:\n",
    "    new_data = i.split()\n",
    "    post_filter = []\n",
    "    for i in new_data:\n",
    "        if i in drug_corpus:\n",
    "            drugs_in_text.append(i)"
   ]
  },
  {
   "cell_type": "code",
   "execution_count": 14,
   "id": "33d5bacd",
   "metadata": {},
   "outputs": [],
   "source": [
    "all_drugs_df = pd.DataFrame(drugs_in_text)\n",
    "all_drugs_df[0] = all_drugs_df[0].str.replace('benzos','benzo')\n",
    "\n",
    "top_values = pd.DataFrame(all_drugs_df.value_counts().head(5))"
   ]
  },
  {
   "cell_type": "code",
   "execution_count": 15,
   "id": "afcc56a9",
   "metadata": {},
   "outputs": [],
   "source": [
    "all_drugs_df.to_csv('drugs_corpus.csv',index=False)"
   ]
  },
  {
   "cell_type": "code",
   "execution_count": 16,
   "id": "c8597787",
   "metadata": {},
   "outputs": [],
   "source": [
    "top_values['drug_name'] = top_values.index\n"
   ]
  },
  {
   "cell_type": "code",
   "execution_count": 17,
   "id": "484870f7",
   "metadata": {},
   "outputs": [],
   "source": [
    "top_values.columns = ['values', 'drug']\n"
   ]
  },
  {
   "cell_type": "code",
   "execution_count": 20,
   "id": "2fcf12ce",
   "metadata": {},
   "outputs": [
    {
     "data": {
      "text/html": [
       "<div>\n",
       "<style scoped>\n",
       "    .dataframe tbody tr th:only-of-type {\n",
       "        vertical-align: middle;\n",
       "    }\n",
       "\n",
       "    .dataframe tbody tr th {\n",
       "        vertical-align: top;\n",
       "    }\n",
       "\n",
       "    .dataframe thead th {\n",
       "        text-align: right;\n",
       "    }\n",
       "</style>\n",
       "<table border=\"1\" class=\"dataframe\">\n",
       "  <thead>\n",
       "    <tr style=\"text-align: right;\">\n",
       "      <th></th>\n",
       "      <th>values</th>\n",
       "      <th>drug</th>\n",
       "    </tr>\n",
       "    <tr>\n",
       "      <th>0</th>\n",
       "      <th></th>\n",
       "      <th></th>\n",
       "    </tr>\n",
       "  </thead>\n",
       "  <tbody>\n",
       "    <tr>\n",
       "      <th>benzo</th>\n",
       "      <td>380</td>\n",
       "      <td>(benzo,)</td>\n",
       "    </tr>\n",
       "    <tr>\n",
       "      <th>mdma</th>\n",
       "      <td>182</td>\n",
       "      <td>(mdma,)</td>\n",
       "    </tr>\n",
       "    <tr>\n",
       "      <th>etizolam</th>\n",
       "      <td>156</td>\n",
       "      <td>(etizolam,)</td>\n",
       "    </tr>\n",
       "    <tr>\n",
       "      <th>ketamine</th>\n",
       "      <td>156</td>\n",
       "      <td>(ketamine,)</td>\n",
       "    </tr>\n",
       "    <tr>\n",
       "      <th>dmt</th>\n",
       "      <td>134</td>\n",
       "      <td>(dmt,)</td>\n",
       "    </tr>\n",
       "  </tbody>\n",
       "</table>\n",
       "</div>"
      ],
      "text/plain": [
       "          values         drug\n",
       "0                            \n",
       "benzo        380     (benzo,)\n",
       "mdma         182      (mdma,)\n",
       "etizolam     156  (etizolam,)\n",
       "ketamine     156  (ketamine,)\n",
       "dmt          134       (dmt,)"
      ]
     },
     "execution_count": 20,
     "metadata": {},
     "output_type": "execute_result"
    }
   ],
   "source": [
    "top_values"
   ]
  },
  {
   "cell_type": "code",
   "execution_count": 19,
   "id": "b8f357d9",
   "metadata": {},
   "outputs": [
    {
     "data": {
      "image/png": "[encoded data removed]",
      "text/plain": [
       "<Figure size 432x288 with 1 Axes>"
      ]
     },
     "metadata": {
      "needs_background": "light"
     },
     "output_type": "display_data"
    }
   ],
   "source": [
    "import matplotlib.pyplot as plt\n",
    "\n",
    "top_values.plot.bar(x=None, y=None)\n",
    "plt.title('Top most prelavent drugs in corpus')\n",
    "plt.xlabel('Drug Name')\n",
    "plt.ylabel('Number of postings')\n",
    "plt.legend().remove()\n"
   ]
  },
  {
   "cell_type": "code",
   "execution_count": null,
   "id": "72fce97e",
   "metadata": {},
   "outputs": [],
   "source": [
    "top_values"
   ]
  },
  {
   "cell_type": "code",
   "execution_count": null,
   "id": "f44a1e57",
   "metadata": {},
   "outputs": [],
   "source": []
  }
 ],
 "metadata": {
  "kernelspec": {
   "display_name": "Python 3",
   "language": "python",
   "name": "python3"
  },
  "language_info": {
   "codemirror_mode": {
    "name": "ipython",
    "version": 3
   },
   "file_extension": ".py",
   "mimetype": "text/x-python",
   "name": "python",
   "nbconvert_exporter": "python",
   "pygments_lexer": "ipython3",
   "version": "3.8.8"
  }
 },
 "nbformat": 4,
 "nbformat_minor": 5
}
