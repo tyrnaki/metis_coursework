{
 "cells": [
  {
   "cell_type": "code",
   "execution_count": 1,
   "id": "81e5c920",
   "metadata": {},
   "outputs": [],
   "source": [
    "import nltk\n",
    "import pandas as pd\n",
    "import matplotlib as plt\n",
    "import re\n",
    "import string\n",
    "\n",
    "from sklearn.feature_extraction.text import TfidfVectorizer, CountVectorizer\n",
    "from nltk.stem import PorterStemmer, SnowballStemmer, LancasterStemmer, WordNetLemmatizer\n",
    "\n",
    "# sklearn\n",
    "from sklearn.feature_extraction.text import CountVectorizer, TfidfVectorizer\n",
    "from sklearn.decomposition import LatentDirichletAllocation\n",
    "\n",
    "# logging (set to INFO)\n",
    "import logging\n",
    "logging.basicConfig(format='%(asctime)s : %(levelname)s : %(message)s', level=logging.INFO)\n",
    "\n",
    "#genism\n",
    "from gensim.parsing.preprocessing import remove_stopwords\n",
    "\n",
    "from collections import OrderedDict\n",
    "\n",
    "import pyLDAvis\n",
    "import pyLDAvis.sklearn\n",
    "pyLDAvis.enable_notebook()\n",
    "\n",
    "import gensim\n"
   ]
  },
  {
   "cell_type": "code",
   "execution_count": 80,
   "id": "db03f5a4",
   "metadata": {},
   "outputs": [
    {
     "name": "stderr",
     "output_type": "stream",
     "text": [
      "/opt/anaconda3/lib/python3.8/site-packages/ipykernel/ipkernel.py:287: DeprecationWarning: `should_run_async` will not call `transform_cell` automatically in the future. Please pass the result to `transformed_cell` argument and any exception that happen during thetransform in `preprocessing_exc_tuple` in IPython 7.17 and above.\n",
      "  and should_run_async(code)\n"
     ]
    }
   ],
   "source": [
    "from warnings import filterwarnings\n",
    "filterwarnings('ignore')"
   ]
  },
  {
   "cell_type": "code",
   "execution_count": 81,
   "id": "4d230eab",
   "metadata": {},
   "outputs": [],
   "source": [
    "data = pd.read_csv('reddit_data_one-year.csv')\n"
   ]
  },
  {
   "cell_type": "code",
   "execution_count": 82,
   "id": "28a67c7d",
   "metadata": {},
   "outputs": [],
   "source": [
    "#### make lowercase and remove punctuation\n",
    "\n",
    "alphanumeric = lambda x: re.sub('\\w*\\d\\w*', ' ', x)\n",
    "punc_lower = lambda x: re.sub('[%s]' % re.escape(string.punctuation), ' ', x.lower())\n",
    "\n",
    "data['text'] = data.text.map(alphanumeric).map(punc_lower)"
   ]
  },
  {
   "cell_type": "code",
   "execution_count": 4,
   "id": "a06e5c77",
   "metadata": {},
   "outputs": [
    {
     "name": "stderr",
     "output_type": "stream",
     "text": [
      "/opt/anaconda3/lib/python3.8/site-packages/ipykernel/ipkernel.py:287: DeprecationWarning: `should_run_async` will not call `transform_cell` automatically in the future. Please pass the result to `transformed_cell` argument and any exception that happen during thetransform in `preprocessing_exc_tuple` in IPython 7.17 and above.\n",
      "  and should_run_async(code)\n"
     ]
    }
   ],
   "source": [
    "#create big corpus of english general words\n",
    "\n",
    "a_file = open(\"stop_words_english.txt\", \"r\")\n",
    "\n",
    "corpus1 = [s.strip() for s in a_file.readlines()]\n",
    "\n",
    "for line in a_file:\n",
    "  stripped_line = line.strip()\n",
    "  line_list = stripped_line.split()\n",
    "  list_of_lists.append(line_list)\n",
    "\n",
    "a_file.close()\n",
    "\n",
    "a_file = open(\"google-10000-english-usa.txt\", \"r\")\n",
    "\n",
    "corpus2 = [s.strip() for s in a_file.readlines()]\n",
    "\n",
    "a_file.close()\n",
    "\n",
    "big_corpus = corpus1 + corpus2"
   ]
  },
  {
   "cell_type": "code",
   "execution_count": 5,
   "id": "ef7265ea",
   "metadata": {},
   "outputs": [
    {
     "name": "stderr",
     "output_type": "stream",
     "text": [
      "/opt/anaconda3/lib/python3.8/site-packages/ipykernel/ipkernel.py:287: DeprecationWarning: `should_run_async` will not call `transform_cell` automatically in the future. Please pass the result to `transformed_cell` argument and any exception that happen during thetransform in `preprocessing_exc_tuple` in IPython 7.17 and above.\n",
      "  and should_run_async(code)\n"
     ]
    }
   ],
   "source": [
    "stemmer = SnowballStemmer('english')\n"
   ]
  },
  {
   "cell_type": "code",
   "execution_count": 6,
   "id": "214b1463",
   "metadata": {},
   "outputs": [
    {
     "name": "stderr",
     "output_type": "stream",
     "text": [
      "/opt/anaconda3/lib/python3.8/site-packages/ipykernel/ipkernel.py:287: DeprecationWarning: `should_run_async` will not call `transform_cell` automatically in the future. Please pass the result to `transformed_cell` argument and any exception that happen during thetransform in `preprocessing_exc_tuple` in IPython 7.17 and above.\n",
      "  and should_run_async(code)\n"
     ]
    }
   ],
   "source": [
    "####create initial filter, apply stemming\n",
    "\n",
    "filtered = []\n",
    "for i in data.text:\n",
    "    new_data = i.split()\n",
    "    post_filter = []\n",
    "    for i in new_data:\n",
    "        if i not in corpus1:\n",
    "            i = stemmer.stem(i)\n",
    "            \n",
    "            if i not in corpus2:\n",
    "                post_filter.append(i)\n",
    "    post_filter = ' '.join(post_filter)\n",
    "    filtered.append(post_filter)\n",
    "data['general_words_removed'] = filtered\n"
   ]
  },
  {
   "cell_type": "code",
   "execution_count": 7,
   "id": "6593d463",
   "metadata": {},
   "outputs": [
    {
     "name": "stderr",
     "output_type": "stream",
     "text": [
      "/opt/anaconda3/lib/python3.8/site-packages/ipykernel/ipkernel.py:287: DeprecationWarning: `should_run_async` will not call `transform_cell` automatically in the future. Please pass the result to `transformed_cell` argument and any exception that happen during thetransform in `preprocessing_exc_tuple` in IPython 7.17 and above.\n",
      "  and should_run_async(code)\n"
     ]
    }
   ],
   "source": [
    "drug_corpus_clean = ['amphetamine', 'clonazolam', 'dopamine', 'methylphenidate', 'bromazolam', 'triptamine', 'dmt', 'mxe', 'fxe', 'flubromazolam',\n",
    " 'triazolam', 'flualprazolam', 'arylcyclohexylamine', 'acetone', 'chloride', 'etizolam', 'alprazolam',\n",
    " 'dinotrogen', 'dpt', 'dck', 'bromazepam', 'lorazepam', 'trazodone', 'mirtazapine', 'ketamine', 'klonopin', 'propranolol',\n",
    " 'fluclotizolam', 'diclazepam', 'norflurazepam', 'quetiapine', 'xan', 'hydrochloride', 'aplrazolam', 'phenethylamine', 'bretazenil', 'rilmazafone', 'pyrazolam', 'emoxypine', 'fasoracetam', 'mda', 'tyrosine', 'diazepam', 'phenylpiracetam', 'pvp', 'flunitrazolam', 'cyclazodone',\n",
    " 'thc', 'dexamphetamine', 'benzene', 'piracetam', 'benzodiazepine', 'diazepine', 'tryptamine', 'diclaz',\n",
    " 'metizolam', 'flubrotizolam', 'mescaline', 'hydroxytryptamine', 'dimethyltryptamine', 'clonazepam', 'clonzolam', 'doxylamine', 'diphenydramine',\n",
    " 'ket', 'allylescaline', 'phenylethylamine', 'oxy', 'nitrazolam', 'clonozolam', 'dopamine',\n",
    " 'etazene', 'methylamphetamine', 'phenidate', 'mth', 'dextroamphetamine', 'midazolam', 'methamphetamine',\n",
    " 'fluoroamphetamine', 'ethyltryptamine', 'ethylamine', 'flouromethamphetamine', 'methoxetamine', 'cyclaz', 'zylofuramine', 'cypenamine', 'ephenidine', 'ketamine', 'flumazenil', 'xtc',\n",
    " 'monoamine', 'methallylescaline', 'methallyescaline', 'propanolol', 'tapentadol', 'esketamine', 'sine', 'isopropylphenidate', 'ethylphenidate', 'diphenhydramine', 'metodesnitazene',\n",
    " 'fluonitazene', 'tiletamine', 'flubromzolam', 'isotonitazene', 'proppranolol', 'racetam', 'desoxymethoxetamine', 'imidazenil',\n",
    " 'isopropyphenidate', 'propylphenidate', 'fluoromethylphenidate', 'lisdexamphetamine', 'isoproscaline',\n",
    " 'isopropoxyphenethylamine', 'mhp', 'lisdexamfetamine', 'flourodeschloroketamine', 'sulbutiamine', 'trpytamine', 'methiopropamine', 'methalyescaline',\n",
    " 'flurazepam', 'olanzapine', 'dizocilpine', 'nimetazepam', 'methylenedioxymethamphetamine', 'etonitazene',\n",
    " 'lormetazepam', 'flunitrazepam', 'dxe', 'temazepam', 'oxazepam', 'ephinidine', 'thiamine', 'tryosine', 'bromozolam', 'isopropylphenidine',\n",
    " 'chloroephenidine', 'hydroxymetamine', 'pcm', 'methoxyketamine', 'norketamine', 'cyclopropylmescaline', 'dichloromescaline', 'dibromomescaline', 'hodgkinsine',\n",
    " 'phenazepam', 'brotizolam', 'hearthstone', 'methallallylescaline', 'deoxymethoxetamine', 'zolam', 'methoxpropamine',\n",
    " 'metilphenidate', 'deschloroketamine','itonitazene']\n",
    "\n",
    "additional_drug_terms = ['opioid','tramadol','tramadol','dopamin','vyvans','oxycodon','dsmt','gabapentin','memantin','benzo',\n",
    "                         'opiat','kpin','psilocybin','fdck','mxipr','hexen','redos','arylcyclohexylamin','odsmt','methadon','dipt',\n",
    "                        'morphin','etazen','eutylon','suboxon','glycol','mxpr','dmxe','shroom','isom','amphetamin','methylphenid','mapb',\n",
    "                        'kratom','ethyl','coke','adderall','etiz','meth','heroin','mdma','cannabinoid','benzos','phenibut','ethanol','cathinone',\n",
    "                        'cathinon','gram','ketamin']\n",
    "\n",
    "misc_terms = ['researchchem','wiki','https','subreddit','psychonautwiki','clam','pyro','adhd','doses','didn',\n",
    "              'don','stims','reddit','doesn','woudln','don','taper','honestly','solut','experience','effect','experi',\n",
    "             'minut','peopl','daili','pretti','sleep','question','reddit',]"
   ]
  },
  {
   "cell_type": "code",
   "execution_count": 8,
   "id": "2257ca65",
   "metadata": {},
   "outputs": [
    {
     "name": "stderr",
     "output_type": "stream",
     "text": [
      "/opt/anaconda3/lib/python3.8/site-packages/ipykernel/ipkernel.py:287: DeprecationWarning: `should_run_async` will not call `transform_cell` automatically in the future. Please pass the result to `transformed_cell` argument and any exception that happen during thetransform in `preprocessing_exc_tuple` in IPython 7.17 and above.\n",
      "  and should_run_async(code)\n"
     ]
    }
   ],
   "source": [
    "filtered2 = []\n",
    "for i in data.general_words_removed:\n",
    "    new_data = i.split()\n",
    "    post_filter = []\n",
    "    for i in new_data:\n",
    "        if len(i) > 4 and i not in drug_corpus_clean and i not in additional_drug_terms:\n",
    "            if i not in misc_terms:\n",
    "                post_filter.append(i)\n",
    "    post_filter = ' '.join(post_filter)\n",
    "    filtered2.append(post_filter)  \n",
    "data['drugsremoved'] = filtered2"
   ]
  },
  {
   "cell_type": "code",
   "execution_count": 9,
   "id": "caa92d4e",
   "metadata": {},
   "outputs": [
    {
     "name": "stdout",
     "output_type": "stream",
     "text": [
      "(1031, 1156)\n"
     ]
    },
    {
     "name": "stderr",
     "output_type": "stream",
     "text": [
      "/opt/anaconda3/lib/python3.8/site-packages/ipykernel/ipkernel.py:287: DeprecationWarning: `should_run_async` will not call `transform_cell` automatically in the future. Please pass the result to `transformed_cell` argument and any exception that happen during thetransform in `preprocessing_exc_tuple` in IPython 7.17 and above.\n",
      "  and should_run_async(code)\n"
     ]
    }
   ],
   "source": [
    "tf_vectorizer = CountVectorizer(strip_accents = 'unicode',\n",
    "                                stop_words = 'english',\n",
    "                                lowercase = True,\n",
    "                                token_pattern = r'\\b[a-zA-Z]{3,}\\b',\n",
    "                                max_df = 0.7, #ignore terms that appear in more than X% of the document \n",
    "                                min_df = 4)  #ignore terms that appear in less than X documents\n",
    "dtm_tf = tf_vectorizer.fit_transform(data.drugsremoved)\n",
    "print(dtm_tf.shape)"
   ]
  },
  {
   "cell_type": "code",
   "execution_count": 10,
   "id": "5b5b4840",
   "metadata": {},
   "outputs": [
    {
     "name": "stdout",
     "output_type": "stream",
     "text": [
      "(1031, 1156)\n"
     ]
    },
    {
     "name": "stderr",
     "output_type": "stream",
     "text": [
      "/opt/anaconda3/lib/python3.8/site-packages/ipykernel/ipkernel.py:287: DeprecationWarning: `should_run_async` will not call `transform_cell` automatically in the future. Please pass the result to `transformed_cell` argument and any exception that happen during thetransform in `preprocessing_exc_tuple` in IPython 7.17 and above.\n",
      "  and should_run_async(code)\n",
      "/opt/anaconda3/lib/python3.8/site-packages/sklearn/feature_extraction/text.py:1805: UserWarning: Only (<class 'numpy.float64'>, <class 'numpy.float32'>, <class 'numpy.float16'>) 'dtype' should be used. <class 'numpy.int64'> 'dtype' will be converted to np.float64.\n",
      "  warnings.warn(\"Only {} 'dtype' should be used. {} 'dtype' will \"\n"
     ]
    }
   ],
   "source": [
    "tfidf_vectorizer = TfidfVectorizer(**tf_vectorizer.get_params())\n",
    "dtm_tfidf = tfidf_vectorizer.fit_transform(data.drugsremoved)\n",
    "print(dtm_tfidf.shape)"
   ]
  },
  {
   "cell_type": "code",
   "execution_count": 11,
   "id": "7b92f5f6",
   "metadata": {},
   "outputs": [
    {
     "name": "stderr",
     "output_type": "stream",
     "text": [
      "/opt/anaconda3/lib/python3.8/site-packages/ipykernel/ipkernel.py:287: DeprecationWarning: `should_run_async` will not call `transform_cell` automatically in the future. Please pass the result to `transformed_cell` argument and any exception that happen during thetransform in `preprocessing_exc_tuple` in IPython 7.17 and above.\n",
      "  and should_run_async(code)\n"
     ]
    },
    {
     "data": {
      "text/plain": [
       "LatentDirichletAllocation(n_components=4, random_state=0)"
      ]
     },
     "execution_count": 11,
     "metadata": {},
     "output_type": "execute_result"
    }
   ],
   "source": [
    "### for TF DTM\n",
    "lda_tf = LatentDirichletAllocation(n_components=4, random_state=0)\n",
    "lda_tf.fit(dtm_tf)\n",
    "\n",
    "# for TFIDF DTM\n",
    "lda_tfidf = LatentDirichletAllocation(n_components=4, random_state=0)\n",
    "lda_tfidf.fit(dtm_tfidf)"
   ]
  },
  {
   "cell_type": "code",
   "execution_count": 12,
   "id": "f83102dc",
   "metadata": {},
   "outputs": [
    {
     "name": "stderr",
     "output_type": "stream",
     "text": [
      "/opt/anaconda3/lib/python3.8/site-packages/ipykernel/ipkernel.py:287: DeprecationWarning: `should_run_async` will not call `transform_cell` automatically in the future. Please pass the result to `transformed_cell` argument and any exception that happen during thetransform in `preprocessing_exc_tuple` in IPython 7.17 and above.\n",
      "  and should_run_async(code)\n",
      "2021-11-11 15:38:39,299 : INFO : NumExpr defaulting to 8 threads.\n",
      "/opt/anaconda3/lib/python3.8/site-packages/sklearn/manifold/_t_sne.py:691: FutureWarning: 'square_distances' has been introduced in 0.24 to help phase out legacy squaring behavior. The 'legacy' setting will be removed in 1.1 (renaming of 0.26), and the default setting will be changed to True. In 1.3, 'square_distances' will be removed altogether, and distances will be squared by default. Set 'square_distances'=True to silence this warning.\n",
      "  warnings.warn(\n"
     ]
    },
    {
     "data": {
      "text/html": [
       "\n",
       "<link rel=\"stylesheet\" type=\"text/css\" href=\"https://cdn.jsdelivr.net/gh/bmabey/pyLDAvis@3.3.1/pyLDAvis/js/ldavis.v1.0.0.css\">\n",
       "\n",
       "\n",
       "<div id=\"ldavis_el53781404220100798242761032301\"></div>\n",
       "<script type=\"text/javascript\">\n",
       "\n",
       "var ldavis_el53781404220100798242761032301_data = {\"mdsDat\": {\"x\": [269.5624084472656, 1.782994270324707, 220.81143188476562, 50.533992767333984], \"y\": [-124.80339813232422, -295.0796813964844, -343.8321228027344, -76.05093383789062], \"topics\": [1, 2, 3, 4], \"cluster\": [1, 1, 1, 1], \"Freq\": [30.79746694953859, 24.524671033929533, 22.8644639829286, 21.813398033603278]}, \"tinfo\": {\"Term\": [\"toler\", \"snort\", \"euphoria\", \"stimul\", \"addict\", \"comedown\", \"bottl\", \"sedat\", \"withdraw\", \"don\", \"dissolv\", \"anxieti\", \"dissoci\", \"psychedel\", \"disso\", \"didn\", \"seizur\", \"euphor\", \"anxious\", \"hospit\", \"activ\", \"serotonin\", \"headspac\", \"sensat\", \"substanc\", \"memori\", \"capsul\", \"tryptamin\", \"bodyload\", \"depress\", \"bodyload\", \"fractal\", \"sneez\", \"inhibitor\", \"charact\", \"exercis\", \"percept\", \"synthes\", \"volum\", \"auditori\", \"textur\", \"sensori\", \"neurotransmitt\", \"electr\", \"manufactur\", \"medicin\", \"reuptak\", \"neuron\", \"comeup\", \"chines\", \"puriti\", \"radiat\", \"churn\", \"stimmi\", \"mushroom\", \"shulgin\", \"literatur\", \"methallylescalin\", \"classifi\", \"salvia\", \"reminisc\", \"administr\", \"tryptamin\", \"morph\", \"sensat\", \"agonist\", \"drift\", \"dissoci\", \"psychedel\", \"headspac\", \"releas\", \"uncomfort\", \"enhanc\", \"substanc\", \"activ\", \"lucid\", \"serotonin\", \"uniqu\", \"potenti\", \"stimul\", \"introspect\", \"physic\", \"intens\", \"notic\", \"experienc\", \"beauti\", \"communiti\", \"increas\", \"produc\", \"chang\", \"compar\", \"complet\", \"chemic\", \"extrem\", \"sober\", \"euphoria\", \"decid\", \"pregabalin\", \"hospit\", \"candi\", \"tripsit\", \"everclear\", \"aceton\", \"salin\", \"bottl\", \"nostril\", \"breakthrough\", \"seizur\", \"amnesia\", \"vodka\", \"dipyanon\", \"titrat\", \"trazodon\", \"volumetr\", \"ephenidin\", \"suicid\", \"singular\", \"propylen\", \"shook\", \"recip\", \"refil\", \"psychiatrist\", \"zopiclon\", \"prolli\", \"blackout\", \"deliri\", \"anticip\", \"dissolv\", \"manic\", \"syring\", \"mania\", \"struggl\", \"forgiv\", \"weigh\", \"verifi\", \"memori\", \"annoy\", \"disso\", \"handl\", \"solvent\", \"wouldn\", \"prepar\", \"readi\", \"accur\", \"depress\", \"realiz\", \"nasal\", \"advic\", \"absolut\", \"dosag\", \"don\", \"respons\", \"confus\", \"rememb\", \"extrem\", \"anxieti\", \"complet\", \"decid\", \"stori\", \"dissoci\", \"intens\", \"liter\", \"notic\", \"substanc\", \"experienc\", \"addict\", \"psychedel\", \"compar\", \"succin\", \"cough\", \"vasoconstrict\", \"underwhelm\", \"benzofuran\", \"parachut\", \"abyss\", \"fatigu\", \"squar\", \"boyfriend\", \"rolli\", \"jitter\", \"downer\", \"dehydr\", \"methylon\", \"hydrat\", \"mdphp\", \"hydrochlorid\", \"chatti\", \"candyflip\", \"bitter\", \"convo\", \"diagnos\", \"slept\", \"analyz\", \"sticki\", \"horni\", \"polic\", \"isn\", \"molli\", \"snort\", \"comedown\", \"tongu\", \"sedat\", \"wasn\", \"euphoria\", \"doesn\", \"swallow\", \"hangov\", \"freebas\", \"didn\", \"euphor\", \"stimul\", \"don\", \"blotter\", \"didnt\", \"chill\", \"energi\", \"sweat\", \"chemic\", \"durat\", \"decid\", \"consum\", \"intens\", \"capsul\", \"dosag\", \"insan\", \"notic\", \"extrem\", \"psychedel\", \"compar\", \"anxieti\", \"physic\", \"substanc\", \"rememb\", \"experienc\", \"seroquel\", \"tianeptin\", \"cartridg\", \"stutter\", \"decemb\", \"heartbeat\", \"avail\", \"withdraw\", \"deliveri\", \"nightmar\", \"lectur\", \"quicker\", \"norflu\", \"cardiotox\", \"cowork\", \"overthink\", \"habitu\", \"integr\", \"unhealthi\", \"gemini\", \"anxious\", \"remov\", \"graduat\", \"interv\", \"compel\", \"glimps\", \"deadlin\", \"bullshit\", \"chime\", \"toler\", \"borax\", \"addict\", \"inositol\", \"simultan\", \"clearnet\", \"habit\", \"symptom\", \"receiv\", \"impair\", \"crave\", \"neurotox\", \"scare\", \"anxieti\", \"motiv\", \"sampl\", \"advanc\", \"moder\", \"psych\", \"sleepi\", \"medic\", \"shitti\", \"improv\", \"studi\", \"baselin\", \"regret\", \"liter\", \"manag\", \"substanc\", \"notic\", \"coupl\", \"disso\", \"decid\", \"chemic\", \"sourc\", \"sober\", \"complet\", \"compar\", \"absolut\", \"increas\", \"appreci\", \"activ\", \"experienc\", \"couldn\", \"combin\", \"don\"], \"Freq\": [228.0, 177.0, 188.0, 301.0, 137.0, 127.0, 80.0, 104.0, 62.0, 163.0, 75.0, 190.0, 155.0, 225.0, 181.0, 93.0, 42.0, 121.0, 40.0, 35.0, 91.0, 72.0, 92.0, 70.0, 359.0, 57.0, 65.0, 63.0, 33.0, 78.0, 32.96288516847456, 28.044263486861116, 18.464131543267243, 16.59873896206263, 13.70415368981537, 13.673617936373098, 19.96352271547335, 10.823277844536003, 12.592086471138598, 9.856378417542198, 22.306050164566262, 8.896136721876609, 8.883191519705392, 19.49919783374072, 7.922515986355891, 7.921987536970893, 20.23919941762375, 7.916660248016925, 35.06685846947447, 10.473434747004923, 6.976967939423086, 6.969667565307186, 6.923339991586937, 11.233553978354802, 33.62026239706209, 6.016016669783791, 6.012645197142749, 6.011027875502631, 6.010471623025788, 6.005474979094235, 15.282094292367848, 20.167808141400755, 53.4191435274154, 17.521065666921086, 58.495489301183156, 18.84747428758031, 17.770443986464933, 107.20111136316272, 148.60167561688462, 64.61077056083043, 30.06870261148103, 38.64401962687041, 44.98352265969895, 198.03738850665073, 61.821533317823686, 25.95220900828208, 49.27779060260501, 21.947997402362528, 46.56477655115652, 127.1862054554117, 30.74891279848501, 60.19376456005439, 70.08276030783648, 82.01975704361395, 64.42369208684957, 37.0672950665103, 34.24356116125696, 44.484762681052985, 29.745390889176086, 37.56826061759872, 44.73720623497192, 45.859428979002296, 42.463997534687174, 37.22532897276126, 31.24115325864749, 31.833959935728366, 30.966513791481347, 24.696220093710387, 34.56600105776272, 16.2307322553538, 16.22396944947297, 14.348168034818613, 15.21902246743513, 13.401167889443768, 75.55886819923326, 16.896432082360885, 11.508165102708592, 39.60453992379085, 9.63509592281769, 9.569264979290011, 8.67826535365617, 7.751387899946708, 7.727160824245034, 18.872525243926763, 6.803671658252705, 15.190747629881752, 6.7242427190575444, 5.879277640783463, 5.878632434938699, 5.874994275678574, 5.867401747552966, 7.535735834341951, 4.934773894135204, 4.934302365102499, 19.72535407551893, 4.929577909519734, 4.9290110378973, 64.73365106698186, 25.424387145806808, 22.50031202643952, 25.524049912750748, 17.108976468554744, 9.450496890590477, 31.752976966937123, 8.71404596329009, 38.4533483976502, 20.04406379507277, 95.61600308424671, 23.205227570992665, 21.376618894070244, 33.53478710737077, 26.845538536796575, 23.324356514756914, 20.26618467621547, 39.42077159908912, 36.09301807876163, 28.907220989457915, 33.635093034408854, 35.271958406685734, 47.20983355585713, 50.96625397172717, 30.738431674755372, 32.944859214931476, 41.586356922208914, 41.46769462624454, 50.12134105047066, 45.01436189400423, 48.309969117841845, 29.406761905053553, 41.11861312608556, 39.25837773952896, 28.862073435698527, 40.48102223687823, 40.796709545041196, 34.821510004720174, 33.63502682166166, 33.84235640174721, 29.518449858431485, 19.290572176864746, 19.286695271497322, 16.439247399072336, 16.432116120725215, 9.748446947212244, 8.807646972812798, 8.80375195624457, 8.740486842800854, 7.834417665252239, 6.893224525221602, 6.863835548732869, 5.952707148084976, 5.940000999175044, 5.937494961384192, 4.999303567012272, 9.115399554879366, 11.546899748525401, 7.4232673304283034, 4.9298037953021066, 4.915035658087427, 16.305315300593847, 4.0487852858001245, 4.035995161137715, 25.694779235945344, 5.6036725671805865, 4.003494173710991, 18.107561753284035, 11.587300477658603, 23.136915667022453, 16.852535802161636, 134.80338715858136, 95.11568126746974, 21.832359568425414, 77.86111673987223, 29.71171867821662, 131.3925383860934, 26.81791793310641, 27.981417095117227, 22.384335440487575, 31.66665344289951, 57.96673855385259, 69.00279026482502, 142.38347485931013, 85.36521760100742, 26.57518276987322, 36.861943040622585, 32.75730208563225, 46.130888378323796, 19.503018444356947, 78.995546924523, 44.93437424121009, 80.78060927223207, 36.291915940250725, 57.604512333705614, 33.00631314493176, 45.632657907669284, 26.23338469140928, 43.53990883874927, 34.43804431345731, 40.74238016041879, 34.300411138889864, 36.70171189788947, 32.203867005578154, 40.66894523290721, 29.39908000793899, 29.501367679810592, 15.263725616846067, 14.269176207708256, 10.629801443994996, 7.81372521182478, 7.807483376733462, 7.787416900044135, 6.852138848815809, 56.141560863991785, 5.916752577989042, 5.911704586461475, 5.904121641656478, 5.877348403403353, 4.975234862967572, 4.971620678736715, 4.970239705161658, 4.969811523537938, 4.9693511663321726, 4.957995160994326, 4.957738993192253, 4.955425848331709, 35.10479246071793, 11.454600628255681, 4.023350131114757, 4.01941680200981, 4.016668397512911, 4.016574364226914, 4.01454092891273, 4.010933508774813, 4.0084150666421365, 191.35883502687264, 8.503706536210585, 94.16293736686741, 9.126027504053377, 9.060391839418621, 10.417390025225005, 17.082585220735904, 17.711602933388463, 26.230171971475695, 15.371791476117405, 13.323559692865258, 14.506980284435596, 21.393918691187803, 93.43044150288091, 28.882958066177434, 17.885113781330553, 25.29335232144679, 27.113583462337306, 29.678646450986495, 13.226347600125736, 26.546713224186206, 16.290171422343597, 17.897179712746528, 34.76999527873925, 23.106318630763173, 15.805972154201811, 30.141154089680693, 29.840052546985564, 79.90657099473242, 56.045704304790945, 37.704931825375915, 48.972218829463095, 49.07901465796135, 45.24286736644125, 25.16801782781598, 30.448730479656398, 37.68968535511702, 36.20073099677231, 27.375617780880592, 30.059065781989744, 23.245306091229395, 25.89719982966606, 29.519457469700065, 25.366632149116093, 25.84096929239743, 25.577803863141305], \"Total\": [228.0, 177.0, 188.0, 301.0, 137.0, 127.0, 80.0, 104.0, 62.0, 163.0, 75.0, 190.0, 155.0, 225.0, 181.0, 93.0, 42.0, 121.0, 40.0, 35.0, 91.0, 72.0, 92.0, 70.0, 359.0, 57.0, 65.0, 63.0, 33.0, 78.0, 33.68613941748027, 28.86993291340165, 19.243341886459007, 17.318631345975902, 14.430093629285764, 14.429679054836758, 21.164884545140225, 11.541927831083948, 13.46500963311611, 10.579018691851795, 24.042186328660783, 9.616288907662215, 9.616102776427114, 21.148487654965734, 8.653218677237529, 8.653341289818524, 22.121292035482067, 8.653242676605817, 38.4390190602389, 11.53645821830116, 7.6908084829529, 7.690666770743931, 7.690277001801869, 12.499263738093827, 37.478886815162625, 6.728034733743144, 6.727991048049867, 6.727989024682168, 6.727971109712875, 6.727887265414353, 17.288972359590243, 23.07408496476269, 63.40866673154853, 20.16267463350722, 70.99898246197932, 22.092720666669805, 21.125751250722686, 155.88282550587624, 225.99674400284536, 92.77696232567483, 39.37834772500128, 52.79266322165558, 63.18428360687147, 359.40961427933155, 91.92536157315551, 33.52813839054601, 72.93678637929183, 27.82344601442416, 75.55298788182566, 301.2632826716913, 44.95727771111323, 120.4445802227677, 173.6546748551053, 222.0863924240324, 158.2660272410804, 66.88608450670095, 59.16233533037581, 103.9176760445677, 50.72018670355836, 85.90088223639165, 144.75679822906557, 155.99631653917436, 186.75893019328583, 125.59902510410724, 94.26360924912979, 188.76494509777376, 209.13610683951663, 25.419585310331364, 35.78255547871334, 16.949750680892326, 16.949827961732918, 15.067578516944272, 16.009660009913787, 14.126552982406263, 80.02894519990848, 17.897132336138785, 12.24458699425651, 42.373686066241206, 10.362275050467819, 10.362769533928576, 9.421315261704153, 8.480138375585534, 8.480359133525427, 20.728914313809362, 7.5392920475601075, 16.97267824807198, 7.540994189804601, 6.597811152053111, 6.597844638850188, 6.597894724094482, 6.597937736388831, 8.484973972225596, 5.656808245238959, 5.656803897282173, 22.624624137324574, 5.6568981838743495, 5.656963821210148, 75.48141834201488, 30.17747989083643, 27.35547302512603, 32.063802499789645, 21.682891080693693, 11.311770274522834, 45.350320830856326, 10.368819840652112, 57.59007985843852, 27.41774542135506, 181.69776654713306, 33.0673955777036, 30.267764130369887, 52.939427124848635, 41.66763612181362, 34.98099747430786, 30.209032559551694, 78.47677591481097, 73.90184278498738, 53.036047012892425, 72.05233330392014, 79.58220800077594, 136.85799144970332, 163.1874166574946, 63.52808429207424, 74.10956338172969, 119.72976961353339, 125.59902510410724, 190.53033470836, 155.99631653917436, 209.13610683951663, 62.55149787217102, 155.88282550587624, 173.6546748551053, 66.20236101804132, 222.0863924240324, 359.40961427933155, 158.2660272410804, 137.32316509504693, 225.99674400284536, 144.75679822906557, 20.020915965467108, 20.02104568133641, 17.160620317730345, 17.160594875373736, 10.486302526385963, 9.532729930139153, 9.532853212967064, 9.533192501333568, 8.57928377426621, 7.625747810142038, 7.626158524422191, 6.67217619086182, 6.672080862871939, 6.672205039158754, 5.718754135252439, 10.482484838076159, 13.33283144500726, 8.576678971345252, 5.717853821877043, 5.717560248320078, 19.087467711939503, 4.765205667436618, 4.765059916152467, 30.459053416496534, 6.667702148009809, 4.7648389301721945, 21.95760567747731, 14.28834446962238, 28.648510613159665, 20.930391152747887, 177.9936054608824, 127.39609044721146, 27.58930881742368, 104.14764373402753, 38.10041677363451, 188.76494509777376, 36.22635741561062, 38.06336133349901, 30.472819794617145, 45.80469743997171, 93.11706086399056, 121.21099906114661, 301.2632826716913, 163.1874166574946, 39.87857605375607, 60.80260948813472, 52.39279493317787, 85.69000803361348, 27.552538909784303, 186.75893019328583, 86.79653349165157, 209.13610683951663, 71.6614467692979, 173.6546748551053, 65.39723002267996, 136.85799144970332, 51.261561268878054, 222.0863924240324, 125.59902510410724, 225.99674400284536, 144.75679822906557, 190.53033470836, 120.4445802227677, 359.40961427933155, 119.72976961353339, 158.2660272410804, 16.11575200390081, 15.169620431913236, 11.377519228754812, 8.533757308899304, 8.533844104562514, 8.534094271455665, 7.586251047342947, 62.518678655228726, 6.638252527414627, 6.6381128672842316, 6.6382291277118926, 6.638228757912025, 5.690369168887998, 5.690412268858981, 5.690378760692812, 5.690394642558061, 5.690462801096606, 5.690357853423697, 5.690509584197518, 5.690277016426605, 40.72564532942816, 13.290003627792707, 4.742511272582724, 4.742626044937855, 4.742645210740798, 4.742616303134528, 4.742626805117464, 4.742651705362239, 4.742847719047385, 228.73800254622068, 10.448543618651597, 137.32316509504693, 11.386462121528835, 11.40185327414837, 13.288000538778075, 22.77867363764618, 23.75360225744012, 37.96703482698901, 20.930376259627245, 18.03571767707092, 19.968662752408772, 32.15745291555342, 190.53033470836, 46.65167736351924, 26.667573367456544, 40.82493806399678, 45.639646020666476, 52.10198485479405, 19.019643617191715, 50.17426166361405, 25.59009752894289, 29.4053475735518, 76.17690550294307, 42.92134512229988, 24.703722245435465, 66.20236101804132, 65.3203586697752, 359.40961427933155, 222.0863924240324, 113.10169994044287, 181.69776654713306, 209.13610683951663, 186.75893019328583, 59.937272080183895, 94.26360924912979, 155.99631653917436, 144.75679822906557, 79.58220800077594, 103.9176760445677, 56.02303876762744, 91.92536157315551, 158.2660272410804, 88.27843252975816, 101.81095962801524, 163.1874166574946], \"Category\": [\"Default\", \"Default\", \"Default\", \"Default\", \"Default\", \"Default\", \"Default\", \"Default\", \"Default\", \"Default\", \"Default\", \"Default\", \"Default\", \"Default\", \"Default\", \"Default\", \"Default\", \"Default\", \"Default\", \"Default\", \"Default\", \"Default\", \"Default\", \"Default\", \"Default\", \"Default\", \"Default\", \"Default\", \"Default\", \"Default\", \"Topic1\", \"Topic1\", \"Topic1\", \"Topic1\", \"Topic1\", \"Topic1\", \"Topic1\", \"Topic1\", \"Topic1\", \"Topic1\", \"Topic1\", \"Topic1\", \"Topic1\", \"Topic1\", \"Topic1\", \"Topic1\", \"Topic1\", \"Topic1\", \"Topic1\", \"Topic1\", \"Topic1\", \"Topic1\", \"Topic1\", \"Topic1\", \"Topic1\", \"Topic1\", \"Topic1\", \"Topic1\", \"Topic1\", \"Topic1\", \"Topic1\", \"Topic1\", \"Topic1\", \"Topic1\", \"Topic1\", \"Topic1\", \"Topic1\", \"Topic1\", \"Topic1\", \"Topic1\", \"Topic1\", \"Topic1\", \"Topic1\", \"Topic1\", \"Topic1\", \"Topic1\", \"Topic1\", \"Topic1\", \"Topic1\", \"Topic1\", \"Topic1\", \"Topic1\", \"Topic1\", \"Topic1\", \"Topic1\", \"Topic1\", \"Topic1\", \"Topic1\", \"Topic1\", \"Topic1\", \"Topic1\", \"Topic1\", \"Topic1\", \"Topic1\", \"Topic1\", \"Topic1\", \"Topic1\", \"Topic2\", \"Topic2\", \"Topic2\", \"Topic2\", \"Topic2\", \"Topic2\", \"Topic2\", \"Topic2\", \"Topic2\", \"Topic2\", \"Topic2\", \"Topic2\", \"Topic2\", \"Topic2\", \"Topic2\", \"Topic2\", \"Topic2\", \"Topic2\", \"Topic2\", \"Topic2\", \"Topic2\", \"Topic2\", \"Topic2\", \"Topic2\", \"Topic2\", \"Topic2\", \"Topic2\", \"Topic2\", \"Topic2\", \"Topic2\", \"Topic2\", \"Topic2\", \"Topic2\", \"Topic2\", \"Topic2\", \"Topic2\", \"Topic2\", \"Topic2\", \"Topic2\", \"Topic2\", \"Topic2\", \"Topic2\", \"Topic2\", \"Topic2\", \"Topic2\", \"Topic2\", \"Topic2\", \"Topic2\", \"Topic2\", \"Topic2\", \"Topic2\", \"Topic2\", \"Topic2\", \"Topic2\", \"Topic2\", \"Topic2\", \"Topic2\", \"Topic2\", \"Topic2\", \"Topic2\", \"Topic2\", \"Topic2\", \"Topic2\", \"Topic2\", \"Topic2\", \"Topic2\", \"Topic2\", \"Topic2\", \"Topic2\", \"Topic2\", \"Topic2\", \"Topic3\", \"Topic3\", \"Topic3\", \"Topic3\", \"Topic3\", \"Topic3\", \"Topic3\", \"Topic3\", \"Topic3\", \"Topic3\", \"Topic3\", \"Topic3\", \"Topic3\", \"Topic3\", \"Topic3\", \"Topic3\", \"Topic3\", \"Topic3\", \"Topic3\", \"Topic3\", \"Topic3\", \"Topic3\", \"Topic3\", \"Topic3\", \"Topic3\", \"Topic3\", \"Topic3\", \"Topic3\", \"Topic3\", \"Topic3\", \"Topic3\", \"Topic3\", \"Topic3\", \"Topic3\", \"Topic3\", \"Topic3\", \"Topic3\", \"Topic3\", \"Topic3\", \"Topic3\", \"Topic3\", \"Topic3\", \"Topic3\", \"Topic3\", \"Topic3\", \"Topic3\", \"Topic3\", \"Topic3\", \"Topic3\", \"Topic3\", \"Topic3\", \"Topic3\", \"Topic3\", \"Topic3\", \"Topic3\", \"Topic3\", \"Topic3\", \"Topic3\", \"Topic3\", \"Topic3\", \"Topic3\", \"Topic3\", \"Topic3\", \"Topic3\", \"Topic3\", \"Topic3\", \"Topic4\", \"Topic4\", \"Topic4\", \"Topic4\", \"Topic4\", \"Topic4\", \"Topic4\", \"Topic4\", \"Topic4\", \"Topic4\", \"Topic4\", \"Topic4\", \"Topic4\", \"Topic4\", \"Topic4\", \"Topic4\", \"Topic4\", \"Topic4\", \"Topic4\", \"Topic4\", \"Topic4\", \"Topic4\", \"Topic4\", \"Topic4\", \"Topic4\", \"Topic4\", \"Topic4\", \"Topic4\", \"Topic4\", \"Topic4\", \"Topic4\", \"Topic4\", \"Topic4\", \"Topic4\", \"Topic4\", \"Topic4\", \"Topic4\", \"Topic4\", \"Topic4\", \"Topic4\", \"Topic4\", \"Topic4\", \"Topic4\", \"Topic4\", \"Topic4\", \"Topic4\", \"Topic4\", \"Topic4\", \"Topic4\", \"Topic4\", \"Topic4\", \"Topic4\", \"Topic4\", \"Topic4\", \"Topic4\", \"Topic4\", \"Topic4\", \"Topic4\", \"Topic4\", \"Topic4\", \"Topic4\", \"Topic4\", \"Topic4\", \"Topic4\", \"Topic4\", \"Topic4\", \"Topic4\", \"Topic4\", \"Topic4\", \"Topic4\", \"Topic4\", \"Topic4\", \"Topic4\", \"Topic4\", \"Topic4\"], \"logprob\": [30.0, 29.0, 28.0, 27.0, 26.0, 25.0, 24.0, 23.0, 22.0, 21.0, 20.0, 19.0, 18.0, 17.0, 16.0, 15.0, 14.0, 13.0, 12.0, 11.0, 10.0, 9.0, 8.0, 7.0, 6.0, 5.0, 4.0, 3.0, 2.0, 1.0, -5.367, -5.5286, -5.9465, -6.053, -6.2447, -6.2469, -5.8685, -6.4807, -6.3293, -6.5743, -5.7575, -6.6768, -6.6782, -5.892, -6.7927, -6.7927, -5.8548, -6.7934, -5.3051, -6.5135, -6.9198, -6.9208, -6.9275, -6.4435, -5.3472, -7.068, -7.0685, -7.0688, -7.0689, -7.0697, -6.1357, -5.8583, -4.8842, -5.999, -4.7934, -5.926, -5.9848, -4.1877, -3.8611, -4.694, -5.4589, -5.208, -5.0561, -3.5739, -4.7381, -5.6061, -4.9649, -5.7737, -5.0215, -4.0167, -5.4365, -4.7648, -4.6127, -4.4554, -4.6969, -5.2496, -5.3289, -5.0672, -5.4697, -5.2362, -5.0616, -5.0368, -5.1137, -5.2454, -5.4206, -5.4018, -5.4295, -5.428, -5.0918, -5.8477, -5.8481, -5.971, -5.9121, -6.0393, -4.3097, -5.8075, -6.1916, -4.9557, -6.3692, -6.3761, -6.4738, -6.5868, -6.5899, -5.6969, -6.7172, -5.9139, -6.7289, -6.8632, -6.8633, -6.8639, -6.8652, -6.615, -7.0383, -7.0384, -5.6527, -7.0394, -7.0395, -4.4643, -5.3989, -5.5211, -5.395, -5.795, -6.3886, -5.1766, -6.4697, -4.9852, -5.6367, -4.0743, -5.4902, -5.5723, -5.122, -5.3445, -5.4851, -5.6257, -4.9603, -5.0485, -5.2705, -5.1191, -5.0715, -4.78, -4.7035, -5.2091, -5.1398, -4.9069, -4.9097, -4.7202, -4.8276, -4.757, -5.2534, -4.9182, -4.9645, -5.2721, -4.9338, -4.926, -5.0844, -5.1191, -5.1129, -5.2496, -5.6049, -5.6051, -5.7649, -5.7653, -6.2874, -6.3889, -6.3893, -6.3966, -6.506, -6.634, -6.6383, -6.7807, -6.7828, -6.7832, -6.9552, -6.3546, -6.1181, -6.5599, -6.9692, -6.9722, -5.773, -7.1661, -7.1693, -5.3182, -6.8411, -7.1774, -5.6682, -6.1146, -5.4231, -5.74, -3.6607, -4.0094, -5.4811, -4.2096, -5.173, -3.6863, -5.2755, -5.233, -5.4562, -5.1093, -4.5047, -4.3304, -3.606, -4.1176, -5.2846, -4.9573, -5.0754, -4.733, -5.594, -4.1951, -4.7593, -4.1728, -4.9729, -4.5109, -5.0678, -4.7439, -5.2975, -4.7908, -5.0254, -4.8573, -5.0294, -4.9617, -5.0924, -4.8591, -5.1836, -5.1801, -5.792, -5.8594, -6.1538, -6.4616, -6.4624, -6.465, -6.5929, -4.4896, -6.7397, -6.7405, -6.7418, -6.7464, -6.913, -6.9137, -6.914, -6.9141, -6.9142, -6.9165, -6.9165, -6.917, -4.9591, -6.0791, -7.1254, -7.1263, -7.127, -7.127, -7.1275, -7.1284, -7.1291, -3.2633, -6.377, -3.9724, -6.3063, -6.3136, -6.174, -5.6794, -5.6432, -5.2506, -5.7849, -5.9279, -5.8428, -5.4544, -3.9803, -5.1542, -5.6335, -5.2869, -5.2174, -5.127, -5.9353, -5.2386, -5.7269, -5.6328, -4.9687, -5.3774, -5.7571, -5.1116, -5.1216, -4.1366, -4.4913, -4.8877, -4.6262, -4.624, -4.7054, -5.2919, -5.1014, -4.8881, -4.9284, -5.2078, -5.1143, -5.3714, -5.2633, -5.1324, -5.284, -5.2655, -5.2757], \"loglift\": [30.0, 29.0, 28.0, 27.0, 26.0, 25.0, 24.0, 23.0, 22.0, 21.0, 20.0, 19.0, 18.0, 17.0, 16.0, 15.0, 14.0, 13.0, 12.0, 11.0, 10.0, 9.0, 8.0, 7.0, 6.0, 5.0, 4.0, 3.0, 2.0, 1.0, 1.156, 1.1487, 1.1364, 1.1353, 1.1261, 1.1239, 1.1193, 1.1135, 1.1107, 1.107, 1.1028, 1.0999, 1.0985, 1.0965, 1.0895, 1.0894, 1.0888, 1.0888, 1.0859, 1.0811, 1.0803, 1.0793, 1.0727, 1.071, 1.0691, 1.0659, 1.0653, 1.0651, 1.065, 1.0641, 1.0544, 1.0431, 1.0063, 1.0373, 0.984, 1.0189, 1.0048, 0.8033, 0.7585, 0.8159, 0.908, 0.8658, 0.838, 0.5817, 0.781, 0.9216, 0.7856, 0.9405, 0.6937, 0.3154, 0.7979, 0.4841, 0.2703, 0.1816, 0.2789, 0.5875, 0.631, 0.3293, 0.6441, 0.3507, 0.0035, -0.0465, -0.3034, -0.0384, 0.0734, -0.6022, -0.7323, 1.3766, 1.3709, 1.3621, 1.3617, 1.3566, 1.3548, 1.3528, 1.348, 1.348, 1.3435, 1.3379, 1.3327, 1.3258, 1.3233, 1.3156, 1.3125, 1.3117, 1.3028, 1.2946, 1.2909, 1.2902, 1.2901, 1.2894, 1.2881, 1.2869, 1.2689, 1.2688, 1.2684, 1.2679, 1.2677, 1.2519, 1.2341, 1.2101, 1.1774, 1.1686, 1.2257, 1.0491, 1.2316, 1.0016, 1.0922, 0.7635, 1.0513, 1.0577, 0.9489, 0.9659, 1.0002, 1.0063, 0.717, 0.6889, 0.7986, 0.6437, 0.5918, 0.3411, 0.2418, 0.6795, 0.5948, 0.348, 0.2973, 0.0701, 0.1626, -0.0599, 0.6507, 0.0728, -0.0814, 0.5753, -0.2967, -0.7704, -0.1086, -0.0013, -0.4933, -0.1845, 1.4384, 1.4382, 1.4326, 1.4322, 1.4026, 1.3965, 1.396, 1.3888, 1.3848, 1.3746, 1.3703, 1.3615, 1.3594, 1.3589, 1.3411, 1.3358, 1.3318, 1.3312, 1.3273, 1.3243, 1.318, 1.3127, 1.3095, 1.3055, 1.3017, 1.3015, 1.2828, 1.2661, 1.2619, 1.2589, 1.1977, 1.1834, 1.2416, 1.1847, 1.2269, 1.1133, 1.1749, 1.1679, 1.1671, 1.1065, 1.0016, 0.9122, 0.7261, 0.8276, 1.0697, 0.9751, 1.0059, 0.8563, 1.1301, 0.6152, 0.8172, 0.5243, 0.7952, 0.3721, 0.7918, 0.3773, 0.8057, -0.1538, 0.1817, -0.2377, 0.0357, -0.1714, 0.1565, -0.7034, 0.0713, -0.2043, 1.4683, 1.4615, 1.4547, 1.4345, 1.4337, 1.4311, 1.4209, 1.4151, 1.4076, 1.4068, 1.4055, 1.4009, 1.3883, 1.3876, 1.3873, 1.3872, 1.3871, 1.3849, 1.3848, 1.3844, 1.3741, 1.374, 1.3582, 1.3572, 1.3565, 1.3565, 1.356, 1.3551, 1.3544, 1.3442, 1.3167, 1.1453, 1.3014, 1.2928, 1.2793, 1.2349, 1.2291, 1.1528, 1.214, 1.2198, 1.2031, 1.1151, 0.8101, 1.0432, 1.1232, 1.0439, 1.0019, 0.9599, 1.1594, 0.886, 1.071, 1.0261, 0.7383, 0.9034, 1.0761, 0.7358, 0.7392, 0.019, 0.1457, 0.4241, 0.2116, 0.0731, 0.1049, 0.6549, 0.3926, 0.1022, 0.1367, 0.4555, 0.2822, 0.643, 0.2558, -0.1566, 0.2756, 0.1515, -0.3305]}, \"token.table\": {\"Topic\": [1, 2, 3, 4, 3, 2, 3, 4, 2, 1, 2, 4, 1, 2, 3, 4, 1, 3, 1, 2, 3, 4, 1, 2, 3, 4, 1, 4, 2, 2, 3, 1, 2, 3, 2, 1, 2, 3, 4, 2, 4, 1, 2, 3, 4, 1, 4, 1, 3, 4, 1, 2, 3, 4, 3, 1, 3, 2, 3, 2, 3, 1, 1, 4, 2, 4, 3, 2, 4, 2, 3, 2, 3, 4, 4, 4, 1, 2, 3, 4, 1, 3, 1, 2, 3, 4, 1, 2, 3, 4, 4, 1, 4, 1, 1, 3, 4, 1, 2, 3, 4, 2, 3, 4, 1, 2, 1, 2, 3, 1, 2, 3, 4, 4, 1, 2, 3, 4, 1, 2, 3, 4, 1, 2, 3, 4, 3, 3, 1, 2, 3, 4, 1, 2, 3, 4, 4, 3, 4, 4, 4, 1, 2, 3, 4, 3, 2, 4, 2, 3, 4, 3, 1, 2, 3, 4, 1, 2, 3, 4, 2, 1, 2, 3, 4, 1, 2, 3, 4, 1, 2, 3, 1, 2, 3, 4, 1, 2, 3, 4, 1, 2, 3, 4, 3, 1, 2, 3, 1, 2, 3, 4, 1, 2, 1, 2, 3, 4, 1, 2, 3, 4, 2, 1, 2, 3, 4, 1, 2, 3, 2, 1, 1, 2, 3, 4, 1, 2, 3, 4, 3, 2, 4, 1, 1, 2, 3, 4, 4, 4, 4, 1, 2, 4, 4, 1, 2, 3, 4, 1, 2, 3, 4, 1, 2, 3, 4, 4, 1, 3, 1, 2, 3, 4, 3, 4, 1, 4, 1, 2, 3, 4, 1, 2, 3, 4, 1, 3, 4, 2, 3, 4, 4, 1, 2, 3, 4, 4, 1, 2, 3, 4, 1, 3, 3, 4, 1, 2, 3, 4, 1, 1, 2, 1, 2, 3, 4, 1, 2, 4, 2, 3, 1, 2, 3, 1, 2, 3, 4, 1, 1, 2, 4, 1, 3, 1, 2, 3, 4, 2, 3, 1, 2, 1, 3, 4, 1, 2, 3, 1, 2, 3, 4, 1, 1, 3, 4, 1, 4, 4, 1, 2, 1, 2, 3, 4, 4, 3, 1, 3, 1, 2, 3, 4, 3, 4, 1, 2, 4, 2, 1, 2, 4, 1, 2, 3, 4, 2, 2, 1, 2, 4, 1, 2, 3, 4, 2, 1, 4, 1, 1, 2, 3, 4, 1, 2, 3, 4, 2, 3, 4, 2, 2, 1, 3, 4, 1, 3, 1, 2, 3, 4, 1, 2, 1, 4, 1, 2, 4, 1, 3, 3, 2, 1, 1, 4, 2, 4, 1, 2, 3, 2, 4, 1, 2, 3, 1, 4, 1, 3, 2, 3, 4, 2, 1, 1, 4, 2, 1, 3, 4, 2, 3, 4, 1, 1, 2, 3, 4, 1, 2, 3, 4, 1, 2, 4, 1, 2, 3, 4, 3, 3, 1, 3, 1, 2, 3, 4, 1, 2, 3, 4, 2, 4, 1, 2, 3, 4, 4, 1, 2, 3, 4, 3, 1, 2, 1, 2, 3, 2, 3, 1, 2, 4, 1, 2, 3, 1, 4, 4, 2, 1, 2, 3, 4, 2, 3, 4, 2, 2, 1, 2, 3, 4, 1, 3, 4, 3, 4, 1, 2, 3, 4, 3, 2, 4, 2, 1, 2, 3, 1, 2, 3, 4, 1, 2, 3, 4, 2, 4, 1, 2, 3, 4, 2], \"Freq\": [0.15078747249489483, 0.4397967947767766, 0.06282811353953952, 0.33927181311351334, 0.9441034912567152, 0.6620536410947151, 0.09930804616420727, 0.19861609232841454, 0.9369343253205522, 0.6744602244578556, 0.04351356286824875, 0.28283815864361683, 0.05825674054674516, 0.2475911473236669, 0.01456418513668629, 0.6845167014242556, 0.8667732666557637, 0.08667732666557637, 0.17146382412208114, 0.17146382412208114, 0.04898966403488032, 0.6123708004360041, 0.1665456127476599, 0.4718792361183697, 0.1526668116853549, 0.20818201593457486, 0.8600117788419043, 0.1357913335013533, 0.9650390431924056, 0.14997670528796525, 0.8998602317277915, 0.10941818715930479, 0.7294545810620319, 0.14589091621240638, 0.8838663562338978, 0.05248508073691651, 0.26242540368458256, 0.1941947987265911, 0.4881112508533236, 0.12277276294961552, 0.8594093406473087, 0.16064819399265778, 0.24989719065524543, 0.1784979933251753, 0.4105453846479032, 0.9452672588339627, 0.9227219025992714, 0.37277489683535486, 0.06989529315662904, 0.5358639142008226, 0.5531793387650487, 0.17940951527515092, 0.11960634351676729, 0.1495079293959591, 0.9536249764717055, 0.10478079283135967, 0.8382463426508774, 0.8839925860693241, 0.0883992586069324, 0.3259895735112528, 0.6770552680618327, 0.9796314024300385, 0.09570711828344282, 0.8613640645509854, 0.9496564000706949, 0.04998191579319446, 0.9179427610614384, 0.980024888191718, 0.8434100263946083, 0.9439666872526337, 0.8744988741428811, 0.42815269072236717, 0.5046085283513613, 0.06116467010319531, 0.8786709580539023, 0.9668188450254873, 0.44237031111540104, 0.16297853567409512, 0.22118515555770052, 0.18626118362753727, 0.9701946750773056, 0.8744539744736973, 0.22488884443989998, 0.1070899259237619, 0.4230052073988595, 0.24095233332846427, 0.11451956337989683, 0.07634637558659789, 0.6298575985894326, 0.1908659389664947, 0.8433751697183759, 0.8668171643994029, 0.0866817164399403, 0.9102402941220279, 0.8917993109896183, 0.15051173381303265, 0.7525586690651632, 0.294663758298816, 0.26519738246893443, 0.18662038025591682, 0.25537525719230725, 0.19623836110072104, 0.7457057721827399, 0.054946741108201885, 0.9105331211795621, 0.07804569610110532, 0.5746899578952781, 0.37185820804988584, 0.05070793746134807, 0.31086622908577494, 0.20724415272384997, 0.23487670642036332, 0.24869298326861997, 0.8434111813679613, 0.29487875752789533, 0.28846834975554975, 0.17308100985332986, 0.2435954953491309, 0.3508319144464129, 0.445286660643524, 0.02698707034203176, 0.17541595722320644, 0.3488626189823287, 0.04186351427787944, 0.5023621713345533, 0.09768153331505203, 0.8394181236151659, 0.9490013809674173, 0.13593354181900394, 0.30585046909275887, 0.2718670836380079, 0.28319487878959154, 0.22104000216764655, 0.24756480242776413, 0.19451520190752894, 0.3359808032948227, 0.8786761321651009, 0.22178213651488127, 0.7207919436733641, 0.8434144545558291, 0.9374438883554129, 0.14822882795551062, 0.2295156045762745, 0.38730758272246324, 0.23429717967161356, 0.8992529403377706, 0.8838766117893169, 0.9038523278861756, 0.49696231203911506, 0.1783967273986567, 0.30582296125484004, 0.8394437993194822, 0.010739170574344358, 0.18256589976385407, 0.6228718933119728, 0.18256589976385407, 0.03289332508648808, 0.23025327560541656, 0.6085265141000294, 0.13157330034595233, 0.9552806322683289, 0.10456925454321053, 0.5283499176920111, 0.09906560956725208, 0.269678603821964, 0.6864130134462213, 0.26301807057285115, 0.01924522467606228, 0.0320753744601038, 0.07948976227252803, 0.8611390912857204, 0.06624146856044003, 0.1380210530867618, 0.08281263185205708, 0.7453136866685136, 0.055208421234704715, 0.006127923466665613, 0.31252409679994625, 0.5208734946665771, 0.1593260101333059, 0.20459163329377283, 0.3434216701716901, 0.33611482612548393, 0.11690950473929876, 0.8992696766293916, 0.8520407055055257, 0.09467118950061397, 0.047335594750306985, 0.23042394892330206, 0.057605987230825516, 0.5184538850774296, 0.19586035658480677, 0.8984093950348614, 0.04728470500183481, 0.15170963684471253, 0.14003966477973465, 0.5368187149889828, 0.16337960890969042, 0.7122024248939356, 0.17409392608518426, 0.01582672055319857, 0.09496032331919141, 0.9284691395215768, 0.23925221493612586, 0.03300030550843115, 0.5692552700204374, 0.1485013747879402, 0.16952300112409696, 0.13243984462820074, 0.6939847858517719, 0.9291473068652853, 0.9702225494272008, 0.40438242568957217, 0.2211466390489848, 0.18955426204198697, 0.18955426204198697, 0.2945882738288074, 0.3264356547832731, 0.27070273811295814, 0.095542142863397, 0.9440698904109005, 0.7956314335935936, 0.0884034926215104, 0.9698671653996874, 0.1964863977498103, 0.06549546591660343, 0.6986183031104367, 0.043663643944402294, 0.878691843220651, 0.8434163222009522, 0.8434350010140599, 0.13170213717105625, 0.08780142478070417, 0.7463121106359855, 0.8786631553125086, 0.06048253771000166, 0.695549183665019, 0.12096507542000332, 0.09072380656500248, 0.06563225895994335, 0.09844838843991502, 0.7219548485593767, 0.09844838843991502, 0.7006049602252615, 0.2694634462404852, 0.021557075699238815, 0.010778537849619407, 0.9374164082951284, 0.13662691843843455, 0.8197615106306073, 0.027946578622504735, 0.9781302517876658, 0.8585750553445839, 0.09539722837162043, 0.8161667264668587, 0.11659524663812268, 0.23888724875168807, 0.7166617462550642, 0.03400741982384983, 0.13602967929539933, 0.20404451894309897, 0.6121335568292969, 0.42341208613180975, 0.1924600391508226, 0.08660701761787018, 0.28869005872623393, 0.9816018171638062, 0.1756471833528099, 0.7904123250876445, 0.21458573886001256, 0.5072026554873024, 0.2536013277436512, 0.8786793605593132, 0.4030988515478025, 0.2245836458623471, 0.33399619128246494, 0.04030988515478025, 0.8434145897439009, 0.689543530620337, 0.2446767366717325, 0.022243339697430226, 0.04448667939486045, 0.1745291428065812, 0.8028340569102734, 0.8992568284119311, 0.9038555139581509, 0.03021040291078085, 0.4380508422063223, 0.07552600727695212, 0.45315604366171275, 0.891796668150907, 0.7754680470816496, 0.2087798588296749, 0.015309162722995217, 0.35211074262888997, 0.18370995267594262, 0.45927488168985653, 0.03118781685380455, 0.8108832381989184, 0.15593908426902275, 0.8284323306795209, 0.13254917290872337, 0.9245114793000858, 0.07500282322810506, 0.9000338787372607, 0.07972214971128845, 0.358749673700798, 0.039861074855644225, 0.538124510551197, 0.9244983795349385, 0.05209230491387169, 0.6598358622423748, 0.27782562620731566, 0.8917969363488136, 0.874316307668871, 0.21910774670495506, 0.10955387335247753, 0.08764309868198202, 0.5915909161033787, 0.19110966301625243, 0.8122160678190729, 0.892738702934124, 0.09919318921490268, 0.23579002131661397, 0.12861273889997127, 0.6216282380165278, 0.9071774241236218, 0.05336337788962481, 0.026681688944812404, 0.09427550282517398, 0.546797916386009, 0.28282650847552193, 0.07542040226013919, 0.9245089152102633, 0.20031386425801045, 0.10015693212900523, 0.7511769909675392, 0.9359300965524799, 0.903871344154277, 0.8786776132798939, 0.055874873204169694, 0.9498728444708848, 0.36922568332523653, 0.18011008942694465, 0.19812109836963912, 0.2521541251977225, 0.8786736797840613, 0.9441157009541572, 0.944961450526424, 0.0472480725263212, 0.49815441997495685, 0.12453860499373921, 0.26568235731997697, 0.10793345766124064, 0.8398453736549047, 0.13997422894248412, 0.6220799642432923, 0.09265020744049034, 0.29118636624154104, 0.9834936209537285, 0.23999441606827446, 0.647984923384341, 0.11999720803413723, 0.591480472564887, 0.0788640630086516, 0.1577281260173032, 0.1774441417694661, 0.8838913440860596, 0.9093925033202741, 0.11515876058698603, 0.30709002823196274, 0.5757938029349302, 0.6593015339996405, 0.15044464534219984, 0.18141854291265275, 0.013274527530194103, 0.942843198598712, 0.9101773910396916, 0.9038555643097824, 0.9101941624396864, 0.05717389852787702, 0.6574998330705857, 0.2572825433754466, 0.02858694926393851, 0.162377547673787, 0.487132643021361, 0.09472023614304241, 0.2570977838168294, 0.026338638362381313, 0.2633863836238131, 0.6848045974219141, 0.9093809845266151, 0.9093750562253573, 0.04047972973727759, 0.28335810816094315, 0.6476756757964415, 0.7618399890595975, 0.22855199671787926, 0.22550782555709614, 0.35078995086659404, 0.24221210893169587, 0.17539497543329702, 0.8676050657041774, 0.11568067542722366, 0.07524452423088515, 0.8276897665397367, 0.2518571145076408, 0.48797315935855406, 0.26759818416436837, 0.904106322900147, 0.04520531614500735, 0.9178933243497409, 0.9202528045016137, 0.8918104247738872, 0.2999897999629282, 0.6749770499165885, 0.31096990256847595, 0.6530367953937994, 0.24004383684229144, 0.009601753473691658, 0.7489367709479493, 0.9439820726823125, 0.04719910363411563, 0.8169131160585237, 0.12676238007804677, 0.042254126692682255, 0.9359119808504133, 0.9307663704659428, 0.6718146278777104, 0.3153415600242314, 0.15631046327494152, 0.19538807909367692, 0.6252418530997661, 0.9093878877762761, 0.8917908776404159, 0.17541008044145212, 0.7893453619865346, 0.9282595668173271, 0.15773166208478914, 0.10515444138985942, 0.6835038690340862, 0.13132384468105668, 0.8536049904268684, 0.03283096117026417, 0.9353884635114282, 0.056181793576835524, 0.15730902201513947, 0.7584542132872796, 0.033709076146101316, 0.3288649803135581, 0.20156240728895497, 0.14851966852870366, 0.3182564325615078, 0.19823069765433238, 0.6938074417901634, 0.09911534882716619, 0.3003139678415737, 0.1835252025698506, 0.10010465594719124, 0.4171027331132968, 0.9324787721786535, 0.8394827314457501, 0.8800518358913779, 0.08000471235376164, 0.42155817620297664, 0.056429047208272465, 0.4713485119749818, 0.046470980053871444, 0.1918419287819927, 0.46361799455648234, 0.04796048219549817, 0.28776289317298903, 0.7840282892504445, 0.1844772445295164, 0.31505611630644104, 0.11814604361491539, 0.11814604361491539, 0.4594568362802265, 0.9374534229673156, 0.5509034598226281, 0.11407596895317047, 0.11407596895317047, 0.22258725649399116, 0.9490075295641806, 0.058918220529726686, 0.8837733079459003, 0.05254396695227831, 0.18390388433297408, 0.7356155373318963, 0.29035436720349156, 0.7258859180087288, 0.16839551141120573, 0.04209887785280143, 0.7577798013504258, 0.9530470265440004, 0.8407823903784986, 0.14622302441365193, 0.9150582105660546, 0.041593555025729756, 0.9228971853868778, 0.9433808324439774, 0.04371813991852673, 0.004371813991852673, 0.1136671637881695, 0.8350164724438606, 0.14498369736156094, 0.7974103354885852, 0.036245924340390236, 0.9433562746621871, 0.9439623833423375, 0.8358478853432544, 0.0315414296355945, 0.09462428890678351, 0.0315414296355945, 0.7387390144773408, 0.2083622861346346, 0.056826078036718526, 0.932368610540463, 0.8786559316031984, 0.7907000444371562, 0.07188182222155966, 0.07188182222155966, 0.07188182222155966, 0.932367228209624, 0.8679869202389359, 0.09644299113765954, 0.964992994127599, 0.9654653323104606, 0.9165940730114563, 0.04824179331639244, 0.05249286410389086, 0.07873929615583629, 0.7873929615583629, 0.10498572820778172, 0.044101121300981, 0.705617940815696, 0.176404485203924, 0.06615168195147149, 0.09597131815738066, 0.8957323028022196, 0.056668539176387575, 0.6422434439990592, 0.17000561752916274, 0.132226591411571, 0.8838906647062396], \"Term\": [\"absolut\", \"absolut\", \"absolut\", \"absolut\", \"abyss\", \"accur\", \"accur\", \"accur\", \"aceton\", \"activ\", \"activ\", \"activ\", \"addict\", \"addict\", \"addict\", \"addict\", \"administr\", \"administr\", \"advanc\", \"advanc\", \"advanc\", \"advanc\", \"advic\", \"advic\", \"advic\", \"advic\", \"agonist\", \"agonist\", \"amnesia\", \"analyz\", \"analyz\", \"annoy\", \"annoy\", \"annoy\", \"anticip\", \"anxieti\", \"anxieti\", \"anxieti\", \"anxieti\", \"anxious\", \"anxious\", \"appreci\", \"appreci\", \"appreci\", \"appreci\", \"auditori\", \"avail\", \"baselin\", \"baselin\", \"baselin\", \"beauti\", \"beauti\", \"beauti\", \"beauti\", \"benzofuran\", \"bitter\", \"bitter\", \"blackout\", \"blackout\", \"blotter\", \"blotter\", \"bodyload\", \"borax\", \"borax\", \"bottl\", \"bottl\", \"boyfriend\", \"breakthrough\", \"bullshit\", \"candi\", \"candyflip\", \"capsul\", \"capsul\", \"capsul\", \"cardiotox\", \"cartridg\", \"chang\", \"chang\", \"chang\", \"chang\", \"charact\", \"chatti\", \"chemic\", \"chemic\", \"chemic\", \"chemic\", \"chill\", \"chill\", \"chill\", \"chill\", \"chime\", \"chines\", \"chines\", \"churn\", \"classifi\", \"clearnet\", \"clearnet\", \"combin\", \"combin\", \"combin\", \"combin\", \"comedown\", \"comedown\", \"comedown\", \"comeup\", \"comeup\", \"communiti\", \"communiti\", \"communiti\", \"compar\", \"compar\", \"compar\", \"compar\", \"compel\", \"complet\", \"complet\", \"complet\", \"complet\", \"confus\", \"confus\", \"confus\", \"confus\", \"consum\", \"consum\", \"consum\", \"consum\", \"convo\", \"cough\", \"couldn\", \"couldn\", \"couldn\", \"couldn\", \"coupl\", \"coupl\", \"coupl\", \"coupl\", \"cowork\", \"crave\", \"crave\", \"deadlin\", \"decemb\", \"decid\", \"decid\", \"decid\", \"decid\", \"dehydr\", \"deliri\", \"deliveri\", \"depress\", \"depress\", \"depress\", \"diagnos\", \"didn\", \"didn\", \"didn\", \"didn\", \"didnt\", \"didnt\", \"didnt\", \"didnt\", \"dipyanon\", \"disso\", \"disso\", \"disso\", \"disso\", \"dissoci\", \"dissoci\", \"dissoci\", \"dissoci\", \"dissolv\", \"dissolv\", \"dissolv\", \"doesn\", \"doesn\", \"doesn\", \"doesn\", \"don\", \"don\", \"don\", \"don\", \"dosag\", \"dosag\", \"dosag\", \"dosag\", \"downer\", \"drift\", \"drift\", \"drift\", \"durat\", \"durat\", \"durat\", \"durat\", \"electr\", \"electr\", \"energi\", \"energi\", \"energi\", \"energi\", \"enhanc\", \"enhanc\", \"enhanc\", \"enhanc\", \"ephenidin\", \"euphor\", \"euphor\", \"euphor\", \"euphor\", \"euphoria\", \"euphoria\", \"euphoria\", \"everclear\", \"exercis\", \"experienc\", \"experienc\", \"experienc\", \"experienc\", \"extrem\", \"extrem\", \"extrem\", \"extrem\", \"fatigu\", \"forgiv\", \"forgiv\", \"fractal\", \"freebas\", \"freebas\", \"freebas\", \"freebas\", \"gemini\", \"glimps\", \"graduat\", \"habit\", \"habit\", \"habit\", \"habitu\", \"handl\", \"handl\", \"handl\", \"handl\", \"hangov\", \"hangov\", \"hangov\", \"hangov\", \"headspac\", \"headspac\", \"headspac\", \"headspac\", \"heartbeat\", \"horni\", \"horni\", \"hospit\", \"hospit\", \"hydrat\", \"hydrat\", \"hydrochlorid\", \"hydrochlorid\", \"impair\", \"impair\", \"improv\", \"improv\", \"improv\", \"improv\", \"increas\", \"increas\", \"increas\", \"increas\", \"inhibitor\", \"inositol\", \"inositol\", \"insan\", \"insan\", \"insan\", \"integr\", \"intens\", \"intens\", \"intens\", \"intens\", \"interv\", \"introspect\", \"introspect\", \"introspect\", \"introspect\", \"isn\", \"isn\", \"jitter\", \"lectur\", \"liter\", \"liter\", \"liter\", \"liter\", \"literatur\", \"lucid\", \"lucid\", \"manag\", \"manag\", \"manag\", \"manag\", \"mania\", \"mania\", \"mania\", \"manic\", \"manic\", \"manufactur\", \"mdphp\", \"mdphp\", \"medic\", \"medic\", \"medic\", \"medic\", \"medicin\", \"memori\", \"memori\", \"memori\", \"methallylescalin\", \"methylon\", \"moder\", \"moder\", \"moder\", \"moder\", \"molli\", \"molli\", \"morph\", \"morph\", \"motiv\", \"motiv\", \"motiv\", \"mushroom\", \"mushroom\", \"mushroom\", \"nasal\", \"nasal\", \"nasal\", \"nasal\", \"neuron\", \"neurotox\", \"neurotox\", \"neurotox\", \"neurotransmitt\", \"nightmar\", \"norflu\", \"nostril\", \"nostril\", \"notic\", \"notic\", \"notic\", \"notic\", \"overthink\", \"parachut\", \"percept\", \"percept\", \"physic\", \"physic\", \"physic\", \"physic\", \"polic\", \"polic\", \"potenti\", \"potenti\", \"potenti\", \"pregabalin\", \"prepar\", \"prepar\", \"prepar\", \"produc\", \"produc\", \"produc\", \"produc\", \"prolli\", \"propylen\", \"psych\", \"psych\", \"psych\", \"psychedel\", \"psychedel\", \"psychedel\", \"psychedel\", \"psychiatrist\", \"puriti\", \"quicker\", \"radiat\", \"readi\", \"readi\", \"readi\", \"readi\", \"realiz\", \"realiz\", \"realiz\", \"realiz\", \"receiv\", \"receiv\", \"receiv\", \"recip\", \"refil\", \"regret\", \"regret\", \"regret\", \"releas\", \"releas\", \"rememb\", \"rememb\", \"rememb\", \"rememb\", \"reminisc\", \"reminisc\", \"remov\", \"remov\", \"respons\", \"respons\", \"respons\", \"reuptak\", \"reuptak\", \"rolli\", \"salin\", \"salvia\", \"sampl\", \"sampl\", \"scare\", \"scare\", \"sedat\", \"sedat\", \"sedat\", \"seizur\", \"seizur\", \"sensat\", \"sensat\", \"sensat\", \"sensori\", \"seroquel\", \"serotonin\", \"serotonin\", \"shitti\", \"shitti\", \"shitti\", \"shook\", \"shulgin\", \"simultan\", \"simultan\", \"singular\", \"sleepi\", \"sleepi\", \"sleepi\", \"slept\", \"slept\", \"slept\", \"sneez\", \"snort\", \"snort\", \"snort\", \"snort\", \"sober\", \"sober\", \"sober\", \"sober\", \"solvent\", \"solvent\", \"solvent\", \"sourc\", \"sourc\", \"sourc\", \"sourc\", \"squar\", \"sticki\", \"stimmi\", \"stimmi\", \"stimul\", \"stimul\", \"stimul\", \"stimul\", \"stori\", \"stori\", \"stori\", \"stori\", \"struggl\", \"struggl\", \"studi\", \"studi\", \"studi\", \"studi\", \"stutter\", \"substanc\", \"substanc\", \"substanc\", \"substanc\", \"succin\", \"suicid\", \"suicid\", \"swallow\", \"swallow\", \"swallow\", \"sweat\", \"sweat\", \"symptom\", \"symptom\", \"symptom\", \"synthes\", \"syring\", \"syring\", \"textur\", \"textur\", \"tianeptin\", \"titrat\", \"toler\", \"toler\", \"toler\", \"toler\", \"tongu\", \"tongu\", \"tongu\", \"trazodon\", \"tripsit\", \"tryptamin\", \"tryptamin\", \"tryptamin\", \"tryptamin\", \"uncomfort\", \"uncomfort\", \"uncomfort\", \"underwhelm\", \"unhealthi\", \"uniqu\", \"uniqu\", \"uniqu\", \"uniqu\", \"vasoconstrict\", \"verifi\", \"verifi\", \"vodka\", \"volum\", \"volumetr\", \"volumetr\", \"wasn\", \"wasn\", \"wasn\", \"wasn\", \"weigh\", \"weigh\", \"weigh\", \"weigh\", \"withdraw\", \"withdraw\", \"wouldn\", \"wouldn\", \"wouldn\", \"wouldn\", \"zopiclon\"]}, \"R\": 30, \"lambda.step\": 0.01, \"plot.opts\": {\"xlab\": \"PC1\", \"ylab\": \"PC2\"}, \"topic.order\": [2, 4, 3, 1]};\n",
       "\n",
       "function LDAvis_load_lib(url, callback){\n",
       "  var s = document.createElement('script');\n",
       "  s.src = url;\n",
       "  s.async = true;\n",
       "  s.onreadystatechange = s.onload = callback;\n",
       "  s.onerror = function(){console.warn(\"failed to load library \" + url);};\n",
       "  document.getElementsByTagName(\"head\")[0].appendChild(s);\n",
       "}\n",
       "\n",
       "if(typeof(LDAvis) !== \"undefined\"){\n",
       "   // already loaded: just create the visualization\n",
       "   !function(LDAvis){\n",
       "       new LDAvis(\"#\" + \"ldavis_el53781404220100798242761032301\", ldavis_el53781404220100798242761032301_data);\n",
       "   }(LDAvis);\n",
       "}else if(typeof define === \"function\" && define.amd){\n",
       "   // require.js is available: use it to load d3/LDAvis\n",
       "   require.config({paths: {d3: \"https://d3js.org/d3.v5\"}});\n",
       "   require([\"d3\"], function(d3){\n",
       "      window.d3 = d3;\n",
       "      LDAvis_load_lib(\"https://cdn.jsdelivr.net/gh/bmabey/pyLDAvis@3.3.1/pyLDAvis/js/ldavis.v3.0.0.js\", function(){\n",
       "        new LDAvis(\"#\" + \"ldavis_el53781404220100798242761032301\", ldavis_el53781404220100798242761032301_data);\n",
       "      });\n",
       "    });\n",
       "}else{\n",
       "    // require.js not available: dynamically load d3 & LDAvis\n",
       "    LDAvis_load_lib(\"https://d3js.org/d3.v5.js\", function(){\n",
       "         LDAvis_load_lib(\"https://cdn.jsdelivr.net/gh/bmabey/pyLDAvis@3.3.1/pyLDAvis/js/ldavis.v3.0.0.js\", function(){\n",
       "                 new LDAvis(\"#\" + \"ldavis_el53781404220100798242761032301\", ldavis_el53781404220100798242761032301_data);\n",
       "            })\n",
       "         });\n",
       "}\n",
       "</script>"
      ],
      "text/plain": [
       "PreparedData(topic_coordinates=                x           y  topics  cluster       Freq\n",
       "topic                                                    \n",
       "1      269.562408 -124.803398       1        1  30.797467\n",
       "3        1.782994 -295.079681       2        1  24.524671\n",
       "2      220.811432 -343.832123       3        1  22.864464\n",
       "0       50.533993  -76.050934       4        1  21.813398, topic_info=           Term        Freq       Total Category  logprob  loglift\n",
       "1067      toler  228.000000  228.000000  Default  30.0000  30.0000\n",
       "959       snort  177.000000  177.000000  Default  29.0000  29.0000\n",
       "388    euphoria  188.000000  188.000000  Default  28.0000  28.0000\n",
       "991      stimul  301.000000  301.000000  Default  27.0000  27.0000\n",
       "13       addict  137.000000  137.000000  Default  26.0000  26.0000\n",
       "...         ...         ...         ...      ...      ...      ...\n",
       "11        activ   25.897200   91.925362   Topic4  -5.2633   0.2558\n",
       "404   experienc   29.519457  158.266027   Topic4  -5.1324  -0.1566\n",
       "222      couldn   25.366632   88.278433   Topic4  -5.2840   0.2756\n",
       "183      combin   25.840969  101.810960   Topic4  -5.2655   0.1515\n",
       "324         don   25.577804  163.187417   Topic4  -5.2757  -0.3305\n",
       "\n",
       "[309 rows x 6 columns], token_table=      Topic      Freq      Term\n",
       "term                           \n",
       "2         1  0.150787   absolut\n",
       "2         2  0.439797   absolut\n",
       "2         3  0.062828   absolut\n",
       "2         4  0.339272   absolut\n",
       "4         3  0.944103     abyss\n",
       "...     ...       ...       ...\n",
       "1150      1  0.056669    wouldn\n",
       "1150      2  0.642243    wouldn\n",
       "1150      3  0.170006    wouldn\n",
       "1150      4  0.132227    wouldn\n",
       "1155      2  0.883891  zopiclon\n",
       "\n",
       "[545 rows x 3 columns], R=30, lambda_step=0.01, plot_opts={'xlab': 'PC1', 'ylab': 'PC2'}, topic_order=[2, 4, 3, 1])"
      ]
     },
     "execution_count": 12,
     "metadata": {},
     "output_type": "execute_result"
    }
   ],
   "source": [
    "pyLDAvis.sklearn.prepare(lda_tf, dtm_tf, tf_vectorizer, mds='tsne')\n"
   ]
  },
  {
   "cell_type": "code",
   "execution_count": 13,
   "id": "609f3ef8",
   "metadata": {},
   "outputs": [
    {
     "name": "stderr",
     "output_type": "stream",
     "text": [
      "/opt/anaconda3/lib/python3.8/site-packages/ipykernel/ipkernel.py:287: DeprecationWarning: `should_run_async` will not call `transform_cell` automatically in the future. Please pass the result to `transformed_cell` argument and any exception that happen during thetransform in `preprocessing_exc_tuple` in IPython 7.17 and above.\n",
      "  and should_run_async(code)\n"
     ]
    },
    {
     "data": {
      "text/html": [
       "\n",
       "<link rel=\"stylesheet\" type=\"text/css\" href=\"https://cdn.jsdelivr.net/gh/bmabey/pyLDAvis@3.3.1/pyLDAvis/js/ldavis.v1.0.0.css\">\n",
       "\n",
       "\n",
       "<div id=\"ldavis_el5378140421677171648957448450\"></div>\n",
       "<script type=\"text/javascript\">\n",
       "\n",
       "var ldavis_el5378140421677171648957448450_data = {\"mdsDat\": {\"x\": [-0.1275828329351893, -0.07074228107647869, 0.09572267700530673, 0.10260243700636124], \"y\": [-0.09170849129914156, 0.12093074488047832, -0.12119137668499612, 0.09196912310365932], \"topics\": [1, 2, 3, 4], \"cluster\": [1, 1, 1, 1], \"Freq\": [30.79746694953859, 24.524671033929533, 22.8644639829286, 21.813398033603278]}, \"tinfo\": {\"Term\": [\"toler\", \"snort\", \"euphoria\", \"stimul\", \"addict\", \"comedown\", \"bottl\", \"sedat\", \"withdraw\", \"don\", \"dissolv\", \"anxieti\", \"dissoci\", \"psychedel\", \"disso\", \"didn\", \"seizur\", \"euphor\", \"anxious\", \"hospit\", \"activ\", \"serotonin\", \"headspac\", \"sensat\", \"substanc\", \"memori\", \"capsul\", \"tryptamin\", \"bodyload\", \"depress\", \"bodyload\", \"fractal\", \"sneez\", \"inhibitor\", \"charact\", \"exercis\", \"percept\", \"synthes\", \"volum\", \"auditori\", \"textur\", \"sensori\", \"neurotransmitt\", \"electr\", \"manufactur\", \"medicin\", \"reuptak\", \"neuron\", \"comeup\", \"chines\", \"puriti\", \"radiat\", \"churn\", \"stimmi\", \"mushroom\", \"shulgin\", \"literatur\", \"methallylescalin\", \"classifi\", \"salvia\", \"reminisc\", \"administr\", \"tryptamin\", \"morph\", \"sensat\", \"agonist\", \"drift\", \"dissoci\", \"psychedel\", \"headspac\", \"releas\", \"uncomfort\", \"enhanc\", \"substanc\", \"activ\", \"lucid\", \"serotonin\", \"uniqu\", \"potenti\", \"stimul\", \"introspect\", \"physic\", \"intens\", \"notic\", \"experienc\", \"beauti\", \"communiti\", \"increas\", \"produc\", \"chang\", \"compar\", \"complet\", \"chemic\", \"extrem\", \"sober\", \"euphoria\", \"decid\", \"pregabalin\", \"hospit\", \"candi\", \"tripsit\", \"everclear\", \"aceton\", \"salin\", \"bottl\", \"nostril\", \"breakthrough\", \"seizur\", \"amnesia\", \"vodka\", \"dipyanon\", \"titrat\", \"trazodon\", \"volumetr\", \"ephenidin\", \"suicid\", \"singular\", \"propylen\", \"shook\", \"recip\", \"refil\", \"psychiatrist\", \"zopiclon\", \"prolli\", \"blackout\", \"deliri\", \"anticip\", \"dissolv\", \"manic\", \"syring\", \"mania\", \"struggl\", \"forgiv\", \"weigh\", \"verifi\", \"memori\", \"annoy\", \"disso\", \"handl\", \"solvent\", \"wouldn\", \"prepar\", \"readi\", \"accur\", \"depress\", \"realiz\", \"nasal\", \"advic\", \"absolut\", \"dosag\", \"don\", \"respons\", \"confus\", \"rememb\", \"extrem\", \"anxieti\", \"complet\", \"decid\", \"stori\", \"dissoci\", \"intens\", \"liter\", \"notic\", \"substanc\", \"experienc\", \"addict\", \"psychedel\", \"compar\", \"succin\", \"cough\", \"vasoconstrict\", \"underwhelm\", \"benzofuran\", \"parachut\", \"abyss\", \"fatigu\", \"squar\", \"boyfriend\", \"rolli\", \"jitter\", \"downer\", \"dehydr\", \"methylon\", \"hydrat\", \"mdphp\", \"hydrochlorid\", \"chatti\", \"candyflip\", \"bitter\", \"convo\", \"diagnos\", \"slept\", \"analyz\", \"sticki\", \"horni\", \"polic\", \"isn\", \"molli\", \"snort\", \"comedown\", \"tongu\", \"sedat\", \"wasn\", \"euphoria\", \"doesn\", \"swallow\", \"hangov\", \"freebas\", \"didn\", \"euphor\", \"stimul\", \"don\", \"blotter\", \"didnt\", \"chill\", \"energi\", \"sweat\", \"chemic\", \"durat\", \"decid\", \"consum\", \"intens\", \"capsul\", \"dosag\", \"insan\", \"notic\", \"extrem\", \"psychedel\", \"compar\", \"anxieti\", \"physic\", \"substanc\", \"rememb\", \"experienc\", \"seroquel\", \"tianeptin\", \"cartridg\", \"stutter\", \"decemb\", \"heartbeat\", \"avail\", \"withdraw\", \"deliveri\", \"nightmar\", \"lectur\", \"quicker\", \"norflu\", \"cardiotox\", \"cowork\", \"overthink\", \"habitu\", \"integr\", \"unhealthi\", \"gemini\", \"anxious\", \"remov\", \"graduat\", \"interv\", \"compel\", \"glimps\", \"deadlin\", \"bullshit\", \"chime\", \"toler\", \"borax\", \"addict\", \"inositol\", \"simultan\", \"clearnet\", \"habit\", \"symptom\", \"receiv\", \"impair\", \"crave\", \"neurotox\", \"scare\", \"anxieti\", \"motiv\", \"sampl\", \"advanc\", \"moder\", \"psych\", \"sleepi\", \"medic\", \"shitti\", \"improv\", \"studi\", \"baselin\", \"regret\", \"liter\", \"manag\", \"substanc\", \"notic\", \"coupl\", \"disso\", \"decid\", \"chemic\", \"sourc\", \"sober\", \"complet\", \"compar\", \"absolut\", \"increas\", \"appreci\", \"activ\", \"experienc\", \"couldn\", \"combin\", \"don\"], \"Freq\": [228.0, 177.0, 188.0, 301.0, 137.0, 127.0, 80.0, 104.0, 62.0, 163.0, 75.0, 190.0, 155.0, 225.0, 181.0, 93.0, 42.0, 121.0, 40.0, 35.0, 91.0, 72.0, 92.0, 70.0, 359.0, 57.0, 65.0, 63.0, 33.0, 78.0, 32.96288516847456, 28.044263486861116, 18.464131543267243, 16.59873896206263, 13.70415368981537, 13.673617936373098, 19.96352271547335, 10.823277844536003, 12.592086471138598, 9.856378417542198, 22.306050164566262, 8.896136721876609, 8.883191519705392, 19.49919783374072, 7.922515986355891, 7.921987536970893, 20.23919941762375, 7.916660248016925, 35.06685846947447, 10.473434747004923, 6.976967939423086, 6.969667565307186, 6.923339991586937, 11.233553978354802, 33.62026239706209, 6.016016669783791, 6.012645197142749, 6.011027875502631, 6.010471623025788, 6.005474979094235, 15.282094292367848, 20.167808141400755, 53.4191435274154, 17.521065666921086, 58.495489301183156, 18.84747428758031, 17.770443986464933, 107.20111136316272, 148.60167561688462, 64.61077056083043, 30.06870261148103, 38.64401962687041, 44.98352265969895, 198.03738850665073, 61.821533317823686, 25.95220900828208, 49.27779060260501, 21.947997402362528, 46.56477655115652, 127.1862054554117, 30.74891279848501, 60.19376456005439, 70.08276030783648, 82.01975704361395, 64.42369208684957, 37.0672950665103, 34.24356116125696, 44.484762681052985, 29.745390889176086, 37.56826061759872, 44.73720623497192, 45.859428979002296, 42.463997534687174, 37.22532897276126, 31.24115325864749, 31.833959935728366, 30.966513791481347, 24.696220093710387, 34.56600105776272, 16.2307322553538, 16.22396944947297, 14.348168034818613, 15.21902246743513, 13.401167889443768, 75.55886819923326, 16.896432082360885, 11.508165102708592, 39.60453992379085, 9.63509592281769, 9.569264979290011, 8.67826535365617, 7.751387899946708, 7.727160824245034, 18.872525243926763, 6.803671658252705, 15.190747629881752, 6.7242427190575444, 5.879277640783463, 5.878632434938699, 5.874994275678574, 5.867401747552966, 7.535735834341951, 4.934773894135204, 4.934302365102499, 19.72535407551893, 4.929577909519734, 4.9290110378973, 64.73365106698186, 25.424387145806808, 22.50031202643952, 25.524049912750748, 17.108976468554744, 9.450496890590477, 31.752976966937123, 8.71404596329009, 38.4533483976502, 20.04406379507277, 95.61600308424671, 23.205227570992665, 21.376618894070244, 33.53478710737077, 26.845538536796575, 23.324356514756914, 20.26618467621547, 39.42077159908912, 36.09301807876163, 28.907220989457915, 33.635093034408854, 35.271958406685734, 47.20983355585713, 50.96625397172717, 30.738431674755372, 32.944859214931476, 41.586356922208914, 41.46769462624454, 50.12134105047066, 45.01436189400423, 48.309969117841845, 29.406761905053553, 41.11861312608556, 39.25837773952896, 28.862073435698527, 40.48102223687823, 40.796709545041196, 34.821510004720174, 33.63502682166166, 33.84235640174721, 29.518449858431485, 19.290572176864746, 19.286695271497322, 16.439247399072336, 16.432116120725215, 9.748446947212244, 8.807646972812798, 8.80375195624457, 8.740486842800854, 7.834417665252239, 6.893224525221602, 6.863835548732869, 5.952707148084976, 5.940000999175044, 5.937494961384192, 4.999303567012272, 9.115399554879366, 11.546899748525401, 7.4232673304283034, 4.9298037953021066, 4.915035658087427, 16.305315300593847, 4.0487852858001245, 4.035995161137715, 25.694779235945344, 5.6036725671805865, 4.003494173710991, 18.107561753284035, 11.587300477658603, 23.136915667022453, 16.852535802161636, 134.80338715858136, 95.11568126746974, 21.832359568425414, 77.86111673987223, 29.71171867821662, 131.3925383860934, 26.81791793310641, 27.981417095117227, 22.384335440487575, 31.66665344289951, 57.96673855385259, 69.00279026482502, 142.38347485931013, 85.36521760100742, 26.57518276987322, 36.861943040622585, 32.75730208563225, 46.130888378323796, 19.503018444356947, 78.995546924523, 44.93437424121009, 80.78060927223207, 36.291915940250725, 57.604512333705614, 33.00631314493176, 45.632657907669284, 26.23338469140928, 43.53990883874927, 34.43804431345731, 40.74238016041879, 34.300411138889864, 36.70171189788947, 32.203867005578154, 40.66894523290721, 29.39908000793899, 29.501367679810592, 15.263725616846067, 14.269176207708256, 10.629801443994996, 7.81372521182478, 7.807483376733462, 7.787416900044135, 6.852138848815809, 56.141560863991785, 5.916752577989042, 5.911704586461475, 5.904121641656478, 5.877348403403353, 4.975234862967572, 4.971620678736715, 4.970239705161658, 4.969811523537938, 4.9693511663321726, 4.957995160994326, 4.957738993192253, 4.955425848331709, 35.10479246071793, 11.454600628255681, 4.023350131114757, 4.01941680200981, 4.016668397512911, 4.016574364226914, 4.01454092891273, 4.010933508774813, 4.0084150666421365, 191.35883502687264, 8.503706536210585, 94.16293736686741, 9.126027504053377, 9.060391839418621, 10.417390025225005, 17.082585220735904, 17.711602933388463, 26.230171971475695, 15.371791476117405, 13.323559692865258, 14.506980284435596, 21.393918691187803, 93.43044150288091, 28.882958066177434, 17.885113781330553, 25.29335232144679, 27.113583462337306, 29.678646450986495, 13.226347600125736, 26.546713224186206, 16.290171422343597, 17.897179712746528, 34.76999527873925, 23.106318630763173, 15.805972154201811, 30.141154089680693, 29.840052546985564, 79.90657099473242, 56.045704304790945, 37.704931825375915, 48.972218829463095, 49.07901465796135, 45.24286736644125, 25.16801782781598, 30.448730479656398, 37.68968535511702, 36.20073099677231, 27.375617780880592, 30.059065781989744, 23.245306091229395, 25.89719982966606, 29.519457469700065, 25.366632149116093, 25.84096929239743, 25.577803863141305], \"Total\": [228.0, 177.0, 188.0, 301.0, 137.0, 127.0, 80.0, 104.0, 62.0, 163.0, 75.0, 190.0, 155.0, 225.0, 181.0, 93.0, 42.0, 121.0, 40.0, 35.0, 91.0, 72.0, 92.0, 70.0, 359.0, 57.0, 65.0, 63.0, 33.0, 78.0, 33.68613941748027, 28.86993291340165, 19.243341886459007, 17.318631345975902, 14.430093629285764, 14.429679054836758, 21.164884545140225, 11.541927831083948, 13.46500963311611, 10.579018691851795, 24.042186328660783, 9.616288907662215, 9.616102776427114, 21.148487654965734, 8.653218677237529, 8.653341289818524, 22.121292035482067, 8.653242676605817, 38.4390190602389, 11.53645821830116, 7.6908084829529, 7.690666770743931, 7.690277001801869, 12.499263738093827, 37.478886815162625, 6.728034733743144, 6.727991048049867, 6.727989024682168, 6.727971109712875, 6.727887265414353, 17.288972359590243, 23.07408496476269, 63.40866673154853, 20.16267463350722, 70.99898246197932, 22.092720666669805, 21.125751250722686, 155.88282550587624, 225.99674400284536, 92.77696232567483, 39.37834772500128, 52.79266322165558, 63.18428360687147, 359.40961427933155, 91.92536157315551, 33.52813839054601, 72.93678637929183, 27.82344601442416, 75.55298788182566, 301.2632826716913, 44.95727771111323, 120.4445802227677, 173.6546748551053, 222.0863924240324, 158.2660272410804, 66.88608450670095, 59.16233533037581, 103.9176760445677, 50.72018670355836, 85.90088223639165, 144.75679822906557, 155.99631653917436, 186.75893019328583, 125.59902510410724, 94.26360924912979, 188.76494509777376, 209.13610683951663, 25.419585310331364, 35.78255547871334, 16.949750680892326, 16.949827961732918, 15.067578516944272, 16.009660009913787, 14.126552982406263, 80.02894519990848, 17.897132336138785, 12.24458699425651, 42.373686066241206, 10.362275050467819, 10.362769533928576, 9.421315261704153, 8.480138375585534, 8.480359133525427, 20.728914313809362, 7.5392920475601075, 16.97267824807198, 7.540994189804601, 6.597811152053111, 6.597844638850188, 6.597894724094482, 6.597937736388831, 8.484973972225596, 5.656808245238959, 5.656803897282173, 22.624624137324574, 5.6568981838743495, 5.656963821210148, 75.48141834201488, 30.17747989083643, 27.35547302512603, 32.063802499789645, 21.682891080693693, 11.311770274522834, 45.350320830856326, 10.368819840652112, 57.59007985843852, 27.41774542135506, 181.69776654713306, 33.0673955777036, 30.267764130369887, 52.939427124848635, 41.66763612181362, 34.98099747430786, 30.209032559551694, 78.47677591481097, 73.90184278498738, 53.036047012892425, 72.05233330392014, 79.58220800077594, 136.85799144970332, 163.1874166574946, 63.52808429207424, 74.10956338172969, 119.72976961353339, 125.59902510410724, 190.53033470836, 155.99631653917436, 209.13610683951663, 62.55149787217102, 155.88282550587624, 173.6546748551053, 66.20236101804132, 222.0863924240324, 359.40961427933155, 158.2660272410804, 137.32316509504693, 225.99674400284536, 144.75679822906557, 20.020915965467108, 20.02104568133641, 17.160620317730345, 17.160594875373736, 10.486302526385963, 9.532729930139153, 9.532853212967064, 9.533192501333568, 8.57928377426621, 7.625747810142038, 7.626158524422191, 6.67217619086182, 6.672080862871939, 6.672205039158754, 5.718754135252439, 10.482484838076159, 13.33283144500726, 8.576678971345252, 5.717853821877043, 5.717560248320078, 19.087467711939503, 4.765205667436618, 4.765059916152467, 30.459053416496534, 6.667702148009809, 4.7648389301721945, 21.95760567747731, 14.28834446962238, 28.648510613159665, 20.930391152747887, 177.9936054608824, 127.39609044721146, 27.58930881742368, 104.14764373402753, 38.10041677363451, 188.76494509777376, 36.22635741561062, 38.06336133349901, 30.472819794617145, 45.80469743997171, 93.11706086399056, 121.21099906114661, 301.2632826716913, 163.1874166574946, 39.87857605375607, 60.80260948813472, 52.39279493317787, 85.69000803361348, 27.552538909784303, 186.75893019328583, 86.79653349165157, 209.13610683951663, 71.6614467692979, 173.6546748551053, 65.39723002267996, 136.85799144970332, 51.261561268878054, 222.0863924240324, 125.59902510410724, 225.99674400284536, 144.75679822906557, 190.53033470836, 120.4445802227677, 359.40961427933155, 119.72976961353339, 158.2660272410804, 16.11575200390081, 15.169620431913236, 11.377519228754812, 8.533757308899304, 8.533844104562514, 8.534094271455665, 7.586251047342947, 62.518678655228726, 6.638252527414627, 6.6381128672842316, 6.6382291277118926, 6.638228757912025, 5.690369168887998, 5.690412268858981, 5.690378760692812, 5.690394642558061, 5.690462801096606, 5.690357853423697, 5.690509584197518, 5.690277016426605, 40.72564532942816, 13.290003627792707, 4.742511272582724, 4.742626044937855, 4.742645210740798, 4.742616303134528, 4.742626805117464, 4.742651705362239, 4.742847719047385, 228.73800254622068, 10.448543618651597, 137.32316509504693, 11.386462121528835, 11.40185327414837, 13.288000538778075, 22.77867363764618, 23.75360225744012, 37.96703482698901, 20.930376259627245, 18.03571767707092, 19.968662752408772, 32.15745291555342, 190.53033470836, 46.65167736351924, 26.667573367456544, 40.82493806399678, 45.639646020666476, 52.10198485479405, 19.019643617191715, 50.17426166361405, 25.59009752894289, 29.4053475735518, 76.17690550294307, 42.92134512229988, 24.703722245435465, 66.20236101804132, 65.3203586697752, 359.40961427933155, 222.0863924240324, 113.10169994044287, 181.69776654713306, 209.13610683951663, 186.75893019328583, 59.937272080183895, 94.26360924912979, 155.99631653917436, 144.75679822906557, 79.58220800077594, 103.9176760445677, 56.02303876762744, 91.92536157315551, 158.2660272410804, 88.27843252975816, 101.81095962801524, 163.1874166574946], \"Category\": [\"Default\", \"Default\", \"Default\", \"Default\", \"Default\", \"Default\", \"Default\", \"Default\", \"Default\", \"Default\", \"Default\", \"Default\", \"Default\", \"Default\", \"Default\", \"Default\", \"Default\", \"Default\", \"Default\", \"Default\", \"Default\", \"Default\", \"Default\", \"Default\", \"Default\", \"Default\", \"Default\", \"Default\", \"Default\", \"Default\", \"Topic1\", \"Topic1\", \"Topic1\", \"Topic1\", \"Topic1\", \"Topic1\", \"Topic1\", \"Topic1\", \"Topic1\", \"Topic1\", \"Topic1\", \"Topic1\", \"Topic1\", \"Topic1\", \"Topic1\", \"Topic1\", \"Topic1\", \"Topic1\", \"Topic1\", \"Topic1\", \"Topic1\", \"Topic1\", \"Topic1\", \"Topic1\", \"Topic1\", \"Topic1\", \"Topic1\", \"Topic1\", \"Topic1\", \"Topic1\", \"Topic1\", \"Topic1\", \"Topic1\", \"Topic1\", \"Topic1\", \"Topic1\", \"Topic1\", \"Topic1\", \"Topic1\", \"Topic1\", \"Topic1\", \"Topic1\", \"Topic1\", \"Topic1\", \"Topic1\", \"Topic1\", \"Topic1\", \"Topic1\", \"Topic1\", \"Topic1\", \"Topic1\", \"Topic1\", \"Topic1\", \"Topic1\", \"Topic1\", \"Topic1\", \"Topic1\", \"Topic1\", \"Topic1\", \"Topic1\", \"Topic1\", \"Topic1\", \"Topic1\", \"Topic1\", \"Topic1\", \"Topic1\", \"Topic1\", \"Topic2\", \"Topic2\", \"Topic2\", \"Topic2\", \"Topic2\", \"Topic2\", \"Topic2\", \"Topic2\", \"Topic2\", \"Topic2\", \"Topic2\", \"Topic2\", \"Topic2\", \"Topic2\", \"Topic2\", \"Topic2\", \"Topic2\", \"Topic2\", \"Topic2\", \"Topic2\", \"Topic2\", \"Topic2\", \"Topic2\", \"Topic2\", \"Topic2\", \"Topic2\", \"Topic2\", \"Topic2\", \"Topic2\", \"Topic2\", \"Topic2\", \"Topic2\", \"Topic2\", \"Topic2\", \"Topic2\", \"Topic2\", \"Topic2\", \"Topic2\", \"Topic2\", \"Topic2\", \"Topic2\", \"Topic2\", \"Topic2\", \"Topic2\", \"Topic2\", \"Topic2\", \"Topic2\", \"Topic2\", \"Topic2\", \"Topic2\", \"Topic2\", \"Topic2\", \"Topic2\", \"Topic2\", \"Topic2\", \"Topic2\", \"Topic2\", \"Topic2\", \"Topic2\", \"Topic2\", \"Topic2\", \"Topic2\", \"Topic2\", \"Topic2\", \"Topic2\", \"Topic2\", \"Topic2\", \"Topic2\", \"Topic2\", \"Topic2\", \"Topic2\", \"Topic3\", \"Topic3\", \"Topic3\", \"Topic3\", \"Topic3\", \"Topic3\", \"Topic3\", \"Topic3\", \"Topic3\", \"Topic3\", \"Topic3\", \"Topic3\", \"Topic3\", \"Topic3\", \"Topic3\", \"Topic3\", \"Topic3\", \"Topic3\", \"Topic3\", \"Topic3\", \"Topic3\", \"Topic3\", \"Topic3\", \"Topic3\", \"Topic3\", \"Topic3\", \"Topic3\", \"Topic3\", \"Topic3\", \"Topic3\", \"Topic3\", \"Topic3\", \"Topic3\", \"Topic3\", \"Topic3\", \"Topic3\", \"Topic3\", \"Topic3\", \"Topic3\", \"Topic3\", \"Topic3\", \"Topic3\", \"Topic3\", \"Topic3\", \"Topic3\", \"Topic3\", \"Topic3\", \"Topic3\", \"Topic3\", \"Topic3\", \"Topic3\", \"Topic3\", \"Topic3\", \"Topic3\", \"Topic3\", \"Topic3\", \"Topic3\", \"Topic3\", \"Topic3\", \"Topic3\", \"Topic3\", \"Topic3\", \"Topic3\", \"Topic3\", \"Topic3\", \"Topic3\", \"Topic4\", \"Topic4\", \"Topic4\", \"Topic4\", \"Topic4\", \"Topic4\", \"Topic4\", \"Topic4\", \"Topic4\", \"Topic4\", \"Topic4\", \"Topic4\", \"Topic4\", \"Topic4\", \"Topic4\", \"Topic4\", \"Topic4\", \"Topic4\", \"Topic4\", \"Topic4\", \"Topic4\", \"Topic4\", \"Topic4\", \"Topic4\", \"Topic4\", \"Topic4\", \"Topic4\", \"Topic4\", \"Topic4\", \"Topic4\", \"Topic4\", \"Topic4\", \"Topic4\", \"Topic4\", \"Topic4\", \"Topic4\", \"Topic4\", \"Topic4\", \"Topic4\", \"Topic4\", \"Topic4\", \"Topic4\", \"Topic4\", \"Topic4\", \"Topic4\", \"Topic4\", \"Topic4\", \"Topic4\", \"Topic4\", \"Topic4\", \"Topic4\", \"Topic4\", \"Topic4\", \"Topic4\", \"Topic4\", \"Topic4\", \"Topic4\", \"Topic4\", \"Topic4\", \"Topic4\", \"Topic4\", \"Topic4\", \"Topic4\", \"Topic4\", \"Topic4\", \"Topic4\", \"Topic4\", \"Topic4\", \"Topic4\", \"Topic4\", \"Topic4\", \"Topic4\", \"Topic4\", \"Topic4\", \"Topic4\"], \"logprob\": [30.0, 29.0, 28.0, 27.0, 26.0, 25.0, 24.0, 23.0, 22.0, 21.0, 20.0, 19.0, 18.0, 17.0, 16.0, 15.0, 14.0, 13.0, 12.0, 11.0, 10.0, 9.0, 8.0, 7.0, 6.0, 5.0, 4.0, 3.0, 2.0, 1.0, -5.367, -5.5286, -5.9465, -6.053, -6.2447, -6.2469, -5.8685, -6.4807, -6.3293, -6.5743, -5.7575, -6.6768, -6.6782, -5.892, -6.7927, -6.7927, -5.8548, -6.7934, -5.3051, -6.5135, -6.9198, -6.9208, -6.9275, -6.4435, -5.3472, -7.068, -7.0685, -7.0688, -7.0689, -7.0697, -6.1357, -5.8583, -4.8842, -5.999, -4.7934, -5.926, -5.9848, -4.1877, -3.8611, -4.694, -5.4589, -5.208, -5.0561, -3.5739, -4.7381, -5.6061, -4.9649, -5.7737, -5.0215, -4.0167, -5.4365, -4.7648, -4.6127, -4.4554, -4.6969, -5.2496, -5.3289, -5.0672, -5.4697, -5.2362, -5.0616, -5.0368, -5.1137, -5.2454, -5.4206, -5.4018, -5.4295, -5.428, -5.0918, -5.8477, -5.8481, -5.971, -5.9121, -6.0393, -4.3097, -5.8075, -6.1916, -4.9557, -6.3692, -6.3761, -6.4738, -6.5868, -6.5899, -5.6969, -6.7172, -5.9139, -6.7289, -6.8632, -6.8633, -6.8639, -6.8652, -6.615, -7.0383, -7.0384, -5.6527, -7.0394, -7.0395, -4.4643, -5.3989, -5.5211, -5.395, -5.795, -6.3886, -5.1766, -6.4697, -4.9852, -5.6367, -4.0743, -5.4902, -5.5723, -5.122, -5.3445, -5.4851, -5.6257, -4.9603, -5.0485, -5.2705, -5.1191, -5.0715, -4.78, -4.7035, -5.2091, -5.1398, -4.9069, -4.9097, -4.7202, -4.8276, -4.757, -5.2534, -4.9182, -4.9645, -5.2721, -4.9338, -4.926, -5.0844, -5.1191, -5.1129, -5.2496, -5.6049, -5.6051, -5.7649, -5.7653, -6.2874, -6.3889, -6.3893, -6.3966, -6.506, -6.634, -6.6383, -6.7807, -6.7828, -6.7832, -6.9552, -6.3546, -6.1181, -6.5599, -6.9692, -6.9722, -5.773, -7.1661, -7.1693, -5.3182, -6.8411, -7.1774, -5.6682, -6.1146, -5.4231, -5.74, -3.6607, -4.0094, -5.4811, -4.2096, -5.173, -3.6863, -5.2755, -5.233, -5.4562, -5.1093, -4.5047, -4.3304, -3.606, -4.1176, -5.2846, -4.9573, -5.0754, -4.733, -5.594, -4.1951, -4.7593, -4.1728, -4.9729, -4.5109, -5.0678, -4.7439, -5.2975, -4.7908, -5.0254, -4.8573, -5.0294, -4.9617, -5.0924, -4.8591, -5.1836, -5.1801, -5.792, -5.8594, -6.1538, -6.4616, -6.4624, -6.465, -6.5929, -4.4896, -6.7397, -6.7405, -6.7418, -6.7464, -6.913, -6.9137, -6.914, -6.9141, -6.9142, -6.9165, -6.9165, -6.917, -4.9591, -6.0791, -7.1254, -7.1263, -7.127, -7.127, -7.1275, -7.1284, -7.1291, -3.2633, -6.377, -3.9724, -6.3063, -6.3136, -6.174, -5.6794, -5.6432, -5.2506, -5.7849, -5.9279, -5.8428, -5.4544, -3.9803, -5.1542, -5.6335, -5.2869, -5.2174, -5.127, -5.9353, -5.2386, -5.7269, -5.6328, -4.9687, -5.3774, -5.7571, -5.1116, -5.1216, -4.1366, -4.4913, -4.8877, -4.6262, -4.624, -4.7054, -5.2919, -5.1014, -4.8881, -4.9284, -5.2078, -5.1143, -5.3714, -5.2633, -5.1324, -5.284, -5.2655, -5.2757], \"loglift\": [30.0, 29.0, 28.0, 27.0, 26.0, 25.0, 24.0, 23.0, 22.0, 21.0, 20.0, 19.0, 18.0, 17.0, 16.0, 15.0, 14.0, 13.0, 12.0, 11.0, 10.0, 9.0, 8.0, 7.0, 6.0, 5.0, 4.0, 3.0, 2.0, 1.0, 1.156, 1.1487, 1.1364, 1.1353, 1.1261, 1.1239, 1.1193, 1.1135, 1.1107, 1.107, 1.1028, 1.0999, 1.0985, 1.0965, 1.0895, 1.0894, 1.0888, 1.0888, 1.0859, 1.0811, 1.0803, 1.0793, 1.0727, 1.071, 1.0691, 1.0659, 1.0653, 1.0651, 1.065, 1.0641, 1.0544, 1.0431, 1.0063, 1.0373, 0.984, 1.0189, 1.0048, 0.8033, 0.7585, 0.8159, 0.908, 0.8658, 0.838, 0.5817, 0.781, 0.9216, 0.7856, 0.9405, 0.6937, 0.3154, 0.7979, 0.4841, 0.2703, 0.1816, 0.2789, 0.5875, 0.631, 0.3293, 0.6441, 0.3507, 0.0035, -0.0465, -0.3034, -0.0384, 0.0734, -0.6022, -0.7323, 1.3766, 1.3709, 1.3621, 1.3617, 1.3566, 1.3548, 1.3528, 1.348, 1.348, 1.3435, 1.3379, 1.3327, 1.3258, 1.3233, 1.3156, 1.3125, 1.3117, 1.3028, 1.2946, 1.2909, 1.2902, 1.2901, 1.2894, 1.2881, 1.2869, 1.2689, 1.2688, 1.2684, 1.2679, 1.2677, 1.2519, 1.2341, 1.2101, 1.1774, 1.1686, 1.2257, 1.0491, 1.2316, 1.0016, 1.0922, 0.7635, 1.0513, 1.0577, 0.9489, 0.9659, 1.0002, 1.0063, 0.717, 0.6889, 0.7986, 0.6437, 0.5918, 0.3411, 0.2418, 0.6795, 0.5948, 0.348, 0.2973, 0.0701, 0.1626, -0.0599, 0.6507, 0.0728, -0.0814, 0.5753, -0.2967, -0.7704, -0.1086, -0.0013, -0.4933, -0.1845, 1.4384, 1.4382, 1.4326, 1.4322, 1.4026, 1.3965, 1.396, 1.3888, 1.3848, 1.3746, 1.3703, 1.3615, 1.3594, 1.3589, 1.3411, 1.3358, 1.3318, 1.3312, 1.3273, 1.3243, 1.318, 1.3127, 1.3095, 1.3055, 1.3017, 1.3015, 1.2828, 1.2661, 1.2619, 1.2589, 1.1977, 1.1834, 1.2416, 1.1847, 1.2269, 1.1133, 1.1749, 1.1679, 1.1671, 1.1065, 1.0016, 0.9122, 0.7261, 0.8276, 1.0697, 0.9751, 1.0059, 0.8563, 1.1301, 0.6152, 0.8172, 0.5243, 0.7952, 0.3721, 0.7918, 0.3773, 0.8057, -0.1538, 0.1817, -0.2377, 0.0357, -0.1714, 0.1565, -0.7034, 0.0713, -0.2043, 1.4683, 1.4615, 1.4547, 1.4345, 1.4337, 1.4311, 1.4209, 1.4151, 1.4076, 1.4068, 1.4055, 1.4009, 1.3883, 1.3876, 1.3873, 1.3872, 1.3871, 1.3849, 1.3848, 1.3844, 1.3741, 1.374, 1.3582, 1.3572, 1.3565, 1.3565, 1.356, 1.3551, 1.3544, 1.3442, 1.3167, 1.1453, 1.3014, 1.2928, 1.2793, 1.2349, 1.2291, 1.1528, 1.214, 1.2198, 1.2031, 1.1151, 0.8101, 1.0432, 1.1232, 1.0439, 1.0019, 0.9599, 1.1594, 0.886, 1.071, 1.0261, 0.7383, 0.9034, 1.0761, 0.7358, 0.7392, 0.019, 0.1457, 0.4241, 0.2116, 0.0731, 0.1049, 0.6549, 0.3926, 0.1022, 0.1367, 0.4555, 0.2822, 0.643, 0.2558, -0.1566, 0.2756, 0.1515, -0.3305]}, \"token.table\": {\"Topic\": [1, 2, 3, 4, 3, 2, 3, 4, 2, 1, 2, 4, 1, 2, 3, 4, 1, 3, 1, 2, 3, 4, 1, 2, 3, 4, 1, 4, 2, 2, 3, 1, 2, 3, 2, 1, 2, 3, 4, 2, 4, 1, 2, 3, 4, 1, 4, 1, 3, 4, 1, 2, 3, 4, 3, 1, 3, 2, 3, 2, 3, 1, 1, 4, 2, 4, 3, 2, 4, 2, 3, 2, 3, 4, 4, 4, 1, 2, 3, 4, 1, 3, 1, 2, 3, 4, 1, 2, 3, 4, 4, 1, 4, 1, 1, 3, 4, 1, 2, 3, 4, 2, 3, 4, 1, 2, 1, 2, 3, 1, 2, 3, 4, 4, 1, 2, 3, 4, 1, 2, 3, 4, 1, 2, 3, 4, 3, 3, 1, 2, 3, 4, 1, 2, 3, 4, 4, 3, 4, 4, 4, 1, 2, 3, 4, 3, 2, 4, 2, 3, 4, 3, 1, 2, 3, 4, 1, 2, 3, 4, 2, 1, 2, 3, 4, 1, 2, 3, 4, 1, 2, 3, 1, 2, 3, 4, 1, 2, 3, 4, 1, 2, 3, 4, 3, 1, 2, 3, 1, 2, 3, 4, 1, 2, 1, 2, 3, 4, 1, 2, 3, 4, 2, 1, 2, 3, 4, 1, 2, 3, 2, 1, 1, 2, 3, 4, 1, 2, 3, 4, 3, 2, 4, 1, 1, 2, 3, 4, 4, 4, 4, 1, 2, 4, 4, 1, 2, 3, 4, 1, 2, 3, 4, 1, 2, 3, 4, 4, 1, 3, 1, 2, 3, 4, 3, 4, 1, 4, 1, 2, 3, 4, 1, 2, 3, 4, 1, 3, 4, 2, 3, 4, 4, 1, 2, 3, 4, 4, 1, 2, 3, 4, 1, 3, 3, 4, 1, 2, 3, 4, 1, 1, 2, 1, 2, 3, 4, 1, 2, 4, 2, 3, 1, 2, 3, 1, 2, 3, 4, 1, 1, 2, 4, 1, 3, 1, 2, 3, 4, 2, 3, 1, 2, 1, 3, 4, 1, 2, 3, 1, 2, 3, 4, 1, 1, 3, 4, 1, 4, 4, 1, 2, 1, 2, 3, 4, 4, 3, 1, 3, 1, 2, 3, 4, 3, 4, 1, 2, 4, 2, 1, 2, 4, 1, 2, 3, 4, 2, 2, 1, 2, 4, 1, 2, 3, 4, 2, 1, 4, 1, 1, 2, 3, 4, 1, 2, 3, 4, 2, 3, 4, 2, 2, 1, 3, 4, 1, 3, 1, 2, 3, 4, 1, 2, 1, 4, 1, 2, 4, 1, 3, 3, 2, 1, 1, 4, 2, 4, 1, 2, 3, 2, 4, 1, 2, 3, 1, 4, 1, 3, 2, 3, 4, 2, 1, 1, 4, 2, 1, 3, 4, 2, 3, 4, 1, 1, 2, 3, 4, 1, 2, 3, 4, 1, 2, 4, 1, 2, 3, 4, 3, 3, 1, 3, 1, 2, 3, 4, 1, 2, 3, 4, 2, 4, 1, 2, 3, 4, 4, 1, 2, 3, 4, 3, 1, 2, 1, 2, 3, 2, 3, 1, 2, 4, 1, 2, 3, 1, 4, 4, 2, 1, 2, 3, 4, 2, 3, 4, 2, 2, 1, 2, 3, 4, 1, 3, 4, 3, 4, 1, 2, 3, 4, 3, 2, 4, 2, 1, 2, 3, 1, 2, 3, 4, 1, 2, 3, 4, 2, 4, 1, 2, 3, 4, 2], \"Freq\": [0.15078747249489483, 0.4397967947767766, 0.06282811353953952, 0.33927181311351334, 0.9441034912567152, 0.6620536410947151, 0.09930804616420727, 0.19861609232841454, 0.9369343253205522, 0.6744602244578556, 0.04351356286824875, 0.28283815864361683, 0.05825674054674516, 0.2475911473236669, 0.01456418513668629, 0.6845167014242556, 0.8667732666557637, 0.08667732666557637, 0.17146382412208114, 0.17146382412208114, 0.04898966403488032, 0.6123708004360041, 0.1665456127476599, 0.4718792361183697, 0.1526668116853549, 0.20818201593457486, 0.8600117788419043, 0.1357913335013533, 0.9650390431924056, 0.14997670528796525, 0.8998602317277915, 0.10941818715930479, 0.7294545810620319, 0.14589091621240638, 0.8838663562338978, 0.05248508073691651, 0.26242540368458256, 0.1941947987265911, 0.4881112508533236, 0.12277276294961552, 0.8594093406473087, 0.16064819399265778, 0.24989719065524543, 0.1784979933251753, 0.4105453846479032, 0.9452672588339627, 0.9227219025992714, 0.37277489683535486, 0.06989529315662904, 0.5358639142008226, 0.5531793387650487, 0.17940951527515092, 0.11960634351676729, 0.1495079293959591, 0.9536249764717055, 0.10478079283135967, 0.8382463426508774, 0.8839925860693241, 0.0883992586069324, 0.3259895735112528, 0.6770552680618327, 0.9796314024300385, 0.09570711828344282, 0.8613640645509854, 0.9496564000706949, 0.04998191579319446, 0.9179427610614384, 0.980024888191718, 0.8434100263946083, 0.9439666872526337, 0.8744988741428811, 0.42815269072236717, 0.5046085283513613, 0.06116467010319531, 0.8786709580539023, 0.9668188450254873, 0.44237031111540104, 0.16297853567409512, 0.22118515555770052, 0.18626118362753727, 0.9701946750773056, 0.8744539744736973, 0.22488884443989998, 0.1070899259237619, 0.4230052073988595, 0.24095233332846427, 0.11451956337989683, 0.07634637558659789, 0.6298575985894326, 0.1908659389664947, 0.8433751697183759, 0.8668171643994029, 0.0866817164399403, 0.9102402941220279, 0.8917993109896183, 0.15051173381303265, 0.7525586690651632, 0.294663758298816, 0.26519738246893443, 0.18662038025591682, 0.25537525719230725, 0.19623836110072104, 0.7457057721827399, 0.054946741108201885, 0.9105331211795621, 0.07804569610110532, 0.5746899578952781, 0.37185820804988584, 0.05070793746134807, 0.31086622908577494, 0.20724415272384997, 0.23487670642036332, 0.24869298326861997, 0.8434111813679613, 0.29487875752789533, 0.28846834975554975, 0.17308100985332986, 0.2435954953491309, 0.3508319144464129, 0.445286660643524, 0.02698707034203176, 0.17541595722320644, 0.3488626189823287, 0.04186351427787944, 0.5023621713345533, 0.09768153331505203, 0.8394181236151659, 0.9490013809674173, 0.13593354181900394, 0.30585046909275887, 0.2718670836380079, 0.28319487878959154, 0.22104000216764655, 0.24756480242776413, 0.19451520190752894, 0.3359808032948227, 0.8786761321651009, 0.22178213651488127, 0.7207919436733641, 0.8434144545558291, 0.9374438883554129, 0.14822882795551062, 0.2295156045762745, 0.38730758272246324, 0.23429717967161356, 0.8992529403377706, 0.8838766117893169, 0.9038523278861756, 0.49696231203911506, 0.1783967273986567, 0.30582296125484004, 0.8394437993194822, 0.010739170574344358, 0.18256589976385407, 0.6228718933119728, 0.18256589976385407, 0.03289332508648808, 0.23025327560541656, 0.6085265141000294, 0.13157330034595233, 0.9552806322683289, 0.10456925454321053, 0.5283499176920111, 0.09906560956725208, 0.269678603821964, 0.6864130134462213, 0.26301807057285115, 0.01924522467606228, 0.0320753744601038, 0.07948976227252803, 0.8611390912857204, 0.06624146856044003, 0.1380210530867618, 0.08281263185205708, 0.7453136866685136, 0.055208421234704715, 0.006127923466665613, 0.31252409679994625, 0.5208734946665771, 0.1593260101333059, 0.20459163329377283, 0.3434216701716901, 0.33611482612548393, 0.11690950473929876, 0.8992696766293916, 0.8520407055055257, 0.09467118950061397, 0.047335594750306985, 0.23042394892330206, 0.057605987230825516, 0.5184538850774296, 0.19586035658480677, 0.8984093950348614, 0.04728470500183481, 0.15170963684471253, 0.14003966477973465, 0.5368187149889828, 0.16337960890969042, 0.7122024248939356, 0.17409392608518426, 0.01582672055319857, 0.09496032331919141, 0.9284691395215768, 0.23925221493612586, 0.03300030550843115, 0.5692552700204374, 0.1485013747879402, 0.16952300112409696, 0.13243984462820074, 0.6939847858517719, 0.9291473068652853, 0.9702225494272008, 0.40438242568957217, 0.2211466390489848, 0.18955426204198697, 0.18955426204198697, 0.2945882738288074, 0.3264356547832731, 0.27070273811295814, 0.095542142863397, 0.9440698904109005, 0.7956314335935936, 0.0884034926215104, 0.9698671653996874, 0.1964863977498103, 0.06549546591660343, 0.6986183031104367, 0.043663643944402294, 0.878691843220651, 0.8434163222009522, 0.8434350010140599, 0.13170213717105625, 0.08780142478070417, 0.7463121106359855, 0.8786631553125086, 0.06048253771000166, 0.695549183665019, 0.12096507542000332, 0.09072380656500248, 0.06563225895994335, 0.09844838843991502, 0.7219548485593767, 0.09844838843991502, 0.7006049602252615, 0.2694634462404852, 0.021557075699238815, 0.010778537849619407, 0.9374164082951284, 0.13662691843843455, 0.8197615106306073, 0.027946578622504735, 0.9781302517876658, 0.8585750553445839, 0.09539722837162043, 0.8161667264668587, 0.11659524663812268, 0.23888724875168807, 0.7166617462550642, 0.03400741982384983, 0.13602967929539933, 0.20404451894309897, 0.6121335568292969, 0.42341208613180975, 0.1924600391508226, 0.08660701761787018, 0.28869005872623393, 0.9816018171638062, 0.1756471833528099, 0.7904123250876445, 0.21458573886001256, 0.5072026554873024, 0.2536013277436512, 0.8786793605593132, 0.4030988515478025, 0.2245836458623471, 0.33399619128246494, 0.04030988515478025, 0.8434145897439009, 0.689543530620337, 0.2446767366717325, 0.022243339697430226, 0.04448667939486045, 0.1745291428065812, 0.8028340569102734, 0.8992568284119311, 0.9038555139581509, 0.03021040291078085, 0.4380508422063223, 0.07552600727695212, 0.45315604366171275, 0.891796668150907, 0.7754680470816496, 0.2087798588296749, 0.015309162722995217, 0.35211074262888997, 0.18370995267594262, 0.45927488168985653, 0.03118781685380455, 0.8108832381989184, 0.15593908426902275, 0.8284323306795209, 0.13254917290872337, 0.9245114793000858, 0.07500282322810506, 0.9000338787372607, 0.07972214971128845, 0.358749673700798, 0.039861074855644225, 0.538124510551197, 0.9244983795349385, 0.05209230491387169, 0.6598358622423748, 0.27782562620731566, 0.8917969363488136, 0.874316307668871, 0.21910774670495506, 0.10955387335247753, 0.08764309868198202, 0.5915909161033787, 0.19110966301625243, 0.8122160678190729, 0.892738702934124, 0.09919318921490268, 0.23579002131661397, 0.12861273889997127, 0.6216282380165278, 0.9071774241236218, 0.05336337788962481, 0.026681688944812404, 0.09427550282517398, 0.546797916386009, 0.28282650847552193, 0.07542040226013919, 0.9245089152102633, 0.20031386425801045, 0.10015693212900523, 0.7511769909675392, 0.9359300965524799, 0.903871344154277, 0.8786776132798939, 0.055874873204169694, 0.9498728444708848, 0.36922568332523653, 0.18011008942694465, 0.19812109836963912, 0.2521541251977225, 0.8786736797840613, 0.9441157009541572, 0.944961450526424, 0.0472480725263212, 0.49815441997495685, 0.12453860499373921, 0.26568235731997697, 0.10793345766124064, 0.8398453736549047, 0.13997422894248412, 0.6220799642432923, 0.09265020744049034, 0.29118636624154104, 0.9834936209537285, 0.23999441606827446, 0.647984923384341, 0.11999720803413723, 0.591480472564887, 0.0788640630086516, 0.1577281260173032, 0.1774441417694661, 0.8838913440860596, 0.9093925033202741, 0.11515876058698603, 0.30709002823196274, 0.5757938029349302, 0.6593015339996405, 0.15044464534219984, 0.18141854291265275, 0.013274527530194103, 0.942843198598712, 0.9101773910396916, 0.9038555643097824, 0.9101941624396864, 0.05717389852787702, 0.6574998330705857, 0.2572825433754466, 0.02858694926393851, 0.162377547673787, 0.487132643021361, 0.09472023614304241, 0.2570977838168294, 0.026338638362381313, 0.2633863836238131, 0.6848045974219141, 0.9093809845266151, 0.9093750562253573, 0.04047972973727759, 0.28335810816094315, 0.6476756757964415, 0.7618399890595975, 0.22855199671787926, 0.22550782555709614, 0.35078995086659404, 0.24221210893169587, 0.17539497543329702, 0.8676050657041774, 0.11568067542722366, 0.07524452423088515, 0.8276897665397367, 0.2518571145076408, 0.48797315935855406, 0.26759818416436837, 0.904106322900147, 0.04520531614500735, 0.9178933243497409, 0.9202528045016137, 0.8918104247738872, 0.2999897999629282, 0.6749770499165885, 0.31096990256847595, 0.6530367953937994, 0.24004383684229144, 0.009601753473691658, 0.7489367709479493, 0.9439820726823125, 0.04719910363411563, 0.8169131160585237, 0.12676238007804677, 0.042254126692682255, 0.9359119808504133, 0.9307663704659428, 0.6718146278777104, 0.3153415600242314, 0.15631046327494152, 0.19538807909367692, 0.6252418530997661, 0.9093878877762761, 0.8917908776404159, 0.17541008044145212, 0.7893453619865346, 0.9282595668173271, 0.15773166208478914, 0.10515444138985942, 0.6835038690340862, 0.13132384468105668, 0.8536049904268684, 0.03283096117026417, 0.9353884635114282, 0.056181793576835524, 0.15730902201513947, 0.7584542132872796, 0.033709076146101316, 0.3288649803135581, 0.20156240728895497, 0.14851966852870366, 0.3182564325615078, 0.19823069765433238, 0.6938074417901634, 0.09911534882716619, 0.3003139678415737, 0.1835252025698506, 0.10010465594719124, 0.4171027331132968, 0.9324787721786535, 0.8394827314457501, 0.8800518358913779, 0.08000471235376164, 0.42155817620297664, 0.056429047208272465, 0.4713485119749818, 0.046470980053871444, 0.1918419287819927, 0.46361799455648234, 0.04796048219549817, 0.28776289317298903, 0.7840282892504445, 0.1844772445295164, 0.31505611630644104, 0.11814604361491539, 0.11814604361491539, 0.4594568362802265, 0.9374534229673156, 0.5509034598226281, 0.11407596895317047, 0.11407596895317047, 0.22258725649399116, 0.9490075295641806, 0.058918220529726686, 0.8837733079459003, 0.05254396695227831, 0.18390388433297408, 0.7356155373318963, 0.29035436720349156, 0.7258859180087288, 0.16839551141120573, 0.04209887785280143, 0.7577798013504258, 0.9530470265440004, 0.8407823903784986, 0.14622302441365193, 0.9150582105660546, 0.041593555025729756, 0.9228971853868778, 0.9433808324439774, 0.04371813991852673, 0.004371813991852673, 0.1136671637881695, 0.8350164724438606, 0.14498369736156094, 0.7974103354885852, 0.036245924340390236, 0.9433562746621871, 0.9439623833423375, 0.8358478853432544, 0.0315414296355945, 0.09462428890678351, 0.0315414296355945, 0.7387390144773408, 0.2083622861346346, 0.056826078036718526, 0.932368610540463, 0.8786559316031984, 0.7907000444371562, 0.07188182222155966, 0.07188182222155966, 0.07188182222155966, 0.932367228209624, 0.8679869202389359, 0.09644299113765954, 0.964992994127599, 0.9654653323104606, 0.9165940730114563, 0.04824179331639244, 0.05249286410389086, 0.07873929615583629, 0.7873929615583629, 0.10498572820778172, 0.044101121300981, 0.705617940815696, 0.176404485203924, 0.06615168195147149, 0.09597131815738066, 0.8957323028022196, 0.056668539176387575, 0.6422434439990592, 0.17000561752916274, 0.132226591411571, 0.8838906647062396], \"Term\": [\"absolut\", \"absolut\", \"absolut\", \"absolut\", \"abyss\", \"accur\", \"accur\", \"accur\", \"aceton\", \"activ\", \"activ\", \"activ\", \"addict\", \"addict\", \"addict\", \"addict\", \"administr\", \"administr\", \"advanc\", \"advanc\", \"advanc\", \"advanc\", \"advic\", \"advic\", \"advic\", \"advic\", \"agonist\", \"agonist\", \"amnesia\", \"analyz\", \"analyz\", \"annoy\", \"annoy\", \"annoy\", \"anticip\", \"anxieti\", \"anxieti\", \"anxieti\", \"anxieti\", \"anxious\", \"anxious\", \"appreci\", \"appreci\", \"appreci\", \"appreci\", \"auditori\", \"avail\", \"baselin\", \"baselin\", \"baselin\", \"beauti\", \"beauti\", \"beauti\", \"beauti\", \"benzofuran\", \"bitter\", \"bitter\", \"blackout\", \"blackout\", \"blotter\", \"blotter\", \"bodyload\", \"borax\", \"borax\", \"bottl\", \"bottl\", \"boyfriend\", \"breakthrough\", \"bullshit\", \"candi\", \"candyflip\", \"capsul\", \"capsul\", \"capsul\", \"cardiotox\", \"cartridg\", \"chang\", \"chang\", \"chang\", \"chang\", \"charact\", \"chatti\", \"chemic\", \"chemic\", \"chemic\", \"chemic\", \"chill\", \"chill\", \"chill\", \"chill\", \"chime\", \"chines\", \"chines\", \"churn\", \"classifi\", \"clearnet\", \"clearnet\", \"combin\", \"combin\", \"combin\", \"combin\", \"comedown\", \"comedown\", \"comedown\", \"comeup\", \"comeup\", \"communiti\", \"communiti\", \"communiti\", \"compar\", \"compar\", \"compar\", \"compar\", \"compel\", \"complet\", \"complet\", \"complet\", \"complet\", \"confus\", \"confus\", \"confus\", \"confus\", \"consum\", \"consum\", \"consum\", \"consum\", \"convo\", \"cough\", \"couldn\", \"couldn\", \"couldn\", \"couldn\", \"coupl\", \"coupl\", \"coupl\", \"coupl\", \"cowork\", \"crave\", \"crave\", \"deadlin\", \"decemb\", \"decid\", \"decid\", \"decid\", \"decid\", \"dehydr\", \"deliri\", \"deliveri\", \"depress\", \"depress\", \"depress\", \"diagnos\", \"didn\", \"didn\", \"didn\", \"didn\", \"didnt\", \"didnt\", \"didnt\", \"didnt\", \"dipyanon\", \"disso\", \"disso\", \"disso\", \"disso\", \"dissoci\", \"dissoci\", \"dissoci\", \"dissoci\", \"dissolv\", \"dissolv\", \"dissolv\", \"doesn\", \"doesn\", \"doesn\", \"doesn\", \"don\", \"don\", \"don\", \"don\", \"dosag\", \"dosag\", \"dosag\", \"dosag\", \"downer\", \"drift\", \"drift\", \"drift\", \"durat\", \"durat\", \"durat\", \"durat\", \"electr\", \"electr\", \"energi\", \"energi\", \"energi\", \"energi\", \"enhanc\", \"enhanc\", \"enhanc\", \"enhanc\", \"ephenidin\", \"euphor\", \"euphor\", \"euphor\", \"euphor\", \"euphoria\", \"euphoria\", \"euphoria\", \"everclear\", \"exercis\", \"experienc\", \"experienc\", \"experienc\", \"experienc\", \"extrem\", \"extrem\", \"extrem\", \"extrem\", \"fatigu\", \"forgiv\", \"forgiv\", \"fractal\", \"freebas\", \"freebas\", \"freebas\", \"freebas\", \"gemini\", \"glimps\", \"graduat\", \"habit\", \"habit\", \"habit\", \"habitu\", \"handl\", \"handl\", \"handl\", \"handl\", \"hangov\", \"hangov\", \"hangov\", \"hangov\", \"headspac\", \"headspac\", \"headspac\", \"headspac\", \"heartbeat\", \"horni\", \"horni\", \"hospit\", \"hospit\", \"hydrat\", \"hydrat\", \"hydrochlorid\", \"hydrochlorid\", \"impair\", \"impair\", \"improv\", \"improv\", \"improv\", \"improv\", \"increas\", \"increas\", \"increas\", \"increas\", \"inhibitor\", \"inositol\", \"inositol\", \"insan\", \"insan\", \"insan\", \"integr\", \"intens\", \"intens\", \"intens\", \"intens\", \"interv\", \"introspect\", \"introspect\", \"introspect\", \"introspect\", \"isn\", \"isn\", \"jitter\", \"lectur\", \"liter\", \"liter\", \"liter\", \"liter\", \"literatur\", \"lucid\", \"lucid\", \"manag\", \"manag\", \"manag\", \"manag\", \"mania\", \"mania\", \"mania\", \"manic\", \"manic\", \"manufactur\", \"mdphp\", \"mdphp\", \"medic\", \"medic\", \"medic\", \"medic\", \"medicin\", \"memori\", \"memori\", \"memori\", \"methallylescalin\", \"methylon\", \"moder\", \"moder\", \"moder\", \"moder\", \"molli\", \"molli\", \"morph\", \"morph\", \"motiv\", \"motiv\", \"motiv\", \"mushroom\", \"mushroom\", \"mushroom\", \"nasal\", \"nasal\", \"nasal\", \"nasal\", \"neuron\", \"neurotox\", \"neurotox\", \"neurotox\", \"neurotransmitt\", \"nightmar\", \"norflu\", \"nostril\", \"nostril\", \"notic\", \"notic\", \"notic\", \"notic\", \"overthink\", \"parachut\", \"percept\", \"percept\", \"physic\", \"physic\", \"physic\", \"physic\", \"polic\", \"polic\", \"potenti\", \"potenti\", \"potenti\", \"pregabalin\", \"prepar\", \"prepar\", \"prepar\", \"produc\", \"produc\", \"produc\", \"produc\", \"prolli\", \"propylen\", \"psych\", \"psych\", \"psych\", \"psychedel\", \"psychedel\", \"psychedel\", \"psychedel\", \"psychiatrist\", \"puriti\", \"quicker\", \"radiat\", \"readi\", \"readi\", \"readi\", \"readi\", \"realiz\", \"realiz\", \"realiz\", \"realiz\", \"receiv\", \"receiv\", \"receiv\", \"recip\", \"refil\", \"regret\", \"regret\", \"regret\", \"releas\", \"releas\", \"rememb\", \"rememb\", \"rememb\", \"rememb\", \"reminisc\", \"reminisc\", \"remov\", \"remov\", \"respons\", \"respons\", \"respons\", \"reuptak\", \"reuptak\", \"rolli\", \"salin\", \"salvia\", \"sampl\", \"sampl\", \"scare\", \"scare\", \"sedat\", \"sedat\", \"sedat\", \"seizur\", \"seizur\", \"sensat\", \"sensat\", \"sensat\", \"sensori\", \"seroquel\", \"serotonin\", \"serotonin\", \"shitti\", \"shitti\", \"shitti\", \"shook\", \"shulgin\", \"simultan\", \"simultan\", \"singular\", \"sleepi\", \"sleepi\", \"sleepi\", \"slept\", \"slept\", \"slept\", \"sneez\", \"snort\", \"snort\", \"snort\", \"snort\", \"sober\", \"sober\", \"sober\", \"sober\", \"solvent\", \"solvent\", \"solvent\", \"sourc\", \"sourc\", \"sourc\", \"sourc\", \"squar\", \"sticki\", \"stimmi\", \"stimmi\", \"stimul\", \"stimul\", \"stimul\", \"stimul\", \"stori\", \"stori\", \"stori\", \"stori\", \"struggl\", \"struggl\", \"studi\", \"studi\", \"studi\", \"studi\", \"stutter\", \"substanc\", \"substanc\", \"substanc\", \"substanc\", \"succin\", \"suicid\", \"suicid\", \"swallow\", \"swallow\", \"swallow\", \"sweat\", \"sweat\", \"symptom\", \"symptom\", \"symptom\", \"synthes\", \"syring\", \"syring\", \"textur\", \"textur\", \"tianeptin\", \"titrat\", \"toler\", \"toler\", \"toler\", \"toler\", \"tongu\", \"tongu\", \"tongu\", \"trazodon\", \"tripsit\", \"tryptamin\", \"tryptamin\", \"tryptamin\", \"tryptamin\", \"uncomfort\", \"uncomfort\", \"uncomfort\", \"underwhelm\", \"unhealthi\", \"uniqu\", \"uniqu\", \"uniqu\", \"uniqu\", \"vasoconstrict\", \"verifi\", \"verifi\", \"vodka\", \"volum\", \"volumetr\", \"volumetr\", \"wasn\", \"wasn\", \"wasn\", \"wasn\", \"weigh\", \"weigh\", \"weigh\", \"weigh\", \"withdraw\", \"withdraw\", \"wouldn\", \"wouldn\", \"wouldn\", \"wouldn\", \"zopiclon\"]}, \"R\": 30, \"lambda.step\": 0.01, \"plot.opts\": {\"xlab\": \"PC1\", \"ylab\": \"PC2\"}, \"topic.order\": [2, 4, 3, 1]};\n",
       "\n",
       "function LDAvis_load_lib(url, callback){\n",
       "  var s = document.createElement('script');\n",
       "  s.src = url;\n",
       "  s.async = true;\n",
       "  s.onreadystatechange = s.onload = callback;\n",
       "  s.onerror = function(){console.warn(\"failed to load library \" + url);};\n",
       "  document.getElementsByTagName(\"head\")[0].appendChild(s);\n",
       "}\n",
       "\n",
       "if(typeof(LDAvis) !== \"undefined\"){\n",
       "   // already loaded: just create the visualization\n",
       "   !function(LDAvis){\n",
       "       new LDAvis(\"#\" + \"ldavis_el5378140421677171648957448450\", ldavis_el5378140421677171648957448450_data);\n",
       "   }(LDAvis);\n",
       "}else if(typeof define === \"function\" && define.amd){\n",
       "   // require.js is available: use it to load d3/LDAvis\n",
       "   require.config({paths: {d3: \"https://d3js.org/d3.v5\"}});\n",
       "   require([\"d3\"], function(d3){\n",
       "      window.d3 = d3;\n",
       "      LDAvis_load_lib(\"https://cdn.jsdelivr.net/gh/bmabey/pyLDAvis@3.3.1/pyLDAvis/js/ldavis.v3.0.0.js\", function(){\n",
       "        new LDAvis(\"#\" + \"ldavis_el5378140421677171648957448450\", ldavis_el5378140421677171648957448450_data);\n",
       "      });\n",
       "    });\n",
       "}else{\n",
       "    // require.js not available: dynamically load d3 & LDAvis\n",
       "    LDAvis_load_lib(\"https://d3js.org/d3.v5.js\", function(){\n",
       "         LDAvis_load_lib(\"https://cdn.jsdelivr.net/gh/bmabey/pyLDAvis@3.3.1/pyLDAvis/js/ldavis.v3.0.0.js\", function(){\n",
       "                 new LDAvis(\"#\" + \"ldavis_el5378140421677171648957448450\", ldavis_el5378140421677171648957448450_data);\n",
       "            })\n",
       "         });\n",
       "}\n",
       "</script>"
      ],
      "text/plain": [
       "PreparedData(topic_coordinates=              x         y  topics  cluster       Freq\n",
       "topic                                                \n",
       "1     -0.127583 -0.091708       1        1  30.797467\n",
       "3     -0.070742  0.120931       2        1  24.524671\n",
       "2      0.095723 -0.121191       3        1  22.864464\n",
       "0      0.102602  0.091969       4        1  21.813398, topic_info=           Term        Freq       Total Category  logprob  loglift\n",
       "1067      toler  228.000000  228.000000  Default  30.0000  30.0000\n",
       "959       snort  177.000000  177.000000  Default  29.0000  29.0000\n",
       "388    euphoria  188.000000  188.000000  Default  28.0000  28.0000\n",
       "991      stimul  301.000000  301.000000  Default  27.0000  27.0000\n",
       "13       addict  137.000000  137.000000  Default  26.0000  26.0000\n",
       "...         ...         ...         ...      ...      ...      ...\n",
       "11        activ   25.897200   91.925362   Topic4  -5.2633   0.2558\n",
       "404   experienc   29.519457  158.266027   Topic4  -5.1324  -0.1566\n",
       "222      couldn   25.366632   88.278433   Topic4  -5.2840   0.2756\n",
       "183      combin   25.840969  101.810960   Topic4  -5.2655   0.1515\n",
       "324         don   25.577804  163.187417   Topic4  -5.2757  -0.3305\n",
       "\n",
       "[309 rows x 6 columns], token_table=      Topic      Freq      Term\n",
       "term                           \n",
       "2         1  0.150787   absolut\n",
       "2         2  0.439797   absolut\n",
       "2         3  0.062828   absolut\n",
       "2         4  0.339272   absolut\n",
       "4         3  0.944103     abyss\n",
       "...     ...       ...       ...\n",
       "1150      1  0.056669    wouldn\n",
       "1150      2  0.642243    wouldn\n",
       "1150      3  0.170006    wouldn\n",
       "1150      4  0.132227    wouldn\n",
       "1155      2  0.883891  zopiclon\n",
       "\n",
       "[545 rows x 3 columns], R=30, lambda_step=0.01, plot_opts={'xlab': 'PC1', 'ylab': 'PC2'}, topic_order=[2, 4, 3, 1])"
      ]
     },
     "execution_count": 13,
     "metadata": {},
     "output_type": "execute_result"
    }
   ],
   "source": [
    "pyLDAvis.sklearn.prepare(lda_tf, dtm_tf, tf_vectorizer, mds='mmds')\n"
   ]
  },
  {
   "cell_type": "code",
   "execution_count": 14,
   "id": "72b3a952",
   "metadata": {},
   "outputs": [
    {
     "name": "stderr",
     "output_type": "stream",
     "text": [
      "/opt/anaconda3/lib/python3.8/site-packages/ipykernel/ipkernel.py:287: DeprecationWarning: `should_run_async` will not call `transform_cell` automatically in the future. Please pass the result to `transformed_cell` argument and any exception that happen during thetransform in `preprocessing_exc_tuple` in IPython 7.17 and above.\n",
      "  and should_run_async(code)\n"
     ]
    }
   ],
   "source": [
    "def display_topics(model, feature_names, no_top_words, topic_names=None):\n",
    "    for ix, topic in enumerate(model.components_):\n",
    "        if not topic_names or not topic_names[ix]:\n",
    "            print(\"\\nTopic \", ix)\n",
    "        else:\n",
    "            print(\"\\nTopic: '\",topic_names[ix],\"'\")\n",
    "        print(\", \".join([feature_names[i]\n",
    "                        for i in topic.argsort()[:-no_top_words - 1:-1]]))"
   ]
  },
  {
   "cell_type": "code",
   "execution_count": 15,
   "id": "5f9430c5",
   "metadata": {},
   "outputs": [
    {
     "name": "stdout",
     "output_type": "stream",
     "text": [
      "\n",
      "Topic  0\n",
      "toler, addict, anxieti, substanc, withdraw, notic, decid, disso, chemic, coupl, complet, compar, anxious, studi, sober, liter, increas, manag, psych, experienc\n",
      "\n",
      "Topic  1\n",
      "substanc, psychedel, stimul, dissoci, notic, intens, headspac, experienc, activ, physic, sensat, tryptamin, serotonin, potenti, complet, enhanc, compar, increas, chemic, uncomfort\n",
      "\n",
      "Topic  2\n",
      "stimul, snort, euphoria, comedown, don, decid, chemic, sedat, euphor, didn, intens, energi, dosag, durat, notic, psychedel, substanc, didnt, anxieti, consum\n",
      "\n",
      "Topic  3\n",
      "disso, bottl, dissolv, don, anxieti, decid, dosag, complet, rememb, extrem, dissoci, substanc, notic, seizur, depress, intens, memori, realiz, absolut, experienc\n"
     ]
    },
    {
     "name": "stderr",
     "output_type": "stream",
     "text": [
      "/opt/anaconda3/lib/python3.8/site-packages/ipykernel/ipkernel.py:287: DeprecationWarning: `should_run_async` will not call `transform_cell` automatically in the future. Please pass the result to `transformed_cell` argument and any exception that happen during thetransform in `preprocessing_exc_tuple` in IPython 7.17 and above.\n",
      "  and should_run_async(code)\n"
     ]
    }
   ],
   "source": [
    "display_topics(lda_tf, tf_vectorizer.get_feature_names(), 20)\n"
   ]
  },
  {
   "cell_type": "code",
   "execution_count": 16,
   "id": "71db0482",
   "metadata": {},
   "outputs": [
    {
     "name": "stderr",
     "output_type": "stream",
     "text": [
      "/opt/anaconda3/lib/python3.8/site-packages/ipykernel/ipkernel.py:287: DeprecationWarning: `should_run_async` will not call `transform_cell` automatically in the future. Please pass the result to `transformed_cell` argument and any exception that happen during thetransform in `preprocessing_exc_tuple` in IPython 7.17 and above.\n",
      "  and should_run_async(code)\n"
     ]
    }
   ],
   "source": [
    "big_drug_corpus = drug_corpus_clean + additional_drug_terms"
   ]
  },
  {
   "cell_type": "code",
   "execution_count": 17,
   "id": "f515eea5",
   "metadata": {},
   "outputs": [
    {
     "name": "stderr",
     "output_type": "stream",
     "text": [
      "/opt/anaconda3/lib/python3.8/site-packages/ipykernel/ipkernel.py:287: DeprecationWarning: `should_run_async` will not call `transform_cell` automatically in the future. Please pass the result to `transformed_cell` argument and any exception that happen during thetransform in `preprocessing_exc_tuple` in IPython 7.17 and above.\n",
      "  and should_run_async(code)\n"
     ]
    }
   ],
   "source": [
    "def remove_duplicate(s): \n",
    "    new_list = []\n",
    "    i = \",\".join(OrderedDict.fromkeys(s))\n",
    "    i = i.split(',')\n",
    "    for i in i:\n",
    "        new_list.append(i.replace('\"', \"\"))\n",
    "    return new_list "
   ]
  },
  {
   "cell_type": "code",
   "execution_count": 18,
   "id": "5e77e1be",
   "metadata": {},
   "outputs": [
    {
     "name": "stderr",
     "output_type": "stream",
     "text": [
      "/opt/anaconda3/lib/python3.8/site-packages/ipykernel/ipkernel.py:287: DeprecationWarning: `should_run_async` will not call `transform_cell` automatically in the future. Please pass the result to `transformed_cell` argument and any exception that happen during thetransform in `preprocessing_exc_tuple` in IPython 7.17 and above.\n",
      "  and should_run_async(code)\n"
     ]
    }
   ],
   "source": [
    "drug_terms = []\n",
    "for i in data.text:\n",
    "    new_data = i.split()\n",
    "    post_filter = []\n",
    "    for i in new_data:\n",
    "        if i in big_drug_corpus:\n",
    "            post_filter.append(i)\n",
    "            post_filter = remove_duplicate(post_filter)\n",
    "    post_filter = ' '.join(post_filter)\n",
    "    drug_terms.append(post_filter)"
   ]
  },
  {
   "cell_type": "code",
   "execution_count": null,
   "id": "a6b9e8fe",
   "metadata": {},
   "outputs": [],
   "source": []
  },
  {
   "cell_type": "code",
   "execution_count": 20,
   "id": "881a2b9a",
   "metadata": {},
   "outputs": [
    {
     "name": "stderr",
     "output_type": "stream",
     "text": [
      "/opt/anaconda3/lib/python3.8/site-packages/ipykernel/ipkernel.py:287: DeprecationWarning: `should_run_async` will not call `transform_cell` automatically in the future. Please pass the result to `transformed_cell` argument and any exception that happen during thetransform in `preprocessing_exc_tuple` in IPython 7.17 and above.\n",
      "  and should_run_async(code)\n"
     ]
    },
    {
     "data": {
      "text/html": [
       "<div>\n",
       "<style scoped>\n",
       "    .dataframe tbody tr th:only-of-type {\n",
       "        vertical-align: middle;\n",
       "    }\n",
       "\n",
       "    .dataframe tbody tr th {\n",
       "        vertical-align: top;\n",
       "    }\n",
       "\n",
       "    .dataframe thead th {\n",
       "        text-align: right;\n",
       "    }\n",
       "</style>\n",
       "<table border=\"1\" class=\"dataframe\">\n",
       "  <thead>\n",
       "    <tr style=\"text-align: right;\">\n",
       "      <th></th>\n",
       "      <th>abnorm</th>\n",
       "      <th>abort</th>\n",
       "      <th>absolut</th>\n",
       "      <th>absorb</th>\n",
       "      <th>abyss</th>\n",
       "      <th>academ</th>\n",
       "      <th>acceler</th>\n",
       "      <th>accur</th>\n",
       "      <th>aceton</th>\n",
       "      <th>achiev</th>\n",
       "      <th>...</th>\n",
       "      <th>won</th>\n",
       "      <th>wonki</th>\n",
       "      <th>worri</th>\n",
       "      <th>worthwhil</th>\n",
       "      <th>wouldn</th>\n",
       "      <th>wouldnt</th>\n",
       "      <th>wreck</th>\n",
       "      <th>youtub</th>\n",
       "      <th>zombi</th>\n",
       "      <th>zopiclon</th>\n",
       "    </tr>\n",
       "  </thead>\n",
       "  <tbody>\n",
       "    <tr>\n",
       "      <th>perspect distort sativa disso ...</th>\n",
       "      <td>0</td>\n",
       "      <td>0</td>\n",
       "      <td>0</td>\n",
       "      <td>0</td>\n",
       "      <td>0</td>\n",
       "      <td>0</td>\n",
       "      <td>0</td>\n",
       "      <td>0</td>\n",
       "      <td>0</td>\n",
       "      <td>0</td>\n",
       "      <td>...</td>\n",
       "      <td>0</td>\n",
       "      <td>0</td>\n",
       "      <td>0</td>\n",
       "      <td>0</td>\n",
       "      <td>0</td>\n",
       "      <td>0</td>\n",
       "      <td>0</td>\n",
       "      <td>0</td>\n",
       "      <td>0</td>\n",
       "      <td>0</td>\n",
       "    </tr>\n",
       "    <tr>\n",
       "      <th>perspect distort sativa disso ...</th>\n",
       "      <td>0</td>\n",
       "      <td>0</td>\n",
       "      <td>0</td>\n",
       "      <td>0</td>\n",
       "      <td>0</td>\n",
       "      <td>0</td>\n",
       "      <td>0</td>\n",
       "      <td>0</td>\n",
       "      <td>0</td>\n",
       "      <td>0</td>\n",
       "      <td>...</td>\n",
       "      <td>0</td>\n",
       "      <td>0</td>\n",
       "      <td>0</td>\n",
       "      <td>0</td>\n",
       "      <td>0</td>\n",
       "      <td>0</td>\n",
       "      <td>0</td>\n",
       "      <td>0</td>\n",
       "      <td>0</td>\n",
       "      <td>0</td>\n",
       "    </tr>\n",
       "    <tr>\n",
       "      <th>purpos euphor entactogen recre...</th>\n",
       "      <td>0</td>\n",
       "      <td>0</td>\n",
       "      <td>0</td>\n",
       "      <td>0</td>\n",
       "      <td>0</td>\n",
       "      <td>0</td>\n",
       "      <td>0</td>\n",
       "      <td>0</td>\n",
       "      <td>0</td>\n",
       "      <td>0</td>\n",
       "      <td>...</td>\n",
       "      <td>0</td>\n",
       "      <td>0</td>\n",
       "      <td>0</td>\n",
       "      <td>0</td>\n",
       "      <td>0</td>\n",
       "      <td>0</td>\n",
       "      <td>0</td>\n",
       "      <td>0</td>\n",
       "      <td>0</td>\n",
       "      <td>0</td>\n",
       "    </tr>\n",
       "    <tr>\n",
       "      <th>optic brighten fluoresc bright...</th>\n",
       "      <td>0</td>\n",
       "      <td>0</td>\n",
       "      <td>0</td>\n",
       "      <td>1</td>\n",
       "      <td>0</td>\n",
       "      <td>0</td>\n",
       "      <td>0</td>\n",
       "      <td>0</td>\n",
       "      <td>0</td>\n",
       "      <td>0</td>\n",
       "      <td>...</td>\n",
       "      <td>0</td>\n",
       "      <td>0</td>\n",
       "      <td>0</td>\n",
       "      <td>0</td>\n",
       "      <td>0</td>\n",
       "      <td>0</td>\n",
       "      <td>0</td>\n",
       "      <td>0</td>\n",
       "      <td>0</td>\n",
       "      <td>0</td>\n",
       "    </tr>\n",
       "    <tr>\n",
       "      <th>awhil wasn't realiz they'r mel...</th>\n",
       "      <td>0</td>\n",
       "      <td>0</td>\n",
       "      <td>0</td>\n",
       "      <td>0</td>\n",
       "      <td>0</td>\n",
       "      <td>0</td>\n",
       "      <td>0</td>\n",
       "      <td>0</td>\n",
       "      <td>0</td>\n",
       "      <td>0</td>\n",
       "      <td>...</td>\n",
       "      <td>0</td>\n",
       "      <td>0</td>\n",
       "      <td>0</td>\n",
       "      <td>0</td>\n",
       "      <td>0</td>\n",
       "      <td>0</td>\n",
       "      <td>0</td>\n",
       "      <td>0</td>\n",
       "      <td>0</td>\n",
       "      <td>0</td>\n",
       "    </tr>\n",
       "    <tr>\n",
       "      <th>purchas freebas dissolv burnt ...</th>\n",
       "      <td>0</td>\n",
       "      <td>0</td>\n",
       "      <td>0</td>\n",
       "      <td>0</td>\n",
       "      <td>0</td>\n",
       "      <td>0</td>\n",
       "      <td>0</td>\n",
       "      <td>0</td>\n",
       "      <td>0</td>\n",
       "      <td>0</td>\n",
       "      <td>...</td>\n",
       "      <td>0</td>\n",
       "      <td>0</td>\n",
       "      <td>0</td>\n",
       "      <td>0</td>\n",
       "      <td>0</td>\n",
       "      <td>0</td>\n",
       "      <td>0</td>\n",
       "      <td>0</td>\n",
       "      <td>0</td>\n",
       "      <td>0</td>\n",
       "    </tr>\n",
       "    <tr>\n",
       "      <th>studi enhanc caffein recreat s...</th>\n",
       "      <td>2</td>\n",
       "      <td>0</td>\n",
       "      <td>0</td>\n",
       "      <td>0</td>\n",
       "      <td>0</td>\n",
       "      <td>0</td>\n",
       "      <td>0</td>\n",
       "      <td>0</td>\n",
       "      <td>0</td>\n",
       "      <td>0</td>\n",
       "      <td>...</td>\n",
       "      <td>0</td>\n",
       "      <td>0</td>\n",
       "      <td>0</td>\n",
       "      <td>0</td>\n",
       "      <td>0</td>\n",
       "      <td>0</td>\n",
       "      <td>0</td>\n",
       "      <td>0</td>\n",
       "      <td>0</td>\n",
       "      <td>0</td>\n",
       "    </tr>\n",
       "    <tr>\n",
       "      <th>succin tommorow liebermann onl...</th>\n",
       "      <td>0</td>\n",
       "      <td>0</td>\n",
       "      <td>0</td>\n",
       "      <td>0</td>\n",
       "      <td>0</td>\n",
       "      <td>0</td>\n",
       "      <td>0</td>\n",
       "      <td>0</td>\n",
       "      <td>0</td>\n",
       "      <td>0</td>\n",
       "      <td>...</td>\n",
       "      <td>0</td>\n",
       "      <td>0</td>\n",
       "      <td>0</td>\n",
       "      <td>0</td>\n",
       "      <td>0</td>\n",
       "      <td>0</td>\n",
       "      <td>0</td>\n",
       "      <td>0</td>\n",
       "      <td>0</td>\n",
       "      <td>0</td>\n",
       "    </tr>\n",
       "    <tr>\n",
       "      <th>doorbel packag polic offic pac...</th>\n",
       "      <td>0</td>\n",
       "      <td>0</td>\n",
       "      <td>0</td>\n",
       "      <td>0</td>\n",
       "      <td>0</td>\n",
       "      <td>0</td>\n",
       "      <td>0</td>\n",
       "      <td>0</td>\n",
       "      <td>0</td>\n",
       "      <td>0</td>\n",
       "      <td>...</td>\n",
       "      <td>0</td>\n",
       "      <td>0</td>\n",
       "      <td>0</td>\n",
       "      <td>0</td>\n",
       "      <td>0</td>\n",
       "      <td>0</td>\n",
       "      <td>0</td>\n",
       "      <td>0</td>\n",
       "      <td>0</td>\n",
       "      <td>0</td>\n",
       "    </tr>\n",
       "    <tr>\n",
       "      <th>nasal toler reduc euphor psyco...</th>\n",
       "      <td>0</td>\n",
       "      <td>0</td>\n",
       "      <td>0</td>\n",
       "      <td>0</td>\n",
       "      <td>0</td>\n",
       "      <td>0</td>\n",
       "      <td>0</td>\n",
       "      <td>0</td>\n",
       "      <td>0</td>\n",
       "      <td>0</td>\n",
       "      <td>...</td>\n",
       "      <td>0</td>\n",
       "      <td>0</td>\n",
       "      <td>0</td>\n",
       "      <td>0</td>\n",
       "      <td>0</td>\n",
       "      <td>0</td>\n",
       "      <td>0</td>\n",
       "      <td>0</td>\n",
       "      <td>0</td>\n",
       "      <td>0</td>\n",
       "    </tr>\n",
       "  </tbody>\n",
       "</table>\n",
       "<p>10 rows × 1156 columns</p>\n",
       "</div>"
      ],
      "text/plain": [
       "                                   abnorm  abort  absolut  absorb  abyss  \\\n",
       "perspect distort sativa disso ...       0      0        0       0      0   \n",
       "perspect distort sativa disso ...       0      0        0       0      0   \n",
       "purpos euphor entactogen recre...       0      0        0       0      0   \n",
       "optic brighten fluoresc bright...       0      0        0       1      0   \n",
       "awhil wasn't realiz they'r mel...       0      0        0       0      0   \n",
       "purchas freebas dissolv burnt ...       0      0        0       0      0   \n",
       "studi enhanc caffein recreat s...       2      0        0       0      0   \n",
       "succin tommorow liebermann onl...       0      0        0       0      0   \n",
       "doorbel packag polic offic pac...       0      0        0       0      0   \n",
       "nasal toler reduc euphor psyco...       0      0        0       0      0   \n",
       "\n",
       "                                   academ  acceler  accur  aceton  achiev  \\\n",
       "perspect distort sativa disso ...       0        0      0       0       0   \n",
       "perspect distort sativa disso ...       0        0      0       0       0   \n",
       "purpos euphor entactogen recre...       0        0      0       0       0   \n",
       "optic brighten fluoresc bright...       0        0      0       0       0   \n",
       "awhil wasn't realiz they'r mel...       0        0      0       0       0   \n",
       "purchas freebas dissolv burnt ...       0        0      0       0       0   \n",
       "studi enhanc caffein recreat s...       0        0      0       0       0   \n",
       "succin tommorow liebermann onl...       0        0      0       0       0   \n",
       "doorbel packag polic offic pac...       0        0      0       0       0   \n",
       "nasal toler reduc euphor psyco...       0        0      0       0       0   \n",
       "\n",
       "                                   ...  won  wonki  worri  worthwhil  wouldn  \\\n",
       "perspect distort sativa disso ...  ...    0      0      0          0       0   \n",
       "perspect distort sativa disso ...  ...    0      0      0          0       0   \n",
       "purpos euphor entactogen recre...  ...    0      0      0          0       0   \n",
       "optic brighten fluoresc bright...  ...    0      0      0          0       0   \n",
       "awhil wasn't realiz they'r mel...  ...    0      0      0          0       0   \n",
       "purchas freebas dissolv burnt ...  ...    0      0      0          0       0   \n",
       "studi enhanc caffein recreat s...  ...    0      0      0          0       0   \n",
       "succin tommorow liebermann onl...  ...    0      0      0          0       0   \n",
       "doorbel packag polic offic pac...  ...    0      0      0          0       0   \n",
       "nasal toler reduc euphor psyco...  ...    0      0      0          0       0   \n",
       "\n",
       "                                   wouldnt  wreck  youtub  zombi  zopiclon  \n",
       "perspect distort sativa disso ...        0      0       0      0         0  \n",
       "perspect distort sativa disso ...        0      0       0      0         0  \n",
       "purpos euphor entactogen recre...        0      0       0      0         0  \n",
       "optic brighten fluoresc bright...        0      0       0      0         0  \n",
       "awhil wasn't realiz they'r mel...        0      0       0      0         0  \n",
       "purchas freebas dissolv burnt ...        0      0       0      0         0  \n",
       "studi enhanc caffein recreat s...        0      0       0      0         0  \n",
       "succin tommorow liebermann onl...        0      0       0      0         0  \n",
       "doorbel packag polic offic pac...        0      0       0      0         0  \n",
       "nasal toler reduc euphor psyco...        0      0       0      0         0  \n",
       "\n",
       "[10 rows x 1156 columns]"
      ]
     },
     "execution_count": 20,
     "metadata": {},
     "output_type": "execute_result"
    }
   ],
   "source": [
    "ex_label = [e[:30]+\"...\" for e in data.drugsremoved]\n",
    "doc_word = tf_vectorizer.fit_transform(data.drugsremoved)\n",
    "pd.DataFrame(doc_word.toarray(), index=ex_label, columns=tf_vectorizer.get_feature_names()).head(10)"
   ]
  },
  {
   "cell_type": "code",
   "execution_count": 21,
   "id": "f9157eb8",
   "metadata": {},
   "outputs": [
    {
     "name": "stderr",
     "output_type": "stream",
     "text": [
      "/opt/anaconda3/lib/python3.8/site-packages/ipykernel/ipkernel.py:287: DeprecationWarning: `should_run_async` will not call `transform_cell` automatically in the future. Please pass the result to `transformed_cell` argument and any exception that happen during thetransform in `preprocessing_exc_tuple` in IPython 7.17 and above.\n",
      "  and should_run_async(code)\n"
     ]
    },
    {
     "data": {
      "text/html": [
       "<div>\n",
       "<style scoped>\n",
       "    .dataframe tbody tr th:only-of-type {\n",
       "        vertical-align: middle;\n",
       "    }\n",
       "\n",
       "    .dataframe tbody tr th {\n",
       "        vertical-align: top;\n",
       "    }\n",
       "\n",
       "    .dataframe thead th {\n",
       "        text-align: right;\n",
       "    }\n",
       "</style>\n",
       "<table border=\"1\" class=\"dataframe\">\n",
       "  <thead>\n",
       "    <tr style=\"text-align: right;\">\n",
       "      <th></th>\n",
       "      <th>abnorm</th>\n",
       "      <th>abort</th>\n",
       "      <th>absolut</th>\n",
       "      <th>absorb</th>\n",
       "      <th>abyss</th>\n",
       "      <th>academ</th>\n",
       "      <th>acceler</th>\n",
       "      <th>accur</th>\n",
       "      <th>aceton</th>\n",
       "      <th>achiev</th>\n",
       "      <th>...</th>\n",
       "      <th>won</th>\n",
       "      <th>wonki</th>\n",
       "      <th>worri</th>\n",
       "      <th>worthwhil</th>\n",
       "      <th>wouldn</th>\n",
       "      <th>wouldnt</th>\n",
       "      <th>wreck</th>\n",
       "      <th>youtub</th>\n",
       "      <th>zombi</th>\n",
       "      <th>zopiclon</th>\n",
       "    </tr>\n",
       "  </thead>\n",
       "  <tbody>\n",
       "    <tr>\n",
       "      <th>component_1</th>\n",
       "      <td>1.054</td>\n",
       "      <td>1.043</td>\n",
       "      <td>3.458</td>\n",
       "      <td>0.250</td>\n",
       "      <td>0.250</td>\n",
       "      <td>0.255</td>\n",
       "      <td>0.259</td>\n",
       "      <td>1.174</td>\n",
       "      <td>0.250</td>\n",
       "      <td>1.287</td>\n",
       "      <td>...</td>\n",
       "      <td>1.420</td>\n",
       "      <td>0.824</td>\n",
       "      <td>1.387</td>\n",
       "      <td>0.793</td>\n",
       "      <td>0.252</td>\n",
       "      <td>0.620</td>\n",
       "      <td>0.540</td>\n",
       "      <td>0.442</td>\n",
       "      <td>0.250</td>\n",
       "      <td>0.253</td>\n",
       "    </tr>\n",
       "    <tr>\n",
       "      <th>component_2</th>\n",
       "      <td>0.844</td>\n",
       "      <td>0.557</td>\n",
       "      <td>2.281</td>\n",
       "      <td>0.939</td>\n",
       "      <td>1.122</td>\n",
       "      <td>1.054</td>\n",
       "      <td>0.577</td>\n",
       "      <td>0.257</td>\n",
       "      <td>0.256</td>\n",
       "      <td>0.464</td>\n",
       "      <td>...</td>\n",
       "      <td>0.880</td>\n",
       "      <td>1.211</td>\n",
       "      <td>2.821</td>\n",
       "      <td>0.757</td>\n",
       "      <td>1.577</td>\n",
       "      <td>0.753</td>\n",
       "      <td>1.205</td>\n",
       "      <td>3.259</td>\n",
       "      <td>1.006</td>\n",
       "      <td>0.608</td>\n",
       "    </tr>\n",
       "    <tr>\n",
       "      <th>component_3</th>\n",
       "      <td>0.250</td>\n",
       "      <td>0.250</td>\n",
       "      <td>0.452</td>\n",
       "      <td>2.053</td>\n",
       "      <td>0.600</td>\n",
       "      <td>0.251</td>\n",
       "      <td>0.684</td>\n",
       "      <td>0.254</td>\n",
       "      <td>0.250</td>\n",
       "      <td>0.261</td>\n",
       "      <td>...</td>\n",
       "      <td>1.804</td>\n",
       "      <td>0.251</td>\n",
       "      <td>1.785</td>\n",
       "      <td>0.250</td>\n",
       "      <td>1.667</td>\n",
       "      <td>1.505</td>\n",
       "      <td>0.250</td>\n",
       "      <td>0.251</td>\n",
       "      <td>0.707</td>\n",
       "      <td>0.251</td>\n",
       "    </tr>\n",
       "    <tr>\n",
       "      <th>component_4</th>\n",
       "      <td>0.275</td>\n",
       "      <td>0.410</td>\n",
       "      <td>4.849</td>\n",
       "      <td>0.264</td>\n",
       "      <td>0.257</td>\n",
       "      <td>0.606</td>\n",
       "      <td>0.762</td>\n",
       "      <td>4.844</td>\n",
       "      <td>3.366</td>\n",
       "      <td>0.606</td>\n",
       "      <td>...</td>\n",
       "      <td>1.018</td>\n",
       "      <td>1.277</td>\n",
       "      <td>4.962</td>\n",
       "      <td>0.253</td>\n",
       "      <td>5.862</td>\n",
       "      <td>0.279</td>\n",
       "      <td>0.250</td>\n",
       "      <td>0.256</td>\n",
       "      <td>0.258</td>\n",
       "      <td>1.052</td>\n",
       "    </tr>\n",
       "  </tbody>\n",
       "</table>\n",
       "<p>4 rows × 1156 columns</p>\n",
       "</div>"
      ],
      "text/plain": [
       "             abnorm  abort  absolut  absorb  abyss  academ  acceler  accur  \\\n",
       "component_1   1.054  1.043    3.458   0.250  0.250   0.255    0.259  1.174   \n",
       "component_2   0.844  0.557    2.281   0.939  1.122   1.054    0.577  0.257   \n",
       "component_3   0.250  0.250    0.452   2.053  0.600   0.251    0.684  0.254   \n",
       "component_4   0.275  0.410    4.849   0.264  0.257   0.606    0.762  4.844   \n",
       "\n",
       "             aceton  achiev  ...    won  wonki  worri  worthwhil  wouldn  \\\n",
       "component_1   0.250   1.287  ...  1.420  0.824  1.387      0.793   0.252   \n",
       "component_2   0.256   0.464  ...  0.880  1.211  2.821      0.757   1.577   \n",
       "component_3   0.250   0.261  ...  1.804  0.251  1.785      0.250   1.667   \n",
       "component_4   3.366   0.606  ...  1.018  1.277  4.962      0.253   5.862   \n",
       "\n",
       "             wouldnt  wreck  youtub  zombi  zopiclon  \n",
       "component_1    0.620  0.540   0.442  0.250     0.253  \n",
       "component_2    0.753  1.205   3.259  1.006     0.608  \n",
       "component_3    1.505  0.250   0.251  0.707     0.251  \n",
       "component_4    0.279  0.250   0.256  0.258     1.052  \n",
       "\n",
       "[4 rows x 1156 columns]"
      ]
     },
     "execution_count": 21,
     "metadata": {},
     "output_type": "execute_result"
    }
   ],
   "source": [
    "topic_word = pd.DataFrame(lda_tfidf.components_.round(3),\n",
    "             index = [\"component_1\",\"component_2\",\"component_3\",\"component_4\"],\n",
    "             columns = tf_vectorizer.get_feature_names())\n",
    "topic_word"
   ]
  },
  {
   "cell_type": "code",
   "execution_count": 22,
   "id": "963430f1",
   "metadata": {},
   "outputs": [
    {
     "name": "stderr",
     "output_type": "stream",
     "text": [
      "/opt/anaconda3/lib/python3.8/site-packages/ipykernel/ipkernel.py:287: DeprecationWarning: `should_run_async` will not call `transform_cell` automatically in the future. Please pass the result to `transformed_cell` argument and any exception that happen during thetransform in `preprocessing_exc_tuple` in IPython 7.17 and above.\n",
      "  and should_run_async(code)\n"
     ]
    }
   ],
   "source": [
    "doc_topic = lda_tf.fit_transform(doc_word)"
   ]
  },
  {
   "cell_type": "code",
   "execution_count": 23,
   "id": "2a9c92fa",
   "metadata": {},
   "outputs": [
    {
     "name": "stdout",
     "output_type": "stream",
     "text": [
      "\n",
      "Topic  0\n",
      "toler, addict, anxieti, substanc, withdraw, notic, decid, disso, chemic, coupl, complet, compar, anxious, studi, sober, liter, increas, manag, psych, experienc\n",
      "\n",
      "Topic  1\n",
      "substanc, psychedel, stimul, dissoci, notic, intens, headspac, experienc, activ, physic, sensat, tryptamin, serotonin, potenti, complet, enhanc, compar, increas, chemic, uncomfort\n",
      "\n",
      "Topic  2\n",
      "stimul, snort, euphoria, comedown, don, decid, chemic, sedat, euphor, didn, intens, energi, dosag, durat, notic, psychedel, substanc, didnt, anxieti, consum\n",
      "\n",
      "Topic  3\n",
      "disso, bottl, dissolv, don, anxieti, decid, dosag, complet, rememb, extrem, dissoci, substanc, notic, seizur, depress, intens, memori, realiz, absolut, experienc\n"
     ]
    },
    {
     "name": "stderr",
     "output_type": "stream",
     "text": [
      "/opt/anaconda3/lib/python3.8/site-packages/ipykernel/ipkernel.py:287: DeprecationWarning: `should_run_async` will not call `transform_cell` automatically in the future. Please pass the result to `transformed_cell` argument and any exception that happen during thetransform in `preprocessing_exc_tuple` in IPython 7.17 and above.\n",
      "  and should_run_async(code)\n"
     ]
    }
   ],
   "source": [
    "display_topics(lda_tf, tf_vectorizer.get_feature_names(), 20)"
   ]
  },
  {
   "cell_type": "code",
   "execution_count": 24,
   "id": "4bf0c93e",
   "metadata": {},
   "outputs": [
    {
     "name": "stderr",
     "output_type": "stream",
     "text": [
      "/opt/anaconda3/lib/python3.8/site-packages/ipykernel/ipkernel.py:287: DeprecationWarning: `should_run_async` will not call `transform_cell` automatically in the future. Please pass the result to `transformed_cell` argument and any exception that happen during thetransform in `preprocessing_exc_tuple` in IPython 7.17 and above.\n",
      "  and should_run_async(code)\n"
     ]
    },
    {
     "data": {
      "text/html": [
       "<div>\n",
       "<style scoped>\n",
       "    .dataframe tbody tr th:only-of-type {\n",
       "        vertical-align: middle;\n",
       "    }\n",
       "\n",
       "    .dataframe tbody tr th {\n",
       "        vertical-align: top;\n",
       "    }\n",
       "\n",
       "    .dataframe thead th {\n",
       "        text-align: right;\n",
       "    }\n",
       "</style>\n",
       "<table border=\"1\" class=\"dataframe\">\n",
       "  <thead>\n",
       "    <tr style=\"text-align: right;\">\n",
       "      <th></th>\n",
       "      <th>index</th>\n",
       "      <th>Psycadelic</th>\n",
       "      <th>Euphoric</th>\n",
       "      <th>Negative</th>\n",
       "      <th>Dangerous</th>\n",
       "    </tr>\n",
       "  </thead>\n",
       "  <tbody>\n",
       "    <tr>\n",
       "      <th>0</th>\n",
       "      <td>perspect distort sativa disso ...</td>\n",
       "      <td>0.00641</td>\n",
       "      <td>0.98056</td>\n",
       "      <td>0.00651</td>\n",
       "      <td>0.00652</td>\n",
       "    </tr>\n",
       "    <tr>\n",
       "      <th>1</th>\n",
       "      <td>perspect distort sativa disso ...</td>\n",
       "      <td>0.00641</td>\n",
       "      <td>0.98056</td>\n",
       "      <td>0.00651</td>\n",
       "      <td>0.00652</td>\n",
       "    </tr>\n",
       "    <tr>\n",
       "      <th>2</th>\n",
       "      <td>purpos euphor entactogen recre...</td>\n",
       "      <td>0.17345</td>\n",
       "      <td>0.30115</td>\n",
       "      <td>0.51990</td>\n",
       "      <td>0.00550</td>\n",
       "    </tr>\n",
       "    <tr>\n",
       "      <th>3</th>\n",
       "      <td>optic brighten fluoresc bright...</td>\n",
       "      <td>0.02656</td>\n",
       "      <td>0.37605</td>\n",
       "      <td>0.02641</td>\n",
       "      <td>0.57099</td>\n",
       "    </tr>\n",
       "    <tr>\n",
       "      <th>4</th>\n",
       "      <td>awhil wasn't realiz they'r mel...</td>\n",
       "      <td>0.01892</td>\n",
       "      <td>0.01811</td>\n",
       "      <td>0.02127</td>\n",
       "      <td>0.94169</td>\n",
       "    </tr>\n",
       "    <tr>\n",
       "      <th>...</th>\n",
       "      <td>...</td>\n",
       "      <td>...</td>\n",
       "      <td>...</td>\n",
       "      <td>...</td>\n",
       "      <td>...</td>\n",
       "    </tr>\n",
       "    <tr>\n",
       "      <th>1026</th>\n",
       "      <td>worthwhil subtl energ electr e...</td>\n",
       "      <td>0.00994</td>\n",
       "      <td>0.97017</td>\n",
       "      <td>0.01003</td>\n",
       "      <td>0.00987</td>\n",
       "    </tr>\n",
       "    <tr>\n",
       "      <th>1027</th>\n",
       "      <td>mfpvp chemic structur easili o...</td>\n",
       "      <td>0.02949</td>\n",
       "      <td>0.03050</td>\n",
       "      <td>0.91119</td>\n",
       "      <td>0.02881</td>\n",
       "    </tr>\n",
       "    <tr>\n",
       "      <th>1028</th>\n",
       "      <td>toler psych increas toler coro...</td>\n",
       "      <td>0.50736</td>\n",
       "      <td>0.01205</td>\n",
       "      <td>0.46892</td>\n",
       "      <td>0.01167</td>\n",
       "    </tr>\n",
       "    <tr>\n",
       "      <th>1029</th>\n",
       "      <td>phenethylamin plenti combin in...</td>\n",
       "      <td>0.00835</td>\n",
       "      <td>0.97485</td>\n",
       "      <td>0.00844</td>\n",
       "      <td>0.00837</td>\n",
       "    </tr>\n",
       "    <tr>\n",
       "      <th>1030</th>\n",
       "      <td>decid isn't analogu uniqu arri...</td>\n",
       "      <td>0.01151</td>\n",
       "      <td>0.46104</td>\n",
       "      <td>0.51584</td>\n",
       "      <td>0.01161</td>\n",
       "    </tr>\n",
       "  </tbody>\n",
       "</table>\n",
       "<p>1031 rows × 5 columns</p>\n",
       "</div>"
      ],
      "text/plain": [
       "                                  index  Psycadelic  Euphoric  Negative  \\\n",
       "0     perspect distort sativa disso ...     0.00641   0.98056   0.00651   \n",
       "1     perspect distort sativa disso ...     0.00641   0.98056   0.00651   \n",
       "2     purpos euphor entactogen recre...     0.17345   0.30115   0.51990   \n",
       "3     optic brighten fluoresc bright...     0.02656   0.37605   0.02641   \n",
       "4     awhil wasn't realiz they'r mel...     0.01892   0.01811   0.02127   \n",
       "...                                 ...         ...       ...       ...   \n",
       "1026  worthwhil subtl energ electr e...     0.00994   0.97017   0.01003   \n",
       "1027  mfpvp chemic structur easili o...     0.02949   0.03050   0.91119   \n",
       "1028  toler psych increas toler coro...     0.50736   0.01205   0.46892   \n",
       "1029  phenethylamin plenti combin in...     0.00835   0.97485   0.00844   \n",
       "1030  decid isn't analogu uniqu arri...     0.01151   0.46104   0.51584   \n",
       "\n",
       "      Dangerous  \n",
       "0       0.00652  \n",
       "1       0.00652  \n",
       "2       0.00550  \n",
       "3       0.57099  \n",
       "4       0.94169  \n",
       "...         ...  \n",
       "1026    0.00987  \n",
       "1027    0.02881  \n",
       "1028    0.01167  \n",
       "1029    0.00837  \n",
       "1030    0.01161  \n",
       "\n",
       "[1031 rows x 5 columns]"
      ]
     },
     "execution_count": 24,
     "metadata": {},
     "output_type": "execute_result"
    }
   ],
   "source": [
    "H = pd.DataFrame(doc_topic.round(5),\n",
    "             index = ex_label,\n",
    "             columns = [\"Psycadelic\",\"Euphoric\",'Negative','Dangerous'])\n",
    "H.reset_index()"
   ]
  },
  {
   "cell_type": "code",
   "execution_count": 25,
   "id": "b9a77ff9",
   "metadata": {},
   "outputs": [
    {
     "name": "stderr",
     "output_type": "stream",
     "text": [
      "/opt/anaconda3/lib/python3.8/site-packages/ipykernel/ipkernel.py:287: DeprecationWarning: `should_run_async` will not call `transform_cell` automatically in the future. Please pass the result to `transformed_cell` argument and any exception that happen during thetransform in `preprocessing_exc_tuple` in IPython 7.17 and above.\n",
      "  and should_run_async(code)\n"
     ]
    }
   ],
   "source": [
    "import numpy as np"
   ]
  },
  {
   "cell_type": "code",
   "execution_count": 26,
   "id": "bfb16e00",
   "metadata": {},
   "outputs": [
    {
     "name": "stderr",
     "output_type": "stream",
     "text": [
      "/opt/anaconda3/lib/python3.8/site-packages/ipykernel/ipkernel.py:287: DeprecationWarning: `should_run_async` will not call `transform_cell` automatically in the future. Please pass the result to `transformed_cell` argument and any exception that happen during thetransform in `preprocessing_exc_tuple` in IPython 7.17 and above.\n",
      "  and should_run_async(code)\n"
     ]
    }
   ],
   "source": [
    "maxValueIndexObj = H.idxmax(axis=1)\n"
   ]
  },
  {
   "cell_type": "code",
   "execution_count": 27,
   "id": "92ff3958",
   "metadata": {},
   "outputs": [
    {
     "name": "stderr",
     "output_type": "stream",
     "text": [
      "/opt/anaconda3/lib/python3.8/site-packages/ipykernel/ipkernel.py:287: DeprecationWarning: `should_run_async` will not call `transform_cell` automatically in the future. Please pass the result to `transformed_cell` argument and any exception that happen during thetransform in `preprocessing_exc_tuple` in IPython 7.17 and above.\n",
      "  and should_run_async(code)\n"
     ]
    }
   ],
   "source": [
    "H['effect'] = maxValueIndexObj"
   ]
  },
  {
   "cell_type": "code",
   "execution_count": 28,
   "id": "95281dfb",
   "metadata": {},
   "outputs": [
    {
     "name": "stderr",
     "output_type": "stream",
     "text": [
      "/opt/anaconda3/lib/python3.8/site-packages/ipykernel/ipkernel.py:287: DeprecationWarning: `should_run_async` will not call `transform_cell` automatically in the future. Please pass the result to `transformed_cell` argument and any exception that happen during thetransform in `preprocessing_exc_tuple` in IPython 7.17 and above.\n",
      "  and should_run_async(code)\n"
     ]
    }
   ],
   "source": [
    "H = H.reset_index()"
   ]
  },
  {
   "cell_type": "code",
   "execution_count": 29,
   "id": "ffa1b8a3",
   "metadata": {},
   "outputs": [
    {
     "name": "stderr",
     "output_type": "stream",
     "text": [
      "/opt/anaconda3/lib/python3.8/site-packages/ipykernel/ipkernel.py:287: DeprecationWarning: `should_run_async` will not call `transform_cell` automatically in the future. Please pass the result to `transformed_cell` argument and any exception that happen during thetransform in `preprocessing_exc_tuple` in IPython 7.17 and above.\n",
      "  and should_run_async(code)\n"
     ]
    }
   ],
   "source": [
    "combined_df = pd.concat([data, H], axis = 1)"
   ]
  },
  {
   "cell_type": "code",
   "execution_count": 30,
   "id": "fbd26d30",
   "metadata": {},
   "outputs": [
    {
     "name": "stderr",
     "output_type": "stream",
     "text": [
      "/opt/anaconda3/lib/python3.8/site-packages/ipykernel/ipkernel.py:287: DeprecationWarning: `should_run_async` will not call `transform_cell` automatically in the future. Please pass the result to `transformed_cell` argument and any exception that happen during thetransform in `preprocessing_exc_tuple` in IPython 7.17 and above.\n",
      "  and should_run_async(code)\n"
     ]
    }
   ],
   "source": [
    "combined_df['drug_terms'] = drug_terms"
   ]
  },
  {
   "cell_type": "code",
   "execution_count": 31,
   "id": "2fd51f1f",
   "metadata": {},
   "outputs": [
    {
     "name": "stderr",
     "output_type": "stream",
     "text": [
      "/opt/anaconda3/lib/python3.8/site-packages/ipykernel/ipkernel.py:287: DeprecationWarning: `should_run_async` will not call `transform_cell` automatically in the future. Please pass the result to `transformed_cell` argument and any exception that happen during thetransform in `preprocessing_exc_tuple` in IPython 7.17 and above.\n",
      "  and should_run_async(code)\n"
     ]
    },
    {
     "data": {
      "text/html": [
       "<div>\n",
       "<style scoped>\n",
       "    .dataframe tbody tr th:only-of-type {\n",
       "        vertical-align: middle;\n",
       "    }\n",
       "\n",
       "    .dataframe tbody tr th {\n",
       "        vertical-align: top;\n",
       "    }\n",
       "\n",
       "    .dataframe thead th {\n",
       "        text-align: right;\n",
       "    }\n",
       "</style>\n",
       "<table border=\"1\" class=\"dataframe\">\n",
       "  <thead>\n",
       "    <tr style=\"text-align: right;\">\n",
       "      <th></th>\n",
       "      <th>text</th>\n",
       "      <th>counter</th>\n",
       "      <th>general_words_removed</th>\n",
       "      <th>drugsremoved</th>\n",
       "      <th>index</th>\n",
       "      <th>Psycadelic</th>\n",
       "      <th>Euphoric</th>\n",
       "      <th>Negative</th>\n",
       "      <th>Dangerous</th>\n",
       "      <th>effect</th>\n",
       "      <th>drug_terms</th>\n",
       "    </tr>\n",
       "  </thead>\n",
       "  <tbody>\n",
       "    <tr>\n",
       "      <th>0</th>\n",
       "      <td>took one tab   of it   at am and felt the firs...</td>\n",
       "      <td>495</td>\n",
       "      <td>perspect distort sativa disso psychedel sensit...</td>\n",
       "      <td>perspect distort sativa disso psychedel sensit...</td>\n",
       "      <td>perspect distort sativa disso ...</td>\n",
       "      <td>0.00641</td>\n",
       "      <td>0.98056</td>\n",
       "      <td>0.00651</td>\n",
       "      <td>0.00652</td>\n",
       "      <td>Euphoric</td>\n",
       "      <td></td>\n",
       "    </tr>\n",
       "    <tr>\n",
       "      <th>1</th>\n",
       "      <td>took one tab   at   am and felt the first effe...</td>\n",
       "      <td>506</td>\n",
       "      <td>perspect distort sativa disso psychedel sensit...</td>\n",
       "      <td>perspect distort sativa disso psychedel sensit...</td>\n",
       "      <td>perspect distort sativa disso ...</td>\n",
       "      <td>0.00641</td>\n",
       "      <td>0.98056</td>\n",
       "      <td>0.00651</td>\n",
       "      <td>0.00652</td>\n",
       "      <td>Euphoric</td>\n",
       "      <td></td>\n",
       "    </tr>\n",
       "    <tr>\n",
       "      <th>2</th>\n",
       "      <td>so my brain was virgin and i used both   and  ...</td>\n",
       "      <td>530</td>\n",
       "      <td>daili purpos peopl euphor entactogen recreat a...</td>\n",
       "      <td>purpos euphor entactogen recreat suppos euphor...</td>\n",
       "      <td>purpos euphor entactogen recre...</td>\n",
       "      <td>0.17345</td>\n",
       "      <td>0.30115</td>\n",
       "      <td>0.51990</td>\n",
       "      <td>0.00550</td>\n",
       "      <td>Negative</td>\n",
       "      <td>amphetamine meth dopamin</td>\n",
       "    </tr>\n",
       "    <tr>\n",
       "      <th>3</th>\n",
       "      <td>amp    \\n\\noptical brightening agents  obas  ...</td>\n",
       "      <td>144</td>\n",
       "      <td>optic brighten oba fluoresc brighten fbas fluo...</td>\n",
       "      <td>optic brighten fluoresc brighten fluoresc whit...</td>\n",
       "      <td>optic brighten fluoresc bright...</td>\n",
       "      <td>0.02656</td>\n",
       "      <td>0.37605</td>\n",
       "      <td>0.02641</td>\n",
       "      <td>0.57099</td>\n",
       "      <td>Dangerous</td>\n",
       "      <td></td>\n",
       "    </tr>\n",
       "    <tr>\n",
       "      <th>4</th>\n",
       "      <td>i’ve fucked around with pressed bars for quite...</td>\n",
       "      <td>166</td>\n",
       "      <td>i'v awhil wasn't realiz they'r benzo pretti kp...</td>\n",
       "      <td>awhil wasn't realiz they'r mellow don't don't ...</td>\n",
       "      <td>awhil wasn't realiz they'r mel...</td>\n",
       "      <td>0.01892</td>\n",
       "      <td>0.01811</td>\n",
       "      <td>0.02127</td>\n",
       "      <td>0.94169</td>\n",
       "      <td>Dangerous</td>\n",
       "      <td>benzos clonazolam</td>\n",
       "    </tr>\n",
       "    <tr>\n",
       "      <th>...</th>\n",
       "      <td>...</td>\n",
       "      <td>...</td>\n",
       "      <td>...</td>\n",
       "      <td>...</td>\n",
       "      <td>...</td>\n",
       "      <td>...</td>\n",
       "      <td>...</td>\n",
       "      <td>...</td>\n",
       "      <td>...</td>\n",
       "      <td>...</td>\n",
       "      <td>...</td>\n",
       "    </tr>\n",
       "    <tr>\n",
       "      <th>1026</th>\n",
       "      <td>of first   lsd dose as recommended by the fe...</td>\n",
       "      <td>243</td>\n",
       "      <td>lsd worthwhil experi lsd ug subtl energ electr...</td>\n",
       "      <td>worthwhil subtl energ electr equival lightn di...</td>\n",
       "      <td>worthwhil subtl energ electr e...</td>\n",
       "      <td>0.00994</td>\n",
       "      <td>0.97017</td>\n",
       "      <td>0.01003</td>\n",
       "      <td>0.00987</td>\n",
       "      <td>Euphoric</td>\n",
       "      <td></td>\n",
       "    </tr>\n",
       "    <tr>\n",
       "      <th>1027</th>\n",
       "      <td>hello all\\n\\nhas anyone tried  mfpvp    the ch...</td>\n",
       "      <td>142</td>\n",
       "      <td>mfpvp chemic structur easili onlin pyro flouri...</td>\n",
       "      <td>mfpvp chemic structur easili onlin flourish in...</td>\n",
       "      <td>mfpvp chemic structur easili o...</td>\n",
       "      <td>0.02949</td>\n",
       "      <td>0.03050</td>\n",
       "      <td>0.91119</td>\n",
       "      <td>0.02881</td>\n",
       "      <td>Negative</td>\n",
       "      <td></td>\n",
       "    </tr>\n",
       "    <tr>\n",
       "      <th>1028</th>\n",
       "      <td>tldr  i have a tolerance   am i able to get so...</td>\n",
       "      <td>226</td>\n",
       "      <td>tldr toler psych increas toler corona parti bo...</td>\n",
       "      <td>toler psych increas toler corona parti swallow...</td>\n",
       "      <td>toler psych increas toler coro...</td>\n",
       "      <td>0.50736</td>\n",
       "      <td>0.01205</td>\n",
       "      <td>0.46892</td>\n",
       "      <td>0.01167</td>\n",
       "      <td>Psycadelic</td>\n",
       "      <td></td>\n",
       "    </tr>\n",
       "    <tr>\n",
       "      <th>1029</th>\n",
       "      <td>so i ve been doing some research  and i ve see...</td>\n",
       "      <td>188</td>\n",
       "      <td>meo mipt maoi phenethylamin plenti combin incl...</td>\n",
       "      <td>phenethylamin plenti combin includ adderal neg...</td>\n",
       "      <td>phenethylamin plenti combin in...</td>\n",
       "      <td>0.00835</td>\n",
       "      <td>0.97485</td>\n",
       "      <td>0.00844</td>\n",
       "      <td>0.00837</td>\n",
       "      <td>Euphoric</td>\n",
       "      <td>adderall monoamine dopamine phenethylamine</td>\n",
       "    </tr>\n",
       "    <tr>\n",
       "      <th>1030</th>\n",
       "      <td>i decided to buy doc as my first rc bc i wante...</td>\n",
       "      <td>210</td>\n",
       "      <td>decid isn't analogu uniqu experi arriv durat s...</td>\n",
       "      <td>decid isn't analogu uniqu arriv durat schedul ...</td>\n",
       "      <td>decid isn't analogu uniqu arri...</td>\n",
       "      <td>0.01151</td>\n",
       "      <td>0.46104</td>\n",
       "      <td>0.51584</td>\n",
       "      <td>0.01161</td>\n",
       "      <td>Negative</td>\n",
       "      <td>phenibut benzos</td>\n",
       "    </tr>\n",
       "  </tbody>\n",
       "</table>\n",
       "<p>1031 rows × 11 columns</p>\n",
       "</div>"
      ],
      "text/plain": [
       "                                                   text  counter  \\\n",
       "0     took one tab   of it   at am and felt the firs...      495   \n",
       "1     took one tab   at   am and felt the first effe...      506   \n",
       "2     so my brain was virgin and i used both   and  ...      530   \n",
       "3      amp    \\n\\noptical brightening agents  obas  ...      144   \n",
       "4     i’ve fucked around with pressed bars for quite...      166   \n",
       "...                                                 ...      ...   \n",
       "1026    of first   lsd dose as recommended by the fe...      243   \n",
       "1027  hello all\\n\\nhas anyone tried  mfpvp    the ch...      142   \n",
       "1028  tldr  i have a tolerance   am i able to get so...      226   \n",
       "1029  so i ve been doing some research  and i ve see...      188   \n",
       "1030  i decided to buy doc as my first rc bc i wante...      210   \n",
       "\n",
       "                                  general_words_removed  \\\n",
       "0     perspect distort sativa disso psychedel sensit...   \n",
       "1     perspect distort sativa disso psychedel sensit...   \n",
       "2     daili purpos peopl euphor entactogen recreat a...   \n",
       "3     optic brighten oba fluoresc brighten fbas fluo...   \n",
       "4     i'v awhil wasn't realiz they'r benzo pretti kp...   \n",
       "...                                                 ...   \n",
       "1026  lsd worthwhil experi lsd ug subtl energ electr...   \n",
       "1027  mfpvp chemic structur easili onlin pyro flouri...   \n",
       "1028  tldr toler psych increas toler corona parti bo...   \n",
       "1029  meo mipt maoi phenethylamin plenti combin incl...   \n",
       "1030  decid isn't analogu uniqu experi arriv durat s...   \n",
       "\n",
       "                                           drugsremoved  \\\n",
       "0     perspect distort sativa disso psychedel sensit...   \n",
       "1     perspect distort sativa disso psychedel sensit...   \n",
       "2     purpos euphor entactogen recreat suppos euphor...   \n",
       "3     optic brighten fluoresc brighten fluoresc whit...   \n",
       "4     awhil wasn't realiz they'r mellow don't don't ...   \n",
       "...                                                 ...   \n",
       "1026  worthwhil subtl energ electr equival lightn di...   \n",
       "1027  mfpvp chemic structur easili onlin flourish in...   \n",
       "1028  toler psych increas toler corona parti swallow...   \n",
       "1029  phenethylamin plenti combin includ adderal neg...   \n",
       "1030  decid isn't analogu uniqu arriv durat schedul ...   \n",
       "\n",
       "                                  index  Psycadelic  Euphoric  Negative  \\\n",
       "0     perspect distort sativa disso ...     0.00641   0.98056   0.00651   \n",
       "1     perspect distort sativa disso ...     0.00641   0.98056   0.00651   \n",
       "2     purpos euphor entactogen recre...     0.17345   0.30115   0.51990   \n",
       "3     optic brighten fluoresc bright...     0.02656   0.37605   0.02641   \n",
       "4     awhil wasn't realiz they'r mel...     0.01892   0.01811   0.02127   \n",
       "...                                 ...         ...       ...       ...   \n",
       "1026  worthwhil subtl energ electr e...     0.00994   0.97017   0.01003   \n",
       "1027  mfpvp chemic structur easili o...     0.02949   0.03050   0.91119   \n",
       "1028  toler psych increas toler coro...     0.50736   0.01205   0.46892   \n",
       "1029  phenethylamin plenti combin in...     0.00835   0.97485   0.00844   \n",
       "1030  decid isn't analogu uniqu arri...     0.01151   0.46104   0.51584   \n",
       "\n",
       "      Dangerous      effect                                  drug_terms  \n",
       "0       0.00652    Euphoric                                              \n",
       "1       0.00652    Euphoric                                              \n",
       "2       0.00550    Negative                    amphetamine meth dopamin  \n",
       "3       0.57099   Dangerous                                              \n",
       "4       0.94169   Dangerous                           benzos clonazolam  \n",
       "...         ...         ...                                         ...  \n",
       "1026    0.00987    Euphoric                                              \n",
       "1027    0.02881    Negative                                              \n",
       "1028    0.01167  Psycadelic                                              \n",
       "1029    0.00837    Euphoric  adderall monoamine dopamine phenethylamine  \n",
       "1030    0.01161    Negative                             phenibut benzos  \n",
       "\n",
       "[1031 rows x 11 columns]"
      ]
     },
     "execution_count": 31,
     "metadata": {},
     "output_type": "execute_result"
    }
   ],
   "source": [
    "combined_df"
   ]
  },
  {
   "cell_type": "code",
   "execution_count": 62,
   "id": "68595a07",
   "metadata": {},
   "outputs": [
    {
     "name": "stderr",
     "output_type": "stream",
     "text": [
      "/opt/anaconda3/lib/python3.8/site-packages/ipykernel/ipkernel.py:287: DeprecationWarning: `should_run_async` will not call `transform_cell` automatically in the future. Please pass the result to `transformed_cell` argument and any exception that happen during thetransform in `preprocessing_exc_tuple` in IPython 7.17 and above.\n",
      "  and should_run_async(code)\n"
     ]
    },
    {
     "data": {
      "text/plain": [
       "Dangerous     262\n",
       "Negative      261\n",
       "Psycadelic    261\n",
       "Euphoric      247\n",
       "Name: effect, dtype: int64"
      ]
     },
     "execution_count": 62,
     "metadata": {},
     "output_type": "execute_result"
    }
   ],
   "source": [
    "combined_df['effect'].value_counts()"
   ]
  },
  {
   "cell_type": "code",
   "execution_count": 32,
   "id": "9fdd4b8d",
   "metadata": {},
   "outputs": [
    {
     "name": "stderr",
     "output_type": "stream",
     "text": [
      "/opt/anaconda3/lib/python3.8/site-packages/ipykernel/ipkernel.py:287: DeprecationWarning: `should_run_async` will not call `transform_cell` automatically in the future. Please pass the result to `transformed_cell` argument and any exception that happen during thetransform in `preprocessing_exc_tuple` in IPython 7.17 and above.\n",
      "  and should_run_async(code)\n"
     ]
    },
    {
     "data": {
      "text/plain": [
       "Text(0, 0.5, 'Number of postings')"
      ]
     },
     "execution_count": 32,
     "metadata": {},
     "output_type": "execute_result"
    },
    {
     "data": {
      "image/png": "[encoded data removed]",
      "text/plain": [
       "<Figure size 432x288 with 1 Axes>"
      ]
     },
     "metadata": {
      "needs_background": "light"
     },
     "output_type": "display_data"
    }
   ],
   "source": [
    "import matplotlib.pyplot as plt\n",
    "combined_df['effect'].value_counts().plot.bar(x=None, y=None)\n",
    "plt.title('Number of posts per Topic')\n",
    "plt.xlabel('Topic Name')\n",
    "plt.ylabel('Number of postings')"
   ]
  },
  {
   "cell_type": "code",
   "execution_count": 33,
   "id": "7cf10961",
   "metadata": {},
   "outputs": [
    {
     "name": "stderr",
     "output_type": "stream",
     "text": [
      "/opt/anaconda3/lib/python3.8/site-packages/ipykernel/ipkernel.py:287: DeprecationWarning: `should_run_async` will not call `transform_cell` automatically in the future. Please pass the result to `transformed_cell` argument and any exception that happen during thetransform in `preprocessing_exc_tuple` in IPython 7.17 and above.\n",
      "  and should_run_async(code)\n"
     ]
    }
   ],
   "source": [
    "combined_df = combined_df.drop(['counter', 'general_words_removed','drugsremoved','index'], axis=1)"
   ]
  },
  {
   "cell_type": "code",
   "execution_count": 84,
   "id": "92113e6c",
   "metadata": {},
   "outputs": [],
   "source": [
    "all_drugs = []\n",
    "for i in combined_df.drug_terms:\n",
    "    if i != '':\n",
    "        if i[:-1] == 's'\n",
    "            \n",
    "            i\n",
    "            i = i.split()\n",
    "            for i in i:\n",
    "                all_drugs.append(i)"
   ]
  },
  {
   "cell_type": "code",
   "execution_count": 87,
   "id": "907d063f",
   "metadata": {},
   "outputs": [
    {
     "data": {
      "text/plain": [
       "benzos         130\n",
       "benzo          105\n",
       "mdma            99\n",
       "etizolam        91\n",
       "dmt             70\n",
       "ketamine        69\n",
       "kratom          54\n",
       "clonazolam      51\n",
       "dck             50\n",
       "amphetamine     46\n",
       "dtype: int64"
      ]
     },
     "execution_count": 87,
     "metadata": {},
     "output_type": "execute_result"
    }
   ],
   "source": [
    "all_drugs_df = pd.DataFrame(all_drugs)\n",
    "all_drugs_df.value_counts().head(10)"
   ]
  },
  {
   "cell_type": "code",
   "execution_count": 64,
   "id": "dd5fb642",
   "metadata": {},
   "outputs": [
    {
     "name": "stderr",
     "output_type": "stream",
     "text": [
      "/opt/anaconda3/lib/python3.8/site-packages/ipykernel/ipkernel.py:287: DeprecationWarning: `should_run_async` will not call `transform_cell` automatically in the future. Please pass the result to `transformed_cell` argument and any exception that happen during thetransform in `preprocessing_exc_tuple` in IPython 7.17 and above.\n",
      "  and should_run_async(code)\n"
     ]
    }
   ],
   "source": [
    "mask1 = (combined_df['effect'] == 'Dangerous') & (combined_df['drug_terms'] != '')\n",
    "mask2 = (combined_df['effect'] == 'Negative') & (combined_df['drug_terms'] != '')\n",
    "mask3 = (combined_df['effect'] == 'Psycadelic') & (combined_df['drug_terms'] != '')\n",
    "mask4 = (combined_df['effect'] == 'Euphoric') & (combined_df['drug_terms'] != '')"
   ]
  },
  {
   "cell_type": "code",
   "execution_count": 71,
   "id": "18b68dd6",
   "metadata": {},
   "outputs": [
    {
     "name": "stderr",
     "output_type": "stream",
     "text": [
      "/opt/anaconda3/lib/python3.8/site-packages/ipykernel/ipkernel.py:287: DeprecationWarning: `should_run_async` will not call `transform_cell` automatically in the future. Please pass the result to `transformed_cell` argument and any exception that happen during thetransform in `preprocessing_exc_tuple` in IPython 7.17 and above.\n",
      "  and should_run_async(code)\n"
     ]
    }
   ],
   "source": [
    "dangerous = combined_df[mask1]\n",
    "negative = combined_df[mask2]\n",
    "psycadelic = combined_df[mask3]\n",
    "euphoric = combined_df[mask4]"
   ]
  },
  {
   "cell_type": "code",
   "execution_count": 72,
   "id": "9a296c98",
   "metadata": {},
   "outputs": [
    {
     "name": "stderr",
     "output_type": "stream",
     "text": [
      "/opt/anaconda3/lib/python3.8/site-packages/ipykernel/ipkernel.py:287: DeprecationWarning: `should_run_async` will not call `transform_cell` automatically in the future. Please pass the result to `transformed_cell` argument and any exception that happen during thetransform in `preprocessing_exc_tuple` in IPython 7.17 and above.\n",
      "  and should_run_async(code)\n"
     ]
    }
   ],
   "source": [
    "dangerous_drugs = []\n",
    "for i in dangerous.drug_terms:\n",
    "    if i != '':\n",
    "        i = i.split()\n",
    "        for i in i:\n",
    "            dangerous_drugs.append(i)\n",
    "            \n",
    "negative_drugs = []\n",
    "for i in negative.drug_terms:\n",
    "    if i != '':\n",
    "        i = i.split()\n",
    "        for i in i:\n",
    "            negative_drugs.append(i)\n",
    "            \n",
    "psycadelic_drugs = []\n",
    "for i in psycadelic.drug_terms:\n",
    "    if i != '':\n",
    "        i = i.split()\n",
    "        for i in i:\n",
    "            psycadelic_drugs.append(i)\n",
    "            \n",
    "euphoric_drugs = []\n",
    "for i in euphoric.drug_terms:\n",
    "    if i != '':\n",
    "        i = i.split()\n",
    "        for i in i:\n",
    "            euphoric_drugs.append(i)"
   ]
  },
  {
   "cell_type": "code",
   "execution_count": 73,
   "id": "809961ef",
   "metadata": {},
   "outputs": [
    {
     "name": "stderr",
     "output_type": "stream",
     "text": [
      "/opt/anaconda3/lib/python3.8/site-packages/ipykernel/ipkernel.py:287: DeprecationWarning: `should_run_async` will not call `transform_cell` automatically in the future. Please pass the result to `transformed_cell` argument and any exception that happen during thetransform in `preprocessing_exc_tuple` in IPython 7.17 and above.\n",
      "  and should_run_async(code)\n"
     ]
    }
   ],
   "source": [
    "dangerous_df = pd.DataFrame(dangerous_drugs)\n",
    "negative_df = pd.DataFrame(negative_drugs)\n",
    "psycadelic_df = pd.DataFrame(psycadelic_drugs)\n",
    "euphoric_df = pd.DataFrame(euphoric_drugs)\n"
   ]
  },
  {
   "cell_type": "code",
   "execution_count": 74,
   "id": "68af1e5b",
   "metadata": {},
   "outputs": [
    {
     "name": "stderr",
     "output_type": "stream",
     "text": [
      "/opt/anaconda3/lib/python3.8/site-packages/ipykernel/ipkernel.py:287: DeprecationWarning: `should_run_async` will not call `transform_cell` automatically in the future. Please pass the result to `transformed_cell` argument and any exception that happen during thetransform in `preprocessing_exc_tuple` in IPython 7.17 and above.\n",
      "  and should_run_async(code)\n"
     ]
    },
    {
     "data": {
      "text/plain": [
       "benzos        41\n",
       "benzo         31\n",
       "etizolam      30\n",
       "ketamine      30\n",
       "mdma          22\n",
       "clonazolam    21\n",
       "etiz          15\n",
       "dmt           14\n",
       "dck           14\n",
       "kratom        13\n",
       "dtype: int64"
      ]
     },
     "execution_count": 74,
     "metadata": {},
     "output_type": "execute_result"
    }
   ],
   "source": [
    "dangerous_df.value_counts().head(10)"
   ]
  },
  {
   "cell_type": "code",
   "execution_count": 75,
   "id": "2982a7c7",
   "metadata": {},
   "outputs": [
    {
     "name": "stderr",
     "output_type": "stream",
     "text": [
      "/opt/anaconda3/lib/python3.8/site-packages/ipykernel/ipkernel.py:287: DeprecationWarning: `should_run_async` will not call `transform_cell` automatically in the future. Please pass the result to `transformed_cell` argument and any exception that happen during thetransform in `preprocessing_exc_tuple` in IPython 7.17 and above.\n",
      "  and should_run_async(code)\n"
     ]
    },
    {
     "data": {
      "text/plain": [
       "benzos         31\n",
       "mdma           25\n",
       "benzo          25\n",
       "mapb           18\n",
       "amphetamine    17\n",
       "etizolam       15\n",
       "kratom         15\n",
       "meth           14\n",
       "dck            13\n",
       "coke           13\n",
       "dtype: int64"
      ]
     },
     "execution_count": 75,
     "metadata": {},
     "output_type": "execute_result"
    }
   ],
   "source": [
    "negative_df.value_counts().head(10)"
   ]
  },
  {
   "cell_type": "code",
   "execution_count": 76,
   "id": "3f34e061",
   "metadata": {},
   "outputs": [
    {
     "name": "stderr",
     "output_type": "stream",
     "text": [
      "/opt/anaconda3/lib/python3.8/site-packages/ipykernel/ipkernel.py:287: DeprecationWarning: `should_run_async` will not call `transform_cell` automatically in the future. Please pass the result to `transformed_cell` argument and any exception that happen during thetransform in `preprocessing_exc_tuple` in IPython 7.17 and above.\n",
      "  and should_run_async(code)\n"
     ]
    },
    {
     "data": {
      "text/plain": [
       "benzos        49\n",
       "benzo         35\n",
       "etizolam      33\n",
       "kratom        20\n",
       "meth          19\n",
       "mdma          18\n",
       "clonazolam    16\n",
       "etiz          14\n",
       "ketamine      13\n",
       "gram          12\n",
       "dtype: int64"
      ]
     },
     "execution_count": 76,
     "metadata": {},
     "output_type": "execute_result"
    }
   ],
   "source": [
    "psycadelic_df.value_counts().head(10)\n"
   ]
  },
  {
   "cell_type": "code",
   "execution_count": 77,
   "id": "9dd00959",
   "metadata": {},
   "outputs": [
    {
     "name": "stderr",
     "output_type": "stream",
     "text": [
      "/opt/anaconda3/lib/python3.8/site-packages/ipykernel/ipkernel.py:287: DeprecationWarning: `should_run_async` will not call `transform_cell` automatically in the future. Please pass the result to `transformed_cell` argument and any exception that happen during thetransform in `preprocessing_exc_tuple` in IPython 7.17 and above.\n",
      "  and should_run_async(code)\n"
     ]
    },
    {
     "data": {
      "text/plain": [
       "dmt            35\n",
       "mdma           34\n",
       "dopamine       18\n",
       "ketamine       18\n",
       "benzo          14\n",
       "etizolam       13\n",
       "tryptamine     12\n",
       "dck            12\n",
       "amphetamine    12\n",
       "adderall        9\n",
       "dtype: int64"
      ]
     },
     "execution_count": 77,
     "metadata": {},
     "output_type": "execute_result"
    }
   ],
   "source": [
    "euphoric_df.value_counts().head(10)"
   ]
  },
  {
   "cell_type": "code",
   "execution_count": 79,
   "id": "3f695fe3",
   "metadata": {},
   "outputs": [
    {
     "name": "stderr",
     "output_type": "stream",
     "text": [
      "/opt/anaconda3/lib/python3.8/site-packages/ipykernel/ipkernel.py:287: DeprecationWarning: `should_run_async` will not call `transform_cell` automatically in the future. Please pass the result to `transformed_cell` argument and any exception that happen during thetransform in `preprocessing_exc_tuple` in IPython 7.17 and above.\n",
      "  and should_run_async(code)\n"
     ]
    },
    {
     "data": {
      "text/plain": [
       "<AxesSubplot:xlabel='0'>"
      ]
     },
     "execution_count": 79,
     "metadata": {},
     "output_type": "execute_result"
    },
    {
     "data": {
      "image/png": "[encoded data removed]",
      "text/plain": [
       "<Figure size 432x288 with 1 Axes>"
      ]
     },
     "metadata": {
      "needs_background": "light"
     },
     "output_type": "display_data"
    }
   ],
   "source": [
    "dangerous_df.value_counts().head(5).plot.bar()\n"
   ]
  },
  {
   "cell_type": "code",
   "execution_count": 51,
   "id": "6b1011f8",
   "metadata": {},
   "outputs": [
    {
     "name": "stderr",
     "output_type": "stream",
     "text": [
      "/opt/anaconda3/lib/python3.8/site-packages/ipykernel/ipkernel.py:287: DeprecationWarning: `should_run_async` will not call `transform_cell` automatically in the future. Please pass the result to `transformed_cell` argument and any exception that happen during thetransform in `preprocessing_exc_tuple` in IPython 7.17 and above.\n",
      "  and should_run_async(code)\n"
     ]
    },
    {
     "data": {
      "image/png": "[encoded data removed]",
      "text/plain": [
       "<Figure size 432x288 with 1 Axes>"
      ]
     },
     "metadata": {
      "needs_background": "light"
     },
     "output_type": "display_data"
    }
   ],
   "source": [
    "import matplotlib.pyplot as plt\n",
    "from collections import Counter\n",
    "# Use a Counter to count the number of instances in x\n",
    "c = Counter(dangerous_drugs)\n",
    "\n",
    "plt.bar(c.keys(), c.values())\n",
    "plt.show()"
   ]
  },
  {
   "cell_type": "code",
   "execution_count": 42,
   "id": "50ebef9e",
   "metadata": {},
   "outputs": [
    {
     "name": "stderr",
     "output_type": "stream",
     "text": [
      "/opt/anaconda3/lib/python3.8/site-packages/ipykernel/ipkernel.py:287: DeprecationWarning: `should_run_async` will not call `transform_cell` automatically in the future. Please pass the result to `transformed_cell` argument and any exception that happen during thetransform in `preprocessing_exc_tuple` in IPython 7.17 and above.\n",
      "  and should_run_async(code)\n"
     ]
    }
   ],
   "source": [
    "df = data"
   ]
  },
  {
   "cell_type": "code",
   "execution_count": 43,
   "id": "217dee4e",
   "metadata": {},
   "outputs": [
    {
     "name": "stderr",
     "output_type": "stream",
     "text": [
      "/opt/anaconda3/lib/python3.8/site-packages/ipykernel/ipkernel.py:287: DeprecationWarning: `should_run_async` will not call `transform_cell` automatically in the future. Please pass the result to `transformed_cell` argument and any exception that happen during thetransform in `preprocessing_exc_tuple` in IPython 7.17 and above.\n",
      "  and should_run_async(code)\n"
     ]
    }
   ],
   "source": [
    "tweet_word_matrix = tf_vectorizer.fit_transform(data.drugsremoved)\n",
    "vocab = tf_vectorizer.get_feature_names()\n"
   ]
  },
  {
   "cell_type": "code",
   "execution_count": 44,
   "id": "1feeb445",
   "metadata": {},
   "outputs": [
    {
     "name": "stderr",
     "output_type": "stream",
     "text": [
      "/opt/anaconda3/lib/python3.8/site-packages/ipykernel/ipkernel.py:287: DeprecationWarning: `should_run_async` will not call `transform_cell` automatically in the future. Please pass the result to `transformed_cell` argument and any exception that happen during thetransform in `preprocessing_exc_tuple` in IPython 7.17 and above.\n",
      "  and should_run_async(code)\n"
     ]
    },
    {
     "data": {
      "text/plain": [
       "LatentDirichletAllocation(n_components=4, random_state=0)"
      ]
     },
     "execution_count": 44,
     "metadata": {},
     "output_type": "execute_result"
    }
   ],
   "source": [
    "#nmf = NMF(n_components=5)\n",
    "\n",
    "lda_tf.fit(tweet_word_matrix)"
   ]
  },
  {
   "cell_type": "code",
   "execution_count": 45,
   "id": "1588b472",
   "metadata": {},
   "outputs": [
    {
     "name": "stderr",
     "output_type": "stream",
     "text": [
      "/opt/anaconda3/lib/python3.8/site-packages/ipykernel/ipkernel.py:287: DeprecationWarning: `should_run_async` will not call `transform_cell` automatically in the future. Please pass the result to `transformed_cell` argument and any exception that happen during thetransform in `preprocessing_exc_tuple` in IPython 7.17 and above.\n",
      "  and should_run_async(code)\n"
     ]
    },
    {
     "data": {
      "text/html": [
       "<div>\n",
       "<style scoped>\n",
       "    .dataframe tbody tr th:only-of-type {\n",
       "        vertical-align: middle;\n",
       "    }\n",
       "\n",
       "    .dataframe tbody tr th {\n",
       "        vertical-align: top;\n",
       "    }\n",
       "\n",
       "    .dataframe thead th {\n",
       "        text-align: right;\n",
       "    }\n",
       "</style>\n",
       "<table border=\"1\" class=\"dataframe\">\n",
       "  <thead>\n",
       "    <tr style=\"text-align: right;\">\n",
       "      <th></th>\n",
       "      <th>topic_0</th>\n",
       "      <th>topic_1</th>\n",
       "      <th>topic_2</th>\n",
       "      <th>topic_3</th>\n",
       "      <th>text</th>\n",
       "    </tr>\n",
       "  </thead>\n",
       "  <tbody>\n",
       "    <tr>\n",
       "      <th>0</th>\n",
       "      <td>0.006414</td>\n",
       "      <td>0.980555</td>\n",
       "      <td>0.006506</td>\n",
       "      <td>0.006524</td>\n",
       "      <td>took one tab   of it   at am and felt the firs...</td>\n",
       "    </tr>\n",
       "    <tr>\n",
       "      <th>1</th>\n",
       "      <td>0.006414</td>\n",
       "      <td>0.980555</td>\n",
       "      <td>0.006506</td>\n",
       "      <td>0.006524</td>\n",
       "      <td>took one tab   at   am and felt the first effe...</td>\n",
       "    </tr>\n",
       "    <tr>\n",
       "      <th>2</th>\n",
       "      <td>0.173452</td>\n",
       "      <td>0.301150</td>\n",
       "      <td>0.519896</td>\n",
       "      <td>0.005502</td>\n",
       "      <td>so my brain was virgin and i used both   and  ...</td>\n",
       "    </tr>\n",
       "    <tr>\n",
       "      <th>3</th>\n",
       "      <td>0.026557</td>\n",
       "      <td>0.376049</td>\n",
       "      <td>0.026407</td>\n",
       "      <td>0.570987</td>\n",
       "      <td>amp    \\n\\noptical brightening agents  obas  ...</td>\n",
       "    </tr>\n",
       "    <tr>\n",
       "      <th>4</th>\n",
       "      <td>0.018923</td>\n",
       "      <td>0.018109</td>\n",
       "      <td>0.021275</td>\n",
       "      <td>0.941693</td>\n",
       "      <td>i’ve fucked around with pressed bars for quite...</td>\n",
       "    </tr>\n",
       "  </tbody>\n",
       "</table>\n",
       "</div>"
      ],
      "text/plain": [
       "    topic_0   topic_1   topic_2   topic_3  \\\n",
       "0  0.006414  0.980555  0.006506  0.006524   \n",
       "1  0.006414  0.980555  0.006506  0.006524   \n",
       "2  0.173452  0.301150  0.519896  0.005502   \n",
       "3  0.026557  0.376049  0.026407  0.570987   \n",
       "4  0.018923  0.018109  0.021275  0.941693   \n",
       "\n",
       "                                                text  \n",
       "0  took one tab   of it   at am and felt the firs...  \n",
       "1  took one tab   at   am and felt the first effe...  \n",
       "2  so my brain was virgin and i used both   and  ...  \n",
       "3   amp    \\n\\noptical brightening agents  obas  ...  \n",
       "4  i’ve fucked around with pressed bars for quite...  "
      ]
     },
     "execution_count": 45,
     "metadata": {},
     "output_type": "execute_result"
    }
   ],
   "source": [
    "tweet_topic_matrix = lda_tf.transform(tweet_word_matrix)\n",
    "\n",
    "tweet_topic_matrix_df = pd.DataFrame(tweet_topic_matrix).add_prefix('topic_')\n",
    "\n",
    "tweet_topic_matrix_df['text'] = data['text']\n",
    "tweet_topic_matrix_df.head()"
   ]
  },
  {
   "cell_type": "code",
   "execution_count": 46,
   "id": "9a7eaa13",
   "metadata": {},
   "outputs": [
    {
     "name": "stderr",
     "output_type": "stream",
     "text": [
      "/opt/anaconda3/lib/python3.8/site-packages/ipykernel/ipkernel.py:287: DeprecationWarning: `should_run_async` will not call `transform_cell` automatically in the future. Please pass the result to `transformed_cell` argument and any exception that happen during thetransform in `preprocessing_exc_tuple` in IPython 7.17 and above.\n",
      "  and should_run_async(code)\n"
     ]
    },
    {
     "data": {
      "text/html": [
       "<div>\n",
       "<style scoped>\n",
       "    .dataframe tbody tr th:only-of-type {\n",
       "        vertical-align: middle;\n",
       "    }\n",
       "\n",
       "    .dataframe tbody tr th {\n",
       "        vertical-align: top;\n",
       "    }\n",
       "\n",
       "    .dataframe thead th {\n",
       "        text-align: right;\n",
       "    }\n",
       "</style>\n",
       "<table border=\"1\" class=\"dataframe\">\n",
       "  <thead>\n",
       "    <tr style=\"text-align: right;\">\n",
       "      <th></th>\n",
       "      <th>topic_0</th>\n",
       "      <th>topic_1</th>\n",
       "      <th>topic_2</th>\n",
       "      <th>topic_3</th>\n",
       "    </tr>\n",
       "  </thead>\n",
       "  <tbody>\n",
       "    <tr>\n",
       "      <th>abnorm</th>\n",
       "      <td>4.511528</td>\n",
       "      <td>0.440464</td>\n",
       "      <td>0.323990</td>\n",
       "      <td>3.724018</td>\n",
       "    </tr>\n",
       "    <tr>\n",
       "      <th>abort</th>\n",
       "      <td>0.982229</td>\n",
       "      <td>1.776828</td>\n",
       "      <td>0.257854</td>\n",
       "      <td>3.983089</td>\n",
       "    </tr>\n",
       "    <tr>\n",
       "      <th>absolut</th>\n",
       "      <td>28.882945</td>\n",
       "      <td>12.687082</td>\n",
       "      <td>4.949794</td>\n",
       "      <td>37.480179</td>\n",
       "    </tr>\n",
       "    <tr>\n",
       "      <th>absorb</th>\n",
       "      <td>0.286950</td>\n",
       "      <td>2.788653</td>\n",
       "      <td>3.977315</td>\n",
       "      <td>3.947083</td>\n",
       "    </tr>\n",
       "    <tr>\n",
       "      <th>abyss</th>\n",
       "      <td>0.250012</td>\n",
       "      <td>0.266783</td>\n",
       "      <td>9.233196</td>\n",
       "      <td>0.250010</td>\n",
       "    </tr>\n",
       "  </tbody>\n",
       "</table>\n",
       "</div>"
      ],
      "text/plain": [
       "           topic_0    topic_1   topic_2    topic_3\n",
       "abnorm    4.511528   0.440464  0.323990   3.724018\n",
       "abort     0.982229   1.776828  0.257854   3.983089\n",
       "absolut  28.882945  12.687082  4.949794  37.480179\n",
       "absorb    0.286950   2.788653  3.977315   3.947083\n",
       "abyss     0.250012   0.266783  9.233196   0.250010"
      ]
     },
     "execution_count": 46,
     "metadata": {},
     "output_type": "execute_result"
    }
   ],
   "source": [
    "word_topic_matrix_df = pd.DataFrame(lda_tf.components_, columns=vocab).T.add_prefix('topic_')\n",
    "word_topic_matrix_df.head()"
   ]
  },
  {
   "cell_type": "code",
   "execution_count": 47,
   "id": "a787b48d",
   "metadata": {},
   "outputs": [
    {
     "name": "stderr",
     "output_type": "stream",
     "text": [
      "/opt/anaconda3/lib/python3.8/site-packages/ipykernel/ipkernel.py:287: DeprecationWarning: `should_run_async` will not call `transform_cell` automatically in the future. Please pass the result to `transformed_cell` argument and any exception that happen during thetransform in `preprocessing_exc_tuple` in IPython 7.17 and above.\n",
      "  and should_run_async(code)\n"
     ]
    }
   ],
   "source": [
    "def top_tweets(tweet_topic_matrix_df, topic, n_tweets):\n",
    "    return (tweet_topic_matrix_df\n",
    "            .sort_values(by=topic, ascending=False)\n",
    "            .head(n_tweets)['text']\n",
    "            .values)\n",
    "\n",
    "def top_words(word_topic_matrix_df, topic, n_words):\n",
    "    return (word_topic_matrix_df\n",
    "            .sort_values(by=topic, ascending=False)\n",
    "            .head(n_words))[topic]"
   ]
  },
  {
   "cell_type": "code",
   "execution_count": 48,
   "id": "34e6a422",
   "metadata": {},
   "outputs": [
    {
     "name": "stdout",
     "output_type": "stream",
     "text": [
      "warning  long thematic intro ahead  skip to trip report to get to nitty gritty  otherwise  enjoy  learn  and do not replicate  there were both good and bad lessons  \n",
      "\n",
      "this is entirely true  not fabricated or embellished in any way  \n",
      "\n",
      "intro \n",
      "\n",
      "friends  enemies  psychonauts  laymen  poor souls lost in r rc  and everything in between  i have seen what lies beyond and it is terrifyingly beautiful  haunting  and the sum of our fears  i say with    certainty that no scholar  messiah  street preacher  actor playing jesus being whipped  or raving lunatic has gotten it right  \n",
      "\n",
      "until now \n",
      "\n",
      "forget your crusty books  your golden bibles  your totally not allowed secret nude statues of the well endowed muslim holy men of mecca  and hundreds of roman god s with chistled small penis having bodies  and the voluptuous cave statues of bbw women cavemen carried out  we are our own god  \n",
      "\n",
      "the god of life  death  happiness  despair  joy  and the eternal pumping lurching lumbering heaving till your completely empty but still need to vomit  so bile oozes forth in a yellow ugly burnjng truth  a truth that is life as we know it but can t see it through our double vision and endless swirling vortex that was your parents house  \n",
      "\n",
      "we are truly fortunate to experience it and yet too afraid to truly appreciate it  until you stand at the brink and say  nah   this  my friends  is your new national anthem and it is called life  go play as hard and loud as you can because there s no retirement in this band  only vegas every night of the week  playing the songs you wrote   years ago  but my god  what songs those were  \n",
      "\n",
      "i am not your god  but i am a god  \n",
      "\n",
      "okay i m not actually that burned out but it took me   days to come out of this well enough to write this  i am pleased to announce the grand and chaotic tragedy that was  i wonder if   d is just better when combined hmmm   \n",
      "\n",
      "do not do this   i repeat  incredible level of stupidity ahead turn back ye who dare \n",
      "\n",
      "i never intended it this way  but this is how it happened  i m ready to share this  to heal and incorporate  and honestly this is an example of what harm reduction isn t  i m fine  i don t feel like shit  vitals are back to normal and i m finally rehydrated and rested  i hope this tale of caution and hopefully somewhat humorous intro really drives home a couple of points  \n",
      "\n",
      "i learned many things  here s the low down  \n",
      "\n",
      "  d and o pce is a winning combination for me  i had tested it responsibly a couple of times in the weeks since my initial post and thoughts on the matter  started with small doses and until i believe it was saturday night  the big night  i intended to boof a combo of   of o pce and     d for what i thought would be the sweet spot  as it turns out  the fruit bared by that idea was too sweet to stop  i lost all self control in a hedonistic fury of abrahamic  proportions  \n",
      "\n",
      "trip report \n",
      "\n",
      "i had been having a very responsible saturday vaping n ethyl hexedrone  which no matter what way you spin it  is not responsible  \n",
      "i had been very productive  doing chores  being upbeat  yoga  being a cathinone perv  and otherwise whiling away my time on quarantine \n",
      "\n",
      "this was on and off for about     with breaks for two solid meals and rest stops  not too bad by a lot of standards  i ve had been trialling a combination of o pce and   d in low doses titrating up on once every few weeks gauging where the effects best compliment  i had settled on   of o pce and   of   d  boofed  in the same   syringe  i hadn t planned it to be that night  but i was on the way down from the hex and figured the time could be now  \n",
      "\n",
      "under normal circumstances i would never go for it but i had been supplimenting the hex with benzos to keep off the edge and i was more daring than normal  \n",
      "\n",
      "dose was prepped  administered  and felt within   minutes  \n",
      "\n",
      "     preparing dose and getting trip areas set up  headphones  comfortable environment  cozy bed  and fluids with abort mission bottles of flualpraz and etizolam in case things go sideways  confident and in good mood though a little weary from the come down of hex  \n",
      "  opce and     d administered\n",
      "\n",
      "    effects already  definitely dissociation occurring with certain magic and shimmer to it that was very very nice  spirits are high and i have on bonobos album migration prepping for a nice smooth night \n",
      "\n",
      "     effects increasing  more dissociated with dare i say a warmth and taste of psychedelia that was wonderful  eyes closed introspection period  if this was where it stayed i m confident it would have been a     night  but the thought comes in    ho mipt  miprocin  i m a genius  that would pair for a trifecta of wonder  i unceremoniously stumble and with one eye closed  weigh   mg  checking precariously  or was it checking me  just eat the straight powder like a raccoon with sugar puffs  catch sight of my massive pupils and grin with anticipation  \n",
      "\n",
      "    miprocin comes in hard  exactly what i had hoped  the three of them were like the three musketeers  the dosage just right  not too strong but not leaving you wanting more  or did it  visuals were very strong  closed and open eye present  physical euphoria was a constant buzzing like the blowjob from million bees  i truely felt i could conquer the world \n",
      "\n",
      "naturally it was time to up the pleasure  \n",
      "\n",
      "    insufflated   of o pce along with a mound of   mmc for sheer badness  the paradox of having too much of a good thing begins  \n",
      "\n",
      "things become very hazy but the opce became confusing  not manic or hyperactive but a sense of things being off course  combined with euphoria and nostalgic open and closed eye visuals of childhood events through the eyes of other people  okay maybe things were off course  \n",
      "\n",
      "took a dropper of flualprazolalm  easily    to dull this suddenly detailed night  bad move  seems i was more stimulated then thought  the trip started becoming more disinhibited then actually over  lost all sense of fear and no longer desired things to stop \n",
      "\n",
      "i sniff   more mg of o pce as if i was born in the darkness  recall a hit or two of hex as well  finishing what was left     of poorish quality   at this point my state of consciousness was alternating between being condemned to hell  sending myself there in punishment  enjoying the punishment  and then graciously saving myself because of past good deeds \n",
      "\n",
      "unsure if i was standing or lying down but my next memory is the jarring sound of very loud drum and bass coming from a pair of headphones on the floor  were those mine  where am i  who am i  the confusion was confounding  i had no fear  it was like i had been born as an adult  covered in sweat  there were no color to my eyes and i didn t recognize this alien figure in the mirror  \n",
      "\n",
      "i knew i wasnt human  then what was i  if you answered  god  you are correct  it s what all tripped out confused people assume  normally that s enough to bring me down  this only affirms to me that i am god because i was tripping just as hard as before the thought  \n",
      "\n",
      "i spent hours constructing and destroying civilizations and universes without ever leaving the spare room in my parents house which i had been house sitting  i felt the life and death  happiness  joy  love and despair of my imagined people s  it was how it had to be  i didn t choose to be god \n",
      "\n",
      "around   the next day my sense of self asserted itself very suddenly and violently in the form of a power puke into the toilet  my civilizations flushed down that toilet  swirling down the drain into what was already priming to be the most hellish suffering shivering sobering hangover of my life  \n",
      "\n",
      "sleep came at some point  \n",
      "\n",
      "all was quiet  i was dreaming intensely  vivid  beautiful  and positive  lifelike dreams of being anywhere else  and anyone else  anyone other than the person about to violently wake to the overly loud ring tone of a ringing cell phone lost in the tangled swamp of dagobah bed you were trapped in  like a great uncoordinated  slurring beast   the phone is answered not with your own voice  but with a desert dry voice of a ressurected pharaoh  head spinning l like the kid who stayed on the park spinning ride way longer than he should have because the big kids thought it was funny  \n",
      "\n",
      "it was not funny  you conclude the call  with the comment levelled  are you drunk  you sound weird   o pce lasts a long long time you recall  you were you again  and you were in pain  and missing memories  but also missing the power and glory of deism   you are human  sounded dead pan  almost as if it was a compromise with yourself that you could have done worse with but not entirely got what you wanted either  \n",
      "\n",
      "in the time since then i ve been incorporating myself slowly to what normal is  could have been bad  definitely still not back to normal  but grateful and alive and really that s no compromise  \n",
      "\n",
      "a taste of power will have to be enough  it was not to be the third reich and you did not go down with the people you threw up \n",
      "\n",
      "relish life my friends  drink it like a fountain  cause next thing you know it s coming like an avalanche  coming down the mountain \n",
      "\n",
      "what a nice combo \n",
      "to start  i dont recommended this combo for begginners \n",
      "i have more lsd trips under my belt than i can keep track of  i have great control under the influence of psychedelics  and am plenty experienced in hippy candy flips \n",
      "this can be an extremely deep combo if youre unprepared  or can be extremely deep if thats what youre aiming for \n",
      "\n",
      "\n",
      "for my first time trying this combo i kept it fairly light \n",
      "  gg tabs    is my regular well handled dose \n",
      "   moxy    meo mipt    boofed\n",
      "  doses of   mxipr   sniffed \n",
      " the reason i kept the mx so low was because its what i m least experienced with  and wanted to ease in very gently to it \n",
      "\n",
      "my previous similar adventure consisted of   tab    adderall xr  and weed \n",
      "this combo was great also  the weed heavily deepens the immersion but the amount needed to do so really reduces the enjoyment outside of the vr and adds a lot of confusion and disorganization to the trip  imo weed just adds negative vibes to the trip  increased stress and anxiety \n",
      "\n",
      "my idea with this new combo was exploring to find that extra depth of immersion without the negatives from the weed  lsd is the key to the adventure  moxy to add stimulation and tactile enhancement  and a small amount of mxipr to replace weed to add depth  i kept th mx dose very low since i didnt want to get too wonky  and numbed out  just a touch of dissociation \n",
      "\n",
      "\n",
      "started by taking the   tab  followed by the moxy   later  about an hour after that i got setup comfy with my vr set  toys all ready to go \n",
      "i didnt have any negative come up effects  very smooth rise  lsd and moxy vibe well together  i find it to be very clear headed and stimulating   \n",
      "\n",
      "once ready  i took the first sniff of the mx  this added a small bit of depth but didnt blast me into any confusion \n",
      "then i got to playing  the moxy tactile enhancement made me nut fast as i was lost in the enjoyment of the video  i had my viewing angle perfect  and my fleshlight strokes lined up to match the girls oral actions  the immersion was great and it felt very realistic \n",
      " the key is to use premium vr videos    quality \n",
      "\n",
      "after that  i got up and got a drink  went to the washroom  hungout for a few minutes and then went in for round    i took the second toot of the mx and went back into the vr  played a bit then got up for the   sniff to go a bit deeper  although these dosages didnt make a huge increase in depth \n",
      "\n",
      "this time i took my time  having fun with the girl in the video again matching up the angle and strokes  \n",
      "the depth and immersion was wonderful  feeling amazing and pretty realistic \n",
      "second round finished after about   mins of fun \n",
      "\n",
      "\n",
      "after this  i tidied up a bit and hungout watching some tv  the feeling of this combo outside of vr is very pleasant   its a very mellow vibed headspace  but heavily visual  i enjoyed watching the patterns on my carpet twist and wave around  i would compare this to a candy flip kind of vibe  just with a lot less of the empathy and love that mdma gives \n",
      "i love candy flipping at festivals  so i could see this being used as a replacement if i m unable to do m or just dont want the after effects from m \n",
      "this combo would be very nice for a nature hike  since its a happy  mellow  but energetic combo \n",
      "\n",
      "after the fappin sesh  i spent a lot of time reflecting on life  this combo can also be very deep within yourself  it allowed me to have some deep thoughts with some events of my past  and allowed me to think of some things i need to work on in the future  \n",
      "i think for heavy reflection  a heavier dose of mxipr would send you into an introspective adventure \n",
      "but be careful with this  this can become confusing and lose control quickly if youre not ready \n",
      "\n",
      "i ll be trying this combo again  except with adjusted dosages  \n",
      "my next experiment will probably increase the moxy by      up it to    from    and probably up the mxipr dosages as well  maybe   toots instead of   \n",
      "my reason for this is that although the depth and immersion was great  i feel it could be a little deeper now that i know how this mixes \n",
      "\n",
      "overall  its a very smooth  well vibed combo  \n",
      "i ll probably try it again as mentioned in a couple months with adjusted dosages \n",
      "\n",
      "i suck at writing trip reports  so feel free to ask any questions \n",
      "\n",
      "for anyone trying this  vr drug fap sessions are wonderful  for deep immersion  use a good quality headset with a premium video  it is absolutely worth it to pay for a   month premium site membership to download   quality videos  this is what makes the immersion  i had some   vr videos downloaded and they just didnt cut it compared to tge     \n",
      "a good toy is required too  fleshlights are good quality  easy to control and feel great  but lack the weight and feel of realism  a lifesize hip torso toy is perfect for riding doggy missionary  and is as realistic as you can get unless you go for a full sex doll  but is more work and effort to use and sometimes this extra effort can reduce the immersion \n",
      "\n",
      "\n",
      "stay safe  have fun \n",
      "\n",
      "last tuesday  i decided to try   lsd  a little background on me  i absolutely love psychedelics  a love that was started by lsd when i was    this turned out to be an extremely rare occurrence as lsd is extremely rare where i live  i ve only had it   times in myife and had not had it at all since    since then all my experiences were with dmt smoked and as ayahuasca   dpt  and   aco dmt  so i was extremely excited when i acquired   lsd  so my mindset was very positive and eager  my intent was to work through some emotional issues i ve been having since a very nasty breakup i experienced in march  i was at my parents house  they are chill people and i have a great relationship with them so they weren t an issue  being in my old room just added to the nostalgia of finally getting to trip with a lysergamide after so long \n",
      "\n",
      "i got home from work at    relaxed a bit  smoked a bowl and put     blotter under my tongue at around      i played some classic snes games on switch as i waited  by     i felt a bit lightheaded and things were brighter but it seemed very mild for that point so i took another half of a blotter bringing my total dose to   give or take  not long after i put that blotter in my mouth i began to truly trip  everything was shimmering  rippling  twisting  and morphing around me  it felt genuinely impossible to stop smiling  the euphoria was incredible and my mood was through the roof  i had no nausea or anxiety whatsoever on the comeup which really surprised me  i did have mild cramps in my legs and arms throughput but they were barely even an annoyance and stretching felt orgasmic  right as the trip was really kicking in i started sweating profusely and was extremely hot to the touch  thus worried me a bit but subsided after   andi i  had no more issues like that during the experience i watched it s always sunny in philadelphia for about   and laughed until i literally couldn t breathe \n",
      "\n",
      "then i wanted to get serious so i cut out all the lights and tv and put on music  it sounded amazing of course  every song stirred massive emotions within me  as i listened to music i began my introspection which came effortlessly  i was able to see my lroblems from a totally objective point of view  i saw the mistakes i had made and i didn t beat myself up for them  i just clearly saw what i needed to do different next time and resolved myself to do it  i also saw everything that i did right  i was able to see myself in a very positive light  see what others like about me  saw that i  genuinely try my hardest to be a good person  i could take an unbiased look at myself  i saw the good and the bad in me  the drug had no agenda to push me one way or the other it seemed  i also thought about   and   of other things from the origin of humanity to the end time  i felt as though i live a thousand lifetimes  i saw how incredibly small we are as a little speck on this giant ball floating in an infinitely larger universe  but i also saw how large and important i am just to be connected to it all and to be alive  this went on for several hours  it was around   when i had my first conception of what sobriety was  but it was just a brief wave and i was still slipping in and out of tripping balls  at   i went outside to smoke a bowl as the sun came up  the weed brought the trip back hardcover  especially the visuals  the sunrise was utterly gorgeous to tje point of tears  i continued to have alternating waves of tripping and sobriety until around    visuals were mostly gone then but i had a feeling of general intoxication until i finally went to sleep around   wednesday \n",
      "\n",
      "overall thus was quite possibly the best trip of my life  i was floored by how wonderful it was  it was aggressively positive from start to finish  i struggle wth anxiety disorders  depression  self esteem issues  etc  i ve never had a psychedelic experience where i didn  t have some rough points during it  until now  even as i confronted my current problems in life i felt nothing but clarity and positivity  i was able to let go of all the anger  doubt  and fear that s been plaguing me  i was able to understand why i have the negative behaviors i do and forgive myself for them   i was able to finally understand the importance of the fact hat i have wonderful people in my life that absolutely love me and will always be there for me  nothing is more important than that  i reached out to those people and let qthem know how much they mean to me the day after  i feel like a person reborn  \n",
      "\n",
      "i would say the trip lasted from   to   with an afterglow the whole next day  it was incredibly smooth aside from a   episode where my body temperature felt extremely high  it was the most positive feeling psychedelic i ve experienced allowing me work through virtually all my hangups without fear  the visuals are awesome  very colorful with a lot of movement   all in all it was tje best trip i ve ever had  it was extremely fun and recreational while also being very introspective and inspiring me to positive change in a way i haven t been in along time  absolute     for me  dose was pretty much perfect  next time i will take the   all at once \n",
      "\n",
      "this story is from a few years ago  before i discovered rc benzos in    i had hardly any experience with benzos at all  i had a daily phenibut habit     day  and pretty nasty polysubstance use  phen  kratom  alcohol  benzedrex  dph and dxm  for a few years at that point  after getting expelled from high school and dropping out of state university i was living with my parents  going to community college and waiting tables  \n",
      "\n",
      "the day my first package of metizolam was delivered  i was hooked  i dropped the whole bottle onto altoid mints and popped those bitches all fucking day everyday  of course at that point i learned about the stronger benzos i could order  and started making everclear tinctures with diclazepam  flualprazolam and clonazolam powders \n",
      "\n",
      "soon i was starting my days with huge quantities of diclazepam flualp and clam  smoking benzo soaked cigs on lunch break at work  before school  during school  after school  boofing full droppers of everclear solution  drinking shots of everclear every night  making huge mixed drinks of flualprazolam and everclear to drink on the   hour drive i made to and from fucking this girl i barely knew  no condom  no birth control  dry as fuck she didn t have lube so she grabbed a bottle of hand lotion to use lmfao  basically my life was completely falling apart around me \n",
      "\n",
      "i failed most of my classes  kept getting in trouble at work  and i was making potentially deadly decisions for myself and others on a daily basis  i lived in a perpetual blackout for   months until i quit cold turkey \n",
      "\n",
      "i wish that was where the story ended  but a few months later at my school library i got the urge to get barred out again  i hopped on my phone and overnighted a   bottle of clonazolam to my parents  house  i could handle it this time  i was sure  when it arrived  i immediately cracked the bottle open and dropped    big deal  i thought  i used to pop   presses all day long no problem \n",
      "\n",
      "well  i blacked out  at some point i decided i would go to walmart  buy a ton of benzedrex and jerk off for   hours  once i consumed three inhalers    propylhexedrine   i guess the stimulation overpowered the blackout and i was lucid again  i was folding clothes at lightning speed and talking to my gf on facetime  i decided to re dose   intending to take another mg or two  but due to my lack of coordination i spilled the entire bottle onto my desk  and due to my lack of critical thinking skills  i slurped up the remaining   of clonazolam into my mouth like some degenerate  drug addicted  limp dicked vacuum cleaner  what happened after is a mix of fragmented memory and accounts from my parents \n",
      "\n",
      "they said i was acting incredibly fucked up and they were scared to death  i was chugging alcohol so my parents took it away  then they had to take away my mouthwash because i started chugging it too  i called my therapist so he could explain to them why rc benzos were actually therapeutic for me and why i needed them  i kept lying to them about how i needed their keys to go to the gym and they somehow ended up letting me go  or i snuck out  who knows   instead of going to the gym  i facetimed my gf and was staring directly into the camera instead of looking at the road on my way to walmart to buy more benzedrex  my parents drove to the gym to check on me and obviously i wasn t there \n",
      "\n",
      "yes  i jerked off for at least   hours  i m sure my parents knew what was going on  my dad said i shat myself in my boxers on his tile floor  at some point that night i passed out \n",
      "\n",
      "when i woke up the next day  i was mortified by what i had done  and my body was on the brink of collapse from the benzedrex comedown  it took a while for things to go back to normal in my family \n",
      "\n",
      "today  i ve cleaned myself up  i ve been clean from benzos since july    and quit all the other shitty drugs i was doing  i moved across the country to a beautiful town  attend aa meetings regularly  have held the same well paying job for over two years  plan on going back to school for a degree in psychology and have found a love for life again  i ve beaten the odds in the sense that i made it out with my life and didn t kill anyone with my idiotic decisions  substance abuse will always be a struggle for me  but i could never express how grateful i am to be where i am today \n",
      "\n",
      "if you haven t used benzos  either don t or make sure you are someone with a high level of responsibility and self control  i am not that person  if you re currently hooked or just in a bad place mentally  just know that things really do get better if you work for it  \n",
      "\n",
      "i ve got lots of stories from this era in my life  i m still haunted by a lot of them  hopefully getting them out and having a laugh can be a step towards self forgiveness  thanks for reading \n",
      "\n",
      "okay  short backstory so you can understand where i m coming from and  hopefully  don t immediately comment  muh volumetric dosing     real post starts at the fourth paragraph   \n",
      "\n",
      "i used to have some nice professionally made benzo mannitol mixes you could easily dose accurately using a cheap scale and it was all good and well but now i m only able to buy pure powders which begs the question of how to dose it properly \n",
      "\n",
      "i would like to use powders because compared with volumetric dosing i find powders to be much more practical for a number of reasons  first and foremost the abilty to easily fill them in capsules or even press pills with them whcih i need to do to be able to use them discretely on the go against panic attacks  you could make something to fill capsules with using volumetric dosing by putting your liquid on powder  but the only good nontoxic solvents for many benzos such as pg won t just easily evaporate like poor solvents such as isopropanol would and i can t put wet pg in capsules because in my tests the capsules melted in less than a day and i might not be able to get enough of the soluton into small capsules like the tiny size   ones i like to use when i m out \n",
      "\n",
      "  alright now to my main point    getting a proper powder mixture  studies have shown that you can easily get very safe  stable  homogenous mixtures of mannitol and active pharmaceutical ingredients by using laboratory powder mixers and powders with certain particle sizes  i ve looked at these mixers and their blueprints and most of them are honestly not at all complex or hard to build yet for some reason expensive as hell    powder mixers  which were used in the study  or these v shaped things are literally just one or two little motors connected to rods  and for the   type some rods  ball bearings and hinges  that spin a container around  why the hell does that cost thousands of dollars \n",
      "\n",
      "so i m currently thinking about building one myself  perhaps using a   printer  as i said even looking at the blueprints for these mixers they are obviously not very complex  my plan would be to build a   mixer  buy pharmaceutical mannitol  which is made for this exact pupose by having very consistent particle sizes   get some filters for the needed particle size of the benzos  filter the benzos and perhaps if needed reduce particle size and  well  mix them  maybe in small batches at first to reduce the impact of hotspots should they appear  although that would also make the powder ratio less accurate \n",
      "\n",
      "now to my questions \n",
      "\n",
      "  am i stupid for trying this    please explain my foolishness in detail before i accidentally kill myself \n",
      "\n",
      "  is there a better way get such a powder with reduced potency    maybe there s some great technique or a solvent i don t know about that s effective and easily evaporates \n",
      "\n",
      "  any advice or insight regarding the building process    if you have more knowledge on such equipment and can either tell me i m stupid af and i shouldn t even attempt it or give some tips an tricks \n",
      "\n",
      "  any advice regarding   priting    is this even a smart option here  which filaments would be best for this application  those machines don t spin very fast and it won t move much weight so the forces involved probably won t be too strong  but given how weak   printed parts can be the filament should be pretty strong just to be sure  any recommendations for decent cheap beginner printers would be great too  \n",
      "\n",
      "tl dr  i don t like volumetric dosing so i m probably going to make a diy pharmaceutical laboratory machine that normally costs thousands if not tens of thousands of dollars and now i need to know if i m out of my mind or not\n",
      "\n",
      "this is going to be ranty and i apologize for that  i m sober right now though  just a bit sleep deprived  i usually write out a rough draft before posting or at least write with a single idea in mind but here i m just going to spill my thoughts so expect disorganization  grammar errors  and just a low quality post in general \n",
      "\n",
      "i ve been around here since i was a youngish teenager and this place along with a few other subreddits kept me safe and over time made my usage a lot more responsible than it would ve been had i not found this place  i credit this subreddit with saving many of my friends lives or at least extending them  this subreddit helped me figure out my ambitions in life and through times of suicidal thoughts and reckless thinking gave me something i was interested in learning about and experiencing and gave me the education and encouragement to remain safe even if there were slip ups along the way  especially when i was     \n",
      "\n",
      "i see a lot of posts of people doing reckless things and dealing with psychiatric problems and all of them remind me of the things i went through  i was very lucky to have only brief run ins with dependency and impulsive behavior  i try my best to reach out to people when i see them struggling but it s impossible to reach out to everyone  i know questions and posts from impulsive people can be annoying but i can t help but feel sad for those who make them  many are people who have been failed by the education system and cast into mindstate where drug information seems inaccessible  i feel annoyed sometimes by these posts and have made some unhelpful comments  everyone probably does has  but i wish i could properly get across to these people how strongly i wish to see them okay and wish to see them turn to more sustainable and responsible behavior  \n",
      "\n",
      "i get being annoyed and i ve made comments in the past that have shown this annoyance openly  but as a community i think it s our responsibility to not turn down these people when they ask for advice  we can make search bar jokes all we want but not using the search bar isn t something that should be punishable by the risk of permanent injury  death  or emotional trauma from a bad trip  i think we need to ensure we give these people the knowledge they seek in a way that also tells them they need to learn to do research on their own  this is not only helpful to them but it will assist other people in the future who do use the search bar so even if they click on a thread asking a  dumb  question they can find information rather than be told to continue searching through dozens of semi relevant threads  this responsibility is also especially relevant as there is inevitably going to be teenagers asking questions like this  and i think it s fair to say we were all more impulsive to some extent as teenagers  i also think many people do add helpful comments  but oftentimes they can be phrased in a hostile or belittling manner which can really do nothing but make someone less likely to listen \n",
      "\n",
      "i ve been here since    i don t believe the quality of the subreddit has decreased anywhere near the extent that people say it has  that being said  it s grown a lot  that means more people  more posts  and more  dumb  questions  this is a lot to sort through  back in   i could search a compound and find pages and pages of information  now i need to sort through dozens of threads to find the same level of information  like i said i don t think this is because of a lower quality of posts i think there are just more to sort through and also different things tend to be upvoted as people tend to upvote things they find entertaining more than what they find educational \n",
      "\n",
      "  tl dr    i guess what i m saying is it s just important we don t let our pet peeves stop us from remembering behind the screen there is a real person with loved ones who may be minutes away from permanently harming themselves  and this person may be a teenager with a brain that isn t fully developed  regardless of how reckless you are  i just hope everyone in the community ends up okay in life  not just from a mental standpoint but in general  it might not be a super tight knit community due to the nature of it  but we all have mutual experiences that are rare when you step out into the real world  and these memories aren t going to disappear regardless of where we end up \n",
      "\n",
      "  tl dr but shorter    i m a simp\n",
      "\n",
      "i loved bromazolam  so i hate to say it   but it is not safe  actually it s the most dangerous benzo i ve ever used  i ve been on off benzos for   years  i ve only had   grand mal seizures from the many benzo withdrawals i ve gone through  including this one   if your not addicted to benzos and use occasionally  maybe it s ok but it did not take long for my friend to get one too  maybe   weeks but i didn t even think he had enough to last that long  if it wasn t for that i wouldn t even share because i probably would have had one regardless of what benzo i used last because of long term daily use  it was very bad though  i am lucky to be alive  i had blacked out for hours and apparently thought i was someone else and was acting like i was demon possessed  idk how else to explain it i was laughing a kicking and just acting crazy didn t even know who i was  thought i was my online alias i use for business purposes   of course this was told to me the next day  i have no memory of it   they said i was laughing ripping off the wires the medics kept putting all over me asking them wtf they were doing there  i have no memory of any of it up until the second they injected me with lorazepam  sadly the hospital wouldn t do shit if i wasn t so poor i d sue the shit out of them  i likely would have died taking their advice  which was just sit there and wait for it to happen again  that hospital pissed me off so bad i felt like i was going to have another seizure from stress and being treated like shit  i wanted to stay and detox but i was terrified they were just going to lock me away and wait for more seizures to come and not actually medically detox me  they pretty much admitted to that and to the fact i didn t have insurance so they weren t going to do shit but sit there and wait for it to happen again   i could feel the iv lorazepam dissipating be the minute  not that it really had any effect other than stopping seizures \n",
      "\n",
      "i remember right before it happened i said  something isn t right   apparently i kind of had a feeling i was going to have one because i had laid on the floor right before  i am terrified of hitting my head during benzo wd ever since my first grand mal seizure last year   i kept getting sharp spinal cord pain like i ve never experienced for     building up to it  now  what makes it super dangerous imo  the wd had me so disassociated i could barely even notice how bad it really was  which was something i liked about it at first  i have mentally been through much much worse wd with c lam and other benzos so i thought i d be ok  i did taper down the bromaz too although not as much as i would have liked to   if it wasn t for the weird sharp spinal pains i probably wouldn t of had any clue i was going to have a seizure  i didn t on the last one \n",
      "\n",
      "i am on day   or   since the seizure and maybe day   or   since last benzo dose  since the hospital wouldn t do shit  not even give me any kind of medication  i didn t know what else to do but get valerian root  well i isolated valeric acid and converted to sodium salt so it is much more potent and more similar to rx valproate anticonvulsant   i ve been having to take about   doses per day  i was hoping i d have money to go to a clinic by now but i don t  and no insurance  which is why the emergency room wouldn t do shit even though it s my second time in there in the past year for the same thing and this one was way worse  \n",
      "\n",
      "just feel like it s my duty to at least share my experience  i wouldn t wish it on anyone i still feel stupid and scatter brained from it  and considering this is the longest i ve been without any benzos in over   years this is not fun  however  a few things that have been helping me  valerian root  technically sodium valproate but a big dose of regular valerian root may have similar effects  i d consider this last resort though because of potential hepatoxicity and potential side effects   well now that i m thinking about it that s about the only thing i m using now other than these supplements called  calm child  which actually bring me a lot of relief  it just has things like magnesium and some gabaergic herbs in it  and i take double since it is meant for children  i think i m about to go get some magnolia  i was using that regularly on benzos like in between doses sucks i don t have any when i need it \n",
      "\n",
      "my anxiety is so bad i really don t even want to post but i feel like it s kind of fucked up not to share something so serious  especially considering these are research chemicals  use at your own risk    imo you are better off with clonazolam  definitely lesser of   evils   or any other benzo really  y all be safe   these chems are probably a lot more dangerous than we d like to admit  there s a reason all these benzos weren t patented and now used as prescriptions  some have different reasons than others  not to say there s not new benzos still being developed as well  \n",
      "\n",
      "hey everyone  i ll add to the sum of posts about these analogues lately\n",
      "\n",
      "to preface  i m a happy little researcher who s done most mainstream psychedelics available to me  psilocybe truffles  mdma  mda     and   lsd  worth mentioning weed too   my best friend to research with has experience with the same substances as well  so not a newbie     always use a test kit to know what i m truly taking  however my r chems supplier  will not source  has been verified to be extremely trustworthy  so i take their word for it \n",
      "\n",
      "following harm reduction  amp  set setting practices is important to us  have been indulging since    always trip in a safe place so home  in proper days  amp  times to do so  with the friend if needed  give ourselves breaks  have been eating and sleeping better  amp  reducing stress in journey of self improvement    so we are pretty good to roll     \n",
      "\n",
      "we are pretty stoked to be having   apb and   mapb available to us  i am equipped with a milligram scale  amp  our body types are about perfect average so we go for the average dose   in this case   for either drug   after research of my own on reddit and psychonautwiki regarding these drugs i have concluded  \n",
      "\n",
      "  apb is more comparable to mda   slightly more psychedelic   a longer length      hours  \n",
      "\n",
      "  mapb is more comparable to mdma   slightly less stimulating   average roll length     hours  \n",
      "\n",
      "my real questions are  \n",
      "\n",
      "\n",
      "    our intended roa is vegetable gel capsules  this was the best way i could think of  besides dissolving the powder in a juice drink  not fans of insufflation    this is a good way to take it  right  maybe with a meal     hours before  no alcohol mixed  \n",
      "\n",
      "\n",
      "    both substances were anecdotally stated many times  to have a much less harsh comedown  compared to the mdma roll  while my case is that i  lost the magic  after a few less careful experiences when more young      amp  smarter now  the comedown was never that unbearable  physically exhausted but ok mood wise  as long as i took supplements  my friend on the other hand is intrigued a lot by this  as the mdma comedown is very harsh on him  he gets quite depressed and no energy which is why he has not used it in a long time    so i wonder if perhaps he would need to dose lower  or if it could still be difficult for someone more sensitive to this  since we want to avoid a challenging comedown  though i know this is unpredictable  \n",
      "\n",
      "\n",
      "    by the way      as stated  would be for an individual experience  i am very curious about mixing these two substances together for a more interesting experience  maybe more round in its effects  but i do wonder if doses would need adjustment in this case  as well as if there d be a schedule to follow  due to their differing lengths  \n",
      "\n",
      "i have mixed psilocybin  amp  mdma in the past  noticed flips of these analogues     lsd sound popular  in theory mixing acid with either of these could make for a great time right  what about all    🙂 should weed be avoided  just want to be kind  amp  careful to our bodies  \n",
      "\n",
      "long post so to whoever took the time to read thank you so much  if you can answer any part of this it is very appreciated  if not thank you anyway  have a great day  🚀 safe travels  \n",
      "\n",
      "hey everyone  using throwaway account\n",
      "\n",
      "to preface  i m a happy little researcher who s done most mainstream psychedelics available to me  psilocybe truffles  mdma  mda     and   lsd  worth mentioning weed too   my best friend to research with has experience with the same substances as well  so not a newbie     always use a test kit to know what i m truly taking  however my r chems supplier  will not source  has been verified to be extremely trustworthy  so i take their word for it \n",
      "\n",
      "following harm reduction  amp  set setting practices is important to us  have been indulging since    always trip in a safe place so home  in proper days  amp  times to do so  with the friend if needed  give ourselves breaks  have been eating and sleeping better  amp  reducing stress in journey of self improvement    so we are pretty good to roll     \n",
      "\n",
      "we are pretty stoked to be having   apb and   mapb available to us  i am equipped with a milligram scale  amp  our body types are about perfect average so we go for the average dose   in this case   for either drug   after research of my own on reddit and psychonautwiki regarding these drugs i have concluded  \n",
      "\n",
      "  apb is more comparable to mda   slightly more psychedelic   a longer length      hours  \n",
      "\n",
      "  mapb is more comparable to mdma   slightly less stimulating   average roll length     hours  \n",
      "\n",
      "my real questions are  \n",
      "\n",
      "  our intended roa is vegetable gel capsules  this was the best way i could think of  besides dissolving the powder in a juice drink  not fans of insufflation    this is a good way to take it  right  maybe with a meal     hours before  no alcohol mixed  \n",
      "\n",
      "  both substances were anecdotally stated many times  to have a much less harsh comedown  compared to the mdma roll  while my case is that i  lost the magic  after a few less careful experiences when more young      amp  smarter now  the comedown was never that unbearable  physically exhausted but ok mood wise  as long as i took supplements  my friend on the other hand is intrigued a lot by this  as the mdma comedown is very harsh on him  he gets quite depressed and no energy which is why he has not used it in a long time    so i wonder if perhaps he would need to dose lower  or if it could still be difficult for someone more sensitive to this  since we want to avoid a challenging comedown  though i know this is unpredictable  \n",
      "\n",
      "  by the way      as stated  would be for an individual experience  i am very curious about mixing these two substances together for a more interesting experience  maybe more round in its effects  but i do wonder if doses would need adjustment in this case  as well as if there d be a schedule to follow  due to their differing lengths  \n",
      "\n",
      "i have mixed psilocybin  amp  mdma in the past  noticed flips of these analogues     lsd sound popular  in theory mixing acid with either of these could make for a great time right  what about all    🙂 should weed be avoided  just want to be kind  amp  careful to our bodies  \n",
      "\n",
      "long post so to whoever took the time to read thank you so much  if you can answer any part of this it is very appreciated  if not thank you anyway  have a great day  🚀 safe travels  \n",
      "\n",
      " u danpenpalman   i was responding to your epic post this morning when i realized my response was just rambling too hard and i should just post it here to keep your thread from getting derailed   i humbly submit  \n",
      "\n",
      "around   am tuesday morning i was apparently sitting in my   floor bathroom  fully clothed  jamming the fuck out to some solid tunes  when     i called my wife on the phone     to come upstairs and hang out with me   i proceeded to tell her what i was seeing was  absolutely beautiful  and just rambled about amazing  humorous  to me anyway  things   she kept asking me what i was on  and i m generally very honest with her  however as fucked up as i was  i apparently just kept saying  it s not mushrooms  lsd or dmt    which was technically true  to my knowledge  and all but i guess i reasoned she was ok with classical psychedelics and held the line   see  i am  generally  really great at managing my drug use  i ve been doing this for well over   years   but with benzos  i just have no fucking self control   and i know it   \n",
      "\n",
      " but  you know  this time was going to be different   \n",
      "\n",
      "i can control myself with any class of drugs except benzos    i told my psychiatrist this years ago and he knows that if i ever ask for a short term benzo that i will always give the bottle to my wife  as she is very straight laced with her personal consumption  i ve literally smoked pot with her twice and she has taken edibles twice in my   years of knowing and loving her  however  she is very understanding of my drug use   \n",
      "\n",
      "well a few days before the   election i was getting bad vibes that trump was getting re elected and i knew i couldn t handle it   i did a zoom call with my psychiatrist and request     a few     ativan to get through that week   like  i wanted    maybe   ativan  max  i have a great relationship with my psychiatrist   i am very open and honest about all of my drug use with him  so it s a very trusting relationship  well  with modern electronic scripts and an overwhelmed medical staff during a pandemic  along with that established trust  i guess it s easy to hit the  refill  button from a script a few years ago and not have to write out a new one   he submitted      day supply    ativan    with refills     the first fill back in november went as planned  gave it to my wife to hold   in fact  there are probably over   of them left   i have great self control when i m not holding the bottle  lol   well  monday i was picking up a script for a sinus infection  and wouldn t you know they had an ativan auto refill sitting there ready to go   \n",
      "\n",
      " i did not give it to my wife  \n",
      "\n",
      "i got into that script hard  and  well the results are obvious   delusions of sobriety with a pile of benzos and a huge rc collection that i have built up to over   unique molecules over the last   years just didn t go well together   fast forward   hours and you have the above cited occurrence   i of course had zero recollection and my wife was pretty cool about it all   i do have   vials of ketamine that i use for depression in my collection   i took one of those vials and told her that was what i had taken that night and really  sincerely apologized   she was ok with this  as she knows clinical ketamine saved my life a few years ago   but i still didn t tell her about the ativan because i thought i had somehow went on a ketamine analog binge  which is quite unusual for me  so it was obviously just a blip and something i could control  but i still didn t understand the black out portion   yeah  i ve had some brown out states during ketamine analog binges over the years  but never just a complete black out   \n",
      "\n",
      "well  my adult child and i were discussing what we had for dinner tuesday night and i was arguing with her  telling her she had lost her mind  i clearly had a different entree tuesday night    it was at that moment that i knew what had happened   i went upstairs and opened the ativan bottle to do a count and see how many i took   i have enough experience to know that what i dumped in my hand was not even close to the   ativan i had been prescribed   i started counting and the pile got very small before i even hit     i stopped counting and put them back in the bottle  \n",
      "\n",
      " my wife now has both bottles of ativan  \n",
      "\n",
      "i looked online for a dose conversion for   to pregabalin and couldn’t find anything precise  just found that it’s generally     to   stronger then pregabalin \n",
      "\n",
      "i usually take       of pregabalin so i decided to take       of the     it kicked in fairly fast  about       min     lt felt more like a   dose of pregabalin  that confirmed to me that   is about     the strength of pregabalin  \n",
      "\n",
      " side note   the pregabalin i’m used to is american pharmaceutical   i have tried pregabalin powder and i have found it to be noticeably weaker than pharma pregabalin  \n",
      "\n",
      "it felt almost identical to lyrica tbh  however it felt slightly dirty to me  slightly more intoxicating than lyrica  like alcohol  but not as euphoric as lyrica   pharma lyrica is superior to this imo \n",
      "\n",
      "after about an hour and a half since ingestion the peak subsided  so i took         of carisoprodol  the pain o soma tablets so they’re probably underdosed  or so i’ve heard  can anyone confirm   \n",
      "\n",
      "this brought some substantial euphoria for about an hour  synergizing with the    but i could feel the dirtiness from it even more now   at a point i felt slightly nauseous and eventually had to lay down and wait for the high to wear off a little \n",
      "\n",
      "this substance is good  it works   to me  it feels more intoxicating than pregabalin  reminiscent of alcohol  which personally i don’t like   and the euphoria isnt there like it is in pharmaceutical pregabalin \n",
      "\n",
      "  tldr   for the price  and since lyrica pills are difficult to source    is good and worth it   but if you’re looking for a better version of lyrica  i don’t think this is it   \n",
      "\n",
      "  it is     to   the strength of pregabalin  adjust dose accordingly   \n",
      "\n",
      "so  in a previous comment just a few minutes ago i more or less said i wouldn’t even buy a benzo without having a diclazepam stock on hand i can use when a taper is needed  this might sound extreme  but i think it’s for a good reason given the nature of benzo use  \n",
      "\n",
      "i have seen posts more or less saying benzos are no big deal don’t sweat it  i’ve also seen posts saying they are the devil and if you so much as look at them  you will get addicted and if you don’t taper you will probably die  these are slight exaggerations of the posts  but there is a tendency towards some black and white thinking towards benzos  \n",
      "\n",
      "which is fine  everyone is entitled to their own point of view on benzos or any drug in general  the problem is it leads to bad and often unhelpful advice  we are all at least interested in drugs  or we wouldn’t be here at all  i assume most of us also use drugs to varying extents  so it’s not a big surprise if our fellow members are not simply going to stay away from any drug and make their decision based on what any of us say about some of the risks  \n",
      "\n",
      "back to my comment a few minutes ago about not even considering buying a benzo without also buying diclazepam if i don’t already have some in stock  i have used benzos  i read ahead of time about the addiction risks  i knew it can happen and now i am unfortunately aware that addiction can happen regardless of how responsible you think you are or even actually are  addiction and physical dependence is sneaky and more complicated than “just be smart ” \n",
      "\n",
      "i would personally like to see more of “have diclazepam or  insert good benzo for tapering  on hand” as the general advice of this sub  something like that could be on the sidebar if mods think it is worth putting there  it could also just be the standard advice we as a community give to anyone considering a benzo  \n",
      "\n",
      "it’s also probably one of the better benzos to start out with unless you really need something strong for one reason or another  but that’s another topic for another day  worst case  you hate it and have a good chemical on hand if you try other benzos and need to taper  but yeah  i’m general it just seems like good safety and harm reduction advice both sides of the argument can get behind  \n",
      "\n",
      "if you can’t afford the insurance  you don’t buy a fancy sports car  same idea here  if you can’t afford to also pick up diclazepam  well save a bit more and wait  drugs cost money  things to properly and safely  as best as possible  use drugs also cost money  cost is the only thing i can think of as to why anyone wouldn’t want to have a diclazepam stash if they are going to buy and use other benzos as well  \n",
      "\n",
      "that’s just my       i hope to see more advice like this regarding benzos on this sub  and if the mods think this is good advice too  it should really be on the sidebar because that indicates a community consensus that safe benzo use is having materials on hand that you will need if a taper is ever your only option   unless you consider seizures and possibly dying an option  i don’t  so diclazepam is a non optional safety precaution in my toolkit \n",
      "\n",
      "clonazolam and flualprazolam are the rcs that have the highest addiction liability and or blackout risk and associated harm \n",
      "\n",
      "so i ve had clonazolam and flualprazolam but mostly clam  i normally go at it for a week to a couple month  not likely more than   days because it just won t work out  this is what you should have on hand for a couple weeks  i have most but not all  all will help but not all are necessary to have  it s good to have several   though \n",
      "\n",
      "all of the following are psychoactive on their own  they all provide benzo adjacent effects but only somewhat different  they have a wide range of effects \n",
      "\n",
      "first line rc for high dose clam or flualp should be diclazepam titrating downward until the chems listed can replace benzos\n",
      "\n",
      "the notes about the legal status refer to the us  please search each chem on psychonautwiki com for info on dose and exact effects \n",
      "\n",
      "gabapentin  i keep    rx required unscheduled \n",
      "\n",
      "phenibut  legal dietary supplement and readily available \n",
      "\n",
      "f phenibut  same status as phenibut and slightly less common \n",
      "\n",
      "pregabalin  cv controlled substance   less common \n",
      "\n",
      "fasoracetam  legal dietary supplement  readily available \n",
      "\n",
      "picamilon  legal  rare \n",
      "\n",
      "    butanediol  federally legal  ruled a ghb analog in some states   was common recently becoming less common  use with extreme caution  \n",
      "\n",
      "gbl  pretty much the same as     but with a better safety profile  getting rarer  use with extreme caution  \n",
      "\n",
      "ghb  ci narcotic except sometimes a cii controlled substance  rare  use with extreme caution  \n",
      "\n",
      "i tend to have one of the phenibuts  always gabapentin  sometimes pregabalin  sometimes fasoracetam  also     unless i can get gbl to replace it  there s no need for more than one of the g family at once  use caution mixing all of these  especially the gs and fasoracetam with the phenibuts \n",
      "\n",
      "like i said  the chems are recreational on their own  rating the recreational value of the listed chems  clam flualp is a       gt   are generally opioids \n",
      "\n",
      "gabapentin   \n",
      "\n",
      "phenibut   \n",
      "\n",
      "f phenibut   \n",
      "\n",
      "pregabalin   \n",
      "\n",
      "fasoracetam   \n",
      "\n",
      "picamilon   \n",
      "\n",
      "    butanediol   \n",
      "\n",
      "gbl    \n",
      "\n",
      "ghb   \n",
      "\n",
      "personally i never come off all benzos  i ve taken em daily for   years and believe i m a lifer  i just eliminate clam first  if i get to     clam i get diclaz  if only at     i use the above chems to get down to my   usual dose  may take extra kind in the first few days  i stockpile when taking clam  i take other stuff like stims  kratom and cannabis depending on the day  dissos n psyches in a blue moon  current kratom addict  occasional opioid use then switching back to kratom \n",
      "\n",
      "kratom and lyrica along with rx benzos is my go to for opioid withdrawal  likely along with gabs and benzos \n",
      "\n",
      "throwaway  because i am embaressed  first time ever dabbling in dissos  had one dmxe pellet experience  wasn t really a fan but all legal dissos are to become illegal where i live and i am not comfortable with buying street ket  so i thought maybe i should try it  ordered some hcls and what i thought was a     scale   responsible huh   \n",
      "\n",
      "never had no experience with weighting powders  duh  and i am a lil bit of an idiot as it turns  weighted out what was supposed to be    thought to myself that it wasn t as little as i thought it would be  it was    the scale were     one insufflated  went to take a shower  some grooming  blackout \n",
      "\n",
      "my girl heard me making noises  holding on to the door frame  dragged me to my bed  put some clothes on me  i was walking wobbly but walking with her assistence  laid me down  eyes were open  but not really responsive  eyes were tearing up  steady breathing  heartrate high but ok  all i was saying was  what  and  where are you   all i remember is completely white space  scifi like clean white room  really blurry memory  laid there for two hours  she checked on me every few minutes  at one time i said that i feel like they are about to chop off my legs  ok \n",
      "\n",
      "after two hours i got up  really maniac  disoriented  speedy  irrational thoughts  couldn t believe my girl is so calm  she tried to explain what happend  slowly started grasping it  said that i was sorry i scared her and started to pace the house  still wobbly  mania  speedy thoughts  maybe another   minutes  after that normality came back  realised what happend  flushed the dissos  ate something  pretty decent mood  some colour enhancement  but besides that all good \n",
      "\n",
      "tldr first exp  mistaken     with      blacked out  never trying mg drugs again  stay safe huh\n",
      "\n",
      "first off i know this was extremely dumb and i actually learned to now be more respectful with amphetamines   \n",
      "\n",
      "it was   weeks ago  finally raving again to harsh underground tekno  tribe  hardtek  frenchcore   finally getting our soundsystem ready to pump some chest eliminating beats  check out my post history if you wanna know how it looks  \n",
      "\n",
      "it was     in the evening when we finally had the time to get some music playing out of it  me  as retarted as i am  starting off with snorting a brain cell eliminating  burning to the teeth amount of   fma  it was so much that i had to sit down and drink something to get rid of the brain stinging pain    after not even   minutes  i felt it  the heartwarming euphoria that everybody loves      minutes later  the first signs of that it was a little much  jaw clenching  \n",
      "\n",
      "my friend asked me if i want to make him a line of speed  me  already fucked up dumping about half a g of uncut speed onto my phone  spreading it out and letting it dry  made my friend a line of about   and     fma because he wanted to try it as well    \n",
      "\n",
      "made another little line of speed for my gf since she wanted some too  don t really know how much it was    not much since for her it was already enough   \n",
      "\n",
      "time passed and i took     tabs of al lad and   of lsd   yes you actually feel the microdose a lot    waiting for the al lad to kick in i needed my phone  nobody wanting the leftover    i decided to snort the absolute fuck out of it  almost crying because it actually hurt in my throat   \n",
      "\n",
      "now i am feeling it  i want to dance  turning the music louder  and louder  and louder    we reached the point where talking wasn t possible because of how loud it was  \n",
      "\n",
      "everyone already happy and proud of our soundsystem  satisfied with the drugs they took  they danced their ass off  whilst i  for whatever reason  was preparing a line of   fa  never tried it  and people talked good about it so why not huh \n",
      "\n",
      "snorted some of it  not much because eventually i would pass out or die haha     haha     \n",
      "\n",
      "  minutes later everything got cold  like really cold  vision distorted    am i dying     i am dying    it s over  i took too much    struggling to walk and with a heart rate of    i managed to get some fresh air  my heart pounding  brain confused of what s going on  chest extremely painful  almost running into a bad trip  \n",
      "\n",
      "it s getting better is it  slowly managing to get up   \n",
      "i just escaped passing out and dying  did i \n",
      "\n",
      "confused i walked back to the sound system  unsure of what my body experienced and what happend i continued to dance for the rest of the night   \n",
      "\n",
      "but i knew one thing  i am over with drugs for that weekend   \n",
      "           \n",
      "anyone knows what exactly happend to me  i am greatful for every answer   \n",
      "\n",
      "tl dr took too much drugs and am pretty sure i almost died  here is my story\n",
      "\n"
     ]
    },
    {
     "name": "stderr",
     "output_type": "stream",
     "text": [
      "/opt/anaconda3/lib/python3.8/site-packages/ipykernel/ipkernel.py:287: DeprecationWarning: `should_run_async` will not call `transform_cell` automatically in the future. Please pass the result to `transformed_cell` argument and any exception that happen during thetransform in `preprocessing_exc_tuple` in IPython 7.17 and above.\n",
      "  and should_run_async(code)\n"
     ]
    }
   ],
   "source": [
    "for text in top_tweets(tweet_topic_matrix_df, 'topic_3', 15):\n",
    "    print(text)\n",
    "    print()"
   ]
  },
  {
   "cell_type": "code",
   "execution_count": null,
   "id": "db8876cb",
   "metadata": {},
   "outputs": [],
   "source": [
    "len(drug_terms)"
   ]
  },
  {
   "cell_type": "code",
   "execution_count": null,
   "id": "36fd955f",
   "metadata": {},
   "outputs": [],
   "source": [
    "len(big_drug_corpus)"
   ]
  },
  {
   "cell_type": "code",
   "execution_count": null,
   "id": "b302dec9",
   "metadata": {},
   "outputs": [],
   "source": []
  }
 ],
 "metadata": {
  "kernelspec": {
   "display_name": "Python 3",
   "language": "python",
   "name": "python3"
  },
  "language_info": {
   "codemirror_mode": {
    "name": "ipython",
    "version": 3
   },
   "file_extension": ".py",
   "mimetype": "text/x-python",
   "name": "python",
   "nbconvert_exporter": "python",
   "pygments_lexer": "ipython3",
   "version": "3.8.8"
  }
 },
 "nbformat": 4,
 "nbformat_minor": 5
}
