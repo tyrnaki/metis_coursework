{
 "cells": [
  {
   "cell_type": "code",
   "execution_count": 1,
   "id": "4464161c",
   "metadata": {},
   "outputs": [],
   "source": [
    "import nltk\n",
    "import pandas as pd\n",
    "\n",
    "import re\n",
    "import string\n",
    "\n",
    "from sklearn.feature_extraction.text import TfidfVectorizer, CountVectorizer\n",
    "from nltk.stem import PorterStemmer, SnowballStemmer, LancasterStemmer, WordNetLemmatizer\n",
    "\n",
    "# sklearn\n",
    "from sklearn.feature_extraction.text import CountVectorizer, TfidfVectorizer\n",
    "from sklearn.decomposition import LatentDirichletAllocation\n",
    "\n",
    "# logging (set to INFO)\n",
    "import logging\n",
    "logging.basicConfig(format='%(asctime)s : %(levelname)s : %(message)s', level=logging.INFO)\n",
    "\n",
    "#genism\n",
    "from gensim.parsing.preprocessing import remove_stopwords\n",
    "\n",
    "from collections import OrderedDict\n"
   ]
  },
  {
   "cell_type": "code",
   "execution_count": 2,
   "id": "13ad2b92",
   "metadata": {},
   "outputs": [
    {
     "data": {
      "text/html": [
       "<div>\n",
       "<style scoped>\n",
       "    .dataframe tbody tr th:only-of-type {\n",
       "        vertical-align: middle;\n",
       "    }\n",
       "\n",
       "    .dataframe tbody tr th {\n",
       "        vertical-align: top;\n",
       "    }\n",
       "\n",
       "    .dataframe thead th {\n",
       "        text-align: right;\n",
       "    }\n",
       "</style>\n",
       "<table border=\"1\" class=\"dataframe\">\n",
       "  <thead>\n",
       "    <tr style=\"text-align: right;\">\n",
       "      <th></th>\n",
       "      <th>text</th>\n",
       "      <th>counter</th>\n",
       "    </tr>\n",
       "  </thead>\n",
       "  <tbody>\n",
       "    <tr>\n",
       "      <th>0</th>\n",
       "      <td>Took one tab 150ug of it 10 at am and felt the...</td>\n",
       "      <td>495</td>\n",
       "    </tr>\n",
       "    <tr>\n",
       "      <th>1</th>\n",
       "      <td>Took one tab 150ug at 10 am and felt the first...</td>\n",
       "      <td>506</td>\n",
       "    </tr>\n",
       "    <tr>\n",
       "      <th>2</th>\n",
       "      <td>So my brain was virgin and I used both 2FMA an...</td>\n",
       "      <td>530</td>\n",
       "    </tr>\n",
       "    <tr>\n",
       "      <th>3</th>\n",
       "      <td>&amp;amp;#x200B;\\n\\nOptical brightening agents (OB...</td>\n",
       "      <td>144</td>\n",
       "    </tr>\n",
       "    <tr>\n",
       "      <th>4</th>\n",
       "      <td>I’ve fucked around with pressed bars for quite...</td>\n",
       "      <td>166</td>\n",
       "    </tr>\n",
       "    <tr>\n",
       "      <th>...</th>\n",
       "      <td>...</td>\n",
       "      <td>...</td>\n",
       "    </tr>\n",
       "    <tr>\n",
       "      <th>1026</th>\n",
       "      <td>150ug of first 1cP-LSD dose as recommended by ...</td>\n",
       "      <td>243</td>\n",
       "    </tr>\n",
       "    <tr>\n",
       "      <th>1027</th>\n",
       "      <td>Hello all\\n\\nHas anyone tried \"MFPVP\" - the ch...</td>\n",
       "      <td>142</td>\n",
       "    </tr>\n",
       "    <tr>\n",
       "      <th>1028</th>\n",
       "      <td>Tldr; i have a tolerance , am i able to get so...</td>\n",
       "      <td>226</td>\n",
       "    </tr>\n",
       "    <tr>\n",
       "      <th>1029</th>\n",
       "      <td>So I've been doing some research, and I've see...</td>\n",
       "      <td>188</td>\n",
       "    </tr>\n",
       "    <tr>\n",
       "      <th>1030</th>\n",
       "      <td>I decided to buy DOC as my first RC bc i wante...</td>\n",
       "      <td>210</td>\n",
       "    </tr>\n",
       "  </tbody>\n",
       "</table>\n",
       "<p>1031 rows × 2 columns</p>\n",
       "</div>"
      ],
      "text/plain": [
       "                                                   text  counter\n",
       "0     Took one tab 150ug of it 10 at am and felt the...      495\n",
       "1     Took one tab 150ug at 10 am and felt the first...      506\n",
       "2     So my brain was virgin and I used both 2FMA an...      530\n",
       "3     &amp;#x200B;\\n\\nOptical brightening agents (OB...      144\n",
       "4     I’ve fucked around with pressed bars for quite...      166\n",
       "...                                                 ...      ...\n",
       "1026  150ug of first 1cP-LSD dose as recommended by ...      243\n",
       "1027  Hello all\\n\\nHas anyone tried \"MFPVP\" - the ch...      142\n",
       "1028  Tldr; i have a tolerance , am i able to get so...      226\n",
       "1029  So I've been doing some research, and I've see...      188\n",
       "1030  I decided to buy DOC as my first RC bc i wante...      210\n",
       "\n",
       "[1031 rows x 2 columns]"
      ]
     },
     "execution_count": 2,
     "metadata": {},
     "output_type": "execute_result"
    }
   ],
   "source": [
    "data = pd.read_csv('reddit_data_one-year.csv')\n",
    "data"
   ]
  },
  {
   "cell_type": "code",
   "execution_count": 3,
   "id": "b57cd1a5",
   "metadata": {},
   "outputs": [],
   "source": [
    "#### make lowercase and remove punctuation\n",
    "\n",
    "alphanumeric = lambda x: re.sub('\\w*\\d\\w*', ' ', x)\n",
    "punc_lower = lambda x: re.sub('[%s]' % re.escape(string.punctuation), ' ', x.lower())\n",
    "\n",
    "data['text'] = data.text.map(alphanumeric).map(punc_lower)"
   ]
  },
  {
   "cell_type": "code",
   "execution_count": 4,
   "id": "a28bfc5e",
   "metadata": {},
   "outputs": [],
   "source": [
    "lemmatiser = WordNetLemmatizer()\n",
    "\n",
    "stemmer = SnowballStemmer(\"english\")\n"
   ]
  },
  {
   "cell_type": "code",
   "execution_count": 5,
   "id": "3221c0d2",
   "metadata": {},
   "outputs": [],
   "source": [
    "####create initial filter, apply stemming\n",
    "\n",
    "filtered = []\n",
    "for i in data.text:\n",
    "    new_data = i.split()\n",
    "    post_filter = []\n",
    "    for i in new_data:\n",
    "        i = stemmer.stem(i)\n",
    "        post_filter.append(i)\n",
    "    post_filter = ' '.join(post_filter)\n",
    "    filtered.append(post_filter)\n",
    "data['filtered'] = filtered\n",
    "\n",
    "\n",
    "\n"
   ]
  },
  {
   "cell_type": "code",
   "execution_count": 6,
   "id": "2bf9e56a",
   "metadata": {},
   "outputs": [
    {
     "data": {
      "text/html": [
       "<div>\n",
       "<style scoped>\n",
       "    .dataframe tbody tr th:only-of-type {\n",
       "        vertical-align: middle;\n",
       "    }\n",
       "\n",
       "    .dataframe tbody tr th {\n",
       "        vertical-align: top;\n",
       "    }\n",
       "\n",
       "    .dataframe thead th {\n",
       "        text-align: right;\n",
       "    }\n",
       "</style>\n",
       "<table border=\"1\" class=\"dataframe\">\n",
       "  <thead>\n",
       "    <tr style=\"text-align: right;\">\n",
       "      <th></th>\n",
       "      <th>text</th>\n",
       "      <th>counter</th>\n",
       "      <th>filtered</th>\n",
       "    </tr>\n",
       "  </thead>\n",
       "  <tbody>\n",
       "    <tr>\n",
       "      <th>0</th>\n",
       "      <td>took one tab   of it   at am and felt the firs...</td>\n",
       "      <td>495</td>\n",
       "      <td>took one tab of it at am and felt the first ef...</td>\n",
       "    </tr>\n",
       "    <tr>\n",
       "      <th>1</th>\n",
       "      <td>took one tab   at   am and felt the first effe...</td>\n",
       "      <td>506</td>\n",
       "      <td>took one tab at am and felt the first effect m...</td>\n",
       "    </tr>\n",
       "    <tr>\n",
       "      <th>2</th>\n",
       "      <td>so my brain was virgin and i used both   and  ...</td>\n",
       "      <td>530</td>\n",
       "      <td>so my brain was virgin and i use both and dail...</td>\n",
       "    </tr>\n",
       "    <tr>\n",
       "      <th>3</th>\n",
       "      <td>amp    \\n\\noptical brightening agents  obas  ...</td>\n",
       "      <td>144</td>\n",
       "      <td>amp optic brighten agent oba also known as flu...</td>\n",
       "    </tr>\n",
       "    <tr>\n",
       "      <th>4</th>\n",
       "      <td>i’ve fucked around with pressed bars for quite...</td>\n",
       "      <td>166</td>\n",
       "      <td>i'v fuck around with press bar for quit awhil ...</td>\n",
       "    </tr>\n",
       "    <tr>\n",
       "      <th>...</th>\n",
       "      <td>...</td>\n",
       "      <td>...</td>\n",
       "      <td>...</td>\n",
       "    </tr>\n",
       "    <tr>\n",
       "      <th>1026</th>\n",
       "      <td>of first   lsd dose as recommended by the fe...</td>\n",
       "      <td>243</td>\n",
       "      <td>of first lsd dose as recommend by the few plac...</td>\n",
       "    </tr>\n",
       "    <tr>\n",
       "      <th>1027</th>\n",
       "      <td>hello all\\n\\nhas anyone tried  mfpvp    the ch...</td>\n",
       "      <td>142</td>\n",
       "      <td>hello all has anyon tri mfpvp the chemic struc...</td>\n",
       "    </tr>\n",
       "    <tr>\n",
       "      <th>1028</th>\n",
       "      <td>tldr  i have a tolerance   am i able to get so...</td>\n",
       "      <td>226</td>\n",
       "      <td>tldr i have a toler am i abl to get some magic...</td>\n",
       "    </tr>\n",
       "    <tr>\n",
       "      <th>1029</th>\n",
       "      <td>so i ve been doing some research  and i ve see...</td>\n",
       "      <td>188</td>\n",
       "      <td>so i ve been do some research and i ve seen a ...</td>\n",
       "    </tr>\n",
       "    <tr>\n",
       "      <th>1030</th>\n",
       "      <td>i decided to buy doc as my first rc bc i wante...</td>\n",
       "      <td>210</td>\n",
       "      <td>i decid to buy doc as my first rc bc i want so...</td>\n",
       "    </tr>\n",
       "  </tbody>\n",
       "</table>\n",
       "<p>1031 rows × 3 columns</p>\n",
       "</div>"
      ],
      "text/plain": [
       "                                                   text  counter  \\\n",
       "0     took one tab   of it   at am and felt the firs...      495   \n",
       "1     took one tab   at   am and felt the first effe...      506   \n",
       "2     so my brain was virgin and i used both   and  ...      530   \n",
       "3      amp    \\n\\noptical brightening agents  obas  ...      144   \n",
       "4     i’ve fucked around with pressed bars for quite...      166   \n",
       "...                                                 ...      ...   \n",
       "1026    of first   lsd dose as recommended by the fe...      243   \n",
       "1027  hello all\\n\\nhas anyone tried  mfpvp    the ch...      142   \n",
       "1028  tldr  i have a tolerance   am i able to get so...      226   \n",
       "1029  so i ve been doing some research  and i ve see...      188   \n",
       "1030  i decided to buy doc as my first rc bc i wante...      210   \n",
       "\n",
       "                                               filtered  \n",
       "0     took one tab of it at am and felt the first ef...  \n",
       "1     took one tab at am and felt the first effect m...  \n",
       "2     so my brain was virgin and i use both and dail...  \n",
       "3     amp optic brighten agent oba also known as flu...  \n",
       "4     i'v fuck around with press bar for quit awhil ...  \n",
       "...                                                 ...  \n",
       "1026  of first lsd dose as recommend by the few plac...  \n",
       "1027  hello all has anyon tri mfpvp the chemic struc...  \n",
       "1028  tldr i have a toler am i abl to get some magic...  \n",
       "1029  so i ve been do some research and i ve seen a ...  \n",
       "1030  i decid to buy doc as my first rc bc i want so...  \n",
       "\n",
       "[1031 rows x 3 columns]"
      ]
     },
     "execution_count": 6,
     "metadata": {},
     "output_type": "execute_result"
    }
   ],
   "source": [
    "data"
   ]
  },
  {
   "cell_type": "code",
   "execution_count": 7,
   "id": "25c5a783",
   "metadata": {},
   "outputs": [],
   "source": [
    "#create big corpus of english general words\n",
    "\n",
    "a_file = open(\"stop_words_english.txt\", \"r\")\n",
    "\n",
    "corpus1 = [s.strip() for s in a_file.readlines()]\n",
    "\n",
    "for line in a_file:\n",
    "  stripped_line = line.strip()\n",
    "  line_list = stripped_line.split()\n",
    "  list_of_lists.append(line_list)\n",
    "\n",
    "a_file.close()\n",
    "\n",
    "a_file = open(\"google-10000-english-usa.txt\", \"r\")\n",
    "\n",
    "corpus2 = [s.strip() for s in a_file.readlines()]\n",
    "\n",
    "a_file.close()\n",
    "\n",
    "big_corpus = corpus1 + corpus2"
   ]
  },
  {
   "cell_type": "code",
   "execution_count": 173,
   "id": "42d072ef",
   "metadata": {},
   "outputs": [
    {
     "name": "stderr",
     "output_type": "stream",
     "text": [
      "/opt/anaconda3/lib/python3.8/site-packages/ipykernel/ipkernel.py:287: DeprecationWarning: `should_run_async` will not call `transform_cell` automatically in the future. Please pass the result to `transformed_cell` argument and any exception that happen during thetransform in `preprocessing_exc_tuple` in IPython 7.17 and above.\n",
      "  and should_run_async(code)\n"
     ]
    },
    {
     "data": {
      "text/plain": [
       "True"
      ]
     },
     "execution_count": 173,
     "metadata": {},
     "output_type": "execute_result"
    }
   ],
   "source": [
    "'really' in big_corpus"
   ]
  },
  {
   "cell_type": "code",
   "execution_count": 17,
   "id": "873d43e1",
   "metadata": {},
   "outputs": [],
   "source": [
    "data['filtered-drugterms'] = filtered2"
   ]
  },
  {
   "cell_type": "code",
   "execution_count": null,
   "id": "789639c5",
   "metadata": {},
   "outputs": [],
   "source": [
    "data"
   ]
  },
  {
   "cell_type": "code",
   "execution_count": null,
   "id": "d83e3ed1",
   "metadata": {},
   "outputs": [],
   "source": [
    "def word_counter(i):\n",
    "    word_list = i.split()\n",
    "    count = len(word_list)\n",
    "    return count"
   ]
  },
  {
   "cell_type": "code",
   "execution_count": null,
   "id": "71b06d97",
   "metadata": {},
   "outputs": [],
   "source": [
    "filtered_counter = []\n",
    "filtered_counter2 = []\n",
    "\n",
    "for i in data.filtered:\n",
    "    filtered_counter.append(word_counter(i))\n",
    "    \n",
    "for i in data.filtered2:\n",
    "    filtered_counter2.append(word_counter(i))"
   ]
  },
  {
   "cell_type": "code",
   "execution_count": null,
   "id": "cafed5a4",
   "metadata": {},
   "outputs": [],
   "source": [
    "data['filtered_counter'] = filtered_counter\n",
    "data['filtered_counter2'] = filtered_counter2\n"
   ]
  },
  {
   "cell_type": "code",
   "execution_count": null,
   "id": "73f8b984",
   "metadata": {},
   "outputs": [],
   "source": [
    "data"
   ]
  },
  {
   "cell_type": "code",
   "execution_count": 9,
   "id": "9d8d836b",
   "metadata": {},
   "outputs": [],
   "source": [
    "def remove_duplicate(s): \n",
    "    new_list = []\n",
    "    i = \",\".join(OrderedDict.fromkeys(s))\n",
    "    i = i.split(',')\n",
    "    for i in i:\n",
    "        new_list.append(i.replace('\"', \"\"))\n",
    "    return new_list    "
   ]
  },
  {
   "cell_type": "code",
   "execution_count": 10,
   "id": "df857c43",
   "metadata": {},
   "outputs": [],
   "source": [
    "#create corpus of drug-related words\n",
    "uncommon_words = []\n",
    "for i in filtered:\n",
    "    temp_list = []\n",
    "    temp_list.append(i.split(' '))\n",
    "    temp_list2 = []\n",
    "    [temp_list2.append(x) for x in temp_list if x not in temp_list2] \n",
    "    for i in temp_list2:\n",
    "        for i in i:\n",
    "            if i not in big_corpus:\n",
    "                uncommon_words.append(i)\n",
    "            \n",
    "res = []\n",
    "for i in uncommon_words:\n",
    "    if i not in res:\n",
    "        res.append(i)\n",
    "        \n",
    "\n"
   ]
  },
  {
   "cell_type": "code",
   "execution_count": 11,
   "id": "c4be7ec7",
   "metadata": {},
   "outputs": [],
   "source": [
    "drug_list = ['amine','zolam','rogen','zepam','zodone','anolol','chloride','fone','zenil','cetam','pine',\n",
    "             'sine', 'tone','tadol','opin','laz','nidate','zene','nidine','caline']\n",
    "drug_list_acronym = ['pcm','dxe','dck','mhp','xtc','mth','oxy','ket','thc','pvp','xan','mxe','fxe','dmt','dpt','mda']"
   ]
  },
  {
   "cell_type": "code",
   "execution_count": 12,
   "id": "6902cbdb",
   "metadata": {},
   "outputs": [],
   "source": [
    "drug_corpus = []\n",
    "possible_drug = []\n",
    "for i in res:\n",
    "    for d in drug_list:\n",
    "        if i.endswith(d):\n",
    "            drug_corpus.append(i)\n",
    "    for d in drug_list_acronym:\n",
    "        if i in d:\n",
    "            drug_corpus.append(i)"
   ]
  },
  {
   "cell_type": "code",
   "execution_count": 13,
   "id": "05accdb0",
   "metadata": {},
   "outputs": [],
   "source": [
    "drug_corpus2 = remove_duplicate(drug_corpus)\n",
    "drug_corpus_clean = []\n",
    "for i in drug_corpus2:\n",
    "    i = i.replace('\"', \"\")\n",
    "    i = i.replace('“', \"\")\n",
    "    if len(i) > 2:\n",
    "        drug_corpus_clean.append(i)"
   ]
  },
  {
   "cell_type": "code",
   "execution_count": 164,
   "id": "5f5b88c4",
   "metadata": {},
   "outputs": [
    {
     "name": "stderr",
     "output_type": "stream",
     "text": [
      "/opt/anaconda3/lib/python3.8/site-packages/ipykernel/ipkernel.py:287: DeprecationWarning: `should_run_async` will not call `transform_cell` automatically in the future. Please pass the result to `transformed_cell` argument and any exception that happen during thetransform in `preprocessing_exc_tuple` in IPython 7.17 and above.\n",
      "  and should_run_async(code)\n"
     ]
    }
   ],
   "source": [
    "additional_drug_terms = ['opioid','tramadol','tramadol','dopamin','vyvans','oxycodon','dsmt','gabapentin','memantin','benzo',\n",
    "                         'opiat','kpin','psilocybin','fdck','mxipr','hexen','redos','arylcyclohexylamin','odsmt','methadon','dipt',\n",
    "                        'morphin','etazen','eutylon','suboxon','glycol','mxpr','dmxe','shroom','isom','amphetamin','methylphenid','mapb',\n",
    "                        'kratom','ethyl','coke','adderall','etiz','meth','heroin','mdma','cannabinoid','benzos','phenibut','ethanol','cathinone',\n",
    "                        'cathinon','adderal','cocain','gram']\n",
    "\n",
    "misc_terms = ['researchchem','wiki','https','subreddit','psychonautwiki','clam','pyro','adhd',\n",
    "              'stimuli','pellet','vape','haha','communiti','googl','shouldn','bing','bottl']\n",
    "\n",
    "other_stop_words = ['becaus','realli','onli','peopl','veri']"
   ]
  },
  {
   "cell_type": "code",
   "execution_count": 15,
   "id": "f9a6132d",
   "metadata": {},
   "outputs": [],
   "source": [
    "drugs_in_listing = []\n",
    "for t in data.text:\n",
    "    for d in drug_corpus_clean:\n",
    "        if d in t:\n",
    "            drugs_in_listing.append(d)"
   ]
  },
  {
   "cell_type": "code",
   "execution_count": 165,
   "id": "769c8bdb",
   "metadata": {},
   "outputs": [
    {
     "name": "stderr",
     "output_type": "stream",
     "text": [
      "/opt/anaconda3/lib/python3.8/site-packages/ipykernel/ipkernel.py:287: DeprecationWarning: `should_run_async` will not call `transform_cell` automatically in the future. Please pass the result to `transformed_cell` argument and any exception that happen during thetransform in `preprocessing_exc_tuple` in IPython 7.17 and above.\n",
      "  and should_run_async(code)\n"
     ]
    }
   ],
   "source": [
    "filtered2 = []\n",
    "for i in data.filtered:\n",
    "    new_data = i.split()\n",
    "    post_filter = []\n",
    "    for i in new_data:\n",
    "        if len(i) > 3 and i not in drug_corpus_clean and i not in additional_drug_terms and i not in misc_terms and i not in big_corpus and i not in other_stop_words:\n",
    "            post_filter.append(i)\n",
    "    post_filter = ' '.join(post_filter)\n",
    "    filtered2.append(post_filter)  \n",
    "data['drugsremoved'] = filtered2"
   ]
  },
  {
   "cell_type": "code",
   "execution_count": null,
   "id": "608192ce",
   "metadata": {},
   "outputs": [],
   "source": [
    "data"
   ]
  },
  {
   "cell_type": "code",
   "execution_count": null,
   "id": "aae98137",
   "metadata": {},
   "outputs": [],
   "source": [
    ">>> from collections import Counter\n"
   ]
  },
  {
   "cell_type": "code",
   "execution_count": null,
   "id": "c4f03011",
   "metadata": {},
   "outputs": [],
   "source": [
    "drug_counts = Counter(drugs_in_listing)"
   ]
  },
  {
   "cell_type": "code",
   "execution_count": null,
   "id": "543cf2df",
   "metadata": {},
   "outputs": [],
   "source": [
    "drug_counts"
   ]
  },
  {
   "cell_type": "code",
   "execution_count": null,
   "id": "3817857e",
   "metadata": {},
   "outputs": [],
   "source": [
    "drug_df = pd.DataFrame.from_dict(drug_counts, orient='index',\n",
    "                       columns=['count'])\n"
   ]
  },
  {
   "cell_type": "code",
   "execution_count": null,
   "id": "be222788",
   "metadata": {},
   "outputs": [],
   "source": [
    "drug_df = drug_df.sort_values(by=['count'], ascending=False)\n"
   ]
  },
  {
   "cell_type": "code",
   "execution_count": null,
   "id": "e9e40293",
   "metadata": {},
   "outputs": [],
   "source": [
    "drug_df"
   ]
  },
  {
   "cell_type": "code",
   "execution_count": null,
   "id": "dfc4ff62",
   "metadata": {},
   "outputs": [],
   "source": [
    "import matplotlib.pyplot as plt\n",
    "\n",
    "drug_df.head(10).plot.bar(x=None, y=None)\n",
    "plt.title('Top most frequent drugs in \"Research Chemicals\" scrape')\n",
    "plt.xlabel('Drug Name')\n",
    "plt.ylabel('Number of postings')"
   ]
  },
  {
   "cell_type": "code",
   "execution_count": null,
   "id": "20d22d8b",
   "metadata": {},
   "outputs": [],
   "source": [
    "percent = []\n",
    "\n",
    "for i in drug_df['count']:\n",
    "    sum_ = drug_df.sum(axis = 0)\n",
    "    percent.append(int(i/sum_))"
   ]
  },
  {
   "cell_type": "code",
   "execution_count": null,
   "id": "0d7ff34b",
   "metadata": {},
   "outputs": [],
   "source": [
    "drug_df['percent'] = percent"
   ]
  },
  {
   "cell_type": "code",
   "execution_count": null,
   "id": "d4b2a4de",
   "metadata": {},
   "outputs": [],
   "source": [
    "drug_df"
   ]
  },
  {
   "cell_type": "code",
   "execution_count": null,
   "id": "10451092",
   "metadata": {},
   "outputs": [],
   "source": [
    "data['filtered'] = filtered"
   ]
  },
  {
   "cell_type": "code",
   "execution_count": null,
   "id": "1f6db060",
   "metadata": {},
   "outputs": [],
   "source": [
    "data.to_csv('corpi.csv', index=False)"
   ]
  },
  {
   "cell_type": "code",
   "execution_count": 166,
   "id": "61e06155",
   "metadata": {},
   "outputs": [
    {
     "name": "stdout",
     "output_type": "stream",
     "text": [
      "(1031, 872)\n"
     ]
    },
    {
     "name": "stderr",
     "output_type": "stream",
     "text": [
      "/opt/anaconda3/lib/python3.8/site-packages/ipykernel/ipkernel.py:287: DeprecationWarning: `should_run_async` will not call `transform_cell` automatically in the future. Please pass the result to `transformed_cell` argument and any exception that happen during thetransform in `preprocessing_exc_tuple` in IPython 7.17 and above.\n",
      "  and should_run_async(code)\n"
     ]
    }
   ],
   "source": [
    "tf_vectorizer = CountVectorizer(strip_accents = 'unicode',\n",
    "                                stop_words = 'english',\n",
    "                                lowercase = True,\n",
    "                                token_pattern = r'\\b[a-zA-Z]{3,}\\b',\n",
    "                                max_df = 0.7, #ignore terms that appear in more than X% of the document \n",
    "                                min_df = 7)  #ignore terms that appear in less than X documents\n",
    "dtm_tf = tf_vectorizer.fit_transform(data.drugsremoved)\n",
    "print(dtm_tf.shape)"
   ]
  },
  {
   "cell_type": "code",
   "execution_count": 167,
   "id": "630d0021",
   "metadata": {},
   "outputs": [
    {
     "name": "stdout",
     "output_type": "stream",
     "text": [
      "(1031, 872)\n"
     ]
    },
    {
     "name": "stderr",
     "output_type": "stream",
     "text": [
      "/opt/anaconda3/lib/python3.8/site-packages/ipykernel/ipkernel.py:287: DeprecationWarning: `should_run_async` will not call `transform_cell` automatically in the future. Please pass the result to `transformed_cell` argument and any exception that happen during thetransform in `preprocessing_exc_tuple` in IPython 7.17 and above.\n",
      "  and should_run_async(code)\n",
      "/opt/anaconda3/lib/python3.8/site-packages/sklearn/feature_extraction/text.py:1805: UserWarning: Only (<class 'numpy.float64'>, <class 'numpy.float32'>, <class 'numpy.float16'>) 'dtype' should be used. <class 'numpy.int64'> 'dtype' will be converted to np.float64.\n",
      "  warnings.warn(\"Only {} 'dtype' should be used. {} 'dtype' will \"\n"
     ]
    }
   ],
   "source": [
    "tfidf_vectorizer = TfidfVectorizer(**tf_vectorizer.get_params())\n",
    "dtm_tfidf = tfidf_vectorizer.fit_transform(data.drugsremoved)\n",
    "print(dtm_tfidf.shape)"
   ]
  },
  {
   "cell_type": "code",
   "execution_count": 168,
   "id": "6a3e0152",
   "metadata": {},
   "outputs": [
    {
     "name": "stderr",
     "output_type": "stream",
     "text": [
      "/opt/anaconda3/lib/python3.8/site-packages/ipykernel/ipkernel.py:287: DeprecationWarning: `should_run_async` will not call `transform_cell` automatically in the future. Please pass the result to `transformed_cell` argument and any exception that happen during thetransform in `preprocessing_exc_tuple` in IPython 7.17 and above.\n",
      "  and should_run_async(code)\n"
     ]
    },
    {
     "data": {
      "text/plain": [
       "LatentDirichletAllocation(n_components=2, random_state=0)"
      ]
     },
     "execution_count": 168,
     "metadata": {},
     "output_type": "execute_result"
    }
   ],
   "source": [
    "# for TF DTM\n",
    "lda_tf = LatentDirichletAllocation(n_components=2, random_state=0)\n",
    "lda_tf.fit(dtm_tf)\n",
    "\n",
    "# for TFIDF DTM\n",
    "lda_tfidf = LatentDirichletAllocation(n_components=2, random_state=0)\n",
    "lda_tfidf.fit(dtm_tfidf)"
   ]
  },
  {
   "cell_type": "code",
   "execution_count": 169,
   "id": "b99ecd22",
   "metadata": {},
   "outputs": [
    {
     "name": "stderr",
     "output_type": "stream",
     "text": [
      "/opt/anaconda3/lib/python3.8/site-packages/ipykernel/ipkernel.py:287: DeprecationWarning: `should_run_async` will not call `transform_cell` automatically in the future. Please pass the result to `transformed_cell` argument and any exception that happen during thetransform in `preprocessing_exc_tuple` in IPython 7.17 and above.\n",
      "  and should_run_async(code)\n"
     ]
    }
   ],
   "source": [
    "import pyLDAvis\n",
    "import pyLDAvis.sklearn\n",
    "pyLDAvis.enable_notebook()"
   ]
  },
  {
   "cell_type": "code",
   "execution_count": 170,
   "id": "fafe0848",
   "metadata": {},
   "outputs": [
    {
     "name": "stderr",
     "output_type": "stream",
     "text": [
      "/opt/anaconda3/lib/python3.8/site-packages/ipykernel/ipkernel.py:287: DeprecationWarning: `should_run_async` will not call `transform_cell` automatically in the future. Please pass the result to `transformed_cell` argument and any exception that happen during thetransform in `preprocessing_exc_tuple` in IPython 7.17 and above.\n",
      "  and should_run_async(code)\n",
      "/opt/anaconda3/lib/python3.8/site-packages/sklearn/manifold/_t_sne.py:691: FutureWarning: 'square_distances' has been introduced in 0.24 to help phase out legacy squaring behavior. The 'legacy' setting will be removed in 1.1 (renaming of 0.26), and the default setting will be changed to True. In 1.3, 'square_distances' will be removed altogether, and distances will be squared by default. Set 'square_distances'=True to silence this warning.\n",
      "  warnings.warn(\n"
     ]
    },
    {
     "data": {
      "text/html": [
       "\n",
       "<link rel=\"stylesheet\" type=\"text/css\" href=\"https://cdn.jsdelivr.net/gh/bmabey/pyLDAvis@3.3.1/pyLDAvis/js/ldavis.v1.0.0.css\">\n",
       "\n",
       "\n",
       "<div id=\"ldavis_el1132140717759016400863543529\"></div>\n",
       "<script type=\"text/javascript\">\n",
       "\n",
       "var ldavis_el1132140717759016400863543529_data = {\"mdsDat\": {\"x\": [-60.31231689453125, 60.31256103515625], \"y\": [141.36962890625, -141.369140625], \"topics\": [1, 2], \"cluster\": [1, 1], \"Freq\": [57.076140351155935, 42.92385964884406]}, \"tinfo\": {\"Term\": [\"anyon\", \"ketamin\", \"snort\", \"bodi\", \"disso\", \"anxieti\", \"solut\", \"possibl\", \"intens\", \"reddit\", \"chemic\", \"dissolv\", \"sensat\", \"appreci\", \"extrem\", \"physic\", \"respons\", \"pleas\", \"notic\", \"taper\", \"parti\", \"damag\", \"howev\", \"someth\", \"mayb\", \"minut\", \"euphoria\", \"everyon\", \"sourc\", \"activ\", \"solut\", \"dissolv\", \"sensat\", \"comeup\", \"vapor\", \"distort\", \"overwhelm\", \"subtl\", \"fade\", \"moxi\", \"freebas\", \"strang\", \"sweat\", \"textur\", \"residu\", \"immers\", \"taper\", \"electr\", \"accur\", \"drift\", \"temperatur\", \"syring\", \"insomnia\", \"dropper\", \"trippi\", \"steadi\", \"melt\", \"suppress\", \"dizzi\", \"swirl\", \"anxieti\", \"solvent\", \"intranas\", \"becam\", \"bodi\", \"vibe\", \"heavi\", \"lucid\", \"intens\", \"physic\", \"extrem\", \"nausea\", \"surpris\", \"notic\", \"withdraw\", \"asleep\", \"euphoria\", \"minut\", \"dissoci\", \"mipt\", \"stimul\", \"euphor\", \"emot\", \"headspac\", \"overal\", \"dosag\", \"littl\", \"experi\", \"pretti\", \"substanc\", \"decid\", \"comedown\", \"toler\", \"didn\", \"sedat\", \"anoth\", \"befor\", \"everyth\", \"psychedel\", \"someth\", \"everi\", \"mayb\", \"sinc\", \"probabl\", \"anyth\", \"ketamin\", \"pregabalin\", \"nbome\", \"nboh\", \"reagent\", \"microdos\", \"sert\", \"sneez\", \"ssri\", \"educ\", \"healthi\", \"antagonist\", \"perman\", \"nmda\", \"substitut\", \"polic\", \"horribl\", \"therapi\", \"packag\", \"affin\", \"erowid\", \"tyrosin\", \"dopaminerg\", \"technic\", \"chines\", \"cheer\", \"synthes\", \"borax\", \"illeg\", \"promis\", \"snort\", \"methyl\", \"valu\", \"anyon\", \"damag\", \"disso\", \"reddit\", \"induc\", \"hospit\", \"respons\", \"blotter\", \"parti\", \"decis\", \"bump\", \"possibl\", \"appreci\", \"sourc\", \"suppos\", \"analogu\", \"pleas\", \"chemic\", \"famili\", \"everyon\", \"activ\", \"psych\", \"howev\", \"someth\", \"mayb\", \"stim\", \"mani\", \"studi\", \"sinc\", \"someon\", \"anyth\", \"befor\", \"addict\", \"serotonin\", \"experi\", \"alway\", \"noth\", \"caus\", \"substanc\", \"everi\", \"psychedel\", \"complet\", \"littl\", \"probabl\", \"anoth\", \"toler\", \"pretti\"], \"Freq\": [258.0, 157.0, 182.0, 327.0, 187.0, 194.0, 126.0, 157.0, 176.0, 84.0, 191.0, 77.0, 71.0, 99.0, 128.0, 122.0, 65.0, 122.0, 226.0, 65.0, 66.0, 45.0, 140.0, 376.0, 316.0, 225.0, 192.0, 86.0, 61.0, 93.0, 125.88040605148987, 76.79232961624487, 71.0117580212307, 38.22155879296177, 33.397648687867544, 32.41083915753527, 39.08213643030608, 26.613455824840088, 26.612476076107807, 26.593479417969526, 45.58648568769924, 37.98146881098432, 27.53336613409675, 23.711467869199677, 25.57592506951777, 22.730937378810175, 64.3588485985084, 20.817733236752026, 30.27919160669048, 20.790656608121083, 22.672139662425725, 27.390636286719992, 24.54849354247023, 23.59824976878761, 25.47738558228688, 19.81299682843078, 21.698210134737728, 21.690633564477906, 19.800769941162038, 18.854658144264253, 187.14843327656536, 30.166196989094836, 25.429159640162275, 54.090654970018846, 303.7717693726777, 30.950553764483708, 68.81280648284147, 32.77066928006061, 162.08541690138532, 113.36130577402149, 118.2332313120788, 62.30758890634468, 60.65537074133267, 193.02587518076578, 59.05643037113799, 55.65807157634214, 163.72312391521632, 188.75190971856304, 136.20782862200167, 58.951732416808134, 247.9401236549107, 107.22996356177457, 56.98290971053395, 82.64241003657804, 62.991858812168196, 115.99240249125236, 263.86506813953855, 497.42008605868307, 212.05001313598686, 241.79904050192982, 156.1451571378656, 104.20237698653126, 153.0331289676699, 131.80304184818627, 84.01560729391575, 137.26584766130614, 200.92451471680667, 115.19170941850722, 137.02031749607266, 171.4195608836362, 125.05695839874801, 138.918510649485, 114.31444419752808, 101.30386216391264, 104.34526828514905, 156.27650434283106, 25.8928561953665, 23.96167230063922, 29.638347065627308, 20.980683511941614, 19.975035760295725, 16.156986926366024, 18.99878945295748, 20.89495599985177, 18.02587400973187, 18.933936671962726, 15.144737292403953, 17.96557960971276, 15.127638648653436, 16.068821974267088, 14.165704385952292, 16.053874145712552, 16.052351900125043, 17.919930836188843, 16.03197070183621, 13.153698231520453, 13.148247447899339, 13.143341508617555, 15.003790346369295, 11.23507163863769, 12.162508901838056, 11.183497201778252, 10.250341333963204, 11.180204192215928, 16.75518915810351, 167.45891861088404, 29.440460316290093, 18.460378880465264, 231.2360931966361, 42.316265741009964, 160.42947068473111, 74.34438594494702, 25.491427042032328, 33.84306432824222, 57.539535079637105, 36.53960657509962, 55.47193828332919, 22.545180202230497, 45.443736600199365, 117.83573685241846, 78.62976764997832, 50.80751614679696, 47.58104865619844, 43.16095652784297, 90.06624738282336, 132.32170906097465, 35.245797946401275, 65.35922694361383, 68.85661429456434, 43.5195349450118, 94.4124832595576, 204.79674139191746, 177.90121156464926, 105.50021258299309, 124.19064159857774, 58.1167635018775, 141.06638093541216, 89.38338990292841, 130.57464063973887, 188.6903887908592, 88.1196653278308, 55.542226510341905, 281.7772526380018, 100.25037542009699, 94.77526406509769, 75.47253260168964, 123.8785918104959, 92.01527775564128, 92.65687981441154, 77.02311283811171, 104.51701406168459, 78.80434996922428, 81.63584193412302, 81.37131503596109, 80.49092893750944], \"Total\": [258.0, 157.0, 182.0, 327.0, 187.0, 194.0, 126.0, 157.0, 176.0, 84.0, 191.0, 77.0, 71.0, 99.0, 128.0, 122.0, 65.0, 122.0, 226.0, 65.0, 66.0, 45.0, 140.0, 376.0, 316.0, 225.0, 192.0, 86.0, 61.0, 93.0, 126.9628309864162, 77.5354129578894, 71.72048087084133, 38.76955505627994, 33.92384996136753, 32.95494215058481, 39.7397993010689, 27.14018805166156, 27.140198424392977, 27.14039954456426, 46.52642395261891, 38.77209692116954, 28.109804133483404, 24.23284590045744, 26.171817233300676, 23.26387161263548, 65.91478434155302, 21.325416370212164, 31.018799597871833, 21.325703034116227, 23.264494111956537, 28.111315233549767, 25.20333949305348, 24.23404455569374, 26.17286048408842, 20.356698353694515, 22.295449938855946, 22.29553015302278, 20.35682780139229, 19.38748911823936, 194.86904886072003, 31.01999588706646, 26.173371058615515, 56.22994212844307, 327.806017465283, 31.991047092360827, 72.72311676199858, 33.930487876578624, 176.52664376086946, 122.1985959035485, 128.0231479484595, 65.93650130345974, 64.97463826327602, 226.14619306057102, 64.01221116392136, 60.13076886163228, 192.17898987012344, 225.21208681120092, 158.19286264318907, 64.01331961522857, 305.8719427940624, 123.24286454300615, 62.07545321401565, 94.1225173998803, 69.84667802939906, 139.799135454246, 368.38208220122317, 779.1973386966849, 292.5409420734963, 365.6776323124257, 213.80503533076646, 130.1304050796354, 234.404444003631, 199.37241913763557, 105.86024272610719, 218.90168959542916, 389.6149035076659, 174.0850478536807, 229.6771973104842, 376.21630227555363, 217.0722361543893, 316.81972221413423, 255.38082513294023, 180.10821213313693, 234.91990892488792, 157.6615390810268, 26.43683382339125, 24.478411607481778, 30.352453826754218, 21.53989605016208, 20.560265308742004, 16.64388517210405, 19.580942583355565, 21.538997949784726, 18.60165475283833, 19.580263171277764, 15.66418526790426, 18.60102309536805, 15.664006138730326, 16.642961536565128, 14.684833349489162, 16.642804939806734, 16.642788992425395, 18.600544868720696, 16.642575474484353, 13.705135996034896, 13.705078892420246, 13.705027496715074, 15.662708676523307, 11.746845333197093, 12.725656724241208, 11.746305027989179, 10.767433727577961, 11.74627052969274, 17.619247424140244, 182.9751677081465, 31.31947607455782, 19.575302075117513, 258.26365368761174, 45.99079615724762, 187.747002422758, 84.12104860119365, 27.401723715951537, 37.180170846840056, 65.53218555686334, 41.084801832431054, 66.47962030869347, 24.463572122972735, 53.77632305891251, 157.2588250989048, 99.6714688582199, 61.58527802498884, 57.675095425340636, 51.81421744368382, 122.08047307187411, 191.32892070805576, 41.071247607086605, 86.93420414772781, 93.75451102321887, 53.75616469679951, 140.5388169101293, 376.21630227555363, 316.81972221413423, 165.85145359682932, 205.78016814431948, 78.1364723205045, 255.38082513294023, 140.4861310158476, 234.91990892488792, 389.6149035076659, 141.44198731085856, 74.23311948895139, 779.1973386966849, 176.45650402632498, 182.21371766778185, 130.64944426655697, 365.6776323124257, 217.0722361543893, 229.6771973104842, 159.73854908272648, 368.38208220122317, 180.10821213313693, 218.90168959542916, 234.404444003631, 292.5409420734963], \"Category\": [\"Default\", \"Default\", \"Default\", \"Default\", \"Default\", \"Default\", \"Default\", \"Default\", \"Default\", \"Default\", \"Default\", \"Default\", \"Default\", \"Default\", \"Default\", \"Default\", \"Default\", \"Default\", \"Default\", \"Default\", \"Default\", \"Default\", \"Default\", \"Default\", \"Default\", \"Default\", \"Default\", \"Default\", \"Default\", \"Default\", \"Topic1\", \"Topic1\", \"Topic1\", \"Topic1\", \"Topic1\", \"Topic1\", \"Topic1\", \"Topic1\", \"Topic1\", \"Topic1\", \"Topic1\", \"Topic1\", \"Topic1\", \"Topic1\", \"Topic1\", \"Topic1\", \"Topic1\", \"Topic1\", \"Topic1\", \"Topic1\", \"Topic1\", \"Topic1\", \"Topic1\", \"Topic1\", \"Topic1\", \"Topic1\", \"Topic1\", \"Topic1\", \"Topic1\", \"Topic1\", \"Topic1\", \"Topic1\", \"Topic1\", \"Topic1\", \"Topic1\", \"Topic1\", \"Topic1\", \"Topic1\", \"Topic1\", \"Topic1\", \"Topic1\", \"Topic1\", \"Topic1\", \"Topic1\", \"Topic1\", \"Topic1\", \"Topic1\", \"Topic1\", \"Topic1\", \"Topic1\", \"Topic1\", \"Topic1\", \"Topic1\", \"Topic1\", \"Topic1\", \"Topic1\", \"Topic1\", \"Topic1\", \"Topic1\", \"Topic1\", \"Topic1\", \"Topic1\", \"Topic1\", \"Topic1\", \"Topic1\", \"Topic1\", \"Topic1\", \"Topic1\", \"Topic1\", \"Topic1\", \"Topic1\", \"Topic1\", \"Topic1\", \"Topic1\", \"Topic1\", \"Topic2\", \"Topic2\", \"Topic2\", \"Topic2\", \"Topic2\", \"Topic2\", \"Topic2\", \"Topic2\", \"Topic2\", \"Topic2\", \"Topic2\", \"Topic2\", \"Topic2\", \"Topic2\", \"Topic2\", \"Topic2\", \"Topic2\", \"Topic2\", \"Topic2\", \"Topic2\", \"Topic2\", \"Topic2\", \"Topic2\", \"Topic2\", \"Topic2\", \"Topic2\", \"Topic2\", \"Topic2\", \"Topic2\", \"Topic2\", \"Topic2\", \"Topic2\", \"Topic2\", \"Topic2\", \"Topic2\", \"Topic2\", \"Topic2\", \"Topic2\", \"Topic2\", \"Topic2\", \"Topic2\", \"Topic2\", \"Topic2\", \"Topic2\", \"Topic2\", \"Topic2\", \"Topic2\", \"Topic2\", \"Topic2\", \"Topic2\", \"Topic2\", \"Topic2\", \"Topic2\", \"Topic2\", \"Topic2\", \"Topic2\", \"Topic2\", \"Topic2\", \"Topic2\", \"Topic2\", \"Topic2\", \"Topic2\", \"Topic2\", \"Topic2\", \"Topic2\", \"Topic2\", \"Topic2\", \"Topic2\", \"Topic2\", \"Topic2\", \"Topic2\", \"Topic2\", \"Topic2\", \"Topic2\", \"Topic2\", \"Topic2\", \"Topic2\", \"Topic2\", \"Topic2\", \"Topic2\"], \"logprob\": [30.0, 29.0, 28.0, 27.0, 26.0, 25.0, 24.0, 23.0, 22.0, 21.0, 20.0, 19.0, 18.0, 17.0, 16.0, 15.0, 14.0, 13.0, 12.0, 11.0, 10.0, 9.0, 8.0, 7.0, 6.0, 5.0, 4.0, 3.0, 2.0, 1.0, -4.9774, -5.4716, -5.5499, -6.1693, -6.3042, -6.3342, -6.147, -6.5313, -6.5313, -6.532, -5.9931, -6.1756, -6.4973, -6.6467, -6.5711, -6.689, -5.6482, -6.7769, -6.4022, -6.7782, -6.6916, -6.5025, -6.6121, -6.6515, -6.5749, -6.8264, -6.7355, -6.7358, -6.827, -6.8759, -4.5808, -6.406, -6.5768, -5.822, -4.0964, -6.3803, -5.5813, -6.3232, -4.7246, -5.0821, -5.04, -5.6806, -5.7075, -4.5499, -5.7342, -5.7935, -4.7145, -4.5723, -4.8985, -5.736, -4.2995, -5.1377, -5.77, -5.3982, -5.6697, -5.0592, -4.2373, -3.6033, -4.4559, -4.3246, -4.7619, -5.1664, -4.7821, -4.9314, -5.3817, -4.8908, -4.5098, -5.0661, -4.8926, -4.6686, -4.9839, -4.8788, -5.0738, -5.1946, -5.165, -4.4761, -6.2738, -6.3513, -6.1387, -6.4841, -6.5333, -6.7454, -6.5834, -6.4882, -6.6359, -6.5868, -6.8101, -6.6393, -6.8112, -6.7509, -6.8769, -6.7518, -6.7519, -6.6418, -6.7532, -6.951, -6.9515, -6.9518, -6.8194, -7.1087, -7.0294, -7.1133, -7.2004, -7.1136, -6.709, -4.407, -6.1454, -6.6121, -4.0843, -5.7826, -4.4499, -5.219, -6.2894, -6.006, -5.4753, -5.9294, -5.5119, -6.4122, -5.7113, -4.7585, -5.163, -5.5997, -5.6653, -5.7628, -5.0272, -4.6425, -5.9654, -5.3479, -5.2957, -5.7545, -4.9801, -4.2057, -4.3465, -4.869, -4.7059, -5.4653, -4.5785, -5.0348, -4.6558, -4.2876, -5.0491, -5.5106, -3.8866, -4.9201, -4.9762, -5.204, -4.7084, -5.0058, -4.9988, -5.1836, -4.8784, -5.1608, -5.1255, -5.1287, -5.1396], \"loglift\": [30.0, 29.0, 28.0, 27.0, 26.0, 25.0, 24.0, 23.0, 22.0, 21.0, 20.0, 19.0, 18.0, 17.0, 16.0, 15.0, 14.0, 13.0, 12.0, 11.0, 10.0, 9.0, 8.0, 7.0, 6.0, 5.0, 4.0, 3.0, 2.0, 1.0, 0.5522, 0.5512, 0.5509, 0.5465, 0.5452, 0.5441, 0.5441, 0.5412, 0.5411, 0.5404, 0.5404, 0.5402, 0.5401, 0.539, 0.5378, 0.5376, 0.5369, 0.5367, 0.5367, 0.5354, 0.535, 0.5348, 0.5345, 0.5342, 0.5339, 0.5337, 0.5336, 0.5333, 0.5331, 0.5329, 0.5204, 0.5329, 0.5319, 0.522, 0.4846, 0.5277, 0.5055, 0.526, 0.4754, 0.4857, 0.4812, 0.5042, 0.492, 0.4024, 0.4802, 0.4835, 0.4005, 0.3842, 0.4112, 0.4784, 0.3508, 0.4216, 0.4752, 0.4307, 0.4575, 0.3741, 0.2271, 0.112, 0.239, 0.1471, 0.2465, 0.3386, 0.1344, 0.1469, 0.3297, 0.0941, -0.1014, 0.1478, 0.0442, -0.2253, 0.0093, -0.2637, -0.243, -0.0146, -0.2508, 0.8369, 0.825, 0.8244, 0.8219, 0.8194, 0.8169, 0.8161, 0.8156, 0.8154, 0.8143, 0.8122, 0.812, 0.811, 0.8109, 0.8106, 0.8098, 0.8097, 0.8096, 0.8085, 0.8084, 0.8047, 0.8043, 0.8039, 0.8028, 0.8012, 0.8005, 0.7966, 0.7965, 0.7964, 0.7955, 0.7571, 0.7839, 0.7871, 0.7352, 0.7625, 0.6885, 0.7222, 0.7735, 0.7517, 0.7157, 0.7285, 0.6647, 0.7641, 0.6774, 0.5571, 0.6086, 0.6534, 0.6534, 0.663, 0.5416, 0.477, 0.6928, 0.5605, 0.5371, 0.6345, 0.4479, 0.2376, 0.2686, 0.3934, 0.3408, 0.5497, 0.2522, 0.3936, 0.2584, 0.1207, 0.3725, 0.5557, -0.1714, 0.2803, 0.1921, 0.297, -0.2367, -0.0125, -0.062, 0.1163, -0.414, 0.0192, -0.1406, -0.2123, -0.4447]}, \"token.table\": {\"Topic\": [1, 2, 1, 2, 1, 2, 1, 2, 1, 2, 1, 2, 1, 2, 1, 2, 1, 2, 1, 2, 1, 2, 1, 2, 1, 2, 1, 2, 1, 2, 1, 2, 1, 2, 1, 2, 1, 2, 1, 2, 1, 2, 1, 2, 1, 2, 1, 2, 1, 2, 1, 2, 1, 2, 1, 2, 1, 2, 1, 2, 1, 2, 1, 2, 1, 2, 1, 2, 1, 2, 1, 2, 1, 2, 1, 2, 1, 2, 1, 2, 1, 2, 1, 2, 1, 2, 1, 2, 1, 2, 1, 2, 1, 2, 1, 2, 1, 2, 1, 2, 1, 2, 1, 2, 1, 2, 1, 2, 1, 2, 1, 2, 1, 2, 1, 2, 1, 2, 1, 2, 1, 2, 1, 2, 1, 2, 1, 2, 1, 2, 1, 2, 1, 2, 1, 2, 1, 2, 1, 2, 1, 2, 1, 2, 1, 2, 1, 2, 1, 2, 1, 2, 1, 2, 1, 2, 1, 2, 1, 2, 1, 2, 1, 2, 1, 2, 1, 2, 1, 2, 1, 2, 1, 2, 1, 2, 1, 2, 1, 2, 1, 2, 1, 2, 1, 2, 1, 2, 1, 2, 1, 2, 1, 2, 1, 2, 1, 2, 1, 2, 1, 2, 1, 2, 1, 2, 1, 2, 2, 1, 2, 1, 2, 1, 2, 1, 2, 1, 2, 1, 2, 1, 2, 1, 2, 1, 2, 1, 2, 1, 2, 1, 2, 1, 2, 1, 2, 1, 2, 1, 2, 1, 2, 1, 2, 1, 2, 1, 2, 1, 2, 1, 2, 1, 2, 1, 2, 1, 2, 1, 2, 1, 2, 1, 2, 1, 2, 1, 2, 1, 2, 1, 2, 1, 2, 1, 2, 1, 2, 1, 2], \"Freq\": [0.9671554150682952, 0.03223851383560984, 0.26665383592911707, 0.7359645871643631, 0.3747119296586069, 0.6221632039614604, 0.0600868538366045, 0.961389661385672, 0.43070104113964425, 0.5667118962363741, 0.17369749933562115, 0.829888052381301, 0.6258517248231449, 0.3745973827408604, 0.06383989865396886, 0.9575984798095328, 0.9596187855037753, 0.04105321007502782, 0.10454432752917846, 0.8944348021940823, 0.4427040708297415, 0.5576368584490012, 0.21069218945566018, 0.7926039508093883, 0.9313035748613551, 0.06652168391866822, 0.9603424431177728, 0.03556823863399159, 0.5158940230222616, 0.4850943798567534, 0.12169950387963553, 0.9005763287093029, 0.9273777289100429, 0.07321403122974023, 0.09287264034314527, 0.9287264034314527, 0.14876435473723107, 0.8367994953969248, 0.4209738534194335, 0.5740552546628639, 0.07858140618354821, 0.9429768742025786, 0.30836948110958456, 0.6899113814655112, 0.08512923867090995, 0.9364216253800094, 0.7991983113889142, 0.19979957784722854, 0.980150531643636, 0.025793435043253578, 0.5195990603183418, 0.48203768246400386, 0.08697392378952426, 0.9132261997900047, 0.7296366980256599, 0.27127518259928385, 0.08175420948120174, 0.94017340903382, 0.6620775359548332, 0.3410702457949141, 0.14381055170831938, 0.8522106767900407, 0.8597100888600389, 0.1390707496685357, 0.9930946010672543, 0.012897332481392913, 0.9710227939038313, 0.030344462309494728, 0.9824713454928432, 0.04912356727464216, 0.07296592438356564, 0.9485570169863533, 0.8297619268036527, 0.17167488140765227, 0.9847272076519504, 0.046891771792950024, 0.9903423237852077, 0.04126426349105032, 0.053758658210093666, 0.9676558477816859, 0.984740444708657, 0.046892402128983664, 0.9182373554886959, 0.08054713644637683, 0.07296534673492588, 0.9485495075540366, 0.8682044221932368, 0.12982496032796065, 0.8533711209057395, 0.14569750844732138, 0.5758451758478025, 0.4238220494239826, 0.2530649497016763, 0.7476918968458619, 0.6605966532901668, 0.3389148047314769, 0.6378358540486048, 0.36191088700544577, 0.9217083151830113, 0.0781108741680518, 0.9948342888949931, 0.03684571440351826, 0.14608760019660896, 0.8521776678135522, 0.9886854843356324, 0.021493162702948532, 0.8818293676461479, 0.11686895233864612, 0.05107183653521559, 0.9703648941690962, 0.9488042189640572, 0.05500314312835114, 0.060086025379542336, 0.9613764060726774, 0.08068817145456904, 0.9144659431517825, 0.3273117065544655, 0.6688543568721687, 0.08513340446843583, 0.9364674491527941, 0.9886574506157366, 0.04298510654851029, 0.07298810909606127, 0.9123513637007657, 0.9919320416602123, 0.03967728166640849, 0.9177084917529624, 0.07930814126260169, 0.9551692804114632, 0.03820677121645853, 0.006342700989910236, 0.9894613544259968, 0.7166472332815416, 0.2850301496006131, 0.9725766431663685, 0.029472019489889954, 0.39848349206562544, 0.6025847928797263, 0.4387353130309601, 0.5618337102123085, 0.9867484199840685, 0.04485220090836675, 0.06385802863492622, 0.9259414152064303, 0.04863750467144073, 0.9727500934288146, 0.8392089548836776, 0.1598493247397481, 0.9216831802293235, 0.0781087440872308, 0.9948269168133017, 0.03684544136345562, 0.9402986020543801, 0.06066442593899227, 0.03294626542248615, 0.9883879626745846, 0.04085232391853203, 0.9804557740447688, 0.06384062870911622, 0.9576094306367434, 0.47746130814707, 0.5213657962525476, 0.8534302408013866, 0.14592330542199874, 0.90197560968444, 0.10021951218716, 0.9813839195446314, 0.025163690244734138, 0.053761865959186694, 0.9677135872653605, 0.16546424225833825, 0.8273212112916912, 0.05376048375796146, 0.9676887076433063, 0.9247242095088477, 0.07365060075734185, 0.26212218215406324, 0.737218637308303, 0.06809747010406399, 0.9533645814568957, 0.2479988005472617, 0.750355345245561, 0.03782601224792669, 0.983476318446094, 0.7246848885402795, 0.2734659956755771, 0.5607739858376933, 0.43862519684334433, 0.05675611312602907, 0.9648539231424942, 0.18602517602219065, 0.8185107744976389, 0.5964893407106474, 0.4049161217962789, 0.04642547938352169, 0.9749350670539555, 0.11887631177077485, 0.8796847071037339, 0.9934350285358841, 0.03820903955907246, 0.12207741786756479, 0.8850612795398447, 0.7934990307677046, 0.207821174724875, 0.9899543218046905, 0.013943018616967472, 0.25595044544541734, 0.7543802602601775, 0.9613140101937718, 0.4463921672296913, 0.552116627889355, 0.05107006446410973, 0.9703312248180849, 0.0874435596939619, 0.9126921543057275, 0.9924164341726185, 0.007876320906131893, 0.9671181166245176, 0.03223727055415059, 0.3630251586489126, 0.6335144925441808, 0.4545257580963458, 0.544899300641818, 0.1786141161128905, 0.8281199928870377, 0.04642741516255145, 0.9749757184135804, 0.9824775930017267, 0.049123879650086334, 0.36176951542345154, 0.6391261439147644, 0.8107968247580444, 0.1896218380482523, 0.9800862738288478, 0.025791744048127573, 0.2559624130196574, 0.7422909977570065, 0.6617850768439709, 0.3390964856555884, 0.06008546001881741, 0.9613673603010786, 0.994834669111551, 0.036845728485613, 0.1733850620662573, 0.8322482979180351, 0.9867448698912094, 0.044852039540509515, 0.9388278508428033, 0.0615624820224789, 0.9960937424906277, 0.035574776517522416, 0.98001344496566, 0.051579654998192635, 0.08513315443598586, 0.9364646987958445, 0.9604673340853346, 0.035572864225382764, 0.9709506090222323, 0.03034220653194476, 0.06384591711770078, 0.9576887567655118, 0.9886309966301565, 0.042983956375224196, 0.9903913101492943, 0.04126630458955393, 0.06008608295491389, 0.9613773272786222, 0.6527180005069784, 0.3455565885036944, 0.9551879136481298, 0.03820751654592519, 0.07296565075251495, 0.9485534597826942, 0.051084780003018006, 0.9195260400543241, 0.9727669482555898, 0.02947778631077545, 0.9690211111408892, 0.03125874552067384, 0.9216991403236146, 0.07811009663759445], \"Term\": [\"accur\", \"accur\", \"activ\", \"activ\", \"addict\", \"addict\", \"affin\", \"affin\", \"alway\", \"alway\", \"analogu\", \"analogu\", \"anoth\", \"anoth\", \"antagonist\", \"antagonist\", \"anxieti\", \"anxieti\", \"anyon\", \"anyon\", \"anyth\", \"anyth\", \"appreci\", \"appreci\", \"asleep\", \"asleep\", \"becam\", \"becam\", \"befor\", \"befor\", \"blotter\", \"blotter\", \"bodi\", \"bodi\", \"borax\", \"borax\", \"bump\", \"bump\", \"caus\", \"caus\", \"cheer\", \"cheer\", \"chemic\", \"chemic\", \"chines\", \"chines\", \"comedown\", \"comedown\", \"comeup\", \"comeup\", \"complet\", \"complet\", \"damag\", \"damag\", \"decid\", \"decid\", \"decis\", \"decis\", \"didn\", \"didn\", \"disso\", \"disso\", \"dissoci\", \"dissoci\", \"dissolv\", \"dissolv\", \"distort\", \"distort\", \"dizzi\", \"dizzi\", \"dopaminerg\", \"dopaminerg\", \"dosag\", \"dosag\", \"drift\", \"drift\", \"dropper\", \"dropper\", \"educ\", \"educ\", \"electr\", \"electr\", \"emot\", \"emot\", \"erowid\", \"erowid\", \"euphor\", \"euphor\", \"euphoria\", \"euphoria\", \"everi\", \"everi\", \"everyon\", \"everyon\", \"everyth\", \"everyth\", \"experi\", \"experi\", \"extrem\", \"extrem\", \"fade\", \"fade\", \"famili\", \"famili\", \"freebas\", \"freebas\", \"headspac\", \"headspac\", \"healthi\", \"healthi\", \"heavi\", \"heavi\", \"horribl\", \"horribl\", \"hospit\", \"hospit\", \"howev\", \"howev\", \"illeg\", \"illeg\", \"immers\", \"immers\", \"induc\", \"induc\", \"insomnia\", \"insomnia\", \"intens\", \"intens\", \"intranas\", \"intranas\", \"ketamin\", \"ketamin\", \"littl\", \"littl\", \"lucid\", \"lucid\", \"mani\", \"mani\", \"mayb\", \"mayb\", \"melt\", \"melt\", \"methyl\", \"methyl\", \"microdos\", \"microdos\", \"minut\", \"minut\", \"mipt\", \"mipt\", \"moxi\", \"moxi\", \"nausea\", \"nausea\", \"nboh\", \"nboh\", \"nbome\", \"nbome\", \"nmda\", \"nmda\", \"noth\", \"noth\", \"notic\", \"notic\", \"overal\", \"overal\", \"overwhelm\", \"overwhelm\", \"packag\", \"packag\", \"parti\", \"parti\", \"perman\", \"perman\", \"physic\", \"physic\", \"pleas\", \"pleas\", \"polic\", \"polic\", \"possibl\", \"possibl\", \"pregabalin\", \"pregabalin\", \"pretti\", \"pretti\", \"probabl\", \"probabl\", \"promis\", \"promis\", \"psych\", \"psych\", \"psychedel\", \"psychedel\", \"reagent\", \"reagent\", \"reddit\", \"reddit\", \"residu\", \"residu\", \"respons\", \"respons\", \"sedat\", \"sedat\", \"sensat\", \"sensat\", \"serotonin\", \"serotonin\", \"sert\", \"sinc\", \"sinc\", \"sneez\", \"sneez\", \"snort\", \"snort\", \"solut\", \"solut\", \"solvent\", \"solvent\", \"someon\", \"someon\", \"someth\", \"someth\", \"sourc\", \"sourc\", \"ssri\", \"ssri\", \"steadi\", \"steadi\", \"stim\", \"stim\", \"stimul\", \"stimul\", \"strang\", \"strang\", \"studi\", \"studi\", \"substanc\", \"substanc\", \"substitut\", \"substitut\", \"subtl\", \"subtl\", \"suppos\", \"suppos\", \"suppress\", \"suppress\", \"surpris\", \"surpris\", \"sweat\", \"sweat\", \"swirl\", \"swirl\", \"synthes\", \"synthes\", \"syring\", \"syring\", \"taper\", \"taper\", \"technic\", \"technic\", \"temperatur\", \"temperatur\", \"textur\", \"textur\", \"therapi\", \"therapi\", \"toler\", \"toler\", \"trippi\", \"trippi\", \"tyrosin\", \"tyrosin\", \"valu\", \"valu\", \"vapor\", \"vapor\", \"vibe\", \"vibe\", \"withdraw\", \"withdraw\"]}, \"R\": 30, \"lambda.step\": 0.01, \"plot.opts\": {\"xlab\": \"PC1\", \"ylab\": \"PC2\"}, \"topic.order\": [1, 2]};\n",
       "\n",
       "function LDAvis_load_lib(url, callback){\n",
       "  var s = document.createElement('script');\n",
       "  s.src = url;\n",
       "  s.async = true;\n",
       "  s.onreadystatechange = s.onload = callback;\n",
       "  s.onerror = function(){console.warn(\"failed to load library \" + url);};\n",
       "  document.getElementsByTagName(\"head\")[0].appendChild(s);\n",
       "}\n",
       "\n",
       "if(typeof(LDAvis) !== \"undefined\"){\n",
       "   // already loaded: just create the visualization\n",
       "   !function(LDAvis){\n",
       "       new LDAvis(\"#\" + \"ldavis_el1132140717759016400863543529\", ldavis_el1132140717759016400863543529_data);\n",
       "   }(LDAvis);\n",
       "}else if(typeof define === \"function\" && define.amd){\n",
       "   // require.js is available: use it to load d3/LDAvis\n",
       "   require.config({paths: {d3: \"https://d3js.org/d3.v5\"}});\n",
       "   require([\"d3\"], function(d3){\n",
       "      window.d3 = d3;\n",
       "      LDAvis_load_lib(\"https://cdn.jsdelivr.net/gh/bmabey/pyLDAvis@3.3.1/pyLDAvis/js/ldavis.v3.0.0.js\", function(){\n",
       "        new LDAvis(\"#\" + \"ldavis_el1132140717759016400863543529\", ldavis_el1132140717759016400863543529_data);\n",
       "      });\n",
       "    });\n",
       "}else{\n",
       "    // require.js not available: dynamically load d3 & LDAvis\n",
       "    LDAvis_load_lib(\"https://d3js.org/d3.v5.js\", function(){\n",
       "         LDAvis_load_lib(\"https://cdn.jsdelivr.net/gh/bmabey/pyLDAvis@3.3.1/pyLDAvis/js/ldavis.v3.0.0.js\", function(){\n",
       "                 new LDAvis(\"#\" + \"ldavis_el1132140717759016400863543529\", ldavis_el1132140717759016400863543529_data);\n",
       "            })\n",
       "         });\n",
       "}\n",
       "</script>"
      ],
      "text/plain": [
       "PreparedData(topic_coordinates=               x           y  topics  cluster      Freq\n",
       "topic                                                  \n",
       "0     -60.312317  141.369629       1        1  57.07614\n",
       "1      60.312561 -141.369141       2        1  42.92386, topic_info=        Term        Freq       Total Category  logprob  loglift\n",
       "53     anyon  258.000000  258.000000  Default  30.0000  30.0000\n",
       "441  ketamin  157.000000  157.000000  Default  29.0000  29.0000\n",
       "708    snort  182.000000  182.000000  Default  28.0000  28.0000\n",
       "105     bodi  327.000000  327.000000  Default  27.0000  27.0000\n",
       "234    disso  187.000000  187.000000  Default  26.0000  26.0000\n",
       "..       ...         ...         ...      ...      ...      ...\n",
       "451    littl  104.517014  368.382082   Topic2  -4.8784  -0.4140\n",
       "590  probabl   78.804350  180.108212   Topic2  -5.1608   0.0192\n",
       "45     anoth   81.635842  218.901690   Topic2  -5.1255  -0.1406\n",
       "798    toler   81.371315  234.404444   Topic2  -5.1287  -0.2123\n",
       "587   pretti   80.490929  292.540942   Topic2  -5.1396  -0.4447\n",
       "\n",
       "[185 rows x 6 columns], token_table=      Topic      Freq      Term\n",
       "term                           \n",
       "8         1  0.967155     accur\n",
       "8         2  0.032239     accur\n",
       "12        1  0.266654     activ\n",
       "12        2  0.735965     activ\n",
       "14        1  0.374712    addict\n",
       "...     ...       ...       ...\n",
       "835       2  0.029478     vapor\n",
       "840       1  0.969021      vibe\n",
       "840       2  0.031259      vibe\n",
       "862       1  0.921699  withdraw\n",
       "862       2  0.078110  withdraw\n",
       "\n",
       "[281 rows x 3 columns], R=30, lambda_step=0.01, plot_opts={'xlab': 'PC1', 'ylab': 'PC2'}, topic_order=[1, 2])"
      ]
     },
     "execution_count": 170,
     "metadata": {},
     "output_type": "execute_result"
    }
   ],
   "source": [
    "pyLDAvis.sklearn.prepare(lda_tf, dtm_tf, tf_vectorizer, mds='tsne')\n"
   ]
  },
  {
   "cell_type": "code",
   "execution_count": 171,
   "id": "15da702d",
   "metadata": {},
   "outputs": [
    {
     "name": "stderr",
     "output_type": "stream",
     "text": [
      "/opt/anaconda3/lib/python3.8/site-packages/ipykernel/ipkernel.py:287: DeprecationWarning: `should_run_async` will not call `transform_cell` automatically in the future. Please pass the result to `transformed_cell` argument and any exception that happen during thetransform in `preprocessing_exc_tuple` in IPython 7.17 and above.\n",
      "  and should_run_async(code)\n"
     ]
    },
    {
     "data": {
      "text/html": [
       "\n",
       "<link rel=\"stylesheet\" type=\"text/css\" href=\"https://cdn.jsdelivr.net/gh/bmabey/pyLDAvis@3.3.1/pyLDAvis/js/ldavis.v1.0.0.css\">\n",
       "\n",
       "\n",
       "<div id=\"ldavis_el11321407177590162889900332356\"></div>\n",
       "<script type=\"text/javascript\">\n",
       "\n",
       "var ldavis_el11321407177590162889900332356_data = {\"mdsDat\": {\"x\": [0.0610368275602996, -0.0610368275602996], \"y\": [-0.05163505730781912, 0.05163505730781912], \"topics\": [1, 2], \"cluster\": [1, 1], \"Freq\": [57.076140351155935, 42.92385964884406]}, \"tinfo\": {\"Term\": [\"anyon\", \"ketamin\", \"snort\", \"bodi\", \"disso\", \"anxieti\", \"solut\", \"possibl\", \"intens\", \"reddit\", \"chemic\", \"dissolv\", \"sensat\", \"appreci\", \"extrem\", \"physic\", \"respons\", \"pleas\", \"notic\", \"taper\", \"parti\", \"damag\", \"howev\", \"someth\", \"mayb\", \"minut\", \"euphoria\", \"everyon\", \"sourc\", \"activ\", \"solut\", \"dissolv\", \"sensat\", \"comeup\", \"vapor\", \"distort\", \"overwhelm\", \"subtl\", \"fade\", \"moxi\", \"freebas\", \"strang\", \"sweat\", \"textur\", \"residu\", \"immers\", \"taper\", \"electr\", \"accur\", \"drift\", \"temperatur\", \"syring\", \"insomnia\", \"dropper\", \"trippi\", \"steadi\", \"melt\", \"suppress\", \"dizzi\", \"swirl\", \"anxieti\", \"solvent\", \"intranas\", \"becam\", \"bodi\", \"vibe\", \"heavi\", \"lucid\", \"intens\", \"physic\", \"extrem\", \"nausea\", \"surpris\", \"notic\", \"withdraw\", \"asleep\", \"euphoria\", \"minut\", \"dissoci\", \"mipt\", \"stimul\", \"euphor\", \"emot\", \"headspac\", \"overal\", \"dosag\", \"littl\", \"experi\", \"pretti\", \"substanc\", \"decid\", \"comedown\", \"toler\", \"didn\", \"sedat\", \"anoth\", \"befor\", \"everyth\", \"psychedel\", \"someth\", \"everi\", \"mayb\", \"sinc\", \"probabl\", \"anyth\", \"ketamin\", \"pregabalin\", \"nbome\", \"nboh\", \"reagent\", \"microdos\", \"sert\", \"sneez\", \"ssri\", \"educ\", \"healthi\", \"antagonist\", \"perman\", \"nmda\", \"substitut\", \"polic\", \"horribl\", \"therapi\", \"packag\", \"affin\", \"erowid\", \"tyrosin\", \"dopaminerg\", \"technic\", \"chines\", \"cheer\", \"synthes\", \"borax\", \"illeg\", \"promis\", \"snort\", \"methyl\", \"valu\", \"anyon\", \"damag\", \"disso\", \"reddit\", \"induc\", \"hospit\", \"respons\", \"blotter\", \"parti\", \"decis\", \"bump\", \"possibl\", \"appreci\", \"sourc\", \"suppos\", \"analogu\", \"pleas\", \"chemic\", \"famili\", \"everyon\", \"activ\", \"psych\", \"howev\", \"someth\", \"mayb\", \"stim\", \"mani\", \"studi\", \"sinc\", \"someon\", \"anyth\", \"befor\", \"addict\", \"serotonin\", \"experi\", \"alway\", \"noth\", \"caus\", \"substanc\", \"everi\", \"psychedel\", \"complet\", \"littl\", \"probabl\", \"anoth\", \"toler\", \"pretti\"], \"Freq\": [258.0, 157.0, 182.0, 327.0, 187.0, 194.0, 126.0, 157.0, 176.0, 84.0, 191.0, 77.0, 71.0, 99.0, 128.0, 122.0, 65.0, 122.0, 226.0, 65.0, 66.0, 45.0, 140.0, 376.0, 316.0, 225.0, 192.0, 86.0, 61.0, 93.0, 125.88040605148987, 76.79232961624487, 71.0117580212307, 38.22155879296177, 33.397648687867544, 32.41083915753527, 39.08213643030608, 26.613455824840088, 26.612476076107807, 26.593479417969526, 45.58648568769924, 37.98146881098432, 27.53336613409675, 23.711467869199677, 25.57592506951777, 22.730937378810175, 64.3588485985084, 20.817733236752026, 30.27919160669048, 20.790656608121083, 22.672139662425725, 27.390636286719992, 24.54849354247023, 23.59824976878761, 25.47738558228688, 19.81299682843078, 21.698210134737728, 21.690633564477906, 19.800769941162038, 18.854658144264253, 187.14843327656536, 30.166196989094836, 25.429159640162275, 54.090654970018846, 303.7717693726777, 30.950553764483708, 68.81280648284147, 32.77066928006061, 162.08541690138532, 113.36130577402149, 118.2332313120788, 62.30758890634468, 60.65537074133267, 193.02587518076578, 59.05643037113799, 55.65807157634214, 163.72312391521632, 188.75190971856304, 136.20782862200167, 58.951732416808134, 247.9401236549107, 107.22996356177457, 56.98290971053395, 82.64241003657804, 62.991858812168196, 115.99240249125236, 263.86506813953855, 497.42008605868307, 212.05001313598686, 241.79904050192982, 156.1451571378656, 104.20237698653126, 153.0331289676699, 131.80304184818627, 84.01560729391575, 137.26584766130614, 200.92451471680667, 115.19170941850722, 137.02031749607266, 171.4195608836362, 125.05695839874801, 138.918510649485, 114.31444419752808, 101.30386216391264, 104.34526828514905, 156.27650434283106, 25.8928561953665, 23.96167230063922, 29.638347065627308, 20.980683511941614, 19.975035760295725, 16.156986926366024, 18.99878945295748, 20.89495599985177, 18.02587400973187, 18.933936671962726, 15.144737292403953, 17.96557960971276, 15.127638648653436, 16.068821974267088, 14.165704385952292, 16.053874145712552, 16.052351900125043, 17.919930836188843, 16.03197070183621, 13.153698231520453, 13.148247447899339, 13.143341508617555, 15.003790346369295, 11.23507163863769, 12.162508901838056, 11.183497201778252, 10.250341333963204, 11.180204192215928, 16.75518915810351, 167.45891861088404, 29.440460316290093, 18.460378880465264, 231.2360931966361, 42.316265741009964, 160.42947068473111, 74.34438594494702, 25.491427042032328, 33.84306432824222, 57.539535079637105, 36.53960657509962, 55.47193828332919, 22.545180202230497, 45.443736600199365, 117.83573685241846, 78.62976764997832, 50.80751614679696, 47.58104865619844, 43.16095652784297, 90.06624738282336, 132.32170906097465, 35.245797946401275, 65.35922694361383, 68.85661429456434, 43.5195349450118, 94.4124832595576, 204.79674139191746, 177.90121156464926, 105.50021258299309, 124.19064159857774, 58.1167635018775, 141.06638093541216, 89.38338990292841, 130.57464063973887, 188.6903887908592, 88.1196653278308, 55.542226510341905, 281.7772526380018, 100.25037542009699, 94.77526406509769, 75.47253260168964, 123.8785918104959, 92.01527775564128, 92.65687981441154, 77.02311283811171, 104.51701406168459, 78.80434996922428, 81.63584193412302, 81.37131503596109, 80.49092893750944], \"Total\": [258.0, 157.0, 182.0, 327.0, 187.0, 194.0, 126.0, 157.0, 176.0, 84.0, 191.0, 77.0, 71.0, 99.0, 128.0, 122.0, 65.0, 122.0, 226.0, 65.0, 66.0, 45.0, 140.0, 376.0, 316.0, 225.0, 192.0, 86.0, 61.0, 93.0, 126.9628309864162, 77.5354129578894, 71.72048087084133, 38.76955505627994, 33.92384996136753, 32.95494215058481, 39.7397993010689, 27.14018805166156, 27.140198424392977, 27.14039954456426, 46.52642395261891, 38.77209692116954, 28.109804133483404, 24.23284590045744, 26.171817233300676, 23.26387161263548, 65.91478434155302, 21.325416370212164, 31.018799597871833, 21.325703034116227, 23.264494111956537, 28.111315233549767, 25.20333949305348, 24.23404455569374, 26.17286048408842, 20.356698353694515, 22.295449938855946, 22.29553015302278, 20.35682780139229, 19.38748911823936, 194.86904886072003, 31.01999588706646, 26.173371058615515, 56.22994212844307, 327.806017465283, 31.991047092360827, 72.72311676199858, 33.930487876578624, 176.52664376086946, 122.1985959035485, 128.0231479484595, 65.93650130345974, 64.97463826327602, 226.14619306057102, 64.01221116392136, 60.13076886163228, 192.17898987012344, 225.21208681120092, 158.19286264318907, 64.01331961522857, 305.8719427940624, 123.24286454300615, 62.07545321401565, 94.1225173998803, 69.84667802939906, 139.799135454246, 368.38208220122317, 779.1973386966849, 292.5409420734963, 365.6776323124257, 213.80503533076646, 130.1304050796354, 234.404444003631, 199.37241913763557, 105.86024272610719, 218.90168959542916, 389.6149035076659, 174.0850478536807, 229.6771973104842, 376.21630227555363, 217.0722361543893, 316.81972221413423, 255.38082513294023, 180.10821213313693, 234.91990892488792, 157.6615390810268, 26.43683382339125, 24.478411607481778, 30.352453826754218, 21.53989605016208, 20.560265308742004, 16.64388517210405, 19.580942583355565, 21.538997949784726, 18.60165475283833, 19.580263171277764, 15.66418526790426, 18.60102309536805, 15.664006138730326, 16.642961536565128, 14.684833349489162, 16.642804939806734, 16.642788992425395, 18.600544868720696, 16.642575474484353, 13.705135996034896, 13.705078892420246, 13.705027496715074, 15.662708676523307, 11.746845333197093, 12.725656724241208, 11.746305027989179, 10.767433727577961, 11.74627052969274, 17.619247424140244, 182.9751677081465, 31.31947607455782, 19.575302075117513, 258.26365368761174, 45.99079615724762, 187.747002422758, 84.12104860119365, 27.401723715951537, 37.180170846840056, 65.53218555686334, 41.084801832431054, 66.47962030869347, 24.463572122972735, 53.77632305891251, 157.2588250989048, 99.6714688582199, 61.58527802498884, 57.675095425340636, 51.81421744368382, 122.08047307187411, 191.32892070805576, 41.071247607086605, 86.93420414772781, 93.75451102321887, 53.75616469679951, 140.5388169101293, 376.21630227555363, 316.81972221413423, 165.85145359682932, 205.78016814431948, 78.1364723205045, 255.38082513294023, 140.4861310158476, 234.91990892488792, 389.6149035076659, 141.44198731085856, 74.23311948895139, 779.1973386966849, 176.45650402632498, 182.21371766778185, 130.64944426655697, 365.6776323124257, 217.0722361543893, 229.6771973104842, 159.73854908272648, 368.38208220122317, 180.10821213313693, 218.90168959542916, 234.404444003631, 292.5409420734963], \"Category\": [\"Default\", \"Default\", \"Default\", \"Default\", \"Default\", \"Default\", \"Default\", \"Default\", \"Default\", \"Default\", \"Default\", \"Default\", \"Default\", \"Default\", \"Default\", \"Default\", \"Default\", \"Default\", \"Default\", \"Default\", \"Default\", \"Default\", \"Default\", \"Default\", \"Default\", \"Default\", \"Default\", \"Default\", \"Default\", \"Default\", \"Topic1\", \"Topic1\", \"Topic1\", \"Topic1\", \"Topic1\", \"Topic1\", \"Topic1\", \"Topic1\", \"Topic1\", \"Topic1\", \"Topic1\", \"Topic1\", \"Topic1\", \"Topic1\", \"Topic1\", \"Topic1\", \"Topic1\", \"Topic1\", \"Topic1\", \"Topic1\", \"Topic1\", \"Topic1\", \"Topic1\", \"Topic1\", \"Topic1\", \"Topic1\", \"Topic1\", \"Topic1\", \"Topic1\", \"Topic1\", \"Topic1\", \"Topic1\", \"Topic1\", \"Topic1\", \"Topic1\", \"Topic1\", \"Topic1\", \"Topic1\", \"Topic1\", \"Topic1\", \"Topic1\", \"Topic1\", \"Topic1\", \"Topic1\", \"Topic1\", \"Topic1\", \"Topic1\", \"Topic1\", \"Topic1\", \"Topic1\", \"Topic1\", \"Topic1\", \"Topic1\", \"Topic1\", \"Topic1\", \"Topic1\", \"Topic1\", \"Topic1\", \"Topic1\", \"Topic1\", \"Topic1\", \"Topic1\", \"Topic1\", \"Topic1\", \"Topic1\", \"Topic1\", \"Topic1\", \"Topic1\", \"Topic1\", \"Topic1\", \"Topic1\", \"Topic1\", \"Topic1\", \"Topic1\", \"Topic1\", \"Topic2\", \"Topic2\", \"Topic2\", \"Topic2\", \"Topic2\", \"Topic2\", \"Topic2\", \"Topic2\", \"Topic2\", \"Topic2\", \"Topic2\", \"Topic2\", \"Topic2\", \"Topic2\", \"Topic2\", \"Topic2\", \"Topic2\", \"Topic2\", \"Topic2\", \"Topic2\", \"Topic2\", \"Topic2\", \"Topic2\", \"Topic2\", \"Topic2\", \"Topic2\", \"Topic2\", \"Topic2\", \"Topic2\", \"Topic2\", \"Topic2\", \"Topic2\", \"Topic2\", \"Topic2\", \"Topic2\", \"Topic2\", \"Topic2\", \"Topic2\", \"Topic2\", \"Topic2\", \"Topic2\", \"Topic2\", \"Topic2\", \"Topic2\", \"Topic2\", \"Topic2\", \"Topic2\", \"Topic2\", \"Topic2\", \"Topic2\", \"Topic2\", \"Topic2\", \"Topic2\", \"Topic2\", \"Topic2\", \"Topic2\", \"Topic2\", \"Topic2\", \"Topic2\", \"Topic2\", \"Topic2\", \"Topic2\", \"Topic2\", \"Topic2\", \"Topic2\", \"Topic2\", \"Topic2\", \"Topic2\", \"Topic2\", \"Topic2\", \"Topic2\", \"Topic2\", \"Topic2\", \"Topic2\", \"Topic2\", \"Topic2\", \"Topic2\", \"Topic2\", \"Topic2\", \"Topic2\"], \"logprob\": [30.0, 29.0, 28.0, 27.0, 26.0, 25.0, 24.0, 23.0, 22.0, 21.0, 20.0, 19.0, 18.0, 17.0, 16.0, 15.0, 14.0, 13.0, 12.0, 11.0, 10.0, 9.0, 8.0, 7.0, 6.0, 5.0, 4.0, 3.0, 2.0, 1.0, -4.9774, -5.4716, -5.5499, -6.1693, -6.3042, -6.3342, -6.147, -6.5313, -6.5313, -6.532, -5.9931, -6.1756, -6.4973, -6.6467, -6.5711, -6.689, -5.6482, -6.7769, -6.4022, -6.7782, -6.6916, -6.5025, -6.6121, -6.6515, -6.5749, -6.8264, -6.7355, -6.7358, -6.827, -6.8759, -4.5808, -6.406, -6.5768, -5.822, -4.0964, -6.3803, -5.5813, -6.3232, -4.7246, -5.0821, -5.04, -5.6806, -5.7075, -4.5499, -5.7342, -5.7935, -4.7145, -4.5723, -4.8985, -5.736, -4.2995, -5.1377, -5.77, -5.3982, -5.6697, -5.0592, -4.2373, -3.6033, -4.4559, -4.3246, -4.7619, -5.1664, -4.7821, -4.9314, -5.3817, -4.8908, -4.5098, -5.0661, -4.8926, -4.6686, -4.9839, -4.8788, -5.0738, -5.1946, -5.165, -4.4761, -6.2738, -6.3513, -6.1387, -6.4841, -6.5333, -6.7454, -6.5834, -6.4882, -6.6359, -6.5868, -6.8101, -6.6393, -6.8112, -6.7509, -6.8769, -6.7518, -6.7519, -6.6418, -6.7532, -6.951, -6.9515, -6.9518, -6.8194, -7.1087, -7.0294, -7.1133, -7.2004, -7.1136, -6.709, -4.407, -6.1454, -6.6121, -4.0843, -5.7826, -4.4499, -5.219, -6.2894, -6.006, -5.4753, -5.9294, -5.5119, -6.4122, -5.7113, -4.7585, -5.163, -5.5997, -5.6653, -5.7628, -5.0272, -4.6425, -5.9654, -5.3479, -5.2957, -5.7545, -4.9801, -4.2057, -4.3465, -4.869, -4.7059, -5.4653, -4.5785, -5.0348, -4.6558, -4.2876, -5.0491, -5.5106, -3.8866, -4.9201, -4.9762, -5.204, -4.7084, -5.0058, -4.9988, -5.1836, -4.8784, -5.1608, -5.1255, -5.1287, -5.1396], \"loglift\": [30.0, 29.0, 28.0, 27.0, 26.0, 25.0, 24.0, 23.0, 22.0, 21.0, 20.0, 19.0, 18.0, 17.0, 16.0, 15.0, 14.0, 13.0, 12.0, 11.0, 10.0, 9.0, 8.0, 7.0, 6.0, 5.0, 4.0, 3.0, 2.0, 1.0, 0.5522, 0.5512, 0.5509, 0.5465, 0.5452, 0.5441, 0.5441, 0.5412, 0.5411, 0.5404, 0.5404, 0.5402, 0.5401, 0.539, 0.5378, 0.5376, 0.5369, 0.5367, 0.5367, 0.5354, 0.535, 0.5348, 0.5345, 0.5342, 0.5339, 0.5337, 0.5336, 0.5333, 0.5331, 0.5329, 0.5204, 0.5329, 0.5319, 0.522, 0.4846, 0.5277, 0.5055, 0.526, 0.4754, 0.4857, 0.4812, 0.5042, 0.492, 0.4024, 0.4802, 0.4835, 0.4005, 0.3842, 0.4112, 0.4784, 0.3508, 0.4216, 0.4752, 0.4307, 0.4575, 0.3741, 0.2271, 0.112, 0.239, 0.1471, 0.2465, 0.3386, 0.1344, 0.1469, 0.3297, 0.0941, -0.1014, 0.1478, 0.0442, -0.2253, 0.0093, -0.2637, -0.243, -0.0146, -0.2508, 0.8369, 0.825, 0.8244, 0.8219, 0.8194, 0.8169, 0.8161, 0.8156, 0.8154, 0.8143, 0.8122, 0.812, 0.811, 0.8109, 0.8106, 0.8098, 0.8097, 0.8096, 0.8085, 0.8084, 0.8047, 0.8043, 0.8039, 0.8028, 0.8012, 0.8005, 0.7966, 0.7965, 0.7964, 0.7955, 0.7571, 0.7839, 0.7871, 0.7352, 0.7625, 0.6885, 0.7222, 0.7735, 0.7517, 0.7157, 0.7285, 0.6647, 0.7641, 0.6774, 0.5571, 0.6086, 0.6534, 0.6534, 0.663, 0.5416, 0.477, 0.6928, 0.5605, 0.5371, 0.6345, 0.4479, 0.2376, 0.2686, 0.3934, 0.3408, 0.5497, 0.2522, 0.3936, 0.2584, 0.1207, 0.3725, 0.5557, -0.1714, 0.2803, 0.1921, 0.297, -0.2367, -0.0125, -0.062, 0.1163, -0.414, 0.0192, -0.1406, -0.2123, -0.4447]}, \"token.table\": {\"Topic\": [1, 2, 1, 2, 1, 2, 1, 2, 1, 2, 1, 2, 1, 2, 1, 2, 1, 2, 1, 2, 1, 2, 1, 2, 1, 2, 1, 2, 1, 2, 1, 2, 1, 2, 1, 2, 1, 2, 1, 2, 1, 2, 1, 2, 1, 2, 1, 2, 1, 2, 1, 2, 1, 2, 1, 2, 1, 2, 1, 2, 1, 2, 1, 2, 1, 2, 1, 2, 1, 2, 1, 2, 1, 2, 1, 2, 1, 2, 1, 2, 1, 2, 1, 2, 1, 2, 1, 2, 1, 2, 1, 2, 1, 2, 1, 2, 1, 2, 1, 2, 1, 2, 1, 2, 1, 2, 1, 2, 1, 2, 1, 2, 1, 2, 1, 2, 1, 2, 1, 2, 1, 2, 1, 2, 1, 2, 1, 2, 1, 2, 1, 2, 1, 2, 1, 2, 1, 2, 1, 2, 1, 2, 1, 2, 1, 2, 1, 2, 1, 2, 1, 2, 1, 2, 1, 2, 1, 2, 1, 2, 1, 2, 1, 2, 1, 2, 1, 2, 1, 2, 1, 2, 1, 2, 1, 2, 1, 2, 1, 2, 1, 2, 1, 2, 1, 2, 1, 2, 1, 2, 1, 2, 1, 2, 1, 2, 1, 2, 1, 2, 1, 2, 1, 2, 1, 2, 1, 2, 2, 1, 2, 1, 2, 1, 2, 1, 2, 1, 2, 1, 2, 1, 2, 1, 2, 1, 2, 1, 2, 1, 2, 1, 2, 1, 2, 1, 2, 1, 2, 1, 2, 1, 2, 1, 2, 1, 2, 1, 2, 1, 2, 1, 2, 1, 2, 1, 2, 1, 2, 1, 2, 1, 2, 1, 2, 1, 2, 1, 2, 1, 2, 1, 2, 1, 2, 1, 2, 1, 2, 1, 2], \"Freq\": [0.9671554150682952, 0.03223851383560984, 0.26665383592911707, 0.7359645871643631, 0.3747119296586069, 0.6221632039614604, 0.0600868538366045, 0.961389661385672, 0.43070104113964425, 0.5667118962363741, 0.17369749933562115, 0.829888052381301, 0.6258517248231449, 0.3745973827408604, 0.06383989865396886, 0.9575984798095328, 0.9596187855037753, 0.04105321007502782, 0.10454432752917846, 0.8944348021940823, 0.4427040708297415, 0.5576368584490012, 0.21069218945566018, 0.7926039508093883, 0.9313035748613551, 0.06652168391866822, 0.9603424431177728, 0.03556823863399159, 0.5158940230222616, 0.4850943798567534, 0.12169950387963553, 0.9005763287093029, 0.9273777289100429, 0.07321403122974023, 0.09287264034314527, 0.9287264034314527, 0.14876435473723107, 0.8367994953969248, 0.4209738534194335, 0.5740552546628639, 0.07858140618354821, 0.9429768742025786, 0.30836948110958456, 0.6899113814655112, 0.08512923867090995, 0.9364216253800094, 0.7991983113889142, 0.19979957784722854, 0.980150531643636, 0.025793435043253578, 0.5195990603183418, 0.48203768246400386, 0.08697392378952426, 0.9132261997900047, 0.7296366980256599, 0.27127518259928385, 0.08175420948120174, 0.94017340903382, 0.6620775359548332, 0.3410702457949141, 0.14381055170831938, 0.8522106767900407, 0.8597100888600389, 0.1390707496685357, 0.9930946010672543, 0.012897332481392913, 0.9710227939038313, 0.030344462309494728, 0.9824713454928432, 0.04912356727464216, 0.07296592438356564, 0.9485570169863533, 0.8297619268036527, 0.17167488140765227, 0.9847272076519504, 0.046891771792950024, 0.9903423237852077, 0.04126426349105032, 0.053758658210093666, 0.9676558477816859, 0.984740444708657, 0.046892402128983664, 0.9182373554886959, 0.08054713644637683, 0.07296534673492588, 0.9485495075540366, 0.8682044221932368, 0.12982496032796065, 0.8533711209057395, 0.14569750844732138, 0.5758451758478025, 0.4238220494239826, 0.2530649497016763, 0.7476918968458619, 0.6605966532901668, 0.3389148047314769, 0.6378358540486048, 0.36191088700544577, 0.9217083151830113, 0.0781108741680518, 0.9948342888949931, 0.03684571440351826, 0.14608760019660896, 0.8521776678135522, 0.9886854843356324, 0.021493162702948532, 0.8818293676461479, 0.11686895233864612, 0.05107183653521559, 0.9703648941690962, 0.9488042189640572, 0.05500314312835114, 0.060086025379542336, 0.9613764060726774, 0.08068817145456904, 0.9144659431517825, 0.3273117065544655, 0.6688543568721687, 0.08513340446843583, 0.9364674491527941, 0.9886574506157366, 0.04298510654851029, 0.07298810909606127, 0.9123513637007657, 0.9919320416602123, 0.03967728166640849, 0.9177084917529624, 0.07930814126260169, 0.9551692804114632, 0.03820677121645853, 0.006342700989910236, 0.9894613544259968, 0.7166472332815416, 0.2850301496006131, 0.9725766431663685, 0.029472019489889954, 0.39848349206562544, 0.6025847928797263, 0.4387353130309601, 0.5618337102123085, 0.9867484199840685, 0.04485220090836675, 0.06385802863492622, 0.9259414152064303, 0.04863750467144073, 0.9727500934288146, 0.8392089548836776, 0.1598493247397481, 0.9216831802293235, 0.0781087440872308, 0.9948269168133017, 0.03684544136345562, 0.9402986020543801, 0.06066442593899227, 0.03294626542248615, 0.9883879626745846, 0.04085232391853203, 0.9804557740447688, 0.06384062870911622, 0.9576094306367434, 0.47746130814707, 0.5213657962525476, 0.8534302408013866, 0.14592330542199874, 0.90197560968444, 0.10021951218716, 0.9813839195446314, 0.025163690244734138, 0.053761865959186694, 0.9677135872653605, 0.16546424225833825, 0.8273212112916912, 0.05376048375796146, 0.9676887076433063, 0.9247242095088477, 0.07365060075734185, 0.26212218215406324, 0.737218637308303, 0.06809747010406399, 0.9533645814568957, 0.2479988005472617, 0.750355345245561, 0.03782601224792669, 0.983476318446094, 0.7246848885402795, 0.2734659956755771, 0.5607739858376933, 0.43862519684334433, 0.05675611312602907, 0.9648539231424942, 0.18602517602219065, 0.8185107744976389, 0.5964893407106474, 0.4049161217962789, 0.04642547938352169, 0.9749350670539555, 0.11887631177077485, 0.8796847071037339, 0.9934350285358841, 0.03820903955907246, 0.12207741786756479, 0.8850612795398447, 0.7934990307677046, 0.207821174724875, 0.9899543218046905, 0.013943018616967472, 0.25595044544541734, 0.7543802602601775, 0.9613140101937718, 0.4463921672296913, 0.552116627889355, 0.05107006446410973, 0.9703312248180849, 0.0874435596939619, 0.9126921543057275, 0.9924164341726185, 0.007876320906131893, 0.9671181166245176, 0.03223727055415059, 0.3630251586489126, 0.6335144925441808, 0.4545257580963458, 0.544899300641818, 0.1786141161128905, 0.8281199928870377, 0.04642741516255145, 0.9749757184135804, 0.9824775930017267, 0.049123879650086334, 0.36176951542345154, 0.6391261439147644, 0.8107968247580444, 0.1896218380482523, 0.9800862738288478, 0.025791744048127573, 0.2559624130196574, 0.7422909977570065, 0.6617850768439709, 0.3390964856555884, 0.06008546001881741, 0.9613673603010786, 0.994834669111551, 0.036845728485613, 0.1733850620662573, 0.8322482979180351, 0.9867448698912094, 0.044852039540509515, 0.9388278508428033, 0.0615624820224789, 0.9960937424906277, 0.035574776517522416, 0.98001344496566, 0.051579654998192635, 0.08513315443598586, 0.9364646987958445, 0.9604673340853346, 0.035572864225382764, 0.9709506090222323, 0.03034220653194476, 0.06384591711770078, 0.9576887567655118, 0.9886309966301565, 0.042983956375224196, 0.9903913101492943, 0.04126630458955393, 0.06008608295491389, 0.9613773272786222, 0.6527180005069784, 0.3455565885036944, 0.9551879136481298, 0.03820751654592519, 0.07296565075251495, 0.9485534597826942, 0.051084780003018006, 0.9195260400543241, 0.9727669482555898, 0.02947778631077545, 0.9690211111408892, 0.03125874552067384, 0.9216991403236146, 0.07811009663759445], \"Term\": [\"accur\", \"accur\", \"activ\", \"activ\", \"addict\", \"addict\", \"affin\", \"affin\", \"alway\", \"alway\", \"analogu\", \"analogu\", \"anoth\", \"anoth\", \"antagonist\", \"antagonist\", \"anxieti\", \"anxieti\", \"anyon\", \"anyon\", \"anyth\", \"anyth\", \"appreci\", \"appreci\", \"asleep\", \"asleep\", \"becam\", \"becam\", \"befor\", \"befor\", \"blotter\", \"blotter\", \"bodi\", \"bodi\", \"borax\", \"borax\", \"bump\", \"bump\", \"caus\", \"caus\", \"cheer\", \"cheer\", \"chemic\", \"chemic\", \"chines\", \"chines\", \"comedown\", \"comedown\", \"comeup\", \"comeup\", \"complet\", \"complet\", \"damag\", \"damag\", \"decid\", \"decid\", \"decis\", \"decis\", \"didn\", \"didn\", \"disso\", \"disso\", \"dissoci\", \"dissoci\", \"dissolv\", \"dissolv\", \"distort\", \"distort\", \"dizzi\", \"dizzi\", \"dopaminerg\", \"dopaminerg\", \"dosag\", \"dosag\", \"drift\", \"drift\", \"dropper\", \"dropper\", \"educ\", \"educ\", \"electr\", \"electr\", \"emot\", \"emot\", \"erowid\", \"erowid\", \"euphor\", \"euphor\", \"euphoria\", \"euphoria\", \"everi\", \"everi\", \"everyon\", \"everyon\", \"everyth\", \"everyth\", \"experi\", \"experi\", \"extrem\", \"extrem\", \"fade\", \"fade\", \"famili\", \"famili\", \"freebas\", \"freebas\", \"headspac\", \"headspac\", \"healthi\", \"healthi\", \"heavi\", \"heavi\", \"horribl\", \"horribl\", \"hospit\", \"hospit\", \"howev\", \"howev\", \"illeg\", \"illeg\", \"immers\", \"immers\", \"induc\", \"induc\", \"insomnia\", \"insomnia\", \"intens\", \"intens\", \"intranas\", \"intranas\", \"ketamin\", \"ketamin\", \"littl\", \"littl\", \"lucid\", \"lucid\", \"mani\", \"mani\", \"mayb\", \"mayb\", \"melt\", \"melt\", \"methyl\", \"methyl\", \"microdos\", \"microdos\", \"minut\", \"minut\", \"mipt\", \"mipt\", \"moxi\", \"moxi\", \"nausea\", \"nausea\", \"nboh\", \"nboh\", \"nbome\", \"nbome\", \"nmda\", \"nmda\", \"noth\", \"noth\", \"notic\", \"notic\", \"overal\", \"overal\", \"overwhelm\", \"overwhelm\", \"packag\", \"packag\", \"parti\", \"parti\", \"perman\", \"perman\", \"physic\", \"physic\", \"pleas\", \"pleas\", \"polic\", \"polic\", \"possibl\", \"possibl\", \"pregabalin\", \"pregabalin\", \"pretti\", \"pretti\", \"probabl\", \"probabl\", \"promis\", \"promis\", \"psych\", \"psych\", \"psychedel\", \"psychedel\", \"reagent\", \"reagent\", \"reddit\", \"reddit\", \"residu\", \"residu\", \"respons\", \"respons\", \"sedat\", \"sedat\", \"sensat\", \"sensat\", \"serotonin\", \"serotonin\", \"sert\", \"sinc\", \"sinc\", \"sneez\", \"sneez\", \"snort\", \"snort\", \"solut\", \"solut\", \"solvent\", \"solvent\", \"someon\", \"someon\", \"someth\", \"someth\", \"sourc\", \"sourc\", \"ssri\", \"ssri\", \"steadi\", \"steadi\", \"stim\", \"stim\", \"stimul\", \"stimul\", \"strang\", \"strang\", \"studi\", \"studi\", \"substanc\", \"substanc\", \"substitut\", \"substitut\", \"subtl\", \"subtl\", \"suppos\", \"suppos\", \"suppress\", \"suppress\", \"surpris\", \"surpris\", \"sweat\", \"sweat\", \"swirl\", \"swirl\", \"synthes\", \"synthes\", \"syring\", \"syring\", \"taper\", \"taper\", \"technic\", \"technic\", \"temperatur\", \"temperatur\", \"textur\", \"textur\", \"therapi\", \"therapi\", \"toler\", \"toler\", \"trippi\", \"trippi\", \"tyrosin\", \"tyrosin\", \"valu\", \"valu\", \"vapor\", \"vapor\", \"vibe\", \"vibe\", \"withdraw\", \"withdraw\"]}, \"R\": 30, \"lambda.step\": 0.01, \"plot.opts\": {\"xlab\": \"PC1\", \"ylab\": \"PC2\"}, \"topic.order\": [1, 2]};\n",
       "\n",
       "function LDAvis_load_lib(url, callback){\n",
       "  var s = document.createElement('script');\n",
       "  s.src = url;\n",
       "  s.async = true;\n",
       "  s.onreadystatechange = s.onload = callback;\n",
       "  s.onerror = function(){console.warn(\"failed to load library \" + url);};\n",
       "  document.getElementsByTagName(\"head\")[0].appendChild(s);\n",
       "}\n",
       "\n",
       "if(typeof(LDAvis) !== \"undefined\"){\n",
       "   // already loaded: just create the visualization\n",
       "   !function(LDAvis){\n",
       "       new LDAvis(\"#\" + \"ldavis_el11321407177590162889900332356\", ldavis_el11321407177590162889900332356_data);\n",
       "   }(LDAvis);\n",
       "}else if(typeof define === \"function\" && define.amd){\n",
       "   // require.js is available: use it to load d3/LDAvis\n",
       "   require.config({paths: {d3: \"https://d3js.org/d3.v5\"}});\n",
       "   require([\"d3\"], function(d3){\n",
       "      window.d3 = d3;\n",
       "      LDAvis_load_lib(\"https://cdn.jsdelivr.net/gh/bmabey/pyLDAvis@3.3.1/pyLDAvis/js/ldavis.v3.0.0.js\", function(){\n",
       "        new LDAvis(\"#\" + \"ldavis_el11321407177590162889900332356\", ldavis_el11321407177590162889900332356_data);\n",
       "      });\n",
       "    });\n",
       "}else{\n",
       "    // require.js not available: dynamically load d3 & LDAvis\n",
       "    LDAvis_load_lib(\"https://d3js.org/d3.v5.js\", function(){\n",
       "         LDAvis_load_lib(\"https://cdn.jsdelivr.net/gh/bmabey/pyLDAvis@3.3.1/pyLDAvis/js/ldavis.v3.0.0.js\", function(){\n",
       "                 new LDAvis(\"#\" + \"ldavis_el11321407177590162889900332356\", ldavis_el11321407177590162889900332356_data);\n",
       "            })\n",
       "         });\n",
       "}\n",
       "</script>"
      ],
      "text/plain": [
       "PreparedData(topic_coordinates=              x         y  topics  cluster      Freq\n",
       "topic                                               \n",
       "0      0.061037 -0.051635       1        1  57.07614\n",
       "1     -0.061037  0.051635       2        1  42.92386, topic_info=        Term        Freq       Total Category  logprob  loglift\n",
       "53     anyon  258.000000  258.000000  Default  30.0000  30.0000\n",
       "441  ketamin  157.000000  157.000000  Default  29.0000  29.0000\n",
       "708    snort  182.000000  182.000000  Default  28.0000  28.0000\n",
       "105     bodi  327.000000  327.000000  Default  27.0000  27.0000\n",
       "234    disso  187.000000  187.000000  Default  26.0000  26.0000\n",
       "..       ...         ...         ...      ...      ...      ...\n",
       "451    littl  104.517014  368.382082   Topic2  -4.8784  -0.4140\n",
       "590  probabl   78.804350  180.108212   Topic2  -5.1608   0.0192\n",
       "45     anoth   81.635842  218.901690   Topic2  -5.1255  -0.1406\n",
       "798    toler   81.371315  234.404444   Topic2  -5.1287  -0.2123\n",
       "587   pretti   80.490929  292.540942   Topic2  -5.1396  -0.4447\n",
       "\n",
       "[185 rows x 6 columns], token_table=      Topic      Freq      Term\n",
       "term                           \n",
       "8         1  0.967155     accur\n",
       "8         2  0.032239     accur\n",
       "12        1  0.266654     activ\n",
       "12        2  0.735965     activ\n",
       "14        1  0.374712    addict\n",
       "...     ...       ...       ...\n",
       "835       2  0.029478     vapor\n",
       "840       1  0.969021      vibe\n",
       "840       2  0.031259      vibe\n",
       "862       1  0.921699  withdraw\n",
       "862       2  0.078110  withdraw\n",
       "\n",
       "[281 rows x 3 columns], R=30, lambda_step=0.01, plot_opts={'xlab': 'PC1', 'ylab': 'PC2'}, topic_order=[1, 2])"
      ]
     },
     "execution_count": 171,
     "metadata": {},
     "output_type": "execute_result"
    }
   ],
   "source": [
    "pyLDAvis.sklearn.prepare(lda_tf, dtm_tf, tf_vectorizer, mds='mmds')\n"
   ]
  },
  {
   "cell_type": "code",
   "execution_count": 161,
   "id": "f67b5db2",
   "metadata": {},
   "outputs": [
    {
     "name": "stderr",
     "output_type": "stream",
     "text": [
      "/opt/anaconda3/lib/python3.8/site-packages/ipykernel/ipkernel.py:287: DeprecationWarning: `should_run_async` will not call `transform_cell` automatically in the future. Please pass the result to `transformed_cell` argument and any exception that happen during thetransform in `preprocessing_exc_tuple` in IPython 7.17 and above.\n",
      "  and should_run_async(code)\n"
     ]
    }
   ],
   "source": [
    "X = tf_vectorizer.fit_transform(data.drugsremoved)\n",
    "\n",
    "vocab = tf_vectorizer.get_feature_names()\n",
    "\n",
    "n_top_words = 5\n",
    "k = 2\n",
    "\n",
    "model = LatentDirichletAllocation(k, random_state=100)\n",
    "\n",
    "id_topic = model.fit_transform(X)\n",
    "\n",
    "topic_words = {}\n",
    "\n",
    "for topic, comp in enumerate(model.components_):\n",
    "    # for the n-dimensional array \"arr\":\n",
    "    # argsort() returns a ranked n-dimensional array of arr, call it \"ranked_array\"\n",
    "    # which contains the indices that would sort arr in a descending fashion\n",
    "    # for the ith element in ranked_array, ranked_array[i] represents the index of the\n",
    "    # element in arr that should be at the ith index in ranked_array\n",
    "    # ex. arr = [3,7,1,0,3,6]\n",
    "    # np.argsort(arr) -> [3, 2, 0, 4, 5, 1]\n",
    "    # word_idx contains the indices in \"topic\" of the top num_top_words most relevant\n",
    "    # to a given topic ... it is sorted ascending to begin with and then reversed (desc. now)    \n",
    "    word_idx = np.argsort(comp)[::-1][:n_top_words]\n",
    "\n",
    "    # store the words most relevant to the topic\n",
    "    topic_words[topic] = [vocab[i] for i in word_idx]\n"
   ]
  },
  {
   "cell_type": "code",
   "execution_count": 162,
   "id": "51c8bdc6",
   "metadata": {},
   "outputs": [
    {
     "name": "stderr",
     "output_type": "stream",
     "text": [
      "/opt/anaconda3/lib/python3.8/site-packages/ipykernel/ipkernel.py:287: DeprecationWarning: `should_run_async` will not call `transform_cell` automatically in the future. Please pass the result to `transformed_cell` argument and any exception that happen during thetransform in `preprocessing_exc_tuple` in IPython 7.17 and above.\n",
      "  and should_run_async(code)\n"
     ]
    },
    {
     "data": {
      "text/plain": [
       "{0: ['becaus', 'realli', 'onli', 'experi', 'substanc'],\n",
       " 1: ['veri', 'experi', 'realli', 'bodi', 'becaus']}"
      ]
     },
     "execution_count": 162,
     "metadata": {},
     "output_type": "execute_result"
    }
   ],
   "source": [
    "topic_words"
   ]
  },
  {
   "cell_type": "code",
   "execution_count": null,
   "id": "e4f1e10c",
   "metadata": {},
   "outputs": [],
   "source": []
  }
 ],
 "metadata": {
  "kernelspec": {
   "display_name": "Python 3",
   "language": "python",
   "name": "python3"
  },
  "language_info": {
   "codemirror_mode": {
    "name": "ipython",
    "version": 3
   },
   "file_extension": ".py",
   "mimetype": "text/x-python",
   "name": "python",
   "nbconvert_exporter": "python",
   "pygments_lexer": "ipython3",
   "version": "3.8.8"
  }
 },
 "nbformat": 4,
 "nbformat_minor": 5
}
